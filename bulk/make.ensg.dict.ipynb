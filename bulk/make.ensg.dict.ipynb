{
 "cells": [
  {
   "cell_type": "markdown",
   "metadata": {},
   "source": [
    "### Make ENSG Dictionary\n",
    "Make a dictionary to map the ENSG IDs (with which I regretably ran htseq-count) to the actual gene names."
   ]
  },
  {
   "cell_type": "code",
   "execution_count": 6,
   "metadata": {},
   "outputs": [],
   "source": [
    "import pandas as pd\n",
    "from tqdm.notebook import tqdm\n",
    "import numpy as np\n",
    "import pickle as pkl"
   ]
  },
  {
   "cell_type": "code",
   "execution_count": 9,
   "metadata": {},
   "outputs": [],
   "source": [
    "prefix = '/data/codec/bulk.jan20/'"
   ]
  },
  {
   "cell_type": "markdown",
   "metadata": {},
   "source": [
    "Use some Jupyter magic to run bash to get parse the `genes.gtf` file."
   ]
  },
  {
   "cell_type": "code",
   "execution_count": 3,
   "metadata": {},
   "outputs": [],
   "source": [
    "skiplines = !head -n 100 {prefix}\"genes.gtf\" | grep \"#\" | wc -l\n",
    "skiplines = int(skiplines[0])\n",
    "\n",
    "total = !wc -l {prefix}\"genes.gtf\"\n",
    "total = int(total[0].split(\" \")[0]) - skiplines"
   ]
  },
  {
   "cell_type": "markdown",
   "metadata": {},
   "source": [
    "Read out the ENSG ID and gene name and create a dictionary."
   ]
  },
  {
   "cell_type": "code",
   "execution_count": 4,
   "metadata": {},
   "outputs": [
    {
     "data": {
      "application/vnd.jupyter.widget-view+json": {
       "model_id": "943daf16841948738fdd9444a9ee83d4",
       "version_major": 2,
       "version_minor": 0
      },
      "text/plain": [
       "HBox(children=(IntProgress(value=0, max=2565061), HTML(value='')))"
      ]
     },
     "metadata": {},
     "output_type": "display_data"
    },
    {
     "name": "stdout",
     "output_type": "stream",
     "text": [
      "\n"
     ]
    }
   ],
   "source": [
    "ensgdict = dict()\n",
    "with open(prefix + \"genes.gtf\", 'r') as file:\n",
    "    for _ in range(skiplines):\n",
    "        file.readline()\n",
    "    for line in tqdm(file, total=total):\n",
    "        try:\n",
    "            info = [j for j in [i.strip(' ').split(' ') for i in line.strip().split('\\t')[8].split(';')] if len(j) == 2]\n",
    "            info = dict(info)\n",
    "            ensgdict[info['gene_id'].strip('\"')] = info['gene_name'].strip('\"')\n",
    "        except ValueError:\n",
    "            break"
   ]
  },
  {
   "cell_type": "markdown",
   "metadata": {},
   "source": [
    "Save the dictionary in a pickle."
   ]
  },
  {
   "cell_type": "code",
   "execution_count": 10,
   "metadata": {},
   "outputs": [],
   "source": [
    "with open(prefix + \"ensgdict.pkl\", 'wb') as file:\n",
    "    pkl.dump(ensgdict,file)"
   ]
  }
 ],
 "metadata": {
  "kernelspec": {
   "display_name": "sudoku",
   "language": "python",
   "name": "sudoku"
  },
  "language_info": {
   "codemirror_mode": {
    "name": "ipython",
    "version": 3
   },
   "file_extension": ".py",
   "mimetype": "text/x-python",
   "name": "python",
   "nbconvert_exporter": "python",
   "pygments_lexer": "ipython3",
   "version": "3.6.7"
  }
 },
 "nbformat": 4,
 "nbformat_minor": 4
}
