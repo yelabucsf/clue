{
 "cells": [
  {
   "cell_type": "markdown",
   "metadata": {},
   "source": [
    "# Introduction\n",
    "Here, I import the raw matrices from the ADTs and export as a single object across all wells."
   ]
  },
  {
   "cell_type": "markdown",
   "metadata": {},
   "source": [
    "# Setup"
   ]
  },
  {
   "cell_type": "code",
   "execution_count": 1,
   "metadata": {},
   "outputs": [],
   "source": [
    "import scanpy as sc\n",
    "import pandas as pd \n",
    "import numpy as np\n",
    "import matplotlib.pyplot as plt\n",
    "from tqdm.notebook import tqdm\n",
    "from scipy import sparse\n",
    "import warnings\n",
    "import itertools as it\n",
    "import json\n",
    "import seaborn as sns\n",
    "import pickle as pkl\n",
    "from functools import reduce\n",
    "import gc\n",
    "import timeit\n",
    "\n",
    "from nero import Octavia\n",
    "from nero import Nero as nr"
   ]
  },
  {
   "cell_type": "code",
   "execution_count": 2,
   "metadata": {},
   "outputs": [],
   "source": [
    "sc.settings.verbosity = 4\n",
    "sc.settings.set_figure_params(dpi=80)\n",
    "sc.settings.n_jobs=30"
   ]
  },
  {
   "cell_type": "code",
   "execution_count": 3,
   "metadata": {},
   "outputs": [],
   "source": [
    "mountpoint = '/data/clue/'\n",
    "prefix_adts = mountpoint + 'prod/adts/'\n",
    "prefix_mrna = mountpoint + 'prod/mrna/'\n",
    "prefix_comb = mountpoint + 'prod/comb/'"
   ]
  },
  {
   "cell_type": "markdown",
   "metadata": {},
   "source": [
    "## Load in the Data"
   ]
  },
  {
   "cell_type": "code",
   "execution_count": 4,
   "metadata": {},
   "outputs": [
    {
     "name": "stdout",
     "output_type": "stream",
     "text": [
      "reading /data/clue/prod/adts/cr/well1/outs/raw_feature_bc_matrix.h5\n",
      " (0:00:07)\n",
      "reading /data/clue/prod/adts/cr/well2/outs/raw_feature_bc_matrix.h5\n",
      " (0:00:07)\n",
      "reading /data/clue/prod/adts/cr/well3/outs/raw_feature_bc_matrix.h5\n",
      " (0:00:07)\n",
      "reading /data/clue/prod/adts/cr/well4/outs/raw_feature_bc_matrix.h5\n",
      " (0:00:07)\n",
      "reading /data/clue/prod/adts/cr/well5/outs/raw_feature_bc_matrix.h5\n",
      " (0:00:07)\n",
      "reading /data/clue/prod/adts/cr/well6/outs/raw_feature_bc_matrix.h5\n",
      " (0:00:07)\n",
      "reading /data/clue/prod/adts/cr/well7/outs/raw_feature_bc_matrix.h5\n",
      " (0:00:07)\n",
      "reading /data/clue/prod/adts/cr/well8/outs/raw_feature_bc_matrix.h5\n",
      " (0:00:07)\n",
      "reading /data/clue/prod/adts/cr/well9/outs/raw_feature_bc_matrix.h5\n",
      " (0:00:07)\n",
      "reading /data/clue/prod/adts/cr/well10/outs/raw_feature_bc_matrix.h5\n",
      " (0:00:07)\n",
      "reading /data/clue/prod/adts/cr/well11/outs/raw_feature_bc_matrix.h5\n",
      " (0:00:07)\n",
      "reading /data/clue/prod/adts/cr/well12/outs/raw_feature_bc_matrix.h5\n",
      " (0:00:07)\n"
     ]
    }
   ],
   "source": [
    "wells = dict()\n",
    "for well in range(12):\n",
    "    wells[well] = dict()\n",
    "    wells[well]['adata'] = sc.read_10x_h5(prefix_adts + \"cr/well%d/outs/raw_feature_bc_matrix.h5\" % (well + 1))\n",
    "    wells[well]['adata'].var_names_make_unique()"
   ]
  },
  {
   "cell_type": "markdown",
   "metadata": {},
   "source": [
    "Also load in the barcodes from the mRNA, so I can subset and avoid having these giant matrices in memory, though they are sparse so it's not too bad."
   ]
  },
  {
   "cell_type": "code",
   "execution_count": 5,
   "metadata": {},
   "outputs": [],
   "source": [
    "path = prefix_mrna + 'vals/concat_bcs.txt'\n",
    "\n",
    "with open(path,'r') as file:\n",
    "    bcs = ['-'.join(i.strip().split('-')[:2]) for i in file.readlines()]"
   ]
  },
  {
   "cell_type": "markdown",
   "metadata": {},
   "source": [
    "### Adjust Cell Barcodes\n",
    "\n",
    "I'm adjusting the cell barcodes to make them match their well number, which I also did with the mRNA."
   ]
  },
  {
   "cell_type": "code",
   "execution_count": 7,
   "metadata": {},
   "outputs": [
    {
     "data": {
      "application/vnd.jupyter.widget-view+json": {
       "model_id": "63391d67cc4246609927ab437184d235",
       "version_major": 2,
       "version_minor": 0
      },
      "text/plain": [
       "  0%|          | 0/12 [00:00<?, ?it/s]"
      ]
     },
     "metadata": {},
     "output_type": "display_data"
    }
   ],
   "source": [
    "for well in tqdm(wells):\n",
    "    wells[well]['adata'].obs_names = [i[:16] + '-%s' % well for i in wells[well]['adata'].obs_names]"
   ]
  },
  {
   "cell_type": "markdown",
   "metadata": {},
   "source": [
    "Subsetting based on the mRNA barcodes."
   ]
  },
  {
   "cell_type": "code",
   "execution_count": 8,
   "metadata": {},
   "outputs": [
    {
     "data": {
      "application/vnd.jupyter.widget-view+json": {
       "model_id": "ae5b737e08de4f36a689c53dcb1516f2",
       "version_major": 2,
       "version_minor": 0
      },
      "text/plain": [
       "  0%|          | 0/12 [00:00<?, ?it/s]"
      ]
     },
     "metadata": {},
     "output_type": "display_data"
    }
   ],
   "source": [
    "for well in tqdm(wells):\n",
    "    wells[well]['adata'] = wells[well]['adata'][[i for i in bcs if int(i.split('-')[-1]) == well]]"
   ]
  },
  {
   "cell_type": "markdown",
   "metadata": {},
   "source": [
    "Going to use the `filter_cells` and `filter_genes` functions just to get the `n_counts` column in the `.obs` and `.var`. Not actually filtering, since I'm setting my thresholds to 0."
   ]
  },
  {
   "cell_type": "code",
   "execution_count": 12,
   "metadata": {},
   "outputs": [
    {
     "name": "stderr",
     "output_type": "stream",
     "text": [
      "Trying to set attribute `.obs` of view, copying.\n",
      "Trying to set attribute `.obs` of view, copying.\n",
      "Trying to set attribute `.obs` of view, copying.\n",
      "Trying to set attribute `.obs` of view, copying.\n",
      "Trying to set attribute `.obs` of view, copying.\n",
      "Trying to set attribute `.obs` of view, copying.\n",
      "Trying to set attribute `.obs` of view, copying.\n",
      "Trying to set attribute `.obs` of view, copying.\n",
      "Trying to set attribute `.obs` of view, copying.\n",
      "Trying to set attribute `.obs` of view, copying.\n",
      "Trying to set attribute `.obs` of view, copying.\n",
      "Trying to set attribute `.obs` of view, copying.\n"
     ]
    }
   ],
   "source": [
    "for well in wells:\n",
    "    sc.pp.filter_cells(wells[well]['adata'], min_counts=0)\n",
    "    sc.pp.filter_genes(wells[well]['adata'], min_counts=0)"
   ]
  },
  {
   "cell_type": "markdown",
   "metadata": {},
   "source": [
    "# Concatenate"
   ]
  },
  {
   "cell_type": "code",
   "execution_count": 13,
   "metadata": {},
   "outputs": [],
   "source": [
    "concat_adts = wells[0]['adata'].concatenate(*[wells[i]['adata'] for i in range(1,12)])"
   ]
  },
  {
   "cell_type": "code",
   "execution_count": 14,
   "metadata": {},
   "outputs": [],
   "source": [
    "concat_adts.var['n_counts'] = concat_adts.var[[i for i in concat_adts.var.columns if i.startswith('n_counts')]].sum(axis=1)"
   ]
  },
  {
   "cell_type": "markdown",
   "metadata": {},
   "source": [
    "# Filter Proteins\n",
    "\n",
    "We often see that a few proteins have much lower counts than the rest. I remove those as they're usually not meaningful."
   ]
  },
  {
   "cell_type": "code",
   "execution_count": 15,
   "metadata": {},
   "outputs": [
    {
     "data": {
      "image/png": "[encoded data removed]",
      "text/plain": [
       "<Figure size 640x480 with 1 Axes>"
      ]
     },
     "metadata": {
      "image/png": {
       "height": 404,
       "width": 532
      },
      "needs_background": "light"
     },
     "output_type": "display_data"
    }
   ],
   "source": [
    "plt.figure(figsize=(8,6))\n",
    "plt.hist(concat_adts.var['n_counts'].values, color='k', bins=np.logspace(np.log10(1e2),np.log10(1e8), 100))\n",
    "plt.grid(False)\n",
    "plt.grid(True, 'both', 'both')\n",
    "plt.xscale('log')"
   ]
  },
  {
   "cell_type": "markdown",
   "metadata": {},
   "source": [
    "Going to only keep those proteins with counts > 100K, since the ones below that are probably not real."
   ]
  },
  {
   "cell_type": "code",
   "execution_count": 16,
   "metadata": {},
   "outputs": [],
   "source": [
    "concat_adts = concat_adts[:,concat_adts.var['n_counts'] > 1e5].copy()"
   ]
  },
  {
   "cell_type": "markdown",
   "metadata": {},
   "source": [
    "# Export"
   ]
  },
  {
   "cell_type": "code",
   "execution_count": 13,
   "metadata": {},
   "outputs": [],
   "source": [
    "path = prefix + 'pkls/concat_adts.pkl'\n",
    "\n",
    "# with open(path,'wb') as file:\n",
    "#     pkl.dump(concat_adts, file)\n",
    "\n",
    "with open(path,'rb') as file:\n",
    "    concat_adts = pkl.load(file)"
   ]
  }
 ],
 "metadata": {
  "kernelspec": {
   "display_name": "clue",
   "language": "python",
   "name": "clue"
  },
  "language_info": {
   "codemirror_mode": {
    "name": "ipython",
    "version": 3
   },
   "file_extension": ".py",
   "mimetype": "text/x-python",
   "name": "python",
   "nbconvert_exporter": "python",
   "pygments_lexer": "ipython3",
   "version": "3.6.10"
  }
 },
 "nbformat": 4,
 "nbformat_minor": 4
}
