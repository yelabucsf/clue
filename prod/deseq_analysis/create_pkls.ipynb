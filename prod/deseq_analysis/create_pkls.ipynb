{
 "cells": [
  {
   "cell_type": "markdown",
   "metadata": {},
   "source": [
    "# Introduction\n",
    "Use this notebook to create the pickled version of the DESeq2 data for later loading in other notebooks."
   ]
  },
  {
   "cell_type": "markdown",
   "metadata": {},
   "source": [
    "# Setup"
   ]
  },
  {
   "cell_type": "code",
   "execution_count": 1,
   "metadata": {},
   "outputs": [],
   "source": [
    "import scanpy as sc\n",
    "import pandas as pd \n",
    "import numpy as np\n",
    "import matplotlib.pyplot as plt\n",
    "from tqdm.notebook import tqdm\n",
    "from scipy import sparse\n",
    "import warnings\n",
    "import itertools as it\n",
    "import json\n",
    "import seaborn as sns\n",
    "import pickle as pkl\n",
    "from functools import reduce\n",
    "import gc\n",
    "import timeit\n",
    "import os\n",
    "\n",
    "from nero import Nero as nr"
   ]
  },
  {
   "cell_type": "code",
   "execution_count": 2,
   "metadata": {},
   "outputs": [],
   "source": [
    "sc.settings.verbosity = 4\n",
    "sc.settings.set_figure_params(dpi=80)\n",
    "sc.settings.n_jobs=30"
   ]
  },
  {
   "cell_type": "code",
   "execution_count": 3,
   "metadata": {},
   "outputs": [],
   "source": [
    "mountpoint = '/data/clue/'\n",
    "prefix_adts = mountpoint + 'prod/adts/'\n",
    "prefix_mrna = mountpoint + 'prod/mrna/'\n",
    "prefix_comb = mountpoint + 'prod/comb/'"
   ]
  },
  {
   "cell_type": "markdown",
   "metadata": {},
   "source": [
    "# Load in Data"
   ]
  },
  {
   "cell_type": "code",
   "execution_count": 4,
   "metadata": {},
   "outputs": [
    {
     "name": "stdout",
     "output_type": "stream",
     "text": [
      "/data/clue/prod/mrna/vals/de/\n",
      "/data/clue/prod/mrna/vals/de/IFNs\n",
      "/data/clue/prod/mrna/vals/de/IFNs/ct2\n",
      "/data/clue/prod/mrna/vals/de/IFNs/ct2/input\n",
      "/data/clue/prod/mrna/vals/de/IFNs/ct2/res\n",
      "/data/clue/prod/mrna/vals/de/IFNs/ct3\n",
      "/data/clue/prod/mrna/vals/de/IFNs/ct3/input\n",
      "/data/clue/prod/mrna/vals/de/IFNs/ct3/res\n",
      "/data/clue/prod/mrna/vals/de/all\n",
      "/data/clue/prod/mrna/vals/de/all/ct2\n",
      "/data/clue/prod/mrna/vals/de/all/ct2/input\n",
      "/data/clue/prod/mrna/vals/de/all/ct2/res\n",
      "/data/clue/prod/mrna/vals/de/all/ct3\n",
      "/data/clue/prod/mrna/vals/de/all/ct3/input\n",
      "/data/clue/prod/mrna/vals/de/all/ct3/res\n",
      "/data/clue/prod/adts/vals/de/\n",
      "/data/clue/prod/adts/vals/de/IFNs\n",
      "/data/clue/prod/adts/vals/de/IFNs/ct2\n",
      "/data/clue/prod/adts/vals/de/IFNs/ct2/input\n",
      "/data/clue/prod/adts/vals/de/IFNs/ct2/res\n",
      "/data/clue/prod/adts/vals/de/IFNs/ct3\n",
      "/data/clue/prod/adts/vals/de/IFNs/ct3/input\n",
      "/data/clue/prod/adts/vals/de/IFNs/ct3/res\n",
      "/data/clue/prod/adts/vals/de/all\n",
      "/data/clue/prod/adts/vals/de/all/ct2\n",
      "/data/clue/prod/adts/vals/de/all/ct2/input\n",
      "/data/clue/prod/adts/vals/de/all/ct2/res\n",
      "/data/clue/prod/adts/vals/de/all/ct3\n",
      "/data/clue/prod/adts/vals/de/all/ct3/input\n",
      "/data/clue/prod/adts/vals/de/all/ct3/res\n"
     ]
    }
   ],
   "source": [
    "print('\\n'.join([i[0] for i in os.walk(prefix_mrna + 'vals/de/')]))\n",
    "print('\\n'.join([i[0] for i in os.walk(prefix_adts + 'vals/de/')]))"
   ]
  },
  {
   "cell_type": "markdown",
   "metadata": {},
   "source": [
    "# Export"
   ]
  },
  {
   "cell_type": "code",
   "execution_count": 5,
   "metadata": {},
   "outputs": [
    {
     "data": {
      "application/vnd.jupyter.widget-view+json": {
       "model_id": "67e6825154594cd6855a4e2562b492c4",
       "version_major": 2,
       "version_minor": 0
      },
      "text/plain": [
       "  0%|          | 0/4 [00:00<?, ?it/s]"
      ]
     },
     "metadata": {},
     "output_type": "display_data"
    },
    {
     "data": {
      "application/vnd.jupyter.widget-view+json": {
       "model_id": "a981e819fbe14c29a67570800fff9b04",
       "version_major": 2,
       "version_minor": 0
      },
      "text/plain": [
       "  0%|          | 0/4 [00:00<?, ?it/s]"
      ]
     },
     "metadata": {},
     "output_type": "display_data"
    }
   ],
   "source": [
    "for (prefix, modality) in zip([prefix_mrna, prefix_adts], ['mrna', 'adts']):\n",
    "    de = list()\n",
    "    for analysis, ct_type in tqdm(it.product(['IFNs', 'all'], ['ct2', 'ct3']), total=2**2):\n",
    "        prefix_de = prefix + 'vals/de/' + analysis + '/' + ct_type + '/res/'\n",
    "        for fname in os.listdir(prefix_de):\n",
    "            cond, ct = fname.split('.')[0].split('_', 1)\n",
    "            de_df = pd.read_csv(prefix_de + fname, index_col=0).dropna() \n",
    "            de_df.rename({'log2FoldChange': 'l2fc'}, axis=1, inplace=True) # name too long\n",
    "            de_df['abs(l2fc)'] = de_df['l2fc'].abs()\n",
    "            \n",
    "            # To avoid divide by zero in log10, I mark the ones that have padj == 0 and then \n",
    "            # replace them with the next smallest pvalue\n",
    "            de_df['padj0'] = (de_df['padj'] == 0.0)\n",
    "            replace_zero = np.ceil(-np.log10(de_df['padj'][de_df['padj'] != 0.0].min()))\n",
    "            de_df['padj'].replace(0.0, 10**-replace_zero, inplace=True)\n",
    "            \n",
    "            de_df['-log10p'] = -np.log10(de_df['padj'])\n",
    "            de_df['mod'], de_df['anlys'], de_df['cttype'], de_df['cond'], de_df['ct'] = modality, analysis, ct_type, cond, ct\n",
    "            de.append(de_df)\n",
    "    de = pd.concat(de, axis=0)\n",
    "    de.to_pickle(prefix + 'pkls/de.pkl')"
   ]
  },
  {
   "cell_type": "code",
   "execution_count": 6,
   "metadata": {},
   "outputs": [],
   "source": [
    "de = pd.read_pickle(prefix_mrna + 'pkls/de.pkl')"
   ]
  },
  {
   "cell_type": "code",
   "execution_count": 7,
   "metadata": {},
   "outputs": [],
   "source": [
    "de = pd.read_pickle(prefix_adts + 'pkls/de.pkl')"
   ]
  }
 ],
 "metadata": {
  "kernelspec": {
   "display_name": "clue",
   "language": "python",
   "name": "clue"
  },
  "language_info": {
   "codemirror_mode": {
    "name": "ipython",
    "version": 3
   },
   "file_extension": ".py",
   "mimetype": "text/x-python",
   "name": "python",
   "nbconvert_exporter": "python",
   "pygments_lexer": "ipython3",
   "version": "3.6.10"
  }
 },
 "nbformat": 4,
 "nbformat_minor": 4
}
