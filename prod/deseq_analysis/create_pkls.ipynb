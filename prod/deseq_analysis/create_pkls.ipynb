{
 "cells": [
  {
   "cell_type": "markdown",
   "metadata": {},
   "source": [
    "# Introduction\n",
    "Use this notebook to create the pickled version of the DESeq2 data for later loading in other notebooks."
   ]
  },
  {
   "cell_type": "markdown",
   "metadata": {},
   "source": [
    "# Setup"
   ]
  },
  {
   "cell_type": "code",
   "execution_count": 1,
   "metadata": {},
   "outputs": [],
   "source": [
    "import scanpy as sc\n",
    "import pandas as pd \n",
    "import numpy as np\n",
    "import matplotlib.pyplot as plt\n",
    "from tqdm.notebook import tqdm\n",
    "from scipy import sparse\n",
    "import warnings\n",
    "import itertools as it\n",
    "import json\n",
    "import seaborn as sns\n",
    "import pickle as pkl\n",
    "from functools import reduce\n",
    "import gc\n",
    "import timeit\n",
    "import os\n",
    "\n",
    "from nero import Nero as nr"
   ]
  },
  {
   "cell_type": "code",
   "execution_count": 2,
   "metadata": {},
   "outputs": [],
   "source": [
    "sc.settings.verbosity = 4\n",
    "sc.settings.set_figure_params(dpi=80)\n",
    "sc.settings.n_jobs=30"
   ]
  },
  {
   "cell_type": "code",
   "execution_count": 3,
   "metadata": {},
   "outputs": [],
   "source": [
    "mountpoint = '/data/clue/'\n",
    "prefix_adts = mountpoint + 'prod/adts/'\n",
    "prefix_mrna = mountpoint + 'prod/mrna/'\n",
    "prefix_comb = mountpoint + 'prod/comb/'"
   ]
  },
  {
   "cell_type": "markdown",
   "metadata": {},
   "source": [
    "# Load in Data"
   ]
  },
  {
   "cell_type": "markdown",
   "metadata": {},
   "source": [
    "## mRNA"
   ]
  },
  {
   "cell_type": "code",
   "execution_count": 4,
   "metadata": {},
   "outputs": [],
   "source": [
    "de_dirs = os.listdir(prefix_mrna + 'vals/de/')"
   ]
  },
  {
   "cell_type": "code",
   "execution_count": 5,
   "metadata": {},
   "outputs": [],
   "source": [
    "de = dict() # differential expression dictionary\n",
    "for de_dir in de_dirs:\n",
    "    de[de_dir] = dict()\n",
    "    for ct_type in ['ct2', 'ct3']:\n",
    "        de[de_dir][ct_type] = dict()"
   ]
  },
  {
   "cell_type": "code",
   "execution_count": 6,
   "metadata": {},
   "outputs": [
    {
     "data": {
      "application/vnd.jupyter.widget-view+json": {
       "model_id": "95c76bc06ba04e06ac6feb20e69ebe43",
       "version_major": 2,
       "version_minor": 0
      },
      "text/plain": [
       "  0%|          | 0/4 [00:00<?, ?it/s]"
      ]
     },
     "metadata": {},
     "output_type": "display_data"
    }
   ],
   "source": [
    "for de_dir, ct_type in tqdm(it.product(de_dirs, ['ct2', 'ct3']), total=4):\n",
    "    prefix_de = prefix_mrna + 'vals/de/' + de_dir + '/' + ct_type + '/res/'\n",
    "    for fname in os.listdir(prefix_de):\n",
    "        cond, ct = fname.split('.')[0].split('_', 1)\n",
    "        try:\n",
    "            de[de_dir][ct_type][cond]\n",
    "        except KeyError:\n",
    "            de[de_dir][ct_type][cond] = dict()\n",
    "        de[de_dir][ct_type][cond][ct] = pd.read_csv(prefix_de + fname, index_col=0).dropna()  "
   ]
  },
  {
   "cell_type": "code",
   "execution_count": 7,
   "metadata": {},
   "outputs": [],
   "source": [
    "try:\n",
    "    os.mkdir(prefix_mrna + 'pkls/de/')\n",
    "except FileExistsError:\n",
    "    pass"
   ]
  },
  {
   "cell_type": "code",
   "execution_count": 8,
   "metadata": {},
   "outputs": [],
   "source": [
    "# with open(prefix_mrna + 'pkls/de/IFNs.pkl', 'wb') as file:\n",
    "#     pkl.dump(de['IFNs'], file)\n",
    "# with open(prefix_mrna + 'pkls/de/all.pkl', 'wb') as file:\n",
    "#     pkl.dump(de['all'], file)\n",
    "\n",
    "de = dict()\n",
    "with open(prefix_mrna + 'pkls/de/IFNs.pkl', 'rb') as file:\n",
    "    de['IFNs'] = pkl.load(file)\n",
    "with open(prefix_mrna + 'pkls/de/all.pkl', 'rb') as file:\n",
    "    de['all'] = pkl.load(file)"
   ]
  },
  {
   "cell_type": "markdown",
   "metadata": {},
   "source": [
    "## ADTs"
   ]
  },
  {
   "cell_type": "code",
   "execution_count": 14,
   "metadata": {},
   "outputs": [],
   "source": [
    "de_dirs = os.listdir(prefix_adts + 'vals/de/')"
   ]
  },
  {
   "cell_type": "code",
   "execution_count": 15,
   "metadata": {},
   "outputs": [],
   "source": [
    "de = dict() # differential expression dictionary\n",
    "for de_dir in de_dirs:\n",
    "    de[de_dir] = dict()\n",
    "    for ct_type in ['ct2', 'ct3']:\n",
    "        de[de_dir][ct_type] = dict()"
   ]
  },
  {
   "cell_type": "code",
   "execution_count": 16,
   "metadata": {},
   "outputs": [
    {
     "data": {
      "application/vnd.jupyter.widget-view+json": {
       "model_id": "6cb063e14c3a415194ed3e79e88039bb",
       "version_major": 2,
       "version_minor": 0
      },
      "text/plain": [
       "  0%|          | 0/4 [00:00<?, ?it/s]"
      ]
     },
     "metadata": {},
     "output_type": "display_data"
    }
   ],
   "source": [
    "for de_dir, ct_type in tqdm(it.product(de_dirs, ['ct2', 'ct3']), total=4):\n",
    "    prefix_de = prefix_adts + 'vals/de/' + de_dir + '/' + ct_type + '/res/'\n",
    "    for fname in os.listdir(prefix_de):\n",
    "        cond, ct = fname.split('.')[0].split('_', 1)\n",
    "        try:\n",
    "            de[de_dir][ct_type][cond]\n",
    "        except KeyError:\n",
    "            de[de_dir][ct_type][cond] = dict()\n",
    "        de[de_dir][ct_type][cond][ct] = pd.read_csv(prefix_de + fname, index_col=0).dropna()  "
   ]
  },
  {
   "cell_type": "code",
   "execution_count": 17,
   "metadata": {},
   "outputs": [],
   "source": [
    "try:\n",
    "    os.mkdir(prefix_adts + 'pkls/de/')\n",
    "except FileExistsError:\n",
    "    pass"
   ]
  },
  {
   "cell_type": "code",
   "execution_count": 18,
   "metadata": {},
   "outputs": [],
   "source": [
    "# with open(prefix_adts + 'pkls/de/IFNs.pkl', 'wb') as file:\n",
    "#     pkl.dump(de['IFNs'], file)\n",
    "# with open(prefix_adts + 'pkls/de/all.pkl', 'wb') as file:\n",
    "#     pkl.dump(de['all'], file)\n",
    "\n",
    "de = dict()\n",
    "with open(prefix_adts + 'pkls/de/IFNs.pkl', 'rb') as file:\n",
    "    de['IFNs'] = pkl.load(file)\n",
    "with open(prefix_adts + 'pkls/de/all.pkl', 'rb') as file:\n",
    "    de['all'] = pkl.load(file)"
   ]
  }
 ],
 "metadata": {
  "kernelspec": {
   "display_name": "clue",
   "language": "python",
   "name": "clue"
  },
  "language_info": {
   "codemirror_mode": {
    "name": "ipython",
    "version": 3
   },
   "file_extension": ".py",
   "mimetype": "text/x-python",
   "name": "python",
   "nbconvert_exporter": "python",
   "pygments_lexer": "ipython3",
   "version": "3.6.10"
  }
 },
 "nbformat": 4,
 "nbformat_minor": 4
}
