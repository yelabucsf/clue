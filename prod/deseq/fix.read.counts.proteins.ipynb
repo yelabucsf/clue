{
 "cells": [
  {
   "cell_type": "markdown",
   "metadata": {},
   "source": [
    "### Format Pseudobulked Read Counts for DESeq2"
   ]
  },
  {
   "cell_type": "markdown",
   "metadata": {},
   "source": [
    "I would like to analyze my data in DESeq2. In order to do this, I'm following the vignettes online, but I've realized that in order to use the recommended models (for a time course experiment with multiple conditions), I need a \"full rank\" sample matrix. Because we only performed 1 conditon per individual at time t=0, DESeq2 doesn't allow me to load in _all_ of the data natively. Therefore, in order to capture the effect at time t=0, I would like to just copy those counts multiple times and just create a bunch of separate counts matrices, and then perform DESeq2 multiple times, one for each condition as compared to control. "
   ]
  },
  {
   "cell_type": "code",
   "execution_count": 1,
   "metadata": {},
   "outputs": [],
   "source": [
    "import pandas as pd\n",
    "import pickle as pkl\n",
    "import numpy as np\n",
    "from tqdm.notebook import tqdm"
   ]
  },
  {
   "cell_type": "code",
   "execution_count": 2,
   "metadata": {},
   "outputs": [],
   "source": [
    "prefix = '/data/codec/production.run/'"
   ]
  },
  {
   "cell_type": "code",
   "execution_count": 3,
   "metadata": {},
   "outputs": [],
   "source": [
    "counts = pd.read_pickle(prefix + 'adts/pkls/pseudobulk.cts.pkl')"
   ]
  },
  {
   "cell_type": "markdown",
   "metadata": {},
   "source": [
    "Just get the raw data, that's all I want."
   ]
  },
  {
   "cell_type": "code",
   "execution_count": 4,
   "metadata": {},
   "outputs": [
    {
     "data": {
      "text/plain": [
       "Mono_cDC_All            384\n",
       "CD4_T_Naive             384\n",
       "B_Naive                 384\n",
       "HSC                     384\n",
       "CD4_T_Memory            384\n",
       "NK                      384\n",
       "CD8_T_Naive             384\n",
       "B_Memory                384\n",
       "pDC                     384\n",
       "CD8_T_Memory_MAIT_GD    384\n",
       "Mono_C                  320\n",
       "cDC                     320\n",
       "Mono_NC                 320\n",
       "Name: CT, dtype: int64"
      ]
     },
     "execution_count": 4,
     "metadata": {},
     "output_type": "execute_result"
    }
   ],
   "source": [
    "counts['CT'].value_counts()"
   ]
  },
  {
   "cell_type": "code",
   "execution_count": 5,
   "metadata": {},
   "outputs": [
    {
     "data": {
      "text/plain": [
       "array(['B_Memory', 'B_Naive', 'CD4_T_Memory', 'CD4_T_Naive',\n",
       "       'CD8_T_Memory_MAIT_GD', 'CD8_T_Naive', 'HSC', 'Mono_C', 'Mono_NC',\n",
       "       'Mono_cDC_All', 'NK', 'cDC', 'pDC'], dtype=object)"
      ]
     },
     "execution_count": 5,
     "metadata": {},
     "output_type": "execute_result"
    }
   ],
   "source": [
    "np.unique(counts['CT'].values)"
   ]
  },
  {
   "cell_type": "code",
   "execution_count": 6,
   "metadata": {},
   "outputs": [
    {
     "data": {
      "text/plain": [
       "0"
      ]
     },
     "execution_count": 6,
     "metadata": {},
     "output_type": "execute_result"
    }
   ],
   "source": [
    "counts.isna().sum().sum()"
   ]
  },
  {
   "cell_type": "markdown",
   "metadata": {},
   "source": [
    "Create 5 separate sets of files, one for each stimulation, that has counts for both controls and the stim conditions, and in the appropriate format for easy reading into DESeq2."
   ]
  },
  {
   "cell_type": "code",
   "execution_count": 7,
   "metadata": {},
   "outputs": [
    {
     "data": {
      "application/vnd.jupyter.widget-view+json": {
       "model_id": "d34cf196cdb047c5a75793b8fb9b58e6",
       "version_major": 2,
       "version_minor": 0
      },
      "text/plain": [
       "HBox(children=(FloatProgress(value=0.0, max=5.0), HTML(value='')))"
      ]
     },
     "metadata": {},
     "output_type": "display_data"
    },
    {
     "name": "stdout",
     "output_type": "stream",
     "text": [
      "\n"
     ]
    }
   ],
   "source": [
    "for cond in tqdm(['A','B','G','P','R']):\n",
    "    # extract out only the cond conditions and controls\n",
    "    df = counts[(counts['COND'] == cond) | (counts['COND'] == 'C')]\n",
    "    \n",
    "    # make a new index that encompasses the entirety of the sample name\n",
    "    df.index = ['-'.join([i,j,k]) for i,j,k in zip(df['CT'], df['COND'], df['FID'])]\n",
    "    \n",
    "\n",
    "    # With the bulk data, I had to remove and sum over duplicate genes\n",
    "    # but because this is pseuobulked from an adata object, I already ran \n",
    "    # var_names_make_unique, so I think I'm good (also confirmed in a separate cell)\n",
    "    \n",
    "    # extract out only the genes, then rotate because that's what DESeq2 expects\n",
    "    cts = df.iloc[:,3:].T\n",
    "    \n",
    "    \n",
    "    # get new columns, and then make a separate dfs for the coldata\n",
    "    coldata_columns = df.columns[:3]\n",
    "    coldata = pd.DataFrame(data=df[coldata_columns].values, index=cts.columns, columns=coldata_columns)\n",
    "    \n",
    "#     if cond == 'P':\n",
    "#         cts = cts.loc[:,~np.any(np.stack([cts.columns.str.contains('Mono_C-C'), cts.columns.str.contains('Mono_NC-C')]), axis=0)]\n",
    "#         coldata = coldata.loc[~np.any(np.stack([coldata.index.str.contains('Mono_C-C'), coldata.index.str.contains('Mono_NC-C')]), axis=0),:]\n",
    "    \n",
    "    # next line was required, was getting the following error from DESeq2:\n",
    "    # every gene contains at least one zero, cannot compute log geometric means\n",
    "    # this was the suggested fix:\n",
    "    cts = cts.loc[cts.sum(1) > 0,:] + 1\n",
    "\n",
    "    #export to csv\n",
    "    cts.to_csv(prefix + 'adts/de.csvs/%s.cts.csv' % cond)\n",
    "    coldata.to_csv(prefix + 'adts/de.csvs/%s.col.csv' % cond)"
   ]
  },
  {
   "cell_type": "code",
   "execution_count": null,
   "metadata": {},
   "outputs": [],
   "source": []
  }
 ],
 "metadata": {
  "kernelspec": {
   "display_name": "codec",
   "language": "python",
   "name": "codec"
  },
  "language_info": {
   "codemirror_mode": {
    "name": "ipython",
    "version": 3
   },
   "file_extension": ".py",
   "mimetype": "text/x-python",
   "name": "python",
   "nbconvert_exporter": "python",
   "pygments_lexer": "ipython3",
   "version": "3.6.10"
  }
 },
 "nbformat": 4,
 "nbformat_minor": 4
}
