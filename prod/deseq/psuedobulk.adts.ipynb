{
 "cells": [
  {
   "cell_type": "markdown",
   "metadata": {},
   "source": [
    "# Introduction\n",
    "Pseudobulk CTs for mRNA so that we can run DESeq2"
   ]
  },
  {
   "cell_type": "markdown",
   "metadata": {},
   "source": [
    "# Imports and Setup"
   ]
  },
  {
   "cell_type": "code",
   "execution_count": 1,
   "metadata": {},
   "outputs": [],
   "source": [
    "import scanpy as sc\n",
    "import pandas as pd \n",
    "import numpy as np\n",
    "import matplotlib.pyplot as plt\n",
    "from tqdm.notebook import tqdm\n",
    "import warnings\n",
    "import itertools as it\n",
    "import json\n",
    "import requests\n",
    "import seaborn as sns\n",
    "import pickle as pkl\n",
    "from functools import reduce\n",
    "# import diffxpy.api as de\n",
    "import anndata"
   ]
  },
  {
   "cell_type": "code",
   "execution_count": 2,
   "metadata": {},
   "outputs": [
    {
     "name": "stdout",
     "output_type": "stream",
     "text": [
      "1.5.1\n"
     ]
    }
   ],
   "source": [
    "sc.settings.verbosity = 4\n",
    "sc.settings.set_figure_params(dpi=80)\n",
    "print(sc.__version__)\n",
    "sc.settings.n_jobs=30"
   ]
  },
  {
   "cell_type": "code",
   "execution_count": 3,
   "metadata": {},
   "outputs": [],
   "source": [
    "prefix = '/data/codec/production.run/'"
   ]
  },
  {
   "cell_type": "markdown",
   "metadata": {},
   "source": [
    "# Load in Data"
   ]
  },
  {
   "cell_type": "code",
   "execution_count": 4,
   "metadata": {},
   "outputs": [],
   "source": [
    "path = prefix + 'combined/h5ads/concat.4.h5ad'\n",
    "concat = sc.read_h5ad(path)"
   ]
  },
  {
   "cell_type": "markdown",
   "metadata": {},
   "source": [
    "# Get Raw Data"
   ]
  },
  {
   "cell_type": "code",
   "execution_count": 5,
   "metadata": {},
   "outputs": [],
   "source": [
    "def get_raw_adts(obs_names):\n",
    "    path = prefix + 'adts/pkls/concat.adts.pkl'\n",
    "    \n",
    "    with open(path,'rb') as file:\n",
    "        return pkl.load(file)[obs_names, :]\n",
    "\n",
    "def get_raw_mrna(obs_names):\n",
    "    path = prefix + 'mrna/pkls/aggr/wells.sng.w_covars.pkl'\n",
    "    \n",
    "    with open(path,'rb') as file:\n",
    "        wells = pkl.load(file)\n",
    "    \n",
    "    for well in wells:\n",
    "        wells[well]['adata'].obs_names = [i[:16] + '-%s' % well for i in wells[well]['adata'].obs_names]\n",
    "    \n",
    "    return wells[0]['adata'].concatenate(*[wells[i]['adata'] for  i in range(1, 12)])[obs_names,:]\n",
    "    \n",
    "def clr_normalize_column(x):\n",
    "    normed_column = np.log1p((x) / (np.exp(sum(np.log1p((x)[x > 0 ])) / len(x + 1))))\n",
    "    return normed_column\n",
    "\n",
    "def clr_normalize(x):\n",
    "    normed_matrix = np.apply_along_axis(clr_normalize_column, 1, x)\n",
    "    return normed_matrix\n",
    "    \n",
    "def get_raw(adata, transformed=True):\n",
    "    raw_mrna = get_raw_mrna(adata.obs_names)\n",
    "    raw_adts = get_raw_adts(adata.obs_names)\n",
    "    \n",
    "    adata.obs['adts_n_counts'] = raw_adts.X.toarray().sum(axis=1)\n",
    "    \n",
    "    if transformed == True:\n",
    "        sc.pp.normalize_per_cell(raw_mrna,counts_per_cell_after=1e6)\n",
    "        sc.pp.log1p(raw_mrna)\n",
    "        \n",
    "        sc.pp.normalize_per_cell(raw_adts, counts_per_cell_after=1e6);\n",
    "        raw_adts.X = clr_normalize(raw_adts.X.toarray())\n",
    "    \n",
    "    return raw_mrna, raw_adts"
   ]
  },
  {
   "cell_type": "code",
   "execution_count": 21,
   "metadata": {},
   "outputs": [],
   "source": [
    "raw_mrna, raw_adts = get_raw(concat, transformed=False)"
   ]
  },
  {
   "cell_type": "code",
   "execution_count": 36,
   "metadata": {},
   "outputs": [],
   "source": [
    "raw_adts.obs = concat.obs.copy()"
   ]
  },
  {
   "cell_type": "code",
   "execution_count": 37,
   "metadata": {},
   "outputs": [],
   "source": [
    "conds = concat.obs['cond'].dtype.categories\n",
    "clusts = concat.obs['ct2'].dtype.categories"
   ]
  },
  {
   "cell_type": "code",
   "execution_count": 38,
   "metadata": {},
   "outputs": [],
   "source": [
    "cond_ct_df = pd.DataFrame(index=conds, columns=clusts, dtype=np.int)"
   ]
  },
  {
   "cell_type": "code",
   "execution_count": 39,
   "metadata": {},
   "outputs": [
    {
     "data": {
      "application/vnd.jupyter.widget-view+json": {
       "model_id": "15ad9094763a4de4993f4c9d129eb45e",
       "version_major": 2,
       "version_minor": 0
      },
      "text/plain": [
       "HBox(children=(FloatProgress(value=0.0, max=7.0), HTML(value='')))"
      ]
     },
     "metadata": {},
     "output_type": "display_data"
    },
    {
     "name": "stdout",
     "output_type": "stream",
     "text": [
      "\n"
     ]
    }
   ],
   "source": [
    "for cond in tqdm(conds):\n",
    "    for clust in clusts:\n",
    "        cond_ct_df.loc[cond, clust] = concat[(concat.obs['cond'] == cond) & (concat.obs['ct2'] == clust)].shape[0]"
   ]
  },
  {
   "cell_type": "markdown",
   "metadata": {},
   "source": [
    "After the last cell, ct2_colors disappears (haven't bothered to figure out why) but I'm just going to set it manually here."
   ]
  },
  {
   "cell_type": "code",
   "execution_count": 40,
   "metadata": {},
   "outputs": [],
   "source": [
    "ct2_colors = concat.uns['ct2_colors']"
   ]
  },
  {
   "cell_type": "code",
   "execution_count": 41,
   "metadata": {},
   "outputs": [],
   "source": [
    "concat.uns['ct2_colors'] = ct2_colors"
   ]
  },
  {
   "cell_type": "code",
   "execution_count": 42,
   "metadata": {},
   "outputs": [],
   "source": [
    "cond_ct_df_div = cond_ct_df.divide(cond_ct_df.sum(0),1)"
   ]
  },
  {
   "cell_type": "code",
   "execution_count": 43,
   "metadata": {},
   "outputs": [
    {
     "name": "stdout",
     "output_type": "stream",
     "text": [
      "['T4_Naive', 'T4_Mem', 'cM', 'T8_Naive', 'T_Tox', 'B_Naive', 'NK', 'B_Mem', 'cDC', 'ncM', 'pDC', 'M_cDC_PMA/I', 'HSC']\n"
     ]
    }
   ],
   "source": [
    "high_count_cts = concat.obs['ct2'].value_counts()[:-2].index.tolist()\n",
    "print(high_count_cts)"
   ]
  },
  {
   "cell_type": "code",
   "execution_count": 44,
   "metadata": {},
   "outputs": [],
   "source": [
    "free_ids = np.unique(concat.obs['free_id'].values)\n",
    "ind_ct = pd.DataFrame(0, index=free_ids, columns=high_count_cts)"
   ]
  },
  {
   "cell_type": "code",
   "execution_count": 45,
   "metadata": {},
   "outputs": [
    {
     "data": {
      "application/vnd.jupyter.widget-view+json": {
       "model_id": "35edf947cac740da9ae4937d9958788f",
       "version_major": 2,
       "version_minor": 0
      },
      "text/plain": [
       "HBox(children=(FloatProgress(value=1.0, bar_style='info', max=1.0), HTML(value='')))"
      ]
     },
     "metadata": {},
     "output_type": "display_data"
    },
    {
     "name": "stdout",
     "output_type": "stream",
     "text": [
      "\n"
     ]
    }
   ],
   "source": [
    "for free_id, ct in tqdm(it.product(free_ids, high_count_cts)):\n",
    "    ind_ct.loc[free_id, ct] = len(concat.obs[(concat.obs['free_id'] == free_id) & (concat.obs['ct2'] == ct)])"
   ]
  },
  {
   "cell_type": "code",
   "execution_count": 46,
   "metadata": {},
   "outputs": [],
   "source": [
    "ct_cond_id = list(it.product(high_count_cts, ['A', 'B', 'C', 'G', 'P', 'R'], free_ids))"
   ]
  },
  {
   "cell_type": "code",
   "execution_count": 47,
   "metadata": {},
   "outputs": [],
   "source": [
    "ct_cond_id_df = pd.DataFrame(ct_cond_id, columns=['CT','COND', 'FID'])"
   ]
  },
  {
   "cell_type": "code",
   "execution_count": 48,
   "metadata": {},
   "outputs": [
    {
     "data": {
      "text/html": [
       "<div>\n",
       "<style scoped>\n",
       "    .dataframe tbody tr th:only-of-type {\n",
       "        vertical-align: middle;\n",
       "    }\n",
       "\n",
       "    .dataframe tbody tr th {\n",
       "        vertical-align: top;\n",
       "    }\n",
       "\n",
       "    .dataframe thead th {\n",
       "        text-align: right;\n",
       "    }\n",
       "</style>\n",
       "<table border=\"1\" class=\"dataframe\">\n",
       "  <thead>\n",
       "    <tr style=\"text-align: right;\">\n",
       "      <th></th>\n",
       "      <th>CT</th>\n",
       "      <th>COND</th>\n",
       "      <th>FID</th>\n",
       "    </tr>\n",
       "  </thead>\n",
       "  <tbody>\n",
       "    <tr>\n",
       "      <th>0</th>\n",
       "      <td>T4_Naive</td>\n",
       "      <td>A</td>\n",
       "      <td>0</td>\n",
       "    </tr>\n",
       "    <tr>\n",
       "      <th>1</th>\n",
       "      <td>T4_Naive</td>\n",
       "      <td>A</td>\n",
       "      <td>1</td>\n",
       "    </tr>\n",
       "    <tr>\n",
       "      <th>2</th>\n",
       "      <td>T4_Naive</td>\n",
       "      <td>A</td>\n",
       "      <td>10</td>\n",
       "    </tr>\n",
       "    <tr>\n",
       "      <th>3</th>\n",
       "      <td>T4_Naive</td>\n",
       "      <td>A</td>\n",
       "      <td>11</td>\n",
       "    </tr>\n",
       "    <tr>\n",
       "      <th>4</th>\n",
       "      <td>T4_Naive</td>\n",
       "      <td>A</td>\n",
       "      <td>12</td>\n",
       "    </tr>\n",
       "    <tr>\n",
       "      <th>...</th>\n",
       "      <td>...</td>\n",
       "      <td>...</td>\n",
       "      <td>...</td>\n",
       "    </tr>\n",
       "    <tr>\n",
       "      <th>4987</th>\n",
       "      <td>HSC</td>\n",
       "      <td>R</td>\n",
       "      <td>62</td>\n",
       "    </tr>\n",
       "    <tr>\n",
       "      <th>4988</th>\n",
       "      <td>HSC</td>\n",
       "      <td>R</td>\n",
       "      <td>63</td>\n",
       "    </tr>\n",
       "    <tr>\n",
       "      <th>4989</th>\n",
       "      <td>HSC</td>\n",
       "      <td>R</td>\n",
       "      <td>7</td>\n",
       "    </tr>\n",
       "    <tr>\n",
       "      <th>4990</th>\n",
       "      <td>HSC</td>\n",
       "      <td>R</td>\n",
       "      <td>8</td>\n",
       "    </tr>\n",
       "    <tr>\n",
       "      <th>4991</th>\n",
       "      <td>HSC</td>\n",
       "      <td>R</td>\n",
       "      <td>9</td>\n",
       "    </tr>\n",
       "  </tbody>\n",
       "</table>\n",
       "<p>4992 rows × 3 columns</p>\n",
       "</div>"
      ],
      "text/plain": [
       "            CT COND FID\n",
       "0     T4_Naive    A   0\n",
       "1     T4_Naive    A   1\n",
       "2     T4_Naive    A  10\n",
       "3     T4_Naive    A  11\n",
       "4     T4_Naive    A  12\n",
       "...        ...  ...  ..\n",
       "4987       HSC    R  62\n",
       "4988       HSC    R  63\n",
       "4989       HSC    R   7\n",
       "4990       HSC    R   8\n",
       "4991       HSC    R   9\n",
       "\n",
       "[4992 rows x 3 columns]"
      ]
     },
     "execution_count": 48,
     "metadata": {},
     "output_type": "execute_result"
    }
   ],
   "source": [
    "ct_cond_id_df"
   ]
  },
  {
   "cell_type": "code",
   "execution_count": 49,
   "metadata": {},
   "outputs": [
    {
     "data": {
      "application/vnd.jupyter.widget-view+json": {
       "model_id": "c7ac9b467ff94343bf10075bb70edcde",
       "version_major": 2,
       "version_minor": 0
      },
      "text/plain": [
       "HBox(children=(FloatProgress(value=0.0, max=4992.0), HTML(value='')))"
      ]
     },
     "metadata": {},
     "output_type": "display_data"
    },
    {
     "name": "stdout",
     "output_type": "stream",
     "text": [
      "\n"
     ]
    }
   ],
   "source": [
    "counts_genes = list()\n",
    "cell_counts = list()\n",
    "for ct, cond, free_id in tqdm(ct_cond_id):\n",
    "    arr = raw_adts[(raw_adts.obs['ct2'] == ct) & (raw_adts.obs['cond'] == cond) & (raw_adts.obs['free_id'] == free_id)].X.toarray()\n",
    "    cell_counts.append(len(arr))\n",
    "    counts_genes.append(arr.sum(axis=0))"
   ]
  },
  {
   "cell_type": "code",
   "execution_count": 51,
   "metadata": {},
   "outputs": [],
   "source": [
    "ct_cond_id_df = ct_cond_id_df.join(pd.DataFrame(data=np.array(cell_counts),columns=['NUM_CELLS']))\n",
    "ct_cond_id_df = ct_cond_id_df.join(pd.DataFrame(data=np.array(counts_genes),columns=raw_adts.var_names))"
   ]
  },
  {
   "cell_type": "code",
   "execution_count": 52,
   "metadata": {},
   "outputs": [],
   "source": [
    "lot = list()\n",
    "for i in ct_cond_id_df[['CT','COND']].itertuples(index=False):\n",
    "    lot.append('-'.join(tuple(i)))"
   ]
  },
  {
   "cell_type": "code",
   "execution_count": 53,
   "metadata": {},
   "outputs": [
    {
     "data": {
      "text/plain": [
       "(array(['B_Mem-A', 'B_Mem-B', 'B_Mem-C', 'B_Mem-G', 'B_Mem-P', 'B_Mem-R',\n",
       "        'B_Naive-A', 'B_Naive-B', 'B_Naive-C', 'B_Naive-G', 'B_Naive-P',\n",
       "        'B_Naive-R', 'HSC-A', 'HSC-B', 'HSC-C', 'HSC-G', 'HSC-P', 'HSC-R',\n",
       "        'M_cDC_PMA/I-A', 'M_cDC_PMA/I-B', 'M_cDC_PMA/I-C', 'M_cDC_PMA/I-G',\n",
       "        'M_cDC_PMA/I-P', 'M_cDC_PMA/I-R', 'NK-A', 'NK-B', 'NK-C', 'NK-G',\n",
       "        'NK-P', 'NK-R', 'T4_Mem-A', 'T4_Mem-B', 'T4_Mem-C', 'T4_Mem-G',\n",
       "        'T4_Mem-P', 'T4_Mem-R', 'T4_Naive-A', 'T4_Naive-B', 'T4_Naive-C',\n",
       "        'T4_Naive-G', 'T4_Naive-P', 'T4_Naive-R', 'T8_Naive-A',\n",
       "        'T8_Naive-B', 'T8_Naive-C', 'T8_Naive-G', 'T8_Naive-P',\n",
       "        'T8_Naive-R', 'T_Tox-A', 'T_Tox-B', 'T_Tox-C', 'T_Tox-G',\n",
       "        'T_Tox-P', 'T_Tox-R', 'cDC-A', 'cDC-B', 'cDC-C', 'cDC-G', 'cDC-P',\n",
       "        'cDC-R', 'cM-A', 'cM-B', 'cM-C', 'cM-G', 'cM-P', 'cM-R', 'ncM-A',\n",
       "        'ncM-B', 'ncM-C', 'ncM-G', 'ncM-P', 'ncM-R', 'pDC-A', 'pDC-B',\n",
       "        'pDC-C', 'pDC-G', 'pDC-P', 'pDC-R'], dtype='<U13'),\n",
       " array([64, 64, 64, 64, 64, 64, 64, 64, 64, 64, 64, 64, 64, 64, 64, 64, 64,\n",
       "        64, 64, 64, 64, 64, 64, 64, 64, 64, 64, 64, 64, 64, 64, 64, 64, 64,\n",
       "        64, 64, 64, 64, 64, 64, 64, 64, 64, 64, 64, 64, 64, 64, 64, 64, 64,\n",
       "        64, 64, 64, 64, 64, 64, 64, 64, 64, 64, 64, 64, 64, 64, 64, 64, 64,\n",
       "        64, 64, 64, 64, 64, 64, 64, 64, 64, 64]))"
      ]
     },
     "execution_count": 53,
     "metadata": {},
     "output_type": "execute_result"
    }
   ],
   "source": [
    "np.unique(lot, return_counts=True)"
   ]
  },
  {
   "cell_type": "code",
   "execution_count": 54,
   "metadata": {},
   "outputs": [
    {
     "data": {
      "text/html": [
       "<div>\n",
       "<style scoped>\n",
       "    .dataframe tbody tr th:only-of-type {\n",
       "        vertical-align: middle;\n",
       "    }\n",
       "\n",
       "    .dataframe tbody tr th {\n",
       "        vertical-align: top;\n",
       "    }\n",
       "\n",
       "    .dataframe thead th {\n",
       "        text-align: right;\n",
       "    }\n",
       "</style>\n",
       "<table border=\"1\" class=\"dataframe\">\n",
       "  <thead>\n",
       "    <tr style=\"text-align: right;\">\n",
       "      <th></th>\n",
       "      <th>CT</th>\n",
       "      <th>COND</th>\n",
       "      <th>FID</th>\n",
       "      <th>NUM_CELLS</th>\n",
       "      <th>CD103|ITGAE</th>\n",
       "      <th>CD137|TNFRSF9</th>\n",
       "      <th>CD274|CD274</th>\n",
       "      <th>CD11b|ITGAM</th>\n",
       "      <th>CD39|ENTPD1</th>\n",
       "      <th>CD197|CCR7</th>\n",
       "      <th>...</th>\n",
       "      <th>CD49a|ITGA1</th>\n",
       "      <th>CD133|PROM</th>\n",
       "      <th>CD357|TNFRSF18</th>\n",
       "      <th>CD270|TNFRSF14</th>\n",
       "      <th>IL-21R|IL21R</th>\n",
       "      <th>B7-H4|VTCN1</th>\n",
       "      <th>CD26|DPP4</th>\n",
       "      <th>CD155|PVR</th>\n",
       "      <th>CD30|TNFRSF8</th>\n",
       "      <th>CD49E|ITGA5</th>\n",
       "    </tr>\n",
       "  </thead>\n",
       "  <tbody>\n",
       "    <tr>\n",
       "      <th>4224</th>\n",
       "      <td>M_cDC_PMA/I</td>\n",
       "      <td>A</td>\n",
       "      <td>0</td>\n",
       "      <td>0</td>\n",
       "      <td>0.0</td>\n",
       "      <td>0.0</td>\n",
       "      <td>0.0</td>\n",
       "      <td>0.0</td>\n",
       "      <td>0.0</td>\n",
       "      <td>0.0</td>\n",
       "      <td>...</td>\n",
       "      <td>0.0</td>\n",
       "      <td>0.0</td>\n",
       "      <td>0.0</td>\n",
       "      <td>0.0</td>\n",
       "      <td>0.0</td>\n",
       "      <td>0.0</td>\n",
       "      <td>0.0</td>\n",
       "      <td>0.0</td>\n",
       "      <td>0.0</td>\n",
       "      <td>0.0</td>\n",
       "    </tr>\n",
       "    <tr>\n",
       "      <th>4225</th>\n",
       "      <td>M_cDC_PMA/I</td>\n",
       "      <td>A</td>\n",
       "      <td>1</td>\n",
       "      <td>0</td>\n",
       "      <td>0.0</td>\n",
       "      <td>0.0</td>\n",
       "      <td>0.0</td>\n",
       "      <td>0.0</td>\n",
       "      <td>0.0</td>\n",
       "      <td>0.0</td>\n",
       "      <td>...</td>\n",
       "      <td>0.0</td>\n",
       "      <td>0.0</td>\n",
       "      <td>0.0</td>\n",
       "      <td>0.0</td>\n",
       "      <td>0.0</td>\n",
       "      <td>0.0</td>\n",
       "      <td>0.0</td>\n",
       "      <td>0.0</td>\n",
       "      <td>0.0</td>\n",
       "      <td>0.0</td>\n",
       "    </tr>\n",
       "    <tr>\n",
       "      <th>4226</th>\n",
       "      <td>M_cDC_PMA/I</td>\n",
       "      <td>A</td>\n",
       "      <td>10</td>\n",
       "      <td>0</td>\n",
       "      <td>0.0</td>\n",
       "      <td>0.0</td>\n",
       "      <td>0.0</td>\n",
       "      <td>0.0</td>\n",
       "      <td>0.0</td>\n",
       "      <td>0.0</td>\n",
       "      <td>...</td>\n",
       "      <td>0.0</td>\n",
       "      <td>0.0</td>\n",
       "      <td>0.0</td>\n",
       "      <td>0.0</td>\n",
       "      <td>0.0</td>\n",
       "      <td>0.0</td>\n",
       "      <td>0.0</td>\n",
       "      <td>0.0</td>\n",
       "      <td>0.0</td>\n",
       "      <td>0.0</td>\n",
       "    </tr>\n",
       "    <tr>\n",
       "      <th>4227</th>\n",
       "      <td>M_cDC_PMA/I</td>\n",
       "      <td>A</td>\n",
       "      <td>11</td>\n",
       "      <td>0</td>\n",
       "      <td>0.0</td>\n",
       "      <td>0.0</td>\n",
       "      <td>0.0</td>\n",
       "      <td>0.0</td>\n",
       "      <td>0.0</td>\n",
       "      <td>0.0</td>\n",
       "      <td>...</td>\n",
       "      <td>0.0</td>\n",
       "      <td>0.0</td>\n",
       "      <td>0.0</td>\n",
       "      <td>0.0</td>\n",
       "      <td>0.0</td>\n",
       "      <td>0.0</td>\n",
       "      <td>0.0</td>\n",
       "      <td>0.0</td>\n",
       "      <td>0.0</td>\n",
       "      <td>0.0</td>\n",
       "    </tr>\n",
       "    <tr>\n",
       "      <th>4228</th>\n",
       "      <td>M_cDC_PMA/I</td>\n",
       "      <td>A</td>\n",
       "      <td>12</td>\n",
       "      <td>0</td>\n",
       "      <td>0.0</td>\n",
       "      <td>0.0</td>\n",
       "      <td>0.0</td>\n",
       "      <td>0.0</td>\n",
       "      <td>0.0</td>\n",
       "      <td>0.0</td>\n",
       "      <td>...</td>\n",
       "      <td>0.0</td>\n",
       "      <td>0.0</td>\n",
       "      <td>0.0</td>\n",
       "      <td>0.0</td>\n",
       "      <td>0.0</td>\n",
       "      <td>0.0</td>\n",
       "      <td>0.0</td>\n",
       "      <td>0.0</td>\n",
       "      <td>0.0</td>\n",
       "      <td>0.0</td>\n",
       "    </tr>\n",
       "    <tr>\n",
       "      <th>...</th>\n",
       "      <td>...</td>\n",
       "      <td>...</td>\n",
       "      <td>...</td>\n",
       "      <td>...</td>\n",
       "      <td>...</td>\n",
       "      <td>...</td>\n",
       "      <td>...</td>\n",
       "      <td>...</td>\n",
       "      <td>...</td>\n",
       "      <td>...</td>\n",
       "      <td>...</td>\n",
       "      <td>...</td>\n",
       "      <td>...</td>\n",
       "      <td>...</td>\n",
       "      <td>...</td>\n",
       "      <td>...</td>\n",
       "      <td>...</td>\n",
       "      <td>...</td>\n",
       "      <td>...</td>\n",
       "      <td>...</td>\n",
       "      <td>...</td>\n",
       "    </tr>\n",
       "    <tr>\n",
       "      <th>4603</th>\n",
       "      <td>M_cDC_PMA/I</td>\n",
       "      <td>R</td>\n",
       "      <td>62</td>\n",
       "      <td>0</td>\n",
       "      <td>0.0</td>\n",
       "      <td>0.0</td>\n",
       "      <td>0.0</td>\n",
       "      <td>0.0</td>\n",
       "      <td>0.0</td>\n",
       "      <td>0.0</td>\n",
       "      <td>...</td>\n",
       "      <td>0.0</td>\n",
       "      <td>0.0</td>\n",
       "      <td>0.0</td>\n",
       "      <td>0.0</td>\n",
       "      <td>0.0</td>\n",
       "      <td>0.0</td>\n",
       "      <td>0.0</td>\n",
       "      <td>0.0</td>\n",
       "      <td>0.0</td>\n",
       "      <td>0.0</td>\n",
       "    </tr>\n",
       "    <tr>\n",
       "      <th>4604</th>\n",
       "      <td>M_cDC_PMA/I</td>\n",
       "      <td>R</td>\n",
       "      <td>63</td>\n",
       "      <td>0</td>\n",
       "      <td>0.0</td>\n",
       "      <td>0.0</td>\n",
       "      <td>0.0</td>\n",
       "      <td>0.0</td>\n",
       "      <td>0.0</td>\n",
       "      <td>0.0</td>\n",
       "      <td>...</td>\n",
       "      <td>0.0</td>\n",
       "      <td>0.0</td>\n",
       "      <td>0.0</td>\n",
       "      <td>0.0</td>\n",
       "      <td>0.0</td>\n",
       "      <td>0.0</td>\n",
       "      <td>0.0</td>\n",
       "      <td>0.0</td>\n",
       "      <td>0.0</td>\n",
       "      <td>0.0</td>\n",
       "    </tr>\n",
       "    <tr>\n",
       "      <th>4605</th>\n",
       "      <td>M_cDC_PMA/I</td>\n",
       "      <td>R</td>\n",
       "      <td>7</td>\n",
       "      <td>0</td>\n",
       "      <td>0.0</td>\n",
       "      <td>0.0</td>\n",
       "      <td>0.0</td>\n",
       "      <td>0.0</td>\n",
       "      <td>0.0</td>\n",
       "      <td>0.0</td>\n",
       "      <td>...</td>\n",
       "      <td>0.0</td>\n",
       "      <td>0.0</td>\n",
       "      <td>0.0</td>\n",
       "      <td>0.0</td>\n",
       "      <td>0.0</td>\n",
       "      <td>0.0</td>\n",
       "      <td>0.0</td>\n",
       "      <td>0.0</td>\n",
       "      <td>0.0</td>\n",
       "      <td>0.0</td>\n",
       "    </tr>\n",
       "    <tr>\n",
       "      <th>4606</th>\n",
       "      <td>M_cDC_PMA/I</td>\n",
       "      <td>R</td>\n",
       "      <td>8</td>\n",
       "      <td>0</td>\n",
       "      <td>0.0</td>\n",
       "      <td>0.0</td>\n",
       "      <td>0.0</td>\n",
       "      <td>0.0</td>\n",
       "      <td>0.0</td>\n",
       "      <td>0.0</td>\n",
       "      <td>...</td>\n",
       "      <td>0.0</td>\n",
       "      <td>0.0</td>\n",
       "      <td>0.0</td>\n",
       "      <td>0.0</td>\n",
       "      <td>0.0</td>\n",
       "      <td>0.0</td>\n",
       "      <td>0.0</td>\n",
       "      <td>0.0</td>\n",
       "      <td>0.0</td>\n",
       "      <td>0.0</td>\n",
       "    </tr>\n",
       "    <tr>\n",
       "      <th>4607</th>\n",
       "      <td>M_cDC_PMA/I</td>\n",
       "      <td>R</td>\n",
       "      <td>9</td>\n",
       "      <td>0</td>\n",
       "      <td>0.0</td>\n",
       "      <td>0.0</td>\n",
       "      <td>0.0</td>\n",
       "      <td>0.0</td>\n",
       "      <td>0.0</td>\n",
       "      <td>0.0</td>\n",
       "      <td>...</td>\n",
       "      <td>0.0</td>\n",
       "      <td>0.0</td>\n",
       "      <td>0.0</td>\n",
       "      <td>0.0</td>\n",
       "      <td>0.0</td>\n",
       "      <td>0.0</td>\n",
       "      <td>0.0</td>\n",
       "      <td>0.0</td>\n",
       "      <td>0.0</td>\n",
       "      <td>0.0</td>\n",
       "    </tr>\n",
       "  </tbody>\n",
       "</table>\n",
       "<p>384 rows × 100 columns</p>\n",
       "</div>"
      ],
      "text/plain": [
       "               CT COND FID  NUM_CELLS  CD103|ITGAE  CD137|TNFRSF9  \\\n",
       "4224  M_cDC_PMA/I    A   0          0          0.0            0.0   \n",
       "4225  M_cDC_PMA/I    A   1          0          0.0            0.0   \n",
       "4226  M_cDC_PMA/I    A  10          0          0.0            0.0   \n",
       "4227  M_cDC_PMA/I    A  11          0          0.0            0.0   \n",
       "4228  M_cDC_PMA/I    A  12          0          0.0            0.0   \n",
       "...           ...  ...  ..        ...          ...            ...   \n",
       "4603  M_cDC_PMA/I    R  62          0          0.0            0.0   \n",
       "4604  M_cDC_PMA/I    R  63          0          0.0            0.0   \n",
       "4605  M_cDC_PMA/I    R   7          0          0.0            0.0   \n",
       "4606  M_cDC_PMA/I    R   8          0          0.0            0.0   \n",
       "4607  M_cDC_PMA/I    R   9          0          0.0            0.0   \n",
       "\n",
       "      CD274|CD274  CD11b|ITGAM  CD39|ENTPD1  CD197|CCR7  ...  CD49a|ITGA1  \\\n",
       "4224          0.0          0.0          0.0         0.0  ...          0.0   \n",
       "4225          0.0          0.0          0.0         0.0  ...          0.0   \n",
       "4226          0.0          0.0          0.0         0.0  ...          0.0   \n",
       "4227          0.0          0.0          0.0         0.0  ...          0.0   \n",
       "4228          0.0          0.0          0.0         0.0  ...          0.0   \n",
       "...           ...          ...          ...         ...  ...          ...   \n",
       "4603          0.0          0.0          0.0         0.0  ...          0.0   \n",
       "4604          0.0          0.0          0.0         0.0  ...          0.0   \n",
       "4605          0.0          0.0          0.0         0.0  ...          0.0   \n",
       "4606          0.0          0.0          0.0         0.0  ...          0.0   \n",
       "4607          0.0          0.0          0.0         0.0  ...          0.0   \n",
       "\n",
       "      CD133|PROM  CD357|TNFRSF18  CD270|TNFRSF14  IL-21R|IL21R  B7-H4|VTCN1  \\\n",
       "4224         0.0             0.0             0.0           0.0          0.0   \n",
       "4225         0.0             0.0             0.0           0.0          0.0   \n",
       "4226         0.0             0.0             0.0           0.0          0.0   \n",
       "4227         0.0             0.0             0.0           0.0          0.0   \n",
       "4228         0.0             0.0             0.0           0.0          0.0   \n",
       "...          ...             ...             ...           ...          ...   \n",
       "4603         0.0             0.0             0.0           0.0          0.0   \n",
       "4604         0.0             0.0             0.0           0.0          0.0   \n",
       "4605         0.0             0.0             0.0           0.0          0.0   \n",
       "4606         0.0             0.0             0.0           0.0          0.0   \n",
       "4607         0.0             0.0             0.0           0.0          0.0   \n",
       "\n",
       "      CD26|DPP4  CD155|PVR  CD30|TNFRSF8  CD49E|ITGA5  \n",
       "4224        0.0        0.0           0.0          0.0  \n",
       "4225        0.0        0.0           0.0          0.0  \n",
       "4226        0.0        0.0           0.0          0.0  \n",
       "4227        0.0        0.0           0.0          0.0  \n",
       "4228        0.0        0.0           0.0          0.0  \n",
       "...         ...        ...           ...          ...  \n",
       "4603        0.0        0.0           0.0          0.0  \n",
       "4604        0.0        0.0           0.0          0.0  \n",
       "4605        0.0        0.0           0.0          0.0  \n",
       "4606        0.0        0.0           0.0          0.0  \n",
       "4607        0.0        0.0           0.0          0.0  \n",
       "\n",
       "[384 rows x 100 columns]"
      ]
     },
     "execution_count": 54,
     "metadata": {},
     "output_type": "execute_result"
    }
   ],
   "source": [
    "ct_cond_id_df[ct_cond_id_df['CT'] == 'M_cDC_PMA/I']"
   ]
  },
  {
   "cell_type": "code",
   "execution_count": 55,
   "metadata": {},
   "outputs": [],
   "source": [
    "ct_cond_id_df = ct_cond_id_df[~((ct_cond_id_df['CT'] == 'M_cDC_PMA/I') & (ct_cond_id_df['COND'].isin(['A','B','C','G','R'])))]"
   ]
  },
  {
   "cell_type": "code",
   "execution_count": 56,
   "metadata": {},
   "outputs": [],
   "source": [
    "ct_cond_id_df = ct_cond_id_df[~((ct_cond_id_df['CT'] == 'cM') & (ct_cond_id_df['COND'] == 'P'))]\n",
    "ct_cond_id_df = ct_cond_id_df[~((ct_cond_id_df['CT'] == 'ncM') & (ct_cond_id_df['COND'] == 'P'))]\n",
    "ct_cond_id_df = ct_cond_id_df[~((ct_cond_id_df['CT'] == 'cDC') & (ct_cond_id_df['COND'] == 'P'))]"
   ]
  },
  {
   "cell_type": "code",
   "execution_count": 57,
   "metadata": {},
   "outputs": [],
   "source": [
    "ct_cond_id_df['CT'] = ct_cond_id_df['CT'].str.replace('M_cDC_PMA/I','M_cDC')"
   ]
  },
  {
   "cell_type": "code",
   "execution_count": 58,
   "metadata": {},
   "outputs": [],
   "source": [
    "ct_cond_id_mono_cdc = list(it.product(['M_cDC'], ['A', 'B', 'C', 'G', 'R'], free_ids))"
   ]
  },
  {
   "cell_type": "code",
   "execution_count": 60,
   "metadata": {},
   "outputs": [
    {
     "data": {
      "application/vnd.jupyter.widget-view+json": {
       "model_id": "ba553f4d4afd4c2eb97749627bb49b11",
       "version_major": 2,
       "version_minor": 0
      },
      "text/plain": [
       "HBox(children=(FloatProgress(value=0.0, max=320.0), HTML(value='')))"
      ]
     },
     "metadata": {},
     "output_type": "display_data"
    },
    {
     "name": "stdout",
     "output_type": "stream",
     "text": [
      "\n"
     ]
    }
   ],
   "source": [
    "counts_genes_mono_cdc = list()\n",
    "cell_counts_mono_cdc = list()\n",
    "for ct, cond, free_id in tqdm(ct_cond_id_mono_cdc):\n",
    "    arr = raw_adts[((raw_adts.obs['ct2'] == 'ncM') | \n",
    "                    (raw_adts.obs['ct2'] == 'cM') |\n",
    "                    (raw_adts.obs['ct2'] == 'cDC')\n",
    "                   ) & \n",
    "                   (raw_adts.obs['cond'] == cond) &\n",
    "                   (raw_adts.obs['free_id'] == free_id)].X.toarray()\n",
    "    cell_counts_mono_cdc.append(len(arr))\n",
    "    counts_genes_mono_cdc.append(arr.sum(axis=0))"
   ]
  },
  {
   "cell_type": "code",
   "execution_count": 61,
   "metadata": {},
   "outputs": [],
   "source": [
    "ct_cond_id_mono_cdc_df = pd.DataFrame(ct_cond_id_mono_cdc, columns=['CT','COND', 'FID'])"
   ]
  },
  {
   "cell_type": "code",
   "execution_count": 62,
   "metadata": {},
   "outputs": [],
   "source": [
    "ct_cond_id_mono_cdc_df = ct_cond_id_mono_cdc_df.join(pd.DataFrame(data=np.array(cell_counts_mono_cdc),columns=['NUM_CELLS']))\n",
    "ct_cond_id_mono_cdc_df = ct_cond_id_mono_cdc_df.join(pd.DataFrame(data=np.array(counts_genes_mono_cdc),columns=raw_adts.var_names))"
   ]
  },
  {
   "cell_type": "code",
   "execution_count": 63,
   "metadata": {},
   "outputs": [],
   "source": [
    "ct_df = pd.concat([ct_cond_id_df, ct_cond_id_mono_cdc_df])"
   ]
  },
  {
   "cell_type": "code",
   "execution_count": 64,
   "metadata": {},
   "outputs": [],
   "source": [
    "lot = list()\n",
    "for i in ct_df[['CT','COND']].itertuples(index=False):\n",
    "    lot.append('-'.join(tuple(i)))"
   ]
  },
  {
   "cell_type": "code",
   "execution_count": 65,
   "metadata": {},
   "outputs": [
    {
     "data": {
      "text/plain": [
       "(array(['B_Mem-A', 'B_Mem-B', 'B_Mem-C', 'B_Mem-G', 'B_Mem-P', 'B_Mem-R',\n",
       "        'B_Naive-A', 'B_Naive-B', 'B_Naive-C', 'B_Naive-G', 'B_Naive-P',\n",
       "        'B_Naive-R', 'HSC-A', 'HSC-B', 'HSC-C', 'HSC-G', 'HSC-P', 'HSC-R',\n",
       "        'M_cDC-A', 'M_cDC-B', 'M_cDC-C', 'M_cDC-G', 'M_cDC-P', 'M_cDC-R',\n",
       "        'NK-A', 'NK-B', 'NK-C', 'NK-G', 'NK-P', 'NK-R', 'T4_Mem-A',\n",
       "        'T4_Mem-B', 'T4_Mem-C', 'T4_Mem-G', 'T4_Mem-P', 'T4_Mem-R',\n",
       "        'T4_Naive-A', 'T4_Naive-B', 'T4_Naive-C', 'T4_Naive-G',\n",
       "        'T4_Naive-P', 'T4_Naive-R', 'T8_Naive-A', 'T8_Naive-B',\n",
       "        'T8_Naive-C', 'T8_Naive-G', 'T8_Naive-P', 'T8_Naive-R', 'T_Tox-A',\n",
       "        'T_Tox-B', 'T_Tox-C', 'T_Tox-G', 'T_Tox-P', 'T_Tox-R', 'cDC-A',\n",
       "        'cDC-B', 'cDC-C', 'cDC-G', 'cDC-R', 'cM-A', 'cM-B', 'cM-C', 'cM-G',\n",
       "        'cM-R', 'ncM-A', 'ncM-B', 'ncM-C', 'ncM-G', 'ncM-R', 'pDC-A',\n",
       "        'pDC-B', 'pDC-C', 'pDC-G', 'pDC-P', 'pDC-R'], dtype='<U10'),\n",
       " array([64, 64, 64, 64, 64, 64, 64, 64, 64, 64, 64, 64, 64, 64, 64, 64, 64,\n",
       "        64, 64, 64, 64, 64, 64, 64, 64, 64, 64, 64, 64, 64, 64, 64, 64, 64,\n",
       "        64, 64, 64, 64, 64, 64, 64, 64, 64, 64, 64, 64, 64, 64, 64, 64, 64,\n",
       "        64, 64, 64, 64, 64, 64, 64, 64, 64, 64, 64, 64, 64, 64, 64, 64, 64,\n",
       "        64, 64, 64, 64, 64, 64, 64]))"
      ]
     },
     "execution_count": 65,
     "metadata": {},
     "output_type": "execute_result"
    }
   ],
   "source": [
    "np.unique(lot, return_counts=True)"
   ]
  },
  {
   "cell_type": "code",
   "execution_count": 66,
   "metadata": {},
   "outputs": [
    {
     "data": {
      "text/plain": [
       "NK          384\n",
       "B_Naive     384\n",
       "T_Tox       384\n",
       "HSC         384\n",
       "T4_Naive    384\n",
       "B_Mem       384\n",
       "T4_Mem      384\n",
       "pDC         384\n",
       "T8_Naive    384\n",
       "cM          320\n",
       "cDC         320\n",
       "ncM         320\n",
       "M_cDC        64\n",
       "Name: CT, dtype: int64"
      ]
     },
     "execution_count": 66,
     "metadata": {},
     "output_type": "execute_result"
    }
   ],
   "source": [
    "ct_cond_id_df['CT'].value_counts()"
   ]
  },
  {
   "cell_type": "code",
   "execution_count": 67,
   "metadata": {},
   "outputs": [
    {
     "data": {
      "text/plain": [
       "0"
      ]
     },
     "execution_count": 67,
     "metadata": {},
     "output_type": "execute_result"
    }
   ],
   "source": [
    "ct_df.isna().sum().sum()"
   ]
  },
  {
   "cell_type": "code",
   "execution_count": 68,
   "metadata": {},
   "outputs": [
    {
     "data": {
      "text/plain": [
       "NK          384\n",
       "B_Naive     384\n",
       "T_Tox       384\n",
       "HSC         384\n",
       "T4_Naive    384\n",
       "M_cDC       384\n",
       "B_Mem       384\n",
       "T4_Mem      384\n",
       "pDC         384\n",
       "T8_Naive    384\n",
       "cM          320\n",
       "cDC         320\n",
       "ncM         320\n",
       "Name: CT, dtype: int64"
      ]
     },
     "execution_count": 68,
     "metadata": {},
     "output_type": "execute_result"
    }
   ],
   "source": [
    "ct_df['CT'].value_counts()"
   ]
  },
  {
   "cell_type": "code",
   "execution_count": 69,
   "metadata": {},
   "outputs": [
    {
     "data": {
      "image/png": "[encoded data removed]",
      "text/plain": [
       "<Figure size 320x320 with 1 Axes>"
      ]
     },
     "metadata": {
      "image/png": {
       "height": 282,
       "width": 323
      },
      "needs_background": "light"
     },
     "output_type": "display_data"
    }
   ],
   "source": [
    "plt.hist(ct_df['NUM_CELLS'].values,bins=100);"
   ]
  },
  {
   "cell_type": "code",
   "execution_count": 70,
   "metadata": {},
   "outputs": [],
   "source": [
    "ct_df.drop(columns=['NUM_CELLS'],inplace=True)"
   ]
  },
  {
   "cell_type": "code",
   "execution_count": 71,
   "metadata": {},
   "outputs": [],
   "source": [
    "# AVOID RE-RUNNING THIS AGAIN\n",
    "# ct_df.to_pickle(prefix + 'adts/pkls/pseudobulk.cts.pkl')"
   ]
  },
  {
   "cell_type": "code",
   "execution_count": null,
   "metadata": {},
   "outputs": [],
   "source": []
  }
 ],
 "metadata": {
  "kernelspec": {
   "display_name": "codec",
   "language": "python",
   "name": "codec"
  },
  "language_info": {
   "codemirror_mode": {
    "name": "ipython",
    "version": 3
   },
   "file_extension": ".py",
   "mimetype": "text/x-python",
   "name": "python",
   "nbconvert_exporter": "python",
   "pygments_lexer": "ipython3",
   "version": "3.6.10"
  }
 },
 "nbformat": 4,
 "nbformat_minor": 4
}
