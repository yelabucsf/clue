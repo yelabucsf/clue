{
 "cells": [
  {
   "cell_type": "markdown",
   "metadata": {},
   "source": [
    "# Introduction\n",
    "Here I pseudobulk by cell type-condition so that we can run DESeq2 on the mRNA and ADTs."
   ]
  },
  {
   "cell_type": "markdown",
   "metadata": {},
   "source": [
    "# Setup"
   ]
  },
  {
   "cell_type": "code",
   "execution_count": 1,
   "metadata": {},
   "outputs": [],
   "source": [
    "import scanpy as sc\n",
    "import pandas as pd \n",
    "import numpy as np\n",
    "import matplotlib.pyplot as plt\n",
    "from tqdm.notebook import tqdm\n",
    "import warnings\n",
    "import itertools as it\n",
    "import json\n",
    "import seaborn as sns\n",
    "import pickle as pkl\n",
    "from functools import reduce\n",
    "import anndata\n",
    "from nero import Octavia"
   ]
  },
  {
   "cell_type": "code",
   "execution_count": 2,
   "metadata": {},
   "outputs": [],
   "source": [
    "sc.settings.verbosity = 4\n",
    "sc.settings.set_figure_params(dpi=80)\n",
    "sc.settings.n_jobs=30"
   ]
  },
  {
   "cell_type": "code",
   "execution_count": 3,
   "metadata": {},
   "outputs": [],
   "source": [
    "mountpoint = '/data/clue/'\n",
    "prefix_adts = mountpoint + 'prod/adts/'\n",
    "prefix_mrna = mountpoint + 'prod/mrna/'\n",
    "prefix_comb = mountpoint + 'prod/comb/'"
   ]
  },
  {
   "cell_type": "code",
   "execution_count": 4,
   "metadata": {},
   "outputs": [],
   "source": [
    "Octavia.set_mountpoint(mountpoint)"
   ]
  },
  {
   "cell_type": "markdown",
   "metadata": {},
   "source": [
    "## Load in Data, Make Raw Data"
   ]
  },
  {
   "cell_type": "code",
   "execution_count": 5,
   "metadata": {},
   "outputs": [],
   "source": [
    "path = prefix_comb + 'h5ads/concat_5.h5ad'\n",
    "concat = sc.read_h5ad(path)"
   ]
  },
  {
   "cell_type": "code",
   "execution_count": 6,
   "metadata": {},
   "outputs": [],
   "source": [
    "raw_mrna = Octavia.get_raw_mrna(concat.obs_names).copy()"
   ]
  },
  {
   "cell_type": "code",
   "execution_count": 7,
   "metadata": {},
   "outputs": [],
   "source": [
    "raw_adts = Octavia.get_raw_adts(concat.obs_names).copy()"
   ]
  },
  {
   "cell_type": "markdown",
   "metadata": {},
   "source": [
    "# Organize Raw Data by Cell Type and Condition"
   ]
  },
  {
   "cell_type": "markdown",
   "metadata": {},
   "source": [
    "## `ct2`"
   ]
  },
  {
   "cell_type": "markdown",
   "metadata": {},
   "source": [
    "### mRNA"
   ]
  },
  {
   "cell_type": "markdown",
   "metadata": {},
   "source": [
    "#### Processing"
   ]
  },
  {
   "cell_type": "markdown",
   "metadata": {},
   "source": [
    "Prepare `df`s."
   ]
  },
  {
   "cell_type": "code",
   "execution_count": 75,
   "metadata": {},
   "outputs": [],
   "source": [
    "ct_type = 'ct2'"
   ]
  },
  {
   "cell_type": "code",
   "execution_count": 76,
   "metadata": {},
   "outputs": [],
   "source": [
    "raw_mrna.obs[ct_type] = concat.obs[ct_type]"
   ]
  },
  {
   "cell_type": "code",
   "execution_count": 77,
   "metadata": {},
   "outputs": [],
   "source": [
    "conds = concat.obs['cond'].dtype.categories\n",
    "clusts = concat.obs[ct_type].dtype.categories"
   ]
  },
  {
   "cell_type": "code",
   "execution_count": 78,
   "metadata": {},
   "outputs": [],
   "source": [
    "cond_ct_df = pd.DataFrame(index=conds, columns=clusts, dtype=np.int)"
   ]
  },
  {
   "cell_type": "markdown",
   "metadata": {},
   "source": [
    "Get cell numbers."
   ]
  },
  {
   "cell_type": "code",
   "execution_count": 79,
   "metadata": {},
   "outputs": [
    {
     "data": {
      "application/vnd.jupyter.widget-view+json": {
       "model_id": "23e39b87d9994168a4fb2670cdc7f445",
       "version_major": 2,
       "version_minor": 0
      },
      "text/plain": [
       "  0%|          | 0/7 [00:00<?, ?it/s]"
      ]
     },
     "metadata": {},
     "output_type": "display_data"
    }
   ],
   "source": [
    "for cond in tqdm(conds):\n",
    "    for clust in clusts:\n",
    "        cond_ct_df.loc[cond, clust] = concat[(concat.obs['cond'] == cond) & (concat.obs[ct_type] == clust)].shape[0]"
   ]
  },
  {
   "cell_type": "markdown",
   "metadata": {},
   "source": [
    "Divide by the total per cell type, then remove small populations we don't want to run DE on."
   ]
  },
  {
   "cell_type": "code",
   "execution_count": 80,
   "metadata": {},
   "outputs": [],
   "source": [
    "cond_ct_df_div = cond_ct_df.divide(cond_ct_df.sum(0),1)"
   ]
  },
  {
   "cell_type": "code",
   "execution_count": 81,
   "metadata": {},
   "outputs": [
    {
     "name": "stdout",
     "output_type": "stream",
     "text": [
      "['T4_Naive', 'T4_EM', 'cM', 'T8_Naive', 'T_Tox', 'B_Naive', 'NK', 'B_Mem', 'cDC', 'ncM', 'pDC', 'Mye_PMAI', 'HSC']\n"
     ]
    }
   ],
   "source": [
    "high_count_cts = concat.obs[ct_type].value_counts().drop(['Plasma', 'Mitotic']).index.tolist()\n",
    "print(high_count_cts)"
   ]
  },
  {
   "cell_type": "code",
   "execution_count": 82,
   "metadata": {},
   "outputs": [],
   "source": [
    "free_ids = np.unique(concat.obs['free_id'].values)\n",
    "ind_ct = pd.DataFrame(0, index=free_ids, columns=high_count_cts)"
   ]
  },
  {
   "cell_type": "code",
   "execution_count": 83,
   "metadata": {},
   "outputs": [
    {
     "data": {
      "application/vnd.jupyter.widget-view+json": {
       "model_id": "d5cbf23cb7db4983ac7074075187febc",
       "version_major": 2,
       "version_minor": 0
      },
      "text/plain": [
       "0it [00:00, ?it/s]"
      ]
     },
     "metadata": {},
     "output_type": "display_data"
    }
   ],
   "source": [
    "for free_id, ct in tqdm(it.product(free_ids, high_count_cts)):\n",
    "    ind_ct.loc[free_id, ct] = len(concat.obs[(concat.obs['free_id'] == free_id) & (concat.obs[ct_type] == ct)])"
   ]
  },
  {
   "cell_type": "code",
   "execution_count": 84,
   "metadata": {},
   "outputs": [],
   "source": [
    "ct_cond_id = list(it.product(high_count_cts, ['A', 'B', 'C', 'G', 'P', 'R'], free_ids))"
   ]
  },
  {
   "cell_type": "code",
   "execution_count": 85,
   "metadata": {},
   "outputs": [],
   "source": [
    "ct_cond_id_df = pd.DataFrame(ct_cond_id, columns=['CT','COND', 'FID'])"
   ]
  },
  {
   "cell_type": "code",
   "execution_count": 86,
   "metadata": {},
   "outputs": [
    {
     "data": {
      "text/html": [
       "<div>\n",
       "<style scoped>\n",
       "    .dataframe tbody tr th:only-of-type {\n",
       "        vertical-align: middle;\n",
       "    }\n",
       "\n",
       "    .dataframe tbody tr th {\n",
       "        vertical-align: top;\n",
       "    }\n",
       "\n",
       "    .dataframe thead th {\n",
       "        text-align: right;\n",
       "    }\n",
       "</style>\n",
       "<table border=\"1\" class=\"dataframe\">\n",
       "  <thead>\n",
       "    <tr style=\"text-align: right;\">\n",
       "      <th></th>\n",
       "      <th>CT</th>\n",
       "      <th>COND</th>\n",
       "      <th>FID</th>\n",
       "    </tr>\n",
       "  </thead>\n",
       "  <tbody>\n",
       "    <tr>\n",
       "      <th>0</th>\n",
       "      <td>T4_Naive</td>\n",
       "      <td>A</td>\n",
       "      <td>0</td>\n",
       "    </tr>\n",
       "    <tr>\n",
       "      <th>1</th>\n",
       "      <td>T4_Naive</td>\n",
       "      <td>A</td>\n",
       "      <td>1</td>\n",
       "    </tr>\n",
       "    <tr>\n",
       "      <th>2</th>\n",
       "      <td>T4_Naive</td>\n",
       "      <td>A</td>\n",
       "      <td>10</td>\n",
       "    </tr>\n",
       "    <tr>\n",
       "      <th>3</th>\n",
       "      <td>T4_Naive</td>\n",
       "      <td>A</td>\n",
       "      <td>11</td>\n",
       "    </tr>\n",
       "    <tr>\n",
       "      <th>4</th>\n",
       "      <td>T4_Naive</td>\n",
       "      <td>A</td>\n",
       "      <td>12</td>\n",
       "    </tr>\n",
       "    <tr>\n",
       "      <th>...</th>\n",
       "      <td>...</td>\n",
       "      <td>...</td>\n",
       "      <td>...</td>\n",
       "    </tr>\n",
       "    <tr>\n",
       "      <th>4987</th>\n",
       "      <td>HSC</td>\n",
       "      <td>R</td>\n",
       "      <td>62</td>\n",
       "    </tr>\n",
       "    <tr>\n",
       "      <th>4988</th>\n",
       "      <td>HSC</td>\n",
       "      <td>R</td>\n",
       "      <td>63</td>\n",
       "    </tr>\n",
       "    <tr>\n",
       "      <th>4989</th>\n",
       "      <td>HSC</td>\n",
       "      <td>R</td>\n",
       "      <td>7</td>\n",
       "    </tr>\n",
       "    <tr>\n",
       "      <th>4990</th>\n",
       "      <td>HSC</td>\n",
       "      <td>R</td>\n",
       "      <td>8</td>\n",
       "    </tr>\n",
       "    <tr>\n",
       "      <th>4991</th>\n",
       "      <td>HSC</td>\n",
       "      <td>R</td>\n",
       "      <td>9</td>\n",
       "    </tr>\n",
       "  </tbody>\n",
       "</table>\n",
       "<p>4992 rows × 3 columns</p>\n",
       "</div>"
      ],
      "text/plain": [
       "            CT COND FID\n",
       "0     T4_Naive    A   0\n",
       "1     T4_Naive    A   1\n",
       "2     T4_Naive    A  10\n",
       "3     T4_Naive    A  11\n",
       "4     T4_Naive    A  12\n",
       "...        ...  ...  ..\n",
       "4987       HSC    R  62\n",
       "4988       HSC    R  63\n",
       "4989       HSC    R   7\n",
       "4990       HSC    R   8\n",
       "4991       HSC    R   9\n",
       "\n",
       "[4992 rows x 3 columns]"
      ]
     },
     "execution_count": 86,
     "metadata": {},
     "output_type": "execute_result"
    }
   ],
   "source": [
    "ct_cond_id_df"
   ]
  },
  {
   "cell_type": "markdown",
   "metadata": {},
   "source": [
    "Now get the actual transcript numbers."
   ]
  },
  {
   "cell_type": "code",
   "execution_count": 87,
   "metadata": {},
   "outputs": [
    {
     "data": {
      "application/vnd.jupyter.widget-view+json": {
       "model_id": "48e90fe54fb34abd8e9c2228b032829c",
       "version_major": 2,
       "version_minor": 0
      },
      "text/plain": [
       "  0%|          | 0/4992 [00:00<?, ?it/s]"
      ]
     },
     "metadata": {},
     "output_type": "display_data"
    }
   ],
   "source": [
    "counts_genes = list()\n",
    "cell_counts = list()\n",
    "for ct, cond, free_id in tqdm(ct_cond_id):\n",
    "    arr = raw_mrna[(raw_mrna.obs[ct_type] == ct) & (raw_mrna.obs['cond'] == cond) & (raw_mrna.obs['free_id'] == free_id)].X.toarray()\n",
    "    cell_counts.append(len(arr))\n",
    "    counts_genes.append(arr.sum(axis=0))"
   ]
  },
  {
   "cell_type": "code",
   "execution_count": 88,
   "metadata": {},
   "outputs": [],
   "source": [
    "ct_cond_id_df = ct_cond_id_df.join(pd.DataFrame(data=np.array(cell_counts),columns=['NUM_CELLS']))\n",
    "ct_cond_id_df = ct_cond_id_df.join(pd.DataFrame(data=np.array(counts_genes),columns=raw_mrna.var_names))"
   ]
  },
  {
   "cell_type": "code",
   "execution_count": 89,
   "metadata": {},
   "outputs": [],
   "source": [
    "lot = list()\n",
    "for i in ct_cond_id_df[['CT','COND']].itertuples(index=False):\n",
    "    lot.append('-'.join(tuple(i)))"
   ]
  },
  {
   "cell_type": "code",
   "execution_count": 90,
   "metadata": {},
   "outputs": [
    {
     "data": {
      "text/plain": [
       "(array(['B_Mem-A', 'B_Mem-B', 'B_Mem-C', 'B_Mem-G', 'B_Mem-P', 'B_Mem-R',\n",
       "        'B_Naive-A', 'B_Naive-B', 'B_Naive-C', 'B_Naive-G', 'B_Naive-P',\n",
       "        'B_Naive-R', 'HSC-A', 'HSC-B', 'HSC-C', 'HSC-G', 'HSC-P', 'HSC-R',\n",
       "        'Mye_PMAI-A', 'Mye_PMAI-B', 'Mye_PMAI-C', 'Mye_PMAI-G',\n",
       "        'Mye_PMAI-P', 'Mye_PMAI-R', 'NK-A', 'NK-B', 'NK-C', 'NK-G', 'NK-P',\n",
       "        'NK-R', 'T4_EM-A', 'T4_EM-B', 'T4_EM-C', 'T4_EM-G', 'T4_EM-P',\n",
       "        'T4_EM-R', 'T4_Naive-A', 'T4_Naive-B', 'T4_Naive-C', 'T4_Naive-G',\n",
       "        'T4_Naive-P', 'T4_Naive-R', 'T8_Naive-A', 'T8_Naive-B',\n",
       "        'T8_Naive-C', 'T8_Naive-G', 'T8_Naive-P', 'T8_Naive-R', 'T_Tox-A',\n",
       "        'T_Tox-B', 'T_Tox-C', 'T_Tox-G', 'T_Tox-P', 'T_Tox-R', 'cDC-A',\n",
       "        'cDC-B', 'cDC-C', 'cDC-G', 'cDC-P', 'cDC-R', 'cM-A', 'cM-B',\n",
       "        'cM-C', 'cM-G', 'cM-P', 'cM-R', 'ncM-A', 'ncM-B', 'ncM-C', 'ncM-G',\n",
       "        'ncM-P', 'ncM-R', 'pDC-A', 'pDC-B', 'pDC-C', 'pDC-G', 'pDC-P',\n",
       "        'pDC-R'], dtype='<U10'),\n",
       " array([64, 64, 64, 64, 64, 64, 64, 64, 64, 64, 64, 64, 64, 64, 64, 64, 64,\n",
       "        64, 64, 64, 64, 64, 64, 64, 64, 64, 64, 64, 64, 64, 64, 64, 64, 64,\n",
       "        64, 64, 64, 64, 64, 64, 64, 64, 64, 64, 64, 64, 64, 64, 64, 64, 64,\n",
       "        64, 64, 64, 64, 64, 64, 64, 64, 64, 64, 64, 64, 64, 64, 64, 64, 64,\n",
       "        64, 64, 64, 64, 64, 64, 64, 64, 64, 64]))"
      ]
     },
     "execution_count": 90,
     "metadata": {},
     "output_type": "execute_result"
    }
   ],
   "source": [
    "np.unique(lot, return_counts=True)"
   ]
  },
  {
   "cell_type": "markdown",
   "metadata": {},
   "source": [
    "Because the PMA/I monocytes and cDCs (`Mye_PMAI`)didn't separate out and are grouped together in the final object, we still want to compare them to the other conditions but make sure the populations in other conditions are comparable. Therefore, I will make equivalent populations in the other conditions."
   ]
  },
  {
   "cell_type": "code",
   "execution_count": 91,
   "metadata": {},
   "outputs": [
    {
     "data": {
      "text/html": [
       "<div>\n",
       "<style scoped>\n",
       "    .dataframe tbody tr th:only-of-type {\n",
       "        vertical-align: middle;\n",
       "    }\n",
       "\n",
       "    .dataframe tbody tr th {\n",
       "        vertical-align: top;\n",
       "    }\n",
       "\n",
       "    .dataframe thead th {\n",
       "        text-align: right;\n",
       "    }\n",
       "</style>\n",
       "<table border=\"1\" class=\"dataframe\">\n",
       "  <thead>\n",
       "    <tr style=\"text-align: right;\">\n",
       "      <th></th>\n",
       "      <th>CT</th>\n",
       "      <th>COND</th>\n",
       "      <th>FID</th>\n",
       "      <th>NUM_CELLS</th>\n",
       "      <th>AL627309.1</th>\n",
       "      <th>AL627309.3</th>\n",
       "      <th>AL669831.5</th>\n",
       "      <th>LINC00115</th>\n",
       "      <th>FAM41C</th>\n",
       "      <th>AL645608.3</th>\n",
       "      <th>...</th>\n",
       "      <th>AC145212.1</th>\n",
       "      <th>MAFIP</th>\n",
       "      <th>AC011043.1</th>\n",
       "      <th>AL592183.1</th>\n",
       "      <th>AC007325.4</th>\n",
       "      <th>AL354822.1</th>\n",
       "      <th>AC004556.1</th>\n",
       "      <th>AC233755.2</th>\n",
       "      <th>AC233755.1</th>\n",
       "      <th>AC240274.1</th>\n",
       "    </tr>\n",
       "  </thead>\n",
       "  <tbody>\n",
       "    <tr>\n",
       "      <th>4224</th>\n",
       "      <td>Mye_PMAI</td>\n",
       "      <td>A</td>\n",
       "      <td>0</td>\n",
       "      <td>0</td>\n",
       "      <td>0.0</td>\n",
       "      <td>0.0</td>\n",
       "      <td>0.0</td>\n",
       "      <td>0.0</td>\n",
       "      <td>0.0</td>\n",
       "      <td>0.0</td>\n",
       "      <td>...</td>\n",
       "      <td>0.0</td>\n",
       "      <td>0.0</td>\n",
       "      <td>0.0</td>\n",
       "      <td>0.0</td>\n",
       "      <td>0.0</td>\n",
       "      <td>0.0</td>\n",
       "      <td>0.0</td>\n",
       "      <td>0.0</td>\n",
       "      <td>0.0</td>\n",
       "      <td>0.0</td>\n",
       "    </tr>\n",
       "    <tr>\n",
       "      <th>4225</th>\n",
       "      <td>Mye_PMAI</td>\n",
       "      <td>A</td>\n",
       "      <td>1</td>\n",
       "      <td>0</td>\n",
       "      <td>0.0</td>\n",
       "      <td>0.0</td>\n",
       "      <td>0.0</td>\n",
       "      <td>0.0</td>\n",
       "      <td>0.0</td>\n",
       "      <td>0.0</td>\n",
       "      <td>...</td>\n",
       "      <td>0.0</td>\n",
       "      <td>0.0</td>\n",
       "      <td>0.0</td>\n",
       "      <td>0.0</td>\n",
       "      <td>0.0</td>\n",
       "      <td>0.0</td>\n",
       "      <td>0.0</td>\n",
       "      <td>0.0</td>\n",
       "      <td>0.0</td>\n",
       "      <td>0.0</td>\n",
       "    </tr>\n",
       "    <tr>\n",
       "      <th>4226</th>\n",
       "      <td>Mye_PMAI</td>\n",
       "      <td>A</td>\n",
       "      <td>10</td>\n",
       "      <td>0</td>\n",
       "      <td>0.0</td>\n",
       "      <td>0.0</td>\n",
       "      <td>0.0</td>\n",
       "      <td>0.0</td>\n",
       "      <td>0.0</td>\n",
       "      <td>0.0</td>\n",
       "      <td>...</td>\n",
       "      <td>0.0</td>\n",
       "      <td>0.0</td>\n",
       "      <td>0.0</td>\n",
       "      <td>0.0</td>\n",
       "      <td>0.0</td>\n",
       "      <td>0.0</td>\n",
       "      <td>0.0</td>\n",
       "      <td>0.0</td>\n",
       "      <td>0.0</td>\n",
       "      <td>0.0</td>\n",
       "    </tr>\n",
       "    <tr>\n",
       "      <th>4227</th>\n",
       "      <td>Mye_PMAI</td>\n",
       "      <td>A</td>\n",
       "      <td>11</td>\n",
       "      <td>0</td>\n",
       "      <td>0.0</td>\n",
       "      <td>0.0</td>\n",
       "      <td>0.0</td>\n",
       "      <td>0.0</td>\n",
       "      <td>0.0</td>\n",
       "      <td>0.0</td>\n",
       "      <td>...</td>\n",
       "      <td>0.0</td>\n",
       "      <td>0.0</td>\n",
       "      <td>0.0</td>\n",
       "      <td>0.0</td>\n",
       "      <td>0.0</td>\n",
       "      <td>0.0</td>\n",
       "      <td>0.0</td>\n",
       "      <td>0.0</td>\n",
       "      <td>0.0</td>\n",
       "      <td>0.0</td>\n",
       "    </tr>\n",
       "    <tr>\n",
       "      <th>4228</th>\n",
       "      <td>Mye_PMAI</td>\n",
       "      <td>A</td>\n",
       "      <td>12</td>\n",
       "      <td>0</td>\n",
       "      <td>0.0</td>\n",
       "      <td>0.0</td>\n",
       "      <td>0.0</td>\n",
       "      <td>0.0</td>\n",
       "      <td>0.0</td>\n",
       "      <td>0.0</td>\n",
       "      <td>...</td>\n",
       "      <td>0.0</td>\n",
       "      <td>0.0</td>\n",
       "      <td>0.0</td>\n",
       "      <td>0.0</td>\n",
       "      <td>0.0</td>\n",
       "      <td>0.0</td>\n",
       "      <td>0.0</td>\n",
       "      <td>0.0</td>\n",
       "      <td>0.0</td>\n",
       "      <td>0.0</td>\n",
       "    </tr>\n",
       "    <tr>\n",
       "      <th>...</th>\n",
       "      <td>...</td>\n",
       "      <td>...</td>\n",
       "      <td>...</td>\n",
       "      <td>...</td>\n",
       "      <td>...</td>\n",
       "      <td>...</td>\n",
       "      <td>...</td>\n",
       "      <td>...</td>\n",
       "      <td>...</td>\n",
       "      <td>...</td>\n",
       "      <td>...</td>\n",
       "      <td>...</td>\n",
       "      <td>...</td>\n",
       "      <td>...</td>\n",
       "      <td>...</td>\n",
       "      <td>...</td>\n",
       "      <td>...</td>\n",
       "      <td>...</td>\n",
       "      <td>...</td>\n",
       "      <td>...</td>\n",
       "      <td>...</td>\n",
       "    </tr>\n",
       "    <tr>\n",
       "      <th>4603</th>\n",
       "      <td>Mye_PMAI</td>\n",
       "      <td>R</td>\n",
       "      <td>62</td>\n",
       "      <td>0</td>\n",
       "      <td>0.0</td>\n",
       "      <td>0.0</td>\n",
       "      <td>0.0</td>\n",
       "      <td>0.0</td>\n",
       "      <td>0.0</td>\n",
       "      <td>0.0</td>\n",
       "      <td>...</td>\n",
       "      <td>0.0</td>\n",
       "      <td>0.0</td>\n",
       "      <td>0.0</td>\n",
       "      <td>0.0</td>\n",
       "      <td>0.0</td>\n",
       "      <td>0.0</td>\n",
       "      <td>0.0</td>\n",
       "      <td>0.0</td>\n",
       "      <td>0.0</td>\n",
       "      <td>0.0</td>\n",
       "    </tr>\n",
       "    <tr>\n",
       "      <th>4604</th>\n",
       "      <td>Mye_PMAI</td>\n",
       "      <td>R</td>\n",
       "      <td>63</td>\n",
       "      <td>0</td>\n",
       "      <td>0.0</td>\n",
       "      <td>0.0</td>\n",
       "      <td>0.0</td>\n",
       "      <td>0.0</td>\n",
       "      <td>0.0</td>\n",
       "      <td>0.0</td>\n",
       "      <td>...</td>\n",
       "      <td>0.0</td>\n",
       "      <td>0.0</td>\n",
       "      <td>0.0</td>\n",
       "      <td>0.0</td>\n",
       "      <td>0.0</td>\n",
       "      <td>0.0</td>\n",
       "      <td>0.0</td>\n",
       "      <td>0.0</td>\n",
       "      <td>0.0</td>\n",
       "      <td>0.0</td>\n",
       "    </tr>\n",
       "    <tr>\n",
       "      <th>4605</th>\n",
       "      <td>Mye_PMAI</td>\n",
       "      <td>R</td>\n",
       "      <td>7</td>\n",
       "      <td>0</td>\n",
       "      <td>0.0</td>\n",
       "      <td>0.0</td>\n",
       "      <td>0.0</td>\n",
       "      <td>0.0</td>\n",
       "      <td>0.0</td>\n",
       "      <td>0.0</td>\n",
       "      <td>...</td>\n",
       "      <td>0.0</td>\n",
       "      <td>0.0</td>\n",
       "      <td>0.0</td>\n",
       "      <td>0.0</td>\n",
       "      <td>0.0</td>\n",
       "      <td>0.0</td>\n",
       "      <td>0.0</td>\n",
       "      <td>0.0</td>\n",
       "      <td>0.0</td>\n",
       "      <td>0.0</td>\n",
       "    </tr>\n",
       "    <tr>\n",
       "      <th>4606</th>\n",
       "      <td>Mye_PMAI</td>\n",
       "      <td>R</td>\n",
       "      <td>8</td>\n",
       "      <td>0</td>\n",
       "      <td>0.0</td>\n",
       "      <td>0.0</td>\n",
       "      <td>0.0</td>\n",
       "      <td>0.0</td>\n",
       "      <td>0.0</td>\n",
       "      <td>0.0</td>\n",
       "      <td>...</td>\n",
       "      <td>0.0</td>\n",
       "      <td>0.0</td>\n",
       "      <td>0.0</td>\n",
       "      <td>0.0</td>\n",
       "      <td>0.0</td>\n",
       "      <td>0.0</td>\n",
       "      <td>0.0</td>\n",
       "      <td>0.0</td>\n",
       "      <td>0.0</td>\n",
       "      <td>0.0</td>\n",
       "    </tr>\n",
       "    <tr>\n",
       "      <th>4607</th>\n",
       "      <td>Mye_PMAI</td>\n",
       "      <td>R</td>\n",
       "      <td>9</td>\n",
       "      <td>0</td>\n",
       "      <td>0.0</td>\n",
       "      <td>0.0</td>\n",
       "      <td>0.0</td>\n",
       "      <td>0.0</td>\n",
       "      <td>0.0</td>\n",
       "      <td>0.0</td>\n",
       "      <td>...</td>\n",
       "      <td>0.0</td>\n",
       "      <td>0.0</td>\n",
       "      <td>0.0</td>\n",
       "      <td>0.0</td>\n",
       "      <td>0.0</td>\n",
       "      <td>0.0</td>\n",
       "      <td>0.0</td>\n",
       "      <td>0.0</td>\n",
       "      <td>0.0</td>\n",
       "      <td>0.0</td>\n",
       "    </tr>\n",
       "  </tbody>\n",
       "</table>\n",
       "<p>384 rows × 20607 columns</p>\n",
       "</div>"
      ],
      "text/plain": [
       "            CT COND FID  NUM_CELLS  AL627309.1  AL627309.3  AL669831.5  \\\n",
       "4224  Mye_PMAI    A   0          0         0.0         0.0         0.0   \n",
       "4225  Mye_PMAI    A   1          0         0.0         0.0         0.0   \n",
       "4226  Mye_PMAI    A  10          0         0.0         0.0         0.0   \n",
       "4227  Mye_PMAI    A  11          0         0.0         0.0         0.0   \n",
       "4228  Mye_PMAI    A  12          0         0.0         0.0         0.0   \n",
       "...        ...  ...  ..        ...         ...         ...         ...   \n",
       "4603  Mye_PMAI    R  62          0         0.0         0.0         0.0   \n",
       "4604  Mye_PMAI    R  63          0         0.0         0.0         0.0   \n",
       "4605  Mye_PMAI    R   7          0         0.0         0.0         0.0   \n",
       "4606  Mye_PMAI    R   8          0         0.0         0.0         0.0   \n",
       "4607  Mye_PMAI    R   9          0         0.0         0.0         0.0   \n",
       "\n",
       "      LINC00115  FAM41C  AL645608.3  ...  AC145212.1  MAFIP  AC011043.1  \\\n",
       "4224        0.0     0.0         0.0  ...         0.0    0.0         0.0   \n",
       "4225        0.0     0.0         0.0  ...         0.0    0.0         0.0   \n",
       "4226        0.0     0.0         0.0  ...         0.0    0.0         0.0   \n",
       "4227        0.0     0.0         0.0  ...         0.0    0.0         0.0   \n",
       "4228        0.0     0.0         0.0  ...         0.0    0.0         0.0   \n",
       "...         ...     ...         ...  ...         ...    ...         ...   \n",
       "4603        0.0     0.0         0.0  ...         0.0    0.0         0.0   \n",
       "4604        0.0     0.0         0.0  ...         0.0    0.0         0.0   \n",
       "4605        0.0     0.0         0.0  ...         0.0    0.0         0.0   \n",
       "4606        0.0     0.0         0.0  ...         0.0    0.0         0.0   \n",
       "4607        0.0     0.0         0.0  ...         0.0    0.0         0.0   \n",
       "\n",
       "      AL592183.1  AC007325.4  AL354822.1  AC004556.1  AC233755.2  AC233755.1  \\\n",
       "4224         0.0         0.0         0.0         0.0         0.0         0.0   \n",
       "4225         0.0         0.0         0.0         0.0         0.0         0.0   \n",
       "4226         0.0         0.0         0.0         0.0         0.0         0.0   \n",
       "4227         0.0         0.0         0.0         0.0         0.0         0.0   \n",
       "4228         0.0         0.0         0.0         0.0         0.0         0.0   \n",
       "...          ...         ...         ...         ...         ...         ...   \n",
       "4603         0.0         0.0         0.0         0.0         0.0         0.0   \n",
       "4604         0.0         0.0         0.0         0.0         0.0         0.0   \n",
       "4605         0.0         0.0         0.0         0.0         0.0         0.0   \n",
       "4606         0.0         0.0         0.0         0.0         0.0         0.0   \n",
       "4607         0.0         0.0         0.0         0.0         0.0         0.0   \n",
       "\n",
       "      AC240274.1  \n",
       "4224         0.0  \n",
       "4225         0.0  \n",
       "4226         0.0  \n",
       "4227         0.0  \n",
       "4228         0.0  \n",
       "...          ...  \n",
       "4603         0.0  \n",
       "4604         0.0  \n",
       "4605         0.0  \n",
       "4606         0.0  \n",
       "4607         0.0  \n",
       "\n",
       "[384 rows x 20607 columns]"
      ]
     },
     "execution_count": 91,
     "metadata": {},
     "output_type": "execute_result"
    }
   ],
   "source": [
    "ct_cond_id_df[ct_cond_id_df['CT'] == 'Mye_PMAI']"
   ]
  },
  {
   "cell_type": "code",
   "execution_count": 92,
   "metadata": {},
   "outputs": [],
   "source": [
    "ct_cond_id_df = ct_cond_id_df[~((ct_cond_id_df['CT'] == 'Mye_PMAI') & (ct_cond_id_df['COND'].isin(['A','B','C','G','R'])))]"
   ]
  },
  {
   "cell_type": "code",
   "execution_count": 93,
   "metadata": {},
   "outputs": [],
   "source": [
    "ct_cond_id_df = ct_cond_id_df[~((ct_cond_id_df['CT'] == 'cM') & (ct_cond_id_df['COND'] == 'P'))]\n",
    "ct_cond_id_df = ct_cond_id_df[~((ct_cond_id_df['CT'] == 'ncM') & (ct_cond_id_df['COND'] == 'P'))]\n",
    "ct_cond_id_df = ct_cond_id_df[~((ct_cond_id_df['CT'] == 'cDC') & (ct_cond_id_df['COND'] == 'P'))]"
   ]
  },
  {
   "cell_type": "code",
   "execution_count": 94,
   "metadata": {},
   "outputs": [],
   "source": [
    "ct_cond_id_df['CT'] = ct_cond_id_df['CT'].str.replace('Mye_PMAI','M_cDC')"
   ]
  },
  {
   "cell_type": "code",
   "execution_count": 95,
   "metadata": {},
   "outputs": [],
   "source": [
    "ct_cond_id_mono_cdc = list(it.product(['M_cDC'], ['A', 'B', 'C', 'G', 'R'], free_ids))"
   ]
  },
  {
   "cell_type": "code",
   "execution_count": 96,
   "metadata": {},
   "outputs": [
    {
     "data": {
      "application/vnd.jupyter.widget-view+json": {
       "model_id": "7f8611cfebbd44a1a74113efe233beb9",
       "version_major": 2,
       "version_minor": 0
      },
      "text/plain": [
       "  0%|          | 0/320 [00:00<?, ?it/s]"
      ]
     },
     "metadata": {},
     "output_type": "display_data"
    }
   ],
   "source": [
    "counts_genes_mono_cdc = list()\n",
    "cell_counts_mono_cdc = list()\n",
    "for ct, cond, free_id in tqdm(ct_cond_id_mono_cdc):\n",
    "    arr = raw_mrna[((raw_mrna.obs[ct_type] == 'ncM') | \n",
    "                    (raw_mrna.obs[ct_type] == 'cM') |\n",
    "                    (raw_mrna.obs[ct_type] == 'cDC')\n",
    "                   ) & \n",
    "                   (raw_mrna.obs['cond'] == cond) &\n",
    "                   (raw_mrna.obs['free_id'] == free_id)].X.toarray()\n",
    "    cell_counts_mono_cdc.append(len(arr))\n",
    "    counts_genes_mono_cdc.append(arr.sum(axis=0))"
   ]
  },
  {
   "cell_type": "code",
   "execution_count": 97,
   "metadata": {},
   "outputs": [],
   "source": [
    "ct_cond_id_mono_cdc_df = pd.DataFrame(ct_cond_id_mono_cdc, columns=['CT','COND', 'FID'])"
   ]
  },
  {
   "cell_type": "code",
   "execution_count": 98,
   "metadata": {},
   "outputs": [],
   "source": [
    "ct_cond_id_mono_cdc_df = ct_cond_id_mono_cdc_df.join(pd.DataFrame(data=np.array(cell_counts_mono_cdc),columns=['NUM_CELLS']))\n",
    "ct_cond_id_mono_cdc_df = ct_cond_id_mono_cdc_df.join(pd.DataFrame(data=np.array(counts_genes_mono_cdc),columns=raw_mrna.var_names))"
   ]
  },
  {
   "cell_type": "code",
   "execution_count": 99,
   "metadata": {},
   "outputs": [],
   "source": [
    "ct_df = pd.concat([ct_cond_id_df, ct_cond_id_mono_cdc_df])"
   ]
  },
  {
   "cell_type": "markdown",
   "metadata": {},
   "source": [
    "Prepare for export."
   ]
  },
  {
   "cell_type": "code",
   "execution_count": 100,
   "metadata": {},
   "outputs": [],
   "source": [
    "lot = list()\n",
    "for i in ct_df[['CT','COND']].itertuples(index=False):\n",
    "    lot.append('-'.join(tuple(i)))"
   ]
  },
  {
   "cell_type": "markdown",
   "metadata": {},
   "source": [
    "Final checks:"
   ]
  },
  {
   "cell_type": "code",
   "execution_count": 101,
   "metadata": {},
   "outputs": [
    {
     "data": {
      "text/plain": [
       "(array(['B_Mem-A', 'B_Mem-B', 'B_Mem-C', 'B_Mem-G', 'B_Mem-P', 'B_Mem-R',\n",
       "        'B_Naive-A', 'B_Naive-B', 'B_Naive-C', 'B_Naive-G', 'B_Naive-P',\n",
       "        'B_Naive-R', 'HSC-A', 'HSC-B', 'HSC-C', 'HSC-G', 'HSC-P', 'HSC-R',\n",
       "        'M_cDC-A', 'M_cDC-B', 'M_cDC-C', 'M_cDC-G', 'M_cDC-P', 'M_cDC-R',\n",
       "        'NK-A', 'NK-B', 'NK-C', 'NK-G', 'NK-P', 'NK-R', 'T4_EM-A',\n",
       "        'T4_EM-B', 'T4_EM-C', 'T4_EM-G', 'T4_EM-P', 'T4_EM-R',\n",
       "        'T4_Naive-A', 'T4_Naive-B', 'T4_Naive-C', 'T4_Naive-G',\n",
       "        'T4_Naive-P', 'T4_Naive-R', 'T8_Naive-A', 'T8_Naive-B',\n",
       "        'T8_Naive-C', 'T8_Naive-G', 'T8_Naive-P', 'T8_Naive-R', 'T_Tox-A',\n",
       "        'T_Tox-B', 'T_Tox-C', 'T_Tox-G', 'T_Tox-P', 'T_Tox-R', 'cDC-A',\n",
       "        'cDC-B', 'cDC-C', 'cDC-G', 'cDC-R', 'cM-A', 'cM-B', 'cM-C', 'cM-G',\n",
       "        'cM-R', 'ncM-A', 'ncM-B', 'ncM-C', 'ncM-G', 'ncM-R', 'pDC-A',\n",
       "        'pDC-B', 'pDC-C', 'pDC-G', 'pDC-P', 'pDC-R'], dtype='<U10'),\n",
       " array([64, 64, 64, 64, 64, 64, 64, 64, 64, 64, 64, 64, 64, 64, 64, 64, 64,\n",
       "        64, 64, 64, 64, 64, 64, 64, 64, 64, 64, 64, 64, 64, 64, 64, 64, 64,\n",
       "        64, 64, 64, 64, 64, 64, 64, 64, 64, 64, 64, 64, 64, 64, 64, 64, 64,\n",
       "        64, 64, 64, 64, 64, 64, 64, 64, 64, 64, 64, 64, 64, 64, 64, 64, 64,\n",
       "        64, 64, 64, 64, 64, 64, 64]))"
      ]
     },
     "execution_count": 101,
     "metadata": {},
     "output_type": "execute_result"
    }
   ],
   "source": [
    "np.unique(lot, return_counts=True)"
   ]
  },
  {
   "cell_type": "code",
   "execution_count": 102,
   "metadata": {},
   "outputs": [
    {
     "data": {
      "text/plain": [
       "HSC         384\n",
       "pDC         384\n",
       "B_Naive     384\n",
       "B_Mem       384\n",
       "T8_Naive    384\n",
       "T4_EM       384\n",
       "NK          384\n",
       "T4_Naive    384\n",
       "T_Tox       384\n",
       "cM          320\n",
       "ncM         320\n",
       "cDC         320\n",
       "M_cDC        64\n",
       "Name: CT, dtype: int64"
      ]
     },
     "execution_count": 102,
     "metadata": {},
     "output_type": "execute_result"
    }
   ],
   "source": [
    "ct_cond_id_df['CT'].value_counts()"
   ]
  },
  {
   "cell_type": "code",
   "execution_count": 103,
   "metadata": {},
   "outputs": [
    {
     "data": {
      "text/plain": [
       "0"
      ]
     },
     "execution_count": 103,
     "metadata": {},
     "output_type": "execute_result"
    }
   ],
   "source": [
    "ct_df.isna().sum().sum()"
   ]
  },
  {
   "cell_type": "code",
   "execution_count": 104,
   "metadata": {},
   "outputs": [
    {
     "data": {
      "text/plain": [
       "HSC         384\n",
       "pDC         384\n",
       "M_cDC       384\n",
       "B_Naive     384\n",
       "B_Mem       384\n",
       "T8_Naive    384\n",
       "T4_EM       384\n",
       "NK          384\n",
       "T4_Naive    384\n",
       "T_Tox       384\n",
       "cM          320\n",
       "ncM         320\n",
       "cDC         320\n",
       "Name: CT, dtype: int64"
      ]
     },
     "execution_count": 104,
     "metadata": {},
     "output_type": "execute_result"
    }
   ],
   "source": [
    "ct_df['CT'].value_counts()"
   ]
  },
  {
   "cell_type": "code",
   "execution_count": 105,
   "metadata": {},
   "outputs": [
    {
     "data": {
      "image/png": "[encoded data removed]",
      "text/plain": [
       "<Figure size 320x320 with 1 Axes>"
      ]
     },
     "metadata": {
      "image/png": {
       "height": 282,
       "width": 325
      },
      "needs_background": "light"
     },
     "output_type": "display_data"
    }
   ],
   "source": [
    "plt.hist(ct_df['NUM_CELLS'].values,bins=100);"
   ]
  },
  {
   "cell_type": "markdown",
   "metadata": {},
   "source": [
    "#### Export"
   ]
  },
  {
   "cell_type": "code",
   "execution_count": 106,
   "metadata": {},
   "outputs": [],
   "source": [
    "ct_df.drop(columns=['NUM_CELLS'],inplace=True)"
   ]
  },
  {
   "cell_type": "code",
   "execution_count": 107,
   "metadata": {},
   "outputs": [],
   "source": [
    "path = prefix_mrna + 'pkls/pseudobulk_ct2.pkl'\n",
    "# ct_df.to_pickle(path)\n",
    "ct_df = pd.read_pickle(path)"
   ]
  },
  {
   "cell_type": "markdown",
   "metadata": {},
   "source": [
    "### ADTs"
   ]
  },
  {
   "cell_type": "markdown",
   "metadata": {},
   "source": [
    "#### Processing"
   ]
  },
  {
   "cell_type": "markdown",
   "metadata": {},
   "source": [
    "Prepare `df`s."
   ]
  },
  {
   "cell_type": "code",
   "execution_count": 41,
   "metadata": {},
   "outputs": [],
   "source": [
    "ct_type = 'ct2'"
   ]
  },
  {
   "cell_type": "code",
   "execution_count": 42,
   "metadata": {},
   "outputs": [],
   "source": [
    "raw_adts.obs = concat.obs.copy() # take the whole `.obs` because we need FID and COND as well"
   ]
  },
  {
   "cell_type": "code",
   "execution_count": 43,
   "metadata": {},
   "outputs": [],
   "source": [
    "conds = concat.obs['cond'].dtype.categories\n",
    "clusts = concat.obs[ct_type].dtype.categories"
   ]
  },
  {
   "cell_type": "code",
   "execution_count": 44,
   "metadata": {},
   "outputs": [],
   "source": [
    "cond_ct_df = pd.DataFrame(index=conds, columns=clusts, dtype=np.int)"
   ]
  },
  {
   "cell_type": "markdown",
   "metadata": {},
   "source": [
    "Get cell numbers."
   ]
  },
  {
   "cell_type": "code",
   "execution_count": 45,
   "metadata": {},
   "outputs": [
    {
     "data": {
      "application/vnd.jupyter.widget-view+json": {
       "model_id": "380f665d2467495baff9ce053fb24afb",
       "version_major": 2,
       "version_minor": 0
      },
      "text/plain": [
       "  0%|          | 0/7 [00:00<?, ?it/s]"
      ]
     },
     "metadata": {},
     "output_type": "display_data"
    }
   ],
   "source": [
    "for cond in tqdm(conds):\n",
    "    for clust in clusts:\n",
    "        cond_ct_df.loc[cond, clust] = concat[(concat.obs['cond'] == cond) & (concat.obs[ct_type] == clust)].shape[0]"
   ]
  },
  {
   "cell_type": "markdown",
   "metadata": {},
   "source": [
    "Divide by the total per cell type, then remove small populations we don't want to run DE on."
   ]
  },
  {
   "cell_type": "code",
   "execution_count": 46,
   "metadata": {},
   "outputs": [],
   "source": [
    "cond_ct_df_div = cond_ct_df.divide(cond_ct_df.sum(0),1)"
   ]
  },
  {
   "cell_type": "code",
   "execution_count": 47,
   "metadata": {},
   "outputs": [
    {
     "name": "stdout",
     "output_type": "stream",
     "text": [
      "['T4_Naive', 'T4_EM', 'cM', 'T8_Naive', 'T_Tox', 'B_Naive', 'NK', 'B_Mem', 'cDC', 'ncM', 'pDC', 'Mye_PMAI', 'HSC']\n"
     ]
    }
   ],
   "source": [
    "high_count_cts = concat.obs[ct_type].value_counts().drop(['Plasma', 'Mitotic']).index.tolist()\n",
    "print(high_count_cts)"
   ]
  },
  {
   "cell_type": "code",
   "execution_count": 48,
   "metadata": {},
   "outputs": [],
   "source": [
    "free_ids = np.unique(concat.obs['free_id'].values)\n",
    "ind_ct = pd.DataFrame(0, index=free_ids, columns=high_count_cts)"
   ]
  },
  {
   "cell_type": "code",
   "execution_count": 49,
   "metadata": {},
   "outputs": [
    {
     "data": {
      "application/vnd.jupyter.widget-view+json": {
       "model_id": "5ab512b4d16b415da479703bfcbf8260",
       "version_major": 2,
       "version_minor": 0
      },
      "text/plain": [
       "0it [00:00, ?it/s]"
      ]
     },
     "metadata": {},
     "output_type": "display_data"
    }
   ],
   "source": [
    "for free_id, ct in tqdm(it.product(free_ids, high_count_cts)):\n",
    "    ind_ct.loc[free_id, ct] = len(concat.obs[(concat.obs['free_id'] == free_id) & (concat.obs[ct_type] == ct)])"
   ]
  },
  {
   "cell_type": "code",
   "execution_count": 50,
   "metadata": {},
   "outputs": [],
   "source": [
    "ct_cond_id = list(it.product(high_count_cts, ['A', 'B', 'C', 'G', 'P', 'R'], free_ids))"
   ]
  },
  {
   "cell_type": "code",
   "execution_count": 51,
   "metadata": {},
   "outputs": [],
   "source": [
    "ct_cond_id_df = pd.DataFrame(ct_cond_id, columns=['CT','COND', 'FID'])"
   ]
  },
  {
   "cell_type": "code",
   "execution_count": 52,
   "metadata": {},
   "outputs": [
    {
     "data": {
      "text/html": [
       "<div>\n",
       "<style scoped>\n",
       "    .dataframe tbody tr th:only-of-type {\n",
       "        vertical-align: middle;\n",
       "    }\n",
       "\n",
       "    .dataframe tbody tr th {\n",
       "        vertical-align: top;\n",
       "    }\n",
       "\n",
       "    .dataframe thead th {\n",
       "        text-align: right;\n",
       "    }\n",
       "</style>\n",
       "<table border=\"1\" class=\"dataframe\">\n",
       "  <thead>\n",
       "    <tr style=\"text-align: right;\">\n",
       "      <th></th>\n",
       "      <th>CT</th>\n",
       "      <th>COND</th>\n",
       "      <th>FID</th>\n",
       "    </tr>\n",
       "  </thead>\n",
       "  <tbody>\n",
       "    <tr>\n",
       "      <th>0</th>\n",
       "      <td>T4_Naive</td>\n",
       "      <td>A</td>\n",
       "      <td>0</td>\n",
       "    </tr>\n",
       "    <tr>\n",
       "      <th>1</th>\n",
       "      <td>T4_Naive</td>\n",
       "      <td>A</td>\n",
       "      <td>1</td>\n",
       "    </tr>\n",
       "    <tr>\n",
       "      <th>2</th>\n",
       "      <td>T4_Naive</td>\n",
       "      <td>A</td>\n",
       "      <td>10</td>\n",
       "    </tr>\n",
       "    <tr>\n",
       "      <th>3</th>\n",
       "      <td>T4_Naive</td>\n",
       "      <td>A</td>\n",
       "      <td>11</td>\n",
       "    </tr>\n",
       "    <tr>\n",
       "      <th>4</th>\n",
       "      <td>T4_Naive</td>\n",
       "      <td>A</td>\n",
       "      <td>12</td>\n",
       "    </tr>\n",
       "    <tr>\n",
       "      <th>...</th>\n",
       "      <td>...</td>\n",
       "      <td>...</td>\n",
       "      <td>...</td>\n",
       "    </tr>\n",
       "    <tr>\n",
       "      <th>4987</th>\n",
       "      <td>HSC</td>\n",
       "      <td>R</td>\n",
       "      <td>62</td>\n",
       "    </tr>\n",
       "    <tr>\n",
       "      <th>4988</th>\n",
       "      <td>HSC</td>\n",
       "      <td>R</td>\n",
       "      <td>63</td>\n",
       "    </tr>\n",
       "    <tr>\n",
       "      <th>4989</th>\n",
       "      <td>HSC</td>\n",
       "      <td>R</td>\n",
       "      <td>7</td>\n",
       "    </tr>\n",
       "    <tr>\n",
       "      <th>4990</th>\n",
       "      <td>HSC</td>\n",
       "      <td>R</td>\n",
       "      <td>8</td>\n",
       "    </tr>\n",
       "    <tr>\n",
       "      <th>4991</th>\n",
       "      <td>HSC</td>\n",
       "      <td>R</td>\n",
       "      <td>9</td>\n",
       "    </tr>\n",
       "  </tbody>\n",
       "</table>\n",
       "<p>4992 rows × 3 columns</p>\n",
       "</div>"
      ],
      "text/plain": [
       "            CT COND FID\n",
       "0     T4_Naive    A   0\n",
       "1     T4_Naive    A   1\n",
       "2     T4_Naive    A  10\n",
       "3     T4_Naive    A  11\n",
       "4     T4_Naive    A  12\n",
       "...        ...  ...  ..\n",
       "4987       HSC    R  62\n",
       "4988       HSC    R  63\n",
       "4989       HSC    R   7\n",
       "4990       HSC    R   8\n",
       "4991       HSC    R   9\n",
       "\n",
       "[4992 rows x 3 columns]"
      ]
     },
     "execution_count": 52,
     "metadata": {},
     "output_type": "execute_result"
    }
   ],
   "source": [
    "ct_cond_id_df"
   ]
  },
  {
   "cell_type": "markdown",
   "metadata": {},
   "source": [
    "Now get the actual transcript numbers."
   ]
  },
  {
   "cell_type": "code",
   "execution_count": 53,
   "metadata": {},
   "outputs": [
    {
     "data": {
      "application/vnd.jupyter.widget-view+json": {
       "model_id": "19c2a0bec7264c1fb4b952573c950095",
       "version_major": 2,
       "version_minor": 0
      },
      "text/plain": [
       "  0%|          | 0/4992 [00:00<?, ?it/s]"
      ]
     },
     "metadata": {},
     "output_type": "display_data"
    }
   ],
   "source": [
    "counts_genes = list()\n",
    "cell_counts = list()\n",
    "for ct, cond, free_id in tqdm(ct_cond_id):\n",
    "    arr = raw_adts[(raw_adts.obs[ct_type] == ct) & (raw_adts.obs['cond'] == cond) & (raw_adts.obs['free_id'] == free_id)].X.toarray()\n",
    "    cell_counts.append(len(arr))\n",
    "    counts_genes.append(arr.sum(axis=0))"
   ]
  },
  {
   "cell_type": "code",
   "execution_count": 54,
   "metadata": {},
   "outputs": [],
   "source": [
    "ct_cond_id_df = ct_cond_id_df.join(pd.DataFrame(data=np.array(cell_counts),columns=['NUM_CELLS']))\n",
    "ct_cond_id_df = ct_cond_id_df.join(pd.DataFrame(data=np.array(counts_genes),columns=raw_adts.var_names))"
   ]
  },
  {
   "cell_type": "code",
   "execution_count": 55,
   "metadata": {},
   "outputs": [],
   "source": [
    "lot = list()\n",
    "for i in ct_cond_id_df[['CT','COND']].itertuples(index=False):\n",
    "    lot.append('-'.join(tuple(i)))"
   ]
  },
  {
   "cell_type": "code",
   "execution_count": 56,
   "metadata": {},
   "outputs": [
    {
     "data": {
      "text/plain": [
       "(array(['B_Mem-A', 'B_Mem-B', 'B_Mem-C', 'B_Mem-G', 'B_Mem-P', 'B_Mem-R',\n",
       "        'B_Naive-A', 'B_Naive-B', 'B_Naive-C', 'B_Naive-G', 'B_Naive-P',\n",
       "        'B_Naive-R', 'HSC-A', 'HSC-B', 'HSC-C', 'HSC-G', 'HSC-P', 'HSC-R',\n",
       "        'Mye_PMAI-A', 'Mye_PMAI-B', 'Mye_PMAI-C', 'Mye_PMAI-G',\n",
       "        'Mye_PMAI-P', 'Mye_PMAI-R', 'NK-A', 'NK-B', 'NK-C', 'NK-G', 'NK-P',\n",
       "        'NK-R', 'T4_EM-A', 'T4_EM-B', 'T4_EM-C', 'T4_EM-G', 'T4_EM-P',\n",
       "        'T4_EM-R', 'T4_Naive-A', 'T4_Naive-B', 'T4_Naive-C', 'T4_Naive-G',\n",
       "        'T4_Naive-P', 'T4_Naive-R', 'T8_Naive-A', 'T8_Naive-B',\n",
       "        'T8_Naive-C', 'T8_Naive-G', 'T8_Naive-P', 'T8_Naive-R', 'T_Tox-A',\n",
       "        'T_Tox-B', 'T_Tox-C', 'T_Tox-G', 'T_Tox-P', 'T_Tox-R', 'cDC-A',\n",
       "        'cDC-B', 'cDC-C', 'cDC-G', 'cDC-P', 'cDC-R', 'cM-A', 'cM-B',\n",
       "        'cM-C', 'cM-G', 'cM-P', 'cM-R', 'ncM-A', 'ncM-B', 'ncM-C', 'ncM-G',\n",
       "        'ncM-P', 'ncM-R', 'pDC-A', 'pDC-B', 'pDC-C', 'pDC-G', 'pDC-P',\n",
       "        'pDC-R'], dtype='<U10'),\n",
       " array([64, 64, 64, 64, 64, 64, 64, 64, 64, 64, 64, 64, 64, 64, 64, 64, 64,\n",
       "        64, 64, 64, 64, 64, 64, 64, 64, 64, 64, 64, 64, 64, 64, 64, 64, 64,\n",
       "        64, 64, 64, 64, 64, 64, 64, 64, 64, 64, 64, 64, 64, 64, 64, 64, 64,\n",
       "        64, 64, 64, 64, 64, 64, 64, 64, 64, 64, 64, 64, 64, 64, 64, 64, 64,\n",
       "        64, 64, 64, 64, 64, 64, 64, 64, 64, 64]))"
      ]
     },
     "execution_count": 56,
     "metadata": {},
     "output_type": "execute_result"
    }
   ],
   "source": [
    "np.unique(lot, return_counts=True)"
   ]
  },
  {
   "cell_type": "markdown",
   "metadata": {},
   "source": [
    "Because the PMA/I monocytes and cDCs (`Mye_PMAI`)didn't separate out and are grouped together in the final object, we still want to compare them to the other conditions but make sure the populations in other conditions are comparable. Therefore, I will make equivalent populations in the other conditions."
   ]
  },
  {
   "cell_type": "code",
   "execution_count": 57,
   "metadata": {},
   "outputs": [
    {
     "data": {
      "text/html": [
       "<div>\n",
       "<style scoped>\n",
       "    .dataframe tbody tr th:only-of-type {\n",
       "        vertical-align: middle;\n",
       "    }\n",
       "\n",
       "    .dataframe tbody tr th {\n",
       "        vertical-align: top;\n",
       "    }\n",
       "\n",
       "    .dataframe thead th {\n",
       "        text-align: right;\n",
       "    }\n",
       "</style>\n",
       "<table border=\"1\" class=\"dataframe\">\n",
       "  <thead>\n",
       "    <tr style=\"text-align: right;\">\n",
       "      <th></th>\n",
       "      <th>CT</th>\n",
       "      <th>COND</th>\n",
       "      <th>FID</th>\n",
       "      <th>NUM_CELLS</th>\n",
       "      <th>CD103|ITGAE</th>\n",
       "      <th>CD137|TNFRSF9</th>\n",
       "      <th>CD274|CD274</th>\n",
       "      <th>CD11b|ITGAM</th>\n",
       "      <th>CD39|ENTPD1</th>\n",
       "      <th>CD197|CCR7</th>\n",
       "      <th>...</th>\n",
       "      <th>CD49a|ITGA1</th>\n",
       "      <th>CD133|PROM</th>\n",
       "      <th>CD357|TNFRSF18</th>\n",
       "      <th>CD270|TNFRSF14</th>\n",
       "      <th>IL-21R|IL21R</th>\n",
       "      <th>B7-H4|VTCN1</th>\n",
       "      <th>CD26|DPP4</th>\n",
       "      <th>CD155|PVR</th>\n",
       "      <th>CD30|TNFRSF8</th>\n",
       "      <th>CD49E|ITGA5</th>\n",
       "    </tr>\n",
       "  </thead>\n",
       "  <tbody>\n",
       "    <tr>\n",
       "      <th>4224</th>\n",
       "      <td>Mye_PMAI</td>\n",
       "      <td>A</td>\n",
       "      <td>0</td>\n",
       "      <td>0</td>\n",
       "      <td>0.0</td>\n",
       "      <td>0.0</td>\n",
       "      <td>0.0</td>\n",
       "      <td>0.0</td>\n",
       "      <td>0.0</td>\n",
       "      <td>0.0</td>\n",
       "      <td>...</td>\n",
       "      <td>0.0</td>\n",
       "      <td>0.0</td>\n",
       "      <td>0.0</td>\n",
       "      <td>0.0</td>\n",
       "      <td>0.0</td>\n",
       "      <td>0.0</td>\n",
       "      <td>0.0</td>\n",
       "      <td>0.0</td>\n",
       "      <td>0.0</td>\n",
       "      <td>0.0</td>\n",
       "    </tr>\n",
       "    <tr>\n",
       "      <th>4225</th>\n",
       "      <td>Mye_PMAI</td>\n",
       "      <td>A</td>\n",
       "      <td>1</td>\n",
       "      <td>0</td>\n",
       "      <td>0.0</td>\n",
       "      <td>0.0</td>\n",
       "      <td>0.0</td>\n",
       "      <td>0.0</td>\n",
       "      <td>0.0</td>\n",
       "      <td>0.0</td>\n",
       "      <td>...</td>\n",
       "      <td>0.0</td>\n",
       "      <td>0.0</td>\n",
       "      <td>0.0</td>\n",
       "      <td>0.0</td>\n",
       "      <td>0.0</td>\n",
       "      <td>0.0</td>\n",
       "      <td>0.0</td>\n",
       "      <td>0.0</td>\n",
       "      <td>0.0</td>\n",
       "      <td>0.0</td>\n",
       "    </tr>\n",
       "    <tr>\n",
       "      <th>4226</th>\n",
       "      <td>Mye_PMAI</td>\n",
       "      <td>A</td>\n",
       "      <td>10</td>\n",
       "      <td>0</td>\n",
       "      <td>0.0</td>\n",
       "      <td>0.0</td>\n",
       "      <td>0.0</td>\n",
       "      <td>0.0</td>\n",
       "      <td>0.0</td>\n",
       "      <td>0.0</td>\n",
       "      <td>...</td>\n",
       "      <td>0.0</td>\n",
       "      <td>0.0</td>\n",
       "      <td>0.0</td>\n",
       "      <td>0.0</td>\n",
       "      <td>0.0</td>\n",
       "      <td>0.0</td>\n",
       "      <td>0.0</td>\n",
       "      <td>0.0</td>\n",
       "      <td>0.0</td>\n",
       "      <td>0.0</td>\n",
       "    </tr>\n",
       "    <tr>\n",
       "      <th>4227</th>\n",
       "      <td>Mye_PMAI</td>\n",
       "      <td>A</td>\n",
       "      <td>11</td>\n",
       "      <td>0</td>\n",
       "      <td>0.0</td>\n",
       "      <td>0.0</td>\n",
       "      <td>0.0</td>\n",
       "      <td>0.0</td>\n",
       "      <td>0.0</td>\n",
       "      <td>0.0</td>\n",
       "      <td>...</td>\n",
       "      <td>0.0</td>\n",
       "      <td>0.0</td>\n",
       "      <td>0.0</td>\n",
       "      <td>0.0</td>\n",
       "      <td>0.0</td>\n",
       "      <td>0.0</td>\n",
       "      <td>0.0</td>\n",
       "      <td>0.0</td>\n",
       "      <td>0.0</td>\n",
       "      <td>0.0</td>\n",
       "    </tr>\n",
       "    <tr>\n",
       "      <th>4228</th>\n",
       "      <td>Mye_PMAI</td>\n",
       "      <td>A</td>\n",
       "      <td>12</td>\n",
       "      <td>0</td>\n",
       "      <td>0.0</td>\n",
       "      <td>0.0</td>\n",
       "      <td>0.0</td>\n",
       "      <td>0.0</td>\n",
       "      <td>0.0</td>\n",
       "      <td>0.0</td>\n",
       "      <td>...</td>\n",
       "      <td>0.0</td>\n",
       "      <td>0.0</td>\n",
       "      <td>0.0</td>\n",
       "      <td>0.0</td>\n",
       "      <td>0.0</td>\n",
       "      <td>0.0</td>\n",
       "      <td>0.0</td>\n",
       "      <td>0.0</td>\n",
       "      <td>0.0</td>\n",
       "      <td>0.0</td>\n",
       "    </tr>\n",
       "    <tr>\n",
       "      <th>...</th>\n",
       "      <td>...</td>\n",
       "      <td>...</td>\n",
       "      <td>...</td>\n",
       "      <td>...</td>\n",
       "      <td>...</td>\n",
       "      <td>...</td>\n",
       "      <td>...</td>\n",
       "      <td>...</td>\n",
       "      <td>...</td>\n",
       "      <td>...</td>\n",
       "      <td>...</td>\n",
       "      <td>...</td>\n",
       "      <td>...</td>\n",
       "      <td>...</td>\n",
       "      <td>...</td>\n",
       "      <td>...</td>\n",
       "      <td>...</td>\n",
       "      <td>...</td>\n",
       "      <td>...</td>\n",
       "      <td>...</td>\n",
       "      <td>...</td>\n",
       "    </tr>\n",
       "    <tr>\n",
       "      <th>4603</th>\n",
       "      <td>Mye_PMAI</td>\n",
       "      <td>R</td>\n",
       "      <td>62</td>\n",
       "      <td>0</td>\n",
       "      <td>0.0</td>\n",
       "      <td>0.0</td>\n",
       "      <td>0.0</td>\n",
       "      <td>0.0</td>\n",
       "      <td>0.0</td>\n",
       "      <td>0.0</td>\n",
       "      <td>...</td>\n",
       "      <td>0.0</td>\n",
       "      <td>0.0</td>\n",
       "      <td>0.0</td>\n",
       "      <td>0.0</td>\n",
       "      <td>0.0</td>\n",
       "      <td>0.0</td>\n",
       "      <td>0.0</td>\n",
       "      <td>0.0</td>\n",
       "      <td>0.0</td>\n",
       "      <td>0.0</td>\n",
       "    </tr>\n",
       "    <tr>\n",
       "      <th>4604</th>\n",
       "      <td>Mye_PMAI</td>\n",
       "      <td>R</td>\n",
       "      <td>63</td>\n",
       "      <td>0</td>\n",
       "      <td>0.0</td>\n",
       "      <td>0.0</td>\n",
       "      <td>0.0</td>\n",
       "      <td>0.0</td>\n",
       "      <td>0.0</td>\n",
       "      <td>0.0</td>\n",
       "      <td>...</td>\n",
       "      <td>0.0</td>\n",
       "      <td>0.0</td>\n",
       "      <td>0.0</td>\n",
       "      <td>0.0</td>\n",
       "      <td>0.0</td>\n",
       "      <td>0.0</td>\n",
       "      <td>0.0</td>\n",
       "      <td>0.0</td>\n",
       "      <td>0.0</td>\n",
       "      <td>0.0</td>\n",
       "    </tr>\n",
       "    <tr>\n",
       "      <th>4605</th>\n",
       "      <td>Mye_PMAI</td>\n",
       "      <td>R</td>\n",
       "      <td>7</td>\n",
       "      <td>0</td>\n",
       "      <td>0.0</td>\n",
       "      <td>0.0</td>\n",
       "      <td>0.0</td>\n",
       "      <td>0.0</td>\n",
       "      <td>0.0</td>\n",
       "      <td>0.0</td>\n",
       "      <td>...</td>\n",
       "      <td>0.0</td>\n",
       "      <td>0.0</td>\n",
       "      <td>0.0</td>\n",
       "      <td>0.0</td>\n",
       "      <td>0.0</td>\n",
       "      <td>0.0</td>\n",
       "      <td>0.0</td>\n",
       "      <td>0.0</td>\n",
       "      <td>0.0</td>\n",
       "      <td>0.0</td>\n",
       "    </tr>\n",
       "    <tr>\n",
       "      <th>4606</th>\n",
       "      <td>Mye_PMAI</td>\n",
       "      <td>R</td>\n",
       "      <td>8</td>\n",
       "      <td>0</td>\n",
       "      <td>0.0</td>\n",
       "      <td>0.0</td>\n",
       "      <td>0.0</td>\n",
       "      <td>0.0</td>\n",
       "      <td>0.0</td>\n",
       "      <td>0.0</td>\n",
       "      <td>...</td>\n",
       "      <td>0.0</td>\n",
       "      <td>0.0</td>\n",
       "      <td>0.0</td>\n",
       "      <td>0.0</td>\n",
       "      <td>0.0</td>\n",
       "      <td>0.0</td>\n",
       "      <td>0.0</td>\n",
       "      <td>0.0</td>\n",
       "      <td>0.0</td>\n",
       "      <td>0.0</td>\n",
       "    </tr>\n",
       "    <tr>\n",
       "      <th>4607</th>\n",
       "      <td>Mye_PMAI</td>\n",
       "      <td>R</td>\n",
       "      <td>9</td>\n",
       "      <td>0</td>\n",
       "      <td>0.0</td>\n",
       "      <td>0.0</td>\n",
       "      <td>0.0</td>\n",
       "      <td>0.0</td>\n",
       "      <td>0.0</td>\n",
       "      <td>0.0</td>\n",
       "      <td>...</td>\n",
       "      <td>0.0</td>\n",
       "      <td>0.0</td>\n",
       "      <td>0.0</td>\n",
       "      <td>0.0</td>\n",
       "      <td>0.0</td>\n",
       "      <td>0.0</td>\n",
       "      <td>0.0</td>\n",
       "      <td>0.0</td>\n",
       "      <td>0.0</td>\n",
       "      <td>0.0</td>\n",
       "    </tr>\n",
       "  </tbody>\n",
       "</table>\n",
       "<p>384 rows × 100 columns</p>\n",
       "</div>"
      ],
      "text/plain": [
       "            CT COND FID  NUM_CELLS  CD103|ITGAE  CD137|TNFRSF9  CD274|CD274  \\\n",
       "4224  Mye_PMAI    A   0          0          0.0            0.0          0.0   \n",
       "4225  Mye_PMAI    A   1          0          0.0            0.0          0.0   \n",
       "4226  Mye_PMAI    A  10          0          0.0            0.0          0.0   \n",
       "4227  Mye_PMAI    A  11          0          0.0            0.0          0.0   \n",
       "4228  Mye_PMAI    A  12          0          0.0            0.0          0.0   \n",
       "...        ...  ...  ..        ...          ...            ...          ...   \n",
       "4603  Mye_PMAI    R  62          0          0.0            0.0          0.0   \n",
       "4604  Mye_PMAI    R  63          0          0.0            0.0          0.0   \n",
       "4605  Mye_PMAI    R   7          0          0.0            0.0          0.0   \n",
       "4606  Mye_PMAI    R   8          0          0.0            0.0          0.0   \n",
       "4607  Mye_PMAI    R   9          0          0.0            0.0          0.0   \n",
       "\n",
       "      CD11b|ITGAM  CD39|ENTPD1  CD197|CCR7  ...  CD49a|ITGA1  CD133|PROM  \\\n",
       "4224          0.0          0.0         0.0  ...          0.0         0.0   \n",
       "4225          0.0          0.0         0.0  ...          0.0         0.0   \n",
       "4226          0.0          0.0         0.0  ...          0.0         0.0   \n",
       "4227          0.0          0.0         0.0  ...          0.0         0.0   \n",
       "4228          0.0          0.0         0.0  ...          0.0         0.0   \n",
       "...           ...          ...         ...  ...          ...         ...   \n",
       "4603          0.0          0.0         0.0  ...          0.0         0.0   \n",
       "4604          0.0          0.0         0.0  ...          0.0         0.0   \n",
       "4605          0.0          0.0         0.0  ...          0.0         0.0   \n",
       "4606          0.0          0.0         0.0  ...          0.0         0.0   \n",
       "4607          0.0          0.0         0.0  ...          0.0         0.0   \n",
       "\n",
       "      CD357|TNFRSF18  CD270|TNFRSF14  IL-21R|IL21R  B7-H4|VTCN1  CD26|DPP4  \\\n",
       "4224             0.0             0.0           0.0          0.0        0.0   \n",
       "4225             0.0             0.0           0.0          0.0        0.0   \n",
       "4226             0.0             0.0           0.0          0.0        0.0   \n",
       "4227             0.0             0.0           0.0          0.0        0.0   \n",
       "4228             0.0             0.0           0.0          0.0        0.0   \n",
       "...              ...             ...           ...          ...        ...   \n",
       "4603             0.0             0.0           0.0          0.0        0.0   \n",
       "4604             0.0             0.0           0.0          0.0        0.0   \n",
       "4605             0.0             0.0           0.0          0.0        0.0   \n",
       "4606             0.0             0.0           0.0          0.0        0.0   \n",
       "4607             0.0             0.0           0.0          0.0        0.0   \n",
       "\n",
       "      CD155|PVR  CD30|TNFRSF8  CD49E|ITGA5  \n",
       "4224        0.0           0.0          0.0  \n",
       "4225        0.0           0.0          0.0  \n",
       "4226        0.0           0.0          0.0  \n",
       "4227        0.0           0.0          0.0  \n",
       "4228        0.0           0.0          0.0  \n",
       "...         ...           ...          ...  \n",
       "4603        0.0           0.0          0.0  \n",
       "4604        0.0           0.0          0.0  \n",
       "4605        0.0           0.0          0.0  \n",
       "4606        0.0           0.0          0.0  \n",
       "4607        0.0           0.0          0.0  \n",
       "\n",
       "[384 rows x 100 columns]"
      ]
     },
     "execution_count": 57,
     "metadata": {},
     "output_type": "execute_result"
    }
   ],
   "source": [
    "ct_cond_id_df[ct_cond_id_df['CT'] == 'Mye_PMAI']"
   ]
  },
  {
   "cell_type": "code",
   "execution_count": 58,
   "metadata": {},
   "outputs": [],
   "source": [
    "ct_cond_id_df = ct_cond_id_df[~((ct_cond_id_df['CT'] == 'Mye_PMAI') & (ct_cond_id_df['COND'].isin(['A','B','C','G','R'])))]"
   ]
  },
  {
   "cell_type": "code",
   "execution_count": 59,
   "metadata": {},
   "outputs": [],
   "source": [
    "ct_cond_id_df = ct_cond_id_df[~((ct_cond_id_df['CT'] == 'cM') & (ct_cond_id_df['COND'] == 'P'))]\n",
    "ct_cond_id_df = ct_cond_id_df[~((ct_cond_id_df['CT'] == 'ncM') & (ct_cond_id_df['COND'] == 'P'))]\n",
    "ct_cond_id_df = ct_cond_id_df[~((ct_cond_id_df['CT'] == 'cDC') & (ct_cond_id_df['COND'] == 'P'))]"
   ]
  },
  {
   "cell_type": "code",
   "execution_count": 60,
   "metadata": {},
   "outputs": [],
   "source": [
    "ct_cond_id_df['CT'] = ct_cond_id_df['CT'].str.replace('Mye_PMAI','M_cDC')"
   ]
  },
  {
   "cell_type": "code",
   "execution_count": 61,
   "metadata": {},
   "outputs": [],
   "source": [
    "ct_cond_id_mono_cdc = list(it.product(['M_cDC'], ['A', 'B', 'C', 'G', 'R'], free_ids))"
   ]
  },
  {
   "cell_type": "code",
   "execution_count": 63,
   "metadata": {},
   "outputs": [
    {
     "data": {
      "application/vnd.jupyter.widget-view+json": {
       "model_id": "04e5e5f51ec34fa3ad0b34f846e1247a",
       "version_major": 2,
       "version_minor": 0
      },
      "text/plain": [
       "  0%|          | 0/320 [00:00<?, ?it/s]"
      ]
     },
     "metadata": {},
     "output_type": "display_data"
    }
   ],
   "source": [
    "counts_genes_mono_cdc = list()\n",
    "cell_counts_mono_cdc = list()\n",
    "for ct, cond, free_id in tqdm(ct_cond_id_mono_cdc):\n",
    "    arr = raw_adts[((raw_adts.obs[ct_type] == 'ncM') | \n",
    "                    (raw_adts.obs[ct_type] == 'cM') |\n",
    "                    (raw_adts.obs[ct_type] == 'cDC')\n",
    "                   ) & \n",
    "                   (raw_adts.obs['cond'] == cond) &\n",
    "                   (raw_adts.obs['free_id'] == free_id)].X.toarray()\n",
    "    cell_counts_mono_cdc.append(len(arr))\n",
    "    counts_genes_mono_cdc.append(arr.sum(axis=0))"
   ]
  },
  {
   "cell_type": "code",
   "execution_count": 64,
   "metadata": {},
   "outputs": [],
   "source": [
    "ct_cond_id_mono_cdc_df = pd.DataFrame(ct_cond_id_mono_cdc, columns=['CT','COND', 'FID'])"
   ]
  },
  {
   "cell_type": "code",
   "execution_count": 65,
   "metadata": {},
   "outputs": [],
   "source": [
    "ct_cond_id_mono_cdc_df = ct_cond_id_mono_cdc_df.join(pd.DataFrame(data=np.array(cell_counts_mono_cdc),columns=['NUM_CELLS']))\n",
    "ct_cond_id_mono_cdc_df = ct_cond_id_mono_cdc_df.join(pd.DataFrame(data=np.array(counts_genes_mono_cdc),columns=raw_adts.var_names))"
   ]
  },
  {
   "cell_type": "code",
   "execution_count": 66,
   "metadata": {},
   "outputs": [],
   "source": [
    "ct_df = pd.concat([ct_cond_id_df, ct_cond_id_mono_cdc_df])"
   ]
  },
  {
   "cell_type": "markdown",
   "metadata": {},
   "source": [
    "Prepare for export."
   ]
  },
  {
   "cell_type": "code",
   "execution_count": 67,
   "metadata": {},
   "outputs": [],
   "source": [
    "lot = list()\n",
    "for i in ct_df[['CT','COND']].itertuples(index=False):\n",
    "    lot.append('-'.join(tuple(i)))"
   ]
  },
  {
   "cell_type": "markdown",
   "metadata": {},
   "source": [
    "Final checks:"
   ]
  },
  {
   "cell_type": "code",
   "execution_count": 68,
   "metadata": {},
   "outputs": [
    {
     "data": {
      "text/plain": [
       "(array(['B_Mem-A', 'B_Mem-B', 'B_Mem-C', 'B_Mem-G', 'B_Mem-P', 'B_Mem-R',\n",
       "        'B_Naive-A', 'B_Naive-B', 'B_Naive-C', 'B_Naive-G', 'B_Naive-P',\n",
       "        'B_Naive-R', 'HSC-A', 'HSC-B', 'HSC-C', 'HSC-G', 'HSC-P', 'HSC-R',\n",
       "        'M_cDC-A', 'M_cDC-B', 'M_cDC-C', 'M_cDC-G', 'M_cDC-P', 'M_cDC-R',\n",
       "        'NK-A', 'NK-B', 'NK-C', 'NK-G', 'NK-P', 'NK-R', 'T4_EM-A',\n",
       "        'T4_EM-B', 'T4_EM-C', 'T4_EM-G', 'T4_EM-P', 'T4_EM-R',\n",
       "        'T4_Naive-A', 'T4_Naive-B', 'T4_Naive-C', 'T4_Naive-G',\n",
       "        'T4_Naive-P', 'T4_Naive-R', 'T8_Naive-A', 'T8_Naive-B',\n",
       "        'T8_Naive-C', 'T8_Naive-G', 'T8_Naive-P', 'T8_Naive-R', 'T_Tox-A',\n",
       "        'T_Tox-B', 'T_Tox-C', 'T_Tox-G', 'T_Tox-P', 'T_Tox-R', 'cDC-A',\n",
       "        'cDC-B', 'cDC-C', 'cDC-G', 'cDC-R', 'cM-A', 'cM-B', 'cM-C', 'cM-G',\n",
       "        'cM-R', 'ncM-A', 'ncM-B', 'ncM-C', 'ncM-G', 'ncM-R', 'pDC-A',\n",
       "        'pDC-B', 'pDC-C', 'pDC-G', 'pDC-P', 'pDC-R'], dtype='<U10'),\n",
       " array([64, 64, 64, 64, 64, 64, 64, 64, 64, 64, 64, 64, 64, 64, 64, 64, 64,\n",
       "        64, 64, 64, 64, 64, 64, 64, 64, 64, 64, 64, 64, 64, 64, 64, 64, 64,\n",
       "        64, 64, 64, 64, 64, 64, 64, 64, 64, 64, 64, 64, 64, 64, 64, 64, 64,\n",
       "        64, 64, 64, 64, 64, 64, 64, 64, 64, 64, 64, 64, 64, 64, 64, 64, 64,\n",
       "        64, 64, 64, 64, 64, 64, 64]))"
      ]
     },
     "execution_count": 68,
     "metadata": {},
     "output_type": "execute_result"
    }
   ],
   "source": [
    "np.unique(lot, return_counts=True)"
   ]
  },
  {
   "cell_type": "code",
   "execution_count": 69,
   "metadata": {},
   "outputs": [
    {
     "data": {
      "text/plain": [
       "HSC         384\n",
       "pDC         384\n",
       "B_Naive     384\n",
       "B_Mem       384\n",
       "T8_Naive    384\n",
       "T4_EM       384\n",
       "NK          384\n",
       "T4_Naive    384\n",
       "T_Tox       384\n",
       "cM          320\n",
       "ncM         320\n",
       "cDC         320\n",
       "M_cDC        64\n",
       "Name: CT, dtype: int64"
      ]
     },
     "execution_count": 69,
     "metadata": {},
     "output_type": "execute_result"
    }
   ],
   "source": [
    "ct_cond_id_df['CT'].value_counts()"
   ]
  },
  {
   "cell_type": "code",
   "execution_count": 70,
   "metadata": {},
   "outputs": [
    {
     "data": {
      "text/plain": [
       "0"
      ]
     },
     "execution_count": 70,
     "metadata": {},
     "output_type": "execute_result"
    }
   ],
   "source": [
    "ct_df.isna().sum().sum()"
   ]
  },
  {
   "cell_type": "code",
   "execution_count": 71,
   "metadata": {},
   "outputs": [
    {
     "data": {
      "text/plain": [
       "HSC         384\n",
       "pDC         384\n",
       "M_cDC       384\n",
       "B_Naive     384\n",
       "B_Mem       384\n",
       "T8_Naive    384\n",
       "T4_EM       384\n",
       "NK          384\n",
       "T4_Naive    384\n",
       "T_Tox       384\n",
       "cM          320\n",
       "ncM         320\n",
       "cDC         320\n",
       "Name: CT, dtype: int64"
      ]
     },
     "execution_count": 71,
     "metadata": {},
     "output_type": "execute_result"
    }
   ],
   "source": [
    "ct_df['CT'].value_counts()"
   ]
  },
  {
   "cell_type": "code",
   "execution_count": 72,
   "metadata": {},
   "outputs": [
    {
     "data": {
      "image/png": "[encoded data removed]",
      "text/plain": [
       "<Figure size 320x320 with 1 Axes>"
      ]
     },
     "metadata": {
      "image/png": {
       "height": 282,
       "width": 325
      },
      "needs_background": "light"
     },
     "output_type": "display_data"
    }
   ],
   "source": [
    "plt.hist(ct_df['NUM_CELLS'].values,bins=100);"
   ]
  },
  {
   "cell_type": "markdown",
   "metadata": {},
   "source": [
    "#### Export"
   ]
  },
  {
   "cell_type": "code",
   "execution_count": 73,
   "metadata": {},
   "outputs": [],
   "source": [
    "ct_df.drop(columns=['NUM_CELLS'],inplace=True)"
   ]
  },
  {
   "cell_type": "code",
   "execution_count": 74,
   "metadata": {},
   "outputs": [],
   "source": [
    "path = prefix_adts + 'pkls/pseudobulk_ct2.pkl'\n",
    "# ct_df.to_pickle(path)\n",
    "ct_df = pd.read_pickle(path)"
   ]
  },
  {
   "cell_type": "markdown",
   "metadata": {},
   "source": [
    "## `ct3`"
   ]
  },
  {
   "cell_type": "markdown",
   "metadata": {},
   "source": [
    "### mRNA"
   ]
  },
  {
   "cell_type": "markdown",
   "metadata": {},
   "source": [
    "#### Processing"
   ]
  },
  {
   "cell_type": "markdown",
   "metadata": {},
   "source": [
    "Prepare `df`s."
   ]
  },
  {
   "cell_type": "code",
   "execution_count": 108,
   "metadata": {},
   "outputs": [],
   "source": [
    "ct_type = 'ct3'"
   ]
  },
  {
   "cell_type": "code",
   "execution_count": 109,
   "metadata": {},
   "outputs": [],
   "source": [
    "raw_mrna.obs[ct_type] = concat.obs[ct_type]"
   ]
  },
  {
   "cell_type": "markdown",
   "metadata": {},
   "source": [
    "Because we don't want to re-run on the cell types that are carried over from `ct2` to `ct3`, let's only focus on the clusters that are completely new."
   ]
  },
  {
   "cell_type": "code",
   "execution_count": 110,
   "metadata": {},
   "outputs": [],
   "source": [
    "conds = concat.obs['cond'].cat.categories\n",
    "clusts = np.setdiff1d(concat.obs['ct3'].cat.categories.values,concat.obs['ct2'].cat.categories.values)"
   ]
  },
  {
   "cell_type": "code",
   "execution_count": 111,
   "metadata": {},
   "outputs": [],
   "source": [
    "cond_ct_df = pd.DataFrame(index=conds, columns=clusts, dtype=np.int)"
   ]
  },
  {
   "cell_type": "markdown",
   "metadata": {},
   "source": [
    "Get cell numbers."
   ]
  },
  {
   "cell_type": "code",
   "execution_count": 112,
   "metadata": {},
   "outputs": [
    {
     "data": {
      "application/vnd.jupyter.widget-view+json": {
       "model_id": "299aeba4639f452480a15f54d7694ba7",
       "version_major": 2,
       "version_minor": 0
      },
      "text/plain": [
       "  0%|          | 0/7 [00:00<?, ?it/s]"
      ]
     },
     "metadata": {},
     "output_type": "display_data"
    }
   ],
   "source": [
    "for cond in tqdm(conds):\n",
    "    for clust in clusts:\n",
    "        cond_ct_df.loc[cond, clust] = concat[(concat.obs['cond'] == cond) & (concat.obs[ct_type] == clust)].shape[0]"
   ]
  },
  {
   "cell_type": "markdown",
   "metadata": {},
   "source": [
    "In the `ct3` annotations, there were some clusters that arose that were specific to only one or two conditions. For DE, I'm going to focus only on the ones that appeared in all the subclustered conditions (`C`, `A`, `G`, `B`, `R`)."
   ]
  },
  {
   "cell_type": "code",
   "execution_count": 113,
   "metadata": {},
   "outputs": [
    {
     "data": {
      "image/png": "[encoded data removed]",
      "text/plain": [
       "<Figure size 320x320 with 1 Axes>"
      ]
     },
     "metadata": {
      "image/png": {
       "height": 285,
       "width": 303
      },
      "needs_background": "light"
     },
     "output_type": "display_data"
    }
   ],
   "source": [
    "plt.hist(cond_ct_df.values.flatten() + 1, bins=np.logspace(np.log10(1), np.log10(5000), 100));\n",
    "plt.xscale('log');"
   ]
  },
  {
   "cell_type": "code",
   "execution_count": 114,
   "metadata": {},
   "outputs": [
    {
     "data": {
      "text/html": [
       "<div>\n",
       "<style scoped>\n",
       "    .dataframe tbody tr th:only-of-type {\n",
       "        vertical-align: middle;\n",
       "    }\n",
       "\n",
       "    .dataframe tbody tr th {\n",
       "        vertical-align: top;\n",
       "    }\n",
       "\n",
       "    .dataframe thead th {\n",
       "        text-align: right;\n",
       "    }\n",
       "</style>\n",
       "<table border=\"1\" class=\"dataframe\">\n",
       "  <thead>\n",
       "    <tr style=\"text-align: right;\">\n",
       "      <th></th>\n",
       "      <th>MAIT</th>\n",
       "      <th>NK_CD16+</th>\n",
       "      <th>NK_CD56++</th>\n",
       "      <th>T4_CM</th>\n",
       "      <th>T4_RA+_SELL+</th>\n",
       "      <th>T4_RA+_SELLint</th>\n",
       "      <th>T4_RO+_Act</th>\n",
       "      <th>T4_RO+_SELL+</th>\n",
       "      <th>T4_Treg_Act</th>\n",
       "      <th>T4_Treg_Resting</th>\n",
       "      <th>T8_CM</th>\n",
       "      <th>T8_EM</th>\n",
       "      <th>T8_HOBIT+HELIOS+</th>\n",
       "      <th>T8_RA+_SELL+</th>\n",
       "      <th>T8_TEMRA</th>\n",
       "      <th>T_CD10+</th>\n",
       "      <th>T_gd</th>\n",
       "      <th>cDC1</th>\n",
       "      <th>cDC2</th>\n",
       "    </tr>\n",
       "  </thead>\n",
       "  <tbody>\n",
       "    <tr>\n",
       "      <th>0</th>\n",
       "      <td>0.0</td>\n",
       "      <td>0.0</td>\n",
       "      <td>0.0</td>\n",
       "      <td>0.0</td>\n",
       "      <td>0.0</td>\n",
       "      <td>0.0</td>\n",
       "      <td>0.0</td>\n",
       "      <td>0.0</td>\n",
       "      <td>0.0</td>\n",
       "      <td>0.0</td>\n",
       "      <td>0.0</td>\n",
       "      <td>0.0</td>\n",
       "      <td>0.0</td>\n",
       "      <td>0.0</td>\n",
       "      <td>0.0</td>\n",
       "      <td>0.0</td>\n",
       "      <td>0.0</td>\n",
       "      <td>4.0</td>\n",
       "      <td>1.0</td>\n",
       "    </tr>\n",
       "    <tr>\n",
       "      <th>A</th>\n",
       "      <td>538.0</td>\n",
       "      <td>615.0</td>\n",
       "      <td>169.0</td>\n",
       "      <td>1031.0</td>\n",
       "      <td>4207.0</td>\n",
       "      <td>1926.0</td>\n",
       "      <td>553.0</td>\n",
       "      <td>1222.0</td>\n",
       "      <td>84.0</td>\n",
       "      <td>236.0</td>\n",
       "      <td>418.0</td>\n",
       "      <td>295.0</td>\n",
       "      <td>49.0</td>\n",
       "      <td>1733.0</td>\n",
       "      <td>254.0</td>\n",
       "      <td>45.0</td>\n",
       "      <td>395.0</td>\n",
       "      <td>100.0</td>\n",
       "      <td>118.0</td>\n",
       "    </tr>\n",
       "    <tr>\n",
       "      <th>B</th>\n",
       "      <td>590.0</td>\n",
       "      <td>560.0</td>\n",
       "      <td>223.0</td>\n",
       "      <td>755.0</td>\n",
       "      <td>4536.0</td>\n",
       "      <td>3039.0</td>\n",
       "      <td>654.0</td>\n",
       "      <td>1094.0</td>\n",
       "      <td>86.0</td>\n",
       "      <td>200.0</td>\n",
       "      <td>367.0</td>\n",
       "      <td>345.0</td>\n",
       "      <td>50.0</td>\n",
       "      <td>2496.0</td>\n",
       "      <td>260.0</td>\n",
       "      <td>35.0</td>\n",
       "      <td>402.0</td>\n",
       "      <td>228.0</td>\n",
       "      <td>85.0</td>\n",
       "    </tr>\n",
       "    <tr>\n",
       "      <th>C</th>\n",
       "      <td>594.0</td>\n",
       "      <td>914.0</td>\n",
       "      <td>196.0</td>\n",
       "      <td>1051.0</td>\n",
       "      <td>4512.0</td>\n",
       "      <td>2032.0</td>\n",
       "      <td>535.0</td>\n",
       "      <td>1297.0</td>\n",
       "      <td>86.0</td>\n",
       "      <td>223.0</td>\n",
       "      <td>359.0</td>\n",
       "      <td>289.0</td>\n",
       "      <td>67.0</td>\n",
       "      <td>1975.0</td>\n",
       "      <td>240.0</td>\n",
       "      <td>44.0</td>\n",
       "      <td>393.0</td>\n",
       "      <td>138.0</td>\n",
       "      <td>62.0</td>\n",
       "    </tr>\n",
       "    <tr>\n",
       "      <th>G</th>\n",
       "      <td>566.0</td>\n",
       "      <td>771.0</td>\n",
       "      <td>185.0</td>\n",
       "      <td>1104.0</td>\n",
       "      <td>4439.0</td>\n",
       "      <td>2154.0</td>\n",
       "      <td>526.0</td>\n",
       "      <td>1188.0</td>\n",
       "      <td>86.0</td>\n",
       "      <td>218.0</td>\n",
       "      <td>357.0</td>\n",
       "      <td>328.0</td>\n",
       "      <td>50.0</td>\n",
       "      <td>1896.0</td>\n",
       "      <td>258.0</td>\n",
       "      <td>19.0</td>\n",
       "      <td>436.0</td>\n",
       "      <td>170.0</td>\n",
       "      <td>98.0</td>\n",
       "    </tr>\n",
       "    <tr>\n",
       "      <th>P</th>\n",
       "      <td>0.0</td>\n",
       "      <td>0.0</td>\n",
       "      <td>0.0</td>\n",
       "      <td>0.0</td>\n",
       "      <td>0.0</td>\n",
       "      <td>0.0</td>\n",
       "      <td>0.0</td>\n",
       "      <td>0.0</td>\n",
       "      <td>0.0</td>\n",
       "      <td>0.0</td>\n",
       "      <td>0.0</td>\n",
       "      <td>0.0</td>\n",
       "      <td>0.0</td>\n",
       "      <td>0.0</td>\n",
       "      <td>0.0</td>\n",
       "      <td>0.0</td>\n",
       "      <td>0.0</td>\n",
       "      <td>0.0</td>\n",
       "      <td>0.0</td>\n",
       "    </tr>\n",
       "    <tr>\n",
       "      <th>R</th>\n",
       "      <td>638.0</td>\n",
       "      <td>338.0</td>\n",
       "      <td>161.0</td>\n",
       "      <td>569.0</td>\n",
       "      <td>4899.0</td>\n",
       "      <td>2352.0</td>\n",
       "      <td>608.0</td>\n",
       "      <td>833.0</td>\n",
       "      <td>113.0</td>\n",
       "      <td>267.0</td>\n",
       "      <td>339.0</td>\n",
       "      <td>287.0</td>\n",
       "      <td>76.0</td>\n",
       "      <td>2371.0</td>\n",
       "      <td>238.0</td>\n",
       "      <td>23.0</td>\n",
       "      <td>467.0</td>\n",
       "      <td>86.0</td>\n",
       "      <td>141.0</td>\n",
       "    </tr>\n",
       "  </tbody>\n",
       "</table>\n",
       "</div>"
      ],
      "text/plain": [
       "    MAIT  NK_CD16+  NK_CD56++   T4_CM  T4_RA+_SELL+  T4_RA+_SELLint  \\\n",
       "0    0.0       0.0        0.0     0.0           0.0             0.0   \n",
       "A  538.0     615.0      169.0  1031.0        4207.0          1926.0   \n",
       "B  590.0     560.0      223.0   755.0        4536.0          3039.0   \n",
       "C  594.0     914.0      196.0  1051.0        4512.0          2032.0   \n",
       "G  566.0     771.0      185.0  1104.0        4439.0          2154.0   \n",
       "P    0.0       0.0        0.0     0.0           0.0             0.0   \n",
       "R  638.0     338.0      161.0   569.0        4899.0          2352.0   \n",
       "\n",
       "   T4_RO+_Act  T4_RO+_SELL+  T4_Treg_Act  T4_Treg_Resting  T8_CM  T8_EM  \\\n",
       "0         0.0           0.0          0.0              0.0    0.0    0.0   \n",
       "A       553.0        1222.0         84.0            236.0  418.0  295.0   \n",
       "B       654.0        1094.0         86.0            200.0  367.0  345.0   \n",
       "C       535.0        1297.0         86.0            223.0  359.0  289.0   \n",
       "G       526.0        1188.0         86.0            218.0  357.0  328.0   \n",
       "P         0.0           0.0          0.0              0.0    0.0    0.0   \n",
       "R       608.0         833.0        113.0            267.0  339.0  287.0   \n",
       "\n",
       "   T8_HOBIT+HELIOS+  T8_RA+_SELL+  T8_TEMRA  T_CD10+   T_gd   cDC1   cDC2  \n",
       "0               0.0           0.0       0.0      0.0    0.0    4.0    1.0  \n",
       "A              49.0        1733.0     254.0     45.0  395.0  100.0  118.0  \n",
       "B              50.0        2496.0     260.0     35.0  402.0  228.0   85.0  \n",
       "C              67.0        1975.0     240.0     44.0  393.0  138.0   62.0  \n",
       "G              50.0        1896.0     258.0     19.0  436.0  170.0   98.0  \n",
       "P               0.0           0.0       0.0      0.0    0.0    0.0    0.0  \n",
       "R              76.0        2371.0     238.0     23.0  467.0   86.0  141.0  "
      ]
     },
     "execution_count": 114,
     "metadata": {},
     "output_type": "execute_result"
    }
   ],
   "source": [
    "s = (cond_ct_df > 10).sum(0)\n",
    "cond_ct_df = cond_ct_df[s[s == 5].index.values].copy()\n",
    "cond_ct_df"
   ]
  },
  {
   "cell_type": "markdown",
   "metadata": {},
   "source": [
    "Divide by the total per cell type."
   ]
  },
  {
   "cell_type": "code",
   "execution_count": 115,
   "metadata": {},
   "outputs": [],
   "source": [
    "cond_ct_df_div = cond_ct_df.divide(cond_ct_df.sum(0),1)"
   ]
  },
  {
   "cell_type": "code",
   "execution_count": 116,
   "metadata": {},
   "outputs": [],
   "source": [
    "high_count_cts = cond_ct_df.columns.values"
   ]
  },
  {
   "cell_type": "code",
   "execution_count": 117,
   "metadata": {},
   "outputs": [],
   "source": [
    "free_ids = np.unique(concat.obs['free_id'].values)\n",
    "ind_ct = pd.DataFrame(0, index=free_ids, columns=high_count_cts)"
   ]
  },
  {
   "cell_type": "code",
   "execution_count": 118,
   "metadata": {},
   "outputs": [
    {
     "data": {
      "application/vnd.jupyter.widget-view+json": {
       "model_id": "46dd57a8f2f447558837dd59a17295db",
       "version_major": 2,
       "version_minor": 0
      },
      "text/plain": [
       "0it [00:00, ?it/s]"
      ]
     },
     "metadata": {},
     "output_type": "display_data"
    }
   ],
   "source": [
    "for free_id, ct in tqdm(it.product(free_ids, high_count_cts)):\n",
    "    ind_ct.loc[free_id, ct] = len(concat.obs[(concat.obs['free_id'] == free_id) & (concat.obs[ct_type] == ct)])"
   ]
  },
  {
   "cell_type": "markdown",
   "metadata": {},
   "source": [
    "The subclustering that was done to create `ct3` was only run on `C`, `A`, `G`, `B`, `R`, so I will only focus on those."
   ]
  },
  {
   "cell_type": "code",
   "execution_count": 119,
   "metadata": {},
   "outputs": [],
   "source": [
    "ct_cond_id = list(it.product(high_count_cts, ['A', 'B', 'C', 'G', 'R'], free_ids))"
   ]
  },
  {
   "cell_type": "code",
   "execution_count": 120,
   "metadata": {},
   "outputs": [],
   "source": [
    "ct_cond_id_df = pd.DataFrame(ct_cond_id, columns=['CT','COND', 'FID'])"
   ]
  },
  {
   "cell_type": "code",
   "execution_count": 121,
   "metadata": {},
   "outputs": [
    {
     "data": {
      "text/html": [
       "<div>\n",
       "<style scoped>\n",
       "    .dataframe tbody tr th:only-of-type {\n",
       "        vertical-align: middle;\n",
       "    }\n",
       "\n",
       "    .dataframe tbody tr th {\n",
       "        vertical-align: top;\n",
       "    }\n",
       "\n",
       "    .dataframe thead th {\n",
       "        text-align: right;\n",
       "    }\n",
       "</style>\n",
       "<table border=\"1\" class=\"dataframe\">\n",
       "  <thead>\n",
       "    <tr style=\"text-align: right;\">\n",
       "      <th></th>\n",
       "      <th>CT</th>\n",
       "      <th>COND</th>\n",
       "      <th>FID</th>\n",
       "    </tr>\n",
       "  </thead>\n",
       "  <tbody>\n",
       "    <tr>\n",
       "      <th>0</th>\n",
       "      <td>MAIT</td>\n",
       "      <td>A</td>\n",
       "      <td>0</td>\n",
       "    </tr>\n",
       "    <tr>\n",
       "      <th>1</th>\n",
       "      <td>MAIT</td>\n",
       "      <td>A</td>\n",
       "      <td>1</td>\n",
       "    </tr>\n",
       "    <tr>\n",
       "      <th>2</th>\n",
       "      <td>MAIT</td>\n",
       "      <td>A</td>\n",
       "      <td>10</td>\n",
       "    </tr>\n",
       "    <tr>\n",
       "      <th>3</th>\n",
       "      <td>MAIT</td>\n",
       "      <td>A</td>\n",
       "      <td>11</td>\n",
       "    </tr>\n",
       "    <tr>\n",
       "      <th>4</th>\n",
       "      <td>MAIT</td>\n",
       "      <td>A</td>\n",
       "      <td>12</td>\n",
       "    </tr>\n",
       "    <tr>\n",
       "      <th>...</th>\n",
       "      <td>...</td>\n",
       "      <td>...</td>\n",
       "      <td>...</td>\n",
       "    </tr>\n",
       "    <tr>\n",
       "      <th>6075</th>\n",
       "      <td>cDC2</td>\n",
       "      <td>R</td>\n",
       "      <td>62</td>\n",
       "    </tr>\n",
       "    <tr>\n",
       "      <th>6076</th>\n",
       "      <td>cDC2</td>\n",
       "      <td>R</td>\n",
       "      <td>63</td>\n",
       "    </tr>\n",
       "    <tr>\n",
       "      <th>6077</th>\n",
       "      <td>cDC2</td>\n",
       "      <td>R</td>\n",
       "      <td>7</td>\n",
       "    </tr>\n",
       "    <tr>\n",
       "      <th>6078</th>\n",
       "      <td>cDC2</td>\n",
       "      <td>R</td>\n",
       "      <td>8</td>\n",
       "    </tr>\n",
       "    <tr>\n",
       "      <th>6079</th>\n",
       "      <td>cDC2</td>\n",
       "      <td>R</td>\n",
       "      <td>9</td>\n",
       "    </tr>\n",
       "  </tbody>\n",
       "</table>\n",
       "<p>6080 rows × 3 columns</p>\n",
       "</div>"
      ],
      "text/plain": [
       "        CT COND FID\n",
       "0     MAIT    A   0\n",
       "1     MAIT    A   1\n",
       "2     MAIT    A  10\n",
       "3     MAIT    A  11\n",
       "4     MAIT    A  12\n",
       "...    ...  ...  ..\n",
       "6075  cDC2    R  62\n",
       "6076  cDC2    R  63\n",
       "6077  cDC2    R   7\n",
       "6078  cDC2    R   8\n",
       "6079  cDC2    R   9\n",
       "\n",
       "[6080 rows x 3 columns]"
      ]
     },
     "execution_count": 121,
     "metadata": {},
     "output_type": "execute_result"
    }
   ],
   "source": [
    "ct_cond_id_df"
   ]
  },
  {
   "cell_type": "markdown",
   "metadata": {},
   "source": [
    "Now get the actual transcript numbers."
   ]
  },
  {
   "cell_type": "code",
   "execution_count": 122,
   "metadata": {},
   "outputs": [
    {
     "data": {
      "application/vnd.jupyter.widget-view+json": {
       "model_id": "19f150898bc640ba80c8bdc60103bc6b",
       "version_major": 2,
       "version_minor": 0
      },
      "text/plain": [
       "  0%|          | 0/6080 [00:00<?, ?it/s]"
      ]
     },
     "metadata": {},
     "output_type": "display_data"
    }
   ],
   "source": [
    "counts_genes = list()\n",
    "cell_counts = list()\n",
    "for ct, cond, free_id in tqdm(ct_cond_id):\n",
    "    arr = raw_mrna[(raw_mrna.obs[ct_type] == ct) & (raw_mrna.obs['cond'] == cond) & (raw_mrna.obs['free_id'] == free_id)].X.toarray()\n",
    "    cell_counts.append(len(arr))\n",
    "    counts_genes.append(arr.sum(axis=0))"
   ]
  },
  {
   "cell_type": "code",
   "execution_count": 123,
   "metadata": {},
   "outputs": [],
   "source": [
    "ct_cond_id_df = ct_cond_id_df.join(pd.DataFrame(data=np.array(cell_counts),columns=['NUM_CELLS']))\n",
    "ct_cond_id_df = ct_cond_id_df.join(pd.DataFrame(data=np.array(counts_genes),columns=raw_mrna.var_names))"
   ]
  },
  {
   "cell_type": "code",
   "execution_count": 124,
   "metadata": {},
   "outputs": [],
   "source": [
    "ct_df = ct_cond_id_df"
   ]
  },
  {
   "cell_type": "markdown",
   "metadata": {},
   "source": [
    "Prepare for export."
   ]
  },
  {
   "cell_type": "code",
   "execution_count": 125,
   "metadata": {},
   "outputs": [],
   "source": [
    "lot = list()\n",
    "for i in ct_df[['CT','COND']].itertuples(index=False):\n",
    "    lot.append('-'.join(tuple(i)))"
   ]
  },
  {
   "cell_type": "markdown",
   "metadata": {},
   "source": [
    "Final checks:"
   ]
  },
  {
   "cell_type": "code",
   "execution_count": 126,
   "metadata": {},
   "outputs": [
    {
     "data": {
      "text/plain": [
       "(array(['MAIT-A', 'MAIT-B', 'MAIT-C', 'MAIT-G', 'MAIT-R', 'NK_CD16+-A',\n",
       "        'NK_CD16+-B', 'NK_CD16+-C', 'NK_CD16+-G', 'NK_CD16+-R',\n",
       "        'NK_CD56++-A', 'NK_CD56++-B', 'NK_CD56++-C', 'NK_CD56++-G',\n",
       "        'NK_CD56++-R', 'T4_CM-A', 'T4_CM-B', 'T4_CM-C', 'T4_CM-G',\n",
       "        'T4_CM-R', 'T4_RA+_SELL+-A', 'T4_RA+_SELL+-B', 'T4_RA+_SELL+-C',\n",
       "        'T4_RA+_SELL+-G', 'T4_RA+_SELL+-R', 'T4_RA+_SELLint-A',\n",
       "        'T4_RA+_SELLint-B', 'T4_RA+_SELLint-C', 'T4_RA+_SELLint-G',\n",
       "        'T4_RA+_SELLint-R', 'T4_RO+_Act-A', 'T4_RO+_Act-B', 'T4_RO+_Act-C',\n",
       "        'T4_RO+_Act-G', 'T4_RO+_Act-R', 'T4_RO+_SELL+-A', 'T4_RO+_SELL+-B',\n",
       "        'T4_RO+_SELL+-C', 'T4_RO+_SELL+-G', 'T4_RO+_SELL+-R',\n",
       "        'T4_Treg_Act-A', 'T4_Treg_Act-B', 'T4_Treg_Act-C', 'T4_Treg_Act-G',\n",
       "        'T4_Treg_Act-R', 'T4_Treg_Resting-A', 'T4_Treg_Resting-B',\n",
       "        'T4_Treg_Resting-C', 'T4_Treg_Resting-G', 'T4_Treg_Resting-R',\n",
       "        'T8_CM-A', 'T8_CM-B', 'T8_CM-C', 'T8_CM-G', 'T8_CM-R', 'T8_EM-A',\n",
       "        'T8_EM-B', 'T8_EM-C', 'T8_EM-G', 'T8_EM-R', 'T8_HOBIT+HELIOS+-A',\n",
       "        'T8_HOBIT+HELIOS+-B', 'T8_HOBIT+HELIOS+-C', 'T8_HOBIT+HELIOS+-G',\n",
       "        'T8_HOBIT+HELIOS+-R', 'T8_RA+_SELL+-A', 'T8_RA+_SELL+-B',\n",
       "        'T8_RA+_SELL+-C', 'T8_RA+_SELL+-G', 'T8_RA+_SELL+-R', 'T8_TEMRA-A',\n",
       "        'T8_TEMRA-B', 'T8_TEMRA-C', 'T8_TEMRA-G', 'T8_TEMRA-R',\n",
       "        'T_CD10+-A', 'T_CD10+-B', 'T_CD10+-C', 'T_CD10+-G', 'T_CD10+-R',\n",
       "        'T_gd-A', 'T_gd-B', 'T_gd-C', 'T_gd-G', 'T_gd-R', 'cDC1-A',\n",
       "        'cDC1-B', 'cDC1-C', 'cDC1-G', 'cDC1-R', 'cDC2-A', 'cDC2-B',\n",
       "        'cDC2-C', 'cDC2-G', 'cDC2-R'], dtype='<U18'),\n",
       " array([64, 64, 64, 64, 64, 64, 64, 64, 64, 64, 64, 64, 64, 64, 64, 64, 64,\n",
       "        64, 64, 64, 64, 64, 64, 64, 64, 64, 64, 64, 64, 64, 64, 64, 64, 64,\n",
       "        64, 64, 64, 64, 64, 64, 64, 64, 64, 64, 64, 64, 64, 64, 64, 64, 64,\n",
       "        64, 64, 64, 64, 64, 64, 64, 64, 64, 64, 64, 64, 64, 64, 64, 64, 64,\n",
       "        64, 64, 64, 64, 64, 64, 64, 64, 64, 64, 64, 64, 64, 64, 64, 64, 64,\n",
       "        64, 64, 64, 64, 64, 64, 64, 64, 64, 64]))"
      ]
     },
     "execution_count": 126,
     "metadata": {},
     "output_type": "execute_result"
    }
   ],
   "source": [
    "np.unique(lot, return_counts=True)"
   ]
  },
  {
   "cell_type": "code",
   "execution_count": 127,
   "metadata": {},
   "outputs": [
    {
     "data": {
      "text/plain": [
       "T4_Treg_Act         320\n",
       "T8_CM               320\n",
       "T4_CM               320\n",
       "T8_RA+_SELL+        320\n",
       "T4_RO+_Act          320\n",
       "cDC2                320\n",
       "T_gd                320\n",
       "NK_CD16+            320\n",
       "T_CD10+             320\n",
       "cDC1                320\n",
       "T8_TEMRA            320\n",
       "NK_CD56++           320\n",
       "T8_HOBIT+HELIOS+    320\n",
       "T4_RA+_SELLint      320\n",
       "T8_EM               320\n",
       "MAIT                320\n",
       "T4_RO+_SELL+        320\n",
       "T4_RA+_SELL+        320\n",
       "T4_Treg_Resting     320\n",
       "Name: CT, dtype: int64"
      ]
     },
     "execution_count": 127,
     "metadata": {},
     "output_type": "execute_result"
    }
   ],
   "source": [
    "ct_cond_id_df['CT'].value_counts()"
   ]
  },
  {
   "cell_type": "code",
   "execution_count": 128,
   "metadata": {},
   "outputs": [
    {
     "data": {
      "text/plain": [
       "0"
      ]
     },
     "execution_count": 128,
     "metadata": {},
     "output_type": "execute_result"
    }
   ],
   "source": [
    "ct_df.isna().sum().sum()"
   ]
  },
  {
   "cell_type": "code",
   "execution_count": 129,
   "metadata": {},
   "outputs": [
    {
     "data": {
      "text/plain": [
       "T4_Treg_Act         320\n",
       "T8_CM               320\n",
       "T4_CM               320\n",
       "T8_RA+_SELL+        320\n",
       "T4_RO+_Act          320\n",
       "cDC2                320\n",
       "T_gd                320\n",
       "NK_CD16+            320\n",
       "T_CD10+             320\n",
       "cDC1                320\n",
       "T8_TEMRA            320\n",
       "NK_CD56++           320\n",
       "T8_HOBIT+HELIOS+    320\n",
       "T4_RA+_SELLint      320\n",
       "T8_EM               320\n",
       "MAIT                320\n",
       "T4_RO+_SELL+        320\n",
       "T4_RA+_SELL+        320\n",
       "T4_Treg_Resting     320\n",
       "Name: CT, dtype: int64"
      ]
     },
     "execution_count": 129,
     "metadata": {},
     "output_type": "execute_result"
    }
   ],
   "source": [
    "ct_df['CT'].value_counts()"
   ]
  },
  {
   "cell_type": "code",
   "execution_count": 130,
   "metadata": {},
   "outputs": [
    {
     "data": {
      "image/png": "[encoded data removed]",
      "text/plain": [
       "<Figure size 320x320 with 1 Axes>"
      ]
     },
     "metadata": {
      "image/png": {
       "height": 282,
       "width": 312
      },
      "needs_background": "light"
     },
     "output_type": "display_data"
    }
   ],
   "source": [
    "plt.hist(ct_df['NUM_CELLS'].values,bins=100);"
   ]
  },
  {
   "cell_type": "markdown",
   "metadata": {},
   "source": [
    "#### Export"
   ]
  },
  {
   "cell_type": "code",
   "execution_count": 131,
   "metadata": {},
   "outputs": [],
   "source": [
    "ct_df.drop(columns=['NUM_CELLS'],inplace=True)"
   ]
  },
  {
   "cell_type": "code",
   "execution_count": 132,
   "metadata": {},
   "outputs": [],
   "source": [
    "path = prefix_mrna + 'pkls/pseudobulk_ct3.pkl'\n",
    "# ct_df.to_pickle(path)\n",
    "ct_df = pd.read_pickle(path)"
   ]
  },
  {
   "cell_type": "markdown",
   "metadata": {},
   "source": [
    "### ADTs"
   ]
  },
  {
   "cell_type": "markdown",
   "metadata": {},
   "source": [
    "#### Processing"
   ]
  },
  {
   "cell_type": "markdown",
   "metadata": {},
   "source": [
    "Prepare `df`s."
   ]
  },
  {
   "cell_type": "code",
   "execution_count": 133,
   "metadata": {},
   "outputs": [],
   "source": [
    "ct_type = 'ct3'"
   ]
  },
  {
   "cell_type": "code",
   "execution_count": 134,
   "metadata": {},
   "outputs": [],
   "source": [
    "raw_adts.obs = concat.obs.copy()"
   ]
  },
  {
   "cell_type": "markdown",
   "metadata": {},
   "source": [
    "Because we don't want to re-run on the cell types that are carried over from `ct2` to `ct3`, let's only focus on the clusters that are completely new."
   ]
  },
  {
   "cell_type": "code",
   "execution_count": 135,
   "metadata": {},
   "outputs": [],
   "source": [
    "conds = concat.obs['cond'].cat.categories\n",
    "clusts = np.setdiff1d(concat.obs['ct3'].cat.categories.values,concat.obs['ct2'].cat.categories.values)"
   ]
  },
  {
   "cell_type": "code",
   "execution_count": 136,
   "metadata": {},
   "outputs": [],
   "source": [
    "cond_ct_df = pd.DataFrame(index=conds, columns=clusts, dtype=np.int)"
   ]
  },
  {
   "cell_type": "markdown",
   "metadata": {},
   "source": [
    "Get cell numbers."
   ]
  },
  {
   "cell_type": "code",
   "execution_count": 137,
   "metadata": {},
   "outputs": [
    {
     "data": {
      "application/vnd.jupyter.widget-view+json": {
       "model_id": "663623791bc8459688f67ca6b7cc0421",
       "version_major": 2,
       "version_minor": 0
      },
      "text/plain": [
       "  0%|          | 0/7 [00:00<?, ?it/s]"
      ]
     },
     "metadata": {},
     "output_type": "display_data"
    }
   ],
   "source": [
    "for cond in tqdm(conds):\n",
    "    for clust in clusts:\n",
    "        cond_ct_df.loc[cond, clust] = concat[(concat.obs['cond'] == cond) & (concat.obs[ct_type] == clust)].shape[0]"
   ]
  },
  {
   "cell_type": "markdown",
   "metadata": {},
   "source": [
    "In the `ct3` annotations, there were some clusters that arose that were specific to only one or two conditions. For DE, I'm going to focus only on the ones that appeared in all the subclustered conditions (`C`, `A`, `G`, `B`, `R`)."
   ]
  },
  {
   "cell_type": "code",
   "execution_count": 138,
   "metadata": {},
   "outputs": [
    {
     "data": {
      "image/png": "[encoded data removed]",
      "text/plain": [
       "<Figure size 320x320 with 1 Axes>"
      ]
     },
     "metadata": {
      "image/png": {
       "height": 285,
       "width": 303
      },
      "needs_background": "light"
     },
     "output_type": "display_data"
    }
   ],
   "source": [
    "plt.hist(cond_ct_df.values.flatten() + 1, bins=np.logspace(np.log10(1), np.log10(5000), 100));\n",
    "plt.xscale('log');"
   ]
  },
  {
   "cell_type": "code",
   "execution_count": 139,
   "metadata": {},
   "outputs": [
    {
     "data": {
      "text/html": [
       "<div>\n",
       "<style scoped>\n",
       "    .dataframe tbody tr th:only-of-type {\n",
       "        vertical-align: middle;\n",
       "    }\n",
       "\n",
       "    .dataframe tbody tr th {\n",
       "        vertical-align: top;\n",
       "    }\n",
       "\n",
       "    .dataframe thead th {\n",
       "        text-align: right;\n",
       "    }\n",
       "</style>\n",
       "<table border=\"1\" class=\"dataframe\">\n",
       "  <thead>\n",
       "    <tr style=\"text-align: right;\">\n",
       "      <th></th>\n",
       "      <th>MAIT</th>\n",
       "      <th>NK_CD16+</th>\n",
       "      <th>NK_CD56++</th>\n",
       "      <th>T4_CM</th>\n",
       "      <th>T4_RA+_SELL+</th>\n",
       "      <th>T4_RA+_SELLint</th>\n",
       "      <th>T4_RO+_Act</th>\n",
       "      <th>T4_RO+_SELL+</th>\n",
       "      <th>T4_Treg_Act</th>\n",
       "      <th>T4_Treg_Resting</th>\n",
       "      <th>T8_CM</th>\n",
       "      <th>T8_EM</th>\n",
       "      <th>T8_HOBIT+HELIOS+</th>\n",
       "      <th>T8_RA+_SELL+</th>\n",
       "      <th>T8_TEMRA</th>\n",
       "      <th>T_CD10+</th>\n",
       "      <th>T_gd</th>\n",
       "      <th>cDC1</th>\n",
       "      <th>cDC2</th>\n",
       "    </tr>\n",
       "  </thead>\n",
       "  <tbody>\n",
       "    <tr>\n",
       "      <th>0</th>\n",
       "      <td>0.0</td>\n",
       "      <td>0.0</td>\n",
       "      <td>0.0</td>\n",
       "      <td>0.0</td>\n",
       "      <td>0.0</td>\n",
       "      <td>0.0</td>\n",
       "      <td>0.0</td>\n",
       "      <td>0.0</td>\n",
       "      <td>0.0</td>\n",
       "      <td>0.0</td>\n",
       "      <td>0.0</td>\n",
       "      <td>0.0</td>\n",
       "      <td>0.0</td>\n",
       "      <td>0.0</td>\n",
       "      <td>0.0</td>\n",
       "      <td>0.0</td>\n",
       "      <td>0.0</td>\n",
       "      <td>4.0</td>\n",
       "      <td>1.0</td>\n",
       "    </tr>\n",
       "    <tr>\n",
       "      <th>A</th>\n",
       "      <td>538.0</td>\n",
       "      <td>615.0</td>\n",
       "      <td>169.0</td>\n",
       "      <td>1031.0</td>\n",
       "      <td>4207.0</td>\n",
       "      <td>1926.0</td>\n",
       "      <td>553.0</td>\n",
       "      <td>1222.0</td>\n",
       "      <td>84.0</td>\n",
       "      <td>236.0</td>\n",
       "      <td>418.0</td>\n",
       "      <td>295.0</td>\n",
       "      <td>49.0</td>\n",
       "      <td>1733.0</td>\n",
       "      <td>254.0</td>\n",
       "      <td>45.0</td>\n",
       "      <td>395.0</td>\n",
       "      <td>100.0</td>\n",
       "      <td>118.0</td>\n",
       "    </tr>\n",
       "    <tr>\n",
       "      <th>B</th>\n",
       "      <td>590.0</td>\n",
       "      <td>560.0</td>\n",
       "      <td>223.0</td>\n",
       "      <td>755.0</td>\n",
       "      <td>4536.0</td>\n",
       "      <td>3039.0</td>\n",
       "      <td>654.0</td>\n",
       "      <td>1094.0</td>\n",
       "      <td>86.0</td>\n",
       "      <td>200.0</td>\n",
       "      <td>367.0</td>\n",
       "      <td>345.0</td>\n",
       "      <td>50.0</td>\n",
       "      <td>2496.0</td>\n",
       "      <td>260.0</td>\n",
       "      <td>35.0</td>\n",
       "      <td>402.0</td>\n",
       "      <td>228.0</td>\n",
       "      <td>85.0</td>\n",
       "    </tr>\n",
       "    <tr>\n",
       "      <th>C</th>\n",
       "      <td>594.0</td>\n",
       "      <td>914.0</td>\n",
       "      <td>196.0</td>\n",
       "      <td>1051.0</td>\n",
       "      <td>4512.0</td>\n",
       "      <td>2032.0</td>\n",
       "      <td>535.0</td>\n",
       "      <td>1297.0</td>\n",
       "      <td>86.0</td>\n",
       "      <td>223.0</td>\n",
       "      <td>359.0</td>\n",
       "      <td>289.0</td>\n",
       "      <td>67.0</td>\n",
       "      <td>1975.0</td>\n",
       "      <td>240.0</td>\n",
       "      <td>44.0</td>\n",
       "      <td>393.0</td>\n",
       "      <td>138.0</td>\n",
       "      <td>62.0</td>\n",
       "    </tr>\n",
       "    <tr>\n",
       "      <th>G</th>\n",
       "      <td>566.0</td>\n",
       "      <td>771.0</td>\n",
       "      <td>185.0</td>\n",
       "      <td>1104.0</td>\n",
       "      <td>4439.0</td>\n",
       "      <td>2154.0</td>\n",
       "      <td>526.0</td>\n",
       "      <td>1188.0</td>\n",
       "      <td>86.0</td>\n",
       "      <td>218.0</td>\n",
       "      <td>357.0</td>\n",
       "      <td>328.0</td>\n",
       "      <td>50.0</td>\n",
       "      <td>1896.0</td>\n",
       "      <td>258.0</td>\n",
       "      <td>19.0</td>\n",
       "      <td>436.0</td>\n",
       "      <td>170.0</td>\n",
       "      <td>98.0</td>\n",
       "    </tr>\n",
       "    <tr>\n",
       "      <th>P</th>\n",
       "      <td>0.0</td>\n",
       "      <td>0.0</td>\n",
       "      <td>0.0</td>\n",
       "      <td>0.0</td>\n",
       "      <td>0.0</td>\n",
       "      <td>0.0</td>\n",
       "      <td>0.0</td>\n",
       "      <td>0.0</td>\n",
       "      <td>0.0</td>\n",
       "      <td>0.0</td>\n",
       "      <td>0.0</td>\n",
       "      <td>0.0</td>\n",
       "      <td>0.0</td>\n",
       "      <td>0.0</td>\n",
       "      <td>0.0</td>\n",
       "      <td>0.0</td>\n",
       "      <td>0.0</td>\n",
       "      <td>0.0</td>\n",
       "      <td>0.0</td>\n",
       "    </tr>\n",
       "    <tr>\n",
       "      <th>R</th>\n",
       "      <td>638.0</td>\n",
       "      <td>338.0</td>\n",
       "      <td>161.0</td>\n",
       "      <td>569.0</td>\n",
       "      <td>4899.0</td>\n",
       "      <td>2352.0</td>\n",
       "      <td>608.0</td>\n",
       "      <td>833.0</td>\n",
       "      <td>113.0</td>\n",
       "      <td>267.0</td>\n",
       "      <td>339.0</td>\n",
       "      <td>287.0</td>\n",
       "      <td>76.0</td>\n",
       "      <td>2371.0</td>\n",
       "      <td>238.0</td>\n",
       "      <td>23.0</td>\n",
       "      <td>467.0</td>\n",
       "      <td>86.0</td>\n",
       "      <td>141.0</td>\n",
       "    </tr>\n",
       "  </tbody>\n",
       "</table>\n",
       "</div>"
      ],
      "text/plain": [
       "    MAIT  NK_CD16+  NK_CD56++   T4_CM  T4_RA+_SELL+  T4_RA+_SELLint  \\\n",
       "0    0.0       0.0        0.0     0.0           0.0             0.0   \n",
       "A  538.0     615.0      169.0  1031.0        4207.0          1926.0   \n",
       "B  590.0     560.0      223.0   755.0        4536.0          3039.0   \n",
       "C  594.0     914.0      196.0  1051.0        4512.0          2032.0   \n",
       "G  566.0     771.0      185.0  1104.0        4439.0          2154.0   \n",
       "P    0.0       0.0        0.0     0.0           0.0             0.0   \n",
       "R  638.0     338.0      161.0   569.0        4899.0          2352.0   \n",
       "\n",
       "   T4_RO+_Act  T4_RO+_SELL+  T4_Treg_Act  T4_Treg_Resting  T8_CM  T8_EM  \\\n",
       "0         0.0           0.0          0.0              0.0    0.0    0.0   \n",
       "A       553.0        1222.0         84.0            236.0  418.0  295.0   \n",
       "B       654.0        1094.0         86.0            200.0  367.0  345.0   \n",
       "C       535.0        1297.0         86.0            223.0  359.0  289.0   \n",
       "G       526.0        1188.0         86.0            218.0  357.0  328.0   \n",
       "P         0.0           0.0          0.0              0.0    0.0    0.0   \n",
       "R       608.0         833.0        113.0            267.0  339.0  287.0   \n",
       "\n",
       "   T8_HOBIT+HELIOS+  T8_RA+_SELL+  T8_TEMRA  T_CD10+   T_gd   cDC1   cDC2  \n",
       "0               0.0           0.0       0.0      0.0    0.0    4.0    1.0  \n",
       "A              49.0        1733.0     254.0     45.0  395.0  100.0  118.0  \n",
       "B              50.0        2496.0     260.0     35.0  402.0  228.0   85.0  \n",
       "C              67.0        1975.0     240.0     44.0  393.0  138.0   62.0  \n",
       "G              50.0        1896.0     258.0     19.0  436.0  170.0   98.0  \n",
       "P               0.0           0.0       0.0      0.0    0.0    0.0    0.0  \n",
       "R              76.0        2371.0     238.0     23.0  467.0   86.0  141.0  "
      ]
     },
     "execution_count": 139,
     "metadata": {},
     "output_type": "execute_result"
    }
   ],
   "source": [
    "s = (cond_ct_df > 10).sum(0)\n",
    "cond_ct_df = cond_ct_df[s[s == 5].index.values].copy()\n",
    "cond_ct_df"
   ]
  },
  {
   "cell_type": "markdown",
   "metadata": {},
   "source": [
    "Divide by the total per cell type."
   ]
  },
  {
   "cell_type": "code",
   "execution_count": 140,
   "metadata": {},
   "outputs": [],
   "source": [
    "cond_ct_df_div = cond_ct_df.divide(cond_ct_df.sum(0),1)"
   ]
  },
  {
   "cell_type": "code",
   "execution_count": 141,
   "metadata": {},
   "outputs": [],
   "source": [
    "high_count_cts = cond_ct_df.columns.values"
   ]
  },
  {
   "cell_type": "code",
   "execution_count": 142,
   "metadata": {},
   "outputs": [],
   "source": [
    "free_ids = np.unique(concat.obs['free_id'].values)\n",
    "ind_ct = pd.DataFrame(0, index=free_ids, columns=high_count_cts)"
   ]
  },
  {
   "cell_type": "code",
   "execution_count": 143,
   "metadata": {},
   "outputs": [
    {
     "data": {
      "application/vnd.jupyter.widget-view+json": {
       "model_id": "8ee1a2a8529d438385dd4bf9c91481d1",
       "version_major": 2,
       "version_minor": 0
      },
      "text/plain": [
       "0it [00:00, ?it/s]"
      ]
     },
     "metadata": {},
     "output_type": "display_data"
    }
   ],
   "source": [
    "for free_id, ct in tqdm(it.product(free_ids, high_count_cts)):\n",
    "    ind_ct.loc[free_id, ct] = len(concat.obs[(concat.obs['free_id'] == free_id) & (concat.obs[ct_type] == ct)])"
   ]
  },
  {
   "cell_type": "markdown",
   "metadata": {},
   "source": [
    "The subclustering that was done to create `ct3` was only run on `C`, `A`, `G`, `B`, `R`, so I will only focus on those."
   ]
  },
  {
   "cell_type": "code",
   "execution_count": 144,
   "metadata": {},
   "outputs": [],
   "source": [
    "ct_cond_id = list(it.product(high_count_cts, ['A', 'B', 'C', 'G', 'R'], free_ids))"
   ]
  },
  {
   "cell_type": "code",
   "execution_count": 145,
   "metadata": {},
   "outputs": [],
   "source": [
    "ct_cond_id_df = pd.DataFrame(ct_cond_id, columns=['CT','COND', 'FID'])"
   ]
  },
  {
   "cell_type": "code",
   "execution_count": 146,
   "metadata": {},
   "outputs": [
    {
     "data": {
      "text/html": [
       "<div>\n",
       "<style scoped>\n",
       "    .dataframe tbody tr th:only-of-type {\n",
       "        vertical-align: middle;\n",
       "    }\n",
       "\n",
       "    .dataframe tbody tr th {\n",
       "        vertical-align: top;\n",
       "    }\n",
       "\n",
       "    .dataframe thead th {\n",
       "        text-align: right;\n",
       "    }\n",
       "</style>\n",
       "<table border=\"1\" class=\"dataframe\">\n",
       "  <thead>\n",
       "    <tr style=\"text-align: right;\">\n",
       "      <th></th>\n",
       "      <th>CT</th>\n",
       "      <th>COND</th>\n",
       "      <th>FID</th>\n",
       "    </tr>\n",
       "  </thead>\n",
       "  <tbody>\n",
       "    <tr>\n",
       "      <th>0</th>\n",
       "      <td>MAIT</td>\n",
       "      <td>A</td>\n",
       "      <td>0</td>\n",
       "    </tr>\n",
       "    <tr>\n",
       "      <th>1</th>\n",
       "      <td>MAIT</td>\n",
       "      <td>A</td>\n",
       "      <td>1</td>\n",
       "    </tr>\n",
       "    <tr>\n",
       "      <th>2</th>\n",
       "      <td>MAIT</td>\n",
       "      <td>A</td>\n",
       "      <td>10</td>\n",
       "    </tr>\n",
       "    <tr>\n",
       "      <th>3</th>\n",
       "      <td>MAIT</td>\n",
       "      <td>A</td>\n",
       "      <td>11</td>\n",
       "    </tr>\n",
       "    <tr>\n",
       "      <th>4</th>\n",
       "      <td>MAIT</td>\n",
       "      <td>A</td>\n",
       "      <td>12</td>\n",
       "    </tr>\n",
       "    <tr>\n",
       "      <th>...</th>\n",
       "      <td>...</td>\n",
       "      <td>...</td>\n",
       "      <td>...</td>\n",
       "    </tr>\n",
       "    <tr>\n",
       "      <th>6075</th>\n",
       "      <td>cDC2</td>\n",
       "      <td>R</td>\n",
       "      <td>62</td>\n",
       "    </tr>\n",
       "    <tr>\n",
       "      <th>6076</th>\n",
       "      <td>cDC2</td>\n",
       "      <td>R</td>\n",
       "      <td>63</td>\n",
       "    </tr>\n",
       "    <tr>\n",
       "      <th>6077</th>\n",
       "      <td>cDC2</td>\n",
       "      <td>R</td>\n",
       "      <td>7</td>\n",
       "    </tr>\n",
       "    <tr>\n",
       "      <th>6078</th>\n",
       "      <td>cDC2</td>\n",
       "      <td>R</td>\n",
       "      <td>8</td>\n",
       "    </tr>\n",
       "    <tr>\n",
       "      <th>6079</th>\n",
       "      <td>cDC2</td>\n",
       "      <td>R</td>\n",
       "      <td>9</td>\n",
       "    </tr>\n",
       "  </tbody>\n",
       "</table>\n",
       "<p>6080 rows × 3 columns</p>\n",
       "</div>"
      ],
      "text/plain": [
       "        CT COND FID\n",
       "0     MAIT    A   0\n",
       "1     MAIT    A   1\n",
       "2     MAIT    A  10\n",
       "3     MAIT    A  11\n",
       "4     MAIT    A  12\n",
       "...    ...  ...  ..\n",
       "6075  cDC2    R  62\n",
       "6076  cDC2    R  63\n",
       "6077  cDC2    R   7\n",
       "6078  cDC2    R   8\n",
       "6079  cDC2    R   9\n",
       "\n",
       "[6080 rows x 3 columns]"
      ]
     },
     "execution_count": 146,
     "metadata": {},
     "output_type": "execute_result"
    }
   ],
   "source": [
    "ct_cond_id_df"
   ]
  },
  {
   "cell_type": "markdown",
   "metadata": {},
   "source": [
    "Now get the actual transcript numbers."
   ]
  },
  {
   "cell_type": "code",
   "execution_count": 147,
   "metadata": {},
   "outputs": [
    {
     "data": {
      "application/vnd.jupyter.widget-view+json": {
       "model_id": "7964e7b6027c40acb5725a4e9e02c66c",
       "version_major": 2,
       "version_minor": 0
      },
      "text/plain": [
       "  0%|          | 0/6080 [00:00<?, ?it/s]"
      ]
     },
     "metadata": {},
     "output_type": "display_data"
    }
   ],
   "source": [
    "counts_genes = list()\n",
    "cell_counts = list()\n",
    "for ct, cond, free_id in tqdm(ct_cond_id):\n",
    "    arr = raw_adts[(raw_adts.obs[ct_type] == ct) & (raw_adts.obs['cond'] == cond) & (raw_adts.obs['free_id'] == free_id)].X.toarray()\n",
    "    cell_counts.append(len(arr))\n",
    "    counts_genes.append(arr.sum(axis=0))"
   ]
  },
  {
   "cell_type": "code",
   "execution_count": 148,
   "metadata": {},
   "outputs": [],
   "source": [
    "ct_cond_id_df = ct_cond_id_df.join(pd.DataFrame(data=np.array(cell_counts),columns=['NUM_CELLS']))\n",
    "ct_cond_id_df = ct_cond_id_df.join(pd.DataFrame(data=np.array(counts_genes),columns=raw_adts.var_names))"
   ]
  },
  {
   "cell_type": "code",
   "execution_count": 149,
   "metadata": {},
   "outputs": [],
   "source": [
    "ct_df = ct_cond_id_df"
   ]
  },
  {
   "cell_type": "markdown",
   "metadata": {},
   "source": [
    "Prepare for export."
   ]
  },
  {
   "cell_type": "code",
   "execution_count": 150,
   "metadata": {},
   "outputs": [],
   "source": [
    "lot = list()\n",
    "for i in ct_df[['CT','COND']].itertuples(index=False):\n",
    "    lot.append('-'.join(tuple(i)))"
   ]
  },
  {
   "cell_type": "markdown",
   "metadata": {},
   "source": [
    "Final checks:"
   ]
  },
  {
   "cell_type": "code",
   "execution_count": 151,
   "metadata": {},
   "outputs": [
    {
     "data": {
      "text/plain": [
       "(array(['MAIT-A', 'MAIT-B', 'MAIT-C', 'MAIT-G', 'MAIT-R', 'NK_CD16+-A',\n",
       "        'NK_CD16+-B', 'NK_CD16+-C', 'NK_CD16+-G', 'NK_CD16+-R',\n",
       "        'NK_CD56++-A', 'NK_CD56++-B', 'NK_CD56++-C', 'NK_CD56++-G',\n",
       "        'NK_CD56++-R', 'T4_CM-A', 'T4_CM-B', 'T4_CM-C', 'T4_CM-G',\n",
       "        'T4_CM-R', 'T4_RA+_SELL+-A', 'T4_RA+_SELL+-B', 'T4_RA+_SELL+-C',\n",
       "        'T4_RA+_SELL+-G', 'T4_RA+_SELL+-R', 'T4_RA+_SELLint-A',\n",
       "        'T4_RA+_SELLint-B', 'T4_RA+_SELLint-C', 'T4_RA+_SELLint-G',\n",
       "        'T4_RA+_SELLint-R', 'T4_RO+_Act-A', 'T4_RO+_Act-B', 'T4_RO+_Act-C',\n",
       "        'T4_RO+_Act-G', 'T4_RO+_Act-R', 'T4_RO+_SELL+-A', 'T4_RO+_SELL+-B',\n",
       "        'T4_RO+_SELL+-C', 'T4_RO+_SELL+-G', 'T4_RO+_SELL+-R',\n",
       "        'T4_Treg_Act-A', 'T4_Treg_Act-B', 'T4_Treg_Act-C', 'T4_Treg_Act-G',\n",
       "        'T4_Treg_Act-R', 'T4_Treg_Resting-A', 'T4_Treg_Resting-B',\n",
       "        'T4_Treg_Resting-C', 'T4_Treg_Resting-G', 'T4_Treg_Resting-R',\n",
       "        'T8_CM-A', 'T8_CM-B', 'T8_CM-C', 'T8_CM-G', 'T8_CM-R', 'T8_EM-A',\n",
       "        'T8_EM-B', 'T8_EM-C', 'T8_EM-G', 'T8_EM-R', 'T8_HOBIT+HELIOS+-A',\n",
       "        'T8_HOBIT+HELIOS+-B', 'T8_HOBIT+HELIOS+-C', 'T8_HOBIT+HELIOS+-G',\n",
       "        'T8_HOBIT+HELIOS+-R', 'T8_RA+_SELL+-A', 'T8_RA+_SELL+-B',\n",
       "        'T8_RA+_SELL+-C', 'T8_RA+_SELL+-G', 'T8_RA+_SELL+-R', 'T8_TEMRA-A',\n",
       "        'T8_TEMRA-B', 'T8_TEMRA-C', 'T8_TEMRA-G', 'T8_TEMRA-R',\n",
       "        'T_CD10+-A', 'T_CD10+-B', 'T_CD10+-C', 'T_CD10+-G', 'T_CD10+-R',\n",
       "        'T_gd-A', 'T_gd-B', 'T_gd-C', 'T_gd-G', 'T_gd-R', 'cDC1-A',\n",
       "        'cDC1-B', 'cDC1-C', 'cDC1-G', 'cDC1-R', 'cDC2-A', 'cDC2-B',\n",
       "        'cDC2-C', 'cDC2-G', 'cDC2-R'], dtype='<U18'),\n",
       " array([64, 64, 64, 64, 64, 64, 64, 64, 64, 64, 64, 64, 64, 64, 64, 64, 64,\n",
       "        64, 64, 64, 64, 64, 64, 64, 64, 64, 64, 64, 64, 64, 64, 64, 64, 64,\n",
       "        64, 64, 64, 64, 64, 64, 64, 64, 64, 64, 64, 64, 64, 64, 64, 64, 64,\n",
       "        64, 64, 64, 64, 64, 64, 64, 64, 64, 64, 64, 64, 64, 64, 64, 64, 64,\n",
       "        64, 64, 64, 64, 64, 64, 64, 64, 64, 64, 64, 64, 64, 64, 64, 64, 64,\n",
       "        64, 64, 64, 64, 64, 64, 64, 64, 64, 64]))"
      ]
     },
     "execution_count": 151,
     "metadata": {},
     "output_type": "execute_result"
    }
   ],
   "source": [
    "np.unique(lot, return_counts=True)"
   ]
  },
  {
   "cell_type": "code",
   "execution_count": 152,
   "metadata": {},
   "outputs": [
    {
     "data": {
      "text/plain": [
       "T4_Treg_Act         320\n",
       "T8_CM               320\n",
       "T4_CM               320\n",
       "T8_RA+_SELL+        320\n",
       "T4_RO+_Act          320\n",
       "cDC2                320\n",
       "T_gd                320\n",
       "NK_CD16+            320\n",
       "T_CD10+             320\n",
       "cDC1                320\n",
       "T8_TEMRA            320\n",
       "NK_CD56++           320\n",
       "T8_HOBIT+HELIOS+    320\n",
       "T4_RA+_SELLint      320\n",
       "T8_EM               320\n",
       "MAIT                320\n",
       "T4_RO+_SELL+        320\n",
       "T4_RA+_SELL+        320\n",
       "T4_Treg_Resting     320\n",
       "Name: CT, dtype: int64"
      ]
     },
     "execution_count": 152,
     "metadata": {},
     "output_type": "execute_result"
    }
   ],
   "source": [
    "ct_cond_id_df['CT'].value_counts()"
   ]
  },
  {
   "cell_type": "code",
   "execution_count": 153,
   "metadata": {},
   "outputs": [
    {
     "data": {
      "text/plain": [
       "0"
      ]
     },
     "execution_count": 153,
     "metadata": {},
     "output_type": "execute_result"
    }
   ],
   "source": [
    "ct_df.isna().sum().sum()"
   ]
  },
  {
   "cell_type": "code",
   "execution_count": 154,
   "metadata": {},
   "outputs": [
    {
     "data": {
      "text/plain": [
       "T4_Treg_Act         320\n",
       "T8_CM               320\n",
       "T4_CM               320\n",
       "T8_RA+_SELL+        320\n",
       "T4_RO+_Act          320\n",
       "cDC2                320\n",
       "T_gd                320\n",
       "NK_CD16+            320\n",
       "T_CD10+             320\n",
       "cDC1                320\n",
       "T8_TEMRA            320\n",
       "NK_CD56++           320\n",
       "T8_HOBIT+HELIOS+    320\n",
       "T4_RA+_SELLint      320\n",
       "T8_EM               320\n",
       "MAIT                320\n",
       "T4_RO+_SELL+        320\n",
       "T4_RA+_SELL+        320\n",
       "T4_Treg_Resting     320\n",
       "Name: CT, dtype: int64"
      ]
     },
     "execution_count": 154,
     "metadata": {},
     "output_type": "execute_result"
    }
   ],
   "source": [
    "ct_df['CT'].value_counts()"
   ]
  },
  {
   "cell_type": "code",
   "execution_count": 155,
   "metadata": {},
   "outputs": [
    {
     "data": {
      "image/png": "[encoded data removed]",
      "text/plain": [
       "<Figure size 320x320 with 1 Axes>"
      ]
     },
     "metadata": {
      "image/png": {
       "height": 282,
       "width": 312
      },
      "needs_background": "light"
     },
     "output_type": "display_data"
    }
   ],
   "source": [
    "plt.hist(ct_df['NUM_CELLS'].values,bins=100);"
   ]
  },
  {
   "cell_type": "markdown",
   "metadata": {},
   "source": [
    "#### Export"
   ]
  },
  {
   "cell_type": "code",
   "execution_count": 156,
   "metadata": {},
   "outputs": [],
   "source": [
    "ct_df.drop(columns=['NUM_CELLS'],inplace=True)"
   ]
  },
  {
   "cell_type": "code",
   "execution_count": 157,
   "metadata": {},
   "outputs": [],
   "source": [
    "path = prefix_adts + 'pkls/pseudobulk_ct3.pkl'\n",
    "# ct_df.to_pickle(path)\n",
    "ct_df = pd.read_pickle(path)"
   ]
  }
 ],
 "metadata": {
  "kernelspec": {
   "display_name": "clue",
   "language": "python",
   "name": "clue"
  },
  "language_info": {
   "codemirror_mode": {
    "name": "ipython",
    "version": 3
   },
   "file_extension": ".py",
   "mimetype": "text/x-python",
   "name": "python",
   "nbconvert_exporter": "python",
   "pygments_lexer": "ipython3",
   "version": "3.6.10"
  },
  "toc-autonumbering": true
 },
 "nbformat": 4,
 "nbformat_minor": 4
}
