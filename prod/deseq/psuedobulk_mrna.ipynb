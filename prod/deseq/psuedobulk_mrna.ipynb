{
 "cells": [
  {
   "cell_type": "markdown",
   "metadata": {},
   "source": [
    "# Introduction\n",
    "Here I pseudobulk by cell type-condition so that we can run DESeq2 on the mRNA and ADTs."
   ]
  },
  {
   "cell_type": "markdown",
   "metadata": {},
   "source": [
    "# Setup"
   ]
  },
  {
   "cell_type": "code",
   "execution_count": 1,
   "metadata": {},
   "outputs": [],
   "source": [
    "import scanpy as sc\n",
    "import pandas as pd \n",
    "import numpy as np\n",
    "import matplotlib.pyplot as plt\n",
    "from tqdm.notebook import tqdm\n",
    "import warnings\n",
    "import itertools as it\n",
    "import json\n",
    "import requests\n",
    "import seaborn as sns\n",
    "import pickle as pkl\n",
    "from functools import reduce\n",
    "import anndata"
   ]
  },
  {
   "cell_type": "code",
   "execution_count": 2,
   "metadata": {},
   "outputs": [],
   "source": [
    "sc.settings.verbosity = 4\n",
    "sc.settings.set_figure_params(dpi=80)\n",
    "sc.settings.n_jobs=30"
   ]
  },
  {
   "cell_type": "code",
   "execution_count": 3,
   "metadata": {},
   "outputs": [],
   "source": [
    "mountpoint = '/data/clue/'\n",
    "prefix_adts = mountpoint + 'prod/adts/'\n",
    "prefix_mrna = mountpoint + 'prod/mrna/'\n",
    "prefix_comb = mountpoint + 'prod/comb/'"
   ]
  },
  {
   "cell_type": "markdown",
   "metadata": {},
   "source": [
    "# Load in Data"
   ]
  },
  {
   "cell_type": "code",
   "execution_count": 6,
   "metadata": {},
   "outputs": [],
   "source": [
    "path = prefix_comb + 'h5ads/concat_5.h5ad'\n",
    "concat = sc.read_h5ad(path)"
   ]
  },
  {
   "cell_type": "markdown",
   "metadata": {},
   "source": [
    "# Get Raw Data"
   ]
  },
  {
   "cell_type": "code",
   "execution_count": 5,
   "metadata": {},
   "outputs": [],
   "source": [
    "def get_raw_adts(obs_names):\n",
    "    path = prefix + 'adts/pkls/concat.adts.pkl'\n",
    "    \n",
    "    with open(path,'rb') as file:\n",
    "        return pkl.load(file)[obs_names, :]\n",
    "\n",
    "def get_raw_mrna(obs_names):\n",
    "    path = prefix + 'mrna/pkls/aggr/wells.sng.w_covars.pkl'\n",
    "    \n",
    "    with open(path,'rb') as file:\n",
    "        wells = pkl.load(file)\n",
    "    \n",
    "    for well in wells:\n",
    "        wells[well]['adata'].obs_names = [i[:16] + '-%s' % well for i in wells[well]['adata'].obs_names]\n",
    "    \n",
    "    return wells[0]['adata'].concatenate(*[wells[i]['adata'] for  i in range(1, 12)])[obs_names,:]\n",
    "    \n",
    "def clr_normalize_column(x):\n",
    "    normed_column = np.log1p((x) / (np.exp(sum(np.log1p((x)[x > 0 ])) / len(x + 1))))\n",
    "    return normed_column\n",
    "\n",
    "def clr_normalize(x):\n",
    "    normed_matrix = np.apply_along_axis(clr_normalize_column, 1, x)\n",
    "    return normed_matrix\n",
    "    \n",
    "def get_raw(adata, transformed=True):\n",
    "    raw_mrna = get_raw_mrna(adata.obs_names)\n",
    "    raw_adts = get_raw_adts(adata.obs_names)\n",
    "    \n",
    "    adata.obs['adts_n_counts'] = raw_adts.X.toarray().sum(axis=1)\n",
    "    \n",
    "    if transformed == True:\n",
    "        sc.pp.normalize_per_cell(raw_mrna,counts_per_cell_after=1e6)\n",
    "        sc.pp.log1p(raw_mrna)\n",
    "        \n",
    "        sc.pp.normalize_per_cell(raw_adts, counts_per_cell_after=1e6);\n",
    "        raw_adts.X = clr_normalize(raw_adts.X.toarray())\n",
    "    \n",
    "    return raw_mrna, raw_adts"
   ]
  },
  {
   "cell_type": "code",
   "execution_count": 6,
   "metadata": {},
   "outputs": [],
   "source": [
    "raw_mrna, raw_adts = get_raw(concat, transformed=False)"
   ]
  },
  {
   "cell_type": "code",
   "execution_count": 7,
   "metadata": {},
   "outputs": [
    {
     "name": "stderr",
     "output_type": "stream",
     "text": [
      "Trying to set attribute `.obs` of view, copying.\n"
     ]
    }
   ],
   "source": [
    "raw_mrna.obs['ct2'] = concat.obs['ct2']"
   ]
  },
  {
   "cell_type": "code",
   "execution_count": 8,
   "metadata": {},
   "outputs": [],
   "source": [
    "conds = concat.obs['cond'].dtype.categories\n",
    "clusts = concat.obs['ct2'].dtype.categories"
   ]
  },
  {
   "cell_type": "code",
   "execution_count": 9,
   "metadata": {},
   "outputs": [],
   "source": [
    "cond_ct_df = pd.DataFrame(index=conds, columns=clusts, dtype=np.int)"
   ]
  },
  {
   "cell_type": "code",
   "execution_count": 10,
   "metadata": {},
   "outputs": [
    {
     "data": {
      "application/vnd.jupyter.widget-view+json": {
       "model_id": "eb0755e9f4c34c70931f74a23a1d27af",
       "version_major": 2,
       "version_minor": 0
      },
      "text/plain": [
       "HBox(children=(FloatProgress(value=0.0, max=7.0), HTML(value='')))"
      ]
     },
     "metadata": {},
     "output_type": "display_data"
    },
    {
     "name": "stdout",
     "output_type": "stream",
     "text": [
      "\n"
     ]
    }
   ],
   "source": [
    "for cond in tqdm(conds):\n",
    "    for clust in clusts:\n",
    "        cond_ct_df.loc[cond, clust] = concat[(concat.obs['cond'] == cond) & (concat.obs['ct2'] == clust)].shape[0]"
   ]
  },
  {
   "cell_type": "markdown",
   "metadata": {},
   "source": [
    "After the last cell, ct2_colors disappears (haven't bothered to figure out why) but I'm just going to set it manually here."
   ]
  },
  {
   "cell_type": "code",
   "execution_count": 11,
   "metadata": {},
   "outputs": [],
   "source": [
    "ct2_colors = concat.uns['ct2_colors']"
   ]
  },
  {
   "cell_type": "code",
   "execution_count": 12,
   "metadata": {},
   "outputs": [],
   "source": [
    "concat.uns['ct2_colors'] = ct2_colors"
   ]
  },
  {
   "cell_type": "code",
   "execution_count": 13,
   "metadata": {},
   "outputs": [],
   "source": [
    "cond_ct_df_div = cond_ct_df.divide(cond_ct_df.sum(0),1)"
   ]
  },
  {
   "cell_type": "code",
   "execution_count": 14,
   "metadata": {},
   "outputs": [
    {
     "name": "stdout",
     "output_type": "stream",
     "text": [
      "['T4_Naive', 'T4_Mem', 'cM', 'T8_Naive', 'T_Tox', 'B_Naive', 'NK', 'B_Mem', 'cDC', 'ncM', 'pDC', 'M_cDC_PMA/I', 'HSC']\n"
     ]
    }
   ],
   "source": [
    "high_count_cts = concat.obs['ct2'].value_counts()[:-2].index.tolist()\n",
    "print(high_count_cts)"
   ]
  },
  {
   "cell_type": "code",
   "execution_count": 15,
   "metadata": {},
   "outputs": [],
   "source": [
    "free_ids = np.unique(concat.obs['free_id'].values)\n",
    "ind_ct = pd.DataFrame(0, index=free_ids, columns=high_count_cts)"
   ]
  },
  {
   "cell_type": "code",
   "execution_count": 16,
   "metadata": {},
   "outputs": [
    {
     "data": {
      "application/vnd.jupyter.widget-view+json": {
       "model_id": "0030196032d44182b199cbbce5c95c81",
       "version_major": 2,
       "version_minor": 0
      },
      "text/plain": [
       "HBox(children=(FloatProgress(value=1.0, bar_style='info', max=1.0), HTML(value='')))"
      ]
     },
     "metadata": {},
     "output_type": "display_data"
    },
    {
     "name": "stdout",
     "output_type": "stream",
     "text": [
      "\n"
     ]
    }
   ],
   "source": [
    "for free_id, ct in tqdm(it.product(free_ids, high_count_cts)):\n",
    "    ind_ct.loc[free_id, ct] = len(concat.obs[(concat.obs['free_id'] == free_id) & (concat.obs['ct2'] == ct)])"
   ]
  },
  {
   "cell_type": "code",
   "execution_count": 17,
   "metadata": {},
   "outputs": [],
   "source": [
    "ct_cond_id = list(it.product(high_count_cts, ['A', 'B', 'C', 'G', 'P', 'R'], free_ids))"
   ]
  },
  {
   "cell_type": "code",
   "execution_count": 18,
   "metadata": {},
   "outputs": [],
   "source": [
    "ct_cond_id_df = pd.DataFrame(ct_cond_id, columns=['CT','COND', 'FID'])"
   ]
  },
  {
   "cell_type": "code",
   "execution_count": 19,
   "metadata": {},
   "outputs": [
    {
     "data": {
      "text/html": [
       "<div>\n",
       "<style scoped>\n",
       "    .dataframe tbody tr th:only-of-type {\n",
       "        vertical-align: middle;\n",
       "    }\n",
       "\n",
       "    .dataframe tbody tr th {\n",
       "        vertical-align: top;\n",
       "    }\n",
       "\n",
       "    .dataframe thead th {\n",
       "        text-align: right;\n",
       "    }\n",
       "</style>\n",
       "<table border=\"1\" class=\"dataframe\">\n",
       "  <thead>\n",
       "    <tr style=\"text-align: right;\">\n",
       "      <th></th>\n",
       "      <th>CT</th>\n",
       "      <th>COND</th>\n",
       "      <th>FID</th>\n",
       "    </tr>\n",
       "  </thead>\n",
       "  <tbody>\n",
       "    <tr>\n",
       "      <th>0</th>\n",
       "      <td>T4_Naive</td>\n",
       "      <td>A</td>\n",
       "      <td>0</td>\n",
       "    </tr>\n",
       "    <tr>\n",
       "      <th>1</th>\n",
       "      <td>T4_Naive</td>\n",
       "      <td>A</td>\n",
       "      <td>1</td>\n",
       "    </tr>\n",
       "    <tr>\n",
       "      <th>2</th>\n",
       "      <td>T4_Naive</td>\n",
       "      <td>A</td>\n",
       "      <td>10</td>\n",
       "    </tr>\n",
       "    <tr>\n",
       "      <th>3</th>\n",
       "      <td>T4_Naive</td>\n",
       "      <td>A</td>\n",
       "      <td>11</td>\n",
       "    </tr>\n",
       "    <tr>\n",
       "      <th>4</th>\n",
       "      <td>T4_Naive</td>\n",
       "      <td>A</td>\n",
       "      <td>12</td>\n",
       "    </tr>\n",
       "    <tr>\n",
       "      <th>...</th>\n",
       "      <td>...</td>\n",
       "      <td>...</td>\n",
       "      <td>...</td>\n",
       "    </tr>\n",
       "    <tr>\n",
       "      <th>4987</th>\n",
       "      <td>HSC</td>\n",
       "      <td>R</td>\n",
       "      <td>62</td>\n",
       "    </tr>\n",
       "    <tr>\n",
       "      <th>4988</th>\n",
       "      <td>HSC</td>\n",
       "      <td>R</td>\n",
       "      <td>63</td>\n",
       "    </tr>\n",
       "    <tr>\n",
       "      <th>4989</th>\n",
       "      <td>HSC</td>\n",
       "      <td>R</td>\n",
       "      <td>7</td>\n",
       "    </tr>\n",
       "    <tr>\n",
       "      <th>4990</th>\n",
       "      <td>HSC</td>\n",
       "      <td>R</td>\n",
       "      <td>8</td>\n",
       "    </tr>\n",
       "    <tr>\n",
       "      <th>4991</th>\n",
       "      <td>HSC</td>\n",
       "      <td>R</td>\n",
       "      <td>9</td>\n",
       "    </tr>\n",
       "  </tbody>\n",
       "</table>\n",
       "<p>4992 rows × 3 columns</p>\n",
       "</div>"
      ],
      "text/plain": [
       "            CT COND FID\n",
       "0     T4_Naive    A   0\n",
       "1     T4_Naive    A   1\n",
       "2     T4_Naive    A  10\n",
       "3     T4_Naive    A  11\n",
       "4     T4_Naive    A  12\n",
       "...        ...  ...  ..\n",
       "4987       HSC    R  62\n",
       "4988       HSC    R  63\n",
       "4989       HSC    R   7\n",
       "4990       HSC    R   8\n",
       "4991       HSC    R   9\n",
       "\n",
       "[4992 rows x 3 columns]"
      ]
     },
     "execution_count": 19,
     "metadata": {},
     "output_type": "execute_result"
    }
   ],
   "source": [
    "ct_cond_id_df"
   ]
  },
  {
   "cell_type": "code",
   "execution_count": 20,
   "metadata": {},
   "outputs": [
    {
     "data": {
      "application/vnd.jupyter.widget-view+json": {
       "model_id": "10216db9c66d430a8db1478a723ba980",
       "version_major": 2,
       "version_minor": 0
      },
      "text/plain": [
       "HBox(children=(FloatProgress(value=0.0, max=4992.0), HTML(value='')))"
      ]
     },
     "metadata": {},
     "output_type": "display_data"
    },
    {
     "name": "stdout",
     "output_type": "stream",
     "text": [
      "\n"
     ]
    }
   ],
   "source": [
    "counts_genes = list()\n",
    "cell_counts = list()\n",
    "for ct, cond, free_id in tqdm(ct_cond_id):\n",
    "    arr = raw_mrna[(raw_mrna.obs['ct2'] == ct) & (raw_mrna.obs['cond'] == cond) & (raw_mrna.obs['free_id'] == free_id)].X.toarray()\n",
    "    cell_counts.append(len(arr))\n",
    "    counts_genes.append(arr.sum(axis=0))"
   ]
  },
  {
   "cell_type": "code",
   "execution_count": 21,
   "metadata": {},
   "outputs": [],
   "source": [
    "ct_cond_id_df = ct_cond_id_df.join(pd.DataFrame(data=np.array(cell_counts),columns=['NUM_CELLS']))\n",
    "ct_cond_id_df = ct_cond_id_df.join(pd.DataFrame(data=np.array(counts_genes),columns=raw_mrna.var_names))"
   ]
  },
  {
   "cell_type": "code",
   "execution_count": 22,
   "metadata": {},
   "outputs": [],
   "source": [
    "lot = list()\n",
    "for i in ct_cond_id_df[['CT','COND']].itertuples(index=False):\n",
    "    lot.append('-'.join(tuple(i)))"
   ]
  },
  {
   "cell_type": "code",
   "execution_count": 23,
   "metadata": {},
   "outputs": [
    {
     "data": {
      "text/plain": [
       "(array(['B_Mem-A', 'B_Mem-B', 'B_Mem-C', 'B_Mem-G', 'B_Mem-P', 'B_Mem-R',\n",
       "        'B_Naive-A', 'B_Naive-B', 'B_Naive-C', 'B_Naive-G', 'B_Naive-P',\n",
       "        'B_Naive-R', 'HSC-A', 'HSC-B', 'HSC-C', 'HSC-G', 'HSC-P', 'HSC-R',\n",
       "        'M_cDC_PMA/I-A', 'M_cDC_PMA/I-B', 'M_cDC_PMA/I-C', 'M_cDC_PMA/I-G',\n",
       "        'M_cDC_PMA/I-P', 'M_cDC_PMA/I-R', 'NK-A', 'NK-B', 'NK-C', 'NK-G',\n",
       "        'NK-P', 'NK-R', 'T4_Mem-A', 'T4_Mem-B', 'T4_Mem-C', 'T4_Mem-G',\n",
       "        'T4_Mem-P', 'T4_Mem-R', 'T4_Naive-A', 'T4_Naive-B', 'T4_Naive-C',\n",
       "        'T4_Naive-G', 'T4_Naive-P', 'T4_Naive-R', 'T8_Naive-A',\n",
       "        'T8_Naive-B', 'T8_Naive-C', 'T8_Naive-G', 'T8_Naive-P',\n",
       "        'T8_Naive-R', 'T_Tox-A', 'T_Tox-B', 'T_Tox-C', 'T_Tox-G',\n",
       "        'T_Tox-P', 'T_Tox-R', 'cDC-A', 'cDC-B', 'cDC-C', 'cDC-G', 'cDC-P',\n",
       "        'cDC-R', 'cM-A', 'cM-B', 'cM-C', 'cM-G', 'cM-P', 'cM-R', 'ncM-A',\n",
       "        'ncM-B', 'ncM-C', 'ncM-G', 'ncM-P', 'ncM-R', 'pDC-A', 'pDC-B',\n",
       "        'pDC-C', 'pDC-G', 'pDC-P', 'pDC-R'], dtype='<U13'),\n",
       " array([64, 64, 64, 64, 64, 64, 64, 64, 64, 64, 64, 64, 64, 64, 64, 64, 64,\n",
       "        64, 64, 64, 64, 64, 64, 64, 64, 64, 64, 64, 64, 64, 64, 64, 64, 64,\n",
       "        64, 64, 64, 64, 64, 64, 64, 64, 64, 64, 64, 64, 64, 64, 64, 64, 64,\n",
       "        64, 64, 64, 64, 64, 64, 64, 64, 64, 64, 64, 64, 64, 64, 64, 64, 64,\n",
       "        64, 64, 64, 64, 64, 64, 64, 64, 64, 64]))"
      ]
     },
     "execution_count": 23,
     "metadata": {},
     "output_type": "execute_result"
    }
   ],
   "source": [
    "np.unique(lot, return_counts=True)"
   ]
  },
  {
   "cell_type": "code",
   "execution_count": 24,
   "metadata": {},
   "outputs": [
    {
     "data": {
      "text/html": [
       "<div>\n",
       "<style scoped>\n",
       "    .dataframe tbody tr th:only-of-type {\n",
       "        vertical-align: middle;\n",
       "    }\n",
       "\n",
       "    .dataframe tbody tr th {\n",
       "        vertical-align: top;\n",
       "    }\n",
       "\n",
       "    .dataframe thead th {\n",
       "        text-align: right;\n",
       "    }\n",
       "</style>\n",
       "<table border=\"1\" class=\"dataframe\">\n",
       "  <thead>\n",
       "    <tr style=\"text-align: right;\">\n",
       "      <th></th>\n",
       "      <th>CT</th>\n",
       "      <th>COND</th>\n",
       "      <th>FID</th>\n",
       "      <th>NUM_CELLS</th>\n",
       "      <th>AL627309.1</th>\n",
       "      <th>AL627309.3</th>\n",
       "      <th>AL669831.5</th>\n",
       "      <th>LINC00115</th>\n",
       "      <th>FAM41C</th>\n",
       "      <th>AL645608.3</th>\n",
       "      <th>...</th>\n",
       "      <th>BX004987.1</th>\n",
       "      <th>AC145212.1</th>\n",
       "      <th>MAFIP</th>\n",
       "      <th>AC011043.1</th>\n",
       "      <th>AL592183.1</th>\n",
       "      <th>AC007325.4</th>\n",
       "      <th>AL354822.1</th>\n",
       "      <th>AC004556.1</th>\n",
       "      <th>AC233755.1</th>\n",
       "      <th>AC240274.1</th>\n",
       "    </tr>\n",
       "  </thead>\n",
       "  <tbody>\n",
       "    <tr>\n",
       "      <th>4224</th>\n",
       "      <td>M_cDC_PMA/I</td>\n",
       "      <td>A</td>\n",
       "      <td>0</td>\n",
       "      <td>0</td>\n",
       "      <td>0.0</td>\n",
       "      <td>0.0</td>\n",
       "      <td>0.0</td>\n",
       "      <td>0.0</td>\n",
       "      <td>0.0</td>\n",
       "      <td>0.0</td>\n",
       "      <td>...</td>\n",
       "      <td>0.0</td>\n",
       "      <td>0.0</td>\n",
       "      <td>0.0</td>\n",
       "      <td>0.0</td>\n",
       "      <td>0.0</td>\n",
       "      <td>0.0</td>\n",
       "      <td>0.0</td>\n",
       "      <td>0.0</td>\n",
       "      <td>0.0</td>\n",
       "      <td>0.0</td>\n",
       "    </tr>\n",
       "    <tr>\n",
       "      <th>4225</th>\n",
       "      <td>M_cDC_PMA/I</td>\n",
       "      <td>A</td>\n",
       "      <td>1</td>\n",
       "      <td>0</td>\n",
       "      <td>0.0</td>\n",
       "      <td>0.0</td>\n",
       "      <td>0.0</td>\n",
       "      <td>0.0</td>\n",
       "      <td>0.0</td>\n",
       "      <td>0.0</td>\n",
       "      <td>...</td>\n",
       "      <td>0.0</td>\n",
       "      <td>0.0</td>\n",
       "      <td>0.0</td>\n",
       "      <td>0.0</td>\n",
       "      <td>0.0</td>\n",
       "      <td>0.0</td>\n",
       "      <td>0.0</td>\n",
       "      <td>0.0</td>\n",
       "      <td>0.0</td>\n",
       "      <td>0.0</td>\n",
       "    </tr>\n",
       "    <tr>\n",
       "      <th>4226</th>\n",
       "      <td>M_cDC_PMA/I</td>\n",
       "      <td>A</td>\n",
       "      <td>10</td>\n",
       "      <td>0</td>\n",
       "      <td>0.0</td>\n",
       "      <td>0.0</td>\n",
       "      <td>0.0</td>\n",
       "      <td>0.0</td>\n",
       "      <td>0.0</td>\n",
       "      <td>0.0</td>\n",
       "      <td>...</td>\n",
       "      <td>0.0</td>\n",
       "      <td>0.0</td>\n",
       "      <td>0.0</td>\n",
       "      <td>0.0</td>\n",
       "      <td>0.0</td>\n",
       "      <td>0.0</td>\n",
       "      <td>0.0</td>\n",
       "      <td>0.0</td>\n",
       "      <td>0.0</td>\n",
       "      <td>0.0</td>\n",
       "    </tr>\n",
       "    <tr>\n",
       "      <th>4227</th>\n",
       "      <td>M_cDC_PMA/I</td>\n",
       "      <td>A</td>\n",
       "      <td>11</td>\n",
       "      <td>0</td>\n",
       "      <td>0.0</td>\n",
       "      <td>0.0</td>\n",
       "      <td>0.0</td>\n",
       "      <td>0.0</td>\n",
       "      <td>0.0</td>\n",
       "      <td>0.0</td>\n",
       "      <td>...</td>\n",
       "      <td>0.0</td>\n",
       "      <td>0.0</td>\n",
       "      <td>0.0</td>\n",
       "      <td>0.0</td>\n",
       "      <td>0.0</td>\n",
       "      <td>0.0</td>\n",
       "      <td>0.0</td>\n",
       "      <td>0.0</td>\n",
       "      <td>0.0</td>\n",
       "      <td>0.0</td>\n",
       "    </tr>\n",
       "    <tr>\n",
       "      <th>4228</th>\n",
       "      <td>M_cDC_PMA/I</td>\n",
       "      <td>A</td>\n",
       "      <td>12</td>\n",
       "      <td>0</td>\n",
       "      <td>0.0</td>\n",
       "      <td>0.0</td>\n",
       "      <td>0.0</td>\n",
       "      <td>0.0</td>\n",
       "      <td>0.0</td>\n",
       "      <td>0.0</td>\n",
       "      <td>...</td>\n",
       "      <td>0.0</td>\n",
       "      <td>0.0</td>\n",
       "      <td>0.0</td>\n",
       "      <td>0.0</td>\n",
       "      <td>0.0</td>\n",
       "      <td>0.0</td>\n",
       "      <td>0.0</td>\n",
       "      <td>0.0</td>\n",
       "      <td>0.0</td>\n",
       "      <td>0.0</td>\n",
       "    </tr>\n",
       "    <tr>\n",
       "      <th>...</th>\n",
       "      <td>...</td>\n",
       "      <td>...</td>\n",
       "      <td>...</td>\n",
       "      <td>...</td>\n",
       "      <td>...</td>\n",
       "      <td>...</td>\n",
       "      <td>...</td>\n",
       "      <td>...</td>\n",
       "      <td>...</td>\n",
       "      <td>...</td>\n",
       "      <td>...</td>\n",
       "      <td>...</td>\n",
       "      <td>...</td>\n",
       "      <td>...</td>\n",
       "      <td>...</td>\n",
       "      <td>...</td>\n",
       "      <td>...</td>\n",
       "      <td>...</td>\n",
       "      <td>...</td>\n",
       "      <td>...</td>\n",
       "      <td>...</td>\n",
       "    </tr>\n",
       "    <tr>\n",
       "      <th>4603</th>\n",
       "      <td>M_cDC_PMA/I</td>\n",
       "      <td>R</td>\n",
       "      <td>62</td>\n",
       "      <td>0</td>\n",
       "      <td>0.0</td>\n",
       "      <td>0.0</td>\n",
       "      <td>0.0</td>\n",
       "      <td>0.0</td>\n",
       "      <td>0.0</td>\n",
       "      <td>0.0</td>\n",
       "      <td>...</td>\n",
       "      <td>0.0</td>\n",
       "      <td>0.0</td>\n",
       "      <td>0.0</td>\n",
       "      <td>0.0</td>\n",
       "      <td>0.0</td>\n",
       "      <td>0.0</td>\n",
       "      <td>0.0</td>\n",
       "      <td>0.0</td>\n",
       "      <td>0.0</td>\n",
       "      <td>0.0</td>\n",
       "    </tr>\n",
       "    <tr>\n",
       "      <th>4604</th>\n",
       "      <td>M_cDC_PMA/I</td>\n",
       "      <td>R</td>\n",
       "      <td>63</td>\n",
       "      <td>0</td>\n",
       "      <td>0.0</td>\n",
       "      <td>0.0</td>\n",
       "      <td>0.0</td>\n",
       "      <td>0.0</td>\n",
       "      <td>0.0</td>\n",
       "      <td>0.0</td>\n",
       "      <td>...</td>\n",
       "      <td>0.0</td>\n",
       "      <td>0.0</td>\n",
       "      <td>0.0</td>\n",
       "      <td>0.0</td>\n",
       "      <td>0.0</td>\n",
       "      <td>0.0</td>\n",
       "      <td>0.0</td>\n",
       "      <td>0.0</td>\n",
       "      <td>0.0</td>\n",
       "      <td>0.0</td>\n",
       "    </tr>\n",
       "    <tr>\n",
       "      <th>4605</th>\n",
       "      <td>M_cDC_PMA/I</td>\n",
       "      <td>R</td>\n",
       "      <td>7</td>\n",
       "      <td>0</td>\n",
       "      <td>0.0</td>\n",
       "      <td>0.0</td>\n",
       "      <td>0.0</td>\n",
       "      <td>0.0</td>\n",
       "      <td>0.0</td>\n",
       "      <td>0.0</td>\n",
       "      <td>...</td>\n",
       "      <td>0.0</td>\n",
       "      <td>0.0</td>\n",
       "      <td>0.0</td>\n",
       "      <td>0.0</td>\n",
       "      <td>0.0</td>\n",
       "      <td>0.0</td>\n",
       "      <td>0.0</td>\n",
       "      <td>0.0</td>\n",
       "      <td>0.0</td>\n",
       "      <td>0.0</td>\n",
       "    </tr>\n",
       "    <tr>\n",
       "      <th>4606</th>\n",
       "      <td>M_cDC_PMA/I</td>\n",
       "      <td>R</td>\n",
       "      <td>8</td>\n",
       "      <td>0</td>\n",
       "      <td>0.0</td>\n",
       "      <td>0.0</td>\n",
       "      <td>0.0</td>\n",
       "      <td>0.0</td>\n",
       "      <td>0.0</td>\n",
       "      <td>0.0</td>\n",
       "      <td>...</td>\n",
       "      <td>0.0</td>\n",
       "      <td>0.0</td>\n",
       "      <td>0.0</td>\n",
       "      <td>0.0</td>\n",
       "      <td>0.0</td>\n",
       "      <td>0.0</td>\n",
       "      <td>0.0</td>\n",
       "      <td>0.0</td>\n",
       "      <td>0.0</td>\n",
       "      <td>0.0</td>\n",
       "    </tr>\n",
       "    <tr>\n",
       "      <th>4607</th>\n",
       "      <td>M_cDC_PMA/I</td>\n",
       "      <td>R</td>\n",
       "      <td>9</td>\n",
       "      <td>0</td>\n",
       "      <td>0.0</td>\n",
       "      <td>0.0</td>\n",
       "      <td>0.0</td>\n",
       "      <td>0.0</td>\n",
       "      <td>0.0</td>\n",
       "      <td>0.0</td>\n",
       "      <td>...</td>\n",
       "      <td>0.0</td>\n",
       "      <td>0.0</td>\n",
       "      <td>0.0</td>\n",
       "      <td>0.0</td>\n",
       "      <td>0.0</td>\n",
       "      <td>0.0</td>\n",
       "      <td>0.0</td>\n",
       "      <td>0.0</td>\n",
       "      <td>0.0</td>\n",
       "      <td>0.0</td>\n",
       "    </tr>\n",
       "  </tbody>\n",
       "</table>\n",
       "<p>384 rows × 20307 columns</p>\n",
       "</div>"
      ],
      "text/plain": [
       "               CT COND FID  NUM_CELLS  AL627309.1  AL627309.3  AL669831.5  \\\n",
       "4224  M_cDC_PMA/I    A   0          0         0.0         0.0         0.0   \n",
       "4225  M_cDC_PMA/I    A   1          0         0.0         0.0         0.0   \n",
       "4226  M_cDC_PMA/I    A  10          0         0.0         0.0         0.0   \n",
       "4227  M_cDC_PMA/I    A  11          0         0.0         0.0         0.0   \n",
       "4228  M_cDC_PMA/I    A  12          0         0.0         0.0         0.0   \n",
       "...           ...  ...  ..        ...         ...         ...         ...   \n",
       "4603  M_cDC_PMA/I    R  62          0         0.0         0.0         0.0   \n",
       "4604  M_cDC_PMA/I    R  63          0         0.0         0.0         0.0   \n",
       "4605  M_cDC_PMA/I    R   7          0         0.0         0.0         0.0   \n",
       "4606  M_cDC_PMA/I    R   8          0         0.0         0.0         0.0   \n",
       "4607  M_cDC_PMA/I    R   9          0         0.0         0.0         0.0   \n",
       "\n",
       "      LINC00115  FAM41C  AL645608.3  ...  BX004987.1  AC145212.1  MAFIP  \\\n",
       "4224        0.0     0.0         0.0  ...         0.0         0.0    0.0   \n",
       "4225        0.0     0.0         0.0  ...         0.0         0.0    0.0   \n",
       "4226        0.0     0.0         0.0  ...         0.0         0.0    0.0   \n",
       "4227        0.0     0.0         0.0  ...         0.0         0.0    0.0   \n",
       "4228        0.0     0.0         0.0  ...         0.0         0.0    0.0   \n",
       "...         ...     ...         ...  ...         ...         ...    ...   \n",
       "4603        0.0     0.0         0.0  ...         0.0         0.0    0.0   \n",
       "4604        0.0     0.0         0.0  ...         0.0         0.0    0.0   \n",
       "4605        0.0     0.0         0.0  ...         0.0         0.0    0.0   \n",
       "4606        0.0     0.0         0.0  ...         0.0         0.0    0.0   \n",
       "4607        0.0     0.0         0.0  ...         0.0         0.0    0.0   \n",
       "\n",
       "      AC011043.1  AL592183.1  AC007325.4  AL354822.1  AC004556.1  AC233755.1  \\\n",
       "4224         0.0         0.0         0.0         0.0         0.0         0.0   \n",
       "4225         0.0         0.0         0.0         0.0         0.0         0.0   \n",
       "4226         0.0         0.0         0.0         0.0         0.0         0.0   \n",
       "4227         0.0         0.0         0.0         0.0         0.0         0.0   \n",
       "4228         0.0         0.0         0.0         0.0         0.0         0.0   \n",
       "...          ...         ...         ...         ...         ...         ...   \n",
       "4603         0.0         0.0         0.0         0.0         0.0         0.0   \n",
       "4604         0.0         0.0         0.0         0.0         0.0         0.0   \n",
       "4605         0.0         0.0         0.0         0.0         0.0         0.0   \n",
       "4606         0.0         0.0         0.0         0.0         0.0         0.0   \n",
       "4607         0.0         0.0         0.0         0.0         0.0         0.0   \n",
       "\n",
       "      AC240274.1  \n",
       "4224         0.0  \n",
       "4225         0.0  \n",
       "4226         0.0  \n",
       "4227         0.0  \n",
       "4228         0.0  \n",
       "...          ...  \n",
       "4603         0.0  \n",
       "4604         0.0  \n",
       "4605         0.0  \n",
       "4606         0.0  \n",
       "4607         0.0  \n",
       "\n",
       "[384 rows x 20307 columns]"
      ]
     },
     "execution_count": 24,
     "metadata": {},
     "output_type": "execute_result"
    }
   ],
   "source": [
    "ct_cond_id_df[ct_cond_id_df['CT'] == 'M_cDC_PMA/I']"
   ]
  },
  {
   "cell_type": "code",
   "execution_count": 25,
   "metadata": {},
   "outputs": [],
   "source": [
    "ct_cond_id_df = ct_cond_id_df[~((ct_cond_id_df['CT'] == 'M_cDC_PMA/I') & (ct_cond_id_df['COND'].isin(['A','B','C','G','R'])))]"
   ]
  },
  {
   "cell_type": "code",
   "execution_count": 26,
   "metadata": {},
   "outputs": [],
   "source": [
    "ct_cond_id_df = ct_cond_id_df[~((ct_cond_id_df['CT'] == 'cM') & (ct_cond_id_df['COND'] == 'P'))]\n",
    "ct_cond_id_df = ct_cond_id_df[~((ct_cond_id_df['CT'] == 'ncM') & (ct_cond_id_df['COND'] == 'P'))]\n",
    "ct_cond_id_df = ct_cond_id_df[~((ct_cond_id_df['CT'] == 'cDC') & (ct_cond_id_df['COND'] == 'P'))]"
   ]
  },
  {
   "cell_type": "code",
   "execution_count": 27,
   "metadata": {},
   "outputs": [],
   "source": [
    "ct_cond_id_df['CT'] = ct_cond_id_df['CT'].str.replace('M_cDC_PMA/I','M_cDC')"
   ]
  },
  {
   "cell_type": "code",
   "execution_count": 28,
   "metadata": {},
   "outputs": [],
   "source": [
    "ct_cond_id_mono_cdc = list(it.product(['M_cDC'], ['A', 'B', 'C', 'G', 'R'], free_ids))"
   ]
  },
  {
   "cell_type": "code",
   "execution_count": 29,
   "metadata": {},
   "outputs": [
    {
     "data": {
      "application/vnd.jupyter.widget-view+json": {
       "model_id": "c6696872448a434b81610ab8309b0057",
       "version_major": 2,
       "version_minor": 0
      },
      "text/plain": [
       "HBox(children=(FloatProgress(value=0.0, max=320.0), HTML(value='')))"
      ]
     },
     "metadata": {},
     "output_type": "display_data"
    },
    {
     "name": "stdout",
     "output_type": "stream",
     "text": [
      "\n"
     ]
    }
   ],
   "source": [
    "counts_genes_mono_cdc = list()\n",
    "cell_counts_mono_cdc = list()\n",
    "for ct, cond, free_id in tqdm(ct_cond_id_mono_cdc):\n",
    "    arr = raw_mrna[((raw_mrna.obs['ct2'] == 'ncM') | \n",
    "                    (raw_mrna.obs['ct2'] == 'cM') |\n",
    "                    (raw_mrna.obs['ct2'] == 'cDC')\n",
    "                   ) & \n",
    "                   (raw_mrna.obs['cond'] == cond) &\n",
    "                   (raw_mrna.obs['free_id'] == free_id)].X.toarray()\n",
    "    cell_counts_mono_cdc.append(len(arr))\n",
    "    counts_genes_mono_cdc.append(arr.sum(axis=0))"
   ]
  },
  {
   "cell_type": "code",
   "execution_count": 30,
   "metadata": {},
   "outputs": [],
   "source": [
    "ct_cond_id_mono_cdc_df = pd.DataFrame(ct_cond_id_mono_cdc, columns=['CT','COND', 'FID'])"
   ]
  },
  {
   "cell_type": "code",
   "execution_count": 31,
   "metadata": {},
   "outputs": [],
   "source": [
    "ct_cond_id_mono_cdc_df = ct_cond_id_mono_cdc_df.join(pd.DataFrame(data=np.array(cell_counts_mono_cdc),columns=['NUM_CELLS']))\n",
    "ct_cond_id_mono_cdc_df = ct_cond_id_mono_cdc_df.join(pd.DataFrame(data=np.array(counts_genes_mono_cdc),columns=raw_mrna.var_names))"
   ]
  },
  {
   "cell_type": "code",
   "execution_count": 32,
   "metadata": {},
   "outputs": [],
   "source": [
    "ct_df = pd.concat([ct_cond_id_df, ct_cond_id_mono_cdc_df])"
   ]
  },
  {
   "cell_type": "code",
   "execution_count": 33,
   "metadata": {},
   "outputs": [],
   "source": [
    "lot = list()\n",
    "for i in ct_df[['CT','COND']].itertuples(index=False):\n",
    "    lot.append('-'.join(tuple(i)))"
   ]
  },
  {
   "cell_type": "code",
   "execution_count": 34,
   "metadata": {},
   "outputs": [
    {
     "data": {
      "text/plain": [
       "(array(['B_Mem-A', 'B_Mem-B', 'B_Mem-C', 'B_Mem-G', 'B_Mem-P', 'B_Mem-R',\n",
       "        'B_Naive-A', 'B_Naive-B', 'B_Naive-C', 'B_Naive-G', 'B_Naive-P',\n",
       "        'B_Naive-R', 'HSC-A', 'HSC-B', 'HSC-C', 'HSC-G', 'HSC-P', 'HSC-R',\n",
       "        'M_cDC-A', 'M_cDC-B', 'M_cDC-C', 'M_cDC-G', 'M_cDC-P', 'M_cDC-R',\n",
       "        'NK-A', 'NK-B', 'NK-C', 'NK-G', 'NK-P', 'NK-R', 'T4_Mem-A',\n",
       "        'T4_Mem-B', 'T4_Mem-C', 'T4_Mem-G', 'T4_Mem-P', 'T4_Mem-R',\n",
       "        'T4_Naive-A', 'T4_Naive-B', 'T4_Naive-C', 'T4_Naive-G',\n",
       "        'T4_Naive-P', 'T4_Naive-R', 'T8_Naive-A', 'T8_Naive-B',\n",
       "        'T8_Naive-C', 'T8_Naive-G', 'T8_Naive-P', 'T8_Naive-R', 'T_Tox-A',\n",
       "        'T_Tox-B', 'T_Tox-C', 'T_Tox-G', 'T_Tox-P', 'T_Tox-R', 'cDC-A',\n",
       "        'cDC-B', 'cDC-C', 'cDC-G', 'cDC-R', 'cM-A', 'cM-B', 'cM-C', 'cM-G',\n",
       "        'cM-R', 'ncM-A', 'ncM-B', 'ncM-C', 'ncM-G', 'ncM-R', 'pDC-A',\n",
       "        'pDC-B', 'pDC-C', 'pDC-G', 'pDC-P', 'pDC-R'], dtype='<U10'),\n",
       " array([64, 64, 64, 64, 64, 64, 64, 64, 64, 64, 64, 64, 64, 64, 64, 64, 64,\n",
       "        64, 64, 64, 64, 64, 64, 64, 64, 64, 64, 64, 64, 64, 64, 64, 64, 64,\n",
       "        64, 64, 64, 64, 64, 64, 64, 64, 64, 64, 64, 64, 64, 64, 64, 64, 64,\n",
       "        64, 64, 64, 64, 64, 64, 64, 64, 64, 64, 64, 64, 64, 64, 64, 64, 64,\n",
       "        64, 64, 64, 64, 64, 64, 64]))"
      ]
     },
     "execution_count": 34,
     "metadata": {},
     "output_type": "execute_result"
    }
   ],
   "source": [
    "np.unique(lot, return_counts=True)"
   ]
  },
  {
   "cell_type": "code",
   "execution_count": 35,
   "metadata": {},
   "outputs": [
    {
     "data": {
      "text/plain": [
       "pDC         384\n",
       "T_Tox       384\n",
       "T4_Naive    384\n",
       "NK          384\n",
       "HSC         384\n",
       "T8_Naive    384\n",
       "B_Mem       384\n",
       "T4_Mem      384\n",
       "B_Naive     384\n",
       "ncM         320\n",
       "cDC         320\n",
       "cM          320\n",
       "M_cDC        64\n",
       "Name: CT, dtype: int64"
      ]
     },
     "execution_count": 35,
     "metadata": {},
     "output_type": "execute_result"
    }
   ],
   "source": [
    "ct_cond_id_df['CT'].value_counts()"
   ]
  },
  {
   "cell_type": "code",
   "execution_count": 36,
   "metadata": {},
   "outputs": [
    {
     "data": {
      "text/plain": [
       "0"
      ]
     },
     "execution_count": 36,
     "metadata": {},
     "output_type": "execute_result"
    }
   ],
   "source": [
    "ct_df.isna().sum().sum()"
   ]
  },
  {
   "cell_type": "code",
   "execution_count": 37,
   "metadata": {},
   "outputs": [
    {
     "data": {
      "text/plain": [
       "pDC         384\n",
       "T_Tox       384\n",
       "T4_Naive    384\n",
       "NK          384\n",
       "HSC         384\n",
       "T8_Naive    384\n",
       "B_Mem       384\n",
       "M_cDC       384\n",
       "T4_Mem      384\n",
       "B_Naive     384\n",
       "ncM         320\n",
       "cDC         320\n",
       "cM          320\n",
       "Name: CT, dtype: int64"
      ]
     },
     "execution_count": 37,
     "metadata": {},
     "output_type": "execute_result"
    }
   ],
   "source": [
    "ct_df['CT'].value_counts()"
   ]
  },
  {
   "cell_type": "code",
   "execution_count": 38,
   "metadata": {},
   "outputs": [
    {
     "data": {
      "image/png": "[encoded data removed]",
      "text/plain": [
       "<Figure size 320x320 with 1 Axes>"
      ]
     },
     "metadata": {
      "image/png": {
       "height": 282,
       "width": 323
      },
      "needs_background": "light"
     },
     "output_type": "display_data"
    }
   ],
   "source": [
    "plt.hist(ct_df['NUM_CELLS'].values,bins=100);"
   ]
  },
  {
   "cell_type": "code",
   "execution_count": 39,
   "metadata": {},
   "outputs": [],
   "source": [
    "ct_df.drop(columns=['NUM_CELLS'],inplace=True)"
   ]
  },
  {
   "cell_type": "code",
   "execution_count": 80,
   "metadata": {},
   "outputs": [],
   "source": [
    "# AVOID RE-RUNNING THIS AGAIN\n",
    "# ct_df.to_pickle(prefix + 'mrna/pkls/aggr/pseudobulk.cts.pkl')"
   ]
  },
  {
   "cell_type": "markdown",
   "metadata": {},
   "source": [
    "# Pseudobulk Normalizing by Individual"
   ]
  },
  {
   "cell_type": "code",
   "execution_count": 108,
   "metadata": {},
   "outputs": [],
   "source": [
    "def get_pseudobulk(adata, covars):\n",
    "    assert covars[-1] == 'free_id'\n",
    "    genes = adata.var_names.tolist()\n",
    "    donors = np.unique(adata.obs['free_id'].tolist())\n",
    "    pseudobulk = pd.DataFrame(index=genes, columns=donors)\n",
    "    for i in range(len(donors)):\n",
    "        fdata = adata[adata.obs['free_id'] == donors[i]]\n",
    "        pseudobulk[donors[i]] = np.ravel(np.sum(fdata.X, axis=0)/np.sum(fdata.X))\n",
    "    \n",
    "    unique_rows = ~adata.obs[covars].duplicated()\n",
    "    covar_df = adata.obs.loc[unique_rows, covars].set_index('free_id')\n",
    "    pseudobulk.columns = pd.MultiIndex.from_frame(covar_df.loc[pseudobulk.columns].reset_index())\n",
    "#     pseudobulk = pseudobulk.T.sort_values(covars[:-1])\n",
    "#     pseudobulk.index = pseudobulk.index.reorder_levels(covars)\n",
    "    return pseudobulk"
   ]
  },
  {
   "cell_type": "code",
   "execution_count": 109,
   "metadata": {},
   "outputs": [],
   "source": [
    "covars = ['free_id']\n",
    "mean_dfs = dict()"
   ]
  },
  {
   "cell_type": "code",
   "execution_count": 110,
   "metadata": {},
   "outputs": [],
   "source": [
    "conds_1 = ['A', 'B', 'G', 'P', 'R']\n",
    "cts_1 = ['B_Mem', 'B_Naive', 'T4_Mem', 'T4_Naive', 'T_Tox', 'T8_Naive', 'HSC', 'NK', 'pDC']"
   ]
  },
  {
   "cell_type": "code",
   "execution_count": 111,
   "metadata": {},
   "outputs": [],
   "source": [
    "conds_2 = ['A', 'B', 'G', 'R']\n",
    "cts_2 = ['cM', 'ncM', 'cDC']"
   ]
  },
  {
   "cell_type": "code",
   "execution_count": 120,
   "metadata": {},
   "outputs": [],
   "source": [
    "ct_cond_combos = list(it.product(cts_1, conds_1)) + list(it.product(cts_2, conds_2))"
   ]
  },
  {
   "cell_type": "code",
   "execution_count": 114,
   "metadata": {},
   "outputs": [],
   "source": [
    "for ct, cond in tqdm(ct_cond_combos):\n",
    "    mean_dfs[(ct, cond)] = get_pseudobulk(raw_mrna[(raw_mrna.obs['ct2'] == ct) & (raw_mrna.obs['cond'] == cond)], covars)\n",
    "\n",
    "mean_df_pseudo = get_pseudobulk(raw_mrna, covars)"
   ]
  },
  {
   "cell_type": "code",
   "execution_count": 115,
   "metadata": {},
   "outputs": [
    {
     "data": {
      "text/html": [
       "<div>\n",
       "<style scoped>\n",
       "    .dataframe tbody tr th:only-of-type {\n",
       "        vertical-align: middle;\n",
       "    }\n",
       "\n",
       "    .dataframe tbody tr th {\n",
       "        vertical-align: top;\n",
       "    }\n",
       "\n",
       "    .dataframe thead tr th {\n",
       "        text-align: left;\n",
       "    }\n",
       "</style>\n",
       "<table border=\"1\" class=\"dataframe\">\n",
       "  <thead>\n",
       "    <tr>\n",
       "      <th>index</th>\n",
       "      <th>0</th>\n",
       "      <th>1</th>\n",
       "      <th>10</th>\n",
       "      <th>11</th>\n",
       "      <th>12</th>\n",
       "      <th>13</th>\n",
       "      <th>14</th>\n",
       "      <th>15</th>\n",
       "      <th>16</th>\n",
       "      <th>17</th>\n",
       "      <th>...</th>\n",
       "      <th>58</th>\n",
       "      <th>59</th>\n",
       "      <th>6</th>\n",
       "      <th>60</th>\n",
       "      <th>61</th>\n",
       "      <th>62</th>\n",
       "      <th>63</th>\n",
       "      <th>7</th>\n",
       "      <th>8</th>\n",
       "      <th>9</th>\n",
       "    </tr>\n",
       "  </thead>\n",
       "  <tbody>\n",
       "    <tr>\n",
       "      <th>AL627309.1</th>\n",
       "      <td>4.604985e-07</td>\n",
       "      <td>5.285489e-07</td>\n",
       "      <td>3.364103e-07</td>\n",
       "      <td>1.982033e-07</td>\n",
       "      <td>3.938347e-07</td>\n",
       "      <td>7.300201e-07</td>\n",
       "      <td>4.522583e-07</td>\n",
       "      <td>1.088048e-06</td>\n",
       "      <td>8.682588e-07</td>\n",
       "      <td>7.543632e-07</td>\n",
       "      <td>...</td>\n",
       "      <td>0.000000</td>\n",
       "      <td>5.620128e-07</td>\n",
       "      <td>8.434025e-08</td>\n",
       "      <td>2.365897e-07</td>\n",
       "      <td>6.374132e-07</td>\n",
       "      <td>1.087761e-06</td>\n",
       "      <td>6.178674e-07</td>\n",
       "      <td>5.394569e-07</td>\n",
       "      <td>3.662488e-07</td>\n",
       "      <td>3.638369e-07</td>\n",
       "    </tr>\n",
       "    <tr>\n",
       "      <th>AL627309.3</th>\n",
       "      <td>5.756232e-08</td>\n",
       "      <td>7.550698e-08</td>\n",
       "      <td>1.261539e-07</td>\n",
       "      <td>6.606778e-08</td>\n",
       "      <td>4.922934e-08</td>\n",
       "      <td>1.327309e-07</td>\n",
       "      <td>2.584333e-07</td>\n",
       "      <td>6.800298e-08</td>\n",
       "      <td>1.240370e-07</td>\n",
       "      <td>1.077662e-07</td>\n",
       "      <td>...</td>\n",
       "      <td>0.000000</td>\n",
       "      <td>0.000000e+00</td>\n",
       "      <td>8.434025e-08</td>\n",
       "      <td>1.577264e-07</td>\n",
       "      <td>1.274826e-07</td>\n",
       "      <td>3.107888e-07</td>\n",
       "      <td>1.235735e-07</td>\n",
       "      <td>5.394569e-08</td>\n",
       "      <td>0.000000e+00</td>\n",
       "      <td>4.547962e-08</td>\n",
       "    </tr>\n",
       "    <tr>\n",
       "      <th>AL669831.5</th>\n",
       "      <td>4.662548e-06</td>\n",
       "      <td>3.548828e-06</td>\n",
       "      <td>5.298462e-06</td>\n",
       "      <td>5.483626e-06</td>\n",
       "      <td>5.513687e-06</td>\n",
       "      <td>5.840161e-06</td>\n",
       "      <td>5.104058e-06</td>\n",
       "      <td>5.916259e-06</td>\n",
       "      <td>6.325886e-06</td>\n",
       "      <td>6.573736e-06</td>\n",
       "      <td>...</td>\n",
       "      <td>0.000008</td>\n",
       "      <td>4.496102e-06</td>\n",
       "      <td>4.385693e-06</td>\n",
       "      <td>4.022024e-06</td>\n",
       "      <td>4.971822e-06</td>\n",
       "      <td>2.952493e-06</td>\n",
       "      <td>7.290836e-06</td>\n",
       "      <td>6.095863e-06</td>\n",
       "      <td>4.639151e-06</td>\n",
       "      <td>3.911247e-06</td>\n",
       "    </tr>\n",
       "    <tr>\n",
       "      <th>LINC00115</th>\n",
       "      <td>2.935678e-06</td>\n",
       "      <td>3.020279e-06</td>\n",
       "      <td>2.901539e-06</td>\n",
       "      <td>2.510576e-06</td>\n",
       "      <td>3.642971e-06</td>\n",
       "      <td>2.853715e-06</td>\n",
       "      <td>4.134933e-06</td>\n",
       "      <td>4.080178e-06</td>\n",
       "      <td>2.976887e-06</td>\n",
       "      <td>3.448517e-06</td>\n",
       "      <td>...</td>\n",
       "      <td>0.000000</td>\n",
       "      <td>3.372077e-06</td>\n",
       "      <td>2.951909e-06</td>\n",
       "      <td>3.469982e-06</td>\n",
       "      <td>2.549653e-06</td>\n",
       "      <td>3.884860e-06</td>\n",
       "      <td>5.190086e-06</td>\n",
       "      <td>3.506470e-06</td>\n",
       "      <td>3.479364e-06</td>\n",
       "      <td>2.728777e-06</td>\n",
       "    </tr>\n",
       "    <tr>\n",
       "      <th>FAM41C</th>\n",
       "      <td>3.108365e-06</td>\n",
       "      <td>1.849921e-06</td>\n",
       "      <td>1.808205e-06</td>\n",
       "      <td>2.312372e-06</td>\n",
       "      <td>3.101449e-06</td>\n",
       "      <td>2.322791e-06</td>\n",
       "      <td>3.165808e-06</td>\n",
       "      <td>2.720119e-06</td>\n",
       "      <td>2.852850e-06</td>\n",
       "      <td>2.047557e-06</td>\n",
       "      <td>...</td>\n",
       "      <td>0.000000</td>\n",
       "      <td>5.058115e-06</td>\n",
       "      <td>3.626631e-06</td>\n",
       "      <td>2.523623e-06</td>\n",
       "      <td>3.314548e-06</td>\n",
       "      <td>3.107888e-06</td>\n",
       "      <td>4.077925e-06</td>\n",
       "      <td>1.888099e-06</td>\n",
       "      <td>1.831244e-06</td>\n",
       "      <td>2.137542e-06</td>\n",
       "    </tr>\n",
       "    <tr>\n",
       "      <th>...</th>\n",
       "      <td>...</td>\n",
       "      <td>...</td>\n",
       "      <td>...</td>\n",
       "      <td>...</td>\n",
       "      <td>...</td>\n",
       "      <td>...</td>\n",
       "      <td>...</td>\n",
       "      <td>...</td>\n",
       "      <td>...</td>\n",
       "      <td>...</td>\n",
       "      <td>...</td>\n",
       "      <td>...</td>\n",
       "      <td>...</td>\n",
       "      <td>...</td>\n",
       "      <td>...</td>\n",
       "      <td>...</td>\n",
       "      <td>...</td>\n",
       "      <td>...</td>\n",
       "      <td>...</td>\n",
       "      <td>...</td>\n",
       "      <td>...</td>\n",
       "    </tr>\n",
       "    <tr>\n",
       "      <th>AC007325.4</th>\n",
       "      <td>7.483101e-07</td>\n",
       "      <td>6.795628e-07</td>\n",
       "      <td>7.148719e-07</td>\n",
       "      <td>7.267456e-07</td>\n",
       "      <td>4.922935e-07</td>\n",
       "      <td>6.636547e-07</td>\n",
       "      <td>5.814749e-07</td>\n",
       "      <td>6.800298e-07</td>\n",
       "      <td>1.116333e-06</td>\n",
       "      <td>8.621294e-07</td>\n",
       "      <td>...</td>\n",
       "      <td>0.000004</td>\n",
       "      <td>1.967045e-06</td>\n",
       "      <td>1.012083e-06</td>\n",
       "      <td>1.340675e-06</td>\n",
       "      <td>7.648958e-07</td>\n",
       "      <td>9.323663e-07</td>\n",
       "      <td>4.942939e-07</td>\n",
       "      <td>8.631310e-07</td>\n",
       "      <td>6.104147e-07</td>\n",
       "      <td>7.731535e-07</td>\n",
       "    </tr>\n",
       "    <tr>\n",
       "      <th>AL354822.1</th>\n",
       "      <td>4.086924e-06</td>\n",
       "      <td>3.171293e-06</td>\n",
       "      <td>2.775385e-06</td>\n",
       "      <td>2.180237e-06</td>\n",
       "      <td>1.083046e-06</td>\n",
       "      <td>1.327309e-06</td>\n",
       "      <td>5.556316e-06</td>\n",
       "      <td>1.292056e-06</td>\n",
       "      <td>6.201849e-06</td>\n",
       "      <td>9.698955e-07</td>\n",
       "      <td>...</td>\n",
       "      <td>0.000004</td>\n",
       "      <td>6.744153e-06</td>\n",
       "      <td>3.120589e-06</td>\n",
       "      <td>1.261812e-06</td>\n",
       "      <td>3.951961e-06</td>\n",
       "      <td>1.709338e-06</td>\n",
       "      <td>1.730029e-06</td>\n",
       "      <td>7.606342e-06</td>\n",
       "      <td>1.526037e-06</td>\n",
       "      <td>3.001655e-06</td>\n",
       "    </tr>\n",
       "    <tr>\n",
       "      <th>AC004556.1</th>\n",
       "      <td>3.453739e-07</td>\n",
       "      <td>4.152884e-07</td>\n",
       "      <td>4.625642e-07</td>\n",
       "      <td>7.267456e-07</td>\n",
       "      <td>4.607867e-05</td>\n",
       "      <td>3.318274e-07</td>\n",
       "      <td>3.876500e-07</td>\n",
       "      <td>2.053690e-05</td>\n",
       "      <td>1.897766e-05</td>\n",
       "      <td>8.621294e-07</td>\n",
       "      <td>...</td>\n",
       "      <td>0.000000</td>\n",
       "      <td>8.430192e-07</td>\n",
       "      <td>6.747220e-07</td>\n",
       "      <td>6.309058e-07</td>\n",
       "      <td>5.099305e-07</td>\n",
       "      <td>6.215776e-07</td>\n",
       "      <td>2.557971e-05</td>\n",
       "      <td>2.066120e-05</td>\n",
       "      <td>3.052074e-07</td>\n",
       "      <td>5.457554e-07</td>\n",
       "    </tr>\n",
       "    <tr>\n",
       "      <th>AC233755.1</th>\n",
       "      <td>0.000000e+00</td>\n",
       "      <td>7.550698e-08</td>\n",
       "      <td>0.000000e+00</td>\n",
       "      <td>0.000000e+00</td>\n",
       "      <td>2.953761e-07</td>\n",
       "      <td>3.981928e-07</td>\n",
       "      <td>0.000000e+00</td>\n",
       "      <td>0.000000e+00</td>\n",
       "      <td>0.000000e+00</td>\n",
       "      <td>0.000000e+00</td>\n",
       "      <td>...</td>\n",
       "      <td>0.000000</td>\n",
       "      <td>0.000000e+00</td>\n",
       "      <td>2.530207e-07</td>\n",
       "      <td>3.154529e-07</td>\n",
       "      <td>0.000000e+00</td>\n",
       "      <td>3.107888e-07</td>\n",
       "      <td>0.000000e+00</td>\n",
       "      <td>2.157828e-07</td>\n",
       "      <td>1.220829e-07</td>\n",
       "      <td>9.095923e-08</td>\n",
       "    </tr>\n",
       "    <tr>\n",
       "      <th>AC240274.1</th>\n",
       "      <td>3.856675e-06</td>\n",
       "      <td>2.529484e-06</td>\n",
       "      <td>1.513846e-06</td>\n",
       "      <td>3.567660e-06</td>\n",
       "      <td>2.510697e-06</td>\n",
       "      <td>4.579217e-06</td>\n",
       "      <td>1.356775e-06</td>\n",
       "      <td>3.060134e-06</td>\n",
       "      <td>5.085516e-06</td>\n",
       "      <td>3.771816e-06</td>\n",
       "      <td>...</td>\n",
       "      <td>0.000008</td>\n",
       "      <td>2.810064e-06</td>\n",
       "      <td>4.048332e-06</td>\n",
       "      <td>2.681350e-06</td>\n",
       "      <td>5.864201e-06</td>\n",
       "      <td>3.729465e-06</td>\n",
       "      <td>4.572219e-06</td>\n",
       "      <td>3.128850e-06</td>\n",
       "      <td>3.174156e-06</td>\n",
       "      <td>1.955623e-06</td>\n",
       "    </tr>\n",
       "  </tbody>\n",
       "</table>\n",
       "<p>20303 rows × 64 columns</p>\n",
       "</div>"
      ],
      "text/plain": [
       "index                  0             1            10            11  \\\n",
       "AL627309.1  4.604985e-07  5.285489e-07  3.364103e-07  1.982033e-07   \n",
       "AL627309.3  5.756232e-08  7.550698e-08  1.261539e-07  6.606778e-08   \n",
       "AL669831.5  4.662548e-06  3.548828e-06  5.298462e-06  5.483626e-06   \n",
       "LINC00115   2.935678e-06  3.020279e-06  2.901539e-06  2.510576e-06   \n",
       "FAM41C      3.108365e-06  1.849921e-06  1.808205e-06  2.312372e-06   \n",
       "...                  ...           ...           ...           ...   \n",
       "AC007325.4  7.483101e-07  6.795628e-07  7.148719e-07  7.267456e-07   \n",
       "AL354822.1  4.086924e-06  3.171293e-06  2.775385e-06  2.180237e-06   \n",
       "AC004556.1  3.453739e-07  4.152884e-07  4.625642e-07  7.267456e-07   \n",
       "AC233755.1  0.000000e+00  7.550698e-08  0.000000e+00  0.000000e+00   \n",
       "AC240274.1  3.856675e-06  2.529484e-06  1.513846e-06  3.567660e-06   \n",
       "\n",
       "index                 12            13            14            15  \\\n",
       "AL627309.1  3.938347e-07  7.300201e-07  4.522583e-07  1.088048e-06   \n",
       "AL627309.3  4.922934e-08  1.327309e-07  2.584333e-07  6.800298e-08   \n",
       "AL669831.5  5.513687e-06  5.840161e-06  5.104058e-06  5.916259e-06   \n",
       "LINC00115   3.642971e-06  2.853715e-06  4.134933e-06  4.080178e-06   \n",
       "FAM41C      3.101449e-06  2.322791e-06  3.165808e-06  2.720119e-06   \n",
       "...                  ...           ...           ...           ...   \n",
       "AC007325.4  4.922935e-07  6.636547e-07  5.814749e-07  6.800298e-07   \n",
       "AL354822.1  1.083046e-06  1.327309e-06  5.556316e-06  1.292056e-06   \n",
       "AC004556.1  4.607867e-05  3.318274e-07  3.876500e-07  2.053690e-05   \n",
       "AC233755.1  2.953761e-07  3.981928e-07  0.000000e+00  0.000000e+00   \n",
       "AC240274.1  2.510697e-06  4.579217e-06  1.356775e-06  3.060134e-06   \n",
       "\n",
       "index                 16            17  ...        58            59  \\\n",
       "AL627309.1  8.682588e-07  7.543632e-07  ...  0.000000  5.620128e-07   \n",
       "AL627309.3  1.240370e-07  1.077662e-07  ...  0.000000  0.000000e+00   \n",
       "AL669831.5  6.325886e-06  6.573736e-06  ...  0.000008  4.496102e-06   \n",
       "LINC00115   2.976887e-06  3.448517e-06  ...  0.000000  3.372077e-06   \n",
       "FAM41C      2.852850e-06  2.047557e-06  ...  0.000000  5.058115e-06   \n",
       "...                  ...           ...  ...       ...           ...   \n",
       "AC007325.4  1.116333e-06  8.621294e-07  ...  0.000004  1.967045e-06   \n",
       "AL354822.1  6.201849e-06  9.698955e-07  ...  0.000004  6.744153e-06   \n",
       "AC004556.1  1.897766e-05  8.621294e-07  ...  0.000000  8.430192e-07   \n",
       "AC233755.1  0.000000e+00  0.000000e+00  ...  0.000000  0.000000e+00   \n",
       "AC240274.1  5.085516e-06  3.771816e-06  ...  0.000008  2.810064e-06   \n",
       "\n",
       "index                  6            60            61            62  \\\n",
       "AL627309.1  8.434025e-08  2.365897e-07  6.374132e-07  1.087761e-06   \n",
       "AL627309.3  8.434025e-08  1.577264e-07  1.274826e-07  3.107888e-07   \n",
       "AL669831.5  4.385693e-06  4.022024e-06  4.971822e-06  2.952493e-06   \n",
       "LINC00115   2.951909e-06  3.469982e-06  2.549653e-06  3.884860e-06   \n",
       "FAM41C      3.626631e-06  2.523623e-06  3.314548e-06  3.107888e-06   \n",
       "...                  ...           ...           ...           ...   \n",
       "AC007325.4  1.012083e-06  1.340675e-06  7.648958e-07  9.323663e-07   \n",
       "AL354822.1  3.120589e-06  1.261812e-06  3.951961e-06  1.709338e-06   \n",
       "AC004556.1  6.747220e-07  6.309058e-07  5.099305e-07  6.215776e-07   \n",
       "AC233755.1  2.530207e-07  3.154529e-07  0.000000e+00  3.107888e-07   \n",
       "AC240274.1  4.048332e-06  2.681350e-06  5.864201e-06  3.729465e-06   \n",
       "\n",
       "index                 63             7             8             9  \n",
       "AL627309.1  6.178674e-07  5.394569e-07  3.662488e-07  3.638369e-07  \n",
       "AL627309.3  1.235735e-07  5.394569e-08  0.000000e+00  4.547962e-08  \n",
       "AL669831.5  7.290836e-06  6.095863e-06  4.639151e-06  3.911247e-06  \n",
       "LINC00115   5.190086e-06  3.506470e-06  3.479364e-06  2.728777e-06  \n",
       "FAM41C      4.077925e-06  1.888099e-06  1.831244e-06  2.137542e-06  \n",
       "...                  ...           ...           ...           ...  \n",
       "AC007325.4  4.942939e-07  8.631310e-07  6.104147e-07  7.731535e-07  \n",
       "AL354822.1  1.730029e-06  7.606342e-06  1.526037e-06  3.001655e-06  \n",
       "AC004556.1  2.557971e-05  2.066120e-05  3.052074e-07  5.457554e-07  \n",
       "AC233755.1  0.000000e+00  2.157828e-07  1.220829e-07  9.095923e-08  \n",
       "AC240274.1  4.572219e-06  3.128850e-06  3.174156e-06  1.955623e-06  \n",
       "\n",
       "[20303 rows x 64 columns]"
      ]
     },
     "execution_count": 115,
     "metadata": {},
     "output_type": "execute_result"
    }
   ],
   "source": [
    "mean_df_pseudo"
   ]
  },
  {
   "cell_type": "code",
   "execution_count": 117,
   "metadata": {},
   "outputs": [],
   "source": [
    "de = dict() # differential expression dictionary\n",
    "for cond in conds_1:\n",
    "    de[cond] = dict()\n",
    "    \n",
    "combos = it.product(conds_1, cts_1)\n",
    "for combo in combos:\n",
    "    de[combo[0]][combo[1]] = pd.read_csv(prefix + 'mrna/deseq2.res/' + combo[0] + '.' + combo[1] + '.csv', index_col=0).dropna()  "
   ]
  },
  {
   "cell_type": "code",
   "execution_count": 118,
   "metadata": {},
   "outputs": [],
   "source": [
    "combos = it.product(conds_2, cts_2)\n",
    "for combo in combos:\n",
    "    de[combo[0]][combo[1]] = pd.read_csv(prefix + 'mrna/deseq2.res/' + combo[0] + '.' + combo[1] + '.csv', index_col=0).dropna()  "
   ]
  },
  {
   "cell_type": "code",
   "execution_count": 159,
   "metadata": {},
   "outputs": [],
   "source": [
    "de_genes = dict() # make a dictionary\n",
    "\n",
    "# num_top_genes_to_keep = 200\n",
    "for ct, cond in ct_cond_combos: \n",
    "    try:\n",
    "        de_genes[ct]\n",
    "    except KeyError:\n",
    "        de_genes[ct] = dict()\n",
    "\n",
    "    df = de[cond][ct] # get the DE results\n",
    "    df = df[(df['log2FoldChange'] > 1)]\n",
    "    \n",
    "    # extract out genes, add them to the dictionary as a list\n",
    "    df_significant = df[(df['padj'] < 0.01)]\n",
    "    de_genes[ct][cond] = df_significant.index\n",
    "\n",
    "all_de_genes = list()\n",
    "lengths = list()\n",
    "for ct, cond in ct_cond_combos:\n",
    "    de_genes_list = de_genes[ct][cond]\n",
    "    length = len(de_genes_list)\n",
    "    lengths.append(length)\n",
    "#     print((ct, cond, length))\n",
    "    all_de_genes.append(de_genes[ct][cond])"
   ]
  },
  {
   "cell_type": "code",
   "execution_count": 160,
   "metadata": {},
   "outputs": [
    {
     "data": {
      "image/png": "[encoded data removed]",
      "text/plain": [
       "<Figure size 320x320 with 1 Axes>"
      ]
     },
     "metadata": {
      "image/png": {
       "height": 286,
       "width": 311
      },
      "needs_background": "light"
     },
     "output_type": "display_data"
    }
   ],
   "source": [
    "plt.hist(lengths, bins=20);"
   ]
  },
  {
   "cell_type": "code",
   "execution_count": 161,
   "metadata": {},
   "outputs": [],
   "source": [
    "all_de_genes = np.unique([i for j in all_de_genes for i in j])"
   ]
  },
  {
   "cell_type": "code",
   "execution_count": 162,
   "metadata": {},
   "outputs": [
    {
     "data": {
      "text/plain": [
       "(7335,)"
      ]
     },
     "execution_count": 162,
     "metadata": {},
     "output_type": "execute_result"
    }
   ],
   "source": [
    "all_de_genes.shape"
   ]
  },
  {
   "cell_type": "markdown",
   "metadata": {},
   "source": [
    "### Apply the Gene Filtration"
   ]
  },
  {
   "cell_type": "markdown",
   "metadata": {},
   "source": [
    "Going to apply these to a new object called `heat_dfs`, that will eventually be used in the heatmap."
   ]
  },
  {
   "cell_type": "code",
   "execution_count": 169,
   "metadata": {},
   "outputs": [
    {
     "data": {
      "application/vnd.jupyter.widget-view+json": {
       "model_id": "cc8fd399877245af85acf74ac3fc41f7",
       "version_major": 2,
       "version_minor": 0
      },
      "text/plain": [
       "HBox(children=(FloatProgress(value=0.0, max=57.0), HTML(value='')))"
      ]
     },
     "metadata": {},
     "output_type": "display_data"
    },
    {
     "name": "stdout",
     "output_type": "stream",
     "text": [
      "\n"
     ]
    }
   ],
   "source": [
    "heat_dfs = dict()\n",
    "for mean_df in tqdm(mean_dfs):\n",
    "    heat_dfs[mean_df] = mean_dfs[mean_df].loc[all_de_genes].copy()\n",
    "heat_df_pseudo = mean_df_pseudo.loc[all_de_genes].copy()"
   ]
  },
  {
   "cell_type": "markdown",
   "metadata": {},
   "source": [
    "## Z Score the Values"
   ]
  },
  {
   "cell_type": "markdown",
   "metadata": {},
   "source": [
    "Since we want to show the decreasing signals over time, we want to merge all the columns now and then z-score, instead of z-scoring each heatmap separately."
   ]
  },
  {
   "cell_type": "code",
   "execution_count": 177,
   "metadata": {},
   "outputs": [
    {
     "data": {
      "text/html": [
       "<div>\n",
       "<style scoped>\n",
       "    .dataframe tbody tr th:only-of-type {\n",
       "        vertical-align: middle;\n",
       "    }\n",
       "\n",
       "    .dataframe tbody tr th {\n",
       "        vertical-align: top;\n",
       "    }\n",
       "\n",
       "    .dataframe thead tr th {\n",
       "        text-align: left;\n",
       "    }\n",
       "</style>\n",
       "<table border=\"1\" class=\"dataframe\">\n",
       "  <thead>\n",
       "    <tr>\n",
       "      <th></th>\n",
       "      <th colspan=\"5\" halign=\"left\">B_Mem</th>\n",
       "      <th colspan=\"5\" halign=\"left\">B_Naive</th>\n",
       "      <th>...</th>\n",
       "      <th colspan=\"2\" halign=\"left\">cM</th>\n",
       "      <th colspan=\"4\" halign=\"left\">ncM</th>\n",
       "      <th colspan=\"4\" halign=\"left\">cDC</th>\n",
       "    </tr>\n",
       "    <tr>\n",
       "      <th></th>\n",
       "      <th>A</th>\n",
       "      <th>B</th>\n",
       "      <th>G</th>\n",
       "      <th>P</th>\n",
       "      <th>R</th>\n",
       "      <th>A</th>\n",
       "      <th>B</th>\n",
       "      <th>G</th>\n",
       "      <th>P</th>\n",
       "      <th>R</th>\n",
       "      <th>...</th>\n",
       "      <th>G</th>\n",
       "      <th>R</th>\n",
       "      <th>A</th>\n",
       "      <th>B</th>\n",
       "      <th>G</th>\n",
       "      <th>R</th>\n",
       "      <th>A</th>\n",
       "      <th>B</th>\n",
       "      <th>G</th>\n",
       "      <th>R</th>\n",
       "    </tr>\n",
       "  </thead>\n",
       "  <tbody>\n",
       "    <tr>\n",
       "      <th>A1BG</th>\n",
       "      <td>0.000030</td>\n",
       "      <td>0.000016</td>\n",
       "      <td>0.000029</td>\n",
       "      <td>0.000014</td>\n",
       "      <td>0.000019</td>\n",
       "      <td>0.000038</td>\n",
       "      <td>0.000025</td>\n",
       "      <td>0.000035</td>\n",
       "      <td>0.000030</td>\n",
       "      <td>0.000018</td>\n",
       "      <td>...</td>\n",
       "      <td>0.000031</td>\n",
       "      <td>9.810979e-06</td>\n",
       "      <td>0.000042</td>\n",
       "      <td>0.000013</td>\n",
       "      <td>1.313810e-05</td>\n",
       "      <td>0.000009</td>\n",
       "      <td>0.000042</td>\n",
       "      <td>2.693245e-05</td>\n",
       "      <td>3.386371e-05</td>\n",
       "      <td>1.796177e-05</td>\n",
       "    </tr>\n",
       "    <tr>\n",
       "      <th>AAED1</th>\n",
       "      <td>0.000055</td>\n",
       "      <td>0.000050</td>\n",
       "      <td>0.000039</td>\n",
       "      <td>0.000060</td>\n",
       "      <td>0.000047</td>\n",
       "      <td>0.000053</td>\n",
       "      <td>0.000057</td>\n",
       "      <td>0.000059</td>\n",
       "      <td>0.000069</td>\n",
       "      <td>0.000051</td>\n",
       "      <td>...</td>\n",
       "      <td>0.000084</td>\n",
       "      <td>7.061045e-05</td>\n",
       "      <td>0.000115</td>\n",
       "      <td>0.000152</td>\n",
       "      <td>1.278441e-04</td>\n",
       "      <td>0.000148</td>\n",
       "      <td>0.000057</td>\n",
       "      <td>1.136967e-04</td>\n",
       "      <td>6.339460e-05</td>\n",
       "      <td>8.245011e-05</td>\n",
       "    </tr>\n",
       "    <tr>\n",
       "      <th>AAGAB</th>\n",
       "      <td>0.000028</td>\n",
       "      <td>0.000023</td>\n",
       "      <td>0.000032</td>\n",
       "      <td>0.000022</td>\n",
       "      <td>0.000028</td>\n",
       "      <td>0.000021</td>\n",
       "      <td>0.000023</td>\n",
       "      <td>0.000027</td>\n",
       "      <td>0.000020</td>\n",
       "      <td>0.000028</td>\n",
       "      <td>...</td>\n",
       "      <td>0.000010</td>\n",
       "      <td>7.251534e-06</td>\n",
       "      <td>0.000011</td>\n",
       "      <td>0.000012</td>\n",
       "      <td>1.284353e-05</td>\n",
       "      <td>0.000007</td>\n",
       "      <td>0.000011</td>\n",
       "      <td>8.320125e-06</td>\n",
       "      <td>9.435723e-06</td>\n",
       "      <td>1.430504e-05</td>\n",
       "    </tr>\n",
       "    <tr>\n",
       "      <th>AAK1</th>\n",
       "      <td>0.000013</td>\n",
       "      <td>0.000012</td>\n",
       "      <td>0.000017</td>\n",
       "      <td>0.000025</td>\n",
       "      <td>0.000010</td>\n",
       "      <td>0.000019</td>\n",
       "      <td>0.000016</td>\n",
       "      <td>0.000019</td>\n",
       "      <td>0.000020</td>\n",
       "      <td>0.000012</td>\n",
       "      <td>...</td>\n",
       "      <td>0.000048</td>\n",
       "      <td>4.126677e-05</td>\n",
       "      <td>0.000048</td>\n",
       "      <td>0.000025</td>\n",
       "      <td>3.650879e-05</td>\n",
       "      <td>0.000022</td>\n",
       "      <td>0.000084</td>\n",
       "      <td>7.161351e-05</td>\n",
       "      <td>6.072597e-05</td>\n",
       "      <td>6.633098e-05</td>\n",
       "    </tr>\n",
       "    <tr>\n",
       "      <th>AAMP</th>\n",
       "      <td>0.000052</td>\n",
       "      <td>0.000048</td>\n",
       "      <td>0.000051</td>\n",
       "      <td>0.000052</td>\n",
       "      <td>0.000040</td>\n",
       "      <td>0.000049</td>\n",
       "      <td>0.000051</td>\n",
       "      <td>0.000051</td>\n",
       "      <td>0.000043</td>\n",
       "      <td>0.000051</td>\n",
       "      <td>...</td>\n",
       "      <td>0.000069</td>\n",
       "      <td>2.186813e-05</td>\n",
       "      <td>0.000044</td>\n",
       "      <td>0.000041</td>\n",
       "      <td>7.766537e-05</td>\n",
       "      <td>0.000028</td>\n",
       "      <td>0.000032</td>\n",
       "      <td>3.458276e-05</td>\n",
       "      <td>6.339743e-05</td>\n",
       "      <td>2.395265e-05</td>\n",
       "    </tr>\n",
       "    <tr>\n",
       "      <th>...</th>\n",
       "      <td>...</td>\n",
       "      <td>...</td>\n",
       "      <td>...</td>\n",
       "      <td>...</td>\n",
       "      <td>...</td>\n",
       "      <td>...</td>\n",
       "      <td>...</td>\n",
       "      <td>...</td>\n",
       "      <td>...</td>\n",
       "      <td>...</td>\n",
       "      <td>...</td>\n",
       "      <td>...</td>\n",
       "      <td>...</td>\n",
       "      <td>...</td>\n",
       "      <td>...</td>\n",
       "      <td>...</td>\n",
       "      <td>...</td>\n",
       "      <td>...</td>\n",
       "      <td>...</td>\n",
       "      <td>...</td>\n",
       "      <td>...</td>\n",
       "    </tr>\n",
       "    <tr>\n",
       "      <th>ZRANB3</th>\n",
       "      <td>0.000012</td>\n",
       "      <td>0.000008</td>\n",
       "      <td>0.000009</td>\n",
       "      <td>0.000005</td>\n",
       "      <td>0.000010</td>\n",
       "      <td>0.000006</td>\n",
       "      <td>0.000008</td>\n",
       "      <td>0.000006</td>\n",
       "      <td>0.000005</td>\n",
       "      <td>0.000012</td>\n",
       "      <td>...</td>\n",
       "      <td>0.000002</td>\n",
       "      <td>6.331366e-07</td>\n",
       "      <td>0.000002</td>\n",
       "      <td>0.000002</td>\n",
       "      <td>1.250454e-06</td>\n",
       "      <td>0.000001</td>\n",
       "      <td>0.000002</td>\n",
       "      <td>4.568483e-07</td>\n",
       "      <td>8.519560e-07</td>\n",
       "      <td>2.013781e-07</td>\n",
       "    </tr>\n",
       "    <tr>\n",
       "      <th>ZSCAN2</th>\n",
       "      <td>0.000008</td>\n",
       "      <td>0.000005</td>\n",
       "      <td>0.000008</td>\n",
       "      <td>0.000021</td>\n",
       "      <td>0.000011</td>\n",
       "      <td>0.000005</td>\n",
       "      <td>0.000004</td>\n",
       "      <td>0.000005</td>\n",
       "      <td>0.000002</td>\n",
       "      <td>0.000005</td>\n",
       "      <td>...</td>\n",
       "      <td>0.000001</td>\n",
       "      <td>1.685305e-06</td>\n",
       "      <td>0.000001</td>\n",
       "      <td>0.000002</td>\n",
       "      <td>3.324611e-07</td>\n",
       "      <td>0.000004</td>\n",
       "      <td>0.000006</td>\n",
       "      <td>2.363769e-06</td>\n",
       "      <td>2.370884e-06</td>\n",
       "      <td>7.892379e-06</td>\n",
       "    </tr>\n",
       "    <tr>\n",
       "      <th>ZSCAN9</th>\n",
       "      <td>0.000011</td>\n",
       "      <td>0.000008</td>\n",
       "      <td>0.000007</td>\n",
       "      <td>0.000007</td>\n",
       "      <td>0.000007</td>\n",
       "      <td>0.000010</td>\n",
       "      <td>0.000010</td>\n",
       "      <td>0.000008</td>\n",
       "      <td>0.000006</td>\n",
       "      <td>0.000008</td>\n",
       "      <td>...</td>\n",
       "      <td>0.000004</td>\n",
       "      <td>2.072405e-06</td>\n",
       "      <td>0.000005</td>\n",
       "      <td>0.000002</td>\n",
       "      <td>5.848652e-07</td>\n",
       "      <td>0.000004</td>\n",
       "      <td>0.000003</td>\n",
       "      <td>5.843161e-06</td>\n",
       "      <td>6.823143e-06</td>\n",
       "      <td>2.056855e-06</td>\n",
       "    </tr>\n",
       "    <tr>\n",
       "      <th>ZSWIM6</th>\n",
       "      <td>0.000011</td>\n",
       "      <td>0.000012</td>\n",
       "      <td>0.000009</td>\n",
       "      <td>0.000014</td>\n",
       "      <td>0.000008</td>\n",
       "      <td>0.000014</td>\n",
       "      <td>0.000013</td>\n",
       "      <td>0.000012</td>\n",
       "      <td>0.000013</td>\n",
       "      <td>0.000007</td>\n",
       "      <td>...</td>\n",
       "      <td>0.000040</td>\n",
       "      <td>2.485917e-05</td>\n",
       "      <td>0.000026</td>\n",
       "      <td>0.000037</td>\n",
       "      <td>3.018043e-05</td>\n",
       "      <td>0.000011</td>\n",
       "      <td>0.000023</td>\n",
       "      <td>2.612374e-05</td>\n",
       "      <td>1.734782e-05</td>\n",
       "      <td>2.041786e-05</td>\n",
       "    </tr>\n",
       "    <tr>\n",
       "      <th>ZUP1</th>\n",
       "      <td>0.000025</td>\n",
       "      <td>0.000028</td>\n",
       "      <td>0.000027</td>\n",
       "      <td>0.000033</td>\n",
       "      <td>0.000046</td>\n",
       "      <td>0.000024</td>\n",
       "      <td>0.000027</td>\n",
       "      <td>0.000026</td>\n",
       "      <td>0.000026</td>\n",
       "      <td>0.000047</td>\n",
       "      <td>...</td>\n",
       "      <td>0.000016</td>\n",
       "      <td>1.138232e-05</td>\n",
       "      <td>0.000017</td>\n",
       "      <td>0.000018</td>\n",
       "      <td>2.444676e-05</td>\n",
       "      <td>0.000017</td>\n",
       "      <td>0.000021</td>\n",
       "      <td>2.699810e-05</td>\n",
       "      <td>2.868437e-05</td>\n",
       "      <td>2.808577e-05</td>\n",
       "    </tr>\n",
       "  </tbody>\n",
       "</table>\n",
       "<p>7335 rows × 57 columns</p>\n",
       "</div>"
      ],
      "text/plain": [
       "           B_Mem                                           B_Naive            \\\n",
       "               A         B         G         P         R         A         B   \n",
       "A1BG    0.000030  0.000016  0.000029  0.000014  0.000019  0.000038  0.000025   \n",
       "AAED1   0.000055  0.000050  0.000039  0.000060  0.000047  0.000053  0.000057   \n",
       "AAGAB   0.000028  0.000023  0.000032  0.000022  0.000028  0.000021  0.000023   \n",
       "AAK1    0.000013  0.000012  0.000017  0.000025  0.000010  0.000019  0.000016   \n",
       "AAMP    0.000052  0.000048  0.000051  0.000052  0.000040  0.000049  0.000051   \n",
       "...          ...       ...       ...       ...       ...       ...       ...   \n",
       "ZRANB3  0.000012  0.000008  0.000009  0.000005  0.000010  0.000006  0.000008   \n",
       "ZSCAN2  0.000008  0.000005  0.000008  0.000021  0.000011  0.000005  0.000004   \n",
       "ZSCAN9  0.000011  0.000008  0.000007  0.000007  0.000007  0.000010  0.000010   \n",
       "ZSWIM6  0.000011  0.000012  0.000009  0.000014  0.000008  0.000014  0.000013   \n",
       "ZUP1    0.000025  0.000028  0.000027  0.000033  0.000046  0.000024  0.000027   \n",
       "\n",
       "                                      ...        cM                     ncM  \\\n",
       "               G         P         R  ...         G             R         A   \n",
       "A1BG    0.000035  0.000030  0.000018  ...  0.000031  9.810979e-06  0.000042   \n",
       "AAED1   0.000059  0.000069  0.000051  ...  0.000084  7.061045e-05  0.000115   \n",
       "AAGAB   0.000027  0.000020  0.000028  ...  0.000010  7.251534e-06  0.000011   \n",
       "AAK1    0.000019  0.000020  0.000012  ...  0.000048  4.126677e-05  0.000048   \n",
       "AAMP    0.000051  0.000043  0.000051  ...  0.000069  2.186813e-05  0.000044   \n",
       "...          ...       ...       ...  ...       ...           ...       ...   \n",
       "ZRANB3  0.000006  0.000005  0.000012  ...  0.000002  6.331366e-07  0.000002   \n",
       "ZSCAN2  0.000005  0.000002  0.000005  ...  0.000001  1.685305e-06  0.000001   \n",
       "ZSCAN9  0.000008  0.000006  0.000008  ...  0.000004  2.072405e-06  0.000005   \n",
       "ZSWIM6  0.000012  0.000013  0.000007  ...  0.000040  2.485917e-05  0.000026   \n",
       "ZUP1    0.000026  0.000026  0.000047  ...  0.000016  1.138232e-05  0.000017   \n",
       "\n",
       "                                               cDC                \\\n",
       "               B             G         R         A             B   \n",
       "A1BG    0.000013  1.313810e-05  0.000009  0.000042  2.693245e-05   \n",
       "AAED1   0.000152  1.278441e-04  0.000148  0.000057  1.136967e-04   \n",
       "AAGAB   0.000012  1.284353e-05  0.000007  0.000011  8.320125e-06   \n",
       "AAK1    0.000025  3.650879e-05  0.000022  0.000084  7.161351e-05   \n",
       "AAMP    0.000041  7.766537e-05  0.000028  0.000032  3.458276e-05   \n",
       "...          ...           ...       ...       ...           ...   \n",
       "ZRANB3  0.000002  1.250454e-06  0.000001  0.000002  4.568483e-07   \n",
       "ZSCAN2  0.000002  3.324611e-07  0.000004  0.000006  2.363769e-06   \n",
       "ZSCAN9  0.000002  5.848652e-07  0.000004  0.000003  5.843161e-06   \n",
       "ZSWIM6  0.000037  3.018043e-05  0.000011  0.000023  2.612374e-05   \n",
       "ZUP1    0.000018  2.444676e-05  0.000017  0.000021  2.699810e-05   \n",
       "\n",
       "                                    \n",
       "                   G             R  \n",
       "A1BG    3.386371e-05  1.796177e-05  \n",
       "AAED1   6.339460e-05  8.245011e-05  \n",
       "AAGAB   9.435723e-06  1.430504e-05  \n",
       "AAK1    6.072597e-05  6.633098e-05  \n",
       "AAMP    6.339743e-05  2.395265e-05  \n",
       "...              ...           ...  \n",
       "ZRANB3  8.519560e-07  2.013781e-07  \n",
       "ZSCAN2  2.370884e-06  7.892379e-06  \n",
       "ZSCAN9  6.823143e-06  2.056855e-06  \n",
       "ZSWIM6  1.734782e-05  2.041786e-05  \n",
       "ZUP1    2.868437e-05  2.808577e-05  \n",
       "\n",
       "[7335 rows x 57 columns]"
      ]
     },
     "execution_count": 177,
     "metadata": {},
     "output_type": "execute_result"
    }
   ],
   "source": [
    "pd.concat([heat_dfs[heat_df].mean(1) for heat_df in ct_cond_combos], axis=1, keys=ct_cond_combos)"
   ]
  },
  {
   "cell_type": "code",
   "execution_count": 29,
   "metadata": {},
   "outputs": [],
   "source": [
    "for ct in cts:\n",
    "    heat_dfs[ct]['ct'] = ct\n",
    "    heat_dfs[ct] = heat_dfs[ct].reset_index()\n",
    "    heat_dfs[ct].index = pd.MultiIndex.from_frame(heat_dfs[ct][covars + ['ct']])\n",
    "    heat_dfs[ct] = heat_dfs[ct].drop(columns=covars + ['ct'])"
   ]
  },
  {
   "cell_type": "code",
   "execution_count": 30,
   "metadata": {},
   "outputs": [],
   "source": [
    "big_df = pd.concat([heat_dfs[ct].reset_index() for ct in heat_dfs])"
   ]
  },
  {
   "cell_type": "code",
   "execution_count": 31,
   "metadata": {},
   "outputs": [
    {
     "data": {
      "text/plain": [
       "(792, 166)"
      ]
     },
     "execution_count": 31,
     "metadata": {},
     "output_type": "execute_result"
    }
   ],
   "source": [
    "big_df.shape"
   ]
  },
  {
   "cell_type": "code",
   "execution_count": 32,
   "metadata": {},
   "outputs": [],
   "source": [
    "random_ct = np.random.choice(cts) # doesn't matter which one, they're all the same, I just need to get the nlevels\n",
    "big_df = pd.DataFrame(data=big_df.iloc[:,heat_dfs[random_ct].index.nlevels:].values, \n",
    "                      index=pd.MultiIndex.from_frame(big_df.iloc[:, :heat_dfs[random_ct].index.nlevels]),\n",
    "                      columns=heat_dfs[random_ct].columns)"
   ]
  },
  {
   "cell_type": "code",
   "execution_count": 33,
   "metadata": {},
   "outputs": [
    {
     "data": {
      "image/png": "[encoded data removed]",
      "text/plain": [
       "<Figure size 400x240 with 1 Axes>"
      ]
     },
     "metadata": {
      "image/png": {
       "height": 221,
       "width": 362
      },
      "needs_background": "light"
     },
     "output_type": "display_data"
    }
   ],
   "source": [
    "plt.figure(figsize=(5,3))\n",
    "plt.hist(big_df.values.flatten(), bins=100);\n",
    "plt.yscale('log')"
   ]
  },
  {
   "cell_type": "code",
   "execution_count": 34,
   "metadata": {},
   "outputs": [],
   "source": [
    "def zscore(dataframe, axis=0):\n",
    "    tmpl = pd.DataFrame(scipy.stats.zscore(dataframe, axis=axis), index=dataframe.index.tolist(), columns=dataframe.columns.tolist())\n",
    "    return tmpl"
   ]
  },
  {
   "cell_type": "code",
   "execution_count": 35,
   "metadata": {},
   "outputs": [],
   "source": [
    "big_df = zscore(big_df.T, axis=1).rolling(window=4, min_periods=1, axis=1).mean()\n",
    "big_df = big_df.fillna(0)"
   ]
  },
  {
   "cell_type": "code",
   "execution_count": 36,
   "metadata": {},
   "outputs": [],
   "source": [
    "heat_df_pseudo = zscore(heat_df_pseudo.T, axis=1).rolling(window=4, min_periods=1, axis=1).mean()\n",
    "heat_df_pseudo = heat_df_pseudo.fillna(0)"
   ]
  },
  {
   "cell_type": "code",
   "execution_count": 37,
   "metadata": {},
   "outputs": [
    {
     "data": {
      "text/plain": [
       "Text(0, 0.5, 'density')"
      ]
     },
     "execution_count": 37,
     "metadata": {},
     "output_type": "execute_result"
    },
    {
     "data": {
      "image/png": "[encoded data removed]",
      "text/plain": [
       "<Figure size 400x240 with 1 Axes>"
      ]
     },
     "metadata": {
      "image/png": {
       "height": 241,
       "width": 382
      },
      "needs_background": "light"
     },
     "output_type": "display_data"
    }
   ],
   "source": [
    "plt.figure(figsize=(5,3))\n",
    "plt.hist(big_df.values.flatten(), bins=200);\n",
    "plt.yscale('log')\n",
    "plt.xlabel('values')\n",
    "plt.ylabel('density')"
   ]
  },
  {
   "cell_type": "code",
   "execution_count": 38,
   "metadata": {},
   "outputs": [
    {
     "data": {
      "text/plain": [
       "0.029997176736307172"
      ]
     },
     "execution_count": 38,
     "metadata": {},
     "output_type": "execute_result"
    }
   ],
   "source": [
    "(big_df.values.flatten() > 2).sum()/big_df.values.flatten().shape[0]"
   ]
  },
  {
   "cell_type": "code",
   "execution_count": 167,
   "metadata": {},
   "outputs": [
    {
     "data": {
      "text/html": [
       "<div>\n",
       "<style scoped>\n",
       "    .dataframe tbody tr th:only-of-type {\n",
       "        vertical-align: middle;\n",
       "    }\n",
       "\n",
       "    .dataframe tbody tr th {\n",
       "        vertical-align: top;\n",
       "    }\n",
       "\n",
       "    .dataframe thead tr th {\n",
       "        text-align: left;\n",
       "    }\n",
       "</style>\n",
       "<table border=\"1\" class=\"dataframe\">\n",
       "  <thead>\n",
       "    <tr>\n",
       "      <th>index</th>\n",
       "      <th>0</th>\n",
       "      <th>1</th>\n",
       "      <th>10</th>\n",
       "      <th>11</th>\n",
       "      <th>12</th>\n",
       "      <th>13</th>\n",
       "      <th>14</th>\n",
       "      <th>15</th>\n",
       "      <th>16</th>\n",
       "      <th>17</th>\n",
       "      <th>...</th>\n",
       "      <th>57</th>\n",
       "      <th>59</th>\n",
       "      <th>6</th>\n",
       "      <th>60</th>\n",
       "      <th>61</th>\n",
       "      <th>62</th>\n",
       "      <th>63</th>\n",
       "      <th>7</th>\n",
       "      <th>8</th>\n",
       "      <th>9</th>\n",
       "    </tr>\n",
       "  </thead>\n",
       "  <tbody>\n",
       "    <tr>\n",
       "      <th>A1BG</th>\n",
       "      <td>0.000020</td>\n",
       "      <td>0.000000</td>\n",
       "      <td>0.000059</td>\n",
       "      <td>0.000011</td>\n",
       "      <td>0.000057</td>\n",
       "      <td>0.000033</td>\n",
       "      <td>0.000018</td>\n",
       "      <td>0.000051</td>\n",
       "      <td>0.000037</td>\n",
       "      <td>0.000082</td>\n",
       "      <td>...</td>\n",
       "      <td>0.000014</td>\n",
       "      <td>0.000038</td>\n",
       "      <td>0.000019</td>\n",
       "      <td>0.000012</td>\n",
       "      <td>0.000067</td>\n",
       "      <td>0.000015</td>\n",
       "      <td>0.000028</td>\n",
       "      <td>0.000060</td>\n",
       "      <td>0.000020</td>\n",
       "      <td>0.000012</td>\n",
       "    </tr>\n",
       "    <tr>\n",
       "      <th>AAED1</th>\n",
       "      <td>0.000072</td>\n",
       "      <td>0.000067</td>\n",
       "      <td>0.000053</td>\n",
       "      <td>0.000067</td>\n",
       "      <td>0.000093</td>\n",
       "      <td>0.000085</td>\n",
       "      <td>0.000073</td>\n",
       "      <td>0.000102</td>\n",
       "      <td>0.000070</td>\n",
       "      <td>0.000082</td>\n",
       "      <td>...</td>\n",
       "      <td>0.000014</td>\n",
       "      <td>0.000077</td>\n",
       "      <td>0.000026</td>\n",
       "      <td>0.000050</td>\n",
       "      <td>0.000000</td>\n",
       "      <td>0.000060</td>\n",
       "      <td>0.000028</td>\n",
       "      <td>0.000026</td>\n",
       "      <td>0.000029</td>\n",
       "      <td>0.000081</td>\n",
       "    </tr>\n",
       "    <tr>\n",
       "      <th>AAGAB</th>\n",
       "      <td>0.000033</td>\n",
       "      <td>0.000025</td>\n",
       "      <td>0.000023</td>\n",
       "      <td>0.000022</td>\n",
       "      <td>0.000014</td>\n",
       "      <td>0.000007</td>\n",
       "      <td>0.000055</td>\n",
       "      <td>0.000014</td>\n",
       "      <td>0.000023</td>\n",
       "      <td>0.000041</td>\n",
       "      <td>...</td>\n",
       "      <td>0.000043</td>\n",
       "      <td>0.000013</td>\n",
       "      <td>0.000037</td>\n",
       "      <td>0.000012</td>\n",
       "      <td>0.000000</td>\n",
       "      <td>0.000015</td>\n",
       "      <td>0.000000</td>\n",
       "      <td>0.000034</td>\n",
       "      <td>0.000004</td>\n",
       "      <td>0.000035</td>\n",
       "    </tr>\n",
       "    <tr>\n",
       "      <th>AAK1</th>\n",
       "      <td>0.000007</td>\n",
       "      <td>0.000017</td>\n",
       "      <td>0.000029</td>\n",
       "      <td>0.000034</td>\n",
       "      <td>0.000050</td>\n",
       "      <td>0.000020</td>\n",
       "      <td>0.000018</td>\n",
       "      <td>0.000009</td>\n",
       "      <td>0.000010</td>\n",
       "      <td>0.000021</td>\n",
       "      <td>...</td>\n",
       "      <td>0.000014</td>\n",
       "      <td>0.000000</td>\n",
       "      <td>0.000022</td>\n",
       "      <td>0.000000</td>\n",
       "      <td>0.000000</td>\n",
       "      <td>0.000015</td>\n",
       "      <td>0.000000</td>\n",
       "      <td>0.000009</td>\n",
       "      <td>0.000016</td>\n",
       "      <td>0.000012</td>\n",
       "    </tr>\n",
       "    <tr>\n",
       "      <th>AAMP</th>\n",
       "      <td>0.000072</td>\n",
       "      <td>0.000059</td>\n",
       "      <td>0.000023</td>\n",
       "      <td>0.000056</td>\n",
       "      <td>0.000057</td>\n",
       "      <td>0.000059</td>\n",
       "      <td>0.000092</td>\n",
       "      <td>0.000065</td>\n",
       "      <td>0.000074</td>\n",
       "      <td>0.000021</td>\n",
       "      <td>...</td>\n",
       "      <td>0.000029</td>\n",
       "      <td>0.000038</td>\n",
       "      <td>0.000048</td>\n",
       "      <td>0.000025</td>\n",
       "      <td>0.000000</td>\n",
       "      <td>0.000119</td>\n",
       "      <td>0.000056</td>\n",
       "      <td>0.000051</td>\n",
       "      <td>0.000033</td>\n",
       "      <td>0.000035</td>\n",
       "    </tr>\n",
       "    <tr>\n",
       "      <th>...</th>\n",
       "      <td>...</td>\n",
       "      <td>...</td>\n",
       "      <td>...</td>\n",
       "      <td>...</td>\n",
       "      <td>...</td>\n",
       "      <td>...</td>\n",
       "      <td>...</td>\n",
       "      <td>...</td>\n",
       "      <td>...</td>\n",
       "      <td>...</td>\n",
       "      <td>...</td>\n",
       "      <td>...</td>\n",
       "      <td>...</td>\n",
       "      <td>...</td>\n",
       "      <td>...</td>\n",
       "      <td>...</td>\n",
       "      <td>...</td>\n",
       "      <td>...</td>\n",
       "      <td>...</td>\n",
       "      <td>...</td>\n",
       "      <td>...</td>\n",
       "    </tr>\n",
       "    <tr>\n",
       "      <th>ZRANB3</th>\n",
       "      <td>0.000007</td>\n",
       "      <td>0.000008</td>\n",
       "      <td>0.000023</td>\n",
       "      <td>0.000011</td>\n",
       "      <td>0.000000</td>\n",
       "      <td>0.000013</td>\n",
       "      <td>0.000000</td>\n",
       "      <td>0.000005</td>\n",
       "      <td>0.000013</td>\n",
       "      <td>0.000041</td>\n",
       "      <td>...</td>\n",
       "      <td>0.000014</td>\n",
       "      <td>0.000013</td>\n",
       "      <td>0.000011</td>\n",
       "      <td>0.000012</td>\n",
       "      <td>0.000067</td>\n",
       "      <td>0.000015</td>\n",
       "      <td>0.000028</td>\n",
       "      <td>0.000009</td>\n",
       "      <td>0.000008</td>\n",
       "      <td>0.000006</td>\n",
       "    </tr>\n",
       "    <tr>\n",
       "      <th>ZSCAN2</th>\n",
       "      <td>0.000000</td>\n",
       "      <td>0.000004</td>\n",
       "      <td>0.000000</td>\n",
       "      <td>0.000011</td>\n",
       "      <td>0.000007</td>\n",
       "      <td>0.000020</td>\n",
       "      <td>0.000000</td>\n",
       "      <td>0.000009</td>\n",
       "      <td>0.000000</td>\n",
       "      <td>0.000021</td>\n",
       "      <td>...</td>\n",
       "      <td>0.000000</td>\n",
       "      <td>0.000026</td>\n",
       "      <td>0.000004</td>\n",
       "      <td>0.000012</td>\n",
       "      <td>0.000000</td>\n",
       "      <td>0.000030</td>\n",
       "      <td>0.000000</td>\n",
       "      <td>0.000009</td>\n",
       "      <td>0.000008</td>\n",
       "      <td>0.000000</td>\n",
       "    </tr>\n",
       "    <tr>\n",
       "      <th>ZSCAN9</th>\n",
       "      <td>0.000007</td>\n",
       "      <td>0.000017</td>\n",
       "      <td>0.000000</td>\n",
       "      <td>0.000000</td>\n",
       "      <td>0.000000</td>\n",
       "      <td>0.000020</td>\n",
       "      <td>0.000000</td>\n",
       "      <td>0.000000</td>\n",
       "      <td>0.000017</td>\n",
       "      <td>0.000000</td>\n",
       "      <td>...</td>\n",
       "      <td>0.000014</td>\n",
       "      <td>0.000013</td>\n",
       "      <td>0.000015</td>\n",
       "      <td>0.000000</td>\n",
       "      <td>0.000000</td>\n",
       "      <td>0.000000</td>\n",
       "      <td>0.000000</td>\n",
       "      <td>0.000009</td>\n",
       "      <td>0.000016</td>\n",
       "      <td>0.000012</td>\n",
       "    </tr>\n",
       "    <tr>\n",
       "      <th>ZSWIM6</th>\n",
       "      <td>0.000013</td>\n",
       "      <td>0.000013</td>\n",
       "      <td>0.000012</td>\n",
       "      <td>0.000000</td>\n",
       "      <td>0.000007</td>\n",
       "      <td>0.000026</td>\n",
       "      <td>0.000000</td>\n",
       "      <td>0.000018</td>\n",
       "      <td>0.000010</td>\n",
       "      <td>0.000000</td>\n",
       "      <td>...</td>\n",
       "      <td>0.000000</td>\n",
       "      <td>0.000000</td>\n",
       "      <td>0.000007</td>\n",
       "      <td>0.000025</td>\n",
       "      <td>0.000067</td>\n",
       "      <td>0.000030</td>\n",
       "      <td>0.000000</td>\n",
       "      <td>0.000009</td>\n",
       "      <td>0.000008</td>\n",
       "      <td>0.000000</td>\n",
       "    </tr>\n",
       "    <tr>\n",
       "      <th>ZUP1</th>\n",
       "      <td>0.000007</td>\n",
       "      <td>0.000025</td>\n",
       "      <td>0.000018</td>\n",
       "      <td>0.000011</td>\n",
       "      <td>0.000029</td>\n",
       "      <td>0.000052</td>\n",
       "      <td>0.000000</td>\n",
       "      <td>0.000032</td>\n",
       "      <td>0.000023</td>\n",
       "      <td>0.000000</td>\n",
       "      <td>...</td>\n",
       "      <td>0.000058</td>\n",
       "      <td>0.000064</td>\n",
       "      <td>0.000026</td>\n",
       "      <td>0.000025</td>\n",
       "      <td>0.000000</td>\n",
       "      <td>0.000000</td>\n",
       "      <td>0.000056</td>\n",
       "      <td>0.000043</td>\n",
       "      <td>0.000020</td>\n",
       "      <td>0.000035</td>\n",
       "    </tr>\n",
       "  </tbody>\n",
       "</table>\n",
       "<p>7335 rows × 63 columns</p>\n",
       "</div>"
      ],
      "text/plain": [
       "index          0         1        10        11        12        13        14  \\\n",
       "A1BG    0.000020  0.000000  0.000059  0.000011  0.000057  0.000033  0.000018   \n",
       "AAED1   0.000072  0.000067  0.000053  0.000067  0.000093  0.000085  0.000073   \n",
       "AAGAB   0.000033  0.000025  0.000023  0.000022  0.000014  0.000007  0.000055   \n",
       "AAK1    0.000007  0.000017  0.000029  0.000034  0.000050  0.000020  0.000018   \n",
       "AAMP    0.000072  0.000059  0.000023  0.000056  0.000057  0.000059  0.000092   \n",
       "...          ...       ...       ...       ...       ...       ...       ...   \n",
       "ZRANB3  0.000007  0.000008  0.000023  0.000011  0.000000  0.000013  0.000000   \n",
       "ZSCAN2  0.000000  0.000004  0.000000  0.000011  0.000007  0.000020  0.000000   \n",
       "ZSCAN9  0.000007  0.000017  0.000000  0.000000  0.000000  0.000020  0.000000   \n",
       "ZSWIM6  0.000013  0.000013  0.000012  0.000000  0.000007  0.000026  0.000000   \n",
       "ZUP1    0.000007  0.000025  0.000018  0.000011  0.000029  0.000052  0.000000   \n",
       "\n",
       "index         15        16        17  ...        57        59         6  \\\n",
       "A1BG    0.000051  0.000037  0.000082  ...  0.000014  0.000038  0.000019   \n",
       "AAED1   0.000102  0.000070  0.000082  ...  0.000014  0.000077  0.000026   \n",
       "AAGAB   0.000014  0.000023  0.000041  ...  0.000043  0.000013  0.000037   \n",
       "AAK1    0.000009  0.000010  0.000021  ...  0.000014  0.000000  0.000022   \n",
       "AAMP    0.000065  0.000074  0.000021  ...  0.000029  0.000038  0.000048   \n",
       "...          ...       ...       ...  ...       ...       ...       ...   \n",
       "ZRANB3  0.000005  0.000013  0.000041  ...  0.000014  0.000013  0.000011   \n",
       "ZSCAN2  0.000009  0.000000  0.000021  ...  0.000000  0.000026  0.000004   \n",
       "ZSCAN9  0.000000  0.000017  0.000000  ...  0.000014  0.000013  0.000015   \n",
       "ZSWIM6  0.000018  0.000010  0.000000  ...  0.000000  0.000000  0.000007   \n",
       "ZUP1    0.000032  0.000023  0.000000  ...  0.000058  0.000064  0.000026   \n",
       "\n",
       "index         60        61        62        63         7         8         9  \n",
       "A1BG    0.000012  0.000067  0.000015  0.000028  0.000060  0.000020  0.000012  \n",
       "AAED1   0.000050  0.000000  0.000060  0.000028  0.000026  0.000029  0.000081  \n",
       "AAGAB   0.000012  0.000000  0.000015  0.000000  0.000034  0.000004  0.000035  \n",
       "AAK1    0.000000  0.000000  0.000015  0.000000  0.000009  0.000016  0.000012  \n",
       "AAMP    0.000025  0.000000  0.000119  0.000056  0.000051  0.000033  0.000035  \n",
       "...          ...       ...       ...       ...       ...       ...       ...  \n",
       "ZRANB3  0.000012  0.000067  0.000015  0.000028  0.000009  0.000008  0.000006  \n",
       "ZSCAN2  0.000012  0.000000  0.000030  0.000000  0.000009  0.000008  0.000000  \n",
       "ZSCAN9  0.000000  0.000000  0.000000  0.000000  0.000009  0.000016  0.000012  \n",
       "ZSWIM6  0.000025  0.000067  0.000030  0.000000  0.000009  0.000008  0.000000  \n",
       "ZUP1    0.000025  0.000000  0.000000  0.000056  0.000043  0.000020  0.000035  \n",
       "\n",
       "[7335 rows x 63 columns]"
      ]
     },
     "execution_count": 167,
     "metadata": {},
     "output_type": "execute_result"
    }
   ],
   "source": []
  },
  {
   "cell_type": "code",
   "execution_count": 28,
   "metadata": {},
   "outputs": [
    {
     "name": "stdout",
     "output_type": "stream",
     "text": [
      "(76, 161)\n",
      "(75, 161)\n",
      "(66, 161)\n",
      "(66, 161)\n",
      "(76, 161)\n",
      "(75, 161)\n",
      "(73, 161)\n",
      "(73, 161)\n",
      "(76, 161)\n",
      "(72, 161)\n",
      "(64, 161)\n",
      "(76, 161)\n"
     ]
    }
   ],
   "source": [
    "for ct in heat_dfs:\n",
    "    print(heat_dfs[ct].shape)\n",
    "print(heat_df_pseudo.shape)"
   ]
  },
  {
   "cell_type": "code",
   "execution_count": null,
   "metadata": {},
   "outputs": [],
   "source": []
  },
  {
   "cell_type": "code",
   "execution_count": null,
   "metadata": {},
   "outputs": [],
   "source": []
  }
 ],
 "metadata": {
  "kernelspec": {
   "display_name": "codec",
   "language": "python",
   "name": "codec"
  },
  "language_info": {
   "codemirror_mode": {
    "name": "ipython",
    "version": 3
   },
   "file_extension": ".py",
   "mimetype": "text/x-python",
   "name": "python",
   "nbconvert_exporter": "python",
   "pygments_lexer": "ipython3",
   "version": "3.6.10"
  }
 },
 "nbformat": 4,
 "nbformat_minor": 4
}
