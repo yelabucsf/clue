{
 "cells": [
  {
   "cell_type": "markdown",
   "metadata": {},
   "source": [
    "# Introduction\n",
    "\n",
    "Preparing for downstream notebook by reading in genotype information and matrix eQTL results, and adjusting for plotting figures."
   ]
  },
  {
   "cell_type": "markdown",
   "metadata": {},
   "source": [
    "# Setup"
   ]
  },
  {
   "cell_type": "code",
   "execution_count": 1,
   "metadata": {},
   "outputs": [],
   "source": [
    "import scanpy as sc\n",
    "import anndata\n",
    "from anndata.utils import make_index_unique\n",
    "import pandas as pd\n",
    "import seaborn as sns\n",
    "from IPython.display import display \n",
    "import numpy as np\n",
    "from scipy import sparse\n",
    "import matplotlib.pyplot as plt\n",
    "import matplotlib as mpl\n",
    "import pickle as pkl\n",
    "from tqdm.notebook import tqdm\n",
    "from joblib import Parallel, delayed\n",
    "from multiprocessing import cpu_count\n",
    "import itertools as it\n",
    "import subprocess\n",
    "from glob import glob\n",
    "import gzip\n",
    "import sys\n",
    "import os\n",
    "import pybedtools as pybed\n",
    "import re\n",
    "import warnings\n",
    "from nero import Hector as hct\n",
    "from nero import Nero as nr"
   ]
  },
  {
   "cell_type": "code",
   "execution_count": 2,
   "metadata": {},
   "outputs": [],
   "source": [
    "mountpoint = '/data/clue/'\n",
    "prefix_prod = mountpoint + 'prod/'\n",
    "prefix_pks = mountpoint + 'amo/atac/peaks/'\n",
    "prefix_eqtl = mountpoint + 'prod/eqtl/'"
   ]
  },
  {
   "cell_type": "markdown",
   "metadata": {},
   "source": [
    "# VCF"
   ]
  },
  {
   "cell_type": "code",
   "execution_count": null,
   "metadata": {},
   "outputs": [],
   "source": [
    "vcf = hct.loadVCF(prefix_eqtl + 'mateqtl/vcfs/all_inds.vcf.gz')"
   ]
  },
  {
   "cell_type": "code",
   "execution_count": 110,
   "metadata": {},
   "outputs": [
    {
     "data": {
      "text/html": [
       "<div>\n",
       "<style scoped>\n",
       "    .dataframe tbody tr th:only-of-type {\n",
       "        vertical-align: middle;\n",
       "    }\n",
       "\n",
       "    .dataframe tbody tr th {\n",
       "        vertical-align: top;\n",
       "    }\n",
       "\n",
       "    .dataframe thead th {\n",
       "        text-align: right;\n",
       "    }\n",
       "</style>\n",
       "<table border=\"1\" class=\"dataframe\">\n",
       "  <thead>\n",
       "    <tr style=\"text-align: right;\">\n",
       "      <th></th>\n",
       "      <th>AF</th>\n",
       "      <th>MAF</th>\n",
       "      <th>R2</th>\n",
       "      <th>ER2</th>\n",
       "      <th>chr</th>\n",
       "      <th>pos</th>\n",
       "      <th>ref</th>\n",
       "      <th>alt</th>\n",
       "    </tr>\n",
       "    <tr>\n",
       "      <th>ID</th>\n",
       "      <th></th>\n",
       "      <th></th>\n",
       "      <th></th>\n",
       "      <th></th>\n",
       "      <th></th>\n",
       "      <th></th>\n",
       "      <th></th>\n",
       "      <th></th>\n",
       "    </tr>\n",
       "  </thead>\n",
       "  <tbody>\n",
       "    <tr>\n",
       "      <th>1:693731:A:G</th>\n",
       "      <td>0.12943</td>\n",
       "      <td>0.12943</td>\n",
       "      <td>0.69831</td>\n",
       "      <td>NaN</td>\n",
       "      <td>1</td>\n",
       "      <td>693731.0</td>\n",
       "      <td>A</td>\n",
       "      <td>G</td>\n",
       "    </tr>\n",
       "    <tr>\n",
       "      <th>1:706368:A:G</th>\n",
       "      <td>0.43793</td>\n",
       "      <td>0.43793</td>\n",
       "      <td>0.38773</td>\n",
       "      <td>NaN</td>\n",
       "      <td>1</td>\n",
       "      <td>706368.0</td>\n",
       "      <td>A</td>\n",
       "      <td>G</td>\n",
       "    </tr>\n",
       "    <tr>\n",
       "      <th>1:729679:C:G</th>\n",
       "      <td>0.73155</td>\n",
       "      <td>0.26845</td>\n",
       "      <td>0.60783</td>\n",
       "      <td>NaN</td>\n",
       "      <td>1</td>\n",
       "      <td>729679.0</td>\n",
       "      <td>C</td>\n",
       "      <td>G</td>\n",
       "    </tr>\n",
       "    <tr>\n",
       "      <th>1:731718:T:C</th>\n",
       "      <td>0.13954</td>\n",
       "      <td>0.13954</td>\n",
       "      <td>0.76517</td>\n",
       "      <td>NaN</td>\n",
       "      <td>1</td>\n",
       "      <td>731718.0</td>\n",
       "      <td>T</td>\n",
       "      <td>C</td>\n",
       "    </tr>\n",
       "    <tr>\n",
       "      <th>1:734349:T:C</th>\n",
       "      <td>0.13897</td>\n",
       "      <td>0.13897</td>\n",
       "      <td>0.76455</td>\n",
       "      <td>NaN</td>\n",
       "      <td>1</td>\n",
       "      <td>734349.0</td>\n",
       "      <td>T</td>\n",
       "      <td>C</td>\n",
       "    </tr>\n",
       "  </tbody>\n",
       "</table>\n",
       "</div>"
      ],
      "text/plain": [
       "                   AF      MAF       R2  ER2 chr       pos ref alt\n",
       "ID                                                                \n",
       "1:693731:A:G  0.12943  0.12943  0.69831  NaN   1  693731.0   A   G\n",
       "1:706368:A:G  0.43793  0.43793  0.38773  NaN   1  706368.0   A   G\n",
       "1:729679:C:G  0.73155  0.26845  0.60783  NaN   1  729679.0   C   G\n",
       "1:731718:T:C  0.13954  0.13954  0.76517  NaN   1  731718.0   T   C\n",
       "1:734349:T:C  0.13897  0.13897  0.76455  NaN   1  734349.0   T   C"
      ]
     },
     "execution_count": 110,
     "metadata": {},
     "output_type": "execute_result"
    }
   ],
   "source": [
    "vcf.obs.head()"
   ]
  },
  {
   "cell_type": "markdown",
   "metadata": {},
   "source": [
    "Add `chr` to the beginning of the chromosomes and IDs so that they match the liftover chain file we have."
   ]
  },
  {
   "cell_type": "code",
   "execution_count": 111,
   "metadata": {},
   "outputs": [],
   "source": [
    "hct.adjust_chr(vcf, add='chr')"
   ]
  },
  {
   "cell_type": "code",
   "execution_count": 112,
   "metadata": {},
   "outputs": [
    {
     "data": {
      "text/html": [
       "<div>\n",
       "<style scoped>\n",
       "    .dataframe tbody tr th:only-of-type {\n",
       "        vertical-align: middle;\n",
       "    }\n",
       "\n",
       "    .dataframe tbody tr th {\n",
       "        vertical-align: top;\n",
       "    }\n",
       "\n",
       "    .dataframe thead th {\n",
       "        text-align: right;\n",
       "    }\n",
       "</style>\n",
       "<table border=\"1\" class=\"dataframe\">\n",
       "  <thead>\n",
       "    <tr style=\"text-align: right;\">\n",
       "      <th></th>\n",
       "      <th>AF</th>\n",
       "      <th>MAF</th>\n",
       "      <th>R2</th>\n",
       "      <th>ER2</th>\n",
       "      <th>chr</th>\n",
       "      <th>pos</th>\n",
       "      <th>ref</th>\n",
       "      <th>alt</th>\n",
       "    </tr>\n",
       "    <tr>\n",
       "      <th>ID</th>\n",
       "      <th></th>\n",
       "      <th></th>\n",
       "      <th></th>\n",
       "      <th></th>\n",
       "      <th></th>\n",
       "      <th></th>\n",
       "      <th></th>\n",
       "      <th></th>\n",
       "    </tr>\n",
       "  </thead>\n",
       "  <tbody>\n",
       "    <tr>\n",
       "      <th>chr1:693731:A:G</th>\n",
       "      <td>0.12943</td>\n",
       "      <td>0.12943</td>\n",
       "      <td>0.69831</td>\n",
       "      <td>NaN</td>\n",
       "      <td>chr1</td>\n",
       "      <td>693731.0</td>\n",
       "      <td>A</td>\n",
       "      <td>G</td>\n",
       "    </tr>\n",
       "    <tr>\n",
       "      <th>chr1:706368:A:G</th>\n",
       "      <td>0.43793</td>\n",
       "      <td>0.43793</td>\n",
       "      <td>0.38773</td>\n",
       "      <td>NaN</td>\n",
       "      <td>chr1</td>\n",
       "      <td>706368.0</td>\n",
       "      <td>A</td>\n",
       "      <td>G</td>\n",
       "    </tr>\n",
       "    <tr>\n",
       "      <th>chr1:729679:C:G</th>\n",
       "      <td>0.73155</td>\n",
       "      <td>0.26845</td>\n",
       "      <td>0.60783</td>\n",
       "      <td>NaN</td>\n",
       "      <td>chr1</td>\n",
       "      <td>729679.0</td>\n",
       "      <td>C</td>\n",
       "      <td>G</td>\n",
       "    </tr>\n",
       "    <tr>\n",
       "      <th>chr1:731718:T:C</th>\n",
       "      <td>0.13954</td>\n",
       "      <td>0.13954</td>\n",
       "      <td>0.76517</td>\n",
       "      <td>NaN</td>\n",
       "      <td>chr1</td>\n",
       "      <td>731718.0</td>\n",
       "      <td>T</td>\n",
       "      <td>C</td>\n",
       "    </tr>\n",
       "    <tr>\n",
       "      <th>chr1:734349:T:C</th>\n",
       "      <td>0.13897</td>\n",
       "      <td>0.13897</td>\n",
       "      <td>0.76455</td>\n",
       "      <td>NaN</td>\n",
       "      <td>chr1</td>\n",
       "      <td>734349.0</td>\n",
       "      <td>T</td>\n",
       "      <td>C</td>\n",
       "    </tr>\n",
       "  </tbody>\n",
       "</table>\n",
       "</div>"
      ],
      "text/plain": [
       "                      AF      MAF       R2  ER2   chr       pos ref alt\n",
       "ID                                                                     \n",
       "chr1:693731:A:G  0.12943  0.12943  0.69831  NaN  chr1  693731.0   A   G\n",
       "chr1:706368:A:G  0.43793  0.43793  0.38773  NaN  chr1  706368.0   A   G\n",
       "chr1:729679:C:G  0.73155  0.26845  0.60783  NaN  chr1  729679.0   C   G\n",
       "chr1:731718:T:C  0.13954  0.13954  0.76517  NaN  chr1  731718.0   T   C\n",
       "chr1:734349:T:C  0.13897  0.13897  0.76455  NaN  chr1  734349.0   T   C"
      ]
     },
     "execution_count": 112,
     "metadata": {},
     "output_type": "execute_result"
    }
   ],
   "source": [
    "vcf.obs.head()"
   ]
  },
  {
   "cell_type": "markdown",
   "metadata": {},
   "source": [
    "## Perform Liftover"
   ]
  },
  {
   "cell_type": "markdown",
   "metadata": {},
   "source": [
    "Perform the liftover, which uses LiftoverBed as backend."
   ]
  },
  {
   "cell_type": "code",
   "execution_count": 113,
   "metadata": {},
   "outputs": [],
   "source": [
    "hct.liftover(vcf, genomes=('hg19', 'hg38'), \n",
    "         chain_abs_path='/data/codec/pilot.amo.oct19/atac/beds/liftover/hg19ToHg38.over.chain',\n",
    "         output_dir='/data/clue/prod/eqtl/tmp'\n",
    "        )"
   ]
  },
  {
   "cell_type": "code",
   "execution_count": 114,
   "metadata": {},
   "outputs": [],
   "source": [
    "hct.adjust_chr(vcf, replace=({'hg19': ('chr', ''), 'hg38': ('chr', '')}))"
   ]
  },
  {
   "cell_type": "code",
   "execution_count": 115,
   "metadata": {},
   "outputs": [
    {
     "data": {
      "text/html": [
       "<div>\n",
       "<style scoped>\n",
       "    .dataframe tbody tr th:only-of-type {\n",
       "        vertical-align: middle;\n",
       "    }\n",
       "\n",
       "    .dataframe tbody tr th {\n",
       "        vertical-align: top;\n",
       "    }\n",
       "\n",
       "    .dataframe thead th {\n",
       "        text-align: right;\n",
       "    }\n",
       "</style>\n",
       "<table border=\"1\" class=\"dataframe\">\n",
       "  <thead>\n",
       "    <tr style=\"text-align: right;\">\n",
       "      <th></th>\n",
       "      <th>hg38_ID</th>\n",
       "      <th>AF</th>\n",
       "      <th>MAF</th>\n",
       "      <th>R2</th>\n",
       "      <th>ER2</th>\n",
       "      <th>hg19_chr</th>\n",
       "      <th>hg19_pos</th>\n",
       "      <th>ref</th>\n",
       "      <th>alt</th>\n",
       "      <th>hg38_chr</th>\n",
       "      <th>hg38_pos</th>\n",
       "    </tr>\n",
       "    <tr>\n",
       "      <th>hg19_ID</th>\n",
       "      <th></th>\n",
       "      <th></th>\n",
       "      <th></th>\n",
       "      <th></th>\n",
       "      <th></th>\n",
       "      <th></th>\n",
       "      <th></th>\n",
       "      <th></th>\n",
       "      <th></th>\n",
       "      <th></th>\n",
       "      <th></th>\n",
       "    </tr>\n",
       "  </thead>\n",
       "  <tbody>\n",
       "    <tr>\n",
       "      <th>1:693731:A:G</th>\n",
       "      <td>1:758351:A:G</td>\n",
       "      <td>0.12943</td>\n",
       "      <td>0.12943</td>\n",
       "      <td>0.69831</td>\n",
       "      <td>NaN</td>\n",
       "      <td>1</td>\n",
       "      <td>693731.0</td>\n",
       "      <td>A</td>\n",
       "      <td>G</td>\n",
       "      <td>1</td>\n",
       "      <td>758351.0</td>\n",
       "    </tr>\n",
       "    <tr>\n",
       "      <th>1:706368:A:G</th>\n",
       "      <td>1:770988:A:G</td>\n",
       "      <td>0.43793</td>\n",
       "      <td>0.43793</td>\n",
       "      <td>0.38773</td>\n",
       "      <td>NaN</td>\n",
       "      <td>1</td>\n",
       "      <td>706368.0</td>\n",
       "      <td>A</td>\n",
       "      <td>G</td>\n",
       "      <td>1</td>\n",
       "      <td>770988.0</td>\n",
       "    </tr>\n",
       "    <tr>\n",
       "      <th>1:729679:C:G</th>\n",
       "      <td>1:794299:C:G</td>\n",
       "      <td>0.73155</td>\n",
       "      <td>0.26845</td>\n",
       "      <td>0.60783</td>\n",
       "      <td>NaN</td>\n",
       "      <td>1</td>\n",
       "      <td>729679.0</td>\n",
       "      <td>C</td>\n",
       "      <td>G</td>\n",
       "      <td>1</td>\n",
       "      <td>794299.0</td>\n",
       "    </tr>\n",
       "    <tr>\n",
       "      <th>1:731718:T:C</th>\n",
       "      <td>1:796338:T:C</td>\n",
       "      <td>0.13954</td>\n",
       "      <td>0.13954</td>\n",
       "      <td>0.76517</td>\n",
       "      <td>NaN</td>\n",
       "      <td>1</td>\n",
       "      <td>731718.0</td>\n",
       "      <td>T</td>\n",
       "      <td>C</td>\n",
       "      <td>1</td>\n",
       "      <td>796338.0</td>\n",
       "    </tr>\n",
       "    <tr>\n",
       "      <th>1:734349:T:C</th>\n",
       "      <td>1:798969:T:C</td>\n",
       "      <td>0.13897</td>\n",
       "      <td>0.13897</td>\n",
       "      <td>0.76455</td>\n",
       "      <td>NaN</td>\n",
       "      <td>1</td>\n",
       "      <td>734349.0</td>\n",
       "      <td>T</td>\n",
       "      <td>C</td>\n",
       "      <td>1</td>\n",
       "      <td>798969.0</td>\n",
       "    </tr>\n",
       "  </tbody>\n",
       "</table>\n",
       "</div>"
      ],
      "text/plain": [
       "                   hg38_ID       AF      MAF       R2  ER2 hg19_chr  hg19_pos  \\\n",
       "hg19_ID                                                                         \n",
       "1:693731:A:G  1:758351:A:G  0.12943  0.12943  0.69831  NaN        1  693731.0   \n",
       "1:706368:A:G  1:770988:A:G  0.43793  0.43793  0.38773  NaN        1  706368.0   \n",
       "1:729679:C:G  1:794299:C:G  0.73155  0.26845  0.60783  NaN        1  729679.0   \n",
       "1:731718:T:C  1:796338:T:C  0.13954  0.13954  0.76517  NaN        1  731718.0   \n",
       "1:734349:T:C  1:798969:T:C  0.13897  0.13897  0.76455  NaN        1  734349.0   \n",
       "\n",
       "             ref alt hg38_chr  hg38_pos  \n",
       "hg19_ID                                  \n",
       "1:693731:A:G   A   G        1  758351.0  \n",
       "1:706368:A:G   A   G        1  770988.0  \n",
       "1:729679:C:G   C   G        1  794299.0  \n",
       "1:731718:T:C   T   C        1  796338.0  \n",
       "1:734349:T:C   T   C        1  798969.0  "
      ]
     },
     "execution_count": 115,
     "metadata": {},
     "output_type": "execute_result"
    }
   ],
   "source": [
    "vcf.obs.head()"
   ]
  },
  {
   "cell_type": "markdown",
   "metadata": {},
   "source": [
    "## Subset to Individuals, Add Demographic Info"
   ]
  },
  {
   "cell_type": "code",
   "execution_count": 8,
   "metadata": {},
   "outputs": [],
   "source": [
    "new_var_names = ['ASB' + i[-4:] if i.startswith('AS') else i for i in vcf.var_names]\n",
    "var_name_dict = dict(zip(new_var_names, vcf.var_names))"
   ]
  },
  {
   "cell_type": "code",
   "execution_count": 9,
   "metadata": {},
   "outputs": [],
   "source": [
    "inv_var_name_dict = dict([(v, k) for k, v in var_name_dict.items()])\n",
    "vcf.var_names = new_var_names"
   ]
  },
  {
   "cell_type": "code",
   "execution_count": 10,
   "metadata": {},
   "outputs": [],
   "source": [
    "vcf.var['original_vcf_names'] = vcf.var.index.map(var_name_dict)"
   ]
  },
  {
   "cell_type": "code",
   "execution_count": 11,
   "metadata": {},
   "outputs": [],
   "source": [
    "demo_ids = pd.read_csv(prefix_prod + 'vals/demo_ids.csv', index_col=0)"
   ]
  },
  {
   "cell_type": "markdown",
   "metadata": {},
   "source": [
    "Subset to common names:"
   ]
  },
  {
   "cell_type": "code",
   "execution_count": 12,
   "metadata": {},
   "outputs": [],
   "source": [
    "common_names = np.intersect1d(vcf.var_names.values, demo_ids.index.values)"
   ]
  },
  {
   "cell_type": "code",
   "execution_count": 13,
   "metadata": {},
   "outputs": [],
   "source": [
    "vcf = vcf[:, common_names].copy()\n",
    "demo_ids = demo_ids.loc[common_names].copy()"
   ]
  },
  {
   "cell_type": "code",
   "execution_count": 14,
   "metadata": {},
   "outputs": [],
   "source": [
    "vcf.var = vcf.var.join(demo_ids)"
   ]
  },
  {
   "cell_type": "code",
   "execution_count": 15,
   "metadata": {},
   "outputs": [],
   "source": [
    "var_name_dict = dict(zip(vcf.var_names, vcf.var['original_vcf_names']))\n",
    "inv_var_name_dict = dict([(v, k) for k, v in var_name_dict.items()])"
   ]
  },
  {
   "cell_type": "markdown",
   "metadata": {},
   "source": [
    "## Note About IGTB1622"
   ]
  },
  {
   "cell_type": "markdown",
   "metadata": {},
   "source": [
    "Donor ID IGTB1622 has missing information in the demographics file. This is because in the experiment this donor was recorded as IGTB1266 (according to the deconvolution), but their genotype information matched to donor IGTB1622 in the orthogonal genotyping validation. Because of the similarity in names, we hypothesize that it was a a clerical error that caused their ID to be recorded as IGTB1266 (or vice versa). However, we decide to not move forward with this donor. I will remove this donor here. Coincidentally (or not?), the donor also ends up being an outlier in the smartpca analysis just below, so their information is removed anyway."
   ]
  },
  {
   "cell_type": "code",
   "execution_count": 16,
   "metadata": {},
   "outputs": [
    {
     "data": {
      "text/plain": [
       "original_vcf_names        IGTB1622\n",
       "free_id                          6\n",
       "well_code             2-4-6-7-9-11\n",
       "exp_id                          10\n",
       "match_score                 1556.8\n",
       "genetics_include              True\n",
       "shipment                       NaN\n",
       "YOB                            NaN\n",
       "gender                         NaN\n",
       "race                           NaN\n",
       "ethnicity                      NaN\n",
       "age                            NaN\n",
       "height                         NaN\n",
       "weight                         NaN\n",
       "bmi                            NaN\n",
       "viability_eq_ctrl             87.3\n",
       "Name: IGTB1622, dtype: object"
      ]
     },
     "execution_count": 16,
     "metadata": {},
     "output_type": "execute_result"
    }
   ],
   "source": [
    "vcf.var.loc['IGTB1622']"
   ]
  },
  {
   "cell_type": "code",
   "execution_count": 18,
   "metadata": {},
   "outputs": [],
   "source": [
    "vcf = vcf[:, [i for i in vcf.var_names if i != 'IGTB1622']].copy()"
   ]
  },
  {
   "cell_type": "markdown",
   "metadata": {},
   "source": [
    "## Create `hg19_ID_nuc_code`\n",
    "Create another column in the `.obs` with ambiguous nucleotide IUPAC codes. This will be helpful for generating the haplotypes later under `mateqtl_df`."
   ]
  },
  {
   "cell_type": "code",
   "execution_count": 27,
   "metadata": {},
   "outputs": [],
   "source": [
    "nuc_code_dict = {'A': 'A', 'C': 'C', 'G': 'G', 'T': 'T', \n",
    "                 'A/G': 'R', 'C/T': 'Y', 'G/T': 'K', 'A/C': 'M', 'C/G': 'S', 'A/T': 'W', \n",
    "                 'C/G/T': 'B', 'A/G/T': 'D', 'A/C/T': 'H', 'A/C/G': 'V', \n",
    "                 'A/C/G/T': 'N'}"
   ]
  },
  {
   "cell_type": "code",
   "execution_count": 28,
   "metadata": {},
   "outputs": [],
   "source": [
    "vcf.obs['hg19_chr_pos'] = vcf.obs_names.str.split(':').str[:2].str.join(':')\n",
    "vcf.obs.reset_index(drop=False, inplace=True)\n",
    "vcf.obs.set_index('hg19_chr_pos', inplace=True)"
   ]
  },
  {
   "cell_type": "code",
   "execution_count": 29,
   "metadata": {},
   "outputs": [],
   "source": [
    "refalt_dict = (vcf.obs['ref'].str[:] + ':' + vcf.obs['alt'].str[:]).rename('ref:alt').reset_index()"
   ]
  },
  {
   "cell_type": "markdown",
   "metadata": {},
   "source": [
    "Sort lexographically so that alt alleles appear in the same order as they do in `nuc_code_dict`. It does not matter that chr10 will come before chr1, since I'll use the index to replace `'ref:alt'` in `refalt_dict`."
   ]
  },
  {
   "cell_type": "code",
   "execution_count": 30,
   "metadata": {},
   "outputs": [],
   "source": [
    "dupe_bool = refalt_dict['hg19_chr_pos'].duplicated(keep=False)\n",
    "mapper = refalt_dict.set_index('hg19_chr_pos')[~dupe_bool.values].to_dict()['ref:alt']\n",
    "dupes = refalt_dict[dupe_bool].sort_values(by=['hg19_chr_pos', 'ref:alt'])"
   ]
  },
  {
   "cell_type": "code",
   "execution_count": 31,
   "metadata": {},
   "outputs": [
    {
     "data": {
      "application/vnd.jupyter.widget-view+json": {
       "model_id": "29f77a6ecef04966bd56e8d710fd378c",
       "version_major": 2,
       "version_minor": 0
      },
      "text/plain": [
       "  0%|          | 0/752 [00:00<?, ?it/s]"
      ]
     },
     "metadata": {},
     "output_type": "display_data"
    }
   ],
   "source": [
    "for chr_pos in tqdm(dupes['hg19_chr_pos'].unique()):\n",
    "    subdupe = dupes[dupes['hg19_chr_pos'] == chr_pos]\n",
    "    ref = subdupe['ref:alt'].iloc[0].split(':')[0]\n",
    "    alts = subdupe['ref:alt'].str.split(':').str[1]\n",
    "    nuc_code = '/'.join(subdupe['ref:alt'].str.split(':').str[1])\n",
    "    mapper[subdupe.iloc[0].loc['hg19_chr_pos']] = ref + ':' + nuc_code_dict[nuc_code]"
   ]
  },
  {
   "cell_type": "code",
   "execution_count": 32,
   "metadata": {},
   "outputs": [],
   "source": [
    "vcf.obs['hg19_nuc_code'] = vcf.obs.index.map(mapper).values\n",
    "vcf.obs['hg19_nuc_code'] = vcf.obs['hg19_nuc_code'].astype('category')\n",
    "vcf.obs['hg19_ID_nuc_code'] = vcf.obs_names + ':' + vcf.obs['hg19_nuc_code'].str[:]"
   ]
  },
  {
   "cell_type": "code",
   "execution_count": 33,
   "metadata": {},
   "outputs": [
    {
     "data": {
      "text/plain": [
       "Index(['A:B', 'A:C', 'A:G', 'A:K', 'A:S', 'A:T', 'A:Y', 'C:A', 'C:D', 'C:G',\n",
       "       'C:K', 'C:R', 'C:T', 'C:W', 'G:A', 'G:C', 'G:H', 'G:M', 'G:T', 'G:W',\n",
       "       'G:Y', 'T:A', 'T:C', 'T:G', 'T:M', 'T:R', 'T:S'],\n",
       "      dtype='object')"
      ]
     },
     "execution_count": 33,
     "metadata": {},
     "output_type": "execute_result"
    }
   ],
   "source": [
    "vcf.obs['hg19_nuc_code'].cat.categories"
   ]
  },
  {
   "cell_type": "code",
   "execution_count": 5,
   "metadata": {},
   "outputs": [],
   "source": [
    "vcf.obs.set_index('hg19_ID', inplace=True)"
   ]
  },
  {
   "cell_type": "markdown",
   "metadata": {},
   "source": [
    "## Export"
   ]
  },
  {
   "cell_type": "code",
   "execution_count": 9,
   "metadata": {},
   "outputs": [],
   "source": [
    "# vcf.write_h5ad(prefix_eqtl + 'mateqtl/vcfs/vcf.h5ad')\n",
    "vcf = anndata.read_h5ad(prefix_eqtl + 'mateqtl/vcfs/vcf.h5ad')"
   ]
  },
  {
   "cell_type": "markdown",
   "metadata": {},
   "source": [
    "# `mateqtl`"
   ]
  },
  {
   "cell_type": "code",
   "execution_count": 68,
   "metadata": {},
   "outputs": [
    {
     "data": {
      "application/vnd.jupyter.widget-view+json": {
       "model_id": "3a943dab7cd54d428d1ea2c83126f8cd",
       "version_major": 2,
       "version_minor": 0
      },
      "text/plain": [
       "  0%|          | 0/77 [00:00<?, ?it/s]"
      ]
     },
     "metadata": {},
     "output_type": "display_data"
    }
   ],
   "source": [
    "output_files = [fn for fn in os.listdir(prefix_eqtl + 'mateqtl/vals/') if fn.startswith('mateqtl_')]\n",
    "mateqtl_df = {}\n",
    "for output_file in tqdm(output_files):\n",
    "    cond_cell_type = output_file.replace('mateqtl_', '').replace('_all_cis.csv', '').split('_', maxsplit=1)\n",
    "    cond = cond_cell_type[0]\n",
    "    cell_type = cond_cell_type[1]\n",
    "    mateqtl_df[output_file] = pd.read_csv(prefix_eqtl + 'mateqtl/vals/' + output_file, index_col=0, sep=\" \")\n",
    "    mateqtl_df[output_file][\"cond\"] = cond\n",
    "    mateqtl_df[output_file][\"ct\"] = cell_type\n",
    "mateqtl_df = pd.concat(mateqtl_df.values())"
   ]
  },
  {
   "cell_type": "code",
   "execution_count": 4,
   "metadata": {},
   "outputs": [],
   "source": [
    "# calculate number of tests\n",
    "snppos_file = prefix_eqtl + 'mateqtl/vals/all_chr_snpspos.txt'\n",
    "gene_locs_file = prefix_eqtl + 'mateqtl/vals/gene_locs.txt'\n",
    "\n",
    "snppos = pd.read_csv(snppos_file, header=0, sep=\"\\t\")\n",
    "gene_locs = pd.read_csv(gene_locs_file, sep=\"\\t\", names=[\"gene\", \"chr\", \"start\", \"stop\"])"
   ]
  },
  {
   "cell_type": "code",
   "execution_count": 21,
   "metadata": {},
   "outputs": [],
   "source": [
    "max_jobs = cpu_count() - 2 # don't use all the processors just in case"
   ]
  },
  {
   "cell_type": "code",
   "execution_count": 51,
   "metadata": {},
   "outputs": [],
   "source": [
    "def get_num_tests(sub_gene_locs):\n",
    "    num_tests = 0\n",
    "    for i, gene in sub_gene_locs.iterrows():\n",
    "        num_tests += snppos[(snppos[\"chr\"] == gene[\"chr\"]) & (snppos[\"pos\"] >= gene[\"start\"] - 100000) & (snppos[\"pos\"] <= gene[\"stop\"] + 100000)].shape[0]\n",
    "    return num_tests"
   ]
  },
  {
   "cell_type": "code",
   "execution_count": 52,
   "metadata": {},
   "outputs": [],
   "source": [
    "idxs = np.int64(np.linspace(0, gene_locs.shape[0], num=max_jobs + 1)) # +1 because fencepost\n",
    "slices = [slice(idxs[i-1], idxs[i]) for i in range(1, len(idxs))]\n",
    "assert len(slices) == max_jobs "
   ]
  },
  {
   "cell_type": "code",
   "execution_count": 53,
   "metadata": {},
   "outputs": [],
   "source": [
    "par_outs = Parallel(n_jobs=max_jobs)(delayed(get_num_tests)(gene_locs[sl]) for sl in slices)"
   ]
  },
  {
   "cell_type": "code",
   "execution_count": 55,
   "metadata": {},
   "outputs": [],
   "source": [
    "num_tests = sum(par_outs)"
   ]
  },
  {
   "cell_type": "code",
   "execution_count": 56,
   "metadata": {},
   "outputs": [
    {
     "data": {
      "text/plain": [
       "3722461"
      ]
     },
     "execution_count": 56,
     "metadata": {},
     "output_type": "execute_result"
    }
   ],
   "source": [
    "num_tests"
   ]
  },
  {
   "cell_type": "code",
   "execution_count": 7,
   "metadata": {},
   "outputs": [],
   "source": [
    "FDR = 0.05\n",
    "mateqtl_df = mateqtl_df.sort_values(\"pvalue\")\n",
    "mateqtl_df[\"BH\"] = (np.arange(1, mateqtl_df.shape[0]+1)/(num_tests*len(output_files)))*FDR"
   ]
  },
  {
   "cell_type": "code",
   "execution_count": 8,
   "metadata": {},
   "outputs": [],
   "source": [
    "mateqtl_df = mateqtl_df.set_index('snps')"
   ]
  },
  {
   "cell_type": "code",
   "execution_count": 9,
   "metadata": {},
   "outputs": [
    {
     "data": {
      "text/plain": [
       "(30924710, 8)"
      ]
     },
     "execution_count": 9,
     "metadata": {},
     "output_type": "execute_result"
    }
   ],
   "source": [
    "mateqtl_df.shape"
   ]
  },
  {
   "cell_type": "markdown",
   "metadata": {},
   "source": [
    "## Liftover to hg38"
   ]
  },
  {
   "cell_type": "code",
   "execution_count": 6,
   "metadata": {},
   "outputs": [],
   "source": [
    "original_len = mateqtl_df.shape[0]"
   ]
  },
  {
   "cell_type": "code",
   "execution_count": 7,
   "metadata": {},
   "outputs": [],
   "source": [
    "all_mateqtl_bed = [['chr' +i.split(':')[0], i.split(':')[1], \n",
    "                    str(int(i.split(':')[1]) + 1),  # this plus 1 was necessary for samtools depth\n",
    "                    i] for i in mateqtl_df.index.unique()]"
   ]
  },
  {
   "cell_type": "code",
   "execution_count": 8,
   "metadata": {},
   "outputs": [],
   "source": [
    "all_mateqtl_bed_hg38 = hct.liftover_bed(all_mateqtl_bed, chain_abs_path=prefix_eqtl + 'hg19ToHg38.over.chain', \n",
    "                                    output_dir='/data/clue/prod/eqtl/tmp/', keep_files=False)"
   ]
  },
  {
   "cell_type": "code",
   "execution_count": 9,
   "metadata": {},
   "outputs": [],
   "source": [
    "all_mateqtl_lifted_snps = dict([(i[3], i[0].replace('chr', '') + ':' + i[1]) for i in all_mateqtl_bed_hg38])"
   ]
  },
  {
   "cell_type": "markdown",
   "metadata": {},
   "source": [
    "The following `.dropna()` will reduce the number of total eQTLs by some."
   ]
  },
  {
   "cell_type": "code",
   "execution_count": 10,
   "metadata": {},
   "outputs": [],
   "source": [
    "mateqtl_df['hg38_snps'] = mateqtl_df.index.map(all_mateqtl_lifted_snps)\n",
    "mateqtl_df.dropna(inplace=True)\n",
    "mateqtl_df['hg19_snps'] = mateqtl_df.index.to_series()"
   ]
  },
  {
   "cell_type": "code",
   "execution_count": 11,
   "metadata": {},
   "outputs": [
    {
     "data": {
      "text/plain": [
       "0.9997917522912907"
      ]
     },
     "execution_count": 11,
     "metadata": {},
     "output_type": "execute_result"
    }
   ],
   "source": [
    "mateqtl_df.shape[0]/original_len"
   ]
  },
  {
   "cell_type": "markdown",
   "metadata": {},
   "source": [
    "Still retaining 99.98% of all reported eQTLs."
   ]
  },
  {
   "cell_type": "markdown",
   "metadata": {},
   "source": [
    "## Adjustments"
   ]
  },
  {
   "cell_type": "code",
   "execution_count": 18,
   "metadata": {},
   "outputs": [],
   "source": [
    "mateqtl_df['abs(beta)'] = np.abs(mateqtl_df['beta'])\n",
    "mateqtl_df['-log10FDR'] = -np.log10(mateqtl_df['FDR'])\n",
    "mateqtl_df['-log10p'] = -np.log10(mateqtl_df['pvalue'])"
   ]
  },
  {
   "cell_type": "code",
   "execution_count": 19,
   "metadata": {},
   "outputs": [],
   "source": [
    "mateqtl_df_split = mateqtl_df.index.str.split(':', expand=True).to_frame()\n",
    "mateqtl_df_split.index = mateqtl_df.index\n",
    "mateqtl_df_split.columns = ['hg19_snp_chrom', 'hg19_snp_pos']\n",
    "mateqtl_df = pd.concat([mateqtl_df, mateqtl_df_split], axis=1)\n",
    "mateqtl_df[['hg19_snp_chrom', 'hg19_snp_pos']] = mateqtl_df[['hg19_snp_chrom', 'hg19_snp_pos']].astype(int)"
   ]
  },
  {
   "cell_type": "code",
   "execution_count": 10,
   "metadata": {},
   "outputs": [],
   "source": [
    "categorical_cols = ['gene', 'cond', 'ct', 'hg19_snp_chrom']"
   ]
  },
  {
   "cell_type": "code",
   "execution_count": 11,
   "metadata": {},
   "outputs": [
    {
     "data": {
      "application/vnd.jupyter.widget-view+json": {
       "model_id": "",
       "version_major": 2,
       "version_minor": 0
      },
      "text/plain": [
       "  0%|          | 0/4 [00:00<?, ?it/s]"
      ]
     },
     "metadata": {},
     "output_type": "display_data"
    }
   ],
   "source": [
    "for cat_col in tqdm(categorical_cols):\n",
    "    mateqtl_df[cat_col] = mateqtl_df[cat_col].astype('category')"
   ]
  },
  {
   "cell_type": "code",
   "execution_count": 13,
   "metadata": {},
   "outputs": [],
   "source": [
    "mateqtl_df.sort_values('pvalue', inplace=True)"
   ]
  },
  {
   "cell_type": "code",
   "execution_count": 14,
   "metadata": {},
   "outputs": [],
   "source": [
    "sig_thresh = np.argmax(mateqtl_df['pvalue'] > mateqtl_df['BH']) - 1\n",
    "mateqtl_df_sig = mateqtl_df.iloc[:sig_thresh].copy()"
   ]
  },
  {
   "cell_type": "code",
   "execution_count": 18,
   "metadata": {},
   "outputs": [
    {
     "data": {
      "text/plain": [
       "2.764614278341353e-05"
      ]
     },
     "execution_count": 18,
     "metadata": {},
     "output_type": "execute_result"
    }
   ],
   "source": [
    "sig_thresh"
   ]
  },
  {
   "cell_type": "code",
   "execution_count": 15,
   "metadata": {},
   "outputs": [],
   "source": [
    "mateqtl_df['BH_sig'] = mateqtl_df['pvalue'] < mateqtl_df['BH']"
   ]
  },
  {
   "cell_type": "code",
   "execution_count": 16,
   "metadata": {},
   "outputs": [
    {
     "name": "stdout",
     "output_type": "stream",
     "text": [
      "['UBE2D4', 'PCSK5', 'IPPK', 'MICU3', 'YES1', 'BCL2', 'TCF7L2', 'HIF1AN', 'AL157938.3', 'DET1', 'ZNF628', 'ZNF324B', 'ZNF525', 'CA11', 'SPACA6', 'ZNF845', 'LINC00926', 'ABHD14A', 'DUSP7', 'TUBA4A']\n"
     ]
    }
   ],
   "source": [
    "print(list(mateqtl_df_sig[\"gene\"].unique()[:20]))"
   ]
  },
  {
   "cell_type": "code",
   "execution_count": 18,
   "metadata": {},
   "outputs": [
    {
     "data": {
      "text/plain": [
       "(158444, 16)"
      ]
     },
     "execution_count": 18,
     "metadata": {},
     "output_type": "execute_result"
    }
   ],
   "source": [
    "mateqtl_df_sig.shape"
   ]
  },
  {
   "cell_type": "markdown",
   "metadata": {},
   "source": [
    "## Generate Haplotypes"
   ]
  },
  {
   "cell_type": "code",
   "execution_count": 39,
   "metadata": {},
   "outputs": [],
   "source": [
    "vcf = vcf[~vcf.obs['hg19_ID_nuc_code'].duplicated()].copy()"
   ]
  },
  {
   "cell_type": "code",
   "execution_count": 40,
   "metadata": {},
   "outputs": [
    {
     "data": {
      "text/plain": [
       "True"
      ]
     },
     "execution_count": 40,
     "metadata": {},
     "output_type": "execute_result"
    }
   ],
   "source": [
    "vcf.obs.index.is_unique"
   ]
  },
  {
   "cell_type": "code",
   "execution_count": 26,
   "metadata": {},
   "outputs": [
    {
     "data": {
      "application/vnd.jupyter.widget-view+json": {
       "model_id": "9af9b162dac842569f01ff1211e9ff8c",
       "version_major": 2,
       "version_minor": 0
      },
      "text/plain": [
       "  0%|          | 0/10134 [00:00<?, ?it/s]"
      ]
     },
     "metadata": {},
     "output_type": "display_data"
    }
   ],
   "source": [
    "mateqtl_df_haplo = list()\n",
    "# could've parallelized this but too much trouble\n",
    "for gene in tqdm(mateqtl_df['gene'].cat.categories):\n",
    "    snps = mateqtl_df[mateqtl_df['gene'] == gene].index.unique()\n",
    "    dupe_per_gene = vcf[snps].to_df().duplicated()\n",
    "    keep_snps = dupe_per_gene.index[~dupe_per_gene]\n",
    "    mateqtl_df_haplo.append(mateqtl_df[mateqtl_df['gene'] == gene].loc[keep_snps])\n",
    "mateqtl_df_haplo = pd.concat(mateqtl_df_haplo, axis=0)"
   ]
  },
  {
   "cell_type": "code",
   "execution_count": 29,
   "metadata": {},
   "outputs": [
    {
     "data": {
      "text/plain": [
       "0.3368975042911521"
      ]
     },
     "execution_count": 29,
     "metadata": {},
     "output_type": "execute_result"
    }
   ],
   "source": [
    "mateqtl_df_haplo.shape[0]/mateqtl_df.shape[0]"
   ]
  },
  {
   "cell_type": "code",
   "execution_count": 33,
   "metadata": {},
   "outputs": [],
   "source": [
    "mateqtl_df_haplo = mateqtl_df_haplo.sort_values(by='pvalue')"
   ]
  },
  {
   "cell_type": "markdown",
   "metadata": {},
   "source": [
    "## Export"
   ]
  },
  {
   "cell_type": "code",
   "execution_count": 4,
   "metadata": {},
   "outputs": [],
   "source": [
    "# mateqtl_df.to_pickle(prefix_eqtl + 'mateqtl/pkls/mateqtl_df.pkl')\n",
    "mateqtl_df = pd.read_pickle(prefix_eqtl + 'mateqtl/pkls/mateqtl_df.pkl')"
   ]
  },
  {
   "cell_type": "code",
   "execution_count": 14,
   "metadata": {},
   "outputs": [],
   "source": [
    "# mateqtl_df_sig.to_pickle(prefix_eqtl + 'mateqtl/pkls/mateqtl_df_sig.pkl')\n",
    "mateqtl_df_sig = pd.read_pickle(prefix_eqtl + 'mateqtl/pkls/mateqtl_df_sig.pkl')"
   ]
  },
  {
   "cell_type": "code",
   "execution_count": 34,
   "metadata": {},
   "outputs": [],
   "source": [
    "# mateqtl_df_haplo.to_pickle(prefix_eqtl + 'mateqtl/pkls/mateqtl_df_haplo.pkl')\n",
    "mateqtl_df_haplo = pd.read_pickle(prefix_eqtl + 'mateqtl/pkls/mateqtl_df_haplo.pkl')"
   ]
  },
  {
   "cell_type": "code",
   "execution_count": 5,
   "metadata": {},
   "outputs": [
    {
     "data": {
      "application/vnd.jupyter.widget-view+json": {
       "model_id": "cf6ab82606af486db60bb46a3ec1642b",
       "version_major": 2,
       "version_minor": 0
      },
      "text/plain": [
       "  0%|          | 0/6 [00:00<?, ?it/s]"
      ]
     },
     "metadata": {},
     "output_type": "display_data"
    }
   ],
   "source": [
    "mateqtl = dict()\n",
    "for cond in tqdm(mateqtl_df['cond'].cat.categories):\n",
    "    mateqtl[cond] = dict()\n",
    "    for ct in mateqtl_df['ct'].cat.categories:\n",
    "        mateqtl[cond][ct] = mateqtl_df[(mateqtl_df['cond'] == cond) & (mateqtl_df['ct'] == ct)].copy()"
   ]
  },
  {
   "cell_type": "code",
   "execution_count": 6,
   "metadata": {},
   "outputs": [],
   "source": [
    "# with open(prefix_eqtl + 'mateqtl/pkls/mateqtl.pkl', 'wb') as file:\n",
    "#     pkl.dump(mateqtl, file, protocol=4)\n",
    "\n",
    "with open(prefix_eqtl + 'mateqtl/pkls/mateqtl.pkl', 'rb') as file:\n",
    "    mateqtl = pkl.load(file)"
   ]
  },
  {
   "cell_type": "markdown",
   "metadata": {},
   "source": [
    "# `mdsr`"
   ]
  },
  {
   "cell_type": "markdown",
   "metadata": {},
   "source": [
    "I want to create a new object that has the same data as `mateqtl_df` but restructured according to condition and cell type and indexed on eQTLs (chromosome + position + gene) where condition-celltypes with the same eQTL was observed will be in the same row. I'll call it `mdsr` (`mateqtl_df_sorted_reindex`)."
   ]
  },
  {
   "cell_type": "code",
   "execution_count": 13,
   "metadata": {},
   "outputs": [
    {
     "data": {
      "text/html": [
       "<div>\n",
       "<style scoped>\n",
       "    .dataframe tbody tr th:only-of-type {\n",
       "        vertical-align: middle;\n",
       "    }\n",
       "\n",
       "    .dataframe tbody tr th {\n",
       "        vertical-align: top;\n",
       "    }\n",
       "\n",
       "    .dataframe thead th {\n",
       "        text-align: right;\n",
       "    }\n",
       "</style>\n",
       "<table border=\"1\" class=\"dataframe\">\n",
       "  <thead>\n",
       "    <tr style=\"text-align: right;\">\n",
       "      <th></th>\n",
       "      <th>gene</th>\n",
       "      <th>statistic</th>\n",
       "      <th>pvalue</th>\n",
       "      <th>FDR</th>\n",
       "      <th>beta</th>\n",
       "      <th>cond</th>\n",
       "      <th>ct</th>\n",
       "      <th>BH</th>\n",
       "      <th>hg38_snps</th>\n",
       "      <th>hg19_snps</th>\n",
       "      <th>abs(beta)</th>\n",
       "      <th>-log10FDR</th>\n",
       "      <th>-log10p</th>\n",
       "      <th>hg19_snp_chrom</th>\n",
       "      <th>hg19_snp_pos</th>\n",
       "      <th>BH_sig</th>\n",
       "    </tr>\n",
       "    <tr>\n",
       "      <th>snps</th>\n",
       "      <th></th>\n",
       "      <th></th>\n",
       "      <th></th>\n",
       "      <th></th>\n",
       "      <th></th>\n",
       "      <th></th>\n",
       "      <th></th>\n",
       "      <th></th>\n",
       "      <th></th>\n",
       "      <th></th>\n",
       "      <th></th>\n",
       "      <th></th>\n",
       "      <th></th>\n",
       "      <th></th>\n",
       "      <th></th>\n",
       "      <th></th>\n",
       "    </tr>\n",
       "  </thead>\n",
       "  <tbody>\n",
       "    <tr>\n",
       "      <th>7:43989516</th>\n",
       "      <td>UBE2D4</td>\n",
       "      <td>inf</td>\n",
       "      <td>2.225074e-308</td>\n",
       "      <td>2.733331e-304</td>\n",
       "      <td>0.682570</td>\n",
       "      <td>G</td>\n",
       "      <td>pDC</td>\n",
       "      <td>1.744412e-10</td>\n",
       "      <td>7:43949917</td>\n",
       "      <td>7:43989516</td>\n",
       "      <td>0.682570</td>\n",
       "      <td>303.563308</td>\n",
       "      <td>307.652656</td>\n",
       "      <td>7</td>\n",
       "      <td>43989516</td>\n",
       "      <td>True</td>\n",
       "    </tr>\n",
       "    <tr>\n",
       "      <th>9:78853916</th>\n",
       "      <td>PCSK5</td>\n",
       "      <td>inf</td>\n",
       "      <td>2.225074e-308</td>\n",
       "      <td>2.733331e-304</td>\n",
       "      <td>1.617403</td>\n",
       "      <td>G</td>\n",
       "      <td>pDC</td>\n",
       "      <td>3.610933e-08</td>\n",
       "      <td>9:76239000</td>\n",
       "      <td>9:78853916</td>\n",
       "      <td>1.617403</td>\n",
       "      <td>303.563308</td>\n",
       "      <td>307.652656</td>\n",
       "      <td>9</td>\n",
       "      <td>78853916</td>\n",
       "      <td>True</td>\n",
       "    </tr>\n",
       "    <tr>\n",
       "      <th>9:78854489</th>\n",
       "      <td>PCSK5</td>\n",
       "      <td>inf</td>\n",
       "      <td>2.225074e-308</td>\n",
       "      <td>2.733331e-304</td>\n",
       "      <td>1.617403</td>\n",
       "      <td>G</td>\n",
       "      <td>pDC</td>\n",
       "      <td>3.593489e-08</td>\n",
       "      <td>9:76239573</td>\n",
       "      <td>9:78854489</td>\n",
       "      <td>1.617403</td>\n",
       "      <td>303.563308</td>\n",
       "      <td>307.652656</td>\n",
       "      <td>9</td>\n",
       "      <td>78854489</td>\n",
       "      <td>True</td>\n",
       "    </tr>\n",
       "    <tr>\n",
       "      <th>9:78855343</th>\n",
       "      <td>PCSK5</td>\n",
       "      <td>inf</td>\n",
       "      <td>2.225074e-308</td>\n",
       "      <td>2.733331e-304</td>\n",
       "      <td>1.617403</td>\n",
       "      <td>G</td>\n",
       "      <td>pDC</td>\n",
       "      <td>3.576045e-08</td>\n",
       "      <td>9:76240427</td>\n",
       "      <td>9:78855343</td>\n",
       "      <td>1.617403</td>\n",
       "      <td>303.563308</td>\n",
       "      <td>307.652656</td>\n",
       "      <td>9</td>\n",
       "      <td>78855343</td>\n",
       "      <td>True</td>\n",
       "    </tr>\n",
       "    <tr>\n",
       "      <th>9:95276587</th>\n",
       "      <td>IPPK</td>\n",
       "      <td>inf</td>\n",
       "      <td>2.225074e-308</td>\n",
       "      <td>2.733331e-304</td>\n",
       "      <td>1.832980</td>\n",
       "      <td>G</td>\n",
       "      <td>pDC</td>\n",
       "      <td>3.558601e-08</td>\n",
       "      <td>9:92514305</td>\n",
       "      <td>9:95276587</td>\n",
       "      <td>1.832980</td>\n",
       "      <td>303.563308</td>\n",
       "      <td>307.652656</td>\n",
       "      <td>9</td>\n",
       "      <td>95276587</td>\n",
       "      <td>True</td>\n",
       "    </tr>\n",
       "  </tbody>\n",
       "</table>\n",
       "</div>"
      ],
      "text/plain": [
       "              gene  statistic         pvalue            FDR      beta cond  \\\n",
       "snps                                                                         \n",
       "7:43989516  UBE2D4        inf  2.225074e-308  2.733331e-304  0.682570    G   \n",
       "9:78853916   PCSK5        inf  2.225074e-308  2.733331e-304  1.617403    G   \n",
       "9:78854489   PCSK5        inf  2.225074e-308  2.733331e-304  1.617403    G   \n",
       "9:78855343   PCSK5        inf  2.225074e-308  2.733331e-304  1.617403    G   \n",
       "9:95276587    IPPK        inf  2.225074e-308  2.733331e-304  1.832980    G   \n",
       "\n",
       "             ct            BH   hg38_snps   hg19_snps  abs(beta)   -log10FDR  \\\n",
       "snps                                                                           \n",
       "7:43989516  pDC  1.744412e-10  7:43949917  7:43989516   0.682570  303.563308   \n",
       "9:78853916  pDC  3.610933e-08  9:76239000  9:78853916   1.617403  303.563308   \n",
       "9:78854489  pDC  3.593489e-08  9:76239573  9:78854489   1.617403  303.563308   \n",
       "9:78855343  pDC  3.576045e-08  9:76240427  9:78855343   1.617403  303.563308   \n",
       "9:95276587  pDC  3.558601e-08  9:92514305  9:95276587   1.832980  303.563308   \n",
       "\n",
       "               -log10p hg19_snp_chrom  hg19_snp_pos  BH_sig  \n",
       "snps                                                         \n",
       "7:43989516  307.652656              7      43989516    True  \n",
       "9:78853916  307.652656              9      78853916    True  \n",
       "9:78854489  307.652656              9      78854489    True  \n",
       "9:78855343  307.652656              9      78855343    True  \n",
       "9:95276587  307.652656              9      95276587    True  "
      ]
     },
     "execution_count": 13,
     "metadata": {},
     "output_type": "execute_result"
    }
   ],
   "source": [
    "mateqtl_df.head()"
   ]
  },
  {
   "cell_type": "code",
   "execution_count": 14,
   "metadata": {},
   "outputs": [],
   "source": [
    "unique_eQTLs = (mateqtl_df['cond'].str[:] + ':' + \n",
    "                mateqtl_df['ct'].str[:] + ':' + \n",
    "                mateqtl_df.index.str[:] + ':' + \n",
    "                mateqtl_df['gene'].str[:]).reset_index(drop=True)"
   ]
  },
  {
   "cell_type": "code",
   "execution_count": 15,
   "metadata": {},
   "outputs": [
    {
     "data": {
      "application/vnd.jupyter.widget-view+json": {
       "model_id": "fe4c1df902434efe90619f3146da7b5c",
       "version_major": 2,
       "version_minor": 0
      },
      "text/plain": [
       "  0%|          | 0/4396 [00:00<?, ?it/s]"
      ]
     },
     "metadata": {},
     "output_type": "display_data"
    }
   ],
   "source": [
    "repeated = dict()\n",
    "for i in tqdm(np.argwhere(unique_eQTLs.duplicated(keep=False).values).flatten()):\n",
    "    eQTL = unique_eQTLs.iloc[i]\n",
    "    if unique_eQTLs.iloc[i] in repeated.keys():\n",
    "        unique_eQTLs.iloc[i] = unique_eQTLs.iloc[i] + '-' + str(repeated[eQTL])\n",
    "        repeated[eQTL] += 1\n",
    "    else:\n",
    "        repeated[eQTL] = 0 "
   ]
  },
  {
   "cell_type": "markdown",
   "metadata": {},
   "source": [
    "Grab unique eQTLs:"
   ]
  },
  {
   "cell_type": "markdown",
   "metadata": {},
   "source": [
    "Okay, on a per condition-celltype basis, there are sometimes repeated locus-gene combinations. The only way the same locus and gene combination would be reported twice is in the case of multiallelic sites. Although I've confirmed that at most there are 3 per duplicated eQTL (which would make sense for multi-allelic sites), the alleles were not reported in the matrix eQTL results and I haven't checked the input VCF to confirm. In any case, I need to find those and label them differently with a suffix."
   ]
  },
  {
   "cell_type": "code",
   "execution_count": 7,
   "metadata": {},
   "outputs": [],
   "source": [
    "mateqtl_df['hg19_snps:gene_unique'] = unique_eQTLs.str.split(':').str[2:].str.join(':').values"
   ]
  },
  {
   "cell_type": "code",
   "execution_count": 9,
   "metadata": {},
   "outputs": [],
   "source": [
    "cols_to_keep = ['-log10p']\n",
    "cols_to_pivot = ['cond', 'ct']"
   ]
  },
  {
   "cell_type": "code",
   "execution_count": 10,
   "metadata": {},
   "outputs": [],
   "source": [
    "mds = mateqtl_df.sort_values(by=['hg19_snp_chrom', 'hg19_snp_pos'])[cols_to_keep + cols_to_pivot + ['hg19_snps:gene_unique']].reset_index(drop=True) # mds = mateqtl_df_sorted\n",
    "# get TypeError: cannot insert an item into a CategoricalIndex that is not already an existing category\n",
    "# at the pivot() command further below if cond and ct are categorical type, so converting back to str\n",
    "for col in ['cond', 'ct']:\n",
    "    mds[col] = mds[col].astype(str)"
   ]
  },
  {
   "cell_type": "markdown",
   "metadata": {},
   "source": [
    "Intermediate export if not enough free memory:"
   ]
  },
  {
   "cell_type": "code",
   "execution_count": 11,
   "metadata": {},
   "outputs": [],
   "source": [
    "# # mds.to_pickle(prefix_eqtl + 'mateqtl/pkls/mds.pkl')\n",
    "# mds = pd.read_pickle(prefix_eqtl + 'mateqtl/pkls/mds.pkl')"
   ]
  },
  {
   "cell_type": "markdown",
   "metadata": {},
   "source": [
    "Reduce memory usage before the next cell if necessary:"
   ]
  },
  {
   "cell_type": "code",
   "execution_count": 12,
   "metadata": {},
   "outputs": [],
   "source": [
    "# mds['-log10p'] = mds['-log10p'].astype(np.float32)"
   ]
  },
  {
   "cell_type": "markdown",
   "metadata": {},
   "source": [
    "Create `mdsr`:"
   ]
  },
  {
   "cell_type": "code",
   "execution_count": 13,
   "metadata": {},
   "outputs": [],
   "source": [
    "mdsr = mds.set_index(['hg19_snps:gene_unique'] + cols_to_pivot, append=True) # mdsr = mateqtl_df_sorted_reindexed"
   ]
  },
  {
   "cell_type": "code",
   "execution_count": null,
   "metadata": {},
   "outputs": [],
   "source": [
    "mdsr = mdsr.unstack(level='ct', fill_value=0)\n",
    "mdsr = mdsr.unstack(level='cond', fill_value=0)"
   ]
  },
  {
   "cell_type": "markdown",
   "metadata": {},
   "source": [
    "Further reduce memory if not enough:"
   ]
  },
  {
   "cell_type": "code",
   "execution_count": null,
   "metadata": {},
   "outputs": [],
   "source": [
    "mdsr = mdsr.astype(np.float16)"
   ]
  },
  {
   "cell_type": "code",
   "execution_count": null,
   "metadata": {},
   "outputs": [],
   "source": [
    "mdsr = mdsr.groupby('hg19_snps:gene_unique').sum()"
   ]
  },
  {
   "cell_type": "markdown",
   "metadata": {},
   "source": [
    "Intermediate export if not enough free memory:"
   ]
  },
  {
   "cell_type": "code",
   "execution_count": null,
   "metadata": {},
   "outputs": [],
   "source": [
    "# # mdsr.to_pickle(prefix_eqtl + 'mateqtl/pkls/mdsr.pkl')\n",
    "# mdsr = pd.read_pickle(prefix_eqtl + 'mateqtl/pkls/mdsr.pkl')"
   ]
  },
  {
   "cell_type": "code",
   "execution_count": null,
   "metadata": {},
   "outputs": [],
   "source": [
    "df_join = mdsr.index.str.split(':', expand=True).to_frame().set_index(mdsr.index)\n",
    "df_join[[0, 1]] = df_join[[0, 1]].astype(int)"
   ]
  },
  {
   "cell_type": "code",
   "execution_count": null,
   "metadata": {},
   "outputs": [],
   "source": [
    "df_join.columns = ['snp_chrom', 'snp_pos', 'gene']"
   ]
  },
  {
   "cell_type": "code",
   "execution_count": null,
   "metadata": {},
   "outputs": [],
   "source": [
    "for r in tqdm(repeated):\n",
    "    r_idx = \":\".join(r.split(\":\")[2:])\n",
    "    for i in it.count():\n",
    "        try:\n",
    "            gene_name = df_join.loc[r_idx + '-' + str(i), 'gene']\n",
    "            df_join.loc[r_idx + '-' + str(i), 'gene'] = '-'.join(gene_name.split('-')[:-1])\n",
    "        except KeyError:\n",
    "            break"
   ]
  },
  {
   "cell_type": "code",
   "execution_count": null,
   "metadata": {},
   "outputs": [],
   "source": [
    "df_join.columns = pd.MultiIndex.from_product([df_join.columns, [''], ['']])"
   ]
  },
  {
   "cell_type": "code",
   "execution_count": null,
   "metadata": {},
   "outputs": [],
   "source": [
    "mdsr = mdsr.join(df_join)"
   ]
  },
  {
   "cell_type": "code",
   "execution_count": null,
   "metadata": {},
   "outputs": [],
   "source": [
    "mdsr = mdsr.sort_values(by=['snp_chrom', 'snp_pos'])"
   ]
  },
  {
   "cell_type": "markdown",
   "metadata": {},
   "source": [
    "## Export"
   ]
  },
  {
   "cell_type": "code",
   "execution_count": 16,
   "metadata": {},
   "outputs": [],
   "source": [
    "# unique_eQTLs.to_pickle(prefix_eqtl + 'mateqtl/pkls/unique_eQTLs.pkl')\n",
    "unique_eQTLs = pd.read_pickle(prefix_eqtl + 'mateqtl/pkls/unique_eQTLs.pkl')"
   ]
  },
  {
   "cell_type": "code",
   "execution_count": 13,
   "metadata": {},
   "outputs": [],
   "source": [
    "# mdsr.to_pickle(prefix_eqtl + 'mateqtl/pkls/mdsr.pkl')\n",
    "mdsr = pd.read_pickle(prefix_eqtl + 'mateqtl/pkls/mdsr.pkl')"
   ]
  },
  {
   "cell_type": "markdown",
   "metadata": {},
   "source": [
    "# Pseudobulks"
   ]
  },
  {
   "cell_type": "code",
   "execution_count": 4,
   "metadata": {},
   "outputs": [],
   "source": [
    "pbulk_dir = prefix_eqtl + 'mateqtl/pbulks/'\n",
    "pbulk_fnames = ! ls $pbulk_dir"
   ]
  },
  {
   "cell_type": "code",
   "execution_count": 5,
   "metadata": {},
   "outputs": [],
   "source": [
    "pbulk_fnames_split = [i.split('.')[0] for i in pbulk_fnames if i.endswith('.expr')]\n",
    "pbulk_combos = [tuple(i.split('_', 1)) for i in pbulk_fnames_split]"
   ]
  },
  {
   "cell_type": "code",
   "execution_count": 6,
   "metadata": {},
   "outputs": [],
   "source": [
    "pbulks = dict()\n",
    "for cond in np.unique([i[0] for i in pbulk_combos]):\n",
    "    pbulks[cond] = dict()"
   ]
  },
  {
   "cell_type": "code",
   "execution_count": 7,
   "metadata": {},
   "outputs": [
    {
     "data": {
      "application/vnd.jupyter.widget-view+json": {
       "model_id": "2f53989551bc4824a5918512396f0740",
       "version_major": 2,
       "version_minor": 0
      },
      "text/plain": [
       "  0%|          | 0/78 [00:00<?, ?it/s]"
      ]
     },
     "metadata": {},
     "output_type": "display_data"
    }
   ],
   "source": [
    "for comb in tqdm(pbulk_combos):\n",
    "    pbulks[comb[0]][comb[1]] = pd.read_csv(pbulk_dir + '_'.join(comb) + '.expr', sep='\\t', index_col=0)"
   ]
  },
  {
   "cell_type": "markdown",
   "metadata": {},
   "source": [
    "## Adjustments"
   ]
  },
  {
   "cell_type": "markdown",
   "metadata": {},
   "source": [
    "Map names:"
   ]
  },
  {
   "cell_type": "code",
   "execution_count": 8,
   "metadata": {},
   "outputs": [],
   "source": [
    "exp_id_subject_mapper = dict(zip(vcf.var['exp_id'], vcf.var_names))"
   ]
  },
  {
   "cell_type": "markdown",
   "metadata": {},
   "source": [
    "Rename columns in `pbulks`, subset to common_names by removing `nan`s."
   ]
  },
  {
   "cell_type": "code",
   "execution_count": 9,
   "metadata": {},
   "outputs": [
    {
     "data": {
      "application/vnd.jupyter.widget-view+json": {
       "model_id": "ff80ab082c7d48f18f2a936c8da60de5",
       "version_major": 2,
       "version_minor": 0
      },
      "text/plain": [
       "  0%|          | 0/6 [00:00<?, ?it/s]"
      ]
     },
     "metadata": {},
     "output_type": "display_data"
    }
   ],
   "source": [
    "for cond in tqdm(pbulks):\n",
    "    for ct in pbulks[cond]:\n",
    "        pbulks[cond][ct].columns = pbulks[cond][ct].columns.astype(int)\n",
    "        pbulks[cond][ct].columns = pbulks[cond][ct].columns.map(exp_id_subject_mapper)\n",
    "        pbulks[cond][ct] = pbulks[cond][ct].loc[:, ~pbulks[cond][ct].columns.isna()].copy()"
   ]
  },
  {
   "cell_type": "markdown",
   "metadata": {},
   "source": [
    "## Export"
   ]
  },
  {
   "cell_type": "code",
   "execution_count": 10,
   "metadata": {},
   "outputs": [],
   "source": [
    "# with open(prefix_eqtl + 'mateqtl/pkls/pbulks.pkl', 'wb') as file:\n",
    "#     pkl.dump(pbulks, file, protocol=4)\n",
    "\n",
    "with open(prefix_eqtl + 'mateqtl/pkls/pbulks.pkl', 'rb') as file:\n",
    "    pbulks = pkl.load(file)"
   ]
  }
 ],
 "metadata": {
  "kernelspec": {
   "display_name": "clue",
   "language": "python",
   "name": "clue"
  },
  "language_info": {
   "codemirror_mode": {
    "name": "ipython",
    "version": 3
   },
   "file_extension": ".py",
   "mimetype": "text/x-python",
   "name": "python",
   "nbconvert_exporter": "python",
   "pygments_lexer": "ipython3",
   "version": "3.6.10"
  }
 },
 "nbformat": 4,
 "nbformat_minor": 4
}
