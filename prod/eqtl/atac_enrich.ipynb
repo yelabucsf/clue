{
 "cells": [
  {
   "cell_type": "markdown",
   "metadata": {},
   "source": [
    "# Introduction"
   ]
  },
  {
   "cell_type": "markdown",
   "metadata": {},
   "source": [
    "Not comfortable publishing this... the enrichment is not robust."
   ]
  },
  {
   "cell_type": "markdown",
   "metadata": {},
   "source": [
    "# Setup"
   ]
  },
  {
   "cell_type": "code",
   "execution_count": 734,
   "metadata": {},
   "outputs": [],
   "source": [
    "import pandas as pd\n",
    "import pybedtools\n",
    "import seaborn as sns\n",
    "import matplotlib.pyplot as plt\n",
    "import matplotlib as mpl\n",
    "import scanpy as sc\n",
    "import scipy.stats as stats\n",
    "import numpy as np\n",
    "from tqdm.notebook import tqdm\n",
    "\n",
    "import re\n",
    "from functools import reduce\n",
    "import itertools as it\n",
    "import pickle as pkl\n",
    "\n",
    "\n",
    "from sklearn.cluster import KMeans\n",
    "from sklearn import metrics\n",
    "from scipy.spatial.distance import cdist"
   ]
  },
  {
   "cell_type": "code",
   "execution_count": 2,
   "metadata": {},
   "outputs": [],
   "source": [
    "mountpoint = '/data/clue/'\n",
    "prefix_pks = mountpoint + 'amo/atac/peaks/'\n",
    "prefix_eqtl = mountpoint + 'prod/eqtl/'"
   ]
  },
  {
   "cell_type": "code",
   "execution_count": 423,
   "metadata": {},
   "outputs": [],
   "source": [
    "cts_enrich = ['T4_Naive', 'B_cells', 'myeloid_cells']"
   ]
  },
  {
   "cell_type": "markdown",
   "metadata": {},
   "source": [
    "## Definitions"
   ]
  },
  {
   "cell_type": "code",
   "execution_count": 424,
   "metadata": {},
   "outputs": [],
   "source": [
    "def filter_vals(df, group_name, id_name, filter_name, top_num=None, thresh=None, groups=None):\n",
    "    '''\n",
    "    filter_name is used to further filter the group-specific values\n",
    "    top_num keeps the highest _n_ values in df[group_name]\n",
    "    thresh, a single value or dict of values with df[group_name].unique() as keys, keeps the values with df[group_name] > _n_\n",
    "    '''\n",
    "    thresh_None = isinstance(thresh, type(None))\n",
    "    top_num_None = isinstance(top_num, type(None))\n",
    "    filtered = list()\n",
    "    if sum([top_num_None, thresh_None]) != 1:\n",
    "        raise(ValueError, \"Must provide either thresh or top_num.\")\n",
    "    \n",
    "    if isinstance(groups, type(None)):\n",
    "        unique_groups = df[group_name].unique()\n",
    "    else:\n",
    "        unique_groups = groups\n",
    "    \n",
    "    if thresh_None and type(top_num) != dict:\n",
    "        top_num = dict(it.product(unique_groups, [top_num]))\n",
    "    elif top_num_None and type(thresh) != dict:\n",
    "        thresh = dict(it.product(unique_groups, [thresh]))\n",
    "    for g in unique_groups:\n",
    "        sub_df = df[df[group_name] == g]\n",
    "        if thresh_None:\n",
    "            sub_df = sub_df.sort_values(by=filter_name, ascending=False)[:top_num[g]]\n",
    "        else:\n",
    "            sub_df = sub_df[sub_df[filter_name] > thresh[g]]\n",
    "        filtered.append(sub_df)\n",
    "    return pd.concat(filtered, axis=0)"
   ]
  },
  {
   "cell_type": "code",
   "execution_count": 425,
   "metadata": {},
   "outputs": [],
   "source": [
    "def find_specific_vals(labels, list_of_arrays, pbar=False):\n",
    "    '''\n",
    "    labels is a list of labels for each group\n",
    "    list_of_arrays is a list of arrays, where each array is from a group in the same order as labels\n",
    "    '''\n",
    "    labels = list(cts_enrich)\n",
    "    array_dict = dict(zip(labels, list_of_arrays))\n",
    "    specific = dict()\n",
    "    if pbar:\n",
    "        for label, other_labels in tqdm([(label, set(labels).difference({label})) for label in labels]):\n",
    "            union_of_other = reduce(np.union1d, [array_dict[o_label] for o_label in other_labels])\n",
    "            specific[label] = np.setdiff1d(array_dict[label], union_of_other)\n",
    "    else:\n",
    "        for label, other_labels in [(label, set(labels).difference({label})) for label in labels]:\n",
    "            union_of_other = reduce(np.union1d, [array_dict[o_label] for o_label in other_labels])\n",
    "            specific[label] = np.setdiff1d(array_dict[label], union_of_other)\n",
    "    return specific"
   ]
  },
  {
   "cell_type": "code",
   "execution_count": 426,
   "metadata": {},
   "outputs": [],
   "source": [
    "def get_specific_df(df, group_name, id_name, specific_vals, filter_vals_params=None, groups=None):\n",
    "    '''\n",
    "    Filter your df to group_name-specific, high-quality values.\n",
    "    df is a pd.DataFrame with group_name, id_name, and filter name as columns\n",
    "    df is first split by unique values in group name\n",
    "    id_name and specific_vals is used to find the values specific to that group\n",
    "    specific_vals is a dict with df[group_name].unique() as keys and a subset of df[id_name].unique() as values\n",
    "    '''\n",
    "    specific = list()\n",
    "    if isinstance(groups, type(None)):\n",
    "        unique_groups = df[group_name].unique()\n",
    "    else:\n",
    "        unique_groups = groups\n",
    "    for g in unique_groups:\n",
    "        sub_df = df[df[group_name] == g]\n",
    "        sub_df = sub_df[sub_df[id_name].isin(specific_vals[g])]\n",
    "        specific.append(sub_df)\n",
    "    return pd.concat(specific, axis=0)"
   ]
  },
  {
   "cell_type": "code",
   "execution_count": 737,
   "metadata": {},
   "outputs": [],
   "source": [
    "with open(mountpoint + 'ct5_colors.pkl', 'rb') as file:\n",
    "    ct_colors = pkl.load(file)"
   ]
  },
  {
   "cell_type": "markdown",
   "metadata": {},
   "source": [
    "# Broad Enrichment using Published Peak Set"
   ]
  },
  {
   "cell_type": "markdown",
   "metadata": {},
   "source": [
    "## Lupus Paper Peaks"
   ]
  },
  {
   "cell_type": "markdown",
   "metadata": {},
   "source": [
    "Load in the peaks used in [Calderon et al](https://web.stanford.edu/group/pritchardlab/dataArchive/immune_atlas_web/index.html). Because we don't have exact matches to their cell types, I will use `T4_Naive` as a proxy for `T`."
   ]
  },
  {
   "cell_type": "code",
   "execution_count": 441,
   "metadata": {},
   "outputs": [],
   "source": [
    "mapper = {\n",
    "    'T': 'T4_Naive',\n",
    "    'B': 'B_cells',\n",
    "    'myeloid_resting': 'myeloid_cells'\n",
    "}\n",
    "\n",
    "rev_mapper = dict([(v, k) for k, v in mapper.items()])"
   ]
  },
  {
   "cell_type": "code",
   "execution_count": 440,
   "metadata": {},
   "outputs": [],
   "source": [
    "atac_specific = pd.read_csv('/data/codec2/external/simple_sorted_atac_lineage_groups.txt.gz', sep='\\t') # Pretty sure these are hg19\n",
    "atac_specific = atac_specific[atac_specific['group'].isin(['T', 'B', 'myeloid_resting'])]\n",
    "atac_specific['group'] = atac_specific['group'].replace(mapper)\n",
    "atac_specific.columns = ['chrom', 'start', 'end', 'group']\n",
    "genome = 'hg19'"
   ]
  },
  {
   "cell_type": "markdown",
   "metadata": {},
   "source": [
    "## Find Specific eQTLs"
   ]
  },
  {
   "cell_type": "markdown",
   "metadata": {},
   "source": [
    "### `MatrixeQTL` results"
   ]
  },
  {
   "cell_type": "code",
   "execution_count": 428,
   "metadata": {},
   "outputs": [],
   "source": [
    "mateqtl_df = pd.read_pickle(prefix_eqtl + 'mateqtl/pkls/mateqtl_df.pkl')\n",
    "mateqtl_df_C = mateqtl_df[mateqtl_df['cond'] == 'C'].copy()"
   ]
  },
  {
   "cell_type": "code",
   "execution_count": 429,
   "metadata": {},
   "outputs": [],
   "source": [
    "fdr_thresh = 1\n",
    "mateqtl_df_C_sig = mateqtl_df_C[mateqtl_df_C['FDR'] < fdr_thresh].copy()"
   ]
  },
  {
   "cell_type": "code",
   "execution_count": 430,
   "metadata": {},
   "outputs": [],
   "source": [
    "snp_map = dict([(v, k) for (k, v) in dict(enumerate(mateqtl_df_C_sig['hg19_snps'].unique())).items()])\n",
    "mateqtl_df_C_sig['snp_id'] = mateqtl_df_C_sig['hg19_snps'].map(snp_map)"
   ]
  },
  {
   "cell_type": "code",
   "execution_count": 431,
   "metadata": {},
   "outputs": [
    {
     "data": {
      "text/plain": [
       "myeloid_cells    291929\n",
       "T4_Naive         289926\n",
       "T4_Mem           274396\n",
       "T8_Naive         274120\n",
       "B_cells          264434\n",
       "NK_T_Tox         262149\n",
       "Name: cell_type, dtype: int64"
      ]
     },
     "execution_count": 431,
     "metadata": {},
     "output_type": "execute_result"
    }
   ],
   "source": [
    "mateqtl_df_C_sig['cell_type'].value_counts()"
   ]
  },
  {
   "cell_type": "code",
   "execution_count": 432,
   "metadata": {},
   "outputs": [],
   "source": [
    "specific_vals = find_specific_vals(cts_enrich, [mateqtl_df_C_sig[mateqtl_df_C_sig['cell_type'] == g]['snp_id'].values for g in cts_enrich])"
   ]
  },
  {
   "cell_type": "code",
   "execution_count": 433,
   "metadata": {},
   "outputs": [],
   "source": [
    "eqtl_specific = get_specific_df(mateqtl_df_C_sig, 'cell_type', 'snp_id', specific_vals, groups=cts_enrich)"
   ]
  },
  {
   "cell_type": "code",
   "execution_count": 434,
   "metadata": {},
   "outputs": [
    {
     "data": {
      "text/plain": [
       "myeloid_cells    164736\n",
       "T4_Naive         159853\n",
       "B_cells          146241\n",
       "Name: cell_type, dtype: int64"
      ]
     },
     "execution_count": 434,
     "metadata": {},
     "output_type": "execute_result"
    }
   ],
   "source": [
    "eqtl_specific['cell_type'].value_counts()"
   ]
  },
  {
   "cell_type": "code",
   "execution_count": 435,
   "metadata": {},
   "outputs": [
    {
     "data": {
      "application/vnd.jupyter.widget-view+json": {
       "model_id": "dc2614ce65b64c6e90b82664dfb4f1cf",
       "version_major": 2,
       "version_minor": 0
      },
      "text/plain": [
       "  0%|          | 0/3 [00:00<?, ?it/s]"
      ]
     },
     "metadata": {},
     "output_type": "display_data"
    },
    {
     "data": {
      "application/vnd.jupyter.widget-view+json": {
       "model_id": "b630639b31274bb488a6e86161a9dc5e",
       "version_major": 2,
       "version_minor": 0
      },
      "text/plain": [
       "  0%|          | 0/3 [00:00<?, ?it/s]"
      ]
     },
     "metadata": {},
     "output_type": "display_data"
    },
    {
     "data": {
      "application/vnd.jupyter.widget-view+json": {
       "model_id": "3988fa0db422426e800d92077a9a8dc8",
       "version_major": 2,
       "version_minor": 0
      },
      "text/plain": [
       "  0%|          | 0/3 [00:00<?, ?it/s]"
      ]
     },
     "metadata": {},
     "output_type": "display_data"
    }
   ],
   "source": [
    "enrichment_result = list()\n",
    "merged_lens = list()\n",
    "\n",
    "\n",
    "for ct in cts_enrich:\n",
    "\n",
    "    # Result is straight from Matrix eQTL\n",
    "    result = eqtl_specific[(eqtl_specific['cell_type'] == ct)].copy()\n",
    "    result['chr'] = 'chr' + result[genome + '_snps'].str.split(':').str[0]\n",
    "    result['pos'] = result[genome + '_snps'].str.split(':').str[1]\n",
    "\n",
    "    for group in tqdm(atac_specific.group.drop_duplicates()):\n",
    "\n",
    "        atac_group = atac_specific.query('group == \"{}\"'.format(group))[['chrom', 'start', 'end', 'group']]\n",
    "\n",
    "        snp_locs = result[['chr', 'pos']].copy()\n",
    "        snp_locs['end'] = snp_locs['pos'].astype(int)+1\n",
    "\n",
    "        a = pybedtools.BedTool.from_dataframe(snp_locs)\n",
    "        b = pybedtools.BedTool.from_dataframe(atac_group)\n",
    "\n",
    "        c = b.intersect(a)\n",
    "        try:\n",
    "            c = c.to_dataframe()\n",
    "        except pd.errors.EmptyDataError:\n",
    "            enrichment_result.append((ct, group, 1))\n",
    "            continue\n",
    "        c.columns=['chr', 'pos', 'end', 'group']\n",
    "\n",
    "        c['pos'] = c['pos'].astype(str)\n",
    "\n",
    "        merged = result.merge(c, on=['chr', 'pos'], how='left')\n",
    "\n",
    "        merged['in_peak'] = merged['group'] == group\n",
    "        \n",
    "\n",
    "        pv = stats.mannwhitneyu(-np.log(merged.query('in_peak')['pvalue']), -np.log(merged.query('~in_peak')['pvalue']))[1]\n",
    "        \n",
    "        merged_lens.append((ct, group, merged.shape[0]))\n",
    "        enrichment_result.append((ct, group, pv))"
   ]
  },
  {
   "cell_type": "code",
   "execution_count": 436,
   "metadata": {},
   "outputs": [],
   "source": [
    "enrichment_df = -np.log10(pd.DataFrame(enrichment_result, columns=['ct', 'group', 'pv']).pivot(index=['ct'], columns=['group']))\n",
    "merged_lens_df = pd.DataFrame(merged_lens, columns=['ct', 'group', 'pv']).pivot(index=['ct'], columns=['group']).fillna(0)"
   ]
  },
  {
   "cell_type": "code",
   "execution_count": 437,
   "metadata": {},
   "outputs": [],
   "source": [
    "enrichment_df.columns = enrichment_df.columns.droplevel(0)\n",
    "merged_lens_df.columns = merged_lens_df.columns.droplevel(0)"
   ]
  },
  {
   "cell_type": "code",
   "execution_count": 438,
   "metadata": {},
   "outputs": [],
   "source": [
    "enrichment_df = enrichment_df.rename(columns=rev_mapper)\n",
    "merged_lens_df = merged_lens_df.rename(columns=rev_mapper)"
   ]
  },
  {
   "cell_type": "code",
   "execution_count": 442,
   "metadata": {},
   "outputs": [
    {
     "data": {
      "text/html": [
       "<div>\n",
       "<style scoped>\n",
       "    .dataframe tbody tr th:only-of-type {\n",
       "        vertical-align: middle;\n",
       "    }\n",
       "\n",
       "    .dataframe tbody tr th {\n",
       "        vertical-align: top;\n",
       "    }\n",
       "\n",
       "    .dataframe thead th {\n",
       "        text-align: right;\n",
       "    }\n",
       "</style>\n",
       "<table border=\"1\" class=\"dataframe\">\n",
       "  <thead>\n",
       "    <tr style=\"text-align: right;\">\n",
       "      <th>group</th>\n",
       "      <th>B</th>\n",
       "      <th>T</th>\n",
       "      <th>myeloid_resting</th>\n",
       "    </tr>\n",
       "    <tr>\n",
       "      <th>ct</th>\n",
       "      <th></th>\n",
       "      <th></th>\n",
       "      <th></th>\n",
       "    </tr>\n",
       "  </thead>\n",
       "  <tbody>\n",
       "    <tr>\n",
       "      <th>B_cells</th>\n",
       "      <td>146345</td>\n",
       "      <td>146379</td>\n",
       "      <td>146307</td>\n",
       "    </tr>\n",
       "    <tr>\n",
       "      <th>T4_Naive</th>\n",
       "      <td>160013</td>\n",
       "      <td>160055</td>\n",
       "      <td>159929</td>\n",
       "    </tr>\n",
       "    <tr>\n",
       "      <th>myeloid_cells</th>\n",
       "      <td>164880</td>\n",
       "      <td>164918</td>\n",
       "      <td>164894</td>\n",
       "    </tr>\n",
       "  </tbody>\n",
       "</table>\n",
       "</div>"
      ],
      "text/plain": [
       "group               B       T  myeloid_resting\n",
       "ct                                            \n",
       "B_cells        146345  146379           146307\n",
       "T4_Naive       160013  160055           159929\n",
       "myeloid_cells  164880  164918           164894"
      ]
     },
     "execution_count": 442,
     "metadata": {},
     "output_type": "execute_result"
    }
   ],
   "source": [
    "merged_lens_df"
   ]
  },
  {
   "cell_type": "code",
   "execution_count": 445,
   "metadata": {},
   "outputs": [
    {
     "data": {
      "image/png": "[encoded data removed]",
      "text/plain": [
       "<Figure size 360x360 with 2 Axes>"
      ]
     },
     "metadata": {
      "needs_background": "light"
     },
     "output_type": "display_data"
    }
   ],
   "source": [
    "fig, ax = plt.subplots(1, 1, figsize=(5, 5))\n",
    "sns.heatmap(merged_lens_df, annot=True, ax=ax);"
   ]
  },
  {
   "cell_type": "code",
   "execution_count": 450,
   "metadata": {},
   "outputs": [
    {
     "data": {
      "image/png": "[encoded data removed]",
      "text/plain": [
       "<Figure size 360x360 with 4 Axes>"
      ]
     },
     "metadata": {
      "needs_background": "light"
     },
     "output_type": "display_data"
    }
   ],
   "source": [
    "sns.clustermap(enrichment_df, \n",
    "#                standard_scale=1,\n",
    "               row_cluster=False, col_cluster=False, figsize=(5, 5));"
   ]
  },
  {
   "cell_type": "markdown",
   "metadata": {},
   "source": [
    "# Find eQTL-controlled Genes Specific to Each Cell Type"
   ]
  },
  {
   "cell_type": "markdown",
   "metadata": {},
   "source": [
    "## Filter `mateqtl_df`"
   ]
  },
  {
   "cell_type": "code",
   "execution_count": 472,
   "metadata": {},
   "outputs": [],
   "source": [
    "cts = ['T8_Naive', 'T4_Naive', 'T4_Mem', 'NK_T_Tox', 'B_cells', 'myeloid_cells']"
   ]
  },
  {
   "cell_type": "code",
   "execution_count": 627,
   "metadata": {},
   "outputs": [],
   "source": [
    "gene_group_dict = dict()"
   ]
  },
  {
   "cell_type": "markdown",
   "metadata": {},
   "source": [
    "Define a new `pd.DataFrame` that only contains eQTLs with high absolute beta in the control conditions."
   ]
  },
  {
   "cell_type": "code",
   "execution_count": 469,
   "metadata": {},
   "outputs": [
    {
     "name": "stdout",
     "output_type": "stream",
     "text": [
      "0.030786512928954887\n"
     ]
    },
    {
     "data": {
      "image/png": "[encoded data removed]",
      "text/plain": [
       "<Figure size 432x288 with 1 Axes>"
      ]
     },
     "metadata": {
      "needs_background": "light"
     },
     "output_type": "display_data"
    }
   ],
   "source": [
    "n, bins, patches = plt.hist(mateqtl_df_C['abs(beta)'].values, bins=np.logspace(np.log10(mateqtl_df_C['abs(beta)'].min()), np.log10(1.2), 150));\n",
    "max_bin = bins[np.argsort(n)[-3:]].mean()\n",
    "plt.vlines(max_bin, *plt.ylim(), color='red');\n",
    "plt.xscale('log')\n",
    "print(max_bin)"
   ]
  },
  {
   "cell_type": "code",
   "execution_count": 740,
   "metadata": {},
   "outputs": [],
   "source": [
    "fdr_thresh = 1\n",
    "beta_thresh = 0.0308\n",
    "revised_kmeans_order = [5, 7, 1, 2, 0, 4, 8, 6, 9, 10, 3]\n",
    "cpg_sum_thresh = 5\n",
    "n_clusts = 11\n",
    "meanlogcpg_thresh = 2\n",
    "gene_group_dict = dict(zip(cts, revised_kmeans_order))\n",
    "peak_score_thresh = 5\n",
    "top_num_peaks = 25000"
   ]
  },
  {
   "cell_type": "code",
   "execution_count": null,
   "metadata": {},
   "outputs": [],
   "source": [
    "fdr_thresh = 0.5\n",
    "beta_thresh = 0.05\n",
    "revised_kmeans_order = [2, 5, 7, 6, 0, 4, 8, 3, 1, 9]\n",
    "cpg_sum_thresh = 5\n",
    "n_clusts = 10\n",
    "meanlogcpg_thresh = 1\n",
    "gene_group_dict = dict(zip(cts, revised_kmeans_order))\n",
    "peak_score_thresh = 6\n",
    "top_num_peaks = 25000"
   ]
  },
  {
   "cell_type": "code",
   "execution_count": 741,
   "metadata": {},
   "outputs": [],
   "source": [
    "mateqtl_df_filt = pd.concat([mateqtl_df_C[((mateqtl_df_C['cell_type'] == ct) & \n",
    "                                           (mateqtl_df_C['FDR'] < fdr_thresh) & \n",
    "                                           (mateqtl_df_C['abs(beta)'] > beta_thresh)\n",
    "                                          )] for ct in cts]).sort_values(by='abs(beta)', ascending=False)"
   ]
  },
  {
   "cell_type": "code",
   "execution_count": 742,
   "metadata": {},
   "outputs": [
    {
     "data": {
      "text/plain": [
       "myeloid_cells    208260\n",
       "B_cells          186552\n",
       "T8_Naive         149752\n",
       "T4_Mem           127544\n",
       "NK_T_Tox         124634\n",
       "T4_Naive          66342\n",
       "Name: cell_type, dtype: int64"
      ]
     },
     "execution_count": 742,
     "metadata": {},
     "output_type": "execute_result"
    }
   ],
   "source": [
    "mateqtl_df_filt['cell_type'].value_counts()"
   ]
  },
  {
   "cell_type": "code",
   "execution_count": 743,
   "metadata": {},
   "outputs": [],
   "source": [
    "mdf_top = pd.concat([mateqtl_df_filt[mateqtl_df_filt['cell_type'] == ct].iloc[:15000] for ct in cts])"
   ]
  },
  {
   "cell_type": "code",
   "execution_count": 744,
   "metadata": {},
   "outputs": [],
   "source": [
    "counts_per_gene = mdf_top.groupby(['gene', 'cell_type']).count().iloc[:,0].rename('count').to_frame().unstack('cell_type').fillna(0).T.astype(int)\n",
    "counts_per_gene.index = counts_per_gene.index.droplevel()"
   ]
  },
  {
   "cell_type": "code",
   "execution_count": 745,
   "metadata": {},
   "outputs": [
    {
     "data": {
      "image/png": "[encoded data removed]",
      "text/plain": [
       "<Figure size 432x288 with 1 Axes>"
      ]
     },
     "metadata": {
      "needs_background": "light"
     },
     "output_type": "display_data"
    }
   ],
   "source": [
    "plt.hist(counts_per_gene.sum().values, bins=np.logspace(np.log10(1), np.log10(1500), 500));\n",
    "plt.xscale('log');\n",
    "plt.yscale('log');\n",
    "plt.xlabel('Number of genes')\n",
    "plt.ylabel('Number of significant eQTLs per gene\\n(FDR < %s, |β| > %s)' % (str(fdr_thresh), '50%ile'));"
   ]
  },
  {
   "cell_type": "code",
   "execution_count": 746,
   "metadata": {},
   "outputs": [],
   "source": [
    "counts_per_gene = counts_per_gene.loc[:, counts_per_gene.sum() >= cpg_sum_thresh].copy() # hiscore"
   ]
  },
  {
   "cell_type": "code",
   "execution_count": 747,
   "metadata": {},
   "outputs": [
    {
     "data": {
      "image/png": "[encoded data removed]",
      "text/plain": [
       "<Figure size 432x288 with 1 Axes>"
      ]
     },
     "metadata": {
      "needs_background": "light"
     },
     "output_type": "display_data"
    }
   ],
   "source": [
    "log_cpg = np.log1p(counts_per_gene.loc[cts])\n",
    "plt.hist(log_cpg.values.flatten(), bins=100);\n",
    "plt.yscale('log');"
   ]
  },
  {
   "cell_type": "code",
   "execution_count": 748,
   "metadata": {},
   "outputs": [
    {
     "data": {
      "image/png": "[encoded data removed]",
      "text/plain": [
       "<Figure size 1080x288 with 4 Axes>"
      ]
     },
     "metadata": {
      "needs_background": "light"
     },
     "output_type": "display_data"
    }
   ],
   "source": [
    "sns.clustermap(log_cpg, row_cluster=False, figsize=(15,4));"
   ]
  },
  {
   "cell_type": "markdown",
   "metadata": {},
   "source": [
    "## Clustering by KMeans"
   ]
  },
  {
   "cell_type": "markdown",
   "metadata": {},
   "source": [
    "Code for finding optimal k taken from [here](https://pythonprogramminglanguage.com/kmeans-elbow-method/)."
   ]
  },
  {
   "cell_type": "code",
   "execution_count": 749,
   "metadata": {},
   "outputs": [
    {
     "data": {
      "application/vnd.jupyter.widget-view+json": {
       "model_id": "30d9446e5dfa4f61a9eb5d240b9cdc2b",
       "version_major": 2,
       "version_minor": 0
      },
      "text/plain": [
       "  0%|          | 0/20 [00:00<?, ?it/s]"
      ]
     },
     "metadata": {},
     "output_type": "display_data"
    }
   ],
   "source": [
    "distortions = list()\n",
    "# K = np.concatenate(([1],np.arange(5,55,5)))\n",
    "K = np.concatenate(([1],np.arange(2,40,2)))\n",
    "for k in tqdm(K):\n",
    "    kmeanModel = KMeans(n_clusters=k).fit(log_cpg.T)\n",
    "    kmeanModel.fit(log_cpg.T)\n",
    "    distortions.append(sum(np.min(cdist(log_cpg.T, kmeanModel.cluster_centers_, 'euclidean'), axis=1)) / log_cpg.T.shape[0])"
   ]
  },
  {
   "cell_type": "code",
   "execution_count": 750,
   "metadata": {},
   "outputs": [],
   "source": [
    "rise = [distortions[i] - distortions[i - 1] for i in range(1, len(K))]\n",
    "run = [K[i] - K[i - 1] for i in range(1, len(K))]\n",
    "slopes = np.array([-i/j for i, j in zip(rise, run)])"
   ]
  },
  {
   "cell_type": "code",
   "execution_count": 751,
   "metadata": {},
   "outputs": [
    {
     "data": {
      "image/png": "[encoded data removed]",
      "text/plain": [
       "<Figure size 432x432 with 2 Axes>"
      ]
     },
     "metadata": {
      "needs_background": "light"
     },
     "output_type": "display_data"
    }
   ],
   "source": [
    "# Plot the elbow\n",
    "fig, ax = plt.subplots(2, 1, figsize=(6,6))\n",
    "ax[0].plot(K, distortions - min(distortions) + 1, 'bx-')\n",
    "ax[0].set_ylabel('Distortion')\n",
    "ax[0].set_yscale('log')\n",
    "ax[1].bar(K[1:], slopes, width=2, color='k', alpha=0.5)\n",
    "ax[1].set_ylabel('Slopes');"
   ]
  },
  {
   "cell_type": "code",
   "execution_count": 752,
   "metadata": {},
   "outputs": [],
   "source": [
    "kmeans = KMeans(n_clusters=n_clusts,\n",
    "                random_state=0\n",
    "               ).fit(log_cpg.T)"
   ]
  },
  {
   "cell_type": "code",
   "execution_count": 753,
   "metadata": {},
   "outputs": [],
   "source": [
    "kmeans_color_dict = dict(zip(range(n_clusts),sc.pl.palettes.default_20*2))"
   ]
  },
  {
   "cell_type": "code",
   "execution_count": 754,
   "metadata": {},
   "outputs": [
    {
     "data": {
      "image/png": "[encoded data removed]",
      "text/plain": [
       "<Figure size 1080x288 with 5 Axes>"
      ]
     },
     "metadata": {
      "needs_background": "light"
     },
     "output_type": "display_data"
    }
   ],
   "source": [
    "cg = sns.clustermap(log_cpg.iloc[:,np.argsort(kmeans.labels_)], figsize=(15,4), \n",
    "                    row_cluster=False,\n",
    "                    col_cluster=False,\n",
    "                    col_colors=list(map(lambda x: kmeans_color_dict[x], np.sort(kmeans.labels_))),\n",
    "                   );\n",
    "# plt.tight_layout()"
   ]
  },
  {
   "cell_type": "markdown",
   "metadata": {},
   "source": [
    "## Mean CPG per Gene Group"
   ]
  },
  {
   "cell_type": "code",
   "execution_count": 755,
   "metadata": {},
   "outputs": [],
   "source": [
    "groups = np.arange(n_clusts)\n",
    "groups_genes = dict(zip(groups, [log_cpg.columns[kmeans.labels_ == i].values for i in range(n_clusts)]))"
   ]
  },
  {
   "cell_type": "code",
   "execution_count": 756,
   "metadata": {},
   "outputs": [
    {
     "name": "stderr",
     "output_type": "stream",
     "text": [
      "/home/ssm-user/miniconda3/envs/clue/lib/python3.6/site-packages/matplotlib/colors.py:263: VisibleDeprecationWarning: Creating an ndarray from ragged nested sequences (which is a list-or-tuple of lists-or-tuples-or ndarrays with different lengths or shapes) is deprecated. If you meant to do this, you must specify 'dtype=object' when creating the ndarray\n",
      "  c = np.array(c)\n"
     ]
    },
    {
     "data": {
      "image/png": "[encoded data removed]",
      "text/plain": [
       "<Figure size 864x396 with 2 Axes>"
      ]
     },
     "metadata": {},
     "output_type": "display_data"
    }
   ],
   "source": [
    "plt.figure(figsize=(12, 5.5))\n",
    "mean_log_cpg = pd.concat([log_cpg[groups_genes[group]].mean(1) for group in groups], axis=1)\n",
    "ax = sns.heatmap(mean_log_cpg)\n",
    "for text in ax.get_xticklabels():\n",
    "    text.set_color(mpl.colors.hex2color(kmeans_color_dict[int(text.get_text())]));\n",
    "    text.set_fontweight(1000)"
   ]
  },
  {
   "cell_type": "markdown",
   "metadata": {},
   "source": [
    "Cool, looks like a mixture of cell-type specific vs shared effects."
   ]
  },
  {
   "cell_type": "markdown",
   "metadata": {},
   "source": [
    "I want to show the ones that are specific on the left and move more and more to shared gene groups on the right."
   ]
  },
  {
   "cell_type": "code",
   "execution_count": 757,
   "metadata": {},
   "outputs": [
    {
     "data": {
      "image/png": "[encoded data removed]",
      "text/plain": [
       "<Figure size 288x144 with 1 Axes>"
      ]
     },
     "metadata": {
      "needs_background": "light"
     },
     "output_type": "display_data"
    }
   ],
   "source": [
    "plt.figure(figsize=(4,2))\n",
    "plt.hist(mean_log_cpg.values.flatten(), bins=25);"
   ]
  },
  {
   "cell_type": "code",
   "execution_count": 758,
   "metadata": {},
   "outputs": [
    {
     "data": {
      "text/plain": [
       "0     1\n",
       "1     1\n",
       "2     1\n",
       "4     1\n",
       "5     1\n",
       "7     1\n",
       "6     2\n",
       "8     2\n",
       "9     2\n",
       "10    5\n",
       "3     6\n",
       "dtype: int64"
      ]
     },
     "execution_count": 758,
     "metadata": {},
     "output_type": "execute_result"
    }
   ],
   "source": [
    "kmeans_sorted = (mean_log_cpg > meanlogcpg_thresh).sum(0).sort_values()\n",
    "kmeans_order = kmeans_sorted.index\n",
    "kmeans_sorted\n",
    "\n",
    "# kmeans_sorted = (mean_log_cpg > 1.1).sum(0).sort_values()\n",
    "# kmeans_order = kmeans_sorted.index\n",
    "# kmeans_sorted"
   ]
  },
  {
   "cell_type": "markdown",
   "metadata": {},
   "source": [
    "A `mean_log_cpg` of `2` seems to be a good threshold for finding groups of genes that are specific to every cell type at least once."
   ]
  },
  {
   "cell_type": "code",
   "execution_count": 759,
   "metadata": {},
   "outputs": [
    {
     "name": "stderr",
     "output_type": "stream",
     "text": [
      "/home/ssm-user/miniconda3/envs/clue/lib/python3.6/site-packages/matplotlib/colors.py:263: VisibleDeprecationWarning: Creating an ndarray from ragged nested sequences (which is a list-or-tuple of lists-or-tuples-or ndarrays with different lengths or shapes) is deprecated. If you meant to do this, you must specify 'dtype=object' when creating the ndarray\n",
      "  c = np.array(c)\n"
     ]
    },
    {
     "data": {
      "image/png": "[encoded data removed]",
      "text/plain": [
       "<Figure size 792x324 with 2 Axes>"
      ]
     },
     "metadata": {},
     "output_type": "display_data"
    }
   ],
   "source": [
    "plt.figure(figsize=(11, 4.5))\n",
    "ax = sns.heatmap(mean_log_cpg[kmeans_order])\n",
    "for text in ax.get_xticklabels():\n",
    "    text.set_color(mpl.colors.hex2color(kmeans_color_dict[int(text.get_text())]));\n",
    "    text.set_fontweight(1000)"
   ]
  },
  {
   "cell_type": "markdown",
   "metadata": {},
   "source": [
    "Now let's rearrange the columns to make it looks prettier."
   ]
  },
  {
   "cell_type": "code",
   "execution_count": 760,
   "metadata": {},
   "outputs": [
    {
     "name": "stderr",
     "output_type": "stream",
     "text": [
      "/home/ssm-user/miniconda3/envs/clue/lib/python3.6/site-packages/matplotlib/colors.py:263: VisibleDeprecationWarning: Creating an ndarray from ragged nested sequences (which is a list-or-tuple of lists-or-tuples-or ndarrays with different lengths or shapes) is deprecated. If you meant to do this, you must specify 'dtype=object' when creating the ndarray\n",
      "  c = np.array(c)\n"
     ]
    },
    {
     "data": {
      "image/png": "[encoded data removed]",
      "text/plain": [
       "<Figure size 684x288 with 2 Axes>"
      ]
     },
     "metadata": {},
     "output_type": "display_data"
    }
   ],
   "source": [
    "mean_log_cpg = mean_log_cpg[revised_kmeans_order]\n",
    "plt.figure(figsize=(9.5, 4))\n",
    "ax = sns.heatmap(mean_log_cpg)\n",
    "for text in ax.get_xticklabels():\n",
    "    text.set_color(mpl.colors.hex2color(kmeans_color_dict[int(text.get_text())]));\n",
    "    text.set_fontweight(1000)"
   ]
  },
  {
   "cell_type": "code",
   "execution_count": 761,
   "metadata": {},
   "outputs": [
    {
     "data": {
      "image/png": "[encoded data removed]",
      "text/plain": [
       "<Figure size 576x288 with 5 Axes>"
      ]
     },
     "metadata": {
      "needs_background": "light"
     },
     "output_type": "display_data"
    }
   ],
   "source": [
    "cg = sns.clustermap(log_cpg[[i for j in [groups_genes[group] for group in revised_kmeans_order] for i in j]], figsize=(8,4), \n",
    "                    row_cluster=False,\n",
    "                    col_cluster=False,\n",
    "                    col_colors=list(map(lambda x: kmeans_color_dict[x], \n",
    "                                        np.repeat(revised_kmeans_order, pd.Series(kmeans.labels_).value_counts().loc[revised_kmeans_order].values))),\n",
    "                   );"
   ]
  },
  {
   "cell_type": "markdown",
   "metadata": {},
   "source": [
    "## Generate Peaks"
   ]
  },
  {
   "cell_type": "code",
   "execution_count": 762,
   "metadata": {},
   "outputs": [],
   "source": [
    "score_name = 'score'"
   ]
  },
  {
   "cell_type": "code",
   "execution_count": 763,
   "metadata": {},
   "outputs": [
    {
     "data": {
      "application/vnd.jupyter.widget-view+json": {
       "model_id": "26989288f0884e1ba70ec1210da7911b",
       "version_major": 2,
       "version_minor": 0
      },
      "text/plain": [
       "  0%|          | 0/6 [00:00<?, ?it/s]"
      ]
     },
     "metadata": {},
     "output_type": "display_data"
    }
   ],
   "source": [
    "narrow_peaks = dict()\n",
    "for ct in tqdm(cts):\n",
    "    narrow_peaks[ct] = pd.read_csv(prefix_pks + 'macs2/ctrl_by_ct_noctrlset/%s/%s_peaks.narrowPeak' % (ct, ct), sep='\\t', header=None)\n",
    "    narrow_peaks[ct].columns = ['chrom', 'chromStart', 'chromEnd', 'name', 'score', 'strand', 'rawScore', 'spectrumId', 'peptideRank', 'peptideRepeatCount']\n",
    "    narrow_peaks[ct]['peak_num'] = narrow_peaks[ct]['name'].str.split('_').str[-1].replace(r'[a-z]', '', regex=True).astype(int)\n",
    "    narrow_peaks[ct].set_index('peak_num', inplace=True)\n",
    "    narrow_peaks[ct].sort_values(by=['peak_num', score_name], ascending=False, inplace=True)"
   ]
  },
  {
   "cell_type": "markdown",
   "metadata": {},
   "source": [
    "Peaks are returned from `macs2` with scores, visualized here."
   ]
  },
  {
   "cell_type": "code",
   "execution_count": 764,
   "metadata": {},
   "outputs": [
    {
     "data": {
      "image/png": "[encoded data removed]",
      "text/plain": [
       "<Figure size 1296x576 with 6 Axes>"
      ]
     },
     "metadata": {
      "needs_background": "light"
     },
     "output_type": "display_data"
    }
   ],
   "source": [
    "fig, ax = plt.subplots(2, 3, figsize=(18, 8))\n",
    "for ct, ax in zip(cts, np.ravel(ax)):\n",
    "    ax.hist(np.log1p(narrow_peaks[ct][score_name].values), bins=100); #np.logspace(np.log10(nzmin), np.log10(1), 50))\n",
    "    ax.set_title(ct)"
   ]
  },
  {
   "cell_type": "markdown",
   "metadata": {},
   "source": [
    "Threshold peaks, keeping only those with scores above 5."
   ]
  },
  {
   "cell_type": "code",
   "execution_count": 765,
   "metadata": {},
   "outputs": [
    {
     "name": "stdout",
     "output_type": "stream",
     "text": [
      "('T8_Naive', 39949)\n",
      "('T4_Naive', 53808)\n",
      "('T4_Mem', 55077)\n",
      "('NK_T_Tox', 56282)\n",
      "('B_cells', 56597)\n",
      "('myeloid_cells', 91116)\n"
     ]
    }
   ],
   "source": [
    "# narrow peaks, hiscore, deduped\n",
    "nphsd = dict()\n",
    "for ct in cts:\n",
    "    nphsd[ct] = narrow_peaks[ct][~narrow_peaks[ct].index.duplicated()].sort_values(by='peak_num')\n",
    "    nphsd[ct] = nphsd[ct][np.log1p(nphsd[ct][score_name]) > peak_score_thresh]\n",
    "    print((ct, len(nphsd[ct])))"
   ]
  },
  {
   "cell_type": "markdown",
   "metadata": {},
   "source": [
    "Now I will take the top $n$ peaks from each cell type."
   ]
  },
  {
   "cell_type": "code",
   "execution_count": 766,
   "metadata": {},
   "outputs": [
    {
     "name": "stdout",
     "output_type": "stream",
     "text": [
      "[25000, 25000, 25000, 25000, 25000, 25000]\n"
     ]
    }
   ],
   "source": [
    "# narrow peaks, hiscore, deduped, top_peaks\n",
    "nphsdt = dict()\n",
    "for ct in cts:\n",
    "    \n",
    "    nphsdt[ct] = nphsd[ct].loc[nphsd[ct].sort_values(by=score_name, ascending=False).index[:top_num_peaks]]\n",
    "#     nphsdt[ct] = nphsd[ct].loc[np.log1p(nphsd[ct][score_name]) > threshs[ct]].copy()\n",
    "    \n",
    "print([len(nphsdt[ct]) for ct in cts])"
   ]
  },
  {
   "cell_type": "markdown",
   "metadata": {},
   "source": [
    "Visualize the scores again for these top peaks."
   ]
  },
  {
   "cell_type": "code",
   "execution_count": 767,
   "metadata": {},
   "outputs": [
    {
     "data": {
      "image/png": "[encoded data removed]",
      "text/plain": [
       "<Figure size 1296x576 with 6 Axes>"
      ]
     },
     "metadata": {
      "needs_background": "light"
     },
     "output_type": "display_data"
    }
   ],
   "source": [
    "fig, ax = plt.subplots(2, 3, figsize=(18, 8))\n",
    "for ct, ax in zip(cts, np.ravel(ax)):\n",
    "    ax.hist(np.log1p(nphsd[ct][score_name].values), bins=100); #np.logspace(np.log10(nzmin), np.log10(1), 50))\n",
    "    ax.set_title(ct)"
   ]
  },
  {
   "cell_type": "markdown",
   "metadata": {},
   "source": [
    "Make `.bed` files for the peaks."
   ]
  },
  {
   "cell_type": "code",
   "execution_count": 768,
   "metadata": {},
   "outputs": [],
   "source": [
    "for ct in cts:\n",
    "    nphsdt[ct]['rank'] = range(len(nphsdt[ct]))"
   ]
  },
  {
   "cell_type": "code",
   "execution_count": 769,
   "metadata": {},
   "outputs": [],
   "source": [
    "nphsdt_beds = dict() # narrow peaks, hiscore, deduped\n",
    "for ct in cts:\n",
    "    nphsdt_beds[ct] = pybedtools.BedTool([pybedtools.Interval(*i) for i in nphsdt[ct][['chrom', 'chromStart', 'chromEnd', 'name']].values])"
   ]
  },
  {
   "cell_type": "code",
   "execution_count": 770,
   "metadata": {},
   "outputs": [],
   "source": [
    "nphsdt['all'] = pd.concat([nphsdt[ct] for ct in cts]).sort_values(by=['chrom', 'chromStart']).reset_index(drop=True)"
   ]
  },
  {
   "cell_type": "code",
   "execution_count": 771,
   "metadata": {},
   "outputs": [],
   "source": [
    "nphsdt_beds['all'] = pybedtools.BedTool([pybedtools.Interval(*i) for i in nphsdt['all'][['chrom', 'chromStart', 'chromEnd', 'name']].values])"
   ]
  },
  {
   "cell_type": "markdown",
   "metadata": {},
   "source": [
    "# Intersect Cell type-specific Peaks and eQTLs"
   ]
  },
  {
   "cell_type": "code",
   "execution_count": 772,
   "metadata": {},
   "outputs": [],
   "source": [
    "sort_by = 'abs(beta)'"
   ]
  },
  {
   "cell_type": "code",
   "execution_count": 773,
   "metadata": {},
   "outputs": [
    {
     "data": {
      "application/vnd.jupyter.widget-view+json": {
       "model_id": "34050e2887d4468cb2ba0eeefea9e307",
       "version_major": 2,
       "version_minor": 0
      },
      "text/plain": [
       "  0%|          | 0/6 [00:00<?, ?it/s]"
      ]
     },
     "metadata": {},
     "output_type": "display_data"
    }
   ],
   "source": [
    "vcounts = list()\n",
    "for ct in tqdm(cts):\n",
    "    gene_group = gene_group_dict[ct]\n",
    "    df = mateqtl_df_filt[((mateqtl_df_filt['gene'].isin(groups_genes[gene_group])) & \n",
    "                             (mateqtl_df_filt['cell_type'] == ct))].sort_values(by=sort_by, ascending=False)\n",
    "    genes_loci = dict()\n",
    "    genes_spread = dict()\n",
    "    \n",
    "    genes_to_use = df['gene'].unique()\n",
    "#     genes_to_use = s_ratios[ct][s_ratios[ct] > 0].index\n",
    "\n",
    "    for gene in genes_to_use:\n",
    "        genes_loci[gene] = [int(i[1]) for i in df[(df['gene'] == gene) & (df['cell_type'] == ct)].index.str.split(':')]\n",
    "        region = df[df['gene'] == gene].index[0].split(':')[0] + ':' + str(min(genes_loci[gene])) + '-' + str(max(genes_loci[gene]))\n",
    "        genes_spread[gene] = (region, max(genes_loci[gene]) - min(genes_loci[gene]))\n",
    "    genes_regions_as_list = [(re.split(':|-', genes_spread[i][0]), i) for i in genes_spread]\n",
    "\n",
    "    ct_eqtl_genes_bed = pybedtools.BedTool([pybedtools.Interval(*['chr' + k[0], int(k[1]), int(k[2]), i]) for k, i in genes_regions_as_list])\n",
    "    names = ['peak_chrom', 'peak_start', 'peak_end', 'peak_name', 'eqtl_chrom', 'eqtl_start', 'eqtl_end', 'gene_name']\n",
    "    \n",
    "    isec_df = nphsdt_beds['all'].intersect(ct_eqtl_genes_bed, wo=True).to_dataframe(disable_auto_names=True, header=None)\n",
    "    isec_df = isec_df.loc[:, ~isec_df.apply(lambda x: (x == '.').all())]\n",
    "    isec_df.drop(columns=[12], inplace=True)\n",
    "    isec_df.columns = names\n",
    "    isec_df.set_index('peak_name', inplace=True)\n",
    "    \n",
    "    nphsdt_ct_isec = nphsdt['all'].set_index('name').join(isec_df['gene_name']).dropna()\n",
    "    nphsdt_ct_isec['cell_type'] = nphsdt_ct_isec.index.str[::-1].str.split('_', n=2).str[-1].str[::-1]\n",
    "    nphsdt_ct_isec['cell_type'].value_counts()\n",
    "    vcounts.append(nphsdt_ct_isec['cell_type'].value_counts())"
   ]
  },
  {
   "cell_type": "code",
   "execution_count": 780,
   "metadata": {},
   "outputs": [
    {
     "data": {
      "image/png": "[encoded data removed]",
      "text/plain": [
       "<Figure size 360x360 with 4 Axes>"
      ]
     },
     "metadata": {
      "needs_background": "light"
     },
     "output_type": "display_data"
    }
   ],
   "source": [
    "cg = sns.clustermap(pd.concat(vcounts, axis=1, keys=cts).loc[cts], \n",
    "                    standard_scale=1, \n",
    "                    row_cluster=False, col_cluster=False, figsize=(5,5));\n",
    "cg.ax_heatmap.set_xticklabels(cts, rotation=45, ha='right');\n",
    "cg.ax_cbar.set_visible(True)"
   ]
  },
  {
   "cell_type": "code",
   "execution_count": 775,
   "metadata": {},
   "outputs": [],
   "source": [
    "ct_groups = [[ct] for ct in cts] + [\n",
    "    ['B_cells', 'myeloid_cells'],\n",
    "    ['T4_Naive', 'T8_Naive', 'T4_Mem', 'NK_T_Tox'],\n",
    "    ['T4_Naive', 'T8_Naive', 'T4_Mem', 'NK_T_Tox', 'B_cells'],\n",
    "    ['T4_Naive', 'T8_Naive', 'T4_Mem', 'NK_T_Tox', 'B_cells', 'myeloid_cells']\n",
    "]"
   ]
  },
  {
   "cell_type": "code",
   "execution_count": 776,
   "metadata": {},
   "outputs": [
    {
     "data": {
      "application/vnd.jupyter.widget-view+json": {
       "model_id": "d719c25919014d06bffc5f0efabdc55d",
       "version_major": 2,
       "version_minor": 0
      },
      "text/plain": [
       "  0%|          | 0/10 [00:00<?, ?it/s]"
      ]
     },
     "metadata": {},
     "output_type": "display_data"
    }
   ],
   "source": [
    "vcounts = list()\n",
    "for ct_group, gene_group in tqdm(zip(ct_groups, revised_kmeans_order), total=len(ct_groups)):\n",
    "    df = mateqtl_df_filt[((mateqtl_df_filt['gene'].isin(groups_genes[gene_group])) & \n",
    "                             (mateqtl_df_filt['cell_type'].isin(ct_group)))].sort_values(by=sort_by, ascending=False)\n",
    "    genes_loci = dict()\n",
    "    genes_spread = dict()\n",
    "    for gene in df['gene'].unique():\n",
    "        genes_loci[gene] = [int(i[1]) for i in df[(df['gene'] == gene) & (df['cell_type'].isin(ct_group))].index.str.split(':')]\n",
    "        region = df[df['gene'] == gene].index[0].split(':')[0] + ':' + str(min(genes_loci[gene])) + '-' + str(max(genes_loci[gene]))\n",
    "        genes_spread[gene] = (region, max(genes_loci[gene]) - min(genes_loci[gene]))\n",
    "    genes_regions_as_list = [(re.split(':|-', genes_spread[i][0]), i) for i in genes_spread]\n",
    "\n",
    "    ct_eqtl_genes_bed = pybedtools.BedTool([pybedtools.Interval(*['chr' + k[0], int(k[1]), int(k[2]), i]) for k, i in genes_regions_as_list])\n",
    "    names = ['peak_chrom', 'peak_start', 'peak_end', 'peak_name', 'eqtl_chrom', 'eqtl_start', 'eqtl_end', 'gene_name']\n",
    "    \n",
    "    isec_df = nphsdt_beds['all'].intersect(ct_eqtl_genes_bed, wo=True).to_dataframe(disable_auto_names=True, header=None)\n",
    "    isec_df = isec_df.loc[:, ~isec_df.apply(lambda x: (x == '.').all())]\n",
    "    isec_df.drop(columns=[12], inplace=True)\n",
    "    isec_df.columns = names\n",
    "    isec_df.set_index('peak_name', inplace=True)\n",
    "    \n",
    "    nphsdt_ct_isec = nphsdt['all'].set_index('name').join(isec_df['gene_name']).dropna()\n",
    "    nphsdt_ct_isec['cell_type'] = nphsdt_ct_isec.index.str[::-1].str.split('_', n=2).str[-1].str[::-1]\n",
    "    nphsdt_ct_isec['cell_type'].value_counts()\n",
    "    vcounts.append(nphsdt_ct_isec['cell_type'].value_counts())"
   ]
  },
  {
   "cell_type": "code",
   "execution_count": 777,
   "metadata": {},
   "outputs": [],
   "source": [
    "vcounts_df = pd.concat(vcounts, axis=1, keys=['__'.join(ct_group) for ct_group in ct_groups]).loc[cts]"
   ]
  },
  {
   "cell_type": "code",
   "execution_count": 778,
   "metadata": {},
   "outputs": [],
   "source": [
    "vcounts_std = vcounts_df.copy()\n",
    "vcounts_std = vcounts_std.subtract(vcounts_std.min(axis=0), axis=1)\n",
    "vcounts_std = vcounts_std.divide(vcounts_std.max(axis=0), axis=1)"
   ]
  },
  {
   "cell_type": "code",
   "execution_count": 779,
   "metadata": {},
   "outputs": [
    {
     "name": "stderr",
     "output_type": "stream",
     "text": [
      "/home/ssm-user/miniconda3/envs/clue/lib/python3.6/site-packages/matplotlib/colors.py:263: VisibleDeprecationWarning: Creating an ndarray from ragged nested sequences (which is a list-or-tuple of lists-or-tuples-or ndarrays with different lengths or shapes) is deprecated. If you meant to do this, you must specify 'dtype=object' when creating the ndarray\n",
      "  c = np.array(c)\n"
     ]
    },
    {
     "data": {
      "image/png": "[encoded data removed]",
      "text/plain": [
       "<Figure size 648x432 with 5 Axes>"
      ]
     },
     "metadata": {
      "needs_background": "light"
     },
     "output_type": "display_data"
    }
   ],
   "source": [
    "sns.clustermap(vcounts_std, row_cluster=False, col_cluster=False, figsize=(9,6), \n",
    "               xticklabels=False,\n",
    "               col_colors=[[ct_colors[ct] if (ct in i) else '#EBECF0' for i in ct_groups] for ct in cts]\n",
    "              );"
   ]
  },
  {
   "cell_type": "markdown",
   "metadata": {},
   "source": []
  },
  {
   "cell_type": "code",
   "execution_count": null,
   "metadata": {},
   "outputs": [],
   "source": []
  },
  {
   "cell_type": "code",
   "execution_count": null,
   "metadata": {},
   "outputs": [],
   "source": []
  },
  {
   "cell_type": "code",
   "execution_count": null,
   "metadata": {},
   "outputs": [],
   "source": []
  },
  {
   "cell_type": "code",
   "execution_count": null,
   "metadata": {},
   "outputs": [],
   "source": []
  },
  {
   "cell_type": "code",
   "execution_count": null,
   "metadata": {},
   "outputs": [],
   "source": []
  },
  {
   "cell_type": "code",
   "execution_count": null,
   "metadata": {},
   "outputs": [],
   "source": []
  },
  {
   "cell_type": "code",
   "execution_count": null,
   "metadata": {},
   "outputs": [],
   "source": []
  },
  {
   "cell_type": "markdown",
   "metadata": {},
   "source": [
    "# Extra"
   ]
  },
  {
   "cell_type": "markdown",
   "metadata": {},
   "source": [
    "## Find Specific ATAC Peaks"
   ]
  },
  {
   "cell_type": "markdown",
   "metadata": {},
   "source": [
    "Try different peaks sets, maybe it's something about the peak set I'm using?"
   ]
  },
  {
   "cell_type": "markdown",
   "metadata": {},
   "source": [
    "### Merged, Separate on Coverage"
   ]
  },
  {
   "cell_type": "markdown",
   "metadata": {},
   "source": [
    "Calling cell-type specific peaks is a difficult problem. Instead, I called on the merged dataset and then here I will separate out based on coverage."
   ]
  },
  {
   "cell_type": "code",
   "execution_count": 95,
   "metadata": {},
   "outputs": [],
   "source": [
    "atac = pd.concat([pd.read_csv(prefix_pks + 'downsamp/all_cts/%s_peaks_bam_count.bed' % ct, sep='\\t', header=None) for ct in cts_enrich], axis=0, keys=cts_enrich)\n",
    "genome = 'hg38'"
   ]
  },
  {
   "cell_type": "code",
   "execution_count": 96,
   "metadata": {},
   "outputs": [],
   "source": [
    "atac = atac.reset_index()\n",
    "atac.columns = ['group', 'peak_id', 'chrom', 'start', 'end', 'peak_name', 'score', 'strand', 'signalValue', 'pValue', 'qValue', 'summit', 'coverage']"
   ]
  },
  {
   "cell_type": "code",
   "execution_count": 97,
   "metadata": {},
   "outputs": [
    {
     "data": {
      "image/png": "[encoded data removed]",
      "text/plain": [
       "<Figure size 1800x504 with 6 Axes>"
      ]
     },
     "metadata": {
      "needs_background": "light"
     },
     "output_type": "display_data"
    }
   ],
   "source": [
    "threshs = [9e2, 9e2, 9e2, 9e2, 7e2]\n",
    "fig, ax = plt.subplots(2, 3, figsize=(25, 7))\n",
    "for ct, ax, thresh in zip(cts_enrich, np.ravel(ax), threshs):\n",
    "    ax.hist(atac[atac['group'] == ct]['coverage'], bins=np.logspace(np.log10(1), np.log10(35000), 200))\n",
    "    ax.vlines(thresh, *ax.get_ylim(), color='red', linestyle='--')\n",
    "    ax.set_xscale('log')\n",
    "    ax.set_title(ct)"
   ]
  },
  {
   "cell_type": "code",
   "execution_count": 122,
   "metadata": {},
   "outputs": [],
   "source": [
    "# filtered_vals = filter_vals(atac, 'group', 'peak_id', filter_name='coverage', thresh=dict(zip(cts_enrich,threshs)))\n",
    "filtered_vals = filter_vals(atac, 'group', 'peak_id', filter_name='coverage', thresh=1e2)"
   ]
  },
  {
   "cell_type": "code",
   "execution_count": 123,
   "metadata": {},
   "outputs": [
    {
     "data": {
      "text/plain": [
       "myeloid_cells    203451\n",
       "B_cells          194136\n",
       "T4_Mem           191517\n",
       "NK_T_Tox         187850\n",
       "T4_Naive         185928\n",
       "Name: group, dtype: int64"
      ]
     },
     "execution_count": 123,
     "metadata": {},
     "output_type": "execute_result"
    }
   ],
   "source": [
    "filtered_vals['group'].value_counts()"
   ]
  },
  {
   "cell_type": "code",
   "execution_count": 189,
   "metadata": {},
   "outputs": [],
   "source": [
    "specific_vals = find_specific_vals(cts_enrich, [filtered_vals[filtered_vals['group'] == g]['peak_id'].values for g in cts_enrich])"
   ]
  },
  {
   "cell_type": "code",
   "execution_count": 190,
   "metadata": {},
   "outputs": [
    {
     "name": "stdout",
     "output_type": "stream",
     "text": [
      "('T4_Naive', (4669,))\n",
      "('T4_Mem', (2006,))\n",
      "('NK_T_Tox', (6750,))\n",
      "('B_cells', (13296,))\n",
      "('myeloid_cells', (29522,))\n"
     ]
    }
   ],
   "source": [
    "for ct in cts_enrich:\n",
    "    print((ct, specific_vals[ct].shape))"
   ]
  },
  {
   "cell_type": "code",
   "execution_count": 191,
   "metadata": {},
   "outputs": [],
   "source": [
    "atac_specific = get_specific_df(atac, 'group', 'peak_id', specific_vals)"
   ]
  },
  {
   "cell_type": "code",
   "execution_count": 192,
   "metadata": {},
   "outputs": [
    {
     "data": {
      "text/plain": [
       "myeloid_cells    29522\n",
       "B_cells          13296\n",
       "NK_T_Tox          6750\n",
       "T4_Naive          4669\n",
       "T4_Mem            2006\n",
       "Name: group, dtype: int64"
      ]
     },
     "execution_count": 192,
     "metadata": {},
     "output_type": "execute_result"
    }
   ],
   "source": [
    "atac_specific['group'].value_counts()"
   ]
  },
  {
   "cell_type": "code",
   "execution_count": 193,
   "metadata": {},
   "outputs": [],
   "source": [
    "atac_specific = filter_vals(atac_specific, 'group', 'peak_id', filter_name='coverage', top_num=2000)"
   ]
  },
  {
   "cell_type": "code",
   "execution_count": 194,
   "metadata": {},
   "outputs": [
    {
     "data": {
      "text/plain": [
       "T4_Mem           2000\n",
       "T4_Naive         2000\n",
       "NK_T_Tox         2000\n",
       "myeloid_cells    2000\n",
       "B_cells          2000\n",
       "Name: group, dtype: int64"
      ]
     },
     "execution_count": 194,
     "metadata": {},
     "output_type": "execute_result"
    }
   ],
   "source": [
    "atac_specific['group'].value_counts()"
   ]
  },
  {
   "cell_type": "markdown",
   "metadata": {},
   "source": [
    "### Forgot How I Made These"
   ]
  },
  {
   "cell_type": "code",
   "execution_count": null,
   "metadata": {},
   "outputs": [],
   "source": [
    "# atac = pd.concat([pd.read_csv(prefix_pks + 'downsamp/%s/subsamp_no_P/C_%s_peaks_bam_count.bed' % (ct, ct), sep='\\t', header=None) for ct in cts_enrich], axis=0)\n",
    "# atac['group'] = atac[3].str.split('_merged_peak_').str[0]\n",
    "# atac.columns = ['chrom', 'start', 'end', 'peak_name', 'score', 'strand', 'signalValue', 'pValue', 'qValue', 'summit', 'coverage', 'group']\n",
    "genome = 'hg38'"
   ]
  },
  {
   "cell_type": "code",
   "execution_count": null,
   "metadata": {},
   "outputs": [],
   "source": [
    "# atac = pd.concat([pd.read_csv(prefix_pks + 'macs2/ctrl_by_ct/%s/%s_peaks.narrowPeak' % (ct, ct), sep='\\t', header=None) for ct in cts_enrich], axis=0)\n",
    "# atac['group'] = atac[3].str.split('_peak_').str[0]\n",
    "# atac.columns = ['chrom', 'start', 'end', 'name', 'score', 'strand', 'signalValue', 'pValue', 'qValue', 'peak', 'group']\n",
    "genome = 'hg38'"
   ]
  },
  {
   "cell_type": "code",
   "execution_count": null,
   "metadata": {},
   "outputs": [],
   "source": []
  },
  {
   "cell_type": "code",
   "execution_count": 328,
   "metadata": {},
   "outputs": [
    {
     "name": "stderr",
     "output_type": "stream",
     "text": [
      "/home/ssm-user/miniconda3/envs/clue/lib/python3.6/site-packages/IPython/core/interactiveshell.py:2714: DtypeWarning: Columns (5,6,8,10) have mixed types.Specify dtype option on import or set low_memory=False.\n",
      "  interactivity=interactivity, compiler=compiler, result=result)\n"
     ]
    }
   ],
   "source": [
    "nk_metasoft = pd.read_csv(prefix_eqtl + 'nk_metasoft_out.txt', sep='\\t')"
   ]
  },
  {
   "cell_type": "code",
   "execution_count": 345,
   "metadata": {},
   "outputs": [],
   "source": [
    "locs = nk_metasoft.index.get_level_values(0).str.split('_').str[0].str.split(':')"
   ]
  },
  {
   "cell_type": "code",
   "execution_count": 346,
   "metadata": {},
   "outputs": [],
   "source": [
    "locs1 = np.unique(np.array([':'.join(i) for i in locs]))"
   ]
  },
  {
   "cell_type": "code",
   "execution_count": 359,
   "metadata": {},
   "outputs": [],
   "source": [
    "locs1 = pd.Series(locs1)"
   ]
  },
  {
   "cell_type": "code",
   "execution_count": 371,
   "metadata": {},
   "outputs": [
    {
     "data": {
      "text/plain": [
       "0          10:100043981\n",
       "1          10:100044928\n",
       "2          10:100045000\n",
       "3          10:100045147\n",
       "4          10:100045166\n",
       "               ...     \n",
       "1796198      9:99802796\n",
       "1796199      9:99804997\n",
       "1796200      9:99805079\n",
       "1796201      9:99806169\n",
       "1796202      9:99806787\n",
       "Length: 1796203, dtype: object"
      ]
     },
     "execution_count": 371,
     "metadata": {},
     "output_type": "execute_result"
    }
   ],
   "source": [
    "locs1"
   ]
  },
  {
   "cell_type": "code",
   "execution_count": 339,
   "metadata": {},
   "outputs": [],
   "source": [
    "locs2 = np.unique(mateqtl_df_C.index.values)"
   ]
  },
  {
   "cell_type": "code",
   "execution_count": 360,
   "metadata": {},
   "outputs": [],
   "source": [
    "locs2 = pd.Series(locs2)"
   ]
  },
  {
   "cell_type": "code",
   "execution_count": 369,
   "metadata": {},
   "outputs": [
    {
     "name": "stdout",
     "output_type": "stream",
     "text": [
      "((38796,), (19642,))\n"
     ]
    }
   ],
   "source": [
    "print((locs1[locs1.str.split(':').str[0] == '22'].shape, locs2[locs2.str.split(':').str[0] == '22'].shape))"
   ]
  },
  {
   "cell_type": "code",
   "execution_count": 368,
   "metadata": {},
   "outputs": [
    {
     "data": {
      "text/plain": [
       "(20207,)"
      ]
     },
     "execution_count": 368,
     "metadata": {},
     "output_type": "execute_result"
    }
   ],
   "source": [
    "np.setdiff1d(locs1[locs1.str.split(':').str[0] == '22'], locs2[locs2.str.split(':').str[0] == '22'], assume_unique=True).shape"
   ]
  },
  {
   "cell_type": "code",
   "execution_count": 370,
   "metadata": {},
   "outputs": [
    {
     "data": {
      "text/plain": [
       "0          10:100043981\n",
       "1          10:100044928\n",
       "2          10:100045000\n",
       "3          10:100045147\n",
       "4          10:100045166\n",
       "               ...     \n",
       "1796198      9:99802796\n",
       "1796199      9:99804997\n",
       "1796200      9:99805079\n",
       "1796201      9:99806169\n",
       "1796202      9:99806787\n",
       "Length: 1796203, dtype: object"
      ]
     },
     "execution_count": 370,
     "metadata": {},
     "output_type": "execute_result"
    }
   ],
   "source": [
    "locs1"
   ]
  },
  {
   "cell_type": "code",
   "execution_count": 337,
   "metadata": {},
   "outputs": [
    {
     "ename": "KeyboardInterrupt",
     "evalue": "",
     "output_type": "error",
     "traceback": [
      "\u001b[0;31m---------------------------------------------------------------------------\u001b[0m",
      "\u001b[0;31mKeyboardInterrupt\u001b[0m                         Traceback (most recent call last)",
      "\u001b[0;32m<ipython-input-337-b74a451f56b0>\u001b[0m in \u001b[0;36m<module>\u001b[0;34m()\u001b[0m\n\u001b[0;32m----> 1\u001b[0;31m \u001b[0mnp\u001b[0m\u001b[0;34m.\u001b[0m\u001b[0mintersect1d\u001b[0m\u001b[0;34m(\u001b[0m\u001b[0mnp\u001b[0m\u001b[0;34m.\u001b[0m\u001b[0munique\u001b[0m\u001b[0;34m(\u001b[0m\u001b[0mmateqtl_df_C\u001b[0m\u001b[0;34m.\u001b[0m\u001b[0mindex\u001b[0m\u001b[0;34m.\u001b[0m\u001b[0mvalues\u001b[0m\u001b[0;34m)\u001b[0m\u001b[0;34m,\u001b[0m \u001b[0mnp\u001b[0m\u001b[0;34m.\u001b[0m\u001b[0munique\u001b[0m\u001b[0;34m(\u001b[0m\u001b[0mlocs\u001b[0m\u001b[0;34m)\u001b[0m\u001b[0;34m)\u001b[0m\u001b[0;34m\u001b[0m\u001b[0;34m\u001b[0m\u001b[0m\n\u001b[0m",
      "\u001b[0;32m<__array_function__ internals>\u001b[0m in \u001b[0;36mintersect1d\u001b[0;34m(*args, **kwargs)\u001b[0m\n",
      "\u001b[0;32m/home/ssm-user/miniconda3/envs/clue/lib/python3.6/site-packages/numpy/lib/arraysetops.py\u001b[0m in \u001b[0;36mintersect1d\u001b[0;34m(ar1, ar2, assume_unique, return_indices)\u001b[0m\n\u001b[1;32m    425\u001b[0m         \u001b[0maux\u001b[0m \u001b[0;34m=\u001b[0m \u001b[0maux\u001b[0m\u001b[0;34m[\u001b[0m\u001b[0maux_sort_indices\u001b[0m\u001b[0;34m]\u001b[0m\u001b[0;34m\u001b[0m\u001b[0;34m\u001b[0m\u001b[0m\n\u001b[1;32m    426\u001b[0m     \u001b[0;32melse\u001b[0m\u001b[0;34m:\u001b[0m\u001b[0;34m\u001b[0m\u001b[0;34m\u001b[0m\u001b[0m\n\u001b[0;32m--> 427\u001b[0;31m         \u001b[0maux\u001b[0m\u001b[0;34m.\u001b[0m\u001b[0msort\u001b[0m\u001b[0;34m(\u001b[0m\u001b[0;34m)\u001b[0m\u001b[0;34m\u001b[0m\u001b[0;34m\u001b[0m\u001b[0m\n\u001b[0m\u001b[1;32m    428\u001b[0m \u001b[0;34m\u001b[0m\u001b[0m\n\u001b[1;32m    429\u001b[0m     \u001b[0mmask\u001b[0m \u001b[0;34m=\u001b[0m \u001b[0maux\u001b[0m\u001b[0;34m[\u001b[0m\u001b[0;36m1\u001b[0m\u001b[0;34m:\u001b[0m\u001b[0;34m]\u001b[0m \u001b[0;34m==\u001b[0m \u001b[0maux\u001b[0m\u001b[0;34m[\u001b[0m\u001b[0;34m:\u001b[0m\u001b[0;34m-\u001b[0m\u001b[0;36m1\u001b[0m\u001b[0;34m]\u001b[0m\u001b[0;34m\u001b[0m\u001b[0;34m\u001b[0m\u001b[0m\n",
      "\u001b[0;31mKeyboardInterrupt\u001b[0m: "
     ]
    }
   ],
   "source": [
    "np.intersect1d(, np.unique(locs), assume_unique=True)"
   ]
  },
  {
   "cell_type": "code",
   "execution_count": 336,
   "metadata": {},
   "outputs": [
    {
     "data": {
      "text/plain": [
       "array(['10:100043981', '10:100044928', '10:100045000', ..., '9:99805079',\n",
       "       '9:99806169', '9:99806787'], dtype='<U12')"
      ]
     },
     "execution_count": 336,
     "metadata": {},
     "output_type": "execute_result"
    }
   ],
   "source": []
  },
  {
   "cell_type": "code",
   "execution_count": 83,
   "metadata": {},
   "outputs": [],
   "source": [
    "nk_t_tox = mateqtl_df[mateqtl_df['cell_type'] == 'NK_T_Tox']['hg19_snps'].values"
   ]
  },
  {
   "cell_type": "code",
   "execution_count": 84,
   "metadata": {},
   "outputs": [],
   "source": [
    "nk_t_tox = np.array(sorted(nk_t_tox))"
   ]
  },
  {
   "cell_type": "code",
   "execution_count": 89,
   "metadata": {},
   "outputs": [
    {
     "name": "stdout",
     "output_type": "stream",
     "text": [
      "((3379632,), (1600798,))\n"
     ]
    }
   ],
   "source": [
    "print((locs.shape, nk_t_tox.shape))"
   ]
  },
  {
   "cell_type": "code",
   "execution_count": 92,
   "metadata": {},
   "outputs": [
    {
     "data": {
      "text/plain": [
       "(24861,)"
      ]
     },
     "execution_count": 92,
     "metadata": {},
     "output_type": "execute_result"
    }
   ],
   "source": [
    "np.intersect1d(nk_t_tox[:100000], locs[:100000]).shape"
   ]
  },
  {
   "cell_type": "code",
   "execution_count": null,
   "metadata": {},
   "outputs": [],
   "source": []
  }
 ],
 "metadata": {
  "kernelspec": {
   "display_name": "clue",
   "language": "python",
   "name": "clue"
  },
  "language_info": {
   "codemirror_mode": {
    "name": "ipython",
    "version": 3
   },
   "file_extension": ".py",
   "mimetype": "text/x-python",
   "name": "python",
   "nbconvert_exporter": "python",
   "pygments_lexer": "ipython3",
   "version": "3.6.10"
  }
 },
 "nbformat": 4,
 "nbformat_minor": 4
}
