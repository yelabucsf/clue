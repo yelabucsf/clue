{
 "cells": [
  {
   "cell_type": "markdown",
   "metadata": {},
   "source": [
    "# Introduction\n",
    "Use this notebook to create the pickled version of the data for later loading in other notebooks."
   ]
  },
  {
   "cell_type": "markdown",
   "metadata": {},
   "source": [
    "# Setup"
   ]
  },
  {
   "cell_type": "code",
   "execution_count": 1,
   "metadata": {},
   "outputs": [],
   "source": [
    "import scanpy as sc\n",
    "import pandas as pd\n",
    "from IPython.display import display \n",
    "import numpy as np\n",
    "from scipy import sparse\n",
    "import matplotlib.pyplot as plt\n",
    "import matplotlib as mpl\n",
    "import pickle as pkl\n",
    "from tqdm.notebook import tqdm\n",
    "\n",
    "import subprocess\n",
    "import gzip\n",
    "import sys\n",
    "import os"
   ]
  },
  {
   "cell_type": "code",
   "execution_count": 2,
   "metadata": {},
   "outputs": [],
   "source": [
    "mountpoint = '/data/clue/'\n",
    "prefix_prod = mountpoint + 'prod/'\n",
    "prefix_pks = mountpoint + 'amo/atac/peaks/'\n",
    "prefix_eqtl = mountpoint + 'prod/eqtl/'"
   ]
  },
  {
   "cell_type": "markdown",
   "metadata": {},
   "source": [
    "## Functions"
   ]
  },
  {
   "cell_type": "code",
   "execution_count": 4,
   "metadata": {},
   "outputs": [],
   "source": [
    "def get_num_headerlines(vcf_path):\n",
    "    with gzip.open(vcf_path, 'rt') as file:\n",
    "        i = 0\n",
    "        for line in file:\n",
    "            if line[0] == '#':\n",
    "                i += 1\n",
    "            else:\n",
    "                break\n",
    "    return i"
   ]
  },
  {
   "cell_type": "code",
   "execution_count": 5,
   "metadata": {},
   "outputs": [],
   "source": [
    "def load_vcf(vcf_full_path):\n",
    "    # I HATEEEEEEE VCFs\n",
    "    # the fact that this code needs to be so complicated must mean it is not a very good format\n",
    "    # everything should be stored in SEPARATE compressed data matrices, separate GT/GP etc.\n",
    "\n",
    "    vcf = dict() # the values of the dict themselves will also be dictionaries\n",
    "    vcf['path'] = vcf_full_path # add the path as a dictinoary key and value\n",
    "\n",
    "    # want to skip a certain number, assuming your VCF does not have a header > 1000 lines\n",
    "    \n",
    "    vcf['header_lines_num'] = get_num_headerlines(vcf['path'])\n",
    "    vcf['header_lines_num'] = vcf['header_lines_num'] - 1 # still want to keep the last line\n",
    "\n",
    "    # read the file\n",
    "    vcf['file'] = gzip.open(vcf['path'],'rt')\n",
    "    for i in range(vcf['header_lines_num']):\n",
    "        vcf['file'].readline()\n",
    "\n",
    "    # create a list to build\n",
    "    vcf['gts'] = list()\n",
    "    vcf['uids'] = list()\n",
    "    vcf['info'] = list()\n",
    "\n",
    "    # add the single-line header\n",
    "    header = vcf['file'].readline().strip().split('\\t')\n",
    "\n",
    "    # for the rest of them, take the most important information only\n",
    "    for line in tqdm(vcf['file']):\n",
    "        line = line.strip().split('\\t')\n",
    "\n",
    "        uid = \":\".join([line[0], line[1], line[3], line[4]])\n",
    "        vcf['uids'].append(uid)\n",
    "\n",
    "        gts = [i.split(\":\")[0] for i in line[9:]]\n",
    "        vcf['gts'].append(gts)\n",
    "\n",
    "        infoline = [i.split('=') for i in line[7].split(\";\") if \"=\" in i]\n",
    "        vcf['info'].append(dict(zip([i[0] for i in infoline], [i[1] for i in infoline])))\n",
    "\n",
    "    vcf['info'] = pd.DataFrame(vcf['info'],\n",
    "                                       index=vcf['uids']).astype(np.float32)\n",
    "    vcf['info'].index.name='ID'\n",
    "\n",
    "    vcf['gts'] = pd.DataFrame(vcf['gts'], \n",
    "                                     index=vcf['uids'],\n",
    "                                     columns=header[9:])\n",
    "    vcf['gts'].index.name='ID'\n",
    "\n",
    "    vcf['uids'].append(uid)\n",
    "    # delete the list to reduce memory now\n",
    "    vcf['file'].close()\n",
    "    del(vcf['file'])\n",
    "    return vcf"
   ]
  },
  {
   "cell_type": "code",
   "execution_count": 6,
   "metadata": {},
   "outputs": [],
   "source": [
    "def make_refalt_geno_dict(name_split):\n",
    "    return {\n",
    "        '0|0': name_split[-2] + '/' + name_split[-2],\n",
    "        '0|1': name_split[-2] + '/' + name_split[-1],\n",
    "        '1|0': name_split[-2] + '/' + name_split[-1],\n",
    "        '1|1': name_split[-1] + '/' + name_split[-1],\n",
    "    }"
   ]
  },
  {
   "cell_type": "code",
   "execution_count": 7,
   "metadata": {},
   "outputs": [],
   "source": [
    "def liftover_bed(bed_as_list, chain_abs_path, output_dir='tmp/', keep_files=False, output_name=None):\n",
    "    '''\n",
    "    Function for lifting over a list of lists of genomic regions (i.e. list([chrom, start, end])) from\n",
    "    one genome to another, returning a list of lists. Wraps command line tool LiftoverBED. Output dir\n",
    "    (default: output_dir=='tmp/') is where files will be written, will be created if does not exist \n",
    "    already, should have enough free disk space to write bed files. By default, keep_files==False, so \n",
    "    intermediate files will be deleted. Output name is required if keep_files==True.\n",
    "    \n",
    "    There is a known issue with the liftover tool where it fails with \"Chain mapping error\". I've figured\n",
    "    out this can be avoided if the regions are of at least length 1 (so no identical start and end). A\n",
    "    check is performed to make sure bed as list does not have identical start and end. \n",
    "    '''\n",
    "    \n",
    "    which_out = str(subprocess.run(['which', 'LiftoverBED'], stdout=subprocess.PIPE).stdout, encoding=sys.getdefaultencoding())\n",
    "    if which_out.strip().split('/')[-1] != 'LiftoverBED':\n",
    "        raise ValueError(\n",
    "            '''\n",
    "            LiftoverBED is not installed. Please install from \n",
    "            https://genome.sph.umich.edu/wiki/LiftOver, and add to shell PATH\n",
    "            as `LiftoverBED`.\n",
    "            '''\n",
    "        )\n",
    "    \n",
    "    for i in bed_as_list:\n",
    "        if i[1] == i[2]:\n",
    "            raise ValueError('Known error of liftover tool. Avoid identical start and end loci.')\n",
    "    \n",
    "    if output_dir[-1] != '/':\n",
    "        output_dir += '/'\n",
    "\n",
    "    if keep_files == False:\n",
    "        if type(output_name) != type(None):\n",
    "            print('keep_files == False so output_name is ignored')\n",
    "        rand_id = str(np.random.randint(low=1000, high=9999))\n",
    "        output_name = rand_id + '_tmp'\n",
    "    else:\n",
    "        if type(output_name) != str:\n",
    "            raise ValueError('You must set output_name if keep_files == True')\n",
    "        elif output_name[-4:] == '.bed':\n",
    "            output_name = output_name[:-4]\n",
    "\n",
    "    try:\n",
    "        os.mkdir(output_dir)\n",
    "        if keep_files == False:\n",
    "            delete_dir = True\n",
    "        else:\n",
    "            delete_dir = False\n",
    "    except FileExistsError:\n",
    "        delete_dir = False\n",
    "    bed_as_list_name = output_name + '_pre_liftover'\n",
    "    unlifted_name = output_name + '_unlifted'\n",
    "\n",
    "    with open(output_dir + bed_as_list_name + '.bed', 'w') as file:\n",
    "        for i in bed_as_list:\n",
    "            file.write('\\t'.join(i) + '\\n')\n",
    "\n",
    "    if os.path.isfile(output_dir + output_name + '.bed'):\n",
    "        ans = input('Warning – output file %s exists. File will be overwritten. Continue anyway? (y/n)' % (output_dir + output_name + '.bed'))\n",
    "        if ans == 'y':\n",
    "            proceed = True\n",
    "        elif ans == 'n':\n",
    "            proceed = False\n",
    "        else:\n",
    "            raise ValueError('Answer with lowercase y or n')\n",
    "    else:\n",
    "        proceed = True\n",
    "\n",
    "    if proceed:\n",
    "        completed_process = subprocess.run(['LiftoverBED', \n",
    "                                            bed_as_list_name + '.bed', \n",
    "                                            chain_abs_path, \n",
    "                                            output_name + '.bed',  \n",
    "                                            unlifted_name + '.bed'], cwd=output_dir)\n",
    "\n",
    "        with open(output_dir + output_name + '.bed', 'r') as file:\n",
    "            out_bed_as_list = [i.strip().split('\\t') for i in file.readlines()]\n",
    "        return out_bed_as_list\n",
    "    else:\n",
    "        if keep_files == False:\n",
    "            for fname in [bed_as_list_name, output_name, unlifted_name]:\n",
    "                os.remove(output_dir + fname + '.bed')\n",
    "        if delete_dir == True:\n",
    "            os.rmdir(output_dir)\n",
    "        return"
   ]
  },
  {
   "cell_type": "markdown",
   "metadata": {},
   "source": [
    "# Load Data"
   ]
  },
  {
   "cell_type": "markdown",
   "metadata": {},
   "source": [
    "## VCF"
   ]
  },
  {
   "cell_type": "code",
   "execution_count": null,
   "metadata": {},
   "outputs": [],
   "source": [
    "vcf = load_vcf(prefix_eqtl + 'mateqtl/vcfs/all_chrs_merged_remove_missing_MAF_0.1.recode.vcf.gz')"
   ]
  },
  {
   "cell_type": "code",
   "execution_count": 36,
   "metadata": {},
   "outputs": [
    {
     "data": {
      "text/html": [
       "<div>\n",
       "<style scoped>\n",
       "    .dataframe tbody tr th:only-of-type {\n",
       "        vertical-align: middle;\n",
       "    }\n",
       "\n",
       "    .dataframe tbody tr th {\n",
       "        vertical-align: top;\n",
       "    }\n",
       "\n",
       "    .dataframe thead th {\n",
       "        text-align: right;\n",
       "    }\n",
       "</style>\n",
       "<table border=\"1\" class=\"dataframe\">\n",
       "  <thead>\n",
       "    <tr style=\"text-align: right;\">\n",
       "      <th></th>\n",
       "      <th>219</th>\n",
       "      <th>237</th>\n",
       "      <th>1221</th>\n",
       "      <th>1891</th>\n",
       "      <th>DON6</th>\n",
       "      <th>IGTB141</th>\n",
       "      <th>IGTB143</th>\n",
       "      <th>IGTB195</th>\n",
       "      <th>IGTB256</th>\n",
       "      <th>IGTB469</th>\n",
       "      <th>...</th>\n",
       "      <th>IGTB178</th>\n",
       "      <th>3:IGTB469</th>\n",
       "      <th>3:IGTB498</th>\n",
       "      <th>3:IGTB508</th>\n",
       "      <th>IGTB67</th>\n",
       "      <th>IGTB811</th>\n",
       "      <th>IGTB906</th>\n",
       "      <th>IGTB950</th>\n",
       "      <th>3:IGTB986</th>\n",
       "      <th>IGTB993</th>\n",
       "    </tr>\n",
       "    <tr>\n",
       "      <th>ID</th>\n",
       "      <th></th>\n",
       "      <th></th>\n",
       "      <th></th>\n",
       "      <th></th>\n",
       "      <th></th>\n",
       "      <th></th>\n",
       "      <th></th>\n",
       "      <th></th>\n",
       "      <th></th>\n",
       "      <th></th>\n",
       "      <th></th>\n",
       "      <th></th>\n",
       "      <th></th>\n",
       "      <th></th>\n",
       "      <th></th>\n",
       "      <th></th>\n",
       "      <th></th>\n",
       "      <th></th>\n",
       "      <th></th>\n",
       "      <th></th>\n",
       "      <th></th>\n",
       "    </tr>\n",
       "  </thead>\n",
       "  <tbody>\n",
       "    <tr>\n",
       "      <th>1:693731:A:G</th>\n",
       "      <td>0|0</td>\n",
       "      <td>0|0</td>\n",
       "      <td>0|1</td>\n",
       "      <td>0|0</td>\n",
       "      <td>0|1</td>\n",
       "      <td>0|0</td>\n",
       "      <td>0|0</td>\n",
       "      <td>0|0</td>\n",
       "      <td>0|0</td>\n",
       "      <td>0|0</td>\n",
       "      <td>...</td>\n",
       "      <td>1|0</td>\n",
       "      <td>0|0</td>\n",
       "      <td>0|0</td>\n",
       "      <td>0|1</td>\n",
       "      <td>0|0</td>\n",
       "      <td>0|0</td>\n",
       "      <td>0|0</td>\n",
       "      <td>0|0</td>\n",
       "      <td>0|0</td>\n",
       "      <td>0|1</td>\n",
       "    </tr>\n",
       "    <tr>\n",
       "      <th>1:706368:A:G</th>\n",
       "      <td>0|0</td>\n",
       "      <td>0|0</td>\n",
       "      <td>0|0</td>\n",
       "      <td>1|1</td>\n",
       "      <td>1|0</td>\n",
       "      <td>0|0</td>\n",
       "      <td>0|0</td>\n",
       "      <td>1|1</td>\n",
       "      <td>0|1</td>\n",
       "      <td>1|0</td>\n",
       "      <td>...</td>\n",
       "      <td>0|1</td>\n",
       "      <td>0|1</td>\n",
       "      <td>0|0</td>\n",
       "      <td>1|0</td>\n",
       "      <td>0|1</td>\n",
       "      <td>1|1</td>\n",
       "      <td>1|1</td>\n",
       "      <td>0|0</td>\n",
       "      <td>0|0</td>\n",
       "      <td>0|0</td>\n",
       "    </tr>\n",
       "    <tr>\n",
       "      <th>1:729679:C:G</th>\n",
       "      <td>1|1</td>\n",
       "      <td>1|1</td>\n",
       "      <td>1|0</td>\n",
       "      <td>1|1</td>\n",
       "      <td>1|0</td>\n",
       "      <td>1|1</td>\n",
       "      <td>0|1</td>\n",
       "      <td>1|1</td>\n",
       "      <td>0|1</td>\n",
       "      <td>1|0</td>\n",
       "      <td>...</td>\n",
       "      <td>0|1</td>\n",
       "      <td>0|1</td>\n",
       "      <td>0|1</td>\n",
       "      <td>1|0</td>\n",
       "      <td>1|1</td>\n",
       "      <td>1|1</td>\n",
       "      <td>1|1</td>\n",
       "      <td>1|1</td>\n",
       "      <td>1|1</td>\n",
       "      <td>1|0</td>\n",
       "    </tr>\n",
       "    <tr>\n",
       "      <th>1:731718:T:C</th>\n",
       "      <td>0|0</td>\n",
       "      <td>0|0</td>\n",
       "      <td>0|1</td>\n",
       "      <td>0|0</td>\n",
       "      <td>0|1</td>\n",
       "      <td>0|0</td>\n",
       "      <td>0|0</td>\n",
       "      <td>0|0</td>\n",
       "      <td>0|0</td>\n",
       "      <td>0|0</td>\n",
       "      <td>...</td>\n",
       "      <td>1|0</td>\n",
       "      <td>0|0</td>\n",
       "      <td>0|0</td>\n",
       "      <td>0|1</td>\n",
       "      <td>0|0</td>\n",
       "      <td>0|0</td>\n",
       "      <td>0|0</td>\n",
       "      <td>0|0</td>\n",
       "      <td>0|0</td>\n",
       "      <td>0|1</td>\n",
       "    </tr>\n",
       "    <tr>\n",
       "      <th>1:734349:T:C</th>\n",
       "      <td>0|0</td>\n",
       "      <td>0|0</td>\n",
       "      <td>0|1</td>\n",
       "      <td>0|0</td>\n",
       "      <td>0|1</td>\n",
       "      <td>0|0</td>\n",
       "      <td>0|0</td>\n",
       "      <td>0|0</td>\n",
       "      <td>0|0</td>\n",
       "      <td>0|0</td>\n",
       "      <td>...</td>\n",
       "      <td>1|0</td>\n",
       "      <td>0|0</td>\n",
       "      <td>0|0</td>\n",
       "      <td>0|1</td>\n",
       "      <td>0|0</td>\n",
       "      <td>0|0</td>\n",
       "      <td>0|0</td>\n",
       "      <td>0|0</td>\n",
       "      <td>0|0</td>\n",
       "      <td>0|1</td>\n",
       "    </tr>\n",
       "  </tbody>\n",
       "</table>\n",
       "<p>5 rows × 90 columns</p>\n",
       "</div>"
      ],
      "text/plain": [
       "              219  237 1221 1891 DON6 IGTB141 IGTB143 IGTB195 IGTB256 IGTB469  \\\n",
       "ID                                                                              \n",
       "1:693731:A:G  0|0  0|0  0|1  0|0  0|1     0|0     0|0     0|0     0|0     0|0   \n",
       "1:706368:A:G  0|0  0|0  0|0  1|1  1|0     0|0     0|0     1|1     0|1     1|0   \n",
       "1:729679:C:G  1|1  1|1  1|0  1|1  1|0     1|1     0|1     1|1     0|1     1|0   \n",
       "1:731718:T:C  0|0  0|0  0|1  0|0  0|1     0|0     0|0     0|0     0|0     0|0   \n",
       "1:734349:T:C  0|0  0|0  0|1  0|0  0|1     0|0     0|0     0|0     0|0     0|0   \n",
       "\n",
       "              ... IGTB178 3:IGTB469 3:IGTB498 3:IGTB508 IGTB67 IGTB811  \\\n",
       "ID            ...                                                        \n",
       "1:693731:A:G  ...     1|0       0|0       0|0       0|1    0|0     0|0   \n",
       "1:706368:A:G  ...     0|1       0|1       0|0       1|0    0|1     1|1   \n",
       "1:729679:C:G  ...     0|1       0|1       0|1       1|0    1|1     1|1   \n",
       "1:731718:T:C  ...     1|0       0|0       0|0       0|1    0|0     0|0   \n",
       "1:734349:T:C  ...     1|0       0|0       0|0       0|1    0|0     0|0   \n",
       "\n",
       "             IGTB906 IGTB950 3:IGTB986 IGTB993  \n",
       "ID                                              \n",
       "1:693731:A:G     0|0     0|0       0|0     0|1  \n",
       "1:706368:A:G     1|1     0|0       0|0     0|0  \n",
       "1:729679:C:G     1|1     1|1       1|1     1|0  \n",
       "1:731718:T:C     0|0     0|0       0|0     0|1  \n",
       "1:734349:T:C     0|0     0|0       0|0     0|1  \n",
       "\n",
       "[5 rows x 90 columns]"
      ]
     },
     "execution_count": 36,
     "metadata": {},
     "output_type": "execute_result"
    }
   ],
   "source": [
    "vcf['gts'].head()"
   ]
  },
  {
   "cell_type": "markdown",
   "metadata": {},
   "source": [
    "## CSVs"
   ]
  },
  {
   "cell_type": "markdown",
   "metadata": {},
   "source": [
    "### `demo_ids`"
   ]
  },
  {
   "cell_type": "code",
   "execution_count": 53,
   "metadata": {},
   "outputs": [],
   "source": [
    "demo_ids = pd.read_csv(prefix_prod + 'vals/demo_ids.csv', index_col=0)"
   ]
  },
  {
   "cell_type": "markdown",
   "metadata": {},
   "source": [
    "### `fastgxe`"
   ]
  },
  {
   "cell_type": "code",
   "execution_count": 114,
   "metadata": {},
   "outputs": [],
   "source": [
    "fnames = [fname for fname in os.listdir(prefix_eqtl + 'fastgxe/Control/mateqtl/') if 'heterogeneous' in fname]\n",
    "cts = [fname.split('_', 1)[1].split('.')[0] for fname in fnames]"
   ]
  },
  {
   "cell_type": "code",
   "execution_count": 115,
   "metadata": {},
   "outputs": [],
   "source": [
    "fastgxe = pd.concat([pd.read_csv(prefix_eqtl + 'fastgxe/Control/mateqtl/' + fname, sep='\\t') for fname in fnames], axis=0, keys=cts)\n",
    "fastgxe = fastgxe.reset_index(level=0).rename(columns={'level_0': 'cell_type'})"
   ]
  },
  {
   "cell_type": "markdown",
   "metadata": {},
   "source": [
    "### `mateqtl`"
   ]
  },
  {
   "cell_type": "code",
   "execution_count": 54,
   "metadata": {},
   "outputs": [],
   "source": [
    "mateqtl_df = pd.read_csv(prefix_eqtl + 'mateqtl/vals/all_results_w_BH_correction.tsv', sep='\\t', index_col=0, header=0).sort_values(by='BH')"
   ]
  },
  {
   "cell_type": "markdown",
   "metadata": {},
   "source": [
    "Due to the `str.strip()` issue (see `/int/codec/production.run/aggr.combat/create.concat.4.ipynb`), I have to remap all of the gene names. When/if matrix eqtl is run on the new cell groupings, we can get rid of this."
   ]
  },
  {
   "cell_type": "markdown",
   "metadata": {},
   "source": [
    "#### `str.strip()` mapper"
   ]
  },
  {
   "cell_type": "code",
   "execution_count": 55,
   "metadata": {},
   "outputs": [],
   "source": [
    "with open(prefix_prod + 'mrna/pkls/mapper.pkl', 'rb') as file:\n",
    "    gene_strip_mapper = pkl.load(file)"
   ]
  },
  {
   "cell_type": "code",
   "execution_count": 56,
   "metadata": {},
   "outputs": [],
   "source": [
    "mateqtl_df['gene'] = mateqtl_df['gene'].map(gene_strip_mapper) # str.strip() issue"
   ]
  },
  {
   "cell_type": "code",
   "execution_count": 57,
   "metadata": {},
   "outputs": [],
   "source": [
    "mateqtl_df['snps:gene'] = mateqtl_df.index.str[:] + ':' + mateqtl_df['gene'].str[:]"
   ]
  },
  {
   "cell_type": "code",
   "execution_count": 58,
   "metadata": {},
   "outputs": [
    {
     "data": {
      "application/vnd.jupyter.widget-view+json": {
       "model_id": "ded8d26448304a8393dc0f38fcdfe47f",
       "version_major": 2,
       "version_minor": 0
      },
      "text/plain": [
       "  0%|          | 0/6 [00:00<?, ?it/s]"
      ]
     },
     "metadata": {},
     "output_type": "display_data"
    }
   ],
   "source": [
    "mateqtl = dict()\n",
    "for cond in tqdm(mateqtl_df['cond'].unique()):\n",
    "    mateqtl[cond] = dict()\n",
    "    for ct in mateqtl_df[mateqtl_df['cond'] == cond]['cell_type'].unique():\n",
    "        mateqtl[cond][ct] = mateqtl_df[(mateqtl_df['cond'] == cond) & (mateqtl_df['cell_type'] == ct)].copy()"
   ]
  },
  {
   "cell_type": "markdown",
   "metadata": {},
   "source": [
    "## Pseudobulks"
   ]
  },
  {
   "cell_type": "code",
   "execution_count": 59,
   "metadata": {},
   "outputs": [],
   "source": [
    "pbulk_dir = prefix_eqtl + 'mateqtl/pbulks/'\n",
    "pbulk_fnames = ! ls $pbulk_dir"
   ]
  },
  {
   "cell_type": "code",
   "execution_count": 60,
   "metadata": {},
   "outputs": [],
   "source": [
    "pbulk_fnames_split = [i.split('.')[0] for i in pbulk_fnames if i.endswith('.expr')]\n",
    "pbulk_combos = [tuple(i.split('_', 1)) for i in pbulk_fnames_split]"
   ]
  },
  {
   "cell_type": "code",
   "execution_count": 61,
   "metadata": {},
   "outputs": [],
   "source": [
    "pbulks = dict()\n",
    "for cond in np.unique([i[0] for i in pbulk_combos]):\n",
    "    pbulks[cond] = dict()"
   ]
  },
  {
   "cell_type": "code",
   "execution_count": 62,
   "metadata": {},
   "outputs": [
    {
     "data": {
      "application/vnd.jupyter.widget-view+json": {
       "model_id": "8514ffaa249a4bd8b34f896653841e8a",
       "version_major": 2,
       "version_minor": 0
      },
      "text/plain": [
       "  0%|          | 0/36 [00:00<?, ?it/s]"
      ]
     },
     "metadata": {},
     "output_type": "display_data"
    }
   ],
   "source": [
    "for comb in tqdm(pbulk_combos):\n",
    "    pbulks[comb[0]][comb[1]] = pd.read_csv(pbulk_dir + '_'.join(comb) + '.expr', sep='\\t', index_col=0)\n",
    "    pbulks[comb[0]][comb[1]].index = pbulks[comb[0]][comb[1]].index.map(gene_strip_mapper)"
   ]
  },
  {
   "cell_type": "markdown",
   "metadata": {},
   "source": [
    "# Adjust Inputs"
   ]
  },
  {
   "cell_type": "markdown",
   "metadata": {},
   "source": [
    "## VCF"
   ]
  },
  {
   "cell_type": "markdown",
   "metadata": {},
   "source": [
    "Make ASB names consistent:"
   ]
  },
  {
   "cell_type": "code",
   "execution_count": 57,
   "metadata": {},
   "outputs": [],
   "source": [
    "vcf['gts'].columns = ['ASB' + i[-4:] if i.startswith('AS') else i for i in vcf['gts'].columns]"
   ]
  },
  {
   "cell_type": "markdown",
   "metadata": {},
   "source": [
    "Subset to common names:"
   ]
  },
  {
   "cell_type": "code",
   "execution_count": 58,
   "metadata": {},
   "outputs": [],
   "source": [
    "common_names = np.intersect1d(vcf['gts'].columns.values, demo_ids.index.values)"
   ]
  },
  {
   "cell_type": "code",
   "execution_count": 59,
   "metadata": {},
   "outputs": [],
   "source": [
    "vcf['gts'] = vcf['gts'][common_names].copy()\n",
    "demo_ids = demo_ids.loc[common_names].copy()"
   ]
  },
  {
   "cell_type": "markdown",
   "metadata": {},
   "source": [
    "Make a version where just the chromosome/position is the index. This will make multiallelic sites ambiguous, but so are the eQTL results."
   ]
  },
  {
   "cell_type": "code",
   "execution_count": 60,
   "metadata": {},
   "outputs": [],
   "source": [
    "vcf['gts_snp'] = vcf['gts'].copy()\n",
    "vcf['gts_snp'].index = vcf['gts_snp'].index.str.split(':').str[:2].str.join(':')"
   ]
  },
  {
   "cell_type": "markdown",
   "metadata": {},
   "source": [
    "Make a version of both with just integers instead of actual genotypes. In order to do this, I need to map the genotypes."
   ]
  },
  {
   "cell_type": "markdown",
   "metadata": {},
   "source": [
    "There is one problematic genotype that I'm just going to drop."
   ]
  },
  {
   "cell_type": "code",
   "execution_count": 62,
   "metadata": {},
   "outputs": [
    {
     "data": {
      "text/plain": [
       "Index(['9:14791923:T:A,C'], dtype='object', name='ID')"
      ]
     },
     "execution_count": 62,
     "metadata": {},
     "output_type": "execute_result"
    }
   ],
   "source": [
    "vcf['gts'].index[vcf['gts'].index.str.contains(',')]"
   ]
  },
  {
   "cell_type": "code",
   "execution_count": 63,
   "metadata": {},
   "outputs": [],
   "source": [
    "vcf['gts'].drop(index='9:14791923:T:A,C', inplace=True)"
   ]
  },
  {
   "cell_type": "code",
   "execution_count": 44,
   "metadata": {},
   "outputs": [],
   "source": [
    "quantize_geno_dict =     {\n",
    "        '0|0': 0,\n",
    "        '0|1': 1,\n",
    "        '1|0': 1,\n",
    "        '1|1': 2\n",
    "    }"
   ]
  },
  {
   "cell_type": "code",
   "execution_count": null,
   "metadata": {},
   "outputs": [],
   "source": [
    "vcf['gts_quant'] = vcf['gts'].replace(quantize_geno_dict).astype(np.int8).copy()\n",
    "vcf['gts_snp_quant'] = vcf['gts_snp'].replace(quantize_geno_dict).astype(np.int8).copy()"
   ]
  },
  {
   "cell_type": "markdown",
   "metadata": {},
   "source": [
    "### Store as Sparse Matrix"
   ]
  },
  {
   "cell_type": "code",
   "execution_count": 45,
   "metadata": {},
   "outputs": [],
   "source": [
    "vcf_adata = sc.AnnData(X=sparse.csr_matrix(vcf['gts_quant'].values), obs=vcf['gts_quant'].iloc[:, :0], var=vcf['gts_quant'].iloc[:0, :].T)\n",
    "vcf_adata.obs = vcf_adata.obs.join(vcf['info'])\n",
    "vcf_adata.uns['file'] = {'path': vcf['path'], 'header_lines_num': vcf['header_lines_num']}\n",
    "vcf_adata.uns['uids'] = vcf['uids']\n",
    "vcf_adata.uns['quantize_geno_dict'] = quantize_geno_dict.copy()"
   ]
  },
  {
   "cell_type": "markdown",
   "metadata": {},
   "source": [
    "## `pbulks`"
   ]
  },
  {
   "cell_type": "markdown",
   "metadata": {},
   "source": [
    "Map names:"
   ]
  },
  {
   "cell_type": "code",
   "execution_count": 66,
   "metadata": {},
   "outputs": [],
   "source": [
    "exp_id_subject_mapper = dict(zip(demo_ids['exp_id'], demo_ids.index))"
   ]
  },
  {
   "cell_type": "markdown",
   "metadata": {},
   "source": [
    "Rename columns in `pbulks`, subset to common_names by removing `nan`s."
   ]
  },
  {
   "cell_type": "code",
   "execution_count": 67,
   "metadata": {},
   "outputs": [
    {
     "data": {
      "application/vnd.jupyter.widget-view+json": {
       "model_id": "387c6d8ef71246e6abbdf39c0fb72b5c",
       "version_major": 2,
       "version_minor": 0
      },
      "text/plain": [
       "  0%|          | 0/6 [00:00<?, ?it/s]"
      ]
     },
     "metadata": {},
     "output_type": "display_data"
    }
   ],
   "source": [
    "for cond in tqdm(pbulks):\n",
    "    for ct in pbulks[cond]:\n",
    "        pbulks[cond][ct].columns = pbulks[cond][ct].columns.astype(int)\n",
    "        pbulks[cond][ct].columns = pbulks[cond][ct].columns.map(exp_id_subject_mapper)\n",
    "        pbulks[cond][ct] = pbulks[cond][ct].loc[:, ~pbulks[cond][ct].columns.isna()].copy()"
   ]
  },
  {
   "cell_type": "markdown",
   "metadata": {},
   "source": [
    "## eQTL Results"
   ]
  },
  {
   "cell_type": "markdown",
   "metadata": {},
   "source": [
    "### `mateqtl`"
   ]
  },
  {
   "cell_type": "code",
   "execution_count": 63,
   "metadata": {},
   "outputs": [],
   "source": [
    "mateqtl_df.dropna(inplace=True)\n",
    "mateqtl_df['abs(beta)'] = np.abs(mateqtl_df['beta'])\n",
    "mateqtl_df['-log10FDR'] = -np.log10(mateqtl_df['FDR'])\n",
    "mateqtl_df_C = mateqtl_df[mateqtl_df['cond'] == 'C'].copy()"
   ]
  },
  {
   "cell_type": "code",
   "execution_count": 64,
   "metadata": {},
   "outputs": [],
   "source": [
    "for cond in mateqtl:\n",
    "    for ct in mateqtl[cond]:\n",
    "        mateqtl[cond][ct]['abs(beta)'] = np.abs(mateqtl[cond][ct]['beta'])\n",
    "        mateqtl[cond][ct]['-log10FDR'] = -np.log10(mateqtl[cond][ct]['FDR'])"
   ]
  },
  {
   "cell_type": "code",
   "execution_count": 65,
   "metadata": {},
   "outputs": [],
   "source": [
    "for cond in mateqtl:\n",
    "    for ct in mateqtl[cond]:\n",
    "        mateqtl[cond][ct]['abs(beta)'] = np.abs(mateqtl[cond][ct]['beta'])\n",
    "        mateqtl[cond][ct]['-log10FDR'] = -np.log10(mateqtl[cond][ct]['FDR'])"
   ]
  },
  {
   "cell_type": "markdown",
   "metadata": {},
   "source": [
    "#### Liftover to hg38"
   ]
  },
  {
   "cell_type": "code",
   "execution_count": null,
   "metadata": {},
   "outputs": [],
   "source": [
    "original_len = mateqtl_df.shape[0]"
   ]
  },
  {
   "cell_type": "code",
   "execution_count": 19,
   "metadata": {},
   "outputs": [],
   "source": [
    "all_mateqtl_bed = [['chr' +i.split(':')[0], i.split(':')[1], \n",
    "                    str(int(i.split(':')[1]) + 1),  # this plus 1 was necessary for samtools depth\n",
    "                    i] for i in mateqtl_df.index.unique()]"
   ]
  },
  {
   "cell_type": "code",
   "execution_count": 27,
   "metadata": {},
   "outputs": [],
   "source": [
    "all_mateqtl_bed_hg38 = liftover_bed(all_mateqtl_bed, chain_abs_path=prefix_eqtl + 'hg19ToHg38.over.chain', \n",
    "                                    output_dir='/tmp/', keep_files=False)"
   ]
  },
  {
   "cell_type": "code",
   "execution_count": 29,
   "metadata": {},
   "outputs": [],
   "source": [
    "all_mateqtl_lifted_snps = dict([(i[3], i[0].replace('chr', '') + ':' + i[1]) for i in all_mateqtl_bed_hg38])"
   ]
  },
  {
   "cell_type": "markdown",
   "metadata": {},
   "source": [
    "The following `.dropna()` will reduce the number of total eQTLs by some."
   ]
  },
  {
   "cell_type": "code",
   "execution_count": 39,
   "metadata": {},
   "outputs": [],
   "source": [
    "mateqtl_df['hg38_snps'] = mateqtl_df.index.map(all_mateqtl_lifted_snps)\n",
    "mateqtl_df.dropna(inplace=True)\n",
    "mateqtl_df['hg19_snps'] = mateqtl_df.index.to_series()"
   ]
  },
  {
   "cell_type": "markdown",
   "metadata": {},
   "source": [
    "Still retaining 99.8% of all eQTLs:"
   ]
  },
  {
   "cell_type": "code",
   "execution_count": 47,
   "metadata": {},
   "outputs": [
    {
     "data": {
      "text/plain": [
       "0.9985239683689956"
      ]
     },
     "execution_count": 47,
     "metadata": {},
     "output_type": "execute_result"
    }
   ],
   "source": [
    "mateqtl_df.shape[0]/original_len"
   ]
  },
  {
   "cell_type": "markdown",
   "metadata": {},
   "source": [
    "### `fastgxe`"
   ]
  },
  {
   "cell_type": "code",
   "execution_count": 116,
   "metadata": {},
   "outputs": [],
   "source": [
    "fastgxe['abs(beta)'] = np.abs(fastgxe['beta'])\n",
    "fastgxe['-log10FDR'] = -np.log10(fastgxe['FDR'])"
   ]
  },
  {
   "cell_type": "markdown",
   "metadata": {},
   "source": [
    "#### Liftover to hg38"
   ]
  },
  {
   "cell_type": "code",
   "execution_count": 117,
   "metadata": {},
   "outputs": [],
   "source": [
    "original_len = fastgxe.shape[0]"
   ]
  },
  {
   "cell_type": "code",
   "execution_count": 118,
   "metadata": {},
   "outputs": [],
   "source": [
    "fastgxe.index = fastgxe['SNP'].copy()\n",
    "fastgxe = fastgxe.rename(columns={'SNP': 'hg19_snps'})"
   ]
  },
  {
   "cell_type": "code",
   "execution_count": 119,
   "metadata": {},
   "outputs": [],
   "source": [
    "all_fastgxe_bed = [['chr' +i.split(':')[0], i.split(':')[1], \n",
    "                    str(int(i.split(':')[1]) + 1),  # this plus 1 was necessary for samtools depth\n",
    "                    i] for i in fastgxe['hg19_snps'].unique()]"
   ]
  },
  {
   "cell_type": "code",
   "execution_count": 120,
   "metadata": {},
   "outputs": [],
   "source": [
    "all_fastgxe_bed_hg38 = liftover_bed(all_fastgxe_bed, chain_abs_path=prefix_eqtl + 'hg19ToHg38.over.chain', \n",
    "                                    output_dir='/tmp/', keep_files=False)"
   ]
  },
  {
   "cell_type": "code",
   "execution_count": 121,
   "metadata": {},
   "outputs": [],
   "source": [
    "all_fastgxe_lifted_snps = dict([(i[3], i[0].replace('chr', '') + ':' + i[1]) for i in all_fastgxe_bed_hg38])"
   ]
  },
  {
   "cell_type": "markdown",
   "metadata": {},
   "source": [
    "The following `.dropna()` will reduce the number of total eQTLs by some."
   ]
  },
  {
   "cell_type": "code",
   "execution_count": 122,
   "metadata": {},
   "outputs": [],
   "source": [
    "fastgxe['hg38_snps'] = fastgxe.index.map(all_fastgxe_lifted_snps)\n",
    "fastgxe.dropna(inplace=True)\n",
    "fastgxe['hg19_snps'] = fastgxe.index.to_series()"
   ]
  },
  {
   "cell_type": "markdown",
   "metadata": {},
   "source": [
    "Still retaining 99.8% of all eQTLs:"
   ]
  },
  {
   "cell_type": "code",
   "execution_count": 123,
   "metadata": {},
   "outputs": [
    {
     "data": {
      "text/plain": [
       "0.9998012583484569"
      ]
     },
     "execution_count": 123,
     "metadata": {},
     "output_type": "execute_result"
    }
   ],
   "source": [
    "fastgxe.shape[0]/original_len"
   ]
  },
  {
   "cell_type": "markdown",
   "metadata": {},
   "source": [
    "# Export"
   ]
  },
  {
   "cell_type": "code",
   "execution_count": 7,
   "metadata": {},
   "outputs": [],
   "source": [
    "# with open(prefix_eqtl + 'mateqtl/pkls/vcf.pkl', 'wb') as file:\n",
    "#     pkl.dump(vcf, file, protocol=4)\n",
    "\n",
    "# with open(prefix_eqtl + 'mateqtl/pkls/vcf.pkl', 'rb') as file:\n",
    "#     vcf = pkl.load(file)"
   ]
  },
  {
   "cell_type": "code",
   "execution_count": 93,
   "metadata": {},
   "outputs": [],
   "source": [
    "# vcf_adata.write_h5ad(prefix_eqtl + 'mateqtl/h5ads/vcf_adata.h5ad')\n",
    "vcf_adata = sc.read_h5ad(prefix_eqtl + 'mateqtl/h5ads/vcf_adata.h5ad')"
   ]
  },
  {
   "cell_type": "code",
   "execution_count": 7,
   "metadata": {},
   "outputs": [],
   "source": [
    "# with open(prefix_eqtl + 'mateqtl/pkls/pbulks.pkl', 'wb') as file:\n",
    "#     pkl.dump(pbulks, file, protocol=4)\n",
    "\n",
    "with open(prefix_eqtl + 'mateqtl/pkls/pbulks.pkl', 'rb') as file:\n",
    "    pbulks = pkl.load(file)"
   ]
  },
  {
   "cell_type": "code",
   "execution_count": 51,
   "metadata": {},
   "outputs": [],
   "source": [
    "# mateqtl_df.to_pickle(prefix_eqtl + 'mateqtl/pkls/mateqtl_df.pkl')\n",
    "mateqtl_df = pd.read_pickle(prefix_eqtl + 'mateqtl/pkls/mateqtl_df.pkl')"
   ]
  },
  {
   "cell_type": "code",
   "execution_count": 10,
   "metadata": {},
   "outputs": [],
   "source": [
    "# with open(prefix_eqtl + 'mateqtl/pkls/mateqtl.pkl', 'wb') as file:\n",
    "#     pkl.dump(mateqtl, file, protocol=4)\n",
    "\n",
    "with open(prefix_eqtl + 'mateqtl/pkls/mateqtl.pkl', 'rb') as file:\n",
    "    mateqtl = pkl.load(file)"
   ]
  },
  {
   "cell_type": "code",
   "execution_count": null,
   "metadata": {},
   "outputs": [],
   "source": [
    "# fastgxe.to_pickle(prefix_eqtl + 'mateqtl/pkls/fastgxe.pkl')\n",
    "fastgxe = pd.read_pickle(prefix_eqtl + 'mateqtl/pkls/fastgxe.pkl')"
   ]
  }
 ],
 "metadata": {
  "kernelspec": {
   "display_name": "clue",
   "language": "python",
   "name": "clue"
  },
  "language_info": {
   "codemirror_mode": {
    "name": "ipython",
    "version": 3
   },
   "file_extension": ".py",
   "mimetype": "text/x-python",
   "name": "python",
   "nbconvert_exporter": "python",
   "pygments_lexer": "ipython3",
   "version": "3.6.10"
  }
 },
 "nbformat": 4,
 "nbformat_minor": 4
}
