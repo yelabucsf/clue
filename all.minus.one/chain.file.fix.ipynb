{
 "cells": [
  {
   "cell_type": "markdown",
   "metadata": {},
   "source": [
    "The chain file to convert the ImmVar VCF from hg19 to GRCh38 (so that I can run demuxlet) was giving me trouble because it had some chromosomes that weren't compatible with the other files. This quick notebook only keeps the segements of the chain file that are compatible."
   ]
  },
  {
   "cell_type": "code",
   "execution_count": 2,
   "metadata": {},
   "outputs": [],
   "source": [
    "from tqdm.notebook import tqdm"
   ]
  },
  {
   "cell_type": "code",
   "execution_count": 18,
   "metadata": {},
   "outputs": [],
   "source": [
    "with open('/data/sudoku/tmp.pedmap2vcf/hg38.to.hg19.chain','r') as chain:\n",
    "    lines = chain.readlines()"
   ]
  },
  {
   "cell_type": "code",
   "execution_count": 19,
   "metadata": {},
   "outputs": [
    {
     "data": {
      "text/plain": [
       "236543"
      ]
     },
     "execution_count": 19,
     "metadata": {},
     "output_type": "execute_result"
    }
   ],
   "source": [
    "len(lines)"
   ]
  },
  {
   "cell_type": "code",
   "execution_count": 20,
   "metadata": {},
   "outputs": [
    {
     "data": {
      "text/plain": [
       "'chain 20849626768 chr1 248956422 + 10000 248946422 chr1 249250621 + 10000 249240621 2\\n'"
      ]
     },
     "execution_count": 20,
     "metadata": {},
     "output_type": "execute_result"
    }
   ],
   "source": [
    "lines[0]"
   ]
  },
  {
   "cell_type": "code",
   "execution_count": 21,
   "metadata": {},
   "outputs": [
    {
     "data": {
      "application/vnd.jupyter.widget-view+json": {
       "model_id": "d6da94a357ec4495a29e8f4b6b310fdd",
       "version_major": 2,
       "version_minor": 0
      },
      "text/plain": [
       "HBox(children=(IntProgress(value=0, max=236543), HTML(value='')))"
      ]
     },
     "metadata": {},
     "output_type": "display_data"
    },
    {
     "name": "stdout",
     "output_type": "stream",
     "text": [
      "\n"
     ]
    }
   ],
   "source": [
    "with open('/data/sudoku/tmp.pedmap2vcf/hg38.nochr.to.hg19.nochr.autosomes.chain', 'w') as newchain:\n",
    "    skip = False\n",
    "    for line in tqdm(lines):\n",
    "        if line[:5] == 'chain':\n",
    "            line = line.strip().split(' ')\n",
    "        elif skip:\n",
    "            continue\n",
    "        else:\n",
    "            newchain.write(line)\n",
    "            continue\n",
    "        pos2 = line[2]\n",
    "        pos7 = line[7]\n",
    "        if pos2[:3] == 'chr' and pos7[:3] == 'chr':\n",
    "            try: # try block dependent on the integer-ization of the chromosome number, autosomes only\n",
    "                chr_num1 = int(pos2[3:])\n",
    "                chr_num2 = int(pos7[3:])\n",
    "                line[2] = str(chr_num1)\n",
    "                line[7] = str(chr_num2)\n",
    "                skip = False\n",
    "                newchain.write(' '.join(line) + '\\n')\n",
    "            except ValueError:\n",
    "                skip = True"
   ]
  },
  {
   "cell_type": "code",
   "execution_count": 12,
   "metadata": {},
   "outputs": [],
   "source": [
    "a = lines[0].strip().split(' ')"
   ]
  },
  {
   "cell_type": "code",
   "execution_count": 14,
   "metadata": {},
   "outputs": [],
   "source": [
    "a[3] = 5"
   ]
  },
  {
   "cell_type": "code",
   "execution_count": 15,
   "metadata": {},
   "outputs": [
    {
     "data": {
      "text/plain": [
       "['chain',\n",
       " '20849626768',\n",
       " 'chr1',\n",
       " 5,\n",
       " '+',\n",
       " '10000',\n",
       " '248946422',\n",
       " 'chr1',\n",
       " '249250621',\n",
       " '+',\n",
       " '10000',\n",
       " '249240621',\n",
       " '2']"
      ]
     },
     "execution_count": 15,
     "metadata": {},
     "output_type": "execute_result"
    }
   ],
   "source": [
    "a"
   ]
  },
  {
   "cell_type": "code",
   "execution_count": null,
   "metadata": {},
   "outputs": [],
   "source": []
  }
 ],
 "metadata": {
  "kernelspec": {
   "display_name": "Python 3",
   "language": "python",
   "name": "python3"
  },
  "language_info": {
   "codemirror_mode": {
    "name": "ipython",
    "version": 3
   },
   "file_extension": ".py",
   "mimetype": "text/x-python",
   "name": "python",
   "nbconvert_exporter": "python",
   "pygments_lexer": "ipython3",
   "version": "3.6.7"
  }
 },
 "nbformat": 4,
 "nbformat_minor": 4
}
