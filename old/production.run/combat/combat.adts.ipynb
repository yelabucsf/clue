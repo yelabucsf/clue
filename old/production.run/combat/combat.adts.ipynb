{
 "cells": [
  {
   "cell_type": "markdown",
   "metadata": {},
   "source": [
    "## ADT Processing\n",
    "\n",
    "Processing the ADTs."
   ]
  },
  {
   "cell_type": "code",
   "execution_count": 1,
   "metadata": {},
   "outputs": [
    {
     "name": "stderr",
     "output_type": "stream",
     "text": [
      "/home/ssm-user/anaconda3/envs/codec/lib/python3.6/site-packages/anndata/_core/anndata.py:21: FutureWarning: pandas.core.index is deprecated and will be removed in a future version.  The public classes are available in the top-level namespace.\n",
      "  from pandas.core.index import RangeIndex\n",
      "/home/ssm-user/anaconda3/envs/codec/lib/python3.6/site-packages/statsmodels/tools/_testing.py:19: FutureWarning: pandas.util.testing is deprecated. Use the functions in the public API at pandas.testing instead.\n",
      "  import pandas.util.testing as tm\n"
     ]
    }
   ],
   "source": [
    "import scanpy as sc \n",
    "import pandas as pd \n",
    "import numpy as np\n",
    "import matplotlib.pyplot as plt\n",
    "from tqdm.notebook import tqdm\n",
    "import warnings\n",
    "import itertools as it\n",
    "import json\n",
    "import requests\n",
    "import seaborn as sns\n",
    "import pickle as pkl\n",
    "from functools import reduce"
   ]
  },
  {
   "cell_type": "code",
   "execution_count": 2,
   "metadata": {},
   "outputs": [
    {
     "name": "stdout",
     "output_type": "stream",
     "text": [
      "1.4.5.post1\n"
     ]
    }
   ],
   "source": [
    "sc.settings.verbosity = 4\n",
    "sc.settings.set_figure_params(dpi=80)\n",
    "print(sc.__version__)\n",
    "sc.settings.n_jobs=12"
   ]
  },
  {
   "cell_type": "code",
   "execution_count": 3,
   "metadata": {},
   "outputs": [],
   "source": [
    "prefix = '/data/codec/production.run/adts/'"
   ]
  },
  {
   "cell_type": "markdown",
   "metadata": {},
   "source": [
    "### Load in the Data"
   ]
  },
  {
   "cell_type": "code",
   "execution_count": 4,
   "metadata": {},
   "outputs": [
    {
     "name": "stdout",
     "output_type": "stream",
     "text": [
      "reading /data/codec/production.run/adts/10x.h5s/well1/outs/raw_feature_bc_matrix.h5\n",
      " (0:00:07)\n",
      "reading /data/codec/production.run/adts/10x.h5s/well2/outs/raw_feature_bc_matrix.h5\n",
      " (0:00:07)\n",
      "reading /data/codec/production.run/adts/10x.h5s/well3/outs/raw_feature_bc_matrix.h5\n",
      " (0:00:07)\n",
      "reading /data/codec/production.run/adts/10x.h5s/well4/outs/raw_feature_bc_matrix.h5\n",
      " (0:00:07)\n",
      "reading /data/codec/production.run/adts/10x.h5s/well5/outs/raw_feature_bc_matrix.h5\n",
      " (0:00:07)\n",
      "reading /data/codec/production.run/adts/10x.h5s/well6/outs/raw_feature_bc_matrix.h5\n",
      " (0:00:07)\n",
      "reading /data/codec/production.run/adts/10x.h5s/well7/outs/raw_feature_bc_matrix.h5\n",
      " (0:00:07)\n",
      "reading /data/codec/production.run/adts/10x.h5s/well8/outs/raw_feature_bc_matrix.h5\n",
      " (0:00:07)\n",
      "reading /data/codec/production.run/adts/10x.h5s/well9/outs/raw_feature_bc_matrix.h5\n",
      " (0:00:07)\n",
      "reading /data/codec/production.run/adts/10x.h5s/well10/outs/raw_feature_bc_matrix.h5\n",
      " (0:00:07)\n",
      "reading /data/codec/production.run/adts/10x.h5s/well11/outs/raw_feature_bc_matrix.h5\n",
      " (0:00:07)\n",
      "reading /data/codec/production.run/adts/10x.h5s/well12/outs/raw_feature_bc_matrix.h5\n",
      " (0:00:07)\n"
     ]
    }
   ],
   "source": [
    "wells = dict()\n",
    "for well in range(12):\n",
    "    wells[well] = dict()\n",
    "    wells[well]['adata'] = sc.read_10x_h5(prefix + \"10x.h5s/well%d/outs/raw_feature_bc_matrix.h5\" % (well + 1))\n",
    "    wells[well]['adata'].var_names_make_unique()"
   ]
  },
  {
   "cell_type": "markdown",
   "metadata": {},
   "source": [
    "Also load in the barcodes from the mRNA, so I don't have these giant matrices in memory."
   ]
  },
  {
   "cell_type": "code",
   "execution_count": 8,
   "metadata": {},
   "outputs": [],
   "source": [
    "path = prefix + '../mrna/obs/concat.bcs.txt'\n",
    "\n",
    "with open(path,'r') as file:\n",
    "    bcs = ['-'.join(i.strip().split('-')[:2]) for i in file.readlines()]"
   ]
  },
  {
   "cell_type": "markdown",
   "metadata": {},
   "source": [
    "### Adjust Cell Barcodes, Filter\n",
    "\n",
    "I'm adjusting the cell barcodes to make them match their well number, which I also did with the mRNA."
   ]
  },
  {
   "cell_type": "code",
   "execution_count": 9,
   "metadata": {},
   "outputs": [
    {
     "data": {
      "application/vnd.jupyter.widget-view+json": {
       "model_id": "5fe5e946173e4bb2bca39449f48db3d3",
       "version_major": 2,
       "version_minor": 0
      },
      "text/plain": [
       "HBox(children=(FloatProgress(value=0.0, max=12.0), HTML(value='')))"
      ]
     },
     "metadata": {},
     "output_type": "display_data"
    },
    {
     "name": "stdout",
     "output_type": "stream",
     "text": [
      "\n"
     ]
    }
   ],
   "source": [
    "for well in tqdm(wells):\n",
    "    wells[well]['adata'].obs_names = [i[:16] + '-%s' % well for i in wells[well]['adata'].obs_names]"
   ]
  },
  {
   "cell_type": "markdown",
   "metadata": {},
   "source": [
    "Subsetting based on the mRNA barcodes."
   ]
  },
  {
   "cell_type": "code",
   "execution_count": 10,
   "metadata": {},
   "outputs": [
    {
     "data": {
      "application/vnd.jupyter.widget-view+json": {
       "model_id": "6df8a1fce36e42d493fc51564e6347f4",
       "version_major": 2,
       "version_minor": 0
      },
      "text/plain": [
       "HBox(children=(FloatProgress(value=0.0, max=12.0), HTML(value='')))"
      ]
     },
     "metadata": {},
     "output_type": "display_data"
    },
    {
     "name": "stdout",
     "output_type": "stream",
     "text": [
      "\n"
     ]
    }
   ],
   "source": [
    "for well in tqdm(wells):\n",
    "    wells[well]['adata'] = wells[well]['adata'][[i for i in bcs if int(i.split('-')[-1]) == well]]"
   ]
  },
  {
   "cell_type": "markdown",
   "metadata": {},
   "source": [
    "Going to use the `filter_cells` and `filter_genes` functions just to get the `n_counts` column in the `.obs` and `.var`. Not actually filtering, since I'm setting my thresholds to 0."
   ]
  },
  {
   "cell_type": "code",
   "execution_count": 11,
   "metadata": {},
   "outputs": [
    {
     "name": "stderr",
     "output_type": "stream",
     "text": [
      "Trying to set attribute `.obs` of view, copying.\n",
      "Trying to set attribute `.obs` of view, copying.\n",
      "Trying to set attribute `.obs` of view, copying.\n",
      "Trying to set attribute `.obs` of view, copying.\n",
      "Trying to set attribute `.obs` of view, copying.\n",
      "Trying to set attribute `.obs` of view, copying.\n",
      "Trying to set attribute `.obs` of view, copying.\n",
      "Trying to set attribute `.obs` of view, copying.\n",
      "Trying to set attribute `.obs` of view, copying.\n",
      "Trying to set attribute `.obs` of view, copying.\n",
      "Trying to set attribute `.obs` of view, copying.\n",
      "Trying to set attribute `.obs` of view, copying.\n"
     ]
    }
   ],
   "source": [
    "for well in wells:\n",
    "    sc.pp.filter_cells(wells[well]['adata'], min_counts=0)\n",
    "    sc.pp.filter_genes(wells[well]['adata'], min_counts=0)"
   ]
  },
  {
   "cell_type": "markdown",
   "metadata": {},
   "source": [
    "### Concatenate"
   ]
  },
  {
   "cell_type": "code",
   "execution_count": 12,
   "metadata": {},
   "outputs": [],
   "source": [
    "concat_adts = dict()"
   ]
  },
  {
   "cell_type": "code",
   "execution_count": 55,
   "metadata": {},
   "outputs": [],
   "source": [
    "concat_adts['adata'] = wells[0]['adata'].concatenate(*[wells[i]['adata'] for i in range(1,12)])# I really shouldn't do this, I should go back and run cellranger aggr, but for now just concatenate"
   ]
  },
  {
   "cell_type": "code",
   "execution_count": 56,
   "metadata": {},
   "outputs": [],
   "source": [
    "concat_adts['adata'].var['n_counts'] = concat_adts['adata'].var[[i for i in concat_adts['adata'].var.columns if i.startswith('n_counts')]].sum(axis=1)"
   ]
  },
  {
   "cell_type": "code",
   "execution_count": 57,
   "metadata": {},
   "outputs": [],
   "source": [
    "concat_adts['raw'] = concat_adts['adata'].copy()"
   ]
  },
  {
   "cell_type": "markdown",
   "metadata": {},
   "source": [
    "### Filter Proteins, Transform Data\n",
    "\n",
    "Trying to see if any proteins have much lower counts. We usually see even antibodies that weren't even added into the mix still showing some counts."
   ]
  },
  {
   "cell_type": "code",
   "execution_count": 58,
   "metadata": {},
   "outputs": [
    {
     "data": {
      "image/png": "[encoded data removed]",
      "text/plain": [
       "<Figure size 640x480 with 1 Axes>"
      ]
     },
     "metadata": {
      "image/png": {
       "height": 406,
       "width": 534
      },
      "needs_background": "light"
     },
     "output_type": "display_data"
    }
   ],
   "source": [
    "plt.figure(figsize=(8,6))\n",
    "plt.hist(concat_adts['adata'].var['n_counts'].values, color='k', bins=np.logspace(np.log10(1e2),np.log10(1e8), 100))\n",
    "plt.grid(False)\n",
    "plt.grid(True, 'both', 'both')\n",
    "plt.xscale('log')\n",
    "# plt.yscale('log')"
   ]
  },
  {
   "cell_type": "markdown",
   "metadata": {},
   "source": [
    "Going to only keep those proteins with counts > 100K, since they're probably not real."
   ]
  },
  {
   "cell_type": "code",
   "execution_count": 59,
   "metadata": {},
   "outputs": [],
   "source": [
    "concat_adts['adata'] = concat_adts['adata'][:,concat_adts['adata'].var['n_counts'] > 1e5].copy()"
   ]
  },
  {
   "cell_type": "markdown",
   "metadata": {},
   "source": [
    "Now normalize per cell and log the data."
   ]
  },
  {
   "cell_type": "code",
   "execution_count": 60,
   "metadata": {},
   "outputs": [
    {
     "name": "stdout",
     "output_type": "stream",
     "text": [
      "normalizing by total count per cell\n",
      "    finished (0:00:00): normalized adata.X and added    'n_counts', counts per cell before normalization (adata.obs)\n"
     ]
    }
   ],
   "source": [
    "sc.pp.normalize_per_cell(concat_adts['adata'], counts_per_cell_after=1e6)"
   ]
  },
  {
   "cell_type": "code",
   "execution_count": 61,
   "metadata": {},
   "outputs": [],
   "source": [
    "sc.pp.log1p(concat_adts['adata'])"
   ]
  },
  {
   "cell_type": "markdown",
   "metadata": {},
   "source": [
    "### Fix Distributions\n",
    "\n",
    "I noticed that some cells in the distributions stretch out the range more than needed. They seem to have zero counts, but are clearly not even the \"negative\" distribution. For whatever reason, they did not record any alignments to the protein. In order for these not to skew the distribution after scaling, I'm going to clip the counts to a lower threshold."
   ]
  },
  {
   "cell_type": "code",
   "execution_count": 62,
   "metadata": {},
   "outputs": [
    {
     "data": {
      "image/png": "[encoded data removed]",
      "text/plain": [
       "<Figure size 800x320 with 2 Axes>"
      ]
     },
     "metadata": {
      "image/png": {
       "height": 283,
       "width": 704
      },
      "needs_background": "light"
     },
     "output_type": "display_data"
    }
   ],
   "source": [
    "fig, ax = plt.subplots(1,2,figsize=(10,4))\n",
    "ax[0].hist(concat_adts['adata'].obs_vector('CD45RA|PTPRC'),bins=100);\n",
    "ax[1].hist(concat_adts['adata'].obs_vector('CD45RA|PTPRC'),bins=100);\n",
    "ax[1].set_yscale('log');"
   ]
  },
  {
   "cell_type": "markdown",
   "metadata": {},
   "source": [
    "See, there are a very small number of cells with counts of close to or at zero while the rest of the cells show counts in the 1000s or 10s of 1000s. This becomes a problem when I scale the data."
   ]
  },
  {
   "cell_type": "code",
   "execution_count": 63,
   "metadata": {},
   "outputs": [],
   "source": [
    "proteins = concat_adts['adata'].var_names"
   ]
  },
  {
   "cell_type": "markdown",
   "metadata": {},
   "source": [
    "To find the lower value to clip at, I'm just going to use the bins from the histogram itself, and find the first non-zero bin after the initial peak, if there _is_ an initial peak."
   ]
  },
  {
   "cell_type": "code",
   "execution_count": 64,
   "metadata": {},
   "outputs": [
    {
     "data": {
      "application/vnd.jupyter.widget-view+json": {
       "model_id": "17a797980fb64f608a5d300a010262ac",
       "version_major": 2,
       "version_minor": 0
      },
      "text/plain": [
       "HBox(children=(FloatProgress(value=0.0, max=96.0), HTML(value='')))"
      ]
     },
     "metadata": {},
     "output_type": "display_data"
    },
    {
     "name": "stdout",
     "output_type": "stream",
     "text": [
      "\n"
     ]
    }
   ],
   "source": [
    "shifts = list()\n",
    "for protein in tqdm(proteins):\n",
    "    n, bins, patches = plt.hist(concat_adts['adata'].obs_vector(protein),bins=100)\n",
    "    plt.close()\n",
    "    shifts.append(bins[n.argmin() + (n[n.argmin():] > 0).argmax()])"
   ]
  },
  {
   "cell_type": "code",
   "execution_count": 65,
   "metadata": {},
   "outputs": [
    {
     "data": {
      "application/vnd.jupyter.widget-view+json": {
       "model_id": "307f52933a6740b2adf67e42733ef3ca",
       "version_major": 2,
       "version_minor": 0
      },
      "text/plain": [
       "HBox(children=(FloatProgress(value=0.0, max=96.0), HTML(value='')))"
      ]
     },
     "metadata": {},
     "output_type": "display_data"
    },
    {
     "name": "stdout",
     "output_type": "stream",
     "text": [
      "\n"
     ]
    }
   ],
   "source": [
    "new_X = concat_adts['adata'].X.toarray()\n",
    "for i in tqdm(range(len(proteins))):\n",
    "    new_X[:,i] = np.clip(new_X[:,i],shifts[i], np.inf)"
   ]
  },
  {
   "cell_type": "code",
   "execution_count": 66,
   "metadata": {},
   "outputs": [],
   "source": [
    "concat_adts['adata'].X = new_X"
   ]
  },
  {
   "cell_type": "code",
   "execution_count": 67,
   "metadata": {},
   "outputs": [],
   "source": [
    "concat_adts['unscaled'] = concat_adts['adata'].copy()"
   ]
  },
  {
   "cell_type": "code",
   "execution_count": 68,
   "metadata": {},
   "outputs": [
    {
     "name": "stdout",
     "output_type": "stream",
     "text": [
      "    ... clipping at max_value 10\n"
     ]
    }
   ],
   "source": [
    "sc.pp.scale(concat_adts['adata'], max_value=10)"
   ]
  },
  {
   "cell_type": "code",
   "execution_count": 69,
   "metadata": {},
   "outputs": [],
   "source": [
    "path = prefix + '../mrna/obs/concat.obs.csv'\n",
    "obs = pd.read_csv(path, index_col=0).drop(columns='batch')"
   ]
  },
  {
   "cell_type": "code",
   "execution_count": 70,
   "metadata": {},
   "outputs": [],
   "source": [
    "concat_adts['adata'].obs = obs.join(concat_adts['adata'].obs, lsuffix='-mrna', rsuffix='-adts')"
   ]
  },
  {
   "cell_type": "code",
   "execution_count": 71,
   "metadata": {},
   "outputs": [
    {
     "data": {
      "text/html": [
       "<div>\n",
       "<style scoped>\n",
       "    .dataframe tbody tr th:only-of-type {\n",
       "        vertical-align: middle;\n",
       "    }\n",
       "\n",
       "    .dataframe tbody tr th {\n",
       "        vertical-align: top;\n",
       "    }\n",
       "\n",
       "    .dataframe thead th {\n",
       "        text-align: right;\n",
       "    }\n",
       "</style>\n",
       "<table border=\"1\" class=\"dataframe\">\n",
       "  <thead>\n",
       "    <tr style=\"text-align: right;\">\n",
       "      <th></th>\n",
       "      <th>DROPLET.TYPE</th>\n",
       "      <th>NUM.READS</th>\n",
       "      <th>NUM.SNPS</th>\n",
       "      <th>cond</th>\n",
       "      <th>exp_id</th>\n",
       "      <th>free_id</th>\n",
       "      <th>n_counts-mrna</th>\n",
       "      <th>percent_mito</th>\n",
       "      <th>pool_code</th>\n",
       "      <th>viability_eq_ctrl</th>\n",
       "      <th>viability_sample</th>\n",
       "      <th>batch</th>\n",
       "      <th>n_counts-adts</th>\n",
       "    </tr>\n",
       "  </thead>\n",
       "  <tbody>\n",
       "    <tr>\n",
       "      <th>AAACCCAAGATGGCAC-0-0</th>\n",
       "      <td>SNG</td>\n",
       "      <td>855</td>\n",
       "      <td>597</td>\n",
       "      <td>C</td>\n",
       "      <td>34</td>\n",
       "      <td>56</td>\n",
       "      <td>5195.0</td>\n",
       "      <td>0.040616</td>\n",
       "      <td>0-4-7-8-9-11</td>\n",
       "      <td>85.0</td>\n",
       "      <td>85.0</td>\n",
       "      <td>0</td>\n",
       "      <td>2767.0</td>\n",
       "    </tr>\n",
       "    <tr>\n",
       "      <th>AAACCCAAGCGAATGC-0-0</th>\n",
       "      <td>SNG</td>\n",
       "      <td>1050</td>\n",
       "      <td>667</td>\n",
       "      <td>C</td>\n",
       "      <td>45</td>\n",
       "      <td>13</td>\n",
       "      <td>6400.0</td>\n",
       "      <td>0.045767</td>\n",
       "      <td>0-2-3-5-7-10</td>\n",
       "      <td>81.9</td>\n",
       "      <td>81.9</td>\n",
       "      <td>0</td>\n",
       "      <td>3361.0</td>\n",
       "    </tr>\n",
       "    <tr>\n",
       "      <th>AAACCCAAGCTACTGT-0-0</th>\n",
       "      <td>SNG</td>\n",
       "      <td>1508</td>\n",
       "      <td>969</td>\n",
       "      <td>P</td>\n",
       "      <td>48</td>\n",
       "      <td>37</td>\n",
       "      <td>9675.0</td>\n",
       "      <td>0.017462</td>\n",
       "      <td>0-1-8-9-10-11</td>\n",
       "      <td>76.4</td>\n",
       "      <td>NaN</td>\n",
       "      <td>0</td>\n",
       "      <td>2740.0</td>\n",
       "    </tr>\n",
       "    <tr>\n",
       "      <th>AAACCCAAGGACAACC-0-0</th>\n",
       "      <td>SNG</td>\n",
       "      <td>1001</td>\n",
       "      <td>592</td>\n",
       "      <td>B</td>\n",
       "      <td>60</td>\n",
       "      <td>26</td>\n",
       "      <td>5946.0</td>\n",
       "      <td>0.068931</td>\n",
       "      <td>0-1-2-3-10-11</td>\n",
       "      <td>69.5</td>\n",
       "      <td>NaN</td>\n",
       "      <td>0</td>\n",
       "      <td>5772.0</td>\n",
       "    </tr>\n",
       "    <tr>\n",
       "      <th>AAACCCAAGGCACGAT-0-0</th>\n",
       "      <td>SNG</td>\n",
       "      <td>1469</td>\n",
       "      <td>922</td>\n",
       "      <td>P</td>\n",
       "      <td>55</td>\n",
       "      <td>2</td>\n",
       "      <td>9716.0</td>\n",
       "      <td>0.010909</td>\n",
       "      <td>0-1-3-4-5-8</td>\n",
       "      <td>87.2</td>\n",
       "      <td>NaN</td>\n",
       "      <td>0</td>\n",
       "      <td>3328.0</td>\n",
       "    </tr>\n",
       "    <tr>\n",
       "      <th>...</th>\n",
       "      <td>...</td>\n",
       "      <td>...</td>\n",
       "      <td>...</td>\n",
       "      <td>...</td>\n",
       "      <td>...</td>\n",
       "      <td>...</td>\n",
       "      <td>...</td>\n",
       "      <td>...</td>\n",
       "      <td>...</td>\n",
       "      <td>...</td>\n",
       "      <td>...</td>\n",
       "      <td>...</td>\n",
       "      <td>...</td>\n",
       "    </tr>\n",
       "    <tr>\n",
       "      <th>TTTGTTGGTTAGGCTT-11-11</th>\n",
       "      <td>SNG</td>\n",
       "      <td>801</td>\n",
       "      <td>485</td>\n",
       "      <td>A</td>\n",
       "      <td>28</td>\n",
       "      <td>57</td>\n",
       "      <td>4732.0</td>\n",
       "      <td>0.040152</td>\n",
       "      <td>1-2-3-6-10-11</td>\n",
       "      <td>78.9</td>\n",
       "      <td>NaN</td>\n",
       "      <td>11</td>\n",
       "      <td>3120.0</td>\n",
       "    </tr>\n",
       "    <tr>\n",
       "      <th>TTTGTTGTCACTAGCA-11-11</th>\n",
       "      <td>SNG</td>\n",
       "      <td>469</td>\n",
       "      <td>363</td>\n",
       "      <td>C</td>\n",
       "      <td>6</td>\n",
       "      <td>38</td>\n",
       "      <td>3387.0</td>\n",
       "      <td>0.037146</td>\n",
       "      <td>3-4-6-7-8-11</td>\n",
       "      <td>68.4</td>\n",
       "      <td>68.4</td>\n",
       "      <td>11</td>\n",
       "      <td>2814.0</td>\n",
       "    </tr>\n",
       "    <tr>\n",
       "      <th>TTTGTTGTCCGCTAGG-11-11</th>\n",
       "      <td>SNG</td>\n",
       "      <td>1722</td>\n",
       "      <td>842</td>\n",
       "      <td>B</td>\n",
       "      <td>38</td>\n",
       "      <td>63</td>\n",
       "      <td>8659.0</td>\n",
       "      <td>0.050231</td>\n",
       "      <td>0-3-4-7-8-11</td>\n",
       "      <td>65.8</td>\n",
       "      <td>NaN</td>\n",
       "      <td>11</td>\n",
       "      <td>4466.0</td>\n",
       "    </tr>\n",
       "    <tr>\n",
       "      <th>TTTGTTGTCGAGTGGA-11-11</th>\n",
       "      <td>SNG</td>\n",
       "      <td>3945</td>\n",
       "      <td>1440</td>\n",
       "      <td>A</td>\n",
       "      <td>50</td>\n",
       "      <td>55</td>\n",
       "      <td>18546.0</td>\n",
       "      <td>0.062844</td>\n",
       "      <td>0-1-4-8-9-11</td>\n",
       "      <td>57.3</td>\n",
       "      <td>NaN</td>\n",
       "      <td>11</td>\n",
       "      <td>3807.0</td>\n",
       "    </tr>\n",
       "    <tr>\n",
       "      <th>TTTGTTGTCTTCTGGC-11-11</th>\n",
       "      <td>SNG</td>\n",
       "      <td>884</td>\n",
       "      <td>596</td>\n",
       "      <td>C</td>\n",
       "      <td>20</td>\n",
       "      <td>19</td>\n",
       "      <td>4727.0</td>\n",
       "      <td>0.064523</td>\n",
       "      <td>1-3-6-8-10-11</td>\n",
       "      <td>59.3</td>\n",
       "      <td>59.3</td>\n",
       "      <td>11</td>\n",
       "      <td>2926.0</td>\n",
       "    </tr>\n",
       "  </tbody>\n",
       "</table>\n",
       "<p>180813 rows × 13 columns</p>\n",
       "</div>"
      ],
      "text/plain": [
       "                       DROPLET.TYPE  NUM.READS  NUM.SNPS cond  exp_id  \\\n",
       "AAACCCAAGATGGCAC-0-0            SNG        855       597    C      34   \n",
       "AAACCCAAGCGAATGC-0-0            SNG       1050       667    C      45   \n",
       "AAACCCAAGCTACTGT-0-0            SNG       1508       969    P      48   \n",
       "AAACCCAAGGACAACC-0-0            SNG       1001       592    B      60   \n",
       "AAACCCAAGGCACGAT-0-0            SNG       1469       922    P      55   \n",
       "...                             ...        ...       ...  ...     ...   \n",
       "TTTGTTGGTTAGGCTT-11-11          SNG        801       485    A      28   \n",
       "TTTGTTGTCACTAGCA-11-11          SNG        469       363    C       6   \n",
       "TTTGTTGTCCGCTAGG-11-11          SNG       1722       842    B      38   \n",
       "TTTGTTGTCGAGTGGA-11-11          SNG       3945      1440    A      50   \n",
       "TTTGTTGTCTTCTGGC-11-11          SNG        884       596    C      20   \n",
       "\n",
       "                        free_id  n_counts-mrna  percent_mito      pool_code  \\\n",
       "AAACCCAAGATGGCAC-0-0         56         5195.0      0.040616   0-4-7-8-9-11   \n",
       "AAACCCAAGCGAATGC-0-0         13         6400.0      0.045767   0-2-3-5-7-10   \n",
       "AAACCCAAGCTACTGT-0-0         37         9675.0      0.017462  0-1-8-9-10-11   \n",
       "AAACCCAAGGACAACC-0-0         26         5946.0      0.068931  0-1-2-3-10-11   \n",
       "AAACCCAAGGCACGAT-0-0          2         9716.0      0.010909    0-1-3-4-5-8   \n",
       "...                         ...            ...           ...            ...   \n",
       "TTTGTTGGTTAGGCTT-11-11       57         4732.0      0.040152  1-2-3-6-10-11   \n",
       "TTTGTTGTCACTAGCA-11-11       38         3387.0      0.037146   3-4-6-7-8-11   \n",
       "TTTGTTGTCCGCTAGG-11-11       63         8659.0      0.050231   0-3-4-7-8-11   \n",
       "TTTGTTGTCGAGTGGA-11-11       55        18546.0      0.062844   0-1-4-8-9-11   \n",
       "TTTGTTGTCTTCTGGC-11-11       19         4727.0      0.064523  1-3-6-8-10-11   \n",
       "\n",
       "                        viability_eq_ctrl  viability_sample batch  \\\n",
       "AAACCCAAGATGGCAC-0-0                 85.0              85.0     0   \n",
       "AAACCCAAGCGAATGC-0-0                 81.9              81.9     0   \n",
       "AAACCCAAGCTACTGT-0-0                 76.4               NaN     0   \n",
       "AAACCCAAGGACAACC-0-0                 69.5               NaN     0   \n",
       "AAACCCAAGGCACGAT-0-0                 87.2               NaN     0   \n",
       "...                                   ...               ...   ...   \n",
       "TTTGTTGGTTAGGCTT-11-11               78.9               NaN    11   \n",
       "TTTGTTGTCACTAGCA-11-11               68.4              68.4    11   \n",
       "TTTGTTGTCCGCTAGG-11-11               65.8               NaN    11   \n",
       "TTTGTTGTCGAGTGGA-11-11               57.3               NaN    11   \n",
       "TTTGTTGTCTTCTGGC-11-11               59.3              59.3    11   \n",
       "\n",
       "                        n_counts-adts  \n",
       "AAACCCAAGATGGCAC-0-0           2767.0  \n",
       "AAACCCAAGCGAATGC-0-0           3361.0  \n",
       "AAACCCAAGCTACTGT-0-0           2740.0  \n",
       "AAACCCAAGGACAACC-0-0           5772.0  \n",
       "AAACCCAAGGCACGAT-0-0           3328.0  \n",
       "...                               ...  \n",
       "TTTGTTGGTTAGGCTT-11-11         3120.0  \n",
       "TTTGTTGTCACTAGCA-11-11         2814.0  \n",
       "TTTGTTGTCCGCTAGG-11-11         4466.0  \n",
       "TTTGTTGTCGAGTGGA-11-11         3807.0  \n",
       "TTTGTTGTCTTCTGGC-11-11         2926.0  \n",
       "\n",
       "[180813 rows x 13 columns]"
      ]
     },
     "execution_count": 71,
     "metadata": {},
     "output_type": "execute_result"
    }
   ],
   "source": [
    "concat_adts['adata'].obs"
   ]
  },
  {
   "cell_type": "code",
   "execution_count": 72,
   "metadata": {},
   "outputs": [
    {
     "name": "stderr",
     "output_type": "stream",
     "text": [
      "... storing 'DROPLET.TYPE' as categorical\n",
      "... storing 'cond' as categorical\n",
      "... storing 'pool_code' as categorical\n",
      "... storing 'feature_types' as categorical\n",
      "... storing 'genome' as categorical\n"
     ]
    },
    {
     "name": "stdout",
     "output_type": "stream",
     "text": [
      "Standardizing Data across genes.\n",
      "\n",
      "Found 12 batches\n",
      "\n",
      "Found 1 categorical variables:\n",
      "\tcond\n",
      "\n",
      "Found 1 numerical variables:\n",
      "\texp_id\n",
      "\n",
      "Fitting L/S model and finding priors\n",
      "\n",
      "Finding parametric adjustments\n",
      "\n",
      "Adjusting data\n",
      "\n"
     ]
    }
   ],
   "source": [
    "warnings.filterwarnings('ignore')\n",
    "sc.pp.combat(concat_adts['adata'], key='batch',covariates=['cond','exp_id'])\n",
    "warnings.filterwarnings('default')"
   ]
  },
  {
   "cell_type": "code",
   "execution_count": 73,
   "metadata": {},
   "outputs": [
    {
     "data": {
      "image/png": "[encoded data removed]",
      "text/plain": [
       "<Figure size 800x320 with 2 Axes>"
      ]
     },
     "metadata": {
      "image/png": {
       "height": 287,
       "width": 689
      },
      "needs_background": "light"
     },
     "output_type": "display_data"
    }
   ],
   "source": [
    "fig, ax = plt.subplots(1,2,figsize=(10,4))\n",
    "ax[0].hist(concat_adts['adata'].obs_vector('CD45RA|PTPRC'),bins=100);\n",
    "ax[1].hist(concat_adts['adata'].obs_vector('CD45RA|PTPRC'),bins=100);\n",
    "ax[1].set_yscale('log');"
   ]
  },
  {
   "cell_type": "markdown",
   "metadata": {},
   "source": [
    "Looks a bit better. I'll keep it like that."
   ]
  },
  {
   "cell_type": "code",
   "execution_count": 75,
   "metadata": {},
   "outputs": [],
   "source": [
    "path = prefix + 'pkls/combat/concat.combat.adts.norm.log.pkl'\n",
    "\n",
    "# with open(path,'wb') as file:\n",
    "#     pkl.dump(concat_adts, file)\n",
    "    \n",
    "with open(path,'rb') as file:\n",
    "    concat_adts = pkl.load(file)"
   ]
  },
  {
   "cell_type": "code",
   "execution_count": null,
   "metadata": {},
   "outputs": [],
   "source": []
  }
 ],
 "metadata": {
  "kernelspec": {
   "display_name": "codec",
   "language": "python",
   "name": "codec"
  },
  "language_info": {
   "codemirror_mode": {
    "name": "ipython",
    "version": 3
   },
   "file_extension": ".py",
   "mimetype": "text/x-python",
   "name": "python",
   "nbconvert_exporter": "python",
   "pygments_lexer": "ipython3",
   "version": "3.6.7"
  }
 },
 "nbformat": 4,
 "nbformat_minor": 4
}
