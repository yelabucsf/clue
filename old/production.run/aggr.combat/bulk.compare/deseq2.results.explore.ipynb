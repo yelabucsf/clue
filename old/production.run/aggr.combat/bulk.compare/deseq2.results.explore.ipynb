{
 "cells": [
  {
   "cell_type": "markdown",
   "metadata": {},
   "source": [
    "### Load in DESeq2 Results"
   ]
  },
  {
   "cell_type": "markdown",
   "metadata": {},
   "source": [
    "As mentioned, I ran DESeq2 in a separate notebook. I ran two tests, one that just compares every stim to the control for every non-zero time point (labeled by the hour in the cell below), and another that tries to model stimulation-specific changes over time (labeled as TC below). I'll read in all, but since I'm not *exactly* sure how to interpret the latter, I'm really only going to focus on the former in this notebook."
   ]
  },
  {
   "cell_type": "code",
   "execution_count": 1,
   "metadata": {},
   "outputs": [],
   "source": [
    "import pandas as pd\n",
    "from tqdm.notebook import tqdm\n",
    "import numpy as np\n",
    "import matplotlib.pyplot as plt\n",
    "from matplotlib.pyplot import rcParams\n",
    "import seaborn as sns\n",
    "import pickle as pkl\n",
    "import itertools as it\n",
    "from functools import reduce\n",
    "import scanpy as sc"
   ]
  },
  {
   "cell_type": "code",
   "execution_count": 2,
   "metadata": {},
   "outputs": [],
   "source": [
    "prefix = '/data/codec/'"
   ]
  },
  {
   "cell_type": "code",
   "execution_count": 3,
   "metadata": {},
   "outputs": [],
   "source": [
    "conds = ['A', 'B', 'G', 'P', 'R']"
   ]
  },
  {
   "cell_type": "code",
   "execution_count": 61,
   "metadata": {},
   "outputs": [],
   "source": [
    "cond_dict = {'TNFa': 'A',\n",
    "             'R848': 'R',\n",
    "             'PMAI': 'P',\n",
    "             'IFNG': 'G',\n",
    "             'IFNB': 'B',\n",
    "             'Control': 'C'\n",
    "            } # copied from another notebook, but need to invert here\n",
    "cond_dict = {v: k for k, v in cond_dict.items()}"
   ]
  },
  {
   "cell_type": "markdown",
   "metadata": {},
   "source": [
    "Read in the results."
   ]
  },
  {
   "cell_type": "code",
   "execution_count": 62,
   "metadata": {},
   "outputs": [],
   "source": [
    "de = dict() # differential expression dictionary\n",
    "for modality in ['p', 'b']:\n",
    "    de[modality] = dict()\n",
    "    \n",
    "for cond in conds:\n",
    "    de['p'][cond] = pd.read_csv(prefix + 'production.run/mrna/deseq2.res/pseudobulks/' + cond + '.csv', index_col=0).dropna()  \n",
    "\n",
    "for cond in conds:\n",
    "    de['b'][cond] = pd.read_csv(prefix + 'bulk.jan20/deseq2.res/' + cond_dict[cond] + '.9.csv', index_col=0).dropna()"
   ]
  },
  {
   "cell_type": "markdown",
   "metadata": {},
   "source": [
    "Using the 80th percentile positive log2fc and the p_adj < 0.01, I will now extract out differentially expressed genes."
   ]
  },
  {
   "cell_type": "code",
   "execution_count": 63,
   "metadata": {},
   "outputs": [],
   "source": [
    "de_genes = dict() # make a dictionary\n",
    "\n",
    "for modality in ['b','p']:\n",
    "    de_genes[modality] = dict()\n",
    "    for cond in conds: # this has all the conditions\n",
    "        df = de[modality][cond]\n",
    "        df = df[df['log2FoldChange'] > 0]\n",
    "        fc_thresh = np.percentile(df['log2FoldChange'],90)\n",
    "        de_genes[modality][cond] = df.index[(df['log2FoldChange'] > fc_thresh) & \n",
    "                                    (df['padj'] < 0.01)\n",
    "                                   ].tolist() "
   ]
  },
  {
   "cell_type": "code",
   "execution_count": 64,
   "metadata": {},
   "outputs": [
    {
     "name": "stdout",
     "output_type": "stream",
     "text": [
      "123\n",
      "274\n",
      "242\n",
      "379\n",
      "328\n",
      "490\n",
      "717\n",
      "667\n",
      "867\n",
      "819\n"
     ]
    }
   ],
   "source": [
    "for modality in de_genes:\n",
    "    for cond in conds:\n",
    "        print(len(de_genes[modality][cond]))"
   ]
  },
  {
   "cell_type": "code",
   "execution_count": 176,
   "metadata": {},
   "outputs": [],
   "source": [
    "df = pd.DataFrame(0, index=conds, columns=conds)"
   ]
  },
  {
   "cell_type": "code",
   "execution_count": 177,
   "metadata": {},
   "outputs": [
    {
     "data": {
      "application/vnd.jupyter.widget-view+json": {
       "model_id": "5b2627636f7f419fbae597f4e366f61a",
       "version_major": 2,
       "version_minor": 0
      },
      "text/plain": [
       "HBox(children=(FloatProgress(value=1.0, bar_style='info', max=1.0), HTML(value='')))"
      ]
     },
     "metadata": {},
     "output_type": "display_data"
    },
    {
     "name": "stdout",
     "output_type": "stream",
     "text": [
      "\n"
     ]
    }
   ],
   "source": [
    "for c1, c2 in tqdm(it.combinations(conds, r=2)):\n",
    "    df.loc[c2, c1] = len(np.intersect1d(de_genes['b'][c1], de_genes['p'][c2]))/len(np.union1d(de_genes['b'][c1], de_genes['p'][c2]))"
   ]
  },
  {
   "cell_type": "code",
   "execution_count": 178,
   "metadata": {},
   "outputs": [],
   "source": [
    "for c1 in conds:\n",
    "    df.loc[c1, c1] = len(np.intersect1d(de_genes['b'][c1], de_genes['p'][c1]))/len(np.union1d(de_genes['b'][c1], de_genes['p'][c1]))"
   ]
  },
  {
   "cell_type": "code",
   "execution_count": 179,
   "metadata": {},
   "outputs": [],
   "source": [
    "mask = np.zeros_like(df, dtype=np.bool)"
   ]
  },
  {
   "cell_type": "code",
   "execution_count": 180,
   "metadata": {},
   "outputs": [],
   "source": [
    "mask[np.triu_indices_from(mask, k=1)] = True"
   ]
  },
  {
   "cell_type": "code",
   "execution_count": 181,
   "metadata": {},
   "outputs": [
    {
     "data": {
      "image/png": "[encoded data removed]",
      "text/plain": [
       "<Figure size 504x504 with 2 Axes>"
      ]
     },
     "metadata": {
      "needs_background": "light"
     },
     "output_type": "display_data"
    }
   ],
   "source": [
    "plt.figure(figsize=(7,7))\n",
    "sns.heatmap(df, mask=mask, square=True)\n",
    "plt.title('Jaccard Index of Gene Sets\\nDifferentially Expressed from Control')\n",
    "plt.ylabel('Pseudobulk')\n",
    "plt.xlabel('Bulk');"
   ]
  },
  {
   "cell_type": "code",
   "execution_count": 335,
   "metadata": {},
   "outputs": [],
   "source": [
    "def standard_triangle(input_arr):\n",
    "    arr = input_arr.copy()\n",
    "    assert arr.shape[0] == arr.shape[1]\n",
    "    dim = arr.shape[0]\n",
    "    \n",
    "    mask = np.zeros_like(arr, dtype=np.bool)\n",
    "    mask[np.triu_indices_from(arr, k=1)] = True\n",
    "    assert all(arr[mask] == False)\n",
    "    \n",
    "    raveled = arr.ravel().copy()\n",
    "    for i, j in it.combinations_with_replacement(range(arr.shape[0]), r=2):\n",
    "        vals_with_zeros = raveled[[any([k, m]) for k, m in it.product(np.arange(dim) == j, np.arange(dim) == i)]]\n",
    "        vals_nonzero = vals_with_zeros[vals_with_zeros != 0]\n",
    "        ind = (vals_nonzero == arr[j, i]).argmax()\n",
    "        vals_nonzero = (vals_nonzero - min(vals_nonzero))\n",
    "        vals_nonzero = vals_nonzero/vals_nonzero.max()\n",
    "        arr[j, i] = vals_nonzero[ind]\n",
    "    return arr"
   ]
  },
  {
   "cell_type": "code",
   "execution_count": 336,
   "metadata": {},
   "outputs": [],
   "source": [
    "arr = df.values.copy()"
   ]
  },
  {
   "cell_type": "code",
   "execution_count": 344,
   "metadata": {},
   "outputs": [
    {
     "data": {
      "application/vnd.jupyter.widget-view+json": {
       "model_id": "63ee1723c2b64c9ab4871dc7ad32c960",
       "version_major": 2,
       "version_minor": 0
      },
      "text/plain": [
       "HBox(children=(FloatProgress(value=1.0, bar_style='info', max=1.0), HTML(value='')))"
      ]
     },
     "metadata": {},
     "output_type": "display_data"
    },
    {
     "name": "stdout",
     "output_type": "stream",
     "text": [
      "\n"
     ]
    },
    {
     "data": {
      "image/png": "[encoded data removed]",
      "text/plain": [
       "<Figure size 504x504 with 2 Axes>"
      ]
     },
     "metadata": {
      "needs_background": "light"
     },
     "output_type": "display_data"
    }
   ],
   "source": [
    "plt.figure(figsize=(7,7))\n",
    "sns.heatmap(pd.DataFrame(standard_triangle(arr), index=df.index, columns=df.columns), mask=mask, square=True)\n",
    "plt.title('Jaccard Index of Gene Sets\\nDifferentially Expressed from Control\\n(Standard Scale)')\n",
    "plt.ylabel('Pseudobulk')\n",
    "plt.xlabel('Bulk');"
   ]
  },
  {
   "cell_type": "code",
   "execution_count": 339,
   "metadata": {},
   "outputs": [],
   "source": [
    "diagonal = df.values.diagonal()"
   ]
  },
  {
   "cell_type": "code",
   "execution_count": 340,
   "metadata": {},
   "outputs": [],
   "source": [
    "non_diagonal_with_nans = df.mask(np.equal(*np.indices(df.shape))).values.flatten()\n",
    "non_diagonal = np.unique(non_diagonal_with_nans[~np.isnan(non_diagonal_with_nans)])"
   ]
  },
  {
   "cell_type": "code",
   "execution_count": 341,
   "metadata": {},
   "outputs": [],
   "source": [
    "df_compare = pd.DataFrame(data=list(zip(['SAME']*len(diagonal),\n",
    "                           diagonal)) + \n",
    "             list(zip(['DIFF']*len(non_diagonal),\n",
    "                      non_diagonal)), columns=['COMPARISON', 'JACCARD'])"
   ]
  },
  {
   "cell_type": "code",
   "execution_count": 342,
   "metadata": {},
   "outputs": [
    {
     "data": {
      "text/plain": [
       "(0.0, 0.5)"
      ]
     },
     "execution_count": 342,
     "metadata": {},
     "output_type": "execute_result"
    },
    {
     "data": {
      "image/png": "[encoded data removed]",
      "text/plain": [
       "<Figure size 216x288 with 1 Axes>"
      ]
     },
     "metadata": {
      "needs_background": "light"
     },
     "output_type": "display_data"
    }
   ],
   "source": [
    "plt.figure(figsize=(3,4))\n",
    "sns.stripplot(data=df_compare, x='COMPARISON', y='JACCARD');\n",
    "plt.title('Jaccard Index of Gene Sets\\nDifferentially Expressed from Control')\n",
    "plt.ylim(0.0, 0.5)"
   ]
  },
  {
   "cell_type": "code",
   "execution_count": 102,
   "metadata": {},
   "outputs": [],
   "source": [
    "de_union = list()\n",
    "for modality in de:\n",
    "    for cond in conds:\n",
    "        de_union.append(de_genes[modality][cond])"
   ]
  },
  {
   "cell_type": "code",
   "execution_count": 104,
   "metadata": {},
   "outputs": [],
   "source": [
    "de_union = np.unique([i for j in de_union for i in j])"
   ]
  },
  {
   "cell_type": "code",
   "execution_count": 109,
   "metadata": {},
   "outputs": [],
   "source": [
    "file_path = prefix + 'production.run/mrna/var/de_union.genes.txt'\n",
    "with open(file_path, 'w') as file:\n",
    "    for gene in de_union:\n",
    "        file.write(gene + '\\n')"
   ]
  },
  {
   "cell_type": "markdown",
   "metadata": {},
   "source": [
    "# Figures"
   ]
  },
  {
   "cell_type": "code",
   "execution_count": 347,
   "metadata": {},
   "outputs": [],
   "source": [
    "fig_prefix = '/data/codec/production.run/figs/'"
   ]
  },
  {
   "cell_type": "code",
   "execution_count": 351,
   "metadata": {},
   "outputs": [],
   "source": [
    "filename = fig_prefix + 'bulk.compare/jaccard.de.gene.sets.png'\n",
    "plt.figure(figsize=(7,7))\n",
    "sns.heatmap(df, mask=mask, square=True)\n",
    "plt.title('Jaccard Index of Gene Sets\\nDifferentially Expressed from Control')\n",
    "plt.ylabel('Pseudobulk')\n",
    "plt.xlabel('Bulk');\n",
    "plt.tight_layout()\n",
    "plt.savefig(filename, dpi=80)\n",
    "plt.close()"
   ]
  },
  {
   "cell_type": "code",
   "execution_count": 354,
   "metadata": {},
   "outputs": [
    {
     "data": {
      "application/vnd.jupyter.widget-view+json": {
       "model_id": "ecdbbdd557b74373aaba16f16ffea2ea",
       "version_major": 2,
       "version_minor": 0
      },
      "text/plain": [
       "HBox(children=(FloatProgress(value=1.0, bar_style='info', max=1.0), HTML(value='')))"
      ]
     },
     "metadata": {},
     "output_type": "display_data"
    },
    {
     "name": "stdout",
     "output_type": "stream",
     "text": [
      "\n"
     ]
    }
   ],
   "source": [
    "filename = fig_prefix + 'bulk.compare/jaccard.de.gene.sets.std.scale.png'\n",
    "plt.figure(figsize=(7,7))\n",
    "sns.heatmap(pd.DataFrame(standard_triangle(arr), index=df.index, columns=df.columns), mask=mask, square=True)\n",
    "plt.title('Jaccard Index of Gene Sets\\nDifferentially Expressed from Control\\n(Standard Scale)')\n",
    "plt.ylabel('Pseudobulk')\n",
    "plt.xlabel('Bulk');\n",
    "plt.tight_layout()\n",
    "plt.savefig(filename, dpi=80)\n",
    "plt.close()"
   ]
  },
  {
   "cell_type": "code",
   "execution_count": 358,
   "metadata": {},
   "outputs": [],
   "source": [
    "filename = fig_prefix + 'bulk.compare/jaccard.de.gene.sets.strip.png'\n",
    "plt.figure(figsize=(3,4))\n",
    "sns.stripplot(data=df_compare, x='COMPARISON', y='JACCARD');\n",
    "plt.title('Jaccard Index of Gene Sets\\nDifferentially Expressed from Control')\n",
    "plt.ylim(0.0, 0.5)\n",
    "plt.tight_layout()\n",
    "plt.savefig(filename, dpi=80)\n",
    "plt.close()"
   ]
  },
  {
   "cell_type": "code",
   "execution_count": 82,
   "metadata": {},
   "outputs": [],
   "source": [
    "filename = fig_prefix + 'deconvolution/cell.number.matrix.batch.by.expid.png'\n",
    "plt.figure(figsize=(30,4.5))\n",
    "sns.heatmap(scheme != '0');\n",
    "plt.ylabel('Batch')\n",
    "plt.xlabel('Experimental Donor ID');\n",
    "plt.savefig(filename, dpi=80)\n",
    "plt.close()"
   ]
  },
  {
   "cell_type": "code",
   "execution_count": 94,
   "metadata": {},
   "outputs": [],
   "source": [
    "filename = fig_prefix + 'mito.effects/exp.variables.dont.explain.high.mito.png'\n",
    "\n",
    "fig, ax = plt.subplots(1, 2, figsize=(12,6))\n",
    "\n",
    "exp_viabilities = postpool[postpool['count_type'] == 'post_flowmi']['viability'].values\n",
    "high_mitos = list(map(lambda well: wells[well]['percent_high_percent_mito'], range(12)))\n",
    "ax[0].scatter(exp_viabilities, high_mitos);\n",
    "r, p = pearsonr(exp_viabilities,high_mitos)\n",
    "ax[0].text(0.25,0.9, 'r=' + str(r)[:5], size=12, transform=ax[0].transAxes, ha='right')\n",
    "ax[0].text(0.25,0.85, 'p=' + str(p)[:5], size=12, transform=ax[0].transAxes, ha='right')\n",
    "ax[0].set_ylabel('Percentage of Cells that \\nhave High Percent Mito')\n",
    "ax[0].set_xlabel('Viability of Pool Right before Loading\\n(Countess)');\n",
    "\n",
    "x = mean_viablities\n",
    "y = list(map(lambda well: wells[well]['percent_high_percent_mito'], range(12)))\n",
    "ax[1].scatter(x, y);\n",
    "r, p = pearsonr(x,y)\n",
    "plt.text(0.35,0.7, 'r=' + str(r)[:5], size=12, transform=ax[1].transAxes, ha='right')\n",
    "plt.text(0.35,0.65, 'p=' + str(p)[:5], size=12, transform=ax[1].transAxes, ha='right')\n",
    "ax[1].set_ylabel('Percentage of Cells that \\nhave High Percent Mito')\n",
    "ax[1].set_xlabel('Average Viability of Samples that were\\nCounted (FACS) and Pooled');\n",
    "\n",
    "plt.tight_layout()\n",
    "\n",
    "plt.savefig(filename, dpi=80)\n",
    "plt.close()"
   ]
  },
  {
   "cell_type": "code",
   "execution_count": 113,
   "metadata": {},
   "outputs": [],
   "source": [
    "filename = str(sc.settings.figdir) + '/mito.effects/conditions.dont.explain.high.mito.png'\n",
    "\n",
    "fig, ax = plt.subplots(1,6,figsize=(30,4.5))\n",
    "ax[0].set_ylabel('Percentage of Cells that \\nhave High Percent Mito')\n",
    "ax[2].text(1, -0.25, 'Percent of Cells \\n Belonging to each Condition', transform=ax[2].transAxes, ha='center')\n",
    "ax[2].text(1, 1.15, \"Conditions Don't Explain Batch-Specific High Mito\",fontdict={'fontsize':20}, transform=ax[2].transAxes, ha='center')\n",
    "for cond, ax in zip(conds, ax):\n",
    "    x = cond_props[cond].values\n",
    "    y = list(map(lambda well: wells[well]['percent_high_percent_mito'], range(12)))\n",
    "    ax.scatter(x,y)\n",
    "    ax.set_title(cond)\n",
    "    r, p = pearsonr(x,y)\n",
    "    ax.text(0.95,0.9, 'r=' + str(r)[:5], size=12, transform=ax.transAxes, ha='right')\n",
    "    ax.text(0.95,0.85, 'p=' + str(p)[:5], size=12, transform=ax.transAxes, ha='right')\n",
    "\n",
    "plt.savefig(filename, dpi=80)\n",
    "plt.close()"
   ]
  },
  {
   "cell_type": "code",
   "execution_count": 127,
   "metadata": {},
   "outputs": [],
   "source": [
    "filename = fig_prefix + 'deconvolution/cell.number.matrix.batch.by.freeid.ordered.png'\n",
    "plt.figure(figsize=(30,4.5))\n",
    "sns.heatmap(deconvolution_ordered);\n",
    "plt.ylabel('Batch');\n",
    "plt.xlabel('Freemuxlet Donor ID');\n",
    "plt.savefig(filename, dpi=80)\n",
    "plt.close()"
   ]
  },
  {
   "cell_type": "code",
   "execution_count": 177,
   "metadata": {},
   "outputs": [],
   "source": [
    "filename = fig_prefix + '/deconvolution/cell.number.cond.freeid.stacked.bar.png'\n",
    "labels = deconvolution_ordered.columns.values\n",
    "counts = dict()\n",
    "\n",
    "for cond in conds:\n",
    "    counts[cond] = deconvolution_ordered.values.T[(scheme==cond).values.T]\n",
    "\n",
    "fig, ax = plt.subplots(figsize=(30,5))\n",
    "lastpos = [0]*64\n",
    "for cond in counts:\n",
    "    ax.bar(labels, counts[cond], label=cond, bottom=lastpos, color=cond_colors[cond])\n",
    "    lastpos = counts[cond] + lastpos\n",
    "\n",
    "ax.set_ylabel('Counts')\n",
    "ax.legend()\n",
    "\n",
    "plt.savefig(filename, dpi=80)\n",
    "plt.close()"
   ]
  },
  {
   "cell_type": "code",
   "execution_count": 255,
   "metadata": {},
   "outputs": [],
   "source": [
    "filename = fig_prefix + '/deconvolution/cell.number.cond.stripplot.png'\n",
    "plt.figure(figsize=(7,5))\n",
    "sns.stripplot(data=counts_df,x='cond',y='count');\n",
    "plt.xlabel('Condition');\n",
    "plt.xlabel('Counts');\n",
    "plt.savefig(filename, dpi=80)\n",
    "plt.close()"
   ]
  }
 ],
 "metadata": {
  "kernelspec": {
   "display_name": "codec",
   "language": "python",
   "name": "codec"
  },
  "language_info": {
   "codemirror_mode": {
    "name": "ipython",
    "version": 3
   },
   "file_extension": ".py",
   "mimetype": "text/x-python",
   "name": "python",
   "nbconvert_exporter": "python",
   "pygments_lexer": "ipython3",
   "version": "3.6.10"
  }
 },
 "nbformat": 4,
 "nbformat_minor": 4
}
