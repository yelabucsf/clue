{
 "cells": [
  {
   "cell_type": "markdown",
   "metadata": {
    "jupyter": {
     "outputs_hidden": true
    }
   },
   "source": [
    "### Running DESeq2\n",
    "\n",
    "As I went looking for single-cell differential expression packages, I came across [this paper](https://bmcbioinformatics.biomedcentral.com/articles/10.1186/s12859-019-2599-6) and unabashedly skipped to the conclusion which reported that \"methods developed specifically for scRNAseq data do not show significantly better performance compared to the methods designed for bulk RNAseq data; and methods that consider behavior of each individual gene (not all genes) in calling DE genes outperform the other tools.\"\n",
    "\n",
    "Luckily, I have already used DESeq2 (which is designed for bulk-seq data). It also _is_ one of the methods that considers the behavior of each individual gene (according to the same paper). For those reasons, I'm applying it here. \n",
    "\n"
   ]
  },
  {
   "cell_type": "code",
   "execution_count": 1,
   "metadata": {
    "collapsed": true,
    "jupyter": {
     "outputs_hidden": true
    }
   },
   "outputs": [
    {
     "name": "stderr",
     "output_type": "stream",
     "text": [
      "Loading required package: S4Vectors\n",
      "\n",
      "Loading required package: stats4\n",
      "\n",
      "Loading required package: BiocGenerics\n",
      "\n",
      "Loading required package: parallel\n",
      "\n",
      "\n",
      "Attaching package: ‘BiocGenerics’\n",
      "\n",
      "\n",
      "The following objects are masked from ‘package:parallel’:\n",
      "\n",
      "    clusterApply, clusterApplyLB, clusterCall, clusterEvalQ,\n",
      "    clusterExport, clusterMap, parApply, parCapply, parLapply,\n",
      "    parLapplyLB, parRapply, parSapply, parSapplyLB\n",
      "\n",
      "\n",
      "The following objects are masked from ‘package:stats’:\n",
      "\n",
      "    IQR, mad, sd, var, xtabs\n",
      "\n",
      "\n",
      "The following objects are masked from ‘package:base’:\n",
      "\n",
      "    anyDuplicated, append, as.data.frame, basename, cbind, colnames,\n",
      "    dirname, do.call, duplicated, eval, evalq, Filter, Find, get, grep,\n",
      "    grepl, intersect, is.unsorted, lapply, Map, mapply, match, mget,\n",
      "    order, paste, pmax, pmax.int, pmin, pmin.int, Position, rank,\n",
      "    rbind, Reduce, rownames, sapply, setdiff, sort, table, tapply,\n",
      "    union, unique, unsplit, which, which.max, which.min\n",
      "\n",
      "\n",
      "\n",
      "Attaching package: ‘S4Vectors’\n",
      "\n",
      "\n",
      "The following object is masked from ‘package:base’:\n",
      "\n",
      "    expand.grid\n",
      "\n",
      "\n",
      "Loading required package: IRanges\n",
      "\n",
      "Loading required package: GenomicRanges\n",
      "\n",
      "Loading required package: GenomeInfoDb\n",
      "\n",
      "Loading required package: SummarizedExperiment\n",
      "\n",
      "Loading required package: Biobase\n",
      "\n",
      "Welcome to Bioconductor\n",
      "\n",
      "    Vignettes contain introductory material; view with\n",
      "    'browseVignettes()'. To cite Bioconductor, see\n",
      "    'citation(\"Biobase\")', and for packages 'citation(\"pkgname\")'.\n",
      "\n",
      "\n",
      "Loading required package: DelayedArray\n",
      "\n",
      "Loading required package: matrixStats\n",
      "\n",
      "\n",
      "Attaching package: ‘matrixStats’\n",
      "\n",
      "\n",
      "The following objects are masked from ‘package:Biobase’:\n",
      "\n",
      "    anyMissing, rowMedians\n",
      "\n",
      "\n",
      "Loading required package: BiocParallel\n",
      "\n",
      "\n",
      "Attaching package: ‘DelayedArray’\n",
      "\n",
      "\n",
      "The following objects are masked from ‘package:matrixStats’:\n",
      "\n",
      "    colMaxs, colMins, colRanges, rowMaxs, rowMins, rowRanges\n",
      "\n",
      "\n",
      "The following objects are masked from ‘package:base’:\n",
      "\n",
      "    aperm, apply, rowsum\n",
      "\n",
      "\n"
     ]
    }
   ],
   "source": [
    "library(\"DESeq2\")"
   ]
  },
  {
   "cell_type": "markdown",
   "metadata": {},
   "source": [
    "Define a path prefix:"
   ]
  },
  {
   "cell_type": "code",
   "execution_count": 2,
   "metadata": {},
   "outputs": [],
   "source": [
    "prefix <- \"/data/codec/production.run/mrna/\""
   ]
  },
  {
   "cell_type": "markdown",
   "metadata": {},
   "source": [
    "Define the directory with the counts and then a results directory."
   ]
  },
  {
   "cell_type": "code",
   "execution_count": 3,
   "metadata": {},
   "outputs": [],
   "source": [
    "countsdir <- paste(prefix,\"de.csvs/pseudobulks/\",sep=\"\")\n",
    "resdir <- paste(prefix,\"deseq2.res/pseudobulks/\",sep=\"\")"
   ]
  },
  {
   "cell_type": "markdown",
   "metadata": {},
   "source": [
    "List the files in `countsdir`."
   ]
  },
  {
   "cell_type": "code",
   "execution_count": 4,
   "metadata": {},
   "outputs": [],
   "source": [
    "sampleFiles <- list.files(countsdir)"
   ]
  },
  {
   "cell_type": "code",
   "execution_count": 5,
   "metadata": {},
   "outputs": [
    {
     "data": {
      "text/html": [
       "<style>\n",
       ".list-inline {list-style: none; margin:0; padding: 0}\n",
       ".list-inline>li {display: inline-block}\n",
       ".list-inline>li:not(:last-child)::after {content: \"\\00b7\"; padding: 0 .5ex}\n",
       "</style>\n",
       "<ol class=list-inline><li>'A.col.csv'</li><li>'A.csv'</li><li>'B.col.csv'</li><li>'B.csv'</li><li>'G.col.csv'</li><li>'G.csv'</li><li>'P.col.csv'</li><li>'P.csv'</li><li>'R.col.csv'</li><li>'R.csv'</li></ol>\n"
      ],
      "text/latex": [
       "\\begin{enumerate*}\n",
       "\\item 'A.col.csv'\n",
       "\\item 'A.csv'\n",
       "\\item 'B.col.csv'\n",
       "\\item 'B.csv'\n",
       "\\item 'G.col.csv'\n",
       "\\item 'G.csv'\n",
       "\\item 'P.col.csv'\n",
       "\\item 'P.csv'\n",
       "\\item 'R.col.csv'\n",
       "\\item 'R.csv'\n",
       "\\end{enumerate*}\n"
      ],
      "text/markdown": [
       "1. 'A.col.csv'\n",
       "2. 'A.csv'\n",
       "3. 'B.col.csv'\n",
       "4. 'B.csv'\n",
       "5. 'G.col.csv'\n",
       "6. 'G.csv'\n",
       "7. 'P.col.csv'\n",
       "8. 'P.csv'\n",
       "9. 'R.col.csv'\n",
       "10. 'R.csv'\n",
       "\n",
       "\n"
      ],
      "text/plain": [
       " [1] \"A.col.csv\" \"A.csv\"     \"B.col.csv\" \"B.csv\"     \"G.col.csv\" \"G.csv\"    \n",
       " [7] \"P.col.csv\" \"P.csv\"     \"R.col.csv\" \"R.csv\"    "
      ]
     },
     "metadata": {},
     "output_type": "display_data"
    }
   ],
   "source": [
    "sampleFiles"
   ]
  },
  {
   "cell_type": "markdown",
   "metadata": {},
   "source": [
    "File names are returned in alphabetical order, so the `col.csv` always comes before the `cts.csv`."
   ]
  },
  {
   "cell_type": "code",
   "execution_count": 7,
   "metadata": {},
   "outputs": [
    {
     "name": "stderr",
     "output_type": "stream",
     "text": [
      "converting counts to integer mode\n",
      "\n",
      "estimating size factors\n",
      "\n",
      "estimating dispersions\n",
      "\n",
      "gene-wise dispersion estimates: 30 workers\n",
      "\n",
      "mean-dispersion relationship\n",
      "\n",
      "final dispersion estimates, fitting model and testing: 30 workers\n",
      "\n",
      "-- replacing outliers and refitting for 31 genes\n",
      "-- DESeq argument 'minReplicatesForReplace' = 7 \n",
      "-- original counts are preserved in counts(dds)\n",
      "\n",
      "estimating dispersions\n",
      "\n",
      "fitting model and testing\n",
      "\n",
      "converting counts to integer mode\n",
      "\n",
      "estimating size factors\n",
      "\n",
      "estimating dispersions\n",
      "\n",
      "gene-wise dispersion estimates: 30 workers\n",
      "\n",
      "mean-dispersion relationship\n",
      "\n",
      "final dispersion estimates, fitting model and testing: 30 workers\n",
      "\n",
      "-- replacing outliers and refitting for 44 genes\n",
      "-- DESeq argument 'minReplicatesForReplace' = 7 \n",
      "-- original counts are preserved in counts(dds)\n",
      "\n",
      "estimating dispersions\n",
      "\n",
      "fitting model and testing\n",
      "\n",
      "converting counts to integer mode\n",
      "\n",
      "estimating size factors\n",
      "\n",
      "estimating dispersions\n",
      "\n",
      "gene-wise dispersion estimates: 30 workers\n",
      "\n",
      "mean-dispersion relationship\n",
      "\n",
      "final dispersion estimates, fitting model and testing: 30 workers\n",
      "\n",
      "-- replacing outliers and refitting for 42 genes\n",
      "-- DESeq argument 'minReplicatesForReplace' = 7 \n",
      "-- original counts are preserved in counts(dds)\n",
      "\n",
      "estimating dispersions\n",
      "\n",
      "fitting model and testing\n",
      "\n",
      "converting counts to integer mode\n",
      "\n",
      "estimating size factors\n",
      "\n",
      "estimating dispersions\n",
      "\n",
      "gene-wise dispersion estimates: 30 workers\n",
      "\n",
      "mean-dispersion relationship\n",
      "\n",
      "final dispersion estimates, fitting model and testing: 30 workers\n",
      "\n",
      "-- replacing outliers and refitting for 32 genes\n",
      "-- DESeq argument 'minReplicatesForReplace' = 7 \n",
      "-- original counts are preserved in counts(dds)\n",
      "\n",
      "estimating dispersions\n",
      "\n",
      "fitting model and testing\n",
      "\n",
      "converting counts to integer mode\n",
      "\n",
      "estimating size factors\n",
      "\n",
      "estimating dispersions\n",
      "\n",
      "gene-wise dispersion estimates: 30 workers\n",
      "\n",
      "mean-dispersion relationship\n",
      "\n",
      "final dispersion estimates, fitting model and testing: 30 workers\n",
      "\n",
      "-- replacing outliers and refitting for 30 genes\n",
      "-- DESeq argument 'minReplicatesForReplace' = 7 \n",
      "-- original counts are preserved in counts(dds)\n",
      "\n",
      "estimating dispersions\n",
      "\n",
      "fitting model and testing\n",
      "\n"
     ]
    }
   ],
   "source": [
    "for (cond in c(\"A\",\"B\",\"G\",\"P\",\"R\")) {\n",
    "    \n",
    "    cond_files <- grep(cond, sampleFiles, value = TRUE)\n",
    "    \n",
    "    counts <- as.matrix(read.csv(paste(countsdir, \n",
    "                                    cond_files[2], # using the second position, which is the cts.csv\n",
    "                                    sep=\"\"\n",
    "                                   ),row.names=1, check.names = FALSE))\n",
    "    \n",
    "    coldata <- read.csv(paste(countsdir, \n",
    "                              cond_files[1], # using the first position, which is the col.csv\n",
    "                              sep=\"\"\n",
    "                             ), row.names=1)\n",
    "    \n",
    "    # reclassify as factor, right now reading at an integer\n",
    "    coldata$FID <- as.factor(coldata$FID)\n",
    "    \n",
    "# #     # first, run the time course model outlined in the rnaseqgene vignette\n",
    "# #     ddsTC <- DESeqDataSetFromMatrix(countData = cts,\n",
    "# #                     colData = coldata,\n",
    "# #                                 design = ~ cond + TIME + cond:TIME\n",
    "# #                                )\n",
    "# #     ddsTC <- DESeq(ddsTC, test=\"LRT\", reduced = ~ cond + TIME)\n",
    "# #     res <- results(ddsTC)\n",
    "# #     write.csv(as.data.frame(res), file=paste(resdir,cond,\".TC.csv\",sep=\"\"))\n",
    "    \n",
    "    # then for each time point, do just regular differential expression between condulation and control\n",
    "\n",
    "    dds <- DESeqDataSetFromMatrix(countData = counts,\n",
    "                          colData = coldata,\n",
    "                          design = ~ COND\n",
    "                         )\n",
    "    dds <- DESeq(dds, parallel = TRUE)\n",
    "    res <- results(dds, contrast = c(\"COND\",cond,\"C\"))\n",
    "    write.csv(as.data.frame(res), file=paste(resdir, cond, \".csv\",sep=\"\"))\n",
    "    \n",
    "}"
   ]
  },
  {
   "cell_type": "code",
   "execution_count": null,
   "metadata": {},
   "outputs": [],
   "source": []
  }
 ],
 "metadata": {
  "kernelspec": {
   "display_name": "R",
   "language": "R",
   "name": "ir"
  },
  "language_info": {
   "codemirror_mode": "r",
   "file_extension": ".r",
   "mimetype": "text/x-r-source",
   "name": "R",
   "pygments_lexer": "r",
   "version": "3.6.3"
  }
 },
 "nbformat": 4,
 "nbformat_minor": 4
}
