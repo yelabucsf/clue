{
 "cells": [
  {
   "cell_type": "markdown",
   "metadata": {},
   "source": [
    "## Simple Notebook to Check VCF Similarity\n",
    "This uses a simple similarity score, determining which patients among two different demultiplexing outputs are likely representing the same person. It looks at the VCF and does a simple similarity score, looking at how many sites (out of the total number of sites) are identical between all pairwise individuals."
   ]
  },
  {
   "cell_type": "markdown",
   "metadata": {},
   "source": [
    "In general, I usually only import VCFs after they've been processed a certain amount. From bulk RNA reads (using the GATK HaplotypeCaller tool), I generally run:\n",
    "\n",
    "`gatk -T VariantAnnotator -R /path/to/genome.fa -V my.vcf.gz -o my.1kg.vcf.gz --dbsnp /path/to/human_9606.1kG.00-common_all.vcf.gz # this file available on Ye Lab S3`\n",
    "`gatk -R /path/to/genome.fa -T SelectVariants --variant my.1kg.vcf.gz -o my.1kg.filt.vcf.gz --restrictAllelesTo BIALLELIC --selectTypeToInclude SNP -select 'DB'`\n",
    "\n",
    "If your VCFs came from plink files, they may not have AN/AC tags. You can add those with: \n",
    "\n",
    "`bcftools +fill-tags in.vcf.gz -Oz -o out.vcf.gz -- -t AN,AC`\n",
    "\n",
    "And then do the same processing above. \n",
    "\n",
    "If you choose not to annotate according to 1KG using the SelectVariants tool, you should still restrict your VCF to SNPs only, since this notebook was not written to handle them. SelectVariants does this with the `--selecttTypeToInclude` tag, but it can also be achieved with:\n",
    "\n",
    "`vcftools --gzvcf my.vcf.gz --remove-indels --recode --recode-INFO-all --out my.snpsonly.vcf.gz`"
   ]
  },
  {
   "cell_type": "code",
   "execution_count": 1,
   "metadata": {},
   "outputs": [],
   "source": [
    "import pandas as pd\n",
    "import numpy as np\n",
    "import itertools as it\n",
    "from tqdm.notebook import tqdm\n",
    "import matplotlib.pyplot as plt\n",
    "import pickle as pkl\n",
    "import gzip\n",
    "from functools import reduce\n",
    "import seaborn as sns"
   ]
  },
  {
   "cell_type": "markdown",
   "metadata": {},
   "source": [
    "I like to store everything in dictionaries."
   ]
  },
  {
   "cell_type": "code",
   "execution_count": 20,
   "metadata": {},
   "outputs": [],
   "source": [
    "vcfs = dict()\n",
    "prefix = '/data/codec/'"
   ]
  },
  {
   "cell_type": "markdown",
   "metadata": {},
   "source": [
    "Give your VCFs labels and file paths:"
   ]
  },
  {
   "cell_type": "code",
   "execution_count": 21,
   "metadata": {},
   "outputs": [],
   "source": [
    "vcf_labels = ['snparray','freemux']\n",
    "vcf_paths = ['vcfs/noempty.hg38.liftover.nochr.hg38tag.vcf.gz', \n",
    "             'dscpileup.freemux.outs/freemux.out/freemux.clust1.vcf.gz',\n",
    "            ]"
   ]
  },
  {
   "cell_type": "markdown",
   "metadata": {},
   "source": [
    "### Load them in. \n",
    "\n",
    "I was typically doing this with `pd.read_csv` but unfortunately the structure of VCFs makes this intractible. The `skiprows` parameter requires information you can only get from the command line. And the `comments` parameter to does not allow for two-character comment codes (which you'd need to skip the `##` lines up top). Also, it's easier to filter the VCF upon loading in for only the information we want (namely, a few of the site identifiers and the GT field) rather than load the whole VCF in and then remove info. For that reason, I parse the files manually myself: "
   ]
  },
  {
   "cell_type": "code",
   "execution_count": 22,
   "metadata": {},
   "outputs": [
    {
     "data": {
      "application/vnd.jupyter.widget-view+json": {
       "model_id": "ca748464430d4851b93f043cad813f91",
       "version_major": 2,
       "version_minor": 0
      },
      "text/plain": [
       "HBox(children=(IntProgress(value=0, max=2), HTML(value='')))"
      ]
     },
     "metadata": {},
     "output_type": "display_data"
    },
    {
     "data": {
      "application/vnd.jupyter.widget-view+json": {
       "model_id": "8ab7c3e80c0e4631a251d1a7504e3995",
       "version_major": 2,
       "version_minor": 0
      },
      "text/plain": [
       "HBox(children=(IntProgress(value=1, bar_style='info', max=1), HTML(value='')))"
      ]
     },
     "metadata": {},
     "output_type": "display_data"
    },
    {
     "name": "stdout",
     "output_type": "stream",
     "text": [
      "\n"
     ]
    },
    {
     "data": {
      "application/vnd.jupyter.widget-view+json": {
       "model_id": "05a3700dd7f748c080ca49eec2a30bdd",
       "version_major": 2,
       "version_minor": 0
      },
      "text/plain": [
       "HBox(children=(IntProgress(value=1, bar_style='info', max=1), HTML(value='')))"
      ]
     },
     "metadata": {},
     "output_type": "display_data"
    },
    {
     "name": "stdout",
     "output_type": "stream",
     "text": [
      "\n",
      "\n"
     ]
    }
   ],
   "source": [
    "# I HATEEEEEEE VCFs\n",
    "# the fact that this code needs to be so complicated must mean it is not a very good format\n",
    "# everything should be stored in SEPARATE compressed data matrices, separate GT/GP/\n",
    "for label, path in tqdm(zip(vcf_labels, vcf_paths), total=2):\n",
    "    \n",
    "    vcfs[label] = dict() # the values of the dict themselves will also be dictionaries\n",
    "    vcfs[label]['path'] = prefix + path # add the path as a dictinoary key and value\n",
    "    \n",
    "    # want to skip a certain number, assuming your VCF does not have a header > 1000 lines\n",
    "    vcfs[label]['skip'] = !zcat {vcfs[label]['path']} | head -n 1000 | grep \"#\" | wc -l\n",
    "    vcfs[label]['skip'] = int(vcfs[label]['skip'][0]) - 1 # still want to keep the last line\n",
    "    \n",
    "    # read the file\n",
    "    vcfs[label]['file'] = gzip.open(vcfs[label]['path'],'rt')\n",
    "    for i in range(vcfs[label]['skip']):\n",
    "        vcfs[label]['file'].readline()\n",
    "        \n",
    "    # create a list to build\n",
    "    vcfs[label]['gts'] = list()\n",
    "    vcfs[label]['uids'] = list()\n",
    "    vcfs[label]['info'] = list()\n",
    "    \n",
    "    # add the single-line header\n",
    "    header = vcfs[label]['file'].readline().strip().split('\\t')\n",
    "    \n",
    "    # for the rest of them, take the most important information only\n",
    "    for line in tqdm(vcfs[label]['file']):\n",
    "        line = line.strip().split('\\t')\n",
    "\n",
    "        uid = \":\".join([line[0], line[1], line[3], line[4]])\n",
    "        vcfs[label]['uids'].append(uid)\n",
    "        \n",
    "        gts = [i.split(\":\")[0] for i in line[9:]]\n",
    "        vcfs[label]['gts'].append(gts)\n",
    "        \n",
    "        infoline = [i.split('=') for i in line[7].split(\";\") if \"=\" in i]\n",
    "        vcfs[label]['info'].append(dict(zip([i[0] for i in infoline], [i[1] for i in infoline])))\n",
    "        \n",
    "    vcfs[label]['info'] = pd.DataFrame(vcfs[label]['info'],\n",
    "                                       index=vcfs[label]['uids']).astype(np.float32)\n",
    "    vcfs[label]['info'].index.name='ID'\n",
    "    \n",
    "    vcfs[label]['gts'] = pd.DataFrame(vcfs[label]['gts'], \n",
    "                                     index=vcfs[label]['uids'],\n",
    "                                     columns=header[9:])\n",
    "    vcfs[label]['gts'].index.name='ID'\n",
    "    \n",
    "    vcfs[label]['uids'].append(uid)\n",
    "    # delete the list to reduce memory now"
   ]
  },
  {
   "cell_type": "markdown",
   "metadata": {},
   "source": [
    "### Clean Up VCFs"
   ]
  },
  {
   "cell_type": "markdown",
   "metadata": {},
   "source": [
    "Get rid of any sites that may be duplicated."
   ]
  },
  {
   "cell_type": "code",
   "execution_count": 23,
   "metadata": {},
   "outputs": [],
   "source": [
    "for i in vcf_labels:\n",
    "    vcfs[i]['gts'] = vcfs[i]['gts'][~vcfs[i]['gts'].index.duplicated()] # will drop the the second instance of an ID if it was seen already\n",
    "    vcfs[i]['info'] = vcfs[i]['info'][~vcfs[i]['info'].index.duplicated()]"
   ]
  },
  {
   "cell_type": "code",
   "execution_count": 24,
   "metadata": {},
   "outputs": [
    {
     "name": "stdout",
     "output_type": "stream",
     "text": [
      "snparray Index(['IGTB1952', 'IGTB1966', 'IGTB1826', 'IGTB1828', 'IGTB1871'], dtype='object')\n",
      "freemux Index(['CLUST0', 'CLUST1', 'CLUST2', 'CLUST3', 'CLUST4'], dtype='object')\n"
     ]
    }
   ],
   "source": [
    "for label in vcf_labels:\n",
    "    print(label + ' ' + str(vcfs[label]['gts'].columns))"
   ]
  },
  {
   "cell_type": "markdown",
   "metadata": {},
   "source": [
    "Some naming conventions will be changed for consistency. Furthermore, it _seems_ that `A1-004_Neely_10` should be `A2-004_Neely_10`, this was a transcription error from the genotyping core."
   ]
  },
  {
   "cell_type": "markdown",
   "metadata": {},
   "source": [
    "### Join and Clean up"
   ]
  },
  {
   "cell_type": "markdown",
   "metadata": {},
   "source": [
    "Join all VCFs on the inner join of sites. If these VCFs came from two different freemuxlet outputs using the same input list of sites, this should not remove any sites."
   ]
  },
  {
   "cell_type": "code",
   "execution_count": 25,
   "metadata": {},
   "outputs": [],
   "source": [
    "for label in vcf_labels:\n",
    "    vcfs[label]['gts'].index.name='ID'"
   ]
  },
  {
   "cell_type": "code",
   "execution_count": 26,
   "metadata": {},
   "outputs": [],
   "source": [
    "joined = reduce(lambda left,right: pd.merge(left,right,on='ID'), [vcfs[label]['gts'] for label in vcf_labels])"
   ]
  },
  {
   "cell_type": "markdown",
   "metadata": {},
   "source": [
    "Reduce object size by replacing strings with single digit identifiers."
   ]
  },
  {
   "cell_type": "code",
   "execution_count": 29,
   "metadata": {},
   "outputs": [],
   "source": [
    "joined.replace('./.',-1,inplace=True)\n",
    "joined.replace('0/0',0,inplace=True)\n",
    "joined.replace('0/1',1,inplace=True)\n",
    "joined.replace('1/1',2,inplace=True)"
   ]
  },
  {
   "cell_type": "markdown",
   "metadata": {},
   "source": [
    "### Comparisons\n",
    "\n",
    "Extract out our patient ID columns:"
   ]
  },
  {
   "cell_type": "code",
   "execution_count": 30,
   "metadata": {},
   "outputs": [
    {
     "name": "stdout",
     "output_type": "stream",
     "text": [
      "Index(['IGTB1952', 'IGTB1966', 'IGTB1826', 'IGTB1828', 'IGTB1871', 'CLUST0',\n",
      "       'CLUST1', 'CLUST2', 'CLUST3', 'CLUST4'],\n",
      "      dtype='object')\n"
     ]
    }
   ],
   "source": [
    "patient_ids = joined.columns\n",
    "print(patient_ids)"
   ]
  },
  {
   "cell_type": "markdown",
   "metadata": {},
   "source": [
    "Make combinations of all of them, without repeats. Note here that if any of your column names are the same (i.e. you're comparing two freemuxlet results) the combinations can get confusing, so **now would be a good time to rename your columns to something more descriptive**."
   ]
  },
  {
   "cell_type": "code",
   "execution_count": 31,
   "metadata": {},
   "outputs": [
    {
     "data": {
      "text/plain": [
       "[('IGTB1952', 'CLUST0'),\n",
       " ('IGTB1952', 'CLUST1'),\n",
       " ('IGTB1952', 'CLUST2'),\n",
       " ('IGTB1952', 'CLUST3'),\n",
       " ('IGTB1952', 'CLUST4'),\n",
       " ('IGTB1966', 'CLUST0'),\n",
       " ('IGTB1966', 'CLUST1'),\n",
       " ('IGTB1966', 'CLUST2'),\n",
       " ('IGTB1966', 'CLUST3'),\n",
       " ('IGTB1966', 'CLUST4')]"
      ]
     },
     "execution_count": 31,
     "metadata": {},
     "output_type": "execute_result"
    }
   ],
   "source": [
    "combos = list(it.product(patient_ids[:5],patient_ids[5:]))\n",
    "combos[:10]"
   ]
  },
  {
   "cell_type": "markdown",
   "metadata": {},
   "source": [
    "Subsample only 2000 sites because using all sites will probably take very very long to compare."
   ]
  },
  {
   "cell_type": "code",
   "execution_count": 32,
   "metadata": {},
   "outputs": [],
   "source": [
    "# joinedsub = joined.sample(10000)"
   ]
  },
  {
   "cell_type": "code",
   "execution_count": 39,
   "metadata": {},
   "outputs": [
    {
     "data": {
      "application/vnd.jupyter.widget-view+json": {
       "model_id": "fc7251db8f7b44bea52a54f5f955ec1b",
       "version_major": 2,
       "version_minor": 0
      },
      "text/plain": [
       "HBox(children=(IntProgress(value=0, max=25), HTML(value='')))"
      ]
     },
     "metadata": {},
     "output_type": "display_data"
    },
    {
     "name": "stdout",
     "output_type": "stream",
     "text": [
      "\n"
     ]
    }
   ],
   "source": [
    "sims = pd.DataFrame(index=patient_ids[:5], columns=patient_ids[5:], dtype=np.float32) # similarities\n",
    "numsites = len(joined)\n",
    "siterange = joined.index\n",
    "for i,j in tqdm(combos):\n",
    "    comp = joined[[i,j]].values\n",
    "    \n",
    "    #only use sites where both genotypes have been called\n",
    "    comp = comp[(comp == -1).sum(axis=1) < 1]\n",
    "    \n",
    "    #only use sites with at least one allele present in the pairwise comparison\n",
    "#     comp = comp[comp.sum(axis=1) > 0]\n",
    "    \n",
    "    # myfrac is percentage of those sites that are identical between the two individuals\n",
    "    myfrac = sum([i[0] == i[1] for i in comp])/numsites\n",
    "    sims.loc[i,j] = myfrac\n",
    "    "
   ]
  },
  {
   "cell_type": "markdown",
   "metadata": {},
   "source": [
    "### Matching People\n",
    "Here you should *hopefully* see that there is a clear population of combinations with very high similarity as compared to the null distribution of random combination. In the graph below, it's actually not super clear but I've run on other datasets where its definitely more clear. If these are two different freemuxlet results that have the same pool of people and used the same VCF, it should be night and day, since the VCF was *literally generated to maximize the genetic distance between droplets*. "
   ]
  },
  {
   "cell_type": "code",
   "execution_count": 40,
   "metadata": {},
   "outputs": [
    {
     "data": {
      "image/png": "[encoded data removed]",
      "text/plain": [
       "<Figure size 432x288 with 1 Axes>"
      ]
     },
     "metadata": {
      "needs_background": "light"
     },
     "output_type": "display_data"
    }
   ],
   "source": [
    "plt.hist(np.ravel(sims.values),bins=100)\n",
    "# plt.yscale('log')\n",
    "plt.xlabel('Percentage of sites that are identical')\n",
    "plt.ylabel('Number of combinations between any 2 individuals');"
   ]
  },
  {
   "cell_type": "code",
   "execution_count": 43,
   "metadata": {},
   "outputs": [
    {
     "data": {
      "image/png": "[encoded data removed]",
      "text/plain": [
       "<Figure size 432x360 with 2 Axes>"
      ]
     },
     "metadata": {
      "needs_background": "light"
     },
     "output_type": "display_data"
    }
   ],
   "source": [
    "plt.figure(figsize=(6,5));\n",
    "sns.heatmap(sims);"
   ]
  },
  {
   "cell_type": "markdown",
   "metadata": {},
   "source": [
    "And that's pretty much it. Hopefully you get great results!"
   ]
  }
 ],
 "metadata": {
  "kernelspec": {
   "display_name": "codec",
   "language": "python",
   "name": "sudoku"
  },
  "language_info": {
   "codemirror_mode": {
    "name": "ipython",
    "version": 3
   },
   "file_extension": ".py",
   "mimetype": "text/x-python",
   "name": "python",
   "nbconvert_exporter": "python",
   "pygments_lexer": "ipython3",
   "version": "3.6.7"
  }
 },
 "nbformat": 4,
 "nbformat_minor": 4
}
