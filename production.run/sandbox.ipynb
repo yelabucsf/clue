{
 "cells": [
  {
   "cell_type": "markdown",
   "metadata": {},
   "source": [
    "## Trying to check for cell cycle genes"
   ]
  },
  {
   "cell_type": "code",
   "execution_count": 16,
   "metadata": {},
   "outputs": [],
   "source": [
    "s_genes =  ['MCM5', 'PCNA', 'TYMS', 'FEN1', 'MCM2', 'MCM4', 'RRM1', \n",
    "            'UNG', 'GINS2', 'MCM6', 'CDCA7', 'DTL', 'PRIM1', 'UHRF1', \n",
    "            'MLF1IP', 'HELLS', 'RFC2', 'RPA2', 'NASP', 'RAD51AP1', \n",
    "            'GMNN', 'WDR76', 'SLBP', 'CCNE2', 'UBR7', 'POLD3', 'MSH2', \n",
    "            'ATAD2', 'RAD51', 'RRM2', 'CDC45', 'CDC6', 'EXO1', 'TIPIN', \n",
    "            'DSCC1', 'BLM', 'CASP8AP2', 'USP1', 'CLSPN', 'POLA1', \n",
    "            'CHAF1B', 'BRIP1', 'E2F8'\n",
    "           ]\n",
    "g2m_genes = ['HMGB2', 'CDK1', 'NUSAP1', 'UBE2C', 'BIRC5', 'TPX2', \n",
    "             'TOP2A', 'NDC80', 'CKS2', 'NUF2', 'CKS1B', 'MKI67', \n",
    "             'TMPO', 'CENPF', 'TACC3', 'FAM64A', 'SMC4', 'CCNB2', \n",
    "             'CKAP2L', 'CKAP2', 'AURKB', 'BUB1', 'KIF11', 'ANP32E', \n",
    "             'TUBB4B', 'GTSE1', 'KIF20B', 'HJURP', 'HJURP', 'CDCA3', \n",
    "             'HN1', 'CDC20', 'TTK', 'CDC25C', 'KIF2C', 'RANGAP1', \n",
    "             'NCAPD2', 'DLGAP5', 'CDCA2', 'CDCA8', 'ECT2', 'KIF23', \n",
    "             'HMMR', 'AURKA', 'PSRC1', 'ANLN', 'LBR', 'CKAP5', \n",
    "             'CENPE', 'CTCF', 'NEK2', 'G2E3', 'GAS2L3', 'CBX5', \n",
    "             'CENPA'\n",
    "            ]\n",
    "s_olap = np.intersect1d(s_genes,ct_dicts['tnk']['adata'].var_names.values)\n",
    "g_olap = np.intersect1d(g2m_genes,ct_dicts['tnk']['adata'].var_names.values)"
   ]
  },
  {
   "cell_type": "code",
   "execution_count": null,
   "metadata": {},
   "outputs": [],
   "source": [
    "batches = ct_dicts['tnk']['adata'].obs['batch'].unique() # get a list of the batches\n",
    "\n",
    "# make a new column in the `.obs` for each batch that is of dtype `int` and that just takes on values of 0 and 1 so that it gets plotted as a continuous variable instead of a categorical one\n",
    "for batch in batches:\n",
    "    ct_dicts['tnk']['adata'].obs['batch_%s' % batch] = (ct_dicts['tnk']['adata'].obs['batch'] == batch).astype(int)\n",
    "    \n",
    "# plot now with sort_order=True, which should apply to this new continuous variable\n",
    "sc.pl.umap(ct_dicts['tnk']['adata'], color=['batch_%s' % i for i in batches],sort_order=True, ncols=5)"
   ]
  }
 ],
 "metadata": {
  "kernelspec": {
   "display_name": "codec",
   "language": "python",
   "name": "codec"
  },
  "language_info": {
   "codemirror_mode": {
    "name": "ipython",
    "version": 3
   },
   "file_extension": ".py",
   "mimetype": "text/x-python",
   "name": "python",
   "nbconvert_exporter": "python",
   "pygments_lexer": "ipython3",
   "version": "3.6.7"
  }
 },
 "nbformat": 4,
 "nbformat_minor": 4
}
