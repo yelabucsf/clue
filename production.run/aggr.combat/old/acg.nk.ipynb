{
 "cells": [
  {
   "cell_type": "code",
   "execution_count": null,
   "metadata": {},
   "outputs": [],
   "source": [
    "import scanpy as sc\n",
    "import pandas as pd \n",
    "import numpy as np\n",
    "import matplotlib.pyplot as plt\n",
    "from tqdm.notebook import tqdm\n",
    "import warnings\n",
    "import itertools as it\n",
    "import json\n",
    "import requests\n",
    "import seaborn as sns\n",
    "import pickle as pkl\n",
    "from functools import reduce\n",
    "\n",
    "import matplotlib as mpl\n",
    "import matplotlib.patches as patches\n",
    "from matplotlib.gridspec import GridSpec\n",
    "from shapely.geometry import Point\n",
    "from shapely.geometry.polygon import Polygon"
   ]
  },
  {
   "cell_type": "code",
   "execution_count": null,
   "metadata": {},
   "outputs": [],
   "source": [
    "sc.settings.verbosity = 4\n",
    "sc.settings.set_figure_params(dpi=80)\n",
    "print(sc.__version__)\n",
    "sc.settings.n_jobs=12"
   ]
  },
  {
   "cell_type": "code",
   "execution_count": null,
   "metadata": {},
   "outputs": [],
   "source": [
    "prefix = '/data/codec/production.run/mrna/'"
   ]
  },
  {
   "cell_type": "code",
   "execution_count": null,
   "metadata": {},
   "outputs": [],
   "source": [
    "path = prefix + 'obs/cts/acg.nk.txt'\n",
    "\n",
    "# with open(path,'w') as file:\n",
    "#     for bc in acg_nk.obs_names:\n",
    "#         file.write(bc + '\\n')\n",
    "        \n",
    "with open(path,'r') as file:\n",
    "    acg_nk_cells = [i.strip() for i in file.readlines()]"
   ]
  },
  {
   "cell_type": "code",
   "execution_count": null,
   "metadata": {},
   "outputs": [],
   "source": [
    "path = prefix + '../cond.colors.pkl'\n",
    "\n",
    "with open(path,'rb') as file:\n",
    "    cond_colors = pkl.load(file)"
   ]
  },
  {
   "cell_type": "code",
   "execution_count": null,
   "metadata": {},
   "outputs": [],
   "source": [
    "path = prefix + 'pkls/aggr/wells.sng.w_covars.pkl'\n",
    "\n",
    "# with open(path,'wb') as file:\n",
    "#     pkl.dump(wells, file)\n",
    "    \n",
    "with open(path,'rb') as file:\n",
    "    wells = pkl.load(file)"
   ]
  },
  {
   "cell_type": "markdown",
   "metadata": {},
   "source": [
    "# Processing"
   ]
  },
  {
   "cell_type": "markdown",
   "metadata": {},
   "source": [
    "### Adjust Cell Barcodes, Filter\n",
    "\n",
    "I'm adjusting the cell barcodes to make them match their well number, which I also did with the ADTs."
   ]
  },
  {
   "cell_type": "code",
   "execution_count": null,
   "metadata": {},
   "outputs": [],
   "source": [
    "for well in wells:\n",
    "    wells[well]['adata'].obs_names = [i[:16] + '-%s' % well for i in wells[well]['adata'].obs_names]"
   ]
  },
  {
   "cell_type": "markdown",
   "metadata": {},
   "source": [
    "### Concatenate"
   ]
  },
  {
   "cell_type": "code",
   "execution_count": null,
   "metadata": {},
   "outputs": [],
   "source": [
    "acg_nk = wells[0]['adata'].concatenate(*[wells[i]['adata'] for  i in range(1, 12)])[acg_nk_cells].copy() # I really shouldn't do this, I should go back and run cellranger aggr, but for now just concatenate"
   ]
  },
  {
   "cell_type": "code",
   "execution_count": null,
   "metadata": {},
   "outputs": [],
   "source": [
    "acg_nk.var['n_counts'] = acg_nk.X.toarray().sum(axis=0)"
   ]
  },
  {
   "cell_type": "markdown",
   "metadata": {},
   "source": [
    "### Filter Genes, Transform Data\n",
    "\n",
    "Drop genes with very low counts."
   ]
  },
  {
   "cell_type": "code",
   "execution_count": null,
   "metadata": {},
   "outputs": [],
   "source": [
    "plt.figure(figsize=(8,6))\n",
    "plt.hist(acg_nk.var['n_counts'].values, bins=np.logspace(np.log10(1),np.log10(1e5), 200))\n",
    "plt.grid(False)\n",
    "plt.grid(True, 'both', 'both')\n",
    "plt.xscale('log')\n",
    "# plt.yscale('log')"
   ]
  },
  {
   "cell_type": "code",
   "execution_count": null,
   "metadata": {},
   "outputs": [],
   "source": [
    "# remove any genes that are now empty\n",
    "sc.pp.filter_genes(acg_nk, min_counts=20, inplace=True)"
   ]
  },
  {
   "cell_type": "code",
   "execution_count": null,
   "metadata": {},
   "outputs": [],
   "source": [
    "sc.pp.normalize_per_cell(acg_nk, counts_per_cell_after=1e6)"
   ]
  },
  {
   "cell_type": "code",
   "execution_count": null,
   "metadata": {},
   "outputs": [],
   "source": [
    "sc.pp.log1p(acg_nk)"
   ]
  },
  {
   "cell_type": "code",
   "execution_count": null,
   "metadata": {},
   "outputs": [],
   "source": [
    "path = '/data/codec/production.run/adts/pkls/combat/concat.combat.adts.norm.log.pkl'\n",
    "with open(path,'rb') as file:\n",
    "    concat_adts = pkl.load(file)\n",
    "transcripts = acg_nk.var_names\n",
    "proteins = concat_adts['adata'].var_names\n",
    "adts_df = pd.DataFrame(concat_adts['adata'].X, columns=proteins, index=concat_adts['adata'].obs_names)\n",
    "acg_nk.obs = acg_nk.obs.join(adts_df)"
   ]
  },
  {
   "cell_type": "code",
   "execution_count": null,
   "metadata": {},
   "outputs": [],
   "source": [
    "fig, ax = plt.subplots(1,2,figsize=(10,4))\n",
    "for vals, ax in zip(['percent_mito','n_counts'], np.ravel(ax)):\n",
    "    ax.hist(acg_nk.obs[vals].values,bins=100)"
   ]
  },
  {
   "cell_type": "code",
   "execution_count": null,
   "metadata": {},
   "outputs": [],
   "source": [
    "sc.pp.regress_out(acg_nk, ['percent_mito', 'n_counts'],n_jobs=1)"
   ]
  },
  {
   "cell_type": "code",
   "execution_count": null,
   "metadata": {},
   "outputs": [],
   "source": [
    "sc.pp.scale(acg_nk)"
   ]
  },
  {
   "cell_type": "code",
   "execution_count": null,
   "metadata": {},
   "outputs": [],
   "source": [
    "sc.pp.combat(acg_nk, key='batch',covariates=['cond','free_id'])"
   ]
  },
  {
   "cell_type": "code",
   "execution_count": null,
   "metadata": {},
   "outputs": [],
   "source": [
    "sc.pp.scale(acg_nk)"
   ]
  },
  {
   "cell_type": "code",
   "execution_count": null,
   "metadata": {},
   "outputs": [],
   "source": [
    "total_pcs = 150"
   ]
  },
  {
   "cell_type": "code",
   "execution_count": null,
   "metadata": {},
   "outputs": [],
   "source": [
    "sc.pp.pca(acg_nk,n_comps=total_pcs)"
   ]
  },
  {
   "cell_type": "code",
   "execution_count": null,
   "metadata": {},
   "outputs": [],
   "source": [
    "sc.pl.pca_variance_ratio(acg_nk,log=True, n_pcs=50)"
   ]
  },
  {
   "cell_type": "code",
   "execution_count": null,
   "metadata": {},
   "outputs": [],
   "source": [
    "df_loadings = pd.DataFrame(acg_nk.varm['PCs'], index=acg_nk.var_names)\n",
    "df_rankings = pd.DataFrame((-1 * df_loadings.values).argsort(0).argsort(0), index=df_loadings.index, columns=df_loadings.columns)"
   ]
  },
  {
   "cell_type": "code",
   "execution_count": null,
   "metadata": {},
   "outputs": [],
   "source": [
    "num = 50\n",
    "percent_ribos = dict()\n",
    "percent_mitos = dict()\n",
    "for direction, boolean in zip(['corr', 'anti-corr'], [False, True]):\n",
    "    percent_ribos[direction] = list()\n",
    "    percent_mitos[direction] = list()\n",
    "    for pc in range(total_pcs):\n",
    "        top_genes = df_loadings[pc].sort_values(ascending=boolean)[:num].index\n",
    "        percent_ribos[direction].append(len([i for i in top_genes if i.startswith('RP')])/num)\n",
    "        percent_mitos[direction].append(len([i for i in top_genes if i.startswith('MT')])/num)"
   ]
  },
  {
   "cell_type": "code",
   "execution_count": null,
   "metadata": {},
   "outputs": [],
   "source": [
    "fig, ax = plt.subplots(1, 2, figsize=(20, 5))\n",
    "for direction, ax in zip(['corr', 'anti-corr'], ax):\n",
    "    ax.bar(range(len(percent_ribos[direction])), percent_ribos[direction], alpha=0.5)\n",
    "    ax.bar(range(len(percent_mitos[direction])), percent_mitos[direction], alpha=0.5)\n",
    "    ax.set_title(direction)\n",
    "    ax.set_ylim((0, 1))"
   ]
  },
  {
   "cell_type": "code",
   "execution_count": null,
   "metadata": {},
   "outputs": [],
   "source": [
    "acg_nk.obs['ribo_pc_1'] = acg_nk.obsm['X_pca'][:,0]\n",
    "acg_nk.obs['ribo_pc_2'] = acg_nk.obsm['X_pca'][:,2]"
   ]
  },
  {
   "cell_type": "code",
   "execution_count": null,
   "metadata": {},
   "outputs": [],
   "source": [
    "warnings.filterwarnings('ignore')\n",
    "sc.pp.regress_out(acg_nk, ['ribo_pc_1','ribo_pc_2'], n_jobs=1)\n",
    "warnings.filterwarnings('default')"
   ]
  },
  {
   "cell_type": "code",
   "execution_count": null,
   "metadata": {},
   "outputs": [],
   "source": [
    "sc.pp.scale(acg_nk)"
   ]
  },
  {
   "cell_type": "code",
   "execution_count": null,
   "metadata": {},
   "outputs": [],
   "source": [
    "sc.pp.pca(acg_nk,n_comps=total_pcs)"
   ]
  },
  {
   "cell_type": "code",
   "execution_count": null,
   "metadata": {},
   "outputs": [],
   "source": [
    "sc.pl.pca_variance_ratio(acg_nk,log=True, n_pcs=50)"
   ]
  },
  {
   "cell_type": "code",
   "execution_count": null,
   "metadata": {},
   "outputs": [],
   "source": [
    "df_loadings = pd.DataFrame(acg_nk.varm['PCs'], index=acg_nk.var_names)\n",
    "df_rankings = pd.DataFrame((-1 * df_loadings.values).argsort(0).argsort(0), index=df_loadings.index, columns=df_loadings.columns)"
   ]
  },
  {
   "cell_type": "code",
   "execution_count": null,
   "metadata": {},
   "outputs": [],
   "source": [
    "num = 50\n",
    "percent_ribos = dict()\n",
    "percent_mitos = dict()\n",
    "for direction, boolean in zip(['corr', 'anti-corr'], [False, True]):\n",
    "    percent_ribos[direction] = list()\n",
    "    percent_mitos[direction] = list()\n",
    "    for pc in range(total_pcs):\n",
    "        top_genes = df_loadings[pc].sort_values(ascending=boolean)[:num].index\n",
    "        percent_ribos[direction].append(len([i for i in top_genes if i.startswith('RP')])/num)\n",
    "        percent_mitos[direction].append(len([i for i in top_genes if i.startswith('MT')])/num)"
   ]
  },
  {
   "cell_type": "code",
   "execution_count": null,
   "metadata": {},
   "outputs": [],
   "source": [
    "fig, ax = plt.subplots(1, 2, figsize=(20, 5))\n",
    "for direction, ax in zip(['corr', 'anti-corr'], ax):\n",
    "    ax.bar(range(len(percent_ribos[direction])), percent_ribos[direction], alpha=0.5)\n",
    "    ax.bar(range(len(percent_mitos[direction])), percent_mitos[direction], alpha=0.5)\n",
    "    ax.set_title(direction)\n",
    "    ax.set_ylim((0, 1))"
   ]
  },
  {
   "cell_type": "code",
   "execution_count": null,
   "metadata": {},
   "outputs": [],
   "source": [
    "warnings.filterwarnings('ignore')\n",
    "sc.pp.neighbors(acg_nk,n_neighbors=15,n_pcs=20) # numba warning outlined here is not to be of concern: https://github.com/lmcinnes/umap/issues/252\n",
    "warnings.filterwarnings('default')"
   ]
  },
  {
   "cell_type": "code",
   "execution_count": null,
   "metadata": {},
   "outputs": [],
   "source": [
    "sc.tl.umap(acg_nk)"
   ]
  },
  {
   "cell_type": "code",
   "execution_count": null,
   "metadata": {},
   "outputs": [],
   "source": [
    "sc.tl.leiden(acg_nk, resolution=0.4)"
   ]
  },
  {
   "cell_type": "markdown",
   "metadata": {},
   "source": [
    "# Visualization"
   ]
  },
  {
   "cell_type": "code",
   "execution_count": null,
   "metadata": {},
   "outputs": [],
   "source": [
    "fig, ax = plt.subplots(1, 2, figsize=(20,10))\n",
    "for color, ax, palette in zip(['cond', 'leiden'], ax, [None, sc.pl.palettes.default_20]):\n",
    "    sc.pl.umap(acg_nk,color=color, ax=ax, show=False, return_fig=False, size=20, palette=palette)"
   ]
  },
  {
   "cell_type": "markdown",
   "metadata": {},
   "source": [
    "In case the color scheme is not consistent."
   ]
  },
  {
   "cell_type": "code",
   "execution_count": null,
   "metadata": {},
   "outputs": [],
   "source": [
    "acg_nk.uns['cond_colors']\n",
    "cond_colors.values()\n",
    "acg_nk.uns['cond_colors'] = ['#ff7f0e', '#279e68', '#d62728', '#aa40fc', '#8c564b', '#e377c2'];"
   ]
  },
  {
   "cell_type": "code",
   "execution_count": null,
   "metadata": {},
   "outputs": [],
   "source": [
    "fig, ax = plt.subplots(1,4,figsize=(22,5))\n",
    "for f, ax in zip(['batch', 'percent_mito', 'n_counts', 'free_id'], np.ravel(ax)):\n",
    "    ax.set_facecolor('black')\n",
    "    sc.pl.umap(acg_nk, color=f, ax=ax,show=False, return_fig=False, size=20);"
   ]
  },
  {
   "cell_type": "markdown",
   "metadata": {},
   "source": [
    "No significant mitochondrial effect. That's great!"
   ]
  },
  {
   "cell_type": "code",
   "execution_count": null,
   "metadata": {},
   "outputs": [],
   "source": [
    "fig, ax = plt.subplots(1,3, figsize=(15,5))\n",
    "for val, ax in tqdm(zip(['A','C','G'], np.ravel(ax))):\n",
    "    acg_nk.obs['val'] = acg_nk.obs['cond'] == val\n",
    "    ax.set_facecolor('black')\n",
    "    sc.pl.umap(acg_nk,color='val', ax=ax, show=False, return_fig=False, title=val)\n",
    "    acg_nk.obs.drop(columns='val', inplace=True)\n",
    "plt.tight_layout()"
   ]
  },
  {
   "cell_type": "markdown",
   "metadata": {},
   "source": [
    "### Subclustering\n",
    "Going to break up those clusters further."
   ]
  },
  {
   "cell_type": "code",
   "execution_count": null,
   "metadata": {},
   "outputs": [],
   "source": [
    "clusts = ['1','2']"
   ]
  },
  {
   "cell_type": "code",
   "execution_count": null,
   "metadata": {},
   "outputs": [],
   "source": [
    "sub_acg_nk = dict()\n",
    "for clust in clusts:\n",
    "    sub_acg_nk[str(clust)] = acg_nk[acg_nk.obs['leiden'] == str(clust)].copy()"
   ]
  },
  {
   "cell_type": "code",
   "execution_count": null,
   "metadata": {},
   "outputs": [],
   "source": [
    "sc.tl.leiden(sub_acg_nk['1'], resolution=0.36) # subcluster them using Leiden\n",
    "sc.pl.umap(sub_acg_nk['1'],color='leiden', size=20)"
   ]
  },
  {
   "cell_type": "code",
   "execution_count": null,
   "metadata": {},
   "outputs": [],
   "source": [
    "sc.tl.leiden(sub_acg_nk['2'], resolution=0.5) # subcluster them using Leiden\n",
    "sc.pl.umap(sub_acg_nk['2'],color='leiden', size=20)"
   ]
  },
  {
   "cell_type": "code",
   "execution_count": null,
   "metadata": {},
   "outputs": [],
   "source": [
    "def sub_cluster_mapper(adata, sub_adatas):\n",
    "    '''\n",
    "    This takes in the adata object and inserts a new leiden column in the `.obs`. \n",
    "    \n",
    "    This function is really convoluted and there's probably a better, simpler way to do it,\n",
    "    but it should theoretically work for any number of subclusters\n",
    "    '''\n",
    "    # ideally you'd make a copy of the adata object here, so we don't have to change the original\n",
    "    # this would be in case we want to run it multiple times, perhaps the resolutions we put in didn't subset the clusters like we had hoped\n",
    "    # and we need to run multiple times to adjust the resolution slightly\n",
    "    \n",
    "    # this block is to figure out that there are two new subclusters and they should be named 8, 9\n",
    "    total_new_clusts = 0\n",
    "    old_clusts = sub_adatas.keys()\n",
    "    for sub_adata in sub_adatas:\n",
    "        total_new_clusts += sub_adatas[sub_adata].obs['leiden'].astype(int).unique().max() + 1\n",
    "    total_added_clusts = total_new_clusts - len(sub_adatas)\n",
    "    new_clust_names_start = max(adata.obs['leiden'].astype(int))+1\n",
    "    new_added_clust_names = [str(i) for i in range(new_clust_names_start,\n",
    "                                                   new_clust_names_start + total_added_clusts)]\n",
    "    \n",
    "    # this block is to build a new list of leiden clusters from the old one \n",
    "    new_leiden = list()\n",
    "    leiden_col = adata.obs['leiden'].copy()\n",
    "\n",
    "    # this builds the new leiden cluster list, now adding a .1, .2, etc. to each new cluster\n",
    "    for obs in leiden_col.index:\n",
    "        clust_name = leiden_col.loc[obs]\n",
    "        if clust_name not in old_clusts or sub_adatas[clust_name].obs.loc[obs, 'leiden'] == '0':\n",
    "            new_leiden.append(clust_name)\n",
    "        else:\n",
    "            new_leiden.append(clust_name + '.%s' % sub_adatas[clust_name].obs.loc[obs,'leiden'])\n",
    "\n",
    "    # this renames the .1, .2, etc clusters to the new, better names I came up with above (8 and 9)\n",
    "    new_leiden = pd.Series(new_leiden, index=adata.obs_names)\n",
    "    added_clusts = np.setdiff1d(new_leiden,adata.obs['leiden'])\n",
    "    new_leiden.replace(dict(zip(added_clusts, new_added_clust_names)), inplace=True)\n",
    "    \n",
    "    # replace the old leiden column, must do these steps sequentially \n",
    "    adata.obs['leiden'] = new_leiden.astype(int) # to order the clusters by number\n",
    "    adata.obs['leiden'] = new_leiden.astype(str) # to convert to string as normal\n",
    "#     adata.obs['leiden'] = new_leiden.astype('category') # don't do this, it messes things up, just let scanpy do it as it plots\n",
    "    return adata"
   ]
  },
  {
   "cell_type": "code",
   "execution_count": null,
   "metadata": {},
   "outputs": [],
   "source": [
    "acg_nk = sub_cluster_mapper(acg_nk, sub_acg_nk)"
   ]
  },
  {
   "cell_type": "code",
   "execution_count": null,
   "metadata": {},
   "outputs": [],
   "source": [
    "fig, ax = plt.subplots(1, 2, figsize=(15,7))\n",
    "for color, ax, palette in zip(['cond', 'leiden'], ax, [None, sc.pl.palettes.default_20]):\n",
    "    ax.set_facecolor('whitesmoke')\n",
    "    sc.pl.umap(acg_nk,color=color, ax=ax, show=False, return_fig=False, size=30, palette=palette)"
   ]
  },
  {
   "cell_type": "markdown",
   "metadata": {},
   "source": [
    "# Rank Genes"
   ]
  },
  {
   "cell_type": "markdown",
   "metadata": {},
   "source": [
    "Add the `.raw` attribute for gene tests."
   ]
  },
  {
   "cell_type": "code",
   "execution_count": null,
   "metadata": {},
   "outputs": [],
   "source": [
    "def add_raw(adata, transformed=True):\n",
    "    path = prefix + 'pkls/aggr/wells.sng.w_covars.pkl'\n",
    "    \n",
    "    with open(path,'rb') as file:\n",
    "        wells = pkl.load(file)\n",
    "    \n",
    "    for well in wells:\n",
    "        wells[well]['adata'].obs_names = [i[:16] + '-%s' % well for i in wells[well]['adata'].obs_names]\n",
    "    \n",
    "    raw = wells[0]['adata'].concatenate(*[wells[i]['adata'] for  i in range(1, 12)])[adata.obs_names,:]\n",
    "    \n",
    "    if transformed == True:\n",
    "        sc.pp.normalize_per_cell(raw,counts_per_cell_after=1e6)\n",
    "        sc.pp.log1p(raw)\n",
    "    \n",
    "    adata.raw = raw\n",
    "    return"
   ]
  },
  {
   "cell_type": "code",
   "execution_count": null,
   "metadata": {},
   "outputs": [],
   "source": [
    "add_raw(acg_nk)"
   ]
  },
  {
   "cell_type": "code",
   "execution_count": null,
   "metadata": {},
   "outputs": [],
   "source": [
    "sc.settings.verbosity = 0\n",
    "warnings.filterwarnings('ignore')\n",
    "sc.tl.rank_genes_groups(acg_nk, groupby='leiden', n_genes=100, use_raw=True)\n",
    "warnings.filterwarnings('default')\n",
    "sc.pl.rank_genes_groups(acg_nk, ncols=6, n_genes=20)\n",
    "sc.settings.verbosity = 4"
   ]
  },
  {
   "cell_type": "markdown",
   "metadata": {},
   "source": [
    "# Gene Visualization"
   ]
  },
  {
   "cell_type": "markdown",
   "metadata": {},
   "source": [
    "### Check Gene Names"
   ]
  },
  {
   "cell_type": "code",
   "execution_count": null,
   "metadata": {},
   "outputs": [],
   "source": [
    "raw_transcripts = acg_nk.raw.var_names\n",
    "transcripts = acg_nk.var_names\n",
    "proteins = [i for i in acg_nk.obs.columns if '|' in i]"
   ]
  },
  {
   "cell_type": "code",
   "execution_count": null,
   "metadata": {},
   "outputs": [],
   "source": [
    "name = 'ICAM1'\n",
    "print([i for i in proteins if name in i])\n",
    "print([i for i in transcripts if name in i])\n",
    "print([i for i in raw_transcripts if name in i])"
   ]
  },
  {
   "cell_type": "code",
   "execution_count": null,
   "metadata": {},
   "outputs": [],
   "source": [
    "# proteins.index('CD4|CD4') \n",
    "# proteins.index('CD94|KLRD1')"
   ]
  },
  {
   "cell_type": "markdown",
   "metadata": {},
   "source": [
    "### Marker Genes"
   ]
  },
  {
   "cell_type": "markdown",
   "metadata": {},
   "source": [
    "Find out where are expected cell types are."
   ]
  },
  {
   "cell_type": "code",
   "execution_count": null,
   "metadata": {},
   "outputs": [],
   "source": [
    "features = ['CD56|NCAM1','NCAM1','CD16|FCGR3A','FCGR3A']"
   ]
  },
  {
   "cell_type": "code",
   "execution_count": null,
   "metadata": {},
   "outputs": [],
   "source": [
    "fig, ax = plt.subplots(2,2,figsize=(12,12))\n",
    "for ax, f in zip(np.ravel(ax), features):\n",
    "    ax.set_facecolor('black')\n",
    "    sc.pl.umap(acg_nk, color=f, ax=ax,show=False, return_fig=False, size=20, use_raw=False)"
   ]
  },
  {
   "cell_type": "markdown",
   "metadata": {},
   "source": [
    "### Proteins"
   ]
  },
  {
   "cell_type": "code",
   "execution_count": null,
   "metadata": {},
   "outputs": [],
   "source": [
    "fig, ax = plt.subplots(12,8,figsize=(30,40))\n",
    "for p, ax in tqdm(zip(proteins, np.ravel(ax))):\n",
    "    ax.set_facecolor('black')\n",
    "    sc.pl.umap(acg_nk, color=p, size=10, ncols=8, ax=ax, show=False, return_fig=False)\n",
    "plt.tight_layout()"
   ]
  },
  {
   "cell_type": "markdown",
   "metadata": {},
   "source": [
    "### Ranked Genes"
   ]
  },
  {
   "cell_type": "code",
   "execution_count": null,
   "metadata": {},
   "outputs": [],
   "source": [
    "plot_genes = list()\n",
    "clusts = acg_nk.obs['leiden'].dtype.categories\n",
    "for j in clusts:\n",
    "    plot_genes.append([i for i in acg_nk.uns['rank_genes_groups']['names'][j]][:5])"
   ]
  },
  {
   "cell_type": "code",
   "execution_count": null,
   "metadata": {},
   "outputs": [],
   "source": [
    "features = [i for j in plot_genes for i in j]"
   ]
  },
  {
   "cell_type": "code",
   "execution_count": null,
   "metadata": {},
   "outputs": [],
   "source": [
    "len(features)"
   ]
  },
  {
   "cell_type": "code",
   "execution_count": null,
   "metadata": {},
   "outputs": [],
   "source": [
    "fig, ax = plt.subplots(6,5,figsize=(30,31))\n",
    "for ax, f in zip(np.ravel(ax), features):\n",
    "    ax.set_facecolor('black')\n",
    "    sc.pl.umap(acg_nk, color=f, ax=ax,show=False, return_fig=False, size=20, use_raw=True)"
   ]
  },
  {
   "cell_type": "markdown",
   "metadata": {},
   "source": [
    "# Specific Comparisons"
   ]
  },
  {
   "cell_type": "markdown",
   "metadata": {},
   "source": [
    "### Cluster 5 vs Cluster 2"
   ]
  },
  {
   "cell_type": "code",
   "execution_count": null,
   "metadata": {},
   "outputs": [],
   "source": [
    "sc.settings.verbosity = 0\n",
    "warnings.filterwarnings('ignore')\n",
    "sc.tl.rank_genes_groups(acg_nk, groupby='leiden', n_genes=100, groups=['5'], reference='2', use_raw=True)\n",
    "warnings.filterwarnings('default')\n",
    "sc.pl.rank_genes_groups(acg_nk, ncols=4, n_genes=20)\n",
    "sc.settings.verbosity = 4"
   ]
  },
  {
   "cell_type": "code",
   "execution_count": null,
   "metadata": {},
   "outputs": [],
   "source": [
    "features = [i for i in acg_nk.uns['rank_genes_groups']['names']['5']][:5]"
   ]
  },
  {
   "cell_type": "code",
   "execution_count": null,
   "metadata": {},
   "outputs": [],
   "source": [
    "fig, ax = plt.subplots(1,5,figsize=(30,5))\n",
    "for ax, f in zip(np.ravel(ax), features):\n",
    "    ax.set_facecolor('black')\n",
    "    sc.pl.umap(acg_nk, color=f, ax=ax,show=False, return_fig=False, size=20, use_raw=True)"
   ]
  },
  {
   "cell_type": "markdown",
   "metadata": {},
   "source": [
    "### TNF Signature Clusters vs. No Signature"
   ]
  },
  {
   "cell_type": "code",
   "execution_count": null,
   "metadata": {},
   "outputs": [],
   "source": [
    "def grouped_rank(adata, groups, return_genes=True):\n",
    "\n",
    "    assert len(groups) == 2\n",
    "    for i in range(2):\n",
    "        groups[i] = np.array(groups[i]).astype(str)\n",
    "        \n",
    "    grouped_clusts = [i for j in groups for i in j]\n",
    "    numclusts = np.unique(adata.obs['leiden'].values)\n",
    "    groups.append(np.setdiff1d(numclusts, grouped_clusts).astype('<U21'))\n",
    "    fig, axes = plt.subplots(1, 2, figsize=(9, 4))\n",
    "    for clusts, title, ax in zip(groups, ['0','1'], axes):\n",
    "        adata.obs['val'] = adata.obs['leiden'].isin(clusts).values\n",
    "        ax.set_facecolor('black')\n",
    "        sc.pl.umap(adata,color='val', ax=ax, size=20, show=False, return_fig=False, title=title)\n",
    "    adata.obs.drop(columns='val', inplace=True)\n",
    "\n",
    "    adata.obs['rank_compare'] = adata.obs['leiden'].copy()\n",
    "    groups_dict = dict(zip(range(3), groups))\n",
    "    for group in groups_dict:\n",
    "        for clust in groups_dict[group]:\n",
    "            adata.obs['rank_compare'].replace(clust, 'ct%s' % group, regex=True, inplace=True)\n",
    "    adata.obs['rank_compare'] = adata.obs['rank_compare'].str.replace('ct','').astype('category')\n",
    "    \n",
    "    fig, ax = plt.subplots(1, 1, figsize=(5,5))\n",
    "    sc.settings.verbosity = 0\n",
    "    for ax in np.ravel(ax):\n",
    "        rank_adata = adata.copy()\n",
    "        sc.tl.rank_genes_groups(rank_adata, groupby='rank_compare', n_genes=100, groups=['0'], reference='1', use_raw=True)\n",
    "        y = range(20)[::-1]\n",
    "        x = [i[0] for i in rank_adata.uns['rank_genes_groups']['scores'].tolist()][:20]\n",
    "        genes = [i[0] for i in rank_adata.uns['rank_genes_groups']['names'].tolist()]\n",
    "        txts = genes[:20]\n",
    "        ax.scatter(x, y, s=0)\n",
    "        for i, txt in enumerate(txts):\n",
    "            ax.annotate(txt, (x[i], y[i]), rotation=0, size=10)\n",
    "        ax.set_yticklabels([])\n",
    "        ax.set_title('0 vs 1')\n",
    "    sc.settings.verbosity = 4\n",
    "    adata.obs.drop(columns='rank_compare', inplace=True)\n",
    "    if return_genes == True:\n",
    "        return genes\n",
    "    else:\n",
    "        return "
   ]
  },
  {
   "cell_type": "code",
   "execution_count": null,
   "metadata": {},
   "outputs": [],
   "source": [
    "genes = grouped_rank(acg_nk,groups=[[1, 3, 4, 5], [0, 2]])"
   ]
  },
  {
   "cell_type": "code",
   "execution_count": null,
   "metadata": {},
   "outputs": [],
   "source": [
    "genes = grouped_rank(acg_nk,groups=[[0, 2],[1, 3, 4, 5]])"
   ]
  },
  {
   "cell_type": "markdown",
   "metadata": {},
   "source": [
    "### KIR Genes"
   ]
  },
  {
   "cell_type": "code",
   "execution_count": null,
   "metadata": {},
   "outputs": [],
   "source": [
    "features = ['KIRREL2', 'KIR3DX1', 'KIR3DL3', 'KIR2DL3', 'KIR2DL1', 'KIR2DL4', 'KIR3DL1', 'KIR3DL2']"
   ]
  },
  {
   "cell_type": "code",
   "execution_count": null,
   "metadata": {},
   "outputs": [],
   "source": [
    "fig, ax = plt.subplots(1,8,figsize=(30,3))\n",
    "for ax, f in zip(np.ravel(ax), features):\n",
    "    ax.set_facecolor('black')\n",
    "    sc.pl.umap(acg_nk, color=f, ax=ax,show=False, return_fig=False, size=20, use_raw=True)"
   ]
  },
  {
   "cell_type": "markdown",
   "metadata": {},
   "source": [
    "### TRAF Genes"
   ]
  },
  {
   "cell_type": "code",
   "execution_count": null,
   "metadata": {},
   "outputs": [],
   "source": [
    "features = ['TRAF3IP3', 'TRAF4', 'TRAF1']"
   ]
  },
  {
   "cell_type": "code",
   "execution_count": null,
   "metadata": {},
   "outputs": [],
   "source": [
    "percent_positives = list()\n",
    "for clust in clusts:\n",
    "    for f in features:\n",
    "        v = acg_nk[acg_nk.obs['leiden'] == clust].raw.obs_vector(f)\n",
    "        p = (v > 0).sum()/len(v)\n",
    "        if clust in tnfa:\n",
    "            percent_positives.append([clust, f, p, True])\n",
    "        else:\n",
    "            percent_positives.append([clust, f, p, False])"
   ]
  },
  {
   "cell_type": "code",
   "execution_count": null,
   "metadata": {},
   "outputs": [],
   "source": [
    "df = pd.DataFrame(percent_positives, columns = ['clust','gene','p', 'response'])\n",
    "fig, ax = plt.subplots(1,1,figsize=(4,4))\n",
    "sns.barplot(data=df, x='gene', hue='response', y='p', ax=ax);"
   ]
  },
  {
   "cell_type": "markdown",
   "metadata": {},
   "source": [
    "### Cluster 4 Phenotype"
   ]
  },
  {
   "cell_type": "code",
   "execution_count": null,
   "metadata": {},
   "outputs": [],
   "source": [
    "genes = grouped_rank(acg_nk,groups=[[4],[1, 3]])"
   ]
  },
  {
   "cell_type": "code",
   "execution_count": null,
   "metadata": {},
   "outputs": [],
   "source": [
    "genes[:6]"
   ]
  },
  {
   "cell_type": "code",
   "execution_count": null,
   "metadata": {},
   "outputs": [],
   "source": [
    "features = genes[:6]"
   ]
  },
  {
   "cell_type": "code",
   "execution_count": null,
   "metadata": {},
   "outputs": [],
   "source": [
    "fig, ax = plt.subplots(3,2,figsize=(10,15))\n",
    "for ax, f in zip(np.ravel(ax), features):\n",
    "    ax.set_facecolor('black')\n",
    "    sc.pl.umap(acg_nk, color=f, ax=ax,show=False, return_fig=False, size=20, use_raw=True)"
   ]
  },
  {
   "cell_type": "markdown",
   "metadata": {},
   "source": [
    "# Single Gene Plotter"
   ]
  },
  {
   "cell_type": "code",
   "execution_count": null,
   "metadata": {},
   "outputs": [],
   "source": [
    "f = ['PRDM1']"
   ]
  },
  {
   "cell_type": "code",
   "execution_count": null,
   "metadata": {},
   "outputs": [],
   "source": [
    "fig, ax = plt.subplots(1,1,figsize=(5,5))\n",
    "ax.set_facecolor('black')\n",
    "sc.pl.umap(acg_nk, color=f, ax=ax,show=False, return_fig=False, size=20, use_raw=True);"
   ]
  },
  {
   "cell_type": "code",
   "execution_count": null,
   "metadata": {},
   "outputs": [],
   "source": [
    "cts = pd.read_csv(prefix + 'ct.tsvs/acg.nk.tsv', sep='\\t', dtype='|S').set_index('cluster')"
   ]
  },
  {
   "cell_type": "code",
   "execution_count": null,
   "metadata": {},
   "outputs": [],
   "source": [
    "s = pd.Series(acg_nk.obs['leiden'].values)"
   ]
  },
  {
   "cell_type": "code",
   "execution_count": null,
   "metadata": {},
   "outputs": [],
   "source": [
    "for ct in cts.columns:\n",
    "    acg_nk.obs[ct] = s.map(dict(cts[ct])).values"
   ]
  },
  {
   "cell_type": "code",
   "execution_count": null,
   "metadata": {},
   "outputs": [],
   "source": [
    "fig, ax = plt.subplots(1,3, figsize=(17,4.5))\n",
    "for val, ax in tqdm(zip(['ct1','ct2','ct3'], np.ravel(ax))):\n",
    "    ax.set_facecolor('whitesmoke')\n",
    "    sc.pl.umap(acg_nk,color=val, ax=ax, show=False, return_fig=False)\n",
    "plt.tight_layout()"
   ]
  }
 ],
 "metadata": {
  "kernelspec": {
   "display_name": "codec",
   "language": "python",
   "name": "codec"
  },
  "language_info": {
   "codemirror_mode": {
    "name": "ipython",
    "version": 3
   },
   "file_extension": ".py",
   "mimetype": "text/x-python",
   "name": "python",
   "nbconvert_exporter": "python",
   "pygments_lexer": "ipython3",
   "version": "3.6.7"
  }
 },
 "nbformat": 4,
 "nbformat_minor": 4
}
