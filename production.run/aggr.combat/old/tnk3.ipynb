{
 "cells": [
  {
   "cell_type": "code",
   "execution_count": null,
   "metadata": {},
   "outputs": [],
   "source": [
    "import scanpy as sc\n",
    "import pandas as pd \n",
    "import numpy as np\n",
    "import matplotlib.pyplot as plt\n",
    "from tqdm.notebook import tqdm\n",
    "import warnings\n",
    "import itertools as it\n",
    "import json\n",
    "import requests\n",
    "import seaborn as sns\n",
    "import pickle as pkl\n",
    "from functools import reduce\n",
    "\n",
    "import matplotlib as mpl\n",
    "import matplotlib.patches as patches\n",
    "from matplotlib.gridspec import GridSpec\n",
    "from shapely.geometry import Point\n",
    "from shapely.geometry.polygon import Polygon"
   ]
  },
  {
   "cell_type": "code",
   "execution_count": null,
   "metadata": {},
   "outputs": [],
   "source": [
    "sc.settings.verbosity = 4\n",
    "sc.settings.set_figure_params(dpi=80)\n",
    "print(sc.__version__)\n",
    "sc.settings.n_jobs=12"
   ]
  },
  {
   "cell_type": "code",
   "execution_count": null,
   "metadata": {},
   "outputs": [],
   "source": [
    "prefix = '/data/codec/production.run/mrna/'"
   ]
  },
  {
   "cell_type": "code",
   "execution_count": null,
   "metadata": {},
   "outputs": [],
   "source": [
    "path = prefix + 'pkls/aggr/tnk.2.pkl'\n",
    "\n",
    "# with open(path,'wb') as file:\n",
    "#     pkl.dump(tnk, file, protocol=4)\n",
    "\n",
    "with open(path,'rb') as file:\n",
    "    tnk = pkl.load(file)"
   ]
  },
  {
   "cell_type": "code",
   "execution_count": null,
   "metadata": {},
   "outputs": [],
   "source": [
    "path = prefix + '../cond.colors.pkl'\n",
    "\n",
    "cond_colors = dict(zip(tnk.obs['cond'].dtype.categories, tnk.uns['cond_colors']))\n",
    "\n",
    "with open(path,'wb') as file:\n",
    "    pkl.dump(cond_colors, file)"
   ]
  },
  {
   "cell_type": "code",
   "execution_count": null,
   "metadata": {},
   "outputs": [],
   "source": []
  },
  {
   "cell_type": "code",
   "execution_count": null,
   "metadata": {},
   "outputs": [],
   "source": [
    "fig, ax = plt.subplots(1, 2, figsize=(20,10))\n",
    "for color, ax, palette in zip(['cond', 'leiden'], ax, [None, sc.pl.palettes.default_20]):\n",
    "    sc.pl.umap(tnk,color=color, ax=ax, show=False, return_fig=False, size=2, palette=palette)"
   ]
  },
  {
   "cell_type": "code",
   "execution_count": null,
   "metadata": {},
   "outputs": [],
   "source": [
    "clusts = [6, 10]"
   ]
  },
  {
   "cell_type": "code",
   "execution_count": null,
   "metadata": {},
   "outputs": [],
   "source": [
    "sub_tnk = dict()\n",
    "for clust in clusts:\n",
    "    sub_tnk[str(clust)] = tnk[tnk.obs['leiden'] == str(clust)].copy()"
   ]
  },
  {
   "cell_type": "code",
   "execution_count": null,
   "metadata": {},
   "outputs": [],
   "source": [
    "sc.tl.leiden(sub_tnk['6'], resolution=0.1) # subcluster them using Leiden\n",
    "sc.pl.umap(sub_tnk['6'],color='leiden', size=0.6)"
   ]
  },
  {
   "cell_type": "code",
   "execution_count": null,
   "metadata": {},
   "outputs": [],
   "source": [
    "sc.tl.leiden(sub_tnk['10'], resolution=0.2) # subcluster them using Leiden\n",
    "sc.pl.umap(sub_tnk['10'],color='leiden', size=0.6)"
   ]
  },
  {
   "cell_type": "code",
   "execution_count": null,
   "metadata": {},
   "outputs": [],
   "source": [
    "groupings = [[0, 2],\n",
    "             ]\n",
    "grouped_clusts = [i for j in groupings for i in j]\n",
    "numclusts = np.unique(sub_tnk['10'].obs['leiden'].values.astype(int))\n",
    "for i in np.setdiff1d(numclusts, grouped_clusts):\n",
    "    groupings.append([i])"
   ]
  },
  {
   "cell_type": "code",
   "execution_count": null,
   "metadata": {},
   "outputs": [],
   "source": [
    "ctdict = dict()\n",
    "for i in range(len(groupings)):\n",
    "    ctdict['ct%s' % str(i)] = groupings[i]\n",
    "\n",
    "sub_tnk['10'].obs['celltype'] = sub_tnk['10'].obs['leiden']\n",
    "for ct in ctdict:\n",
    "    for clust in ctdict[ct]:\n",
    "        sub_tnk['10'].obs['celltype'].replace(str(clust), ct, regex=True, inplace=True)\n",
    "sub_tnk['10'].obs['leiden'] = [i.strip('ct') for i in sub_tnk['10'].obs['celltype'].astype('category')]"
   ]
  },
  {
   "cell_type": "code",
   "execution_count": null,
   "metadata": {},
   "outputs": [],
   "source": [
    "sc.pl.umap(sub_tnk['10'],color=['leiden'], size=3)"
   ]
  },
  {
   "cell_type": "code",
   "execution_count": null,
   "metadata": {},
   "outputs": [],
   "source": [
    "def sub_cluster_mapper(adata, sub_adatas):\n",
    "    '''\n",
    "    This takes in the adata object and inserts a new leiden column in the `.obs`. \n",
    "    \n",
    "    This function is really convoluted and there's probably a better, simpler way to do it,\n",
    "    but it should theoretically work for any number of subclusters\n",
    "    '''\n",
    "    # ideally you'd make a copy of the adata object here, so we don't have to change the original\n",
    "    # this would be in case we want to run it multiple times, perhaps the resolutions we put in didn't subset the clusters like we had hoped\n",
    "    # and we need to run multiple times to adjust the resolution slightly\n",
    "    \n",
    "    # this block is to figure out that there are two new subclusters and they should be named 8, 9\n",
    "    total_new_clusts = 0\n",
    "    old_clusts = sub_adatas.keys()\n",
    "    for sub_adata in sub_adatas:\n",
    "        total_new_clusts += sub_adatas[sub_adata].obs['leiden'].astype(int).unique().max() + 1\n",
    "    total_added_clusts = total_new_clusts - len(sub_adatas)\n",
    "    new_clust_names_start = max(adata.obs['leiden'].astype(int))+1\n",
    "    new_added_clust_names = [str(i) for i in range(new_clust_names_start,\n",
    "                                                   new_clust_names_start + total_added_clusts)]\n",
    "    \n",
    "    # this block is to build a new list of leiden clusters from the old one \n",
    "    new_leiden = list()\n",
    "    leiden_col = adata.obs['leiden'].copy()\n",
    "\n",
    "    # this builds the new leiden cluster list, now adding a .1, .2, etc. to each new cluster\n",
    "    for obs in leiden_col.index:\n",
    "        clust_name = leiden_col.loc[obs]\n",
    "        if clust_name not in old_clusts or sub_adatas[clust_name].obs.loc[obs, 'leiden'] == '0':\n",
    "            new_leiden.append(clust_name)\n",
    "        else:\n",
    "            new_leiden.append(clust_name + '.%s' % sub_adatas[clust_name].obs.loc[obs,'leiden'])\n",
    "\n",
    "    # this renames the .1, .2, etc clusters to the new, better names I came up with above (8 and 9)\n",
    "    new_leiden = pd.Series(new_leiden, index=adata.obs_names)\n",
    "    added_clusts = np.setdiff1d(new_leiden,adata.obs['leiden'])\n",
    "    new_leiden.replace(dict(zip(added_clusts, new_added_clust_names)), inplace=True)\n",
    "    \n",
    "    # replace the old leiden column, must do these steps sequentially \n",
    "    adata.obs['leiden'] = new_leiden.astype(int) # to order the clusters by number\n",
    "    adata.obs['leiden'] = new_leiden.astype(str) # to convert to string as normal\n",
    "#     adata.obs['leiden'] = new_leiden.astype('category') # don't do this, it messes things up, just let scanpy do it as it plots\n",
    "    return adata"
   ]
  },
  {
   "cell_type": "code",
   "execution_count": null,
   "metadata": {},
   "outputs": [],
   "source": [
    "tnk = sub_cluster_mapper(tnk, sub_tnk)"
   ]
  },
  {
   "cell_type": "code",
   "execution_count": null,
   "metadata": {},
   "outputs": [],
   "source": [
    "sc.pl.umap(tnk,color=['leiden'], size=3)"
   ]
  },
  {
   "cell_type": "code",
   "execution_count": null,
   "metadata": {},
   "outputs": [],
   "source": [
    "groupings = [[1, 3, 4, 7, 8, 11],\n",
    "             [0, 5, 9],\n",
    "             [2, 10]\n",
    "             ]\n",
    "grouped_clusts = [i for j in groupings for i in j]\n",
    "numclusts = np.unique(tnk.obs['leiden'].values.astype(int))\n",
    "for i in np.setdiff1d(numclusts, grouped_clusts):\n",
    "    groupings.append([i])"
   ]
  },
  {
   "cell_type": "code",
   "execution_count": null,
   "metadata": {},
   "outputs": [],
   "source": [
    "ctdict = dict()\n",
    "for i in range(len(groupings)):\n",
    "    ctdict['ct%s' % str(i)] = groupings[i]\n",
    "\n",
    "tnk.obs['celltype'] = tnk.obs['leiden']\n",
    "for ct in ctdict:\n",
    "    for clust in ctdict[ct]:\n",
    "        tnk.obs['celltype'].replace(str(clust), ct, regex=True, inplace=True)\n",
    "tnk.obs['leiden'] = [i.strip('ct') for i in tnk.obs['celltype'].astype('category')]"
   ]
  },
  {
   "cell_type": "code",
   "execution_count": null,
   "metadata": {},
   "outputs": [],
   "source": [
    "sc.pl.umap(tnk, color=['leiden', 'CD3|CD3E','CD4|CD4','CD8|CD8A','CD56|NCAM1','CD16|FCGR3A'], size=3)"
   ]
  },
  {
   "cell_type": "code",
   "execution_count": null,
   "metadata": {},
   "outputs": [],
   "source": [
    "sc.settings.verbosity = 0 \n",
    "warnings.filterwarnings('ignore')\n",
    "sc.tl.rank_genes_groups(tnk, groupby='leiden', n_genes=20, groups=['4','5'])\n",
    "warnings.filterwarnings('default')\n",
    "sc.pl.rank_genes_groups(tnk, ncols=5, n_genes=20)\n",
    "sc.settings.verbosity = 4"
   ]
  },
  {
   "cell_type": "markdown",
   "metadata": {},
   "source": [
    "Cluster 4 is probably B/T multiplets and 5 is probably T/M multiplets."
   ]
  },
  {
   "cell_type": "code",
   "execution_count": null,
   "metadata": {},
   "outputs": [],
   "source": [
    "# acg_t = tnk[tnk.obs['leiden'] == '0'].copy()\n",
    "acg_nk = tnk[tnk.obs['leiden'] == '3'].copy()\n",
    "# br_t = tnk[tnk.obs['leiden'] == '1'].copy()\n",
    "# br_nk = tnk[tnk.obs['leiden'] == '7'].copy()\n",
    "# p_t = tnk[tnk.obs['leiden'] == '2'].copy()\n",
    "# p_nk = tnk[tnk.obs['leiden'] == '6'].copy()"
   ]
  },
  {
   "cell_type": "code",
   "execution_count": null,
   "metadata": {},
   "outputs": [],
   "source": [
    "path = prefix + 'obs/acg.nk.txt'\n",
    "\n",
    "with open(path,'w') as file:\n",
    "    for bc in acg_nk.obs_names:\n",
    "        file.write(bc + '\\n')\n",
    "        \n",
    "# with open(path,'r') as file:\n",
    "#     tnk_cells = [i.strip() for i in file.readlines()]"
   ]
  },
  {
   "cell_type": "markdown",
   "metadata": {},
   "source": [
    "# Cell Type Split"
   ]
  },
  {
   "cell_type": "code",
   "execution_count": null,
   "metadata": {},
   "outputs": [],
   "source": [
    "def hv_run(adata, flavor='cell_ranger', min_mean=0.0125, min_disp=0.5, max_mean=3, bins=500):    # Extract out highly variable genes, but don't subset just yet\n",
    "    '''\n",
    "    Run highly variable genes and return a new adata object, if provided.\n",
    "    '''\n",
    "    hv_adata = adata.copy() # make a copy because I don't want to change the original just yet\n",
    "    sc.pp.highly_variable_genes(hv_adata, flavor=flavor,inplace=True, \n",
    "                                min_mean=min_mean, \n",
    "                                min_disp=min_disp, \n",
    "                                max_mean=max_mean,\n",
    "                                n_bins=bins)\n",
    "    \n",
    "    means = hv_adata.var['means'].values\n",
    "    means_sorted = np.unique(np.sort(means))\n",
    "    if means_sorted[0] == 0:\n",
    "        mean_shift = means_sorted[1]\n",
    "    elif means_sorted[0] < 0:\n",
    "        mean_shift = means_sorted[1] - 2*means_sorted[0]\n",
    "    else:\n",
    "        mean_shift = 0\n",
    "    \n",
    "    disps = hv_adata.var['dispersions_norm'].values\n",
    "    disps_sorted = np.unique(np.sort(disps))\n",
    "    if disps_sorted[0] == 0:\n",
    "        disp_shift = disps_sorted[1]\n",
    "    elif disps_sorted[0] < 0:\n",
    "        disp_shift = disps_sorted[1] - 2*disps_sorted[0]\n",
    "    else:\n",
    "        disp_shift = 0\n",
    "        \n",
    "    log_means = np.log10(means + mean_shift)\n",
    "    log_disps = np.log10(disps + disp_shift)\n",
    "    \n",
    "    hv_adata.var['log_means'] = log_means\n",
    "    hv_adata.var['log_disps'] = log_disps\n",
    "    \n",
    "    return hv_adata\n",
    "\n",
    "def hv_plot(hv_adata, gate=None, highlight_genes=None, bw='scott'):\n",
    "    '''\n",
    "    Plot the means and normalized dispersions from the adata object provided. Choose to\n",
    "    also plot a gate or highlight certain genes.\n",
    "    '''\n",
    "\n",
    "    \n",
    "    # do what the scanpy function does, plotting normalized dispersions with means as blue dots, \n",
    "    # I don't want to plot in logspace but I don't want to use the log function because then the gates don't work\n",
    "    # if they contain segments with fractional slopes (i.e. non-straight lines). To be robust to these gates, I therefore \n",
    "    # will log10 everything and just plot in linear space\n",
    "    log_means = hv_adata.var['log_means'].values\n",
    "    log_disps = hv_adata.var['log_disps'].values\n",
    "    \n",
    "    fig = plt.figure(figsize=(19, 6))\n",
    "    gs = GridSpec(2, 3, figure=fig)\n",
    "    ax1 = fig.add_subplot(gs[:, 0])\n",
    "    ax2 = fig.add_subplot(gs[:, 1])\n",
    "    ax3 = fig.add_subplot(gs[0, 2])\n",
    "    ax4 = fig.add_subplot(gs[1, 2])\n",
    "\n",
    "#     ax1.hist2d(log_means, log_disps, bins=bins);\n",
    "    ax1.get_xaxis().set_minor_locator(mpl.ticker.AutoMinorLocator())\n",
    "    ax1.get_yaxis().set_minor_locator(mpl.ticker.AutoMinorLocator())\n",
    "    ax1.grid(True, which='both',axis='both', alpha=0.4)\n",
    "    ax1.set_ylabel('Log Dispersions')\n",
    "    ax1.set_xlabel('Log Means')\n",
    "    sns.kdeplot(log_means, log_disps, bw=bw, shade=True, shade_lowest=False, ax=ax1, color='skyblue')\n",
    "\n",
    "    ax2.minorticks_on() # throw on the minor ticks for use with the grid, will help with subsetting\n",
    "    ax2.grid(True,which='both',axis='both') # turn the grid on\n",
    "    ax2.scatter(log_means, log_disps, s=0.1, c='b')\n",
    "    ax2.set_ylabel('Log Dispersions')\n",
    "    ax2.set_xlabel('Log Means')\n",
    "\n",
    "#     ax3.hist(log_means, bins=bins)\n",
    "    ax3.minorticks_on()\n",
    "    ax3.grid(True,which='both',axis='both')\n",
    "    ax3.set_title('Log Means')\n",
    "    sns.kdeplot(log_means, bw=bw, ax=ax3, color='blue')\n",
    "\n",
    "#     ax4.hist(log_disps, bins=bins)\n",
    "    ax3.minorticks_on()\n",
    "    ax3.grid(True,which='both',axis='both')\n",
    "    ax4.set_title('Log Dispersions')\n",
    "    sns.kdeplot(log_disps, bw=bw, ax=ax4, color='blue')\n",
    "\n",
    "    plt.tight_layout();\n",
    "\n",
    "    if type(highlight_genes) != type(None): # do you want to highlight some genes?\n",
    "        mask = [i in highlight_genes for i in hv_adata.var_names] # create a boolean mask of which genes to highlight\n",
    "        highlight_means = log_means[mask] # subset only those means\n",
    "        highlight_disps = log_disps[mask] # subset only those dispersions\n",
    "        ax2.scatter(highlight_means,highlight_disps,s=30, facecolors='none', edgecolors='r'); # plot with a red circle around the blue dot\n",
    "        \n",
    "    if type(gate) != type(None):\n",
    "        # You can draw a gate around the genes you want. There should be a check for using only rectangular gates (or only polygons with right angles). \n",
    "        # I have noted that if you try to draw angled lines in log space using the shapely package, the points_in_poly function does not return the right subset of points within the polygon.\n",
    "        gatepatch = patches.Polygon(gate,linewidth=1,edgecolor='teal',facecolor='turquoise',alpha=0.5) # create a matplotlib patch for the gate to the plot\n",
    "        ax2.add_patch(gatepatch); # add the gate to the plot\n",
    "\n",
    "def hv_genes(hv_adata, gate, adata=None):\n",
    "    '''\n",
    "    Receive boolean for genes in gate or new subsetted adata object, if provided.\n",
    "    '''\n",
    "    # You can subset the genes you want using the gate. Again, there should be a check for using only rectangular gates (or only polygons with right angles). \n",
    "    # I have noted that if you try to draw angled lines in log space using the shapely package, the points_in_poly function does not return the right subset of points within the polygon.\n",
    "    genes = list()\n",
    "    log_means = hv_adata.var['log_means'].values\n",
    "    log_disps = hv_adata.var['log_disps'].values\n",
    "    \n",
    "    pointsmap = map(Point,log_means,log_disps) # make each point a shapely.geometry.Point\n",
    "    \n",
    "    polygon = Polygon(gate) # make your gate a shapely.geometry.Polygon\n",
    "    for i in pointsmap:\n",
    "        genes.append(polygon.contains(i)) # this is the workhorse, determining which points are in the gate\n",
    "    if type(adata) != type(None): # if the adata has been provided, subset it\n",
    "        adata = adata[:,genes].copy()\n",
    "        return adata\n",
    "    else: # if it has not been provided return the boolean array noting which genes will be kept\n",
    "        return genes"
   ]
  },
  {
   "cell_type": "markdown",
   "metadata": {},
   "source": [
    "Generate a \"highly variable adata\" object that has run the highly variable genes extraction function. I generate a separate object because I don't want to necessarily change the original object."
   ]
  },
  {
   "cell_type": "code",
   "execution_count": null,
   "metadata": {},
   "outputs": [],
   "source": [
    "def add_raw(adata, transformed=True):\n",
    "    path = prefix + 'pkls/aggr/wells.sng.w_covars.pkl'\n",
    "    \n",
    "    with open(path,'rb') as file:\n",
    "        wells = pkl.load(file)\n",
    "    \n",
    "    for well in wells:\n",
    "        wells[well]['adata'].obs_names = [i[:16] + '-%s' % well for i in wells[well]['adata'].obs_names]\n",
    "    \n",
    "    raw = wells[0]['adata'].concatenate(*[wells[i]['adata'] for  i in range(1, 12)])[adata.obs_names,:]\n",
    "    \n",
    "    if transformed == True:\n",
    "        sc.pp.normalize_per_cell(raw,counts_per_cell_after=1e6)\n",
    "        sc.pp.log1p(raw)\n",
    "    \n",
    "    adata.raw = raw\n",
    "    return"
   ]
  },
  {
   "cell_type": "code",
   "execution_count": null,
   "metadata": {},
   "outputs": [],
   "source": [
    "add_raw(acg_nk)"
   ]
  },
  {
   "cell_type": "code",
   "execution_count": null,
   "metadata": {},
   "outputs": [],
   "source": [
    "hv_adata = hv_run(acg_nk.raw.to_adata())"
   ]
  },
  {
   "cell_type": "code",
   "execution_count": null,
   "metadata": {},
   "outputs": [],
   "source": [
    "hv_plot(hv_adata, highlight_genes= ['KIR2DL4'])"
   ]
  },
  {
   "cell_type": "code",
   "execution_count": null,
   "metadata": {},
   "outputs": [],
   "source": [
    "acg_nk"
   ]
  },
  {
   "cell_type": "code",
   "execution_count": null,
   "metadata": {},
   "outputs": [],
   "source": [
    "total_pcs = 150"
   ]
  },
  {
   "cell_type": "code",
   "execution_count": null,
   "metadata": {},
   "outputs": [],
   "source": [
    "acg_nk.shape"
   ]
  },
  {
   "cell_type": "code",
   "execution_count": null,
   "metadata": {},
   "outputs": [],
   "source": [
    "acg_nk = acg_nk[:,~((acg_nk.var_names == 'KIR2DL4') | (acg_nk.var_names == 'PDGFD'))]"
   ]
  },
  {
   "cell_type": "code",
   "execution_count": null,
   "metadata": {},
   "outputs": [],
   "source": [
    "acg_nk.shape"
   ]
  },
  {
   "cell_type": "code",
   "execution_count": null,
   "metadata": {},
   "outputs": [],
   "source": [
    "warnings.filterwarnings('ignore')\n",
    "sc.settings.n_jobs = 12\n",
    "sc.pp.pca(acg_nk,n_comps=total_pcs)\n",
    "warnings.filterwarnings('default')"
   ]
  },
  {
   "cell_type": "code",
   "execution_count": null,
   "metadata": {},
   "outputs": [],
   "source": [
    "sc.pl.pca_variance_ratio(acg_nk,log=True, n_pcs=150)"
   ]
  },
  {
   "cell_type": "code",
   "execution_count": null,
   "metadata": {},
   "outputs": [],
   "source": [
    "warnings.filterwarnings('ignore')\n",
    "sc.pp.neighbors(acg_nk, n_neighbors=15, n_pcs=50)\n",
    "warnings.filterwarnings('default')"
   ]
  },
  {
   "cell_type": "code",
   "execution_count": null,
   "metadata": {},
   "outputs": [],
   "source": [
    "sc.tl.umap(acg_nk)"
   ]
  },
  {
   "cell_type": "code",
   "execution_count": null,
   "metadata": {},
   "outputs": [],
   "source": [
    "sc.tl.leiden(acg_nk, resolution=0.3)"
   ]
  },
  {
   "cell_type": "code",
   "execution_count": null,
   "metadata": {},
   "outputs": [],
   "source": [
    "fig, ax = plt.subplots(1, 2, figsize=(20,10))\n",
    "for color, ax, palette in zip(['cond', 'leiden'], ax, [None, sc.pl.palettes.default_20]):\n",
    "    ax.set_facecolor('whitesmoke')\n",
    "    sc.pl.umap(acg_nk,color=color, ax=ax, show=False, return_fig=False, size=20, palette=palette)"
   ]
  },
  {
   "cell_type": "code",
   "execution_count": null,
   "metadata": {},
   "outputs": [],
   "source": [
    "fig, ax = plt.subplots(1,1,figsize=(5.5,5))\n",
    "for ax, f in zip(np.ravel(ax), features):\n",
    "    ax.set_facecolor('black')\n",
    "    sc.pl.umap(acg_nk, color='percent_mito', ax=ax,show=False, return_fig=False, size=20)"
   ]
  },
  {
   "cell_type": "code",
   "execution_count": null,
   "metadata": {},
   "outputs": [],
   "source": [
    "clusts = ['0','1']"
   ]
  },
  {
   "cell_type": "code",
   "execution_count": null,
   "metadata": {},
   "outputs": [],
   "source": [
    "sub_acg_nk = dict()\n",
    "for clust in clusts:\n",
    "    sub_acg_nk[str(clust)] = acg_nk[acg_nk.obs['leiden'] == str(clust)].copy()"
   ]
  },
  {
   "cell_type": "code",
   "execution_count": null,
   "metadata": {},
   "outputs": [],
   "source": [
    "sc.tl.leiden(sub_acg_nk['0'], resolution=0.5) # subcluster them using Leiden\n",
    "sc.pl.umap(sub_acg_nk['0'],color='leiden', size=20)"
   ]
  },
  {
   "cell_type": "code",
   "execution_count": null,
   "metadata": {},
   "outputs": [],
   "source": [
    "sc.tl.leiden(sub_acg_nk['1'], resolution=0.4) # subcluster them using Leiden\n",
    "sc.pl.umap(sub_acg_nk['1'],color='leiden', size=20)"
   ]
  },
  {
   "cell_type": "code",
   "execution_count": null,
   "metadata": {},
   "outputs": [],
   "source": [
    "def sub_cluster_mapper(adata, sub_adatas):\n",
    "    '''\n",
    "    This takes in the adata object and inserts a new leiden column in the `.obs`. \n",
    "    \n",
    "    This function is really convoluted and there's probably a better, simpler way to do it,\n",
    "    but it should theoretically work for any number of subclusters\n",
    "    '''\n",
    "    # ideally you'd make a copy of the adata object here, so we don't have to change the original\n",
    "    # this would be in case we want to run it multiple times, perhaps the resolutions we put in didn't subset the clusters like we had hoped\n",
    "    # and we need to run multiple times to adjust the resolution slightly\n",
    "    \n",
    "    # this block is to figure out that there are two new subclusters and they should be named 8, 9\n",
    "    total_new_clusts = 0\n",
    "    old_clusts = sub_adatas.keys()\n",
    "    for sub_adata in sub_adatas:\n",
    "        total_new_clusts += sub_adatas[sub_adata].obs['leiden'].astype(int).unique().max() + 1\n",
    "    total_added_clusts = total_new_clusts - len(sub_adatas)\n",
    "    new_clust_names_start = max(adata.obs['leiden'].astype(int))+1\n",
    "    new_added_clust_names = [str(i) for i in range(new_clust_names_start,\n",
    "                                                   new_clust_names_start + total_added_clusts)]\n",
    "    \n",
    "    # this block is to build a new list of leiden clusters from the old one \n",
    "    new_leiden = list()\n",
    "    leiden_col = adata.obs['leiden'].copy()\n",
    "\n",
    "    # this builds the new leiden cluster list, now adding a .1, .2, etc. to each new cluster\n",
    "    for obs in leiden_col.index:\n",
    "        clust_name = leiden_col.loc[obs]\n",
    "        if clust_name not in old_clusts or sub_adatas[clust_name].obs.loc[obs, 'leiden'] == '0':\n",
    "            new_leiden.append(clust_name)\n",
    "        else:\n",
    "            new_leiden.append(clust_name + '.%s' % sub_adatas[clust_name].obs.loc[obs,'leiden'])\n",
    "\n",
    "    # this renames the .1, .2, etc clusters to the new, better names I came up with above (8 and 9)\n",
    "    new_leiden = pd.Series(new_leiden, index=adata.obs_names)\n",
    "    added_clusts = np.setdiff1d(new_leiden,adata.obs['leiden'])\n",
    "    new_leiden.replace(dict(zip(added_clusts, new_added_clust_names)), inplace=True)\n",
    "    \n",
    "    # replace the old leiden column, must do these steps sequentially \n",
    "    adata.obs['leiden'] = new_leiden.astype(int) # to order the clusters by number\n",
    "    adata.obs['leiden'] = new_leiden.astype(str) # to convert to string as normal\n",
    "#     adata.obs['leiden'] = new_leiden.astype('category') # don't do this, it messes things up, just let scanpy do it as it plots\n",
    "    return adata"
   ]
  },
  {
   "cell_type": "code",
   "execution_count": null,
   "metadata": {},
   "outputs": [],
   "source": [
    "acg_nk = sub_cluster_mapper(acg_nk, sub_acg_nk)"
   ]
  },
  {
   "cell_type": "code",
   "execution_count": null,
   "metadata": {},
   "outputs": [],
   "source": [
    "fig, ax = plt.subplots(1, 2, figsize=(15,7))\n",
    "for color, ax, palette in zip(['batch', 'leiden'], ax, [None, sc.pl.palettes.default_20]):\n",
    "    ax.set_facecolor('whitesmoke')\n",
    "    sc.pl.umap(acg_nk,color=color, ax=ax, show=False, return_fig=False, size=30, palette=palette)"
   ]
  },
  {
   "cell_type": "code",
   "execution_count": null,
   "metadata": {},
   "outputs": [],
   "source": [
    "def add_raw(adata, transformed=True):\n",
    "    path = prefix + 'pkls/aggr/wells.sng.w_covars.pkl'\n",
    "    \n",
    "    with open(path,'rb') as file:\n",
    "        wells = pkl.load(file)\n",
    "    \n",
    "    for well in wells:\n",
    "        wells[well]['adata'].obs_names = [i[:16] + '-%s' % well for i in wells[well]['adata'].obs_names]\n",
    "    \n",
    "    raw = wells[0]['adata'].concatenate(*[wells[i]['adata'] for  i in range(1, 12)])[adata.obs_names,:]\n",
    "    \n",
    "    if transformed == True:\n",
    "        sc.pp.normalize_per_cell(raw,counts_per_cell_after=1e6)\n",
    "        sc.pp.log1p(raw)\n",
    "    \n",
    "    adata.raw = raw\n",
    "    return"
   ]
  },
  {
   "cell_type": "code",
   "execution_count": null,
   "metadata": {},
   "outputs": [],
   "source": [
    "add_raw(acg_nk)"
   ]
  },
  {
   "cell_type": "code",
   "execution_count": null,
   "metadata": {},
   "outputs": [],
   "source": [
    "sc.settings.verbosity = 0\n",
    "warnings.filterwarnings('ignore')\n",
    "sc.tl.rank_genes_groups(acg_nk, groupby='leiden', n_genes=100, use_raw=True)\n",
    "warnings.filterwarnings('default')\n",
    "sc.pl.rank_genes_groups(acg_nk, ncols=4, n_genes=20)\n",
    "sc.settings.verbosity = 4"
   ]
  },
  {
   "cell_type": "code",
   "execution_count": null,
   "metadata": {},
   "outputs": [],
   "source": [
    "fig, ax = plt.subplots(1,6, figsize=(30,5))\n",
    "for val, ax in tqdm(zip(acg_nk.obs['cond'].dtype.categories, np.ravel(ax))):\n",
    "    acg_nk.obs['val'] = acg_nk.obs['cond'] == val\n",
    "    ax.set_facecolor('black')\n",
    "    sc.pl.umap(acg_nk,color='val', ax=ax, show=False, return_fig=False, title=val)\n",
    "    acg_nk.obs.drop(columns='val', inplace=True)\n",
    "plt.tight_layout()"
   ]
  },
  {
   "cell_type": "code",
   "execution_count": null,
   "metadata": {},
   "outputs": [],
   "source": [
    "fig, ax = plt.subplots(1,4, figsize=(30,7))\n",
    "for val, ax in tqdm(zip(acg_nk.obs['leiden'].dtype.categories, np.ravel(ax))):\n",
    "    acg_nk.obs['val'] = acg_nk.obs['leiden'] == val\n",
    "    ax.set_facecolor('black')\n",
    "    sc.pl.umap(acg_nk,color='val', ax=ax, show=False, return_fig=False, title=val)\n",
    "    acg_nk.obs.drop(columns='val', inplace=True)\n",
    "plt.tight_layout()"
   ]
  },
  {
   "cell_type": "code",
   "execution_count": null,
   "metadata": {},
   "outputs": [],
   "source": [
    "# here's some really opaque code\n",
    "conds = acg_nk.obs['cond'].dtype.categories\n",
    "clusts = acg_nk.obs['leiden'].dtype.categories\n",
    "a = acg_nk.obs.groupby([\"cond\", \"leiden\"]).size().reset_index(name='count').sort_values(['cond','leiden'])['count'].values.reshape((len(conds),(len(clusts))))"
   ]
  },
  {
   "cell_type": "code",
   "execution_count": null,
   "metadata": {},
   "outputs": [],
   "source": [
    "acg_nk.uns['cond_colors']"
   ]
  },
  {
   "cell_type": "code",
   "execution_count": null,
   "metadata": {},
   "outputs": [],
   "source": [
    "labels = clusts\n",
    "counts = dict()\n",
    "\n",
    "for cond, i in zip(conds, range(len(conds))):\n",
    "    counts[cond] = a[i,:]\n",
    "\n",
    "fig, ax = plt.subplots(figsize=(10,5))\n",
    "lastpos = [0]*len(clusts)\n",
    "for cond, color in zip(counts, acg_nk.uns['cond_colors']):\n",
    "    ax.bar(labels, counts[cond], label=cond, bottom=lastpos, color=color)\n",
    "    lastpos = counts[cond] + lastpos\n",
    "\n",
    "ax.set_ylabel('Counts')\n",
    "ax.legend()\n",
    "\n",
    "plt.show()"
   ]
  },
  {
   "cell_type": "code",
   "execution_count": null,
   "metadata": {},
   "outputs": [],
   "source": [
    "raw_transcripts = acg_nk.raw.var_names\n",
    "transcripts = acg_nk.var_names\n",
    "proteins = [i for i in acg_nk.obs.columns if '|' in i]"
   ]
  },
  {
   "cell_type": "code",
   "execution_count": null,
   "metadata": {},
   "outputs": [],
   "source": [
    "name = 'TNFR'\n",
    "print([i for i in proteins if name in i])\n",
    "print([i for i in transcripts if name in i])\n",
    "print([i for i in raw_transcripts if name in i])"
   ]
  },
  {
   "cell_type": "code",
   "execution_count": null,
   "metadata": {},
   "outputs": [],
   "source": [
    "proteins.index('CD4|CD4') \n",
    "# proteins.index('CD94|KLRD1')"
   ]
  },
  {
   "cell_type": "code",
   "execution_count": null,
   "metadata": {},
   "outputs": [],
   "source": [
    "features = ['CD56|NCAM1','NCAM1','CD16|FCGR3A','FCGR3A','NKG7']"
   ]
  },
  {
   "cell_type": "code",
   "execution_count": null,
   "metadata": {},
   "outputs": [],
   "source": [
    "fig, ax = plt.subplots(1,5,figsize=(30,5))\n",
    "for ax, f in zip(np.ravel(ax), features):\n",
    "    ax.set_facecolor('black')\n",
    "    sc.pl.umap(acg_nk, color=f, ax=ax,show=False, return_fig=False, size=20, use_raw=True)"
   ]
  },
  {
   "cell_type": "code",
   "execution_count": null,
   "metadata": {},
   "outputs": [],
   "source": [
    "plot_genes = list()\n",
    "clusts = acg_nk.obs['leiden'].dtype.categories\n",
    "for j in clusts:\n",
    "    plot_genes.append([i for i in acg_nk.uns['rank_genes_groups']['names'][j] if not i.startswith('MT')][:5])"
   ]
  },
  {
   "cell_type": "code",
   "execution_count": null,
   "metadata": {},
   "outputs": [],
   "source": [
    "features = [i for j in plot_genes for i in j]"
   ]
  },
  {
   "cell_type": "code",
   "execution_count": null,
   "metadata": {},
   "outputs": [],
   "source": [
    "len(features)"
   ]
  },
  {
   "cell_type": "code",
   "execution_count": null,
   "metadata": {},
   "outputs": [],
   "source": [
    "fig, ax = plt.subplots(7,5,figsize=(30,31))\n",
    "for ax, f in zip(np.ravel(ax), features):\n",
    "    ax.set_facecolor('black')\n",
    "    sc.pl.umap(acg_nk, color=f, ax=ax,show=False, return_fig=False, size=20, use_raw=True)"
   ]
  },
  {
   "cell_type": "code",
   "execution_count": null,
   "metadata": {},
   "outputs": [],
   "source": [
    "plot_genes = list()\n",
    "clusts = acg_nk.obs['leiden'].dtype.categories\n",
    "for j in clusts:\n",
    "    plot_genes.append([i for i in acg_nk.uns['rank_genes_groups']['names'][j]])"
   ]
  },
  {
   "cell_type": "code",
   "execution_count": null,
   "metadata": {},
   "outputs": [],
   "source": [
    "features = [i for j in plot_genes for i in j]"
   ]
  },
  {
   "cell_type": "code",
   "execution_count": null,
   "metadata": {},
   "outputs": [],
   "source": [
    "sc.settings.verbosity = 0\n",
    "warnings.filterwarnings('ignore')\n",
    "sc.tl.rank_genes_groups(acg_nk, groupby='leiden', n_genes=1000, use_raw=True, groups=['3'], reference='0')\n",
    "warnings.filterwarnings('default')\n",
    "sc.pl.rank_genes_groups(acg_nk, ncols=4, n_genes=20)\n",
    "sc.settings.verbosity = 4"
   ]
  },
  {
   "cell_type": "code",
   "execution_count": null,
   "metadata": {},
   "outputs": [],
   "source": [
    "features = [i for i in acg_nk.uns['rank_genes_groups']['names']['3']]"
   ]
  },
  {
   "cell_type": "code",
   "execution_count": null,
   "metadata": {},
   "outputs": [],
   "source": [
    "sc.pl.heatmap(acg_nk[(acg_nk.obs['leiden'] == '0') | (acg_nk.obs['leiden'] == '3')],groupby='leiden', var_names=features, use_raw=True, figsize=(30,15))"
   ]
  },
  {
   "cell_type": "code",
   "execution_count": null,
   "metadata": {},
   "outputs": [],
   "source": [
    "def get_dge(adata):\n",
    "    deg_data = pd.DataFrame() \n",
    "    for i in ['scores', 'names', 'logfoldchanges', 'pvals', 'pvals_adj']:\n",
    "        deg_data[i] = np.array(adata.uns['rank_genes_groups'][i].tolist()).flatten()\n",
    "    return deg_data"
   ]
  },
  {
   "cell_type": "code",
   "execution_count": null,
   "metadata": {},
   "outputs": [],
   "source": [
    "deg_data = get_dge(acg_nk)"
   ]
  },
  {
   "cell_type": "code",
   "execution_count": null,
   "metadata": {},
   "outputs": [],
   "source": [
    "plt.scatter(deg_data['logfoldchanges'].values, -np.log10(deg_data['pvals_adj'].values), s=1)\n",
    "# plt.scatter(deg_data[deg_data['names'].str.contains('MT')]['logfoldchanges'].values, \n",
    "#             -np.log10(deg_data[deg_data['names'].str.contains('MT')]['pvals_adj'].values), s=1, color='r');\n",
    "plt.yscale('log')\n",
    "plt.xscale('log')"
   ]
  },
  {
   "cell_type": "code",
   "execution_count": null,
   "metadata": {},
   "outputs": [],
   "source": [
    "def grouped_rank(adata, groups):\n",
    "\n",
    "    assert len(groups) == 2\n",
    "    for i in range(2):\n",
    "        groups[i] = np.array(groups[i]).astype(str)\n",
    "        \n",
    "    grouped_clusts = [i for j in groups for i in j]\n",
    "    numclusts = np.unique(adata.obs['leiden'].values)\n",
    "    groups.append(np.setdiff1d(numclusts, grouped_clusts).astype('<U21'))\n",
    "    fig, axes = plt.subplots(1, 2, figsize=(8, 3.5))\n",
    "    for clusts, title, ax in zip(groups, ['0','1'], axes):\n",
    "        adata.obs['val'] = adata.obs['leiden'].isin(clusts).values\n",
    "        ax.set_facecolor('gray')\n",
    "        sc.pl.umap(adata,color='val', ax=ax, size=10, show=False, return_fig=False, title=title)\n",
    "    adata.obs.drop(columns='val', inplace=True)\n",
    "\n",
    "    adata.obs['rank_compare'] = adata.obs['leiden'].copy()\n",
    "    groups_dict = dict(zip(range(3), groups))\n",
    "    for group in groups_dict:\n",
    "        for clust in groups_dict[group]:\n",
    "            adata.obs['rank_compare'].replace(clust, 'ct%s' % group, regex=True, inplace=True)\n",
    "    adata.obs['rank_compare'] = adata.obs['rank_compare'].str.replace('ct','').astype('category')\n",
    "    \n",
    "    fig, ax = plt.subplots(1, 1, figsize=(5,5))\n",
    "    sc.settings.verbosity = 0\n",
    "    for ax in np.ravel(ax):\n",
    "        rank_adata = adata.copy()\n",
    "        sc.tl.rank_genes_groups(rank_adata, groupby='rank_compare', n_genes=20, groups=['0'], reference='1', use_raw=True)\n",
    "        y = range(20)[::-1]\n",
    "        x = [i[0] for i in rank_adata.uns['rank_genes_groups']['scores'].tolist()]\n",
    "        txts = [i[0] for i in rank_adata.uns['rank_genes_groups']['names'].tolist()]\n",
    "        ax.scatter(x, y, s=0)\n",
    "        for i, txt in enumerate(txts):\n",
    "            ax.annotate(txt, (x[i], y[i]), rotation=0, size=10)\n",
    "        ax.set_yticklabels([])\n",
    "    sc.settings.verbosity = 4\n",
    "    adata.obs.drop(columns='rank_compare', inplace=True)\n",
    "    return"
   ]
  },
  {
   "cell_type": "code",
   "execution_count": null,
   "metadata": {},
   "outputs": [],
   "source": [
    "grouped_rank(acg_nk,groups=[[0],[3]])"
   ]
  },
  {
   "cell_type": "code",
   "execution_count": null,
   "metadata": {},
   "outputs": [],
   "source": [
    "fig, ax = plt.subplots(1,1,figsize=(5.5,5))\n",
    "for ax, f in zip(np.ravel(ax), features):\n",
    "    ax.set_facecolor('black')\n",
    "    sc.pl.umap(acg_nk, color='SLC35B4', ax=ax,show=False, return_fig=False, size=20, use_raw=True)"
   ]
  },
  {
   "cell_type": "code",
   "execution_count": null,
   "metadata": {},
   "outputs": [],
   "source": []
  },
  {
   "cell_type": "code",
   "execution_count": null,
   "metadata": {},
   "outputs": [],
   "source": [
    "compare = ['4','3']\n",
    "by = 'leiden'\n",
    "sc.settings.verbosity = 0\n",
    "warnings.filterwarnings('ignore')\n",
    "fig, ax = plt.subplots(1, 1, figsize=(5,5))\n",
    "for ax in np.ravel(ax):\n",
    "    rank_adata = acg_nk.copy()\n",
    "    sc.tl.rank_genes_groups(rank_adata, groupby=by, n_genes=20, groups=[compare[0]], reference=compare[1])\n",
    "    y = range(20)[::-1]\n",
    "    x = [i[0] for i in rank_adata.uns['rank_genes_groups']['scores'].tolist()]\n",
    "    txts = [i[0] for i in rank_adata.uns['rank_genes_groups']['names'].tolist()]\n",
    "    ax.scatter(x, y, s=0)\n",
    "    for i, txt in enumerate(txts):\n",
    "        ax.annotate(txt, (x[i], y[i]), rotation=0, size=10)\n",
    "    ax.set_title('%s vs %s' % (compare[0], compare[1]))\n",
    "    ax.set_yticklabels([])\n",
    "sc.settings.verbosity = 4\n",
    "warnings.filterwarnings('default')"
   ]
  },
  {
   "cell_type": "code",
   "execution_count": null,
   "metadata": {},
   "outputs": [],
   "source": [
    "compare = ['0','4']\n",
    "by = 'leiden'\n",
    "sc.settings.verbosity = 0\n",
    "warnings.filterwarnings('ignore')\n",
    "fig, ax = plt.subplots(1, 1, figsize=(5,5))\n",
    "for ax in np.ravel(ax):\n",
    "    rank_adata = acg_nk.copy()\n",
    "    sc.tl.rank_genes_groups(rank_adata, groupby=by, n_genes=20, groups=[compare[0]], reference=compare[1])\n",
    "    y = range(20)[::-1]\n",
    "    x = [i[0] for i in rank_adata.uns['rank_genes_groups']['scores'].tolist()]\n",
    "    txts = [i[0] for i in rank_adata.uns['rank_genes_groups']['names'].tolist()]\n",
    "    ax.scatter(x, y, s=0)\n",
    "    for i, txt in enumerate(txts):\n",
    "        ax.annotate(txt, (x[i], y[i]), rotation=0, size=10)\n",
    "    ax.set_title('%s vs %s' % (compare[0], compare[1]))\n",
    "    ax.set_yticklabels([])\n",
    "sc.settings.verbosity = 4\n",
    "warnings.filterwarnings('default')"
   ]
  },
  {
   "cell_type": "code",
   "execution_count": null,
   "metadata": {},
   "outputs": [],
   "source": []
  },
  {
   "cell_type": "code",
   "execution_count": null,
   "metadata": {},
   "outputs": [],
   "source": []
  },
  {
   "cell_type": "code",
   "execution_count": null,
   "metadata": {},
   "outputs": [],
   "source": []
  },
  {
   "cell_type": "code",
   "execution_count": null,
   "metadata": {},
   "outputs": [],
   "source": []
  },
  {
   "cell_type": "code",
   "execution_count": null,
   "metadata": {},
   "outputs": [],
   "source": []
  },
  {
   "cell_type": "code",
   "execution_count": null,
   "metadata": {},
   "outputs": [],
   "source": [
    "fig, ax = plt.subplots(12,8,figsize=(30,40))\n",
    "for p, ax in tqdm(zip(proteins, np.ravel(ax))):\n",
    "    ax.set_facecolor('black')\n",
    "    sc.pl.umap(acg_nk, color=p, size=10, ncols=8, ax=ax, show=False, return_fig=False)\n",
    "plt.tight_layout()"
   ]
  },
  {
   "cell_type": "code",
   "execution_count": null,
   "metadata": {},
   "outputs": [],
   "source": [
    "clusts = [1, 2, 3, 4, 5, 6, 7]"
   ]
  },
  {
   "cell_type": "code",
   "execution_count": null,
   "metadata": {},
   "outputs": [],
   "source": [
    "sub_acgt = dict()\n",
    "for clust in clusts:\n",
    "    sub_acgt[str(clust)] = acg_t[acg_t.obs['leiden'] == str(clust)].copy()"
   ]
  },
  {
   "cell_type": "code",
   "execution_count": null,
   "metadata": {},
   "outputs": [],
   "source": [
    "sc.tl.leiden(sub_acgt['1'], resolution=0.7) # subcluster them using Leiden\n",
    "sc.pl.umap(sub_acgt['1'],color='leiden', size=3)"
   ]
  },
  {
   "cell_type": "code",
   "execution_count": null,
   "metadata": {},
   "outputs": [],
   "source": [
    "groupings = [[2, 4],\n",
    "            ]\n",
    "grouped_clusts = [i for j in groupings for i in j]\n",
    "numclusts = np.unique(sub_acgt['1'].obs['leiden'].values.astype(int))\n",
    "for i in np.setdiff1d(numclusts, grouped_clusts):\n",
    "    groupings.append([i])"
   ]
  },
  {
   "cell_type": "code",
   "execution_count": null,
   "metadata": {},
   "outputs": [],
   "source": [
    "ctdict = dict()\n",
    "for i in range(len(groupings)):\n",
    "    ctdict['ct%s' % str(i)] = groupings[i]\n",
    "\n",
    "sub_acgt['1'].obs['celltype'] = sub_acgt['1'].obs['leiden']\n",
    "for ct in ctdict:\n",
    "    for clust in ctdict[ct]:\n",
    "        sub_acgt['1'].obs['celltype'].replace(str(clust), ct, regex=True, inplace=True)\n",
    "sub_acgt['1'].obs['leiden'] = [i.strip('ct') for i in sub_acgt['1'].obs['celltype'].astype('category')]"
   ]
  },
  {
   "cell_type": "code",
   "execution_count": null,
   "metadata": {},
   "outputs": [],
   "source": [
    "sc.pl.umap(sub_acgt['1'],color='leiden', size=5)"
   ]
  },
  {
   "cell_type": "code",
   "execution_count": null,
   "metadata": {},
   "outputs": [],
   "source": [
    "sc.tl.leiden(sub_acgt['2'], resolution=0.2) # subcluster them using Leiden\n",
    "sc.pl.umap(sub_acgt['2'],color='leiden', size=5)"
   ]
  },
  {
   "cell_type": "code",
   "execution_count": null,
   "metadata": {},
   "outputs": [],
   "source": [
    "sc.tl.leiden(sub_acgt['3'], resolution=0.3) # subcluster them using Leiden\n",
    "sc.pl.umap(sub_acgt['3'],color='leiden', size=5)"
   ]
  },
  {
   "cell_type": "code",
   "execution_count": null,
   "metadata": {},
   "outputs": [],
   "source": [
    "sc.tl.leiden(sub_acgt['4'], resolution=0.3) # subcluster them using Leiden\n",
    "sc.pl.umap(sub_acgt['4'],color='leiden', size=5)"
   ]
  },
  {
   "cell_type": "code",
   "execution_count": null,
   "metadata": {},
   "outputs": [],
   "source": [
    "sc.tl.leiden(sub_acgt['5'], resolution=0.3) # subcluster them using Leiden\n",
    "sc.pl.umap(sub_acgt['5'],color='leiden', size=5)"
   ]
  },
  {
   "cell_type": "code",
   "execution_count": null,
   "metadata": {},
   "outputs": [],
   "source": [
    "sc.tl.leiden(sub_acgt['6'], resolution=0.3) # subcluster them using Leiden\n",
    "sc.pl.umap(sub_acgt['6'],color='leiden', size=5)"
   ]
  },
  {
   "cell_type": "code",
   "execution_count": null,
   "metadata": {},
   "outputs": [],
   "source": [
    "sc.tl.leiden(sub_acgt['7'], resolution=0.3) # subcluster them using Leiden\n",
    "sc.pl.umap(sub_acgt['7'],color='leiden', size=5)"
   ]
  },
  {
   "cell_type": "code",
   "execution_count": null,
   "metadata": {},
   "outputs": [],
   "source": [
    "def sub_cluster_mapper(adata, sub_adatas):\n",
    "    '''\n",
    "    This takes in the adata object and inserts a new leiden column in the `.obs`. \n",
    "    \n",
    "    This function is really convoluted and there's probably a better, simpler way to do it,\n",
    "    but it should theoretically work for any number of subclusters\n",
    "    '''\n",
    "    # ideally you'd make a copy of the adata object here, so we don't have to change the original\n",
    "    # this would be in case we want to run it multiple times, perhaps the resolutions we put in didn't subset the clusters like we had hoped\n",
    "    # and we need to run multiple times to adjust the resolution slightly\n",
    "    \n",
    "    # this block is to figure out that there are two new subclusters and they should be named 8, 9\n",
    "    total_new_clusts = 0\n",
    "    old_clusts = sub_adatas.keys()\n",
    "    for sub_adata in sub_adatas:\n",
    "        total_new_clusts += sub_adatas[sub_adata].obs['leiden'].astype(int).unique().max() + 1\n",
    "    total_added_clusts = total_new_clusts - len(sub_adatas)\n",
    "    new_clust_names_start = max(adata.obs['leiden'].astype(int))+1\n",
    "    new_added_clust_names = [str(i) for i in range(new_clust_names_start,\n",
    "                                                   new_clust_names_start + total_added_clusts)]\n",
    "    \n",
    "    # this block is to build a new list of leiden clusters from the old one \n",
    "    new_leiden = list()\n",
    "    leiden_col = adata.obs['leiden'].copy()\n",
    "\n",
    "    # this builds the new leiden cluster list, now adding a .1, .2, etc. to each new cluster\n",
    "    for obs in leiden_col.index:\n",
    "        clust_name = leiden_col.loc[obs]\n",
    "        if clust_name not in old_clusts or sub_adatas[clust_name].obs.loc[obs, 'leiden'] == '0':\n",
    "            new_leiden.append(clust_name)\n",
    "        else:\n",
    "            new_leiden.append(clust_name + '.%s' % sub_adatas[clust_name].obs.loc[obs,'leiden'])\n",
    "\n",
    "    # this renames the .1, .2, etc clusters to the new, better names I came up with above (8 and 9)\n",
    "    new_leiden = pd.Series(new_leiden, index=adata.obs_names)\n",
    "    added_clusts = np.setdiff1d(new_leiden,adata.obs['leiden'])\n",
    "    new_leiden.replace(dict(zip(added_clusts, new_added_clust_names)), inplace=True)\n",
    "    \n",
    "    # replace the old leiden column, must do these steps sequentially \n",
    "    adata.obs['leiden'] = new_leiden.astype(int) # to order the clusters by number\n",
    "    adata.obs['leiden'] = new_leiden.astype(str) # to convert to string as normal\n",
    "#     adata.obs['leiden'] = new_leiden.astype('category') # don't do this, it messes things up, just let scanpy do it as it plots\n",
    "    return adata"
   ]
  },
  {
   "cell_type": "code",
   "execution_count": null,
   "metadata": {},
   "outputs": [],
   "source": [
    "acg_t = sub_cluster_mapper(acg_t, sub_acgt)"
   ]
  },
  {
   "cell_type": "code",
   "execution_count": null,
   "metadata": {},
   "outputs": [],
   "source": [
    "fig, ax = plt.subplots(1, 2, figsize=(20,10))\n",
    "for color, ax, palette in zip(['cond', 'leiden'], ax, [None, sc.pl.palettes.default_20]):\n",
    "    sc.pl.umap(acg_t,color=color, ax=ax, show=False, return_fig=False, size=4, palette=palette)"
   ]
  },
  {
   "cell_type": "code",
   "execution_count": null,
   "metadata": {},
   "outputs": [],
   "source": [
    "sc.settings.verbosity = 0\n",
    "warnings.filterwarnings('ignore')\n",
    "sc.tl.rank_genes_groups(acg_t, groupby='leiden', n_genes=1000, use_raw=True)\n",
    "warnings.filterwarnings('default')\n",
    "sc.pl.rank_genes_groups(acg_t, ncols=5, n_genes=20)\n",
    "sc.settings.verbosity = 4"
   ]
  },
  {
   "cell_type": "code",
   "execution_count": null,
   "metadata": {},
   "outputs": [],
   "source": [
    "sc.pl.umap(acg_t, color=['CD4|CD4','CD8|CD8A'], size=2, ncols=5, use_raw=True) "
   ]
  },
  {
   "cell_type": "code",
   "execution_count": null,
   "metadata": {},
   "outputs": [],
   "source": [
    "sc.pl.umap(acg_t, color=['CCR7', 'CD45RA|PTPRC','CD8|CD8A','CD8A', 'CD8B'], size=2, ncols=5, use_raw=True) "
   ]
  },
  {
   "cell_type": "code",
   "execution_count": null,
   "metadata": {},
   "outputs": [],
   "source": [
    "fig, ax = plt.subplots(1,1,figsize=(8,8))\n",
    "ax.set_facecolor('black')\n",
    "sc.pl.umap(acg_t, color='leiden', size=10, ax=ax)"
   ]
  },
  {
   "cell_type": "code",
   "execution_count": null,
   "metadata": {},
   "outputs": [],
   "source": [
    "path = prefix + 'pkls/aggr/tnk.3.pkl'\n",
    "\n",
    "with open(path,'wb') as file:\n",
    "    pkl.dump(acg_t, file, protocol=4)\n",
    "\n",
    "# with open(path,'rb') as file:\n",
    "#     acg_t = pkl.load(file)"
   ]
  },
  {
   "cell_type": "code",
   "execution_count": null,
   "metadata": {},
   "outputs": [],
   "source": [
    "def add_raw(adata, transformed=True):\n",
    "    path = prefix + 'pkls/aggr/wells.sng.w_covars.pkl'\n",
    "    \n",
    "    with open(path,'rb') as file:\n",
    "        wells = pkl.load(file)\n",
    "    \n",
    "    for well in wells:\n",
    "        wells[well]['adata'].obs_names = [i[:16] + '-%s' % well for i in wells[well]['adata'].obs_names]\n",
    "    \n",
    "    raw = wells[0]['adata'].concatenate(*[wells[i]['adata'] for  i in range(1, 12)])[adata.obs_names,:]\n",
    "    \n",
    "    if transformed == True:\n",
    "        sc.pp.normalize_per_cell(raw,counts_per_cell_after=1e6)\n",
    "        sc.pp.log1p(raw)\n",
    "    \n",
    "    adata.raw = raw\n",
    "    return"
   ]
  },
  {
   "cell_type": "code",
   "execution_count": null,
   "metadata": {},
   "outputs": [],
   "source": [
    "add_raw(acg_t)"
   ]
  },
  {
   "cell_type": "code",
   "execution_count": null,
   "metadata": {},
   "outputs": [],
   "source": [
    "raw_transcripts = acg_t.raw.var_names\n",
    "transcripts = acg_t.var_names\n",
    "proteins = [i for i in acg_t.obs.columns if '|' in i]"
   ]
  },
  {
   "cell_type": "code",
   "execution_count": null,
   "metadata": {},
   "outputs": [],
   "source": [
    "name = 'CCR7'\n",
    "print([i for i in proteins if name in i])\n",
    "print([i for i in transcripts if name in i])\n",
    "print([i for i in raw_transcripts if name in i])"
   ]
  },
  {
   "cell_type": "code",
   "execution_count": null,
   "metadata": {},
   "outputs": [],
   "source": [
    "proteins.index('TCRgd|TRD_TRG') \n",
    "# proteins.index('CD94|KLRD1')"
   ]
  },
  {
   "cell_type": "code",
   "execution_count": null,
   "metadata": {},
   "outputs": [],
   "source": [
    "features = ['CD3|CD3E', 'CD4|CD4','CD8|CD8A', 'CD45RA|PTPRC','CD45RO|PTPRC',\n",
    "            'CD185|CXCR5', 'CD62L|SELL', 'CXCR3','CCR4', 'CCR6', \n",
    "            'LAT','RGS10','CD69|CD69', 'PITPNC1', 'SLC5A3',\n",
    "            'TRDC', 'TRDV2', 'IKZF2', 'FOXP3', 'CD94|KLRD1',\n",
    "            'CD26|DPP4', 'CD103|ITGAE', 'CCR7', 'NKG7','CCL5'\n",
    "           ]"
   ]
  },
  {
   "cell_type": "code",
   "execution_count": null,
   "metadata": {},
   "outputs": [],
   "source": [
    "fig, ax = plt.subplots(5,5,figsize=(30,27.5))\n",
    "for ax, f in zip(np.ravel(ax), features):\n",
    "    ax.set_facecolor('black')\n",
    "    sc.pl.umap(acg_t, color=f, ax=ax,show=False, return_fig=False, size=5, use_raw=True)"
   ]
  },
  {
   "cell_type": "code",
   "execution_count": null,
   "metadata": {},
   "outputs": [],
   "source": [
    "cts = [\"Naïve CD4\", \"Th2\", \"Early Activated CD4\", \"Naïve CD8\", \n",
    "       \"Effector Memory RA CD8\", \"Effector Memory CD8\", \"Resting Treg\", \"Mito\", \n",
    "       \"Th17\", \"Tfh\", \"Tfh/Proliferation\", \"Doublet? 1\", \n",
    "       \"R848 Contam 1\", \"Early Activated CD8\", \"Central Memory CD8\", \"Gamma Delta Treg?\", \n",
    "       \"Gamma Delta Type2\", \"R848 Contam? 2\", \"Activated Treg\", \"Doublet? 2\"]"
   ]
  },
  {
   "cell_type": "code",
   "execution_count": null,
   "metadata": {},
   "outputs": [],
   "source": [
    "ctdict = dict(zip(cts, [[i] for i in range(20)]))"
   ]
  },
  {
   "cell_type": "code",
   "execution_count": null,
   "metadata": {},
   "outputs": [],
   "source": [
    "acg_t.obs['ct1'] = acg_t.obs['leiden']\n",
    "for ct in ctdict:\n",
    "    for clust in ctdict[ct]:\n",
    "        acg_t.obs['ct1'].replace(str(clust), ct, regex=True, inplace=True)"
   ]
  },
  {
   "cell_type": "code",
   "execution_count": null,
   "metadata": {},
   "outputs": [],
   "source": [
    "fig, ax = plt.subplots(1,1,figsize=(10,10))\n",
    "ax.set_facecolor('whitesmoke')\n",
    "sc.pl.umap(acg_t, color='ct1', size=10, ax=ax, legend_loc='on data', legend_fontsize=10)"
   ]
  },
  {
   "cell_type": "code",
   "execution_count": null,
   "metadata": {},
   "outputs": [],
   "source": [
    "fig, ax = plt.subplots(1,1,figsize=(10,10))\n",
    "ax.set_facecolor('whitesmoke')\n",
    "sc.pl.umap(acg_t, color='ct1', size=10, ax=ax)"
   ]
  },
  {
   "cell_type": "code",
   "execution_count": null,
   "metadata": {},
   "outputs": [],
   "source": [
    "fig, ax = plt.subplots(1,7, figsize=(30,4))\n",
    "for val, ax in tqdm(zip(acg_t.obs['cond'].dtype.categories, np.ravel(ax))):\n",
    "    acg_t.obs['val'] = acg_t.obs['cond'] == val\n",
    "    ax.set_facecolor('black')\n",
    "    sc.pl.umap(acg_t,color='val', ax=ax, show=False, return_fig=False, title=val)\n",
    "    acg_t.obs.drop(columns='val', inplace=True)\n",
    "plt.tight_layout()"
   ]
  },
  {
   "cell_type": "code",
   "execution_count": null,
   "metadata": {},
   "outputs": [],
   "source": [
    "sc.settings.verbosity = 0\n",
    "warnings.filterwarnings('ignore')\n",
    "sc.tl.rank_genes_groups(acg_t_subs['Naive CD8'], groupby='cond', n_genes=100, groups=['A'], reference='C')\n",
    "warnings.filterwarnings('default')\n",
    "sc.pl.rank_genes_groups(acg_t_subs['Naive CD8'])\n",
    "sc.settings.verbosity = 4"
   ]
  },
  {
   "cell_type": "code",
   "execution_count": null,
   "metadata": {},
   "outputs": [],
   "source": [
    "good_cts = [\"Naïve CD4\", \"Th2\", \"Early Activated CD4\", \"Naïve CD8\", \n",
    "            \"Effector Memory RA CD8\", \"Effector Memory CD8\", \"Resting Treg\", \n",
    "            \"Th17\", \"Tfh\", \"Tfh/Proliferation\", \"Early Activated CD8\", \n",
    "            \"Central Memory CD8\", \"Gamma Delta Treg?\", \n",
    "            \"Gamma Delta Type2\", \"Activated Treg\"\n",
    "           ]"
   ]
  },
  {
   "cell_type": "code",
   "execution_count": null,
   "metadata": {},
   "outputs": [],
   "source": [
    "sc.settings.verbosity = 0\n",
    "warnings.filterwarnings('ignore')\n",
    "fig, ax = plt.subplots(3, 5, figsize=(30,18))\n",
    "for ct, ax in tqdm(zip(good_cts,np.ravel(ax))):\n",
    "    rank_adata = acg_t[acg_t.obs['ct1'] == ct].copy()\n",
    "    sc.tl.rank_genes_groups(rank_adata, groupby='cond', n_genes=20, groups=['A'], reference='C')\n",
    "    x = range(20)\n",
    "    y = [i[0] for i in rank_adata.uns['rank_genes_groups']['scores'].tolist()]\n",
    "    txts = [i[0] for i in rank_adata.uns['rank_genes_groups']['names'].tolist()]\n",
    "    ax.scatter(x, y, s=0)\n",
    "    for i, txt in enumerate(txts):\n",
    "        ax.annotate(txt, (x[i], y[i]), rotation=45, size=10)\n",
    "    ax.set_title(ct)"
   ]
  },
  {
   "cell_type": "code",
   "execution_count": null,
   "metadata": {},
   "outputs": [],
   "source": [
    "gene = 'CD137|TNFRSF9'\n",
    "fig, ax = plt.subplots(1,2,figsize=(12,5))\n",
    "for cond, ax in zip(['C','A'], ax):\n",
    "    ax.set_facecolor('black')\n",
    "    sc.pl.umap(acg_t[acg_t.obs['cond'] == cond], ax=ax, show=False, return_fig=False, color=gene, size=10, use_raw=True)"
   ]
  },
  {
   "cell_type": "code",
   "execution_count": null,
   "metadata": {},
   "outputs": [],
   "source": [
    "sc.settings.verbosity = 0\n",
    "warnings.filterwarnings('ignore')\n",
    "fig, ax = plt.subplots(3, 5, figsize=(30,18))\n",
    "for ct, ax in tqdm(zip(good_cts,np.ravel(ax))):\n",
    "    rank_adata = acg_t[acg_t.obs['ct1'] == ct].copy()\n",
    "    sc.tl.rank_genes_groups(rank_adata, groupby='cond', n_genes=20, groups=['G'], reference='C')\n",
    "    y = range(20)[::-1]\n",
    "    x = [i[0] for i in rank_adata.uns['rank_genes_groups']['scores'].tolist()]\n",
    "    txts = [i[0] for i in rank_adata.uns['rank_genes_groups']['names'].tolist()]\n",
    "    ax.scatter(x, y, s=0)\n",
    "    for i, txt in enumerate(txts):\n",
    "        ax.annotate(txt, (x[i], y[i]), rotation=0, size=10)\n",
    "    ax.set_title(ct)"
   ]
  },
  {
   "cell_type": "code",
   "execution_count": null,
   "metadata": {},
   "outputs": [],
   "source": [
    "gene = 'AHNAK'\n",
    "fig, ax = plt.subplots(1,2,figsize=(12,5))\n",
    "for cond, ax in zip(['C','G'], ax):\n",
    "    ax.set_facecolor('black')\n",
    "    sc.pl.umap(acg_t[acg_t.obs['cond'] == cond], ax=ax, show=False, return_fig=False, color=gene, size=10, use_raw=True)"
   ]
  },
  {
   "cell_type": "code",
   "execution_count": null,
   "metadata": {},
   "outputs": [],
   "source": []
  },
  {
   "cell_type": "code",
   "execution_count": null,
   "metadata": {},
   "outputs": [],
   "source": []
  },
  {
   "cell_type": "code",
   "execution_count": null,
   "metadata": {},
   "outputs": [],
   "source": []
  },
  {
   "cell_type": "code",
   "execution_count": null,
   "metadata": {},
   "outputs": [],
   "source": []
  },
  {
   "cell_type": "code",
   "execution_count": null,
   "metadata": {},
   "outputs": [],
   "source": []
  },
  {
   "cell_type": "code",
   "execution_count": null,
   "metadata": {},
   "outputs": [],
   "source": [
    "sc.pl.umap(acg_t, color=proteins, size=2, ncols=8)"
   ]
  },
  {
   "cell_type": "code",
   "execution_count": null,
   "metadata": {},
   "outputs": [],
   "source": [
    "sc.settings.verbosity = 0\n",
    "warnings.filterwarnings('ignore')\n",
    "sc.tl.rank_genes_groups(acg_t, groupby='leiden', n_genes=40, groups=['18'],reference='6')\n",
    "warnings.filterwarnings('default')\n",
    "sc.pl.rank_genes_groups(acg_t, ncols=5, n_genes=20)\n",
    "sc.settings.verbosity = 4"
   ]
  },
  {
   "cell_type": "code",
   "execution_count": null,
   "metadata": {},
   "outputs": [],
   "source": [
    "[i[0] for i in acg_t.uns['rank_genes_groups']['names']]"
   ]
  },
  {
   "cell_type": "code",
   "execution_count": null,
   "metadata": {},
   "outputs": [],
   "source": [
    "sc.pl.umap(acg_t, color=[i[0] for i in acg_t.uns['rank_genes_groups']['names'][:20]], size=2, ncols=5)"
   ]
  },
  {
   "cell_type": "code",
   "execution_count": null,
   "metadata": {},
   "outputs": [],
   "source": [
    "sc.pl.umap(acg_t, color=[i[0] for i in acg_t.uns['rank_genes_groups']['names'][20:]], size=2, ncols=5)"
   ]
  },
  {
   "cell_type": "code",
   "execution_count": null,
   "metadata": {},
   "outputs": [],
   "source": []
  }
 ],
 "metadata": {
  "kernelspec": {
   "display_name": "codec",
   "language": "python",
   "name": "codec"
  },
  "language_info": {
   "codemirror_mode": {
    "name": "ipython",
    "version": 3
   },
   "file_extension": ".py",
   "mimetype": "text/x-python",
   "name": "python",
   "nbconvert_exporter": "python",
   "pygments_lexer": "ipython3",
   "version": "3.6.7"
  }
 },
 "nbformat": 4,
 "nbformat_minor": 4
}
