{
 "cells": [
  {
   "cell_type": "markdown",
   "metadata": {},
   "source": [
    "## A/C/G T/NK Cells\n",
    "\n",
    "Here I try to phenotype the T cell and NK subsets present in the leiden clusters marked by the TNF-Alpha, Control, and IFN-Gamma conditions."
   ]
  },
  {
   "cell_type": "code",
   "execution_count": null,
   "metadata": {},
   "outputs": [],
   "source": [
    "import scanpy as sc\n",
    "import pandas as pd \n",
    "import numpy as np\n",
    "import matplotlib.pyplot as plt\n",
    "from tqdm.notebook import tqdm\n",
    "import warnings\n",
    "import itertools as it\n",
    "import json\n",
    "import requests\n",
    "import seaborn as sns\n",
    "import pickle as pkl\n",
    "from functools import reduce\n",
    "\n",
    "import matplotlib as mpl\n",
    "import matplotlib.patches as patches\n",
    "from matplotlib.gridspec import GridSpec\n",
    "from shapely.geometry import Point\n",
    "from shapely.geometry.polygon import Polygon"
   ]
  },
  {
   "cell_type": "code",
   "execution_count": null,
   "metadata": {},
   "outputs": [],
   "source": [
    "sc.settings.verbosity = 4\n",
    "sc.settings.set_figure_params(dpi=80)\n",
    "print(sc.__version__)\n",
    "sc.settings.n_jobs=12"
   ]
  },
  {
   "cell_type": "code",
   "execution_count": null,
   "metadata": {},
   "outputs": [],
   "source": [
    "prefix = '/data/codec/production.run/mrna/'"
   ]
  },
  {
   "cell_type": "markdown",
   "metadata": {},
   "source": [
    "### Load in Data"
   ]
  },
  {
   "cell_type": "code",
   "execution_count": null,
   "metadata": {},
   "outputs": [],
   "source": [
    "path = prefix + 'pkls/aggr/tnk.pkl'\n",
    "    \n",
    "with open(path,'rb') as file:\n",
    "    tnk = pkl.load(file)"
   ]
  },
  {
   "cell_type": "code",
   "execution_count": null,
   "metadata": {},
   "outputs": [],
   "source": [
    "fig, ax = plt.subplots(1, 2, figsize=(20,10))\n",
    "for color, ax in zip(['cond', 'leiden'], ax):\n",
    "    sc.pl.umap(tnk['adata'],color=color, ax=ax, show=False, return_fig=False, size=2)"
   ]
  },
  {
   "cell_type": "markdown",
   "metadata": {},
   "source": [
    "Okay, after blindly following what I had done originally for the unadjusted workflow, I've actually decided now that I would like to do filtering for only these cells, and a highly-variable gene extraction. For that reason, I'm going to extract out the cell barcodes here, and then just re-run everything from raw, and doing what I now think will be best practices."
   ]
  },
  {
   "cell_type": "code",
   "execution_count": null,
   "metadata": {},
   "outputs": [],
   "source": [
    "tnk_cells = tnk['adata'].obs_names"
   ]
  },
  {
   "cell_type": "code",
   "execution_count": null,
   "metadata": {},
   "outputs": [],
   "source": [
    "path = prefix + 'obs/aggr/tnk.bcs.txt'\n",
    "\n",
    "# with open(path,'w') as file:\n",
    "#     for bc in tnk_cells:\n",
    "#         file.write(bc + '\\n'?)\n",
    "        \n",
    "with open(path,'r') as file:\n",
    "    tnk_cells = [i.strip() for i in file.readlines()]"
   ]
  },
  {
   "cell_type": "code",
   "execution_count": null,
   "metadata": {},
   "outputs": [],
   "source": [
    "path = prefix + 'pkls/aggr/wells.sng.w_covars.pkl'\n",
    "\n",
    "# with open(path,'wb') as file:\n",
    "#     pkl.dump(wells, file)\n",
    "    \n",
    "with open(path,'rb') as file:\n",
    "    wells = pkl.load(file)"
   ]
  },
  {
   "cell_type": "markdown",
   "metadata": {},
   "source": [
    "### Adjust Cell Barcodes, Filter\n",
    "\n",
    "I'm adjusting the cell barcodes to make them match their well number, which I also did with the ADTs."
   ]
  },
  {
   "cell_type": "code",
   "execution_count": null,
   "metadata": {},
   "outputs": [],
   "source": [
    "for well in wells:\n",
    "    wells[well]['adata'].obs_names = [i[:16] + '-%s' % well for i in wells[well]['adata'].obs_names]"
   ]
  },
  {
   "cell_type": "markdown",
   "metadata": {},
   "source": [
    "### Concatenate"
   ]
  },
  {
   "cell_type": "code",
   "execution_count": null,
   "metadata": {},
   "outputs": [],
   "source": [
    "tnk = wells[0]['adata'].concatenate(*[wells[i]['adata'] for  i in range(1, 12)])[tnk_cells].copy() # I really shouldn't do this, I should go back and run cellranger aggr, but for now just concatenate"
   ]
  },
  {
   "cell_type": "code",
   "execution_count": null,
   "metadata": {},
   "outputs": [],
   "source": [
    "tnk.var['n_counts'] = tnk.var[[i for i in tnk.var.columns if i.startswith('n_counts')]].sum(axis=1)"
   ]
  },
  {
   "cell_type": "markdown",
   "metadata": {},
   "source": [
    "### Filter Genes, Transform Data\n",
    "\n",
    "Drop genes with very low counts."
   ]
  },
  {
   "cell_type": "code",
   "execution_count": null,
   "metadata": {},
   "outputs": [],
   "source": [
    "plt.figure(figsize=(8,6))\n",
    "plt.plot(range(len(tnk.var_names)), \n",
    "         tnk.var['n_counts'].sort_values(ascending=False).values, \n",
    "         color='k')\n",
    "plt.grid(False)\n",
    "plt.grid(True, 'both', 'both')\n",
    "plt.xscale('log')\n",
    "plt.yscale('log')"
   ]
  },
  {
   "cell_type": "code",
   "execution_count": null,
   "metadata": {},
   "outputs": [],
   "source": [
    "# remove any genes that are now empty\n",
    "sc.pp.filter_genes(tnk, min_counts=50, inplace=True)"
   ]
  },
  {
   "cell_type": "code",
   "execution_count": null,
   "metadata": {},
   "outputs": [],
   "source": [
    "sc.pp.normalize_per_cell(tnk, counts_per_cell_after=1e6)"
   ]
  },
  {
   "cell_type": "code",
   "execution_count": null,
   "metadata": {},
   "outputs": [],
   "source": [
    "sc.pp.log1p(tnk)"
   ]
  },
  {
   "cell_type": "code",
   "execution_count": null,
   "metadata": {},
   "outputs": [],
   "source": [
    "path = '/data/codec/production.run/adts/pkls/combat/concat.combat.adts.norm.log.pkl'\n",
    "with open(path,'rb') as file:\n",
    "    concat_adts = pkl.load(file)\n",
    "transcripts = tnk.var_names\n",
    "proteins = concat_adts['adata'].var_names\n",
    "adts_df = pd.DataFrame(concat_adts['adata'].X, columns=proteins, index=concat_adts['adata'].obs_names)\n",
    "tnk.obs = tnk.obs.join(adts_df)"
   ]
  },
  {
   "cell_type": "markdown",
   "metadata": {},
   "source": [
    "### Highly Variable Genes Extraction"
   ]
  },
  {
   "cell_type": "code",
   "execution_count": null,
   "metadata": {},
   "outputs": [],
   "source": [
    "def hv_run(adata, flavor='cell_ranger', min_mean=0.0125, min_disp=0.5, max_mean=3, bins=500):    # Extract out highly variable genes, but don't subset just yet\n",
    "    '''\n",
    "    Run highly variable genes and return a new adata object, if provided.\n",
    "    '''\n",
    "    hv_adata = adata.copy() # make a copy because I don't want to change the original just yet\n",
    "    sc.pp.highly_variable_genes(hv_adata, flavor=flavor,inplace=True, \n",
    "                                min_mean=min_mean, \n",
    "                                min_disp=min_disp, \n",
    "                                max_mean=max_mean,\n",
    "                                n_bins=bins)\n",
    "    \n",
    "    means = hv_adata.var['means'].values\n",
    "    means_sorted = np.unique(np.sort(means))\n",
    "    if means_sorted[0] == 0:\n",
    "        mean_shift = means_sorted[1]\n",
    "    elif means_sorted[0] < 0:\n",
    "        mean_shift = means_sorted[1] - 2*means_sorted[0]\n",
    "    else:\n",
    "        mean_shift = 0\n",
    "    \n",
    "    disps = hv_adata.var['dispersions_norm'].values\n",
    "    disps_sorted = np.unique(np.sort(disps))\n",
    "    if disps_sorted[0] == 0:\n",
    "        disp_shift = disps_sorted[1]\n",
    "    elif disps_sorted[0] < 0:\n",
    "        disp_shift = disps_sorted[1] - 2*disps_sorted[0]\n",
    "    else:\n",
    "        disp_shift = 0\n",
    "        \n",
    "    log_means = np.log10(means + mean_shift)\n",
    "    log_disps = np.log10(disps + disp_shift)\n",
    "    \n",
    "    hv_adata.var['log_means'] = log_means\n",
    "    hv_adata.var['log_disps'] = log_disps\n",
    "    \n",
    "    return hv_adata\n",
    "\n",
    "def hv_plot(hv_adata, gate=None, highlight_genes=None, bw='scott'):\n",
    "    '''\n",
    "    Plot the means and normalized dispersions from the adata object provided. Choose to\n",
    "    also plot a gate or highlight certain genes.\n",
    "    '''\n",
    "\n",
    "    \n",
    "    # do what the scanpy function does, plotting normalized dispersions with means as blue dots, \n",
    "    # I don't want to plot in logspace but I don't want to use the log function because then the gates don't work\n",
    "    # if they contain segments with fractional slopes (i.e. non-straight lines). To be robust to these gates, I therefore \n",
    "    # will log10 everything and just plot in linear space\n",
    "    log_means = hv_adata.var['log_means'].values\n",
    "    log_disps = hv_adata.var['log_disps'].values\n",
    "    \n",
    "    fig = plt.figure(figsize=(19, 6))\n",
    "    gs = GridSpec(2, 3, figure=fig)\n",
    "    ax1 = fig.add_subplot(gs[:, 0])\n",
    "    ax2 = fig.add_subplot(gs[:, 1])\n",
    "    ax3 = fig.add_subplot(gs[0, 2])\n",
    "    ax4 = fig.add_subplot(gs[1, 2])\n",
    "\n",
    "#     ax1.hist2d(log_means, log_disps, bins=bins);\n",
    "    ax1.get_xaxis().set_minor_locator(mpl.ticker.AutoMinorLocator())\n",
    "    ax1.get_yaxis().set_minor_locator(mpl.ticker.AutoMinorLocator())\n",
    "    ax1.grid(True, which='both',axis='both', alpha=0.4)\n",
    "    ax1.set_ylabel('Log Dispersions')\n",
    "    ax1.set_xlabel('Log Means')\n",
    "    sns.kdeplot(log_means, log_disps, bw=bw, shade=True, shade_lowest=False, ax=ax1, color='skyblue')\n",
    "\n",
    "    ax2.minorticks_on() # throw on the minor ticks for use with the grid, will help with subsetting\n",
    "    ax2.grid(True,which='both',axis='both') # turn the grid on\n",
    "    ax2.scatter(log_means, log_disps, s=0.1, c='b')\n",
    "    ax2.set_ylabel('Log Dispersions')\n",
    "    ax2.set_xlabel('Log Means')\n",
    "\n",
    "#     ax3.hist(log_means, bins=bins)\n",
    "    ax3.minorticks_on()\n",
    "    ax3.grid(True,which='both',axis='both')\n",
    "    ax3.set_title('Log Means')\n",
    "    sns.kdeplot(log_means, bw=bw, ax=ax3, color='blue')\n",
    "\n",
    "#     ax4.hist(log_disps, bins=bins)\n",
    "    ax3.minorticks_on()\n",
    "    ax3.grid(True,which='both',axis='both')\n",
    "    ax4.set_title('Log Dispersions')\n",
    "    sns.kdeplot(log_disps, bw=bw, ax=ax4, color='blue')\n",
    "\n",
    "    plt.tight_layout();\n",
    "\n",
    "    if type(highlight_genes) != type(None): # do you want to highlight some genes?\n",
    "        mask = [i in highlight_genes for i in hv_adata.var_names] # create a boolean mask of which genes to highlight\n",
    "        highlight_means = log_means[mask] # subset only those means\n",
    "        highlight_disps = log_disps[mask] # subset only those dispersions\n",
    "        ax2.scatter(highlight_means,highlight_disps,s=30, facecolors='none', edgecolors='r'); # plot with a red circle around the blue dot\n",
    "        \n",
    "    if type(gate) != type(None):\n",
    "        # You can draw a gate around the genes you want. There should be a check for using only rectangular gates (or only polygons with right angles). \n",
    "        # I have noted that if you try to draw angled lines in log space using the shapely package, the points_in_poly function does not return the right subset of points within the polygon.\n",
    "        gatepatch = patches.Polygon(gate,linewidth=1,edgecolor='teal',facecolor='turquoise',alpha=0.5) # create a matplotlib patch for the gate to the plot\n",
    "        ax2.add_patch(gatepatch); # add the gate to the plot\n",
    "\n",
    "def hv_genes(hv_adata, gate, adata=None):\n",
    "    '''\n",
    "    Receive boolean for genes in gate or new subsetted adata object, if provided.\n",
    "    '''\n",
    "    # You can subset the genes you want using the gate. Again, there should be a check for using only rectangular gates (or only polygons with right angles). \n",
    "    # I have noted that if you try to draw angled lines in log space using the shapely package, the points_in_poly function does not return the right subset of points within the polygon.\n",
    "    genes = list()\n",
    "    log_means = hv_adata.var['log_means'].values\n",
    "    log_disps = hv_adata.var['log_disps'].values\n",
    "    \n",
    "    pointsmap = map(Point,log_means,log_disps) # make each point a shapely.geometry.Point\n",
    "    \n",
    "    polygon = Polygon(gate) # make your gate a shapely.geometry.Polygon\n",
    "    for i in pointsmap:\n",
    "        genes.append(polygon.contains(i)) # this is the workhorse, determining which points are in the gate\n",
    "    if type(adata) != type(None): # if the adata has been provided, subset it\n",
    "        adata = adata[:,genes].copy()\n",
    "        return adata\n",
    "    else: # if it has not been provided return the boolean array noting which genes will be kept\n",
    "        return genes"
   ]
  },
  {
   "cell_type": "markdown",
   "metadata": {},
   "source": [
    "Generate a \"highly variable adata\" object that has run the highly variable genes extraction function. I generate a separate object because I don't want to necessarily change the original object."
   ]
  },
  {
   "cell_type": "code",
   "execution_count": null,
   "metadata": {},
   "outputs": [],
   "source": [
    "hv_adata = hv_run(tnk)"
   ]
  },
  {
   "cell_type": "code",
   "execution_count": null,
   "metadata": {},
   "outputs": [],
   "source": [
    "hv_plot(hv_adata, highlight_genes= [i for i in tnk.var_names if i.startswith('MT')])"
   ]
  },
  {
   "cell_type": "code",
   "execution_count": null,
   "metadata": {},
   "outputs": [],
   "source": [
    "xrange = (-1.3, 1.2)\n",
    "yrange = (0.5, 2)\n",
    "gate = np.array([(xrange[0], yrange[0]), \n",
    "                  (xrange[0], yrange[1]), \n",
    "                  (xrange[1], yrange[1]), \n",
    "                  (xrange[1], yrange[0])])"
   ]
  },
  {
   "cell_type": "code",
   "execution_count": null,
   "metadata": {},
   "outputs": [],
   "source": [
    "hv_plot(hv_adata, gate=gate)"
   ]
  },
  {
   "cell_type": "code",
   "execution_count": null,
   "metadata": {},
   "outputs": [],
   "source": [
    "genes = hv_genes(hv_adata, gate=gate)"
   ]
  },
  {
   "cell_type": "code",
   "execution_count": null,
   "metadata": {},
   "outputs": [],
   "source": [
    "tnk.var_names[genes][:10].values"
   ]
  },
  {
   "cell_type": "code",
   "execution_count": null,
   "metadata": {},
   "outputs": [],
   "source": [
    "sum(genes)"
   ]
  },
  {
   "cell_type": "markdown",
   "metadata": {},
   "source": [
    "You can get a new adata object with your genes now subsetted:"
   ]
  },
  {
   "cell_type": "code",
   "execution_count": null,
   "metadata": {},
   "outputs": [],
   "source": [
    "tnk = hv_genes(hv_adata, gate=gate, adata=tnk)"
   ]
  },
  {
   "cell_type": "code",
   "execution_count": null,
   "metadata": {},
   "outputs": [],
   "source": [
    "tnk.shape"
   ]
  },
  {
   "cell_type": "code",
   "execution_count": null,
   "metadata": {},
   "outputs": [],
   "source": [
    "fig, ax = plt.subplots(1,2,figsize=(10,4))\n",
    "for vals, ax in zip(['percent_mito','n_counts'], np.ravel(ax)):\n",
    "    ax.hist(tnk.obs[vals].values,bins=100)"
   ]
  },
  {
   "cell_type": "code",
   "execution_count": null,
   "metadata": {},
   "outputs": [],
   "source": [
    "sc.pp.regress_out(tnk, ['percent_mito','n_counts'],n_jobs=1)"
   ]
  },
  {
   "cell_type": "code",
   "execution_count": null,
   "metadata": {},
   "outputs": [],
   "source": [
    "sc.pp.scale(tnk)"
   ]
  },
  {
   "cell_type": "code",
   "execution_count": null,
   "metadata": {},
   "outputs": [],
   "source": [
    "sc.pp.combat(tnk, key='batch',covariates=['cond','free_id'])"
   ]
  },
  {
   "cell_type": "code",
   "execution_count": null,
   "metadata": {},
   "outputs": [],
   "source": [
    "sc.pp.pca(tnk,n_comps=150)"
   ]
  },
  {
   "cell_type": "code",
   "execution_count": null,
   "metadata": {},
   "outputs": [],
   "source": [
    "sc.pl.pca_variance_ratio(tnk,log=True, n_pcs=150)"
   ]
  },
  {
   "cell_type": "code",
   "execution_count": null,
   "metadata": {},
   "outputs": [],
   "source": [
    "sc.pp.neighbors(tnk,n_neighbors=15,n_pcs=80)"
   ]
  },
  {
   "cell_type": "code",
   "execution_count": null,
   "metadata": {},
   "outputs": [],
   "source": [
    "sc.tl.umap(tnk)"
   ]
  },
  {
   "cell_type": "code",
   "execution_count": null,
   "metadata": {},
   "outputs": [],
   "source": [
    "print(1)"
   ]
  },
  {
   "cell_type": "code",
   "execution_count": null,
   "metadata": {},
   "outputs": [],
   "source": [
    "sc.tl.leiden(tnk, resolution=0.6)"
   ]
  },
  {
   "cell_type": "code",
   "execution_count": null,
   "metadata": {},
   "outputs": [],
   "source": [
    "fig, ax = plt.subplots(1, 2, figsize=(20,10))\n",
    "for color, ax, palette in zip(['cond', 'leiden'], ax, [None, sc.pl.palettes.default_20]):\n",
    "    sc.pl.umap(tnk,color=color, ax=ax, show=False, return_fig=False, size=2, palette=palette)"
   ]
  },
  {
   "cell_type": "code",
   "execution_count": null,
   "metadata": {},
   "outputs": [],
   "source": [
    "path = prefix + 'pkls/aggr/tnk.2.pkl'\n",
    "\n",
    "# with open(path,'wb') as file:\n",
    "#     pkl.dump(tnk, file, protocol=4)\n",
    "\n",
    "with open(path,'rb') as file:\n",
    "    tnk = pkl.load(file)"
   ]
  },
  {
   "cell_type": "code",
   "execution_count": null,
   "metadata": {},
   "outputs": [],
   "source": [
    "clusts = [6, 10]"
   ]
  },
  {
   "cell_type": "code",
   "execution_count": null,
   "metadata": {},
   "outputs": [],
   "source": [
    "sub_tnk = dict()\n",
    "for clust in clusts:\n",
    "    sub_tnk[str(clust)] = tnk[tnk.obs['leiden'] == str(clust)].copy()"
   ]
  },
  {
   "cell_type": "code",
   "execution_count": null,
   "metadata": {},
   "outputs": [],
   "source": [
    "sc.tl.leiden(sub_tnk['6'], resolution=0.1) # subcluster them using Leiden\n",
    "sc.pl.umap(sub_tnk['6'],color='leiden', size=0.6)"
   ]
  },
  {
   "cell_type": "code",
   "execution_count": null,
   "metadata": {},
   "outputs": [],
   "source": [
    "sc.tl.leiden(sub_tnk['10'], resolution=0.2) # subcluster them using Leiden\n",
    "sc.pl.umap(sub_tnk['10'],color='leiden', size=0.6)"
   ]
  },
  {
   "cell_type": "code",
   "execution_count": null,
   "metadata": {},
   "outputs": [],
   "source": [
    "groupings = [[0, 2],\n",
    "             ]\n",
    "grouped_clusts = [i for j in groupings for i in j]\n",
    "numclusts = np.unique(sub_tnk['10'].obs['leiden'].values.astype(int))\n",
    "for i in np.setdiff1d(numclusts, grouped_clusts):\n",
    "    groupings.append([i])"
   ]
  },
  {
   "cell_type": "code",
   "execution_count": null,
   "metadata": {},
   "outputs": [],
   "source": [
    "ctdict = dict()\n",
    "for i in range(len(groupings)):\n",
    "    ctdict['ct%s' % str(i)] = groupings[i]\n",
    "\n",
    "sub_tnk['10'].obs['celltype'] = sub_tnk['10'].obs['leiden']\n",
    "for ct in ctdict:\n",
    "    for clust in ctdict[ct]:\n",
    "        sub_tnk['10'].obs['celltype'].replace(str(clust), ct, regex=True, inplace=True)\n",
    "sub_tnk['10'].obs['leiden'] = [i.strip('ct') for i in sub_tnk['10'].obs['celltype'].astype('category')]"
   ]
  },
  {
   "cell_type": "code",
   "execution_count": null,
   "metadata": {},
   "outputs": [],
   "source": [
    "sc.pl.umap(sub_tnk['10'],color=['leiden'], size=3)"
   ]
  },
  {
   "cell_type": "code",
   "execution_count": null,
   "metadata": {},
   "outputs": [],
   "source": [
    "def sub_cluster_mapper(adata, sub_adatas):\n",
    "    '''\n",
    "    This takes in the adata object and inserts a new leiden column in the `.obs`. \n",
    "    \n",
    "    This function is really convoluted and there's probably a better, simpler way to do it,\n",
    "    but it should theoretically work for any number of subclusters\n",
    "    '''\n",
    "    # ideally you'd make a copy of the adata object here, so we don't have to change the original\n",
    "    # this would be in case we want to run it multiple times, perhaps the resolutions we put in didn't subset the clusters like we had hoped\n",
    "    # and we need to run multiple times to adjust the resolution slightly\n",
    "    \n",
    "    # this block is to figure out that there are two new subclusters and they should be named 8, 9\n",
    "    total_new_clusts = 0\n",
    "    old_clusts = sub_adatas.keys()\n",
    "    for sub_adata in sub_adatas:\n",
    "        total_new_clusts += sub_adatas[sub_adata].obs['leiden'].astype(int).unique().max() + 1\n",
    "    total_added_clusts = total_new_clusts - len(sub_adatas)\n",
    "    new_clust_names_start = max(adata.obs['leiden'].astype(int))+1\n",
    "    new_added_clust_names = [str(i) for i in range(new_clust_names_start,\n",
    "                                                   new_clust_names_start + total_added_clusts)]\n",
    "    \n",
    "    # this block is to build a new list of leiden clusters from the old one \n",
    "    new_leiden = list()\n",
    "    leiden_col = adata.obs['leiden'].copy()\n",
    "\n",
    "    # this builds the new leiden cluster list, now adding a .1, .2, etc. to each new cluster\n",
    "    for obs in leiden_col.index:\n",
    "        clust_name = leiden_col.loc[obs]\n",
    "        if clust_name not in old_clusts or sub_adatas[clust_name].obs.loc[obs, 'leiden'] == '0':\n",
    "            new_leiden.append(clust_name)\n",
    "        else:\n",
    "            new_leiden.append(clust_name + '.%s' % sub_adatas[clust_name].obs.loc[obs,'leiden'])\n",
    "\n",
    "    # this renames the .1, .2, etc clusters to the new, better names I came up with above (8 and 9)\n",
    "    new_leiden = pd.Series(new_leiden, index=adata.obs_names)\n",
    "    added_clusts = np.setdiff1d(new_leiden,adata.obs['leiden'])\n",
    "    new_leiden.replace(dict(zip(added_clusts, new_added_clust_names)), inplace=True)\n",
    "    \n",
    "    # replace the old leiden column, must do these steps sequentially \n",
    "    adata.obs['leiden'] = new_leiden.astype(int) # to order the clusters by number\n",
    "    adata.obs['leiden'] = new_leiden.astype(str) # to convert to string as normal\n",
    "#     adata.obs['leiden'] = new_leiden.astype('category') # don't do this, it messes things up, just let scanpy do it as it plots\n",
    "    return adata"
   ]
  },
  {
   "cell_type": "code",
   "execution_count": null,
   "metadata": {},
   "outputs": [],
   "source": [
    "tnk = sub_cluster_mapper(tnk, sub_tnk)"
   ]
  },
  {
   "cell_type": "code",
   "execution_count": null,
   "metadata": {},
   "outputs": [],
   "source": [
    "sc.pl.umap(tnk,color=['leiden'], size=3)"
   ]
  },
  {
   "cell_type": "code",
   "execution_count": null,
   "metadata": {},
   "outputs": [],
   "source": [
    "groupings = [[1, 3, 4, 7, 8, 11],\n",
    "             [0, 5, 9],\n",
    "             [2, 10]\n",
    "             ]\n",
    "grouped_clusts = [i for j in groupings for i in j]\n",
    "numclusts = np.unique(tnk.obs['leiden'].values.astype(int))\n",
    "for i in np.setdiff1d(numclusts, grouped_clusts):\n",
    "    groupings.append([i])"
   ]
  },
  {
   "cell_type": "code",
   "execution_count": null,
   "metadata": {},
   "outputs": [],
   "source": [
    "ctdict = dict()\n",
    "for i in range(len(groupings)):\n",
    "    ctdict['ct%s' % str(i)] = groupings[i]\n",
    "\n",
    "tnk.obs['celltype'] = tnk.obs['leiden']\n",
    "for ct in ctdict:\n",
    "    for clust in ctdict[ct]:\n",
    "        tnk.obs['celltype'].replace(str(clust), ct, regex=True, inplace=True)\n",
    "tnk.obs['leiden'] = [i.strip('ct') for i in tnk.obs['celltype'].astype('category')]"
   ]
  },
  {
   "cell_type": "code",
   "execution_count": null,
   "metadata": {},
   "outputs": [],
   "source": [
    "[i for i in tnk.obs.columns if 'CD16' in i]"
   ]
  },
  {
   "cell_type": "code",
   "execution_count": null,
   "metadata": {},
   "outputs": [],
   "source": [
    "sc.pl.umap(tnk, color=['leiden', 'CD3|CD3E','CD4|CD4','CD8|CD8A','CD56|NCAM1','CD16|FCGR3A'], size=3)"
   ]
  },
  {
   "cell_type": "code",
   "execution_count": null,
   "metadata": {},
   "outputs": [],
   "source": [
    "sc.settings.verbosity = 0 \n",
    "warnings.filterwarnings('ignore')\n",
    "sc.tl.rank_genes_groups(tnk, groupby='leiden', n_genes=20, groups=['4','5'])\n",
    "warnings.filterwarnings('default')\n",
    "sc.pl.rank_genes_groups(tnk, ncols=5, n_genes=20)\n",
    "sc.settings.verbosity = 4"
   ]
  },
  {
   "cell_type": "markdown",
   "metadata": {},
   "source": [
    "Cluster 4 is probably B/T multiplets and 5 is probably T/M multiplets."
   ]
  },
  {
   "cell_type": "code",
   "execution_count": null,
   "metadata": {},
   "outputs": [],
   "source": [
    "acg_t = tnk[tnk.obs['leiden'] == '0'].copy()\n",
    "# acg_nk = tnk[tnk.obs['leiden'] == '3'].copy()\n",
    "# br_t = tnk[tnk.obs['leiden'] == '1'].copy()\n",
    "# br_nk = tnk[tnk.obs['leiden'] == '7'].copy()\n",
    "# p_t = tnk[tnk.obs['leiden'] == '2'].copy()\n",
    "# p_nk = tnk[tnk.obs['leiden'] == '6'].copy()"
   ]
  },
  {
   "cell_type": "markdown",
   "metadata": {},
   "source": [
    "# Cell Type Split"
   ]
  },
  {
   "cell_type": "code",
   "execution_count": null,
   "metadata": {},
   "outputs": [],
   "source": [
    "total_pcs = 75"
   ]
  },
  {
   "cell_type": "code",
   "execution_count": null,
   "metadata": {},
   "outputs": [],
   "source": [
    "sc.settings.n_jobs = 12\n",
    "sc.pp.pca(acg_t,n_comps=total_pcs)"
   ]
  },
  {
   "cell_type": "code",
   "execution_count": null,
   "metadata": {},
   "outputs": [],
   "source": [
    "sc.pl.pca_variance_ratio(acg_t,log=True, n_pcs=total_pcs)"
   ]
  },
  {
   "cell_type": "code",
   "execution_count": null,
   "metadata": {},
   "outputs": [],
   "source": [
    "df_loadings = pd.DataFrame(acg_t.varm['PCs'], index=acg_t.var_names)\n",
    "df_rankings = pd.DataFrame((-1 * df_loadings.values).argsort(0).argsort(0), index=df_loadings.index, columns=df_loadings.columns)"
   ]
  },
  {
   "cell_type": "code",
   "execution_count": null,
   "metadata": {},
   "outputs": [],
   "source": [
    "num = 50\n",
    "percent_ribos = list()\n",
    "for pc in range(total_pcs):\n",
    "    top_genes = df_loadings[pc].sort_values(ascending=True)[:num].index\n",
    "    percent_ribos.append(len([i for i in top_genes if i.startswith('RP')])/num)"
   ]
  },
  {
   "cell_type": "code",
   "execution_count": null,
   "metadata": {},
   "outputs": [],
   "source": [
    "plt.bar(range(len(percent_ribos)), percent_ribos);"
   ]
  },
  {
   "cell_type": "code",
   "execution_count": null,
   "metadata": {},
   "outputs": [],
   "source": [
    "np.array(percent_ribos > 0.35)"
   ]
  },
  {
   "cell_type": "code",
   "execution_count": null,
   "metadata": {},
   "outputs": [],
   "source": [
    "pc_keep_bool = np.array([True, False, True, True ...]) # len = total_pcs"
   ]
  },
  {
   "cell_type": "code",
   "execution_count": null,
   "metadata": {},
   "outputs": [],
   "source": [
    "adata.varm['PCs'] = adata.varm['PCs'][:,pc_keep_bool]\n",
    "adata.obsm['X_pca'] = adata.obsm['X_pca'][:,pc_keep_bool]"
   ]
  },
  {
   "cell_type": "markdown",
   "metadata": {},
   "source": [
    "Then, when feeding to neighbors:"
   ]
  },
  {
   "cell_type": "code",
   "execution_count": null,
   "metadata": {},
   "outputs": [],
   "source": [
    "warnings.filterwarnings('ignore')\n",
    "sc.pp.neighbors(adata,n_neighbors=15,n_pcs=pc_keep_bool.sum()) # numba warning outlined here is not to be of concern: https://github.com/lmcinnes/umap/issues/252\n",
    "warnings.filterwarnings('default')"
   ]
  },
  {
   "cell_type": "code",
   "execution_count": null,
   "metadata": {},
   "outputs": [],
   "source": [
    "df_loadings[24].sort_values(ascending=True)[:num].index"
   ]
  },
  {
   "cell_type": "code",
   "execution_count": null,
   "metadata": {},
   "outputs": [],
   "source": [
    "print(['SELL' in i for i in map(lambda x: df_loadings[x].sort_values(ascending=False)[:num].index, range(40))])"
   ]
  },
  {
   "cell_type": "code",
   "execution_count": null,
   "metadata": {},
   "outputs": [],
   "source": [
    "warnings.filterwarnings('ignore')\n",
    "sc.pp.neighbors(acg_t, n_neighbors=15, n_pcs=40)\n",
    "warnings.filterwarnings('default')"
   ]
  },
  {
   "cell_type": "code",
   "execution_count": null,
   "metadata": {},
   "outputs": [],
   "source": [
    "sc.tl.umap(acg_t)"
   ]
  },
  {
   "cell_type": "code",
   "execution_count": null,
   "metadata": {},
   "outputs": [],
   "source": [
    "sc.tl.leiden(acg_t, resolution=1.2)"
   ]
  },
  {
   "cell_type": "code",
   "execution_count": null,
   "metadata": {},
   "outputs": [],
   "source": [
    "fig, ax = plt.subplots(1, 2, figsize=(20,10))\n",
    "for color, ax, palette in zip(['cond', 'leiden'], ax, [None, sc.pl.palettes.default_20]):\n",
    "    sc.pl.umap(acg_t,color=color, ax=ax, show=False, return_fig=False, size=4, palette=palette)"
   ]
  },
  {
   "cell_type": "code",
   "execution_count": null,
   "metadata": {},
   "outputs": [],
   "source": [
    "fig, ax = plt.subplots(2, 7, figsize=(30,8))\n",
    "for val, ax in tqdm(zip(acg_t.obs['leiden'].dtype.categories, np.ravel(ax))):\n",
    "    acg_t.obs['val'] = acg_t.obs['leiden'] == val\n",
    "    ax.set_facecolor('gray')\n",
    "    sc.pl.umap(acg_t,color='val', ax=ax, show=False, return_fig=False, title=val)\n",
    "    acg_t.obs.drop(columns='val', inplace=True)\n",
    "plt.tight_layout()"
   ]
  },
  {
   "cell_type": "code",
   "execution_count": null,
   "metadata": {},
   "outputs": [],
   "source": [
    "fig, ax = plt.subplots(1,1)\n",
    "ax.set_facecolor('gray')\n",
    "sc.pl.umap(acg_t, color=['percent_mito'], ax=ax)"
   ]
  },
  {
   "cell_type": "code",
   "execution_count": null,
   "metadata": {},
   "outputs": [],
   "source": [
    "clusts = [5, 6, 7, 9, 11, 12]"
   ]
  },
  {
   "cell_type": "code",
   "execution_count": null,
   "metadata": {},
   "outputs": [],
   "source": [
    "sub_acgt = dict()\n",
    "for clust in clusts:\n",
    "    sub_acgt[str(clust)] = acg_t[acg_t.obs['leiden'] == str(clust)].copy()"
   ]
  },
  {
   "cell_type": "code",
   "execution_count": null,
   "metadata": {},
   "outputs": [],
   "source": [
    "sc.tl.leiden(sub_acgt['5'], resolution=0.7) # subcluster them using Leiden\n",
    "sc.pl.umap(sub_acgt['5'],color='leiden', size=5)"
   ]
  },
  {
   "cell_type": "code",
   "execution_count": null,
   "metadata": {},
   "outputs": [],
   "source": [
    "groupings = [[1, 2, 3]\n",
    "            ]\n",
    "grouped_clusts = [i for j in groupings for i in j]\n",
    "numclusts = np.unique(sub_acgt['5'].obs['leiden'].values.astype(int))\n",
    "for i in np.setdiff1d(numclusts, grouped_clusts):\n",
    "    groupings.append([i])"
   ]
  },
  {
   "cell_type": "code",
   "execution_count": null,
   "metadata": {},
   "outputs": [],
   "source": [
    "ctdict = dict()\n",
    "for i in range(len(groupings)):\n",
    "    ctdict['ct%s' % str(i)] = groupings[i]\n",
    "\n",
    "sub_acgt['5'].obs['celltype'] = sub_acgt['5'].obs['leiden']\n",
    "for ct in ctdict:\n",
    "    for clust in ctdict[ct]:\n",
    "        sub_acgt['5'].obs['celltype'].replace(str(clust), ct, regex=True, inplace=True)\n",
    "sub_acgt['5'].obs['leiden'] = [i.strip('ct') for i in sub_acgt['5'].obs['celltype'].astype('category')]"
   ]
  },
  {
   "cell_type": "code",
   "execution_count": null,
   "metadata": {},
   "outputs": [],
   "source": [
    "sc.pl.umap(sub_acgt['5'], color='leiden', size=5)"
   ]
  },
  {
   "cell_type": "code",
   "execution_count": null,
   "metadata": {},
   "outputs": [],
   "source": [
    "sc.tl.leiden(sub_acgt['6'], resolution=0.2) # subcluster them using Leiden\n",
    "sc.pl.umap(sub_acgt['6'],color='leiden', size=5)"
   ]
  },
  {
   "cell_type": "code",
   "execution_count": null,
   "metadata": {},
   "outputs": [],
   "source": [
    "sc.tl.leiden(sub_acgt['7'], resolution=0.3) # subcluster them using Leiden\n",
    "sc.pl.umap(sub_acgt['7'],color='leiden', size=5)"
   ]
  },
  {
   "cell_type": "code",
   "execution_count": null,
   "metadata": {},
   "outputs": [],
   "source": [
    "sc.tl.leiden(sub_acgt['9'], resolution=0.3) # subcluster them using Leiden\n",
    "sc.pl.umap(sub_acgt['9'],color='leiden', size=5)"
   ]
  },
  {
   "cell_type": "code",
   "execution_count": null,
   "metadata": {},
   "outputs": [],
   "source": [
    "sc.tl.leiden(sub_acgt['11'], resolution=0.3) # subcluster them using Leiden\n",
    "sc.pl.umap(sub_acgt['11'],color='leiden', size=5)"
   ]
  },
  {
   "cell_type": "code",
   "execution_count": null,
   "metadata": {},
   "outputs": [],
   "source": [
    "sc.tl.leiden(sub_acgt['12'], resolution=0.5) # subcluster them using Leiden\n",
    "sc.pl.umap(sub_acgt['12'],color='leiden', size=5)"
   ]
  },
  {
   "cell_type": "code",
   "execution_count": null,
   "metadata": {},
   "outputs": [],
   "source": [
    "groupings = [[0, 2, 4]\n",
    "            ]\n",
    "grouped_clusts = [i for j in groupings for i in j]\n",
    "numclusts = np.unique(sub_acgt['12'].obs['leiden'].values.astype(int))\n",
    "for i in np.setdiff1d(numclusts, grouped_clusts):\n",
    "    groupings.append([i])"
   ]
  },
  {
   "cell_type": "code",
   "execution_count": null,
   "metadata": {},
   "outputs": [],
   "source": [
    "ctdict = dict()\n",
    "for i in range(len(groupings)):\n",
    "    ctdict['ct%s' % str(i)] = groupings[i]\n",
    "\n",
    "sub_acgt['12'].obs['celltype'] = sub_acgt['12'].obs['leiden']\n",
    "for ct in ctdict:\n",
    "    for clust in ctdict[ct]:\n",
    "        sub_acgt['12'].obs['celltype'].replace(str(clust), ct, regex=True, inplace=True)\n",
    "sub_acgt['12'].obs['leiden'] = [i.strip('ct') for i in sub_acgt['12'].obs['celltype'].astype('category')]"
   ]
  },
  {
   "cell_type": "code",
   "execution_count": null,
   "metadata": {},
   "outputs": [],
   "source": [
    "sc.pl.umap(sub_acgt['12'], color='leiden', size=5)"
   ]
  },
  {
   "cell_type": "code",
   "execution_count": null,
   "metadata": {},
   "outputs": [],
   "source": [
    "def sub_cluster_mapper(adata, sub_adatas):\n",
    "    '''\n",
    "    This takes in the adata object and inserts a new leiden column in the `.obs`. \n",
    "    \n",
    "    This function is really convoluted and there's probably a better, simpler way to do it,\n",
    "    but it should theoretically work for any number of subclusters\n",
    "    '''\n",
    "    # ideally you'd make a copy of the adata object here, so we don't have to change the original\n",
    "    # this would be in case we want to run it multiple times, perhaps the resolutions we put in didn't subset the clusters like we had hoped\n",
    "    # and we need to run multiple times to adjust the resolution slightly\n",
    "    \n",
    "    # this block is to figure out that there are two new subclusters and they should be named 8, 9\n",
    "    total_new_clusts = 0\n",
    "    old_clusts = sub_adatas.keys()\n",
    "    for sub_adata in sub_adatas:\n",
    "        total_new_clusts += sub_adatas[sub_adata].obs['leiden'].astype(int).unique().max() + 1\n",
    "    total_added_clusts = total_new_clusts - len(sub_adatas)\n",
    "    new_clust_names_start = max(adata.obs['leiden'].astype(int))+1\n",
    "    new_added_clust_names = [str(i) for i in range(new_clust_names_start,\n",
    "                                                   new_clust_names_start + total_added_clusts)]\n",
    "    \n",
    "    # this block is to build a new list of leiden clusters from the old one \n",
    "    new_leiden = list()\n",
    "    leiden_col = adata.obs['leiden'].copy()\n",
    "\n",
    "    # this builds the new leiden cluster list, now adding a .1, .2, etc. to each new cluster\n",
    "    for obs in leiden_col.index:\n",
    "        clust_name = leiden_col.loc[obs]\n",
    "        if clust_name not in old_clusts or sub_adatas[clust_name].obs.loc[obs, 'leiden'] == '0':\n",
    "            new_leiden.append(clust_name)\n",
    "        else:\n",
    "            new_leiden.append(clust_name + '.%s' % sub_adatas[clust_name].obs.loc[obs,'leiden'])\n",
    "\n",
    "    # this renames the .1, .2, etc clusters to the new, better names I came up with above (8 and 9)\n",
    "    new_leiden = pd.Series(new_leiden, index=adata.obs_names)\n",
    "    added_clusts = np.setdiff1d(new_leiden,adata.obs['leiden'])\n",
    "    new_leiden.replace(dict(zip(added_clusts, new_added_clust_names)), inplace=True)\n",
    "    \n",
    "    # replace the old leiden column, must do these steps sequentially \n",
    "    adata.obs['leiden'] = new_leiden.astype(int) # to order the clusters by number\n",
    "    adata.obs['leiden'] = new_leiden.astype(str) # to convert to string as normal\n",
    "#     adata.obs['leiden'] = new_leiden.astype('category') # don't do this, it messes things up, just let scanpy do it as it plots\n",
    "    return adata"
   ]
  },
  {
   "cell_type": "code",
   "execution_count": null,
   "metadata": {},
   "outputs": [],
   "source": [
    "acg_t = sub_cluster_mapper(acg_t, sub_acgt)"
   ]
  },
  {
   "cell_type": "code",
   "execution_count": null,
   "metadata": {},
   "outputs": [],
   "source": [
    "fig, ax = plt.subplots(1, 2, figsize=(20,10))\n",
    "for color, ax, palette in zip(['cond', 'leiden'], ax, [None, sc.pl.palettes.default_20]):\n",
    "    sc.pl.umap(acg_t,color=color, ax=ax, show=False, return_fig=False, size=4, palette=palette)"
   ]
  },
  {
   "cell_type": "code",
   "execution_count": null,
   "metadata": {},
   "outputs": [],
   "source": [
    "fig, ax = plt.subplots(4, 6, figsize=(30,15))\n",
    "for val, ax in tqdm(zip(acg_t.obs['leiden'].dtype.categories, np.ravel(ax))):\n",
    "    acg_t.obs['val'] = acg_t.obs['leiden'] == val\n",
    "    ax.set_facecolor('gray')\n",
    "    sc.pl.umap(acg_t,color='val', ax=ax, show=False, return_fig=False, title=val)\n",
    "    acg_t.obs.drop(columns='val', inplace=True)\n",
    "plt.tight_layout()"
   ]
  },
  {
   "cell_type": "code",
   "execution_count": null,
   "metadata": {},
   "outputs": [],
   "source": [
    "groupings = [[2, 3],\n",
    "             [7, 12],\n",
    "             [21, 22]\n",
    "            ]\n",
    "grouped_clusts = [i for j in groupings for i in j]\n",
    "numclusts = np.unique(acg_t.obs['leiden'].values.astype(int))\n",
    "for i in np.setdiff1d(numclusts, grouped_clusts):\n",
    "    groupings.append([i])"
   ]
  },
  {
   "cell_type": "code",
   "execution_count": null,
   "metadata": {},
   "outputs": [],
   "source": [
    "ctdict = dict()\n",
    "for i in range(len(groupings)):\n",
    "    ctdict['ct%s' % str(i)] = groupings[i]\n",
    "\n",
    "acg_t.obs['celltype'] = acg_t.obs['leiden']\n",
    "for ct in ctdict:\n",
    "    for clust in ctdict[ct]:\n",
    "        acg_t.obs['celltype'].replace(str(clust), ct, regex=True, inplace=True)\n",
    "acg_t.obs['leiden'] = [i.strip('ct') for i in acg_t.obs['celltype'].astype('category')]"
   ]
  },
  {
   "cell_type": "code",
   "execution_count": null,
   "metadata": {},
   "outputs": [],
   "source": [
    "sc.pl.umap(acg_t, color='leiden', size=1)"
   ]
  },
  {
   "cell_type": "code",
   "execution_count": null,
   "metadata": {},
   "outputs": [],
   "source": [
    "fig, ax = plt.subplots(4, 5, figsize=(30,20))\n",
    "for val, ax in tqdm(zip(acg_t.obs['leiden'].dtype.categories, np.ravel(ax))):\n",
    "    acg_t.obs['val'] = acg_t.obs['leiden'] == val\n",
    "    ax.set_facecolor('gray')\n",
    "    sc.pl.umap(acg_t,color='val', ax=ax, show=False, return_fig=False, title=val)\n",
    "    acg_t.obs.drop(columns='val', inplace=True)\n",
    "plt.tight_layout()"
   ]
  },
  {
   "cell_type": "code",
   "execution_count": null,
   "metadata": {},
   "outputs": [],
   "source": [
    "acg_t = acg_t[~acg_t.obs['leiden'].isin(['2','10','12']),:].copy()"
   ]
  },
  {
   "cell_type": "code",
   "execution_count": null,
   "metadata": {},
   "outputs": [],
   "source": [
    "# renumber so that the colors match what I usually expect the numbers to be :)\n",
    "clusts = acg_t.obs['leiden'].dtype.categories\n",
    "for clust, i in zip(clusts, range(len(clusts))):\n",
    "    acg_t.obs['leiden'].replace(clust, 'ct%s' % str(i), inplace=True)\n",
    "acg_t.obs['leiden'] = [i.strip('ct') for i in acg_t.obs['leiden'].astype('category')]"
   ]
  },
  {
   "cell_type": "code",
   "execution_count": null,
   "metadata": {},
   "outputs": [],
   "source": [
    "fig, ax = plt.subplots(1,1,figsize=(8,8))\n",
    "ax.set_facecolor('black')\n",
    "sc.pl.umap(acg_t, color='leiden', size=10, ax=ax)"
   ]
  },
  {
   "cell_type": "code",
   "execution_count": null,
   "metadata": {},
   "outputs": [],
   "source": [
    "sc.settings.verbosity = 0\n",
    "warnings.filterwarnings('ignore')\n",
    "sc.tl.rank_genes_groups(acg_t, groupby='leiden', n_genes=20)\n",
    "warnings.filterwarnings('default')\n",
    "sc.pl.rank_genes_groups(acg_t, ncols=5, n_genes=20)\n",
    "sc.settings.verbosity = 4"
   ]
  },
  {
   "cell_type": "code",
   "execution_count": null,
   "metadata": {},
   "outputs": [],
   "source": [
    "sc.pl.umap(acg_t, color=['CD4|CD4', 'CD8|CD8A'], size=2, ncols=5)"
   ]
  },
  {
   "cell_type": "code",
   "execution_count": null,
   "metadata": {},
   "outputs": [],
   "source": [
    "transcripts = acg_t.var_names\n",
    "proteins = [i for i in acg_t.obs.columns if '|' in i]"
   ]
  },
  {
   "cell_type": "code",
   "execution_count": null,
   "metadata": {},
   "outputs": [],
   "source": [
    "name = 'SELL'\n",
    "print([i for i in proteins if name in i])\n",
    "print([i for i in transcripts if name in i])"
   ]
  },
  {
   "cell_type": "code",
   "execution_count": null,
   "metadata": {},
   "outputs": [],
   "source": [
    "focus_clusts = list(map(str,[0, 2, 3, 4, 5, 6]))\n",
    "clusts = acg_t.obs['leiden'].dtype.categories\n",
    "clust_bool = [i in focus_clusts for i in clusts]\n",
    "colors = np.array(acg_t.uns['leiden_colors'])"
   ]
  },
  {
   "cell_type": "code",
   "execution_count": null,
   "metadata": {},
   "outputs": [],
   "source": [
    "features = ['CD3|CD3E', 'CD8|CD8A', 'CD4|CD4','CD8A', 'CD4', \n",
    "            'CD183|CXCR3', 'CXCR3', 'STAT1', 'STAT2', 'STAT4', \n",
    "            'GATA3', 'CD194|CCR4', 'CCR4', 'CD196|CCR6', 'CCR6',\n",
    "            'CD185|CXCR5', 'CXCR5', 'SMAD2', 'SMAD3', 'SMAD7'\n",
    "            ]"
   ]
  },
  {
   "cell_type": "code",
   "execution_count": null,
   "metadata": {},
   "outputs": [],
   "source": [
    "fig, ax = plt.subplots(3, 5, figsize=(20,10))\n",
    "for f, ax in tqdm(zip(features, np.ravel(ax)), total=12):\n",
    "    for clust, color in zip(focus_clusts, colors[clust_bool]):\n",
    "        sns.kdeplot(np.array(acg_t[acg_t.obs['leiden'] == clust].obs_vector(f)), # need the np.array wrapper because for the genes it returns an \"Array View\"\n",
    "                color=color, alpha=0.5, ax=ax)\n",
    "    ax.set_title(f)\n",
    "plt.tight_layout()"
   ]
  },
  {
   "cell_type": "code",
   "execution_count": null,
   "metadata": {},
   "outputs": [],
   "source": [
    "features = ['CD45RO|PTPRC', 'CD45RA|PTPRC', 'CD25|IL2RA', 'CD127|IL7R', \n",
    "            'IL7R', 'CD38|CD38', 'CD38', 'SELL', 'CD62L|SELL', \n",
    "            'CCR7', 'CD197|CCR7', 'CD69', 'CD69|CD69', 'CD27', 'CD27|CD27']"
   ]
  },
  {
   "cell_type": "code",
   "execution_count": null,
   "metadata": {},
   "outputs": [],
   "source": [
    "fig, ax = plt.subplots(3, 5, figsize=(20,10))\n",
    "for f, ax in tqdm(zip(features, np.ravel(ax)), total=12):\n",
    "    for clust, color in zip(focus_clusts, colors[clust_bool]):\n",
    "        sns.kdeplot(np.array(acg_t[acg_t.obs['leiden'] == clust].obs_vector(f)), # need the np.array wrapper because for the genes it returns an \"Array View\"\n",
    "                color=color, alpha=0.5, ax=ax)\n",
    "    ax.set_title(f)\n",
    "plt.tight_layout()"
   ]
  },
  {
   "cell_type": "code",
   "execution_count": null,
   "metadata": {},
   "outputs": [],
   "source": [
    "features = ['HLA-ABC|HLA-A_B_C', 'HHLA3', 'HLA-F', 'HLA-G', 'HLA-A', \n",
    "            'HLA-E', 'HLA-C', 'HLA-B', 'HLA-DRA', 'HLA-DRB5', \n",
    "            'HLA-DRB1', 'HLA-DQA1', 'HLA-DQB1', 'HLA-DMB', 'HLA-DMA', \n",
    "            'HLA-DOA', 'HLA-DPA1', 'HLA-DPB1']"
   ]
  },
  {
   "cell_type": "code",
   "execution_count": null,
   "metadata": {},
   "outputs": [],
   "source": [
    "fig, ax = plt.subplots(3, 6, figsize=(20,8))\n",
    "for f, ax in tqdm(zip(features, np.ravel(ax)), total=18):\n",
    "    for clust, color in zip(focus_clusts, colors[clust_bool]):\n",
    "        sns.kdeplot(np.array(acg_t[acg_t.obs['leiden'] == clust].obs_vector(f)), # need the np.array wrapper because for the genes it returns an \"Array View\"\n",
    "                color=color, alpha=0.5, ax=ax)\n",
    "    ax.set_title(f)\n",
    "plt.tight_layout()"
   ]
  },
  {
   "cell_type": "code",
   "execution_count": null,
   "metadata": {},
   "outputs": [],
   "source": [
    "sc.settings.verbosity = 0\n",
    "warnings.filterwarnings('ignore')\n",
    "sc.tl.rank_genes_groups(acg_t, groupby='leiden', n_genes=1000, groups=['16'])\n",
    "warnings.filterwarnings('default')\n",
    "# sc.pl.rank_genes_groups(acg_t, ncols=5, n_genes=500)\n",
    "sc.settings.verbosity = 4"
   ]
  },
  {
   "cell_type": "code",
   "execution_count": null,
   "metadata": {},
   "outputs": [],
   "source": [
    "def get_dge(adata):\n",
    "    deg_data = pd.DataFrame() \n",
    "    for i in ['scores', 'names', 'logfoldchanges', 'pvals', 'pvals_adj']:\n",
    "        deg_data[i] = np.array(adata.uns['rank_genes_groups'][i].tolist()).flatten()\n",
    "    return deg_data"
   ]
  },
  {
   "cell_type": "code",
   "execution_count": null,
   "metadata": {},
   "outputs": [],
   "source": [
    "deg_data = get_dge(acg_t)"
   ]
  },
  {
   "cell_type": "code",
   "execution_count": null,
   "metadata": {},
   "outputs": [],
   "source": [
    "plt.scatter(deg_data['logfoldchanges'].values, -np.log10(deg_data['pvals_adj'].values), s=1)\n",
    "plt.scatter(deg_data[deg_data['names'].str.contains('RP')]['logfoldchanges'].values, \n",
    "            -np.log10(deg_data[deg_data['names'].str.contains('RP')]['pvals_adj'].values), s=1, color='r');"
   ]
  },
  {
   "cell_type": "code",
   "execution_count": null,
   "metadata": {},
   "outputs": [],
   "source": [
    "deg_data[(deg_data['logfoldchanges'] > 2.5) & (-np.log10(deg_data['pvals_adj']) > 10)]['names'].values"
   ]
  },
  {
   "cell_type": "code",
   "execution_count": null,
   "metadata": {},
   "outputs": [],
   "source": [
    "sc.pl.umap(acg_t, color=['BTG1'], size=2, ncols=5)"
   ]
  },
  {
   "cell_type": "code",
   "execution_count": null,
   "metadata": {},
   "outputs": [],
   "source": [
    "def grouped_rank(adata, groups, return_uns=False):\n",
    "\n",
    "    assert len(groups) == 2\n",
    "    for i in range(2):\n",
    "        groups[i] = np.array(groups[i]).astype(str)\n",
    "        \n",
    "    grouped_clusts = [i for j in groups for i in j]\n",
    "    numclusts = np.unique(adata.obs['leiden'].values)\n",
    "    groups.append(np.setdiff1d(numclusts, grouped_clusts).astype('<U21'))\n",
    "    fig, axes = plt.subplots(1, 2, figsize=(8, 4))\n",
    "    for clusts, title, ax in zip(groups, ['0','1'], axes):\n",
    "        adata.obs['val'] = adata.obs['leiden'].isin(clusts).values\n",
    "        ax.set_facecolor('gray')\n",
    "        sc.pl.umap(adata,color='val', ax=ax, size=1, show=False, return_fig=False, title=title)\n",
    "    adata.obs.drop(columns='val', inplace=True)\n",
    "\n",
    "    adata.obs['rank_compare'] = adata.obs['leiden'].copy()\n",
    "    groups_dict = dict(zip(range(3), groups))\n",
    "    for group in groups_dict:\n",
    "        for clust in groups_dict[group]:\n",
    "            adata.obs['rank_compare'].replace(clust, 'ct%s' % group, regex=True, inplace=True)\n",
    "    adata.obs['rank_compare'] = adata.obs['rank_compare'].str.replace('ct','').astype('category')\n",
    "    sc.settings.verbosity = 0\n",
    "    warnings.filterwarnings('ignore')\n",
    "    sc.tl.rank_genes_groups(adata, groupby='rank_compare', n_genes=1000, groups=['0'], reference='1', test='wilcoxon')\n",
    "    warnings.filterwarnings('default')\n",
    "    sc.pl.rank_genes_groups(adata, ncols=5, n_genes=20)\n",
    "    sc.settings.verbosity = 4\n",
    "    adata.obs.drop(columns='rank_compare', inplace=True)\n",
    "    return"
   ]
  },
  {
   "cell_type": "code",
   "execution_count": null,
   "metadata": {},
   "outputs": [],
   "source": [
    "grouped_rank(acg_t,groups=[[0], [8, 2, 3, 9, 10, 16]])"
   ]
  },
  {
   "cell_type": "markdown",
   "metadata": {},
   "source": [
    "Some packages from [goatools](https://github.com/tanghaibao/goatools) Gene Ontology package for Python. Most of the code here modeled after the [notebooks](https://github.com/tanghaibao/goatools#ipython-notebooks) found on the Github."
   ]
  },
  {
   "cell_type": "code",
   "execution_count": null,
   "metadata": {},
   "outputs": [],
   "source": [
    "from goatools.base import download_go_basic_obo\n",
    "from goatools.base import download_ncbi_associations\n",
    "from goatools.obo_parser import GODag\n",
    "from goatools.anno.genetogo_reader import Gene2GoReader\n",
    "from goatools.test_data.genes_NCBI_9606_ProteinCoding import GENEID2NT as GeneID2nt_hum\n",
    "from goatools.goea.go_enrichment_ns import GOEnrichmentStudyNS"
   ]
  },
  {
   "cell_type": "code",
   "execution_count": null,
   "metadata": {},
   "outputs": [],
   "source": [
    "from IPython.display import display # need this to print out the results without truncation."
   ]
  },
  {
   "cell_type": "markdown",
   "metadata": {},
   "source": [
    "### Gene Ontology Analysis"
   ]
  },
  {
   "cell_type": "code",
   "execution_count": null,
   "metadata": {},
   "outputs": [],
   "source": [
    "obo_fname = download_go_basic_obo(prefix + \"go-basic.obo\")\n",
    "fin_gene2go = download_ncbi_associations(prefix + 'gene2go')\n",
    "obodag = GODag(prefix + \"go-basic.obo\")\n",
    "# Read NCBI's gene2go. Store annotations in a list of named tuples\n",
    "objanno = Gene2GoReader(fin_gene2go, taxids=[9606])\n",
    "# Get namespace2association where:\n",
    "#    namespace is:\n",
    "#        BP: biological_process               \n",
    "#        MF: molecular_function\n",
    "#        CC: cellular_component\n",
    "#    assocation is a dict:\n",
    "#        key: NCBI GeneID\n",
    "#        value: A set of GO IDs associated with that gene\n",
    "ns2assoc = objanno.get_ns2assc()\n",
    "for nspc, id2gos in ns2assoc.items():\n",
    "    print(\"{NS} {N:,} annotated human genes\".format(NS=nspc, N=len(id2gos)))\n",
    "gene_ids = list(GeneID2nt_hum.keys())\n",
    "symbol2geneid = dict(zip([GeneID2nt_hum[i].Symbol for i in gene_ids], [i for i in gene_ids]))"
   ]
  },
  {
   "cell_type": "markdown",
   "metadata": {},
   "source": [
    "Next cell produces a lot of output, recommend collapsing it in notebook."
   ]
  },
  {
   "cell_type": "code",
   "execution_count": null,
   "metadata": {},
   "outputs": [],
   "source": [
    "top_genes = [i[0] for i in acg_t.uns['rank_genes_groups']['names']][:25]"
   ]
  },
  {
   "cell_type": "code",
   "execution_count": null,
   "metadata": {},
   "outputs": [],
   "source": [
    "results = list()\n",
    "ids = list()\n",
    "for i in top_genes:\n",
    "    try:\n",
    "        ids.append(symbol2geneid[i])\n",
    "    except:\n",
    "        continue\n",
    "print(len(ids)/len(top_genes))\n",
    "\n",
    "goeaobj = GOEnrichmentStudyNS(\n",
    "        GeneID2nt_hum.keys(), # List of human protein-coding genes\n",
    "        ns2assoc, # geneid/GO associations\n",
    "        obodag, # Ontologies\n",
    "        propagate_counts = False,\n",
    "        alpha = 0.05, # default significance cut-off\n",
    "        methods = ['fdr_bh']) # defult multipletest correction method\n",
    "\n",
    "goea_results_all = goeaobj.run_study(ids)\n",
    "for i in goea_results_all:\n",
    "    results.append([i.name, i.NS, -np.log10(i.p_fdr_bh)])"
   ]
  },
  {
   "cell_type": "code",
   "execution_count": null,
   "metadata": {},
   "outputs": [],
   "source": [
    "results_df = pd.DataFrame(results, columns=['GO_term','GO_type','-log10padj'])"
   ]
  },
  {
   "cell_type": "code",
   "execution_count": null,
   "metadata": {},
   "outputs": [],
   "source": [
    "df = results_df[(results_df['-log10padj'] > -np.log10(0.05))\n",
    "               ][['GO_type', 'GO_term', '-log10padj']].sort_values(['GO_type', '-log10padj'], ascending=False)\n",
    "with pd.option_context('display.max_rows', 120, 'display.max_columns', 10, 'display.max_colwidth', -1):\n",
    "    display(df)"
   ]
  },
  {
   "cell_type": "code",
   "execution_count": null,
   "metadata": {},
   "outputs": [],
   "source": [
    "sc.pl.umap(acg_t, color=['SELL'], size=2, ncols=5)"
   ]
  },
  {
   "cell_type": "code",
   "execution_count": null,
   "metadata": {},
   "outputs": [],
   "source": [
    "def grouped_rank(adata, groups):\n",
    "\n",
    "    assert len(groups) == 2\n",
    "    for i in range(2):\n",
    "        groups[i] = np.array(groups[i]).astype(str)\n",
    "        \n",
    "    grouped_clusts = [i for j in groups for i in j]\n",
    "    numclusts = np.unique(adata.obs['leiden'].values)\n",
    "    groups.append(np.setdiff1d(numclusts, grouped_clusts).astype('<U21'))\n",
    "    fig, axes = plt.subplots(1, 2, figsize=(8, 4))\n",
    "    for clusts, title, ax in zip(groups, ['0','1'], axes):\n",
    "        adata.obs['val'] = adata.obs['leiden'].isin(clusts).values\n",
    "        ax.set_facecolor('gray')\n",
    "        sc.pl.umap(adata,color='val', ax=ax, size=1, show=False, return_fig=False, title=title)\n",
    "    adata.obs.drop(columns='val', inplace=True)\n",
    "\n",
    "    adata.obs['rank_compare'] = adata.obs['leiden'].copy()\n",
    "    groups_dict = dict(zip(range(3), groups))\n",
    "    for group in groups_dict:\n",
    "        for clust in groups_dict[group]:\n",
    "            adata.obs['rank_compare'].replace(clust, 'ct%s' % group, regex=True, inplace=True)\n",
    "    adata.obs['rank_compare'] = adata.obs['rank_compare'].str.replace('ct','').astype('category')\n",
    "    sc.settings.verbosity = 0\n",
    "    warnings.filterwarnings('ignore')\n",
    "    sc.tl.rank_genes_groups(adata, groupby='rank_compare', n_genes=1000, groups=['0'], reference='1', test='wilcoxon')\n",
    "    warnings.filterwarnings('default')\n",
    "    sc.pl.rank_genes_groups(adata, ncols=5, n_genes=20)\n",
    "    sc.settings.verbosity = 4\n",
    "    adata.obs.drop(columns='rank_compare', inplace=True)\n",
    "    return"
   ]
  },
  {
   "cell_type": "code",
   "execution_count": null,
   "metadata": {},
   "outputs": [],
   "source": [
    "def add_raw(adata, transformed=True):\n",
    "    path = prefix + 'pkls/aggr/wells.sng.w_covars.pkl'\n",
    "    \n",
    "    with open(path,'rb') as file:\n",
    "        wells = pkl.load(file)\n",
    "    \n",
    "    for well in wells:\n",
    "        wells[well]['adata'].obs_names = [i[:16] + '-%s' % well for i in wells[well]['adata'].obs_names]\n",
    "    \n",
    "    raw = wells[0]['adata'].concatenate(*[wells[i]['adata'] for  i in range(1, 12)])[adata.obs_names,:]\n",
    "    \n",
    "    if transformed == True:\n",
    "        sc.pp.normalize_per_cell(raw,counts_per_cell_after=1e6)\n",
    "        sc.pp.log1p(raw)\n",
    "    \n",
    "    adata.raw = raw\n",
    "    return"
   ]
  },
  {
   "cell_type": "code",
   "execution_count": null,
   "metadata": {},
   "outputs": [],
   "source": [
    "add_raw(acg_t)"
   ]
  },
  {
   "cell_type": "code",
   "execution_count": null,
   "metadata": {},
   "outputs": [],
   "source": [
    "def get_dge(adata):\n",
    "    deg_data = pd.DataFrame() \n",
    "    for i in ['scores', 'names', 'logfoldchanges', 'pvals', 'pvals_adj']:\n",
    "        deg_data[i] = np.array(adata.uns['rank_genes_groups'][i].tolist()).flatten()\n",
    "    return deg_data"
   ]
  },
  {
   "cell_type": "code",
   "execution_count": null,
   "metadata": {},
   "outputs": [],
   "source": [
    "sc.settings.verbosity = 0\n",
    "warnings.filterwarnings('ignore')\n",
    "sc.tl.rank_genes_groups(acg_t, groupby='leiden', n_genes=1000, groups=['15'], reference='0')\n",
    "warnings.filterwarnings('default')\n",
    "sc.pl.rank_genes_groups(acg_t, ncols=5, n_genes=20)\n",
    "sc.settings.verbosity = 4"
   ]
  },
  {
   "cell_type": "code",
   "execution_count": null,
   "metadata": {},
   "outputs": [],
   "source": [
    "deg_data = get_dge(acg_t)"
   ]
  },
  {
   "cell_type": "code",
   "execution_count": null,
   "metadata": {},
   "outputs": [],
   "source": [
    "deg_data = deg_data[deg_data['pvals_adj'] != 0]"
   ]
  },
  {
   "cell_type": "code",
   "execution_count": null,
   "metadata": {},
   "outputs": [],
   "source": [
    "-np.log10(0.05)"
   ]
  },
  {
   "cell_type": "code",
   "execution_count": null,
   "metadata": {},
   "outputs": [],
   "source": [
    "plt.scatter(deg_data['logfoldchanges'].values, -np.log10(deg_data['pvals_adj'].values), s=1);\n",
    "plt.scatter(deg_data[deg_data['names'].str.contains('RP')]['logfoldchanges'].values, \n",
    "            -np.log10(deg_data[deg_data['names'].str.contains('RP')]['pvals_adj'].values), s=1, color='r');\n",
    "# plt.yscale('log')\n",
    "# plt.xscale('log')"
   ]
  },
  {
   "cell_type": "code",
   "execution_count": null,
   "metadata": {},
   "outputs": [],
   "source": [
    "sc.pl.umap(acg_t, color='XIST', s=3, use_raw=False)"
   ]
  },
  {
   "cell_type": "code",
   "execution_count": null,
   "metadata": {},
   "outputs": [],
   "source": [
    "path = prefix + 'pkls/aggr/acg_t.pkl'\n",
    "\n",
    "# with open(path,'wb') as file:\n",
    "#     pkl.dump(acg_t, file, protocol=4)\n",
    "\n",
    "with open(path,'rb') as file:\n",
    "    acg_t = pkl.load(file)"
   ]
  },
  {
   "cell_type": "code",
   "execution_count": null,
   "metadata": {},
   "outputs": [],
   "source": [
    "grouped_rank(acg_t,groups=[[1, 9], [2, 3]])"
   ]
  },
  {
   "cell_type": "code",
   "execution_count": null,
   "metadata": {},
   "outputs": [],
   "source": [
    "def get_dge(adata):\n",
    "    deg_data = pd.DataFrame() \n",
    "    for i in ['scores', 'names', 'logfoldchanges', 'pvals', 'pvals_adj']:\n",
    "        deg_data[i] = np.array(adata.uns['rank_genes_groups'][i].tolist()).flatten()\n",
    "    return deg_data"
   ]
  },
  {
   "cell_type": "code",
   "execution_count": null,
   "metadata": {},
   "outputs": [],
   "source": [
    "deg_data = get_dge(acg_t)"
   ]
  },
  {
   "cell_type": "code",
   "execution_count": null,
   "metadata": {},
   "outputs": [],
   "source": [
    "plt.scatter(deg_data['logfoldchanges'].values, -np.log10(deg_data['pvals_adj'].values), s=1)\n",
    "plt.scatter(deg_data[deg_data['names'].str.contains('MT')]['logfoldchanges'].values, \n",
    "            -np.log10(deg_data[deg_data['names'].str.contains('MT')]['pvals_adj'].values), s=1, color='r');"
   ]
  },
  {
   "cell_type": "code",
   "execution_count": null,
   "metadata": {},
   "outputs": [],
   "source": [
    "plt.scatter(deg_data['logfoldchanges'].values, -np.log10(deg_data['pvals_adj'].values), s=1)"
   ]
  },
  {
   "cell_type": "code",
   "execution_count": null,
   "metadata": {},
   "outputs": [],
   "source": [
    "sc.pl.umap(acg_t, color=deg_data[(deg_data['logfoldchanges'] > 1) & (-np.log10(deg_data['pvals_adj']) > 150)]['names'].values, s=3, use_raw=False)"
   ]
  },
  {
   "cell_type": "code",
   "execution_count": null,
   "metadata": {},
   "outputs": [],
   "source": [
    "sc.settings.verbosity = 0 \n",
    "warnings.filterwarnings('ignore')\n",
    "sc.tl.rank_genes_groups(acg_t, groupby='leiden', n_genes=1000, groups=['3'], reference='2')\n",
    "warnings.filterwarnings('default')\n",
    "sc.pl.rank_genes_groups(acg_t, ncols=5, n_genes=20)\n",
    "sc.settings.verbosity = 4"
   ]
  },
  {
   "cell_type": "code",
   "execution_count": null,
   "metadata": {},
   "outputs": [],
   "source": [
    "deg_data = get_dge(acg_t)"
   ]
  },
  {
   "cell_type": "code",
   "execution_count": null,
   "metadata": {},
   "outputs": [],
   "source": [
    "plt.scatter(deg_data['logfoldchanges'].values, -np.log10(deg_data['pvals_adj'].values), s=1)\n",
    "plt.scatter(deg_data[deg_data['names'].str.contains('RP')]['logfoldchanges'].values, \n",
    "            -np.log10(deg_data[deg_data['names'].str.contains('RP')]['pvals_adj'].values), s=1, color='r');"
   ]
  },
  {
   "cell_type": "code",
   "execution_count": null,
   "metadata": {},
   "outputs": [],
   "source": [
    "sc.pl.umap(acg_t, color=deg_data[(deg_data['logfoldchanges'] > 1) & (-np.log10(deg_data['pvals_adj']) > 25)]['names'].values, s=3, use_raw=False)"
   ]
  },
  {
   "cell_type": "code",
   "execution_count": null,
   "metadata": {},
   "outputs": [],
   "source": [
    "for group in groups_dict:\n",
    "    for clust in groups_dict[group]:\n",
    "        adata.obs['rank_compare'].replace(clust, 'ct%s' % group, regex=True, inplace=True)"
   ]
  },
  {
   "cell_type": "code",
   "execution_count": null,
   "metadata": {},
   "outputs": [],
   "source": [
    "adata.obs['rank_compare']"
   ]
  },
  {
   "cell_type": "code",
   "execution_count": null,
   "metadata": {},
   "outputs": [],
   "source": [
    "adata.obs['rank_compare'] = adata.obs['leiden'].copy()\n",
    "groups_dict = dict(zip(range(3), groups))\n",
    "for group in group_dicts:\n",
    "    for clust in group_dicts[group]:\n",
    "        adata.obs['rank_compare'].replace(clust, str(group), inplace=True)"
   ]
  },
  {
   "cell_type": "code",
   "execution_count": null,
   "metadata": {},
   "outputs": [],
   "source": [
    "groups_dict"
   ]
  },
  {
   "cell_type": "code",
   "execution_count": null,
   "metadata": {},
   "outputs": [],
   "source": [
    "adata.obs['rank_compare'].replace()"
   ]
  },
  {
   "cell_type": "code",
   "execution_count": null,
   "metadata": {},
   "outputs": [],
   "source": [
    "grouped_rank(acg_t,groups=[[14], [0, 1, 2, 3, 7, 9, 10, 11, 13]])"
   ]
  },
  {
   "cell_type": "code",
   "execution_count": null,
   "metadata": {},
   "outputs": [],
   "source": []
  },
  {
   "cell_type": "code",
   "execution_count": null,
   "metadata": {},
   "outputs": [],
   "source": [
    "sc.pl.umap(acg_t, color=['S100A4','CYBA','KLRB1','ARID5B', 'FXYD5'], size=3, ncols=5)"
   ]
  },
  {
   "cell_type": "code",
   "execution_count": null,
   "metadata": {},
   "outputs": [],
   "source": [
    "sc.settings.verbosity = 0 \n",
    "warnings.filterwarnings('ignore')\n",
    "sc.tl.rank_genes_groups(acg_t, groupby='leiden', n_genes=20, groups=['3'], reference='2')\n",
    "warnings.filterwarnings('default')\n",
    "sc.pl.rank_genes_groups(acg_t, ncols=5, n_genes=20)\n",
    "sc.settings.verbosity = 4"
   ]
  },
  {
   "cell_type": "code",
   "execution_count": null,
   "metadata": {},
   "outputs": [],
   "source": [
    "sc.settings.verbosity = 0 \n",
    "warnings.filterwarnings('ignore')\n",
    "sc.tl.rank_genes_groups(acg_t, groupby='leiden', n_genes=20, groups=['2'], reference='3')\n",
    "warnings.filterwarnings('default')\n",
    "sc.pl.rank_genes_groups(acg_t, ncols=5, n_genes=20)\n",
    "sc.settings.verbosity = 4"
   ]
  },
  {
   "cell_type": "code",
   "execution_count": null,
   "metadata": {},
   "outputs": [],
   "source": [
    "val = '20'\n",
    "tnk.obs['val'] = tnk.obs['leiden'] == val\n",
    "fig, ax = plt.subplots(1,1)\n",
    "ax.set_facecolor('gray')\n",
    "sc.pl.umap(tnk,color='val', ax=ax)\n",
    "tnk.obs.drop(columns='val', inplace=True)"
   ]
  },
  {
   "cell_type": "code",
   "execution_count": null,
   "metadata": {},
   "outputs": [],
   "source": [
    "sc.pl.umap(tnk,color='FOXP3')"
   ]
  },
  {
   "cell_type": "code",
   "execution_count": null,
   "metadata": {},
   "outputs": [],
   "source": [
    "batches = tnk.obs['batch'].unique() # get a list of the batches\n",
    "\n",
    "# make a new column in the `.obs` for each batch that is of dtype `int` and that just takes on values of 0 and 1 so that it gets plotted as a continuous variable instead of a categorical one\n",
    "for batch in batches:\n",
    "    tnk.obs['batch_%s' % batch] = (tnk.obs['batch'] == batch).astype(int)\n",
    "\n",
    "# plot now with sort_order=True, which should apply to this new continuous variable\n",
    "sc.pl.umap(tnk, color=['batch_%s' % i for i in batches],sort_order=True, ncols=4)"
   ]
  },
  {
   "cell_type": "code",
   "execution_count": null,
   "metadata": {},
   "outputs": [],
   "source": [
    "sc.tl.leiden(sub_tnk['2'], resolution=0.2) # subcluster them using Leiden\n",
    "sc.pl.umap(sub_tnk['2'],color='leiden', size=0.6)"
   ]
  },
  {
   "cell_type": "code",
   "execution_count": null,
   "metadata": {},
   "outputs": [],
   "source": [
    "sc.tl.leiden(sub_tnk['3'], resolution=0.3) # subcluster them using Leiden\n",
    "sc.pl.umap(sub_tnk['3'],color='leiden', size=0.6)"
   ]
  },
  {
   "cell_type": "code",
   "execution_count": null,
   "metadata": {},
   "outputs": [],
   "source": [
    "fig, ax = plt.subplots(1,1)\n",
    "ax.set_facecolor('gray')\n",
    "sc.pl.umap(sub_tnk['3'], color='FOXP3', size=2, ax=ax)"
   ]
  },
  {
   "cell_type": "code",
   "execution_count": null,
   "metadata": {},
   "outputs": [],
   "source": [
    "sc.settings.verbosity = 0 \n",
    "warnings.filterwarnings('ignore')\n",
    "sc.tl.rank_genes_groups(sub_tnk['3'], groupby='leiden', n_genes=50, groups=['2'], reference='0')\n",
    "warnings.filterwarnings('default')\n",
    "sc.pl.rank_genes_groups(sub_tnk['3'], ncols=5, n_genes=20)\n",
    "sc.settings.verbosity = 4"
   ]
  },
  {
   "cell_type": "code",
   "execution_count": null,
   "metadata": {},
   "outputs": [],
   "source": [
    "ctdict = dict()\n",
    "ctdict['ct0'] = [0, 1, 2, 3, 4, 6]\n",
    "ctdict['ct1'] = [5]\n",
    "sub_tnk['4'].obs['sub_ct'] = sub_tnk['4'].obs['leiden']\n",
    "for ct in ctdict:\n",
    "    for clust in ctdict[ct]:\n",
    "        sub_tnk['4'].obs['sub_ct'].replace(r'^%s$' % str(clust), ct, regex=True, inplace=True)\n",
    "sub_tnk['4'].obs['leiden'] = [i.strip('ct') for i in sub_tnk['4'].obs['sub_ct'].astype('category')]"
   ]
  },
  {
   "cell_type": "code",
   "execution_count": null,
   "metadata": {},
   "outputs": [],
   "source": [
    "tnk['adata'] = sub_cluster_mapper(tnk['adata'], sub_tnk)"
   ]
  },
  {
   "cell_type": "code",
   "execution_count": null,
   "metadata": {},
   "outputs": [],
   "source": [
    "fig, ax = plt.subplots(1, 2, figsize=(20,10))\n",
    "for color, ax in zip(['cond', 'leiden'], ax):\n",
    "    sc.pl.umap(tnk['adata'],color=color, ax=ax, show=False, return_fig=False, size=2)"
   ]
  },
  {
   "cell_type": "code",
   "execution_count": null,
   "metadata": {},
   "outputs": [],
   "source": [
    "acg_lo_mito = [1, 3, 4, 5, 15, 16, 17]\n",
    "br_lo_mito = [0, 8, 6, 13, 18, 20, 24]\n",
    "p_all = [2, 14, 19]\n",
    "hi_mito = [7, 9, 10, 11, 21]\n",
    "other = [12, 22, 23]"
   ]
  },
  {
   "cell_type": "code",
   "execution_count": null,
   "metadata": {},
   "outputs": [],
   "source": [
    "ctdict = dict()\n",
    "ctdict['acg_lo'] = acg_lo_mito\n",
    "ctdict['br_lo'] = br_lo_mito\n",
    "ctdict['p_all'] = p_all\n",
    "ctdict['hi_m'] = hi_mito\n",
    "ctdict['other'] = other\n",
    "tnk['adata'].obs['ct2'] = tnk['adata'].obs['leiden']\n",
    "for ct in ctdict:\n",
    "    for clust in ctdict[ct]:\n",
    "        tnk['adata'].obs['ct2'].replace(r'^%s$' % str(clust), ct, regex=True, inplace=True)\n",
    "tnk['adata'].obs['ct2'] = tnk['adata'].obs['ct2'].astype('category')"
   ]
  },
  {
   "cell_type": "code",
   "execution_count": null,
   "metadata": {},
   "outputs": [],
   "source": [
    "fig, ax = plt.subplots(1, 1, figsize=(8,8))\n",
    "sc.pl.umap(tnk['adata'],color='ct2', ax=ax, show=False, return_fig=False, size=2);"
   ]
  },
  {
   "cell_type": "markdown",
   "metadata": {},
   "source": [
    "### Extract Out Cell Barcodes\n",
    "\n",
    "I want to take a look at the control and high mito populations in a separate notebook and see if I can adjust the data so that they cluster together."
   ]
  },
  {
   "cell_type": "code",
   "execution_count": null,
   "metadata": {},
   "outputs": [],
   "source": [
    "path = prefix + 'acg.tnk.and.high.mito.bcs.txt'\n",
    "\n",
    "with open(path,'w') as file:\n",
    "    for bc in tnk['adata'][(tnk['adata'].obs['ct2'] == 'acg_lo') | \n",
    "                           (tnk['adata'].obs['ct2'] == 'hi_m')].obs_names:\n",
    "        file.write(bc + '\\n')"
   ]
  },
  {
   "cell_type": "markdown",
   "metadata": {},
   "source": [
    "### A/C/G, Low Mito\n",
    "\n",
    "Lets start from the top left. Clusters marked by cells stimulated with TNF-alpha and IFN-gamma, which have very nice overlap with our Control cells, indicating probably no major effect on these populations."
   ]
  },
  {
   "cell_type": "code",
   "execution_count": null,
   "metadata": {},
   "outputs": [],
   "source": [
    "acg = tnk['adata'][tnk['adata'].obs['ct2'] == 'acg_lo'].copy()\n",
    "\n",
    "# choosing to use true raw counts here - if I don't end up getting a bunch of house keeping genes coming as differentially expressed, not ideal\n",
    "acg.raw = tnk['raw'][tnk['adata'].obs['ct2'] == 'acg_lo'].copy()\n",
    "# acg.raw = sc.pp.log1p(sc.pp.normalize_per_cell(tnk['raw'][tnk['adata'].obs['ct2'] == 'acg_lo'], copy=True), copy=True)"
   ]
  },
  {
   "cell_type": "code",
   "execution_count": null,
   "metadata": {},
   "outputs": [],
   "source": [
    "def acg_umap(acg, color, ax='None', **kwargs):\n",
    "    if ax == 'None':\n",
    "        fig, ax = plt.subplots(1, 1, figsize=(8,8))\n",
    "    sc.pl.umap(acg,color=color, ax=ax, show=False, return_fig=False, size=4, use_raw=False, **kwargs);\n",
    "    xlim = ax.get_xlim()\n",
    "    ylim = ax.get_ylim()\n",
    "    ax.set_xlim((xlim[0], 0))\n",
    "    ax.set_ylim((-5, ylim[1]));\n",
    "    return"
   ]
  },
  {
   "cell_type": "code",
   "execution_count": null,
   "metadata": {},
   "outputs": [],
   "source": [
    "acg_umap(acg,'exp_id')"
   ]
  },
  {
   "cell_type": "code",
   "execution_count": null,
   "metadata": {},
   "outputs": [],
   "source": [
    "sc.tl.leiden(acg,resolution=0.5)"
   ]
  },
  {
   "cell_type": "code",
   "execution_count": null,
   "metadata": {},
   "outputs": [],
   "source": [
    "acg_umap(acg,color='leiden')"
   ]
  },
  {
   "cell_type": "code",
   "execution_count": null,
   "metadata": {},
   "outputs": [],
   "source": [
    "ctdict = dict()\n",
    "ctdict['ct0'] = [0]\n",
    "ctdict['ct1'] = [1]\n",
    "ctdict['ct2'] = [2, 5, 8]\n",
    "ctdict['ct3'] = [3]\n",
    "ctdict['ct4'] = [4]\n",
    "ctdict['ct5'] = [6]\n",
    "ctdict['ct6'] = [7]\n",
    "acg.obs['sub_ct'] = acg.obs['leiden']\n",
    "for ct in ctdict:\n",
    "    for clust in ctdict[ct]:\n",
    "        acg.obs['sub_ct'].replace(r'^%s$' % str(clust), ct, regex=True, inplace=True)\n",
    "acg.obs['leiden'] = [i.strip('ct') for i in acg.obs['sub_ct'].astype('category')]"
   ]
  },
  {
   "cell_type": "code",
   "execution_count": null,
   "metadata": {},
   "outputs": [],
   "source": [
    "acg_umap(acg,color='leiden')"
   ]
  },
  {
   "cell_type": "code",
   "execution_count": null,
   "metadata": {},
   "outputs": [],
   "source": [
    "sub_acgs = dict() # put the new subsetted acg objects in a dictionary of acgs"
   ]
  },
  {
   "cell_type": "code",
   "execution_count": null,
   "metadata": {},
   "outputs": [],
   "source": [
    "sub_acgs['1'] = acg[acg.obs['leiden'] == '1'].copy()\n",
    "sub_acgs['2'] = acg[acg.obs['leiden'] == '2'].copy()\n",
    "sub_acgs['3'] = acg[acg.obs['leiden'] == '3'].copy()\n",
    "sub_acgs['4'] = acg[acg.obs['leiden'] == '4'].copy()\n",
    "sub_acgs['5'] = acg[acg.obs['leiden'] == '5'].copy()\n",
    "sub_acgs['6'] = acg[acg.obs['leiden'] == '6'].copy()"
   ]
  },
  {
   "cell_type": "code",
   "execution_count": null,
   "metadata": {},
   "outputs": [],
   "source": [
    "sc.tl.leiden(sub_acgs['1'], resolution=0.6) # subcluster them using Leiden\n",
    "acg_umap(sub_acgs['1'],color='leiden')"
   ]
  },
  {
   "cell_type": "code",
   "execution_count": null,
   "metadata": {},
   "outputs": [],
   "source": [
    "ctdict = dict()\n",
    "ctdict['ct0'] = [0, 3, 4, 5, 6, 7]\n",
    "ctdict['ct1'] = [1, 2]\n",
    "sub_acgs['1'].obs['sub_ct'] = sub_acgs['1'].obs['leiden']\n",
    "for ct in ctdict:\n",
    "    for clust in ctdict[ct]:\n",
    "        sub_acgs['1'].obs['sub_ct'].replace(r'^%s$' % str(clust), ct, regex=True, inplace=True)\n",
    "sub_acgs['1'].obs['leiden'] = [i.strip('ct') for i in sub_acgs['1'].obs['sub_ct'].astype('category')]"
   ]
  },
  {
   "cell_type": "code",
   "execution_count": null,
   "metadata": {},
   "outputs": [],
   "source": [
    "acg_umap(sub_acgs['1'],color='leiden')"
   ]
  },
  {
   "cell_type": "code",
   "execution_count": null,
   "metadata": {},
   "outputs": [],
   "source": [
    "sc.tl.leiden(sub_acgs['2'], resolution=0.4) # subcluster them using Leiden\n",
    "acg_umap(sub_acgs['2'],color='leiden')"
   ]
  },
  {
   "cell_type": "code",
   "execution_count": null,
   "metadata": {},
   "outputs": [],
   "source": [
    "ctdict = dict()\n",
    "ctdict['ct0'] = [3]\n",
    "ctdict['ct1'] = [0, 1, 2, 4]\n",
    "sub_acgs['2'].obs['sub_ct'] = sub_acgs['2'].obs['leiden']\n",
    "for ct in ctdict:\n",
    "    for clust in ctdict[ct]:\n",
    "        sub_acgs['2'].obs['sub_ct'].replace(r'^%s$' % str(clust), ct, regex=True, inplace=True)\n",
    "sub_acgs['2'].obs['leiden'] = [i.strip('ct') for i in sub_acgs['2'].obs['sub_ct'].astype('category')]"
   ]
  },
  {
   "cell_type": "code",
   "execution_count": null,
   "metadata": {},
   "outputs": [],
   "source": [
    "acg_umap(sub_acgs['2'],color='leiden')"
   ]
  },
  {
   "cell_type": "code",
   "execution_count": null,
   "metadata": {},
   "outputs": [],
   "source": [
    "sc.tl.leiden(sub_acgs['3'], resolution=0.8) # subcluster them using Leiden\n",
    "acg_umap(sub_acgs['3'],color='leiden')"
   ]
  },
  {
   "cell_type": "code",
   "execution_count": null,
   "metadata": {},
   "outputs": [],
   "source": [
    "ctdict = dict()\n",
    "ctdict['ct0'] = [0, 1]\n",
    "ctdict['ct1'] = [2, 4]\n",
    "ctdict['ct2'] = [3, 5]\n",
    "sub_acgs['3'].obs['sub_ct'] = sub_acgs['3'].obs['leiden']\n",
    "for ct in ctdict:\n",
    "    for clust in ctdict[ct]:\n",
    "        sub_acgs['3'].obs['sub_ct'].replace(r'^%s$' % str(clust), ct, regex=True, inplace=True)\n",
    "sub_acgs['3'].obs['leiden'] = [i.strip('ct') for i in sub_acgs['3'].obs['sub_ct'].astype('category')]"
   ]
  },
  {
   "cell_type": "code",
   "execution_count": null,
   "metadata": {},
   "outputs": [],
   "source": [
    "acg_umap(sub_acgs['3'],color='leiden')"
   ]
  },
  {
   "cell_type": "code",
   "execution_count": null,
   "metadata": {},
   "outputs": [],
   "source": [
    "sc.tl.leiden(sub_acgs['4'], resolution=0.2) # subcluster them using Leiden\n",
    "acg_umap(sub_acgs['4'],color='leiden')"
   ]
  },
  {
   "cell_type": "code",
   "execution_count": null,
   "metadata": {},
   "outputs": [],
   "source": [
    "sc.tl.leiden(sub_acgs['5'], resolution=0.2) # subcluster them using Leiden\n",
    "acg_umap(sub_acgs['5'],color='leiden')"
   ]
  },
  {
   "cell_type": "code",
   "execution_count": null,
   "metadata": {},
   "outputs": [],
   "source": [
    "ctdict = dict()\n",
    "ctdict['ct0'] = [0]\n",
    "ctdict['ct1'] = [1, 2]\n",
    "sub_acgs['5'].obs['sub_ct'] = sub_acgs['5'].obs['leiden']\n",
    "for ct in ctdict:\n",
    "    for clust in ctdict[ct]:\n",
    "        sub_acgs['5'].obs['sub_ct'].replace(r'^%s$' % str(clust), ct, regex=True, inplace=True)\n",
    "sub_acgs['5'].obs['leiden'] = [i.strip('ct') for i in sub_acgs['5'].obs['sub_ct'].astype('category')]"
   ]
  },
  {
   "cell_type": "code",
   "execution_count": null,
   "metadata": {},
   "outputs": [],
   "source": [
    "acg_umap(sub_acgs['5'],color='leiden')"
   ]
  },
  {
   "cell_type": "code",
   "execution_count": null,
   "metadata": {},
   "outputs": [],
   "source": [
    "sc.tl.leiden(sub_acgs['6'], resolution=0.2) # subcluster them using Leiden\n",
    "acg_umap(sub_acgs['6'],color='leiden')"
   ]
  },
  {
   "cell_type": "code",
   "execution_count": null,
   "metadata": {},
   "outputs": [],
   "source": [
    "def sub_cluster_mapper(adata, sub_adatas):\n",
    "    '''\n",
    "    This takes in the adata object and inserts a new leiden column in the `.obs`. \n",
    "    \n",
    "    This function is really convoluted and there's probably a better, simpler way to do it,\n",
    "    but it should theoretically work for any number of subclusters\n",
    "    '''\n",
    "    # ideally you'd make a copy of the adata object here, so we don't have to change the original\n",
    "    # this would be in case we want to run it multiple times, perhaps the resolutions we put in didn't subset the clusters like we had hoped\n",
    "    # and we need to run multiple times to adjust the resolution slightly\n",
    "    \n",
    "    # this block is to figure out that there are two new subclusters and they should be named 8, 9\n",
    "    total_new_clusts = 0\n",
    "    old_clusts = sub_adatas.keys()\n",
    "    for sub_adata in sub_adatas:\n",
    "        total_new_clusts += sub_adatas[sub_adata].obs['leiden'].astype(int).unique().max() + 1\n",
    "    total_added_clusts = total_new_clusts - len(sub_adatas)\n",
    "    new_clust_names_start = max(adata.obs['leiden'].astype(int))+1\n",
    "    new_added_clust_names = [str(i) for i in range(new_clust_names_start,\n",
    "                                                   new_clust_names_start + total_added_clusts)]\n",
    "    \n",
    "    # this block is to build a new list of leiden clusters from the old one \n",
    "    new_leiden = list()\n",
    "    leiden_col = adata.obs['leiden'].copy()\n",
    "\n",
    "    # this builds the new leiden cluster list, now adding a .1, .2, etc. to each new cluster\n",
    "    for obs in leiden_col.index:\n",
    "        clust_name = leiden_col.loc[obs]\n",
    "        if clust_name not in old_clusts or sub_adatas[clust_name].obs.loc[obs, 'leiden'] == '0':\n",
    "            new_leiden.append(clust_name)\n",
    "        else:\n",
    "            new_leiden.append(clust_name + '.%s' % sub_adatas[clust_name].obs.loc[obs,'leiden'])\n",
    "\n",
    "    # this renames the .1, .2, etc clusters to the new, better names I came up with above (8 and 9)\n",
    "    new_leiden = pd.Series(new_leiden, index=adata.obs_names)\n",
    "    added_clusts = np.setdiff1d(new_leiden,adata.obs['leiden'])\n",
    "    new_leiden.replace(dict(zip(added_clusts, new_added_clust_names)), inplace=True)\n",
    "    \n",
    "    # replace the old leiden column, must do these steps sequentially \n",
    "    adata.obs['leiden'] = new_leiden.astype(int) # to order the clusters by number\n",
    "    adata.obs['leiden'] = new_leiden.astype(str) # to convert to string as normal\n",
    "#     adata.obs['leiden'] = new_leiden.astype('category') # don't do this, it messes things up, just let scanpy do it as it plots\n",
    "    return adata"
   ]
  },
  {
   "cell_type": "code",
   "execution_count": null,
   "metadata": {},
   "outputs": [],
   "source": [
    "acg = sub_cluster_mapper(acg, sub_acgs)"
   ]
  },
  {
   "cell_type": "code",
   "execution_count": null,
   "metadata": {},
   "outputs": [],
   "source": [
    "acg.obs.drop(columns=['sub_ct'], inplace=True)"
   ]
  },
  {
   "cell_type": "code",
   "execution_count": null,
   "metadata": {},
   "outputs": [],
   "source": [
    "acg_umap(acg,color='leiden', legend_loc='on data', palette=sc.pl.palettes.vega_20_scanpy)"
   ]
  },
  {
   "cell_type": "code",
   "execution_count": null,
   "metadata": {},
   "outputs": [],
   "source": [
    "all_features = acg.var_names.tolist() + [i for i in acg.obs.columns if '|' in i]"
   ]
  },
  {
   "cell_type": "code",
   "execution_count": null,
   "metadata": {},
   "outputs": [],
   "source": [
    "def check_names(list_of_strings):\n",
    "    if type(list_of_strings) != list:\n",
    "        raise\n",
    "    for f in all_features:\n",
    "        for j in list_of_strings:\n",
    "            if j in f:\n",
    "                print(f)\n",
    "    return"
   ]
  },
  {
   "cell_type": "code",
   "execution_count": null,
   "metadata": {},
   "outputs": [],
   "source": [
    "features = ['CD16|FCGR3A', 'CD56|NCAM1', 'FCGR3A', 'CD94|KLRD1', 'KLRB1', 'NKG7', 'GNLY', 'GZMB']\n",
    "fig, ax = plt.subplots(2, 4, figsize=(30,14))\n",
    "for f, ax in tqdm(zip(features, np.ravel(ax))):\n",
    "    acg_umap(acg,color=f, ax=ax)"
   ]
  },
  {
   "cell_type": "code",
   "execution_count": null,
   "metadata": {},
   "outputs": [],
   "source": [
    "features = ['CD3|CD3E', 'CD3E', 'CD3D', 'CD8|CD8A', 'CD8A', 'CD8B', 'CD4', 'CD4|CD4']\n",
    "fig, ax = plt.subplots(2, 4, figsize=(30,14))\n",
    "for f, ax in tqdm(zip(features, np.ravel(ax))):\n",
    "    acg_umap(acg,color=f, ax=ax)"
   ]
  },
  {
   "cell_type": "code",
   "execution_count": null,
   "metadata": {},
   "outputs": [],
   "source": [
    "acg_sub_cts = ['cd8', 'cd4', 'cd3dn', 'nk']"
   ]
  },
  {
   "cell_type": "code",
   "execution_count": null,
   "metadata": {},
   "outputs": [],
   "source": [
    "ctdict = dict()\n",
    "ctdict['cd8'] = [3, 5, 6, 9, 10, 12]\n",
    "ctdict['cd4'] = [0, 1, 2, 7, 8]\n",
    "ctdict['cd3dn'] = [13]\n",
    "ctdict['nk'] = [4, 11]\n",
    "acg.obs['ct3'] = acg.obs['leiden']\n",
    "for ct in ctdict:\n",
    "    for clust in ctdict[ct]:\n",
    "        acg.obs['ct3'].replace(r'^%s$' % str(clust), ct, regex=True, inplace=True)\n",
    "acg.obs['ct3'] = acg.obs['ct3'].astype('category')"
   ]
  },
  {
   "cell_type": "code",
   "execution_count": null,
   "metadata": {},
   "outputs": [],
   "source": [
    "acg_umap(acg,color='ct3')"
   ]
  },
  {
   "cell_type": "code",
   "execution_count": null,
   "metadata": {},
   "outputs": [],
   "source": [
    "acg_subs = dict()\n",
    "for ct in acg_sub_cts:\n",
    "    acg_subs[ct] = acg[acg.obs['ct3'] == ct].copy()"
   ]
  },
  {
   "cell_type": "markdown",
   "metadata": {},
   "source": [
    "### Phenotyping Subsets\n",
    "\n",
    "Using [this paper](https://www.ncbi.nlm.nih.gov/pmc/articles/PMC4810120/) for reference for T cell subsets."
   ]
  },
  {
   "cell_type": "markdown",
   "metadata": {},
   "source": [
    "#### CD4"
   ]
  },
  {
   "cell_type": "code",
   "execution_count": null,
   "metadata": {},
   "outputs": [],
   "source": [
    "acg_umap(acg_subs['cd4'],color='leiden')"
   ]
  },
  {
   "cell_type": "code",
   "execution_count": null,
   "metadata": {},
   "outputs": [],
   "source": [
    "check_names(['CTLA'])"
   ]
  },
  {
   "cell_type": "code",
   "execution_count": null,
   "metadata": {},
   "outputs": [],
   "source": [
    "features = ['CD45RO|PTPRC', 'CD45RA|PTPRC', 'IL2RA', 'CD25|IL2RA', 'CD127|IL7R', 'IL7R', 'CTLA4', 'CD152|CTLA4']\n",
    "fig, ax = plt.subplots(2, 4, figsize=(30,14))\n",
    "for f, ax in tqdm(zip(features, np.ravel(ax))):\n",
    "    acg_umap(acg_subs['cd4'], color=f, ax=ax)"
   ]
  },
  {
   "cell_type": "code",
   "execution_count": null,
   "metadata": {},
   "outputs": [],
   "source": [
    "focus_clusts = list(map(str,[0, 1, 7, 8]))\n",
    "clusts = acg_subs['cd4'].obs['leiden'].dtype.categories\n",
    "clust_bool = [i in focus_clusts for i in clusts]\n",
    "colors = np.array(acg_subs['cd4'].uns['leiden_colors'])"
   ]
  },
  {
   "cell_type": "code",
   "execution_count": null,
   "metadata": {},
   "outputs": [],
   "source": [
    "features = ['CD45RO|PTPRC', 'CD45RA|PTPRC', 'IL2RA', 'CD25|IL2RA', 'CD127|IL7R', 'IL7R', 'CTLA4', 'CD152|CTLA4', 'SELL', 'CD62L|SELL', 'CCR7', 'CD197|CCR7']\n",
    "log_f = ['IL2RA', 'CTLA4']"
   ]
  },
  {
   "cell_type": "code",
   "execution_count": null,
   "metadata": {},
   "outputs": [],
   "source": [
    "fig, ax = plt.subplots(3, 4, figsize=(20,12))\n",
    "for f, ax in tqdm(zip(features, np.ravel(ax)), total=12):\n",
    "    for clust, color in zip(focus_clusts, colors[clust_bool]):\n",
    "        ax.hist(np.array(acg_subs['cd4'][acg_subs['cd4'].obs['leiden'] == clust].obs_vector(f)), # need the np.array wrapper because for the genes it returns an \"Array View\"\n",
    "                color=color, bins=100, alpha=0.7)\n",
    "        if f in log_f:\n",
    "            ax.set_yscale('log')\n",
    "    ax.set_title(f)"
   ]
  },
  {
   "cell_type": "code",
   "execution_count": null,
   "metadata": {},
   "outputs": [],
   "source": [
    "conds = acg_subs['cd4'].obs['cond'].dtype.categories"
   ]
  },
  {
   "cell_type": "code",
   "execution_count": null,
   "metadata": {},
   "outputs": [],
   "source": [
    "cond_leiden_df = pd.DataFrame(index=conds, columns=clusts, dtype=np.int)"
   ]
  },
  {
   "cell_type": "code",
   "execution_count": null,
   "metadata": {},
   "outputs": [],
   "source": [
    "for cond in tqdm(conds):\n",
    "    for clust in clusts:\n",
    "        cond_leiden_df.loc[cond, clust] = acg_subs['cd4'][(acg_subs['cd4'].obs['cond'] == cond) & (acg_subs['cd4'].obs['leiden'] == clust)].shape[0]"
   ]
  },
  {
   "cell_type": "code",
   "execution_count": null,
   "metadata": {},
   "outputs": [],
   "source": [
    "cond_leiden_df = cond_leiden_df.divide(cond_leiden_df.sum(0),1)"
   ]
  },
  {
   "cell_type": "code",
   "execution_count": null,
   "metadata": {},
   "outputs": [],
   "source": [
    "labels = clusts\n",
    "props = dict()\n",
    "\n",
    "for cond in conds:\n",
    "    props[cond] = cond_leiden_df.loc[cond].values\n",
    "\n",
    "fig, ax = plt.subplots(figsize=(10,5))\n",
    "lastpos = [0]*len(clusts)\n",
    "for cond in props:\n",
    "    ax.bar(labels, props[cond], label=cond, bottom=lastpos)\n",
    "    lastpos = props[cond] + lastpos\n",
    "\n",
    "ax.set_ylabel('Proportion')\n",
    "ax.legend()\n",
    "\n",
    "plt.show()"
   ]
  },
  {
   "cell_type": "code",
   "execution_count": null,
   "metadata": {},
   "outputs": [],
   "source": [
    "ctdict = dict()\n",
    "ctdict['N/R_1'] = [0]\n",
    "ctdict['N/R_2'] = [8]\n",
    "ctdict['Eff_1'] = [1]\n",
    "ctdict['Eff_2'] = [7]\n",
    "ctdict['Other'] = [2]\n",
    "acg_subs['cd4'].obs['ct4'] = acg_subs['cd4'].obs['leiden']\n",
    "for ct in ctdict:\n",
    "    for clust in ctdict[ct]:\n",
    "        acg_subs['cd4'].obs['ct4'].replace(r'^%s$' % str(clust), ct, regex=True, inplace=True)\n",
    "acg_subs['cd4'].obs['ct4'] = acg_subs['cd4'].obs['ct4'].astype('category')"
   ]
  },
  {
   "cell_type": "code",
   "execution_count": null,
   "metadata": {},
   "outputs": [],
   "source": [
    "acg_umap(acg_subs['cd4'], color='ct4')"
   ]
  },
  {
   "cell_type": "markdown",
   "metadata": {},
   "source": [
    "### CD8"
   ]
  },
  {
   "cell_type": "code",
   "execution_count": null,
   "metadata": {},
   "outputs": [],
   "source": [
    "acg_umap(acg_subs['cd8'],color='leiden')"
   ]
  },
  {
   "cell_type": "code",
   "execution_count": null,
   "metadata": {},
   "outputs": [],
   "source": [
    "features = ['CD45RO|PTPRC', 'CD45RA|PTPRC', 'IL2RA', 'CD25|IL2RA', 'CD127|IL7R', 'IL7R', 'CTLA4', 'CD152|CTLA4']\n",
    "fig, ax = plt.subplots(2, 4, figsize=(30,14))\n",
    "for f, ax in tqdm(zip(features, np.ravel(ax))):\n",
    "    acg_umap(acg_subs['cd8'], color=f, ax=ax)"
   ]
  },
  {
   "cell_type": "code",
   "execution_count": null,
   "metadata": {},
   "outputs": [],
   "source": [
    "focus_clusts = list(map(str,[3, 5, 6, 9]))\n",
    "clusts = acg_subs['cd8'].obs['leiden'].dtype.categories\n",
    "clust_bool = [i in focus_clusts for i in clusts]\n",
    "colors = np.array(acg_subs['cd8'].uns['leiden_colors'])"
   ]
  },
  {
   "cell_type": "code",
   "execution_count": null,
   "metadata": {},
   "outputs": [],
   "source": [
    "features = ['CD45RO|PTPRC', 'CD45RA|PTPRC', 'IL2RA', 'CD25|IL2RA', 'CD127|IL7R', 'IL7R', 'CTLA4', 'CD152|CTLA4', 'SELL', 'CD62L|SELL', 'CCR7', 'CD197|CCR7']\n",
    "log_f = ['IL2RA', 'CTLA4', 'SELL', 'CCR7']"
   ]
  },
  {
   "cell_type": "code",
   "execution_count": null,
   "metadata": {},
   "outputs": [],
   "source": [
    "fig, ax = plt.subplots(3, 4, figsize=(20,12))\n",
    "for f, ax in tqdm(zip(features, np.ravel(ax)), total=12):\n",
    "    for clust, color in zip(focus_clusts, colors[clust_bool]):\n",
    "        ax.hist(np.array(acg_subs['cd8'][acg_subs['cd8'].obs['leiden'] == clust].obs_vector(f)), # need the np.array wrapper because for the genes it returns an \"Array View\"\n",
    "                color=color, bins=100, alpha=0.5)\n",
    "        if f in log_f:\n",
    "            ax.set_yscale('log')\n",
    "    ax.set_title(f)"
   ]
  },
  {
   "cell_type": "code",
   "execution_count": null,
   "metadata": {},
   "outputs": [],
   "source": [
    "conds = acg_subs['cd8'].obs['cond'].dtype.categories"
   ]
  },
  {
   "cell_type": "code",
   "execution_count": null,
   "metadata": {},
   "outputs": [],
   "source": [
    "cond_leiden_df = pd.DataFrame(index=conds, columns=clusts, dtype=np.int)"
   ]
  },
  {
   "cell_type": "code",
   "execution_count": null,
   "metadata": {},
   "outputs": [],
   "source": [
    "for cond in tqdm(conds):\n",
    "    for clust in clusts:\n",
    "        cond_leiden_df.loc[cond, clust] = acg_subs['cd8'][(acg_subs['cd8'].obs['cond'] == cond) & (acg_subs['cd8'].obs['leiden'] == clust)].shape[0]"
   ]
  },
  {
   "cell_type": "code",
   "execution_count": null,
   "metadata": {},
   "outputs": [],
   "source": [
    "cond_leiden_df = cond_leiden_df.divide(cond_leiden_df.sum(0),1)"
   ]
  },
  {
   "cell_type": "code",
   "execution_count": null,
   "metadata": {},
   "outputs": [],
   "source": [
    "labels = clusts\n",
    "props = dict()\n",
    "\n",
    "for cond in conds:\n",
    "    props[cond] = cond_leiden_df.loc[cond].values\n",
    "\n",
    "fig, ax = plt.subplots(figsize=(10,5))\n",
    "lastpos = [0]*len(clusts)\n",
    "for cond in props:\n",
    "    ax.bar(labels, props[cond], label=cond, bottom=lastpos)\n",
    "    lastpos = props[cond] + lastpos\n",
    "\n",
    "ax.set_ylabel('Proportion')\n",
    "ax.legend()\n",
    "\n",
    "plt.show()"
   ]
  },
  {
   "cell_type": "code",
   "execution_count": null,
   "metadata": {},
   "outputs": [],
   "source": [
    "ctdict = dict()\n",
    "ctdict['N/R_1'] = [3]\n",
    "ctdict['N/R_2'] = [9]\n",
    "ctdict['Eff_Mem'] = [6]\n",
    "ctdict['Eff'] = [5]\n",
    "ctdict['Other'] = [10, 12]\n",
    "acg_subs['cd8'].obs['ct4'] = acg_subs['cd8'].obs['leiden']\n",
    "for ct in ctdict:\n",
    "    for clust in ctdict[ct]:\n",
    "        acg_subs['cd8'].obs['ct4'].replace(r'^%s$' % str(clust), ct, regex=True, inplace=True)\n",
    "acg_subs['cd8'].obs['ct4'] = acg_subs['cd8'].obs['ct4'].astype('category')"
   ]
  },
  {
   "cell_type": "code",
   "execution_count": null,
   "metadata": {},
   "outputs": [],
   "source": [
    "acg_umap(acg_subs['cd8'], color='ct4')"
   ]
  },
  {
   "cell_type": "markdown",
   "metadata": {},
   "source": [
    "### NK"
   ]
  },
  {
   "cell_type": "code",
   "execution_count": null,
   "metadata": {},
   "outputs": [],
   "source": [
    "acg_umap(acg_subs['nk'], color='leiden')"
   ]
  },
  {
   "cell_type": "code",
   "execution_count": null,
   "metadata": {},
   "outputs": [],
   "source": [
    "focus_clusts = list(map(str,[4, 11]))\n",
    "clusts = acg_subs['nk'].obs['leiden'].dtype.categories\n",
    "clust_bool = [i in focus_clusts for i in clusts]\n",
    "colors = np.array(acg_subs['nk'].uns['leiden_colors'])"
   ]
  },
  {
   "cell_type": "code",
   "execution_count": null,
   "metadata": {},
   "outputs": [],
   "source": [
    "features = ['FCGR3A', 'CD16|FCGR3A', 'NCAM1', 'CD56|NCAM1']\n",
    "log_f = ['FCGR3A','NCAM1']"
   ]
  },
  {
   "cell_type": "code",
   "execution_count": null,
   "metadata": {},
   "outputs": [],
   "source": [
    "fig, ax = plt.subplots(1, 4, figsize=(20,4))\n",
    "for f, ax in tqdm(zip(features, np.ravel(ax)), total=4):\n",
    "    for clust, color in zip(focus_clusts, colors[clust_bool]):\n",
    "        ax.hist(np.array(acg_subs['nk'][acg_subs['nk'].obs['leiden'] == clust].obs_vector(f)), # need the np.array wrapper because for the genes it returns an \"Array View\"\n",
    "                color=color, bins=100, alpha=0.5)\n",
    "        if f in log_f:\n",
    "            ax.set_yscale('log')\n",
    "    ax.set_title(f)"
   ]
  },
  {
   "cell_type": "code",
   "execution_count": null,
   "metadata": {},
   "outputs": [],
   "source": [
    "ctdict = dict()\n",
    "ctdict['CD56dim'] = [4]\n",
    "ctdict['CD56bright'] = [11]\n",
    "acg_subs['nk'].obs['ct4'] = acg_subs['nk'].obs['leiden']\n",
    "for ct in ctdict:\n",
    "    for clust in ctdict[ct]:\n",
    "        acg_subs['nk'].obs['ct4'].replace(r'^%s$' % str(clust), ct, regex=True, inplace=True)\n",
    "acg_subs['nk'].obs['ct4'] = acg_subs['nk'].obs['ct4'].astype('category')"
   ]
  },
  {
   "cell_type": "code",
   "execution_count": null,
   "metadata": {},
   "outputs": [],
   "source": [
    "acg_umap(acg_subs['nk'],color='ct4')"
   ]
  },
  {
   "cell_type": "markdown",
   "metadata": {},
   "source": [
    "#### CD3 Double-Negative"
   ]
  },
  {
   "cell_type": "code",
   "execution_count": null,
   "metadata": {},
   "outputs": [],
   "source": [
    "acg_umap(acg_subs['cd3dn'], color='leiden')"
   ]
  },
  {
   "cell_type": "code",
   "execution_count": null,
   "metadata": {},
   "outputs": [],
   "source": [
    "features = ['CD3|CD3E', 'CD3E', 'CD8|CD8A', 'CD4|CD4', 'CD94|KLRD1', 'KLRB1', 'NKG7', 'GNLY', 'GZMB']\n",
    "fig, ax = plt.subplots(2, 4, figsize=(30,14))\n",
    "for f, ax in tqdm(zip(features, np.ravel(ax))):\n",
    "    acg_umap(acg,color=f, ax=ax)"
   ]
  },
  {
   "cell_type": "code",
   "execution_count": null,
   "metadata": {},
   "outputs": [],
   "source": [
    "ctdict = dict()\n",
    "ctdict['NKT'] = [13]\n",
    "acg_subs['cd3dn'].obs['ct4'] = acg_subs['cd3dn'].obs['leiden']\n",
    "for ct in ctdict:\n",
    "    for clust in ctdict[ct]:\n",
    "        acg_subs['cd3dn'].obs['ct4'].replace(r'^%s$' % str(clust), ct, regex=True, inplace=True)\n",
    "acg_subs['cd3dn'].obs['ct4'] = acg_subs['cd3dn'].obs['ct4'].astype('category')"
   ]
  },
  {
   "cell_type": "code",
   "execution_count": null,
   "metadata": {},
   "outputs": [],
   "source": [
    "acg_umap(acg_subs['cd3dn'], color='ct4')"
   ]
  },
  {
   "cell_type": "code",
   "execution_count": null,
   "metadata": {},
   "outputs": [],
   "source": [
    "dict(zip(acg_subs.keys(), map(lambda x: acg_subs[x].obs['ct4'], acg_subs.keys())))"
   ]
  },
  {
   "cell_type": "code",
   "execution_count": null,
   "metadata": {},
   "outputs": [],
   "source": []
  }
 ],
 "metadata": {
  "kernelspec": {
   "display_name": "codec",
   "language": "python",
   "name": "codec"
  },
  "language_info": {
   "codemirror_mode": {
    "name": "ipython",
    "version": 3
   },
   "file_extension": ".py",
   "mimetype": "text/x-python",
   "name": "python",
   "nbconvert_exporter": "python",
   "pygments_lexer": "ipython3",
   "version": "3.6.7"
  }
 },
 "nbformat": 4,
 "nbformat_minor": 4
}
