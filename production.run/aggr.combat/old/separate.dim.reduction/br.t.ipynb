{
 "cells": [
  {
   "cell_type": "code",
   "execution_count": null,
   "metadata": {},
   "outputs": [],
   "source": [
    "import scanpy as sc\n",
    "import pandas as pd \n",
    "import numpy as np\n",
    "import matplotlib.pyplot as plt\n",
    "from tqdm.notebook import tqdm\n",
    "import warnings\n",
    "import itertools as it\n",
    "import json\n",
    "import requests\n",
    "import seaborn as sns\n",
    "import pickle as pkl\n",
    "from functools import reduce\n",
    "\n",
    "import matplotlib as mpl\n",
    "import matplotlib.patches as patches\n",
    "from matplotlib.gridspec import GridSpec\n",
    "from shapely.geometry import Point\n",
    "from shapely.geometry.polygon import Polygon"
   ]
  },
  {
   "cell_type": "code",
   "execution_count": null,
   "metadata": {},
   "outputs": [],
   "source": [
    "sc.settings.verbosity = 4\n",
    "sc.settings.set_figure_params(dpi=80)\n",
    "print(sc.__version__)\n",
    "sc.settings.n_jobs=12"
   ]
  },
  {
   "cell_type": "code",
   "execution_count": null,
   "metadata": {},
   "outputs": [],
   "source": [
    "prefix = '/data/codec/production.run/mrna/'"
   ]
  },
  {
   "cell_type": "code",
   "execution_count": null,
   "metadata": {},
   "outputs": [],
   "source": [
    "path = prefix + 'obs/cts/br.t.txt'\n",
    "\n",
    "# with open(path,'w') as file:\n",
    "#     for bc in acg_nk.obs_names:\n",
    "#         file.write(bc + '\\n')\n",
    "        \n",
    "with open(path,'r') as file:\n",
    "    br_t_cells = [i.strip() for i in file.readlines()]"
   ]
  },
  {
   "cell_type": "code",
   "execution_count": null,
   "metadata": {},
   "outputs": [],
   "source": [
    "path = prefix + '../cond.colors.pkl'\n",
    "\n",
    "with open(path,'rb') as file:\n",
    "    cond_colors = pkl.load(file)"
   ]
  },
  {
   "cell_type": "code",
   "execution_count": null,
   "metadata": {},
   "outputs": [],
   "source": [
    "path = prefix + 'pkls/aggr/wells.sng.w_covars.pkl'\n",
    "\n",
    "# with open(path,'wb') as file:\n",
    "#     pkl.dump(wells, file)\n",
    "    \n",
    "with open(path,'rb') as file:\n",
    "    wells = pkl.load(file)"
   ]
  },
  {
   "cell_type": "markdown",
   "metadata": {},
   "source": [
    "# Processing"
   ]
  },
  {
   "cell_type": "code",
   "execution_count": null,
   "metadata": {},
   "outputs": [],
   "source": [
    "for well in wells:\n",
    "    wells[well]['adata'].obs_names = [i[:16] + '-%s' % well for i in wells[well]['adata'].obs_names]"
   ]
  },
  {
   "cell_type": "code",
   "execution_count": null,
   "metadata": {},
   "outputs": [],
   "source": [
    "br_t = wells[0]['adata'].concatenate(*[wells[i]['adata'] for  i in range(1, 12)])[br_t_cells].copy()"
   ]
  },
  {
   "cell_type": "code",
   "execution_count": null,
   "metadata": {},
   "outputs": [],
   "source": [
    "br_t.var['n_counts'] = br_t.X.toarray().sum(axis=0)"
   ]
  },
  {
   "cell_type": "code",
   "execution_count": null,
   "metadata": {},
   "outputs": [],
   "source": [
    "plt.figure(figsize=(8,6))\n",
    "plt.hist(br_t.var['n_counts'].values, bins=np.logspace(np.log10(1),np.log10(1e5), 1000))\n",
    "plt.grid(False)\n",
    "plt.grid(True, 'both', 'both')\n",
    "plt.xscale('log')\n",
    "# plt.yscale('log')"
   ]
  },
  {
   "cell_type": "code",
   "execution_count": null,
   "metadata": {},
   "outputs": [],
   "source": [
    "# remove any genes that are now empty\n",
    "sc.pp.filter_genes(br_t, min_counts=100, inplace=True)\n",
    "sc.pp.normalize_per_cell(br_t, counts_per_cell_after=1e6)\n",
    "sc.pp.log1p(br_t)"
   ]
  },
  {
   "cell_type": "code",
   "execution_count": null,
   "metadata": {},
   "outputs": [],
   "source": [
    "fig, ax = plt.subplots(1,2,figsize=(10,4))\n",
    "for vals, ax in zip(['percent_mito','n_counts'], np.ravel(ax)):\n",
    "    ax.hist(br_t.obs[vals].values,bins=100)"
   ]
  },
  {
   "cell_type": "code",
   "execution_count": null,
   "metadata": {},
   "outputs": [],
   "source": [
    "sc.pp.scale(br_t)\n",
    "sc.pp.combat(br_t, key='batch',covariates=['cond','free_id'])\n",
    "sc.pp.scale(br_t)\n",
    "sc.pp.pca(br_t, n_comps=100)"
   ]
  },
  {
   "cell_type": "code",
   "execution_count": null,
   "metadata": {},
   "outputs": [],
   "source": [
    "sc.pl.pca_variance_ratio(br_t,log=True, n_pcs=100)"
   ]
  },
  {
   "cell_type": "code",
   "execution_count": null,
   "metadata": {},
   "outputs": [],
   "source": [
    "warnings.filterwarnings('ignore')\n",
    "sc.pp.neighbors(br_t,n_neighbors=15,n_pcs=50)\n",
    "warnings.filterwarnings('default')"
   ]
  },
  {
   "cell_type": "code",
   "execution_count": null,
   "metadata": {},
   "outputs": [],
   "source": [
    "sc.tl.umap(br_t)"
   ]
  },
  {
   "cell_type": "code",
   "execution_count": null,
   "metadata": {},
   "outputs": [],
   "source": [
    "sc.tl.leiden(br_t, resolution=1)"
   ]
  },
  {
   "cell_type": "markdown",
   "metadata": {},
   "source": [
    "# Initial Visualization"
   ]
  },
  {
   "cell_type": "code",
   "execution_count": null,
   "metadata": {},
   "outputs": [],
   "source": [
    "fig, ax = plt.subplots(1, 2, figsize=(20,10))\n",
    "for color, ax, palette in zip(['cond', 'leiden'], ax, [None, sc.pl.palettes.default_20]):\n",
    "    ax.set_facecolor('whitesmoke')\n",
    "    sc.pl.umap(br_t,color=color, ax=ax, show=False, return_fig=False, size=4, palette=palette)"
   ]
  },
  {
   "cell_type": "code",
   "execution_count": null,
   "metadata": {},
   "outputs": [],
   "source": [
    "fig, ax = plt.subplots(1,4,figsize=(24,5))\n",
    "for f, ax in zip(['batch', 'percent_mito', 'n_counts', 'free_id'], np.ravel(ax)):\n",
    "    ax.set_facecolor('black')\n",
    "    sc.pl.umap(br_t, color=f, ax=ax,show=False, return_fig=False, size=3, legend_loc=None);"
   ]
  },
  {
   "cell_type": "code",
   "execution_count": null,
   "metadata": {},
   "outputs": [],
   "source": [
    "fig, ax = plt.subplots(2,6, figsize=(30,10))\n",
    "for val, ax in tqdm(zip(br_t.obs['batch'].dtype.categories, np.ravel(ax))):\n",
    "    br_t.obs['val'] = br_t.obs['batch'] == val\n",
    "    ax.set_facecolor('black')\n",
    "    sc.pl.umap(br_t,color='val', ax=ax, show=False, return_fig=False, title=val)\n",
    "    br_t.obs.drop(columns='val', inplace=True)\n",
    "plt.tight_layout()"
   ]
  },
  {
   "cell_type": "code",
   "execution_count": null,
   "metadata": {},
   "outputs": [],
   "source": [
    "fig, ax = plt.subplots(1,7, figsize=(30,4))\n",
    "for val, ax in tqdm(zip(br_t.obs['cond'].dtype.categories, np.ravel(ax))):\n",
    "    br_t.obs['val'] = br_t.obs['cond'] == val\n",
    "    ax.set_facecolor('black')\n",
    "    sc.pl.umap(br_t,color='val', ax=ax, show=False, return_fig=False, title=val)\n",
    "    br_t.obs.drop(columns='val', inplace=True)\n",
    "plt.tight_layout()"
   ]
  },
  {
   "cell_type": "code",
   "execution_count": null,
   "metadata": {},
   "outputs": [],
   "source": [
    "fig, ax = plt.subplots(2,7,figsize=(25,6.5))\n",
    "for val, ax in tqdm(zip(br_t.obs['leiden'].dtype.categories, np.ravel(ax))):\n",
    "    br_t.obs['val'] = br_t.obs['leiden'] == val\n",
    "    ax.set_facecolor('black')\n",
    "    sc.pl.umap(br_t,color='val', ax=ax, show=False, return_fig=False, title=val)\n",
    "    br_t.obs.drop(columns='val', inplace=True)\n",
    "plt.tight_layout()"
   ]
  },
  {
   "cell_type": "markdown",
   "metadata": {},
   "source": [
    "### Marker Genes and Protein Data"
   ]
  },
  {
   "cell_type": "markdown",
   "metadata": {},
   "source": [
    "Add the `.raw` attribute for visualization and gene tests."
   ]
  },
  {
   "cell_type": "code",
   "execution_count": null,
   "metadata": {},
   "outputs": [],
   "source": [
    "def add_raw(adata, transformed=True):\n",
    "    path = prefix + 'pkls/aggr/wells.sng.w_covars.pkl'\n",
    "    \n",
    "    with open(path,'rb') as file:\n",
    "        wells = pkl.load(file)\n",
    "    \n",
    "    for well in wells:\n",
    "        wells[well]['adata'].obs_names = [i[:16] + '-%s' % well for i in wells[well]['adata'].obs_names]\n",
    "    \n",
    "    raw = wells[0]['adata'].concatenate(*[wells[i]['adata'] for  i in range(1, 12)])[adata.obs_names,:]\n",
    "    \n",
    "    if transformed == True:\n",
    "        sc.pp.normalize_per_cell(raw,counts_per_cell_after=1e6)\n",
    "        sc.pp.log1p(raw)\n",
    "    \n",
    "    adata.raw = raw\n",
    "    return"
   ]
  },
  {
   "cell_type": "code",
   "execution_count": null,
   "metadata": {},
   "outputs": [],
   "source": [
    "add_raw(br_t)"
   ]
  },
  {
   "cell_type": "code",
   "execution_count": null,
   "metadata": {
    "jupyter": {
     "source_hidden": true
    }
   },
   "outputs": [],
   "source": [
    "def add_proteins(adata):\n",
    "    \n",
    "    def clr_normalize_column(x):\n",
    "        normed_column = np.log1p((x) / (np.exp(sum(np.log1p((x)[x > 0 ])) / len(x + 1))))\n",
    "        return normed_column\n",
    "    def clr_normalize(x):\n",
    "        normed_matrix = np.apply_along_axis(clr_normalize_column, 1, x)\n",
    "        return normed_matrix\n",
    "    \n",
    "    path = '/data/codec/production.run/adts/pkls/concat.adts.norm.pkl'\n",
    "    with open(path,'rb') as file:\n",
    "        concat_adts = pkl.load(file)\n",
    "    \n",
    "    bcs = adata.obs_names\n",
    "    num = len(bcs)\n",
    "    concat_adts = concat_adts[bcs,:].copy()\n",
    "    concat_adts.obs = concat_adts.obs.join(adata.obs[['cond','free_id']])\n",
    "    \n",
    "    def clip_extreme(a):\n",
    "        a_sort = np.sort(a)\n",
    "        a_min = max(a_sort[4], np.percentile(a, 0.5, interpolation='higher'))\n",
    "        a_max = min(a_sort[-5], np.percentile(a, 99.5, interpolation='lower'))\n",
    "        return np.clip(a, a_min=a_min, a_max=a_max)\n",
    "    \n",
    "    sc.pp.normalize_per_cell(concat_adts, counts_per_cell_after=1e6)\n",
    "    concat_adts.X = clr_normalize(concat_adts.X.toarray())\n",
    "    sc.pp.scale(concat_adts)\n",
    "    sc.pp.combat(concat_adts, key='batch',covariates=['cond','free_id'])\n",
    "    sc.pp.scale(concat_adts)\n",
    "    concat_adts.X = np.apply_along_axis(clip_extreme, axis=0, arr=concat_adts.X)\n",
    "    adts_df = pd.DataFrame(concat_adts.X, columns=concat_adts.var_names, index=concat_adts.obs_names)\n",
    "    try:\n",
    "        adata.obs.drop(columns=concat_adts.var_names, inplace=True)\n",
    "    except KeyError:\n",
    "        None\n",
    "    adata.obs = adata.obs.join(adts_df)\n",
    "    return"
   ]
  },
  {
   "cell_type": "markdown",
   "metadata": {},
   "source": [
    "Add the protein data into the `.obs`."
   ]
  },
  {
   "cell_type": "code",
   "execution_count": null,
   "metadata": {},
   "outputs": [],
   "source": [
    "add_proteins(br_t)"
   ]
  },
  {
   "cell_type": "markdown",
   "metadata": {},
   "source": [
    "Find out where are expected cell types are."
   ]
  },
  {
   "cell_type": "code",
   "execution_count": null,
   "metadata": {},
   "outputs": [],
   "source": [
    "features = ['CD8|CD8A', 'CD4|CD4', 'CD45RO|PTPRC', 'CD45RA|PTPRC',\n",
    "           'TRDC','FOXP3','CCR4', 'CD69|CD69',\n",
    "           'CD185|CXCR5', 'CD62L|SELL','CXCR3','CCR6',\n",
    "           'CD26|DPP4','CCR7','CCL5','CD103|ITGAE']"
   ]
  },
  {
   "cell_type": "code",
   "execution_count": null,
   "metadata": {},
   "outputs": [],
   "source": [
    "fig, ax = plt.subplots(4,4,figsize=(25,24))\n",
    "for ax, f in zip(np.ravel(ax), features):\n",
    "    ax.set_facecolor('black')\n",
    "    sc.pl.umap(br_t, color=f, ax=ax,show=False, return_fig=False, size=5, use_raw=True)\n",
    "plt.tight_layout()"
   ]
  },
  {
   "cell_type": "code",
   "execution_count": null,
   "metadata": {},
   "outputs": [],
   "source": [
    "path = prefix + 'pkls/aggr/br_t/br_t.1.pkl'\n",
    "\n",
    "# with open(path,'wb') as file:\n",
    "#     pkl.dump(br_t, file, protocol=4)\n",
    "    \n",
    "with open(path,'rb') as file:\n",
    "    br_t = pkl.load(file)"
   ]
  },
  {
   "cell_type": "markdown",
   "metadata": {},
   "source": [
    "# Grouping and Subclustering\n",
    "Going to combine or break up those clusters further."
   ]
  },
  {
   "cell_type": "code",
   "execution_count": null,
   "metadata": {},
   "outputs": [],
   "source": [
    "groupings = [[3, 4, 6]]\n",
    "grouped_clusts = [i for j in groupings for i in j]\n",
    "numclusts = np.unique(br_t.obs['leiden'].values.astype(int))\n",
    "for i in np.setdiff1d(numclusts, grouped_clusts):\n",
    "    groupings.append([i])"
   ]
  },
  {
   "cell_type": "code",
   "execution_count": null,
   "metadata": {},
   "outputs": [],
   "source": [
    "ctdict = dict()\n",
    "for i in range(len(groupings)):\n",
    "    ctdict['ct%s' % str(i)] = groupings[i]\n",
    "\n",
    "br_t.obs['celltype'] = br_t.obs['leiden']\n",
    "for ct in ctdict:\n",
    "    for clust in ctdict[ct]:\n",
    "        br_t.obs['celltype'].replace(str(clust), ct, regex=True, inplace=True)\n",
    "br_t.obs['leiden'] = [i.strip('ct') for i in br_t.obs['celltype'].astype('category')]"
   ]
  },
  {
   "cell_type": "code",
   "execution_count": null,
   "metadata": {},
   "outputs": [],
   "source": [
    "sc.pl.umap(br_t, color='leiden', size=2)"
   ]
  },
  {
   "cell_type": "code",
   "execution_count": null,
   "metadata": {},
   "outputs": [],
   "source": [
    "clusts = [0, 1, 2, 4, 5, 8]"
   ]
  },
  {
   "cell_type": "code",
   "execution_count": null,
   "metadata": {},
   "outputs": [],
   "source": [
    "sub_br_t = dict()\n",
    "for clust in clusts:\n",
    "    sub_br_t[str(clust)] = br_t[br_t.obs['leiden'] == str(clust)].copy()"
   ]
  },
  {
   "cell_type": "code",
   "execution_count": null,
   "metadata": {},
   "outputs": [],
   "source": [
    "sc.tl.leiden(sub_br_t['0'], resolution=0.5) # subcluster them using Leiden\n",
    "sc.tl.leiden(sub_br_t['0'], resolution=0.4, restrict_to=('leiden',['3'])) # subcluster them using Leident['0'], resolution=0.3, restrict_to=('leiden',['0,4'])) # subcluster them using Leiden\n",
    "stupid_name_clusts = sub_br_t['0'].obs['leiden'].dtype.categories\n",
    "for i, j in zip(stupid_name_clusts, range(len(stupid_name_clusts))):\n",
    "    sub_br_t['0'].obs['leiden'].replace(i, j, inplace=True)\n",
    "sub_br_t['0'].obs['leiden'] = sub_br_t['0'].obs['leiden'].astype(int)\n",
    "sub_br_t['0'].obs['leiden'] = sub_br_t['0'].obs['leiden'].astype(str)"
   ]
  },
  {
   "cell_type": "code",
   "execution_count": null,
   "metadata": {},
   "outputs": [],
   "source": [
    "fig, ax = plt.subplots(1,1,figsize=(5.25, 5))\n",
    "for ax, f in zip(np.ravel(ax), ['leiden']):\n",
    "    ax.set_facecolor('gray')\n",
    "    sc.pl.umap(sub_br_t['0'], color=f, ax=ax,show=False, return_fig=False, size=10, use_raw=True)\n",
    "plt.tight_layout()"
   ]
  },
  {
   "cell_type": "code",
   "execution_count": null,
   "metadata": {},
   "outputs": [],
   "source": [
    "groupings = [[0, 1, 2, 3, 5, 6],\n",
    "            ]\n",
    "grouped_clusts = [i for j in groupings for i in j]\n",
    "numclusts = np.unique(sub_br_t['0'].obs['leiden'].values.astype(int))\n",
    "for i in np.setdiff1d(numclusts, grouped_clusts):\n",
    "    groupings.append([i])"
   ]
  },
  {
   "cell_type": "code",
   "execution_count": null,
   "metadata": {},
   "outputs": [],
   "source": [
    "ctdict = dict()\n",
    "for i in range(len(groupings)):\n",
    "    ctdict['ct%s' % str(i)] = groupings[i]\n",
    "\n",
    "sub_br_t['0'].obs['celltype'] = sub_br_t['0'].obs['leiden']\n",
    "for ct in ctdict:\n",
    "    for clust in ctdict[ct]:\n",
    "        sub_br_t['0'].obs['celltype'].replace(str(clust), ct, regex=True, inplace=True)\n",
    "sub_br_t['0'].obs['leiden'] = [i.strip('ct') for i in sub_br_t['0'].obs['celltype'].astype('category')]"
   ]
  },
  {
   "cell_type": "code",
   "execution_count": null,
   "metadata": {},
   "outputs": [],
   "source": [
    "fig, ax = plt.subplots(1,1,figsize=(5.25, 5))\n",
    "for ax, f in zip(np.ravel(ax), ['leiden']):\n",
    "    ax.set_facecolor('gray')\n",
    "    sc.pl.umap(sub_br_t['0'], color=f, ax=ax,show=False, return_fig=False, size=10, use_raw=True)\n",
    "plt.tight_layout()"
   ]
  },
  {
   "cell_type": "code",
   "execution_count": null,
   "metadata": {},
   "outputs": [],
   "source": [
    "sc.tl.leiden(sub_br_t['1'], resolution=0.5) # subcluster them using Leiden\n",
    "sc.tl.leiden(sub_br_t['1'], resolution=0.3, restrict_to=('leiden',['2'])) # subcluster them using Leident['1'], resolution=0.3, restrict_to=('leiden',['0,4'])) # subcluster them using Leiden\n",
    "stupid_name_clusts = sub_br_t['1'].obs['leiden'].dtype.categories\n",
    "for i, j in zip(stupid_name_clusts, range(len(stupid_name_clusts))):\n",
    "    sub_br_t['1'].obs['leiden'].replace(i, j, inplace=True)\n",
    "sub_br_t['1'].obs['leiden'] = sub_br_t['1'].obs['leiden'].astype(int)\n",
    "sub_br_t['1'].obs['leiden'] = sub_br_t['1'].obs['leiden'].astype(str)"
   ]
  },
  {
   "cell_type": "code",
   "execution_count": null,
   "metadata": {},
   "outputs": [],
   "source": [
    "fig, ax = plt.subplots(1,1,figsize=(5.25, 5))\n",
    "for ax, f in zip(np.ravel(ax), ['leiden']):\n",
    "    ax.set_facecolor('gray')\n",
    "    sc.pl.umap(sub_br_t['1'], color=f, ax=ax,show=False, return_fig=False, size=10, use_raw=True)\n",
    "plt.tight_layout()"
   ]
  },
  {
   "cell_type": "code",
   "execution_count": null,
   "metadata": {},
   "outputs": [],
   "source": [
    "features = ['CD8|CD8A', 'CD4|CD4', 'CCR4', 'PTGDR2', \n",
    "            'CD185|CXCR5','CXCR3','CCR6', 'CCL5'\n",
    "           ]"
   ]
  },
  {
   "cell_type": "code",
   "execution_count": null,
   "metadata": {},
   "outputs": [],
   "source": [
    "fig, ax = plt.subplots(2,4,figsize=(25,13))\n",
    "for ax, f in zip(np.ravel(ax), features):\n",
    "    ax.set_facecolor('gray')\n",
    "    sc.pl.umap(sub_br_t['0'], color=f, ax=ax,show=False, return_fig=False, size=8, use_raw=True)\n",
    "plt.tight_layout()"
   ]
  },
  {
   "cell_type": "code",
   "execution_count": null,
   "metadata": {},
   "outputs": [],
   "source": [
    "groupings = [[0, 3, 4, 6],\n",
    "            ]\n",
    "grouped_clusts = [i for j in groupings for i in j]\n",
    "numclusts = np.unique(sub_br_t['1'].obs['leiden'].values.astype(int))\n",
    "for i in np.setdiff1d(numclusts, grouped_clusts):\n",
    "    groupings.append([i])"
   ]
  },
  {
   "cell_type": "code",
   "execution_count": null,
   "metadata": {},
   "outputs": [],
   "source": [
    "ctdict = dict()\n",
    "for i in range(len(groupings)):\n",
    "    ctdict['ct%s' % str(i)] = groupings[i]\n",
    "\n",
    "sub_br_t['1'].obs['celltype'] = sub_br_t['1'].obs['leiden']\n",
    "for ct in ctdict:\n",
    "    for clust in ctdict[ct]:\n",
    "        sub_br_t['1'].obs['celltype'].replace(str(clust), ct, regex=True, inplace=True)\n",
    "sub_br_t['1'].obs['leiden'] = [i.strip('ct') for i in sub_br_t['1'].obs['celltype'].astype('category')]"
   ]
  },
  {
   "cell_type": "code",
   "execution_count": null,
   "metadata": {},
   "outputs": [],
   "source": [
    "fig, ax = plt.subplots(1,1,figsize=(5.25, 5))\n",
    "for ax, f in zip(np.ravel(ax), ['leiden']):\n",
    "    ax.set_facecolor('gray')\n",
    "    sc.pl.umap(sub_br_t['1'], color=f, ax=ax,show=False, return_fig=False, size=10, use_raw=True)\n",
    "plt.tight_layout()"
   ]
  },
  {
   "cell_type": "code",
   "execution_count": null,
   "metadata": {},
   "outputs": [],
   "source": [
    "sc.tl.leiden(sub_br_t['2'], resolution=0.4) # subcluster them using Leiden\n",
    "sc.pl.umap(sub_br_t['2'],color='leiden', size=5)"
   ]
  },
  {
   "cell_type": "code",
   "execution_count": null,
   "metadata": {},
   "outputs": [],
   "source": [
    "groupings = [[0, 1, 2],\n",
    "            ]\n",
    "grouped_clusts = [i for j in groupings for i in j]\n",
    "numclusts = np.unique(sub_br_t['2'].obs['leiden'].values.astype(int))\n",
    "for i in np.setdiff1d(numclusts, grouped_clusts):\n",
    "    groupings.append([i])"
   ]
  },
  {
   "cell_type": "code",
   "execution_count": null,
   "metadata": {},
   "outputs": [],
   "source": [
    "ctdict = dict()\n",
    "for i in range(len(groupings)):\n",
    "    ctdict['ct%s' % str(i)] = groupings[i]\n",
    "\n",
    "sub_br_t['2'].obs['celltype'] = sub_br_t['2'].obs['leiden']\n",
    "for ct in ctdict:\n",
    "    for clust in ctdict[ct]:\n",
    "        sub_br_t['2'].obs['celltype'].replace(str(clust), ct, regex=True, inplace=True)\n",
    "sub_br_t['2'].obs['leiden'] = [i.strip('ct') for i in sub_br_t['2'].obs['celltype'].astype('category')]"
   ]
  },
  {
   "cell_type": "code",
   "execution_count": null,
   "metadata": {},
   "outputs": [],
   "source": [
    "fig, ax = plt.subplots(1,1,figsize=(5.25, 5))\n",
    "for ax, f in zip(np.ravel(ax), ['leiden']):\n",
    "    ax.set_facecolor('gray')\n",
    "    sc.pl.umap(sub_br_t['2'], color=f, ax=ax,show=False, return_fig=False, size=10, use_raw=True)\n",
    "plt.tight_layout()"
   ]
  },
  {
   "cell_type": "code",
   "execution_count": null,
   "metadata": {},
   "outputs": [],
   "source": [
    "sc.tl.leiden(sub_br_t['4'], resolution=0.3) # subcluster them using Leiden\n",
    "sc.tl.leiden(sub_br_t['4'], resolution=0.25, restrict_to=('leiden',['1'])) # subcluster them using Leident['4'], resolution=0.3, restrict_to=('leiden',['0,4'])) # subcluster them using Leiden\n",
    "stupid_name_clusts = sub_br_t['4'].obs['leiden'].dtype.categories\n",
    "for i, j in zip(stupid_name_clusts, range(len(stupid_name_clusts))):\n",
    "    sub_br_t['4'].obs['leiden'].replace(i, j, inplace=True)\n",
    "sub_br_t['4'].obs['leiden'] = sub_br_t['4'].obs['leiden'].astype(int)\n",
    "sub_br_t['4'].obs['leiden'] = sub_br_t['4'].obs['leiden'].astype(str)\n",
    "sc.pl.umap(sub_br_t['4'],color='leiden', size=5)"
   ]
  },
  {
   "cell_type": "code",
   "execution_count": null,
   "metadata": {},
   "outputs": [],
   "source": [
    "sc.tl.leiden(sub_br_t['5'], resolution=0.3) # subcluster them using Leiden\n",
    "sc.tl.leiden(sub_br_t['5'], resolution=0.3, restrict_to=('leiden',['1'])) # subcluster them using Leident['5'], resolution=0.3, restrict_to=('leiden',['0,4'])) # subcluster them using Leiden\n",
    "stupid_name_clusts = sub_br_t['5'].obs['leiden'].dtype.categories\n",
    "for i, j in zip(stupid_name_clusts, range(len(stupid_name_clusts))):\n",
    "    sub_br_t['5'].obs['leiden'].replace(i, j, inplace=True)\n",
    "sub_br_t['5'].obs['leiden'] = sub_br_t['5'].obs['leiden'].astype(int)\n",
    "sub_br_t['5'].obs['leiden'] = sub_br_t['5'].obs['leiden'].astype(str)\n",
    "sc.pl.umap(sub_br_t['5'],color='leiden', size=5)"
   ]
  },
  {
   "cell_type": "code",
   "execution_count": null,
   "metadata": {},
   "outputs": [],
   "source": [
    "sc.tl.leiden(sub_br_t['8'], resolution=0.2) # subcluster them using Leiden\n",
    "sc.pl.umap(sub_br_t['8'],color='leiden', size=5)"
   ]
  },
  {
   "cell_type": "code",
   "execution_count": null,
   "metadata": {},
   "outputs": [],
   "source": [
    "def sub_cluster_mapper(adata, sub_adatas):\n",
    "    '''\n",
    "    This takes in the adata object and inserts a new leiden column in the `.obs`. \n",
    "    \n",
    "    This function is really convoluted and there's probably a better, simpler way to do it,\n",
    "    but it should theoretically work for any number of subclusters\n",
    "    '''\n",
    "    # ideally you'd make a copy of the adata object here, so we don't have to change the original\n",
    "    # this would be in case we want to run it multiple times, perhaps the resolutions we put in didn't subset the clusters like we had hoped\n",
    "    # and we need to run multiple times to adjust the resolution slightly\n",
    "    \n",
    "    # this block is to figure out that there are two new subclusters and they should be named 8, 9\n",
    "    total_new_clusts = 0\n",
    "    old_clusts = sub_adatas.keys()\n",
    "    for sub_adata in sub_adatas:\n",
    "        total_new_clusts += sub_adatas[sub_adata].obs['leiden'].astype(int).unique().max() + 1\n",
    "    total_added_clusts = total_new_clusts - len(sub_adatas)\n",
    "    new_clust_names_start = max(adata.obs['leiden'].astype(int))+1\n",
    "    new_added_clust_names = [str(i) for i in range(new_clust_names_start,\n",
    "                                                   new_clust_names_start + total_added_clusts)]\n",
    "    \n",
    "    # this block is to build a new list of leiden clusters from the old one \n",
    "    new_leiden = list()\n",
    "    leiden_col = adata.obs['leiden'].copy()\n",
    "\n",
    "    # this builds the new leiden cluster list, now adding a .1, .2, etc. to each new cluster\n",
    "    for obs in leiden_col.index:\n",
    "        clust_name = leiden_col.loc[obs]\n",
    "        if clust_name not in old_clusts or sub_adatas[clust_name].obs.loc[obs, 'leiden'] == '0':\n",
    "            new_leiden.append(clust_name)\n",
    "        else:\n",
    "            new_leiden.append(clust_name + '.%s' % sub_adatas[clust_name].obs.loc[obs,'leiden'])\n",
    "\n",
    "    # this renames the .1, .2, etc clusters to the new, better names I came up with above (8 and 9)\n",
    "    new_leiden = pd.Series(new_leiden, index=adata.obs_names)\n",
    "    added_clusts = np.setdiff1d(new_leiden,adata.obs['leiden'])\n",
    "    new_leiden.replace(dict(zip(added_clusts, new_added_clust_names)), inplace=True)\n",
    "    \n",
    "    # replace the old leiden column, must do these steps sequentially \n",
    "    adata.obs['leiden'] = new_leiden.astype(int) # to order the clusters by number\n",
    "    adata.obs['leiden'] = new_leiden.astype(str) # to convert to string as normal\n",
    "#     adata.obs['leiden'] = new_leiden.astype('category') # don't do this, it messes things up, just let scanpy do it as it plots\n",
    "    return adata"
   ]
  },
  {
   "cell_type": "code",
   "execution_count": null,
   "metadata": {},
   "outputs": [],
   "source": [
    "br_t = sub_cluster_mapper(br_t, sub_br_t)"
   ]
  },
  {
   "cell_type": "code",
   "execution_count": null,
   "metadata": {},
   "outputs": [],
   "source": [
    "fig, ax = plt.subplots(1, 2, figsize=(20,10))\n",
    "for color, ax, palette in zip(['cond', 'leiden'], ax, [None, sc.pl.palettes.default_20]):\n",
    "    ax.set_facecolor('black')\n",
    "    sc.pl.umap(br_t,color=color, ax=ax, show=False, return_fig=False, size=10, palette=palette)"
   ]
  },
  {
   "cell_type": "code",
   "execution_count": null,
   "metadata": {},
   "outputs": [],
   "source": [
    "fig, ax = plt.subplots(3,7,figsize=(20,9))\n",
    "for val, ax in tqdm(zip(br_t.obs['leiden'].dtype.categories, np.ravel(ax))):\n",
    "    br_t.obs['val'] = br_t.obs['leiden'] == val\n",
    "    ax.set_facecolor('black')\n",
    "    sc.pl.umap(br_t,color='val', ax=ax, show=False, return_fig=False, title=val)\n",
    "    br_t.obs.drop(columns='val', inplace=True)\n",
    "plt.tight_layout()"
   ]
  },
  {
   "cell_type": "markdown",
   "metadata": {},
   "source": [
    "# Remove Contamination"
   ]
  },
  {
   "cell_type": "markdown",
   "metadata": {},
   "source": [
    "See note in the `acg_t` notebook about this."
   ]
  },
  {
   "cell_type": "code",
   "execution_count": null,
   "metadata": {},
   "outputs": [],
   "source": [
    "br_t = br_t[~br_t.obs['leiden'].isin(['6', '7' ,'10', '11', '15']),:].copy()"
   ]
  },
  {
   "cell_type": "markdown",
   "metadata": {},
   "source": [
    "Renumber clusters:"
   ]
  },
  {
   "cell_type": "code",
   "execution_count": null,
   "metadata": {},
   "outputs": [],
   "source": [
    "clusts = br_t.obs['leiden'].dtype.categories\n",
    "clust_dict = dict(zip(clusts, range(len(clusts))))\n",
    "new_leiden = list()\n",
    "for i in br_t.obs['leiden']:\n",
    "    new_leiden.append(clust_dict[i])\n",
    "new_leiden = np.array(new_leiden)\n",
    "br_t.obs['leiden'] = new_leiden.astype(int) # to order the clusters by number\n",
    "br_t.obs['leiden'] = new_leiden.astype(str) # to convert to string as normal\n",
    "# br_t.obs['leiden'] = new_leiden.astype('category') # don't do this, it messes things up, just let scanpy do it as it plots"
   ]
  },
  {
   "cell_type": "markdown",
   "metadata": {},
   "source": [
    "# Visualization Post-Subclustering"
   ]
  },
  {
   "cell_type": "code",
   "execution_count": null,
   "metadata": {},
   "outputs": [],
   "source": [
    "fig, ax = plt.subplots(1, 2, figsize=(20,10))\n",
    "for color, ax, palette in zip(['cond', 'leiden'], ax, [None, sc.pl.palettes.default_20]):\n",
    "    ax.set_facecolor('black')\n",
    "    sc.pl.umap(br_t,color=color, ax=ax, show=False, return_fig=False, size=10, palette=palette)"
   ]
  },
  {
   "cell_type": "code",
   "execution_count": null,
   "metadata": {},
   "outputs": [],
   "source": [
    "fig, ax = plt.subplots(1,6, figsize=(30,5))\n",
    "for val, ax in tqdm(zip(br_t.obs['cond'].dtype.categories, np.ravel(ax))):\n",
    "    br_t.obs['val'] = br_t.obs['cond'] == val\n",
    "    ax.set_facecolor('black')\n",
    "    sc.pl.umap(br_t,color='val', ax=ax, show=False, return_fig=False, title=val)\n",
    "    br_t.obs.drop(columns='val', inplace=True)\n",
    "plt.tight_layout()"
   ]
  },
  {
   "cell_type": "code",
   "execution_count": null,
   "metadata": {},
   "outputs": [],
   "source": [
    "fig, ax = plt.subplots(4,4,figsize=(20,19))\n",
    "for val, ax in tqdm(zip(br_t.obs['leiden'].dtype.categories, np.ravel(ax))):\n",
    "    br_t.obs['val'] = br_t.obs['leiden'] == val\n",
    "    ax.set_facecolor('black')\n",
    "    sc.pl.umap(br_t,color='val', ax=ax, show=False, return_fig=False, title=val)\n",
    "    br_t.obs.drop(columns='val', inplace=True)\n",
    "plt.tight_layout()"
   ]
  },
  {
   "cell_type": "code",
   "execution_count": null,
   "metadata": {},
   "outputs": [],
   "source": [
    "features = ['CD8|CD8A', 'CD4|CD4', 'CD45RO|PTPRC', 'CD45RA|PTPRC',\n",
    "           'TRDC', 'FOXP3', 'CCR4', 'CD69|CD69',\n",
    "           'CD185|CXCR5', 'CD62L|SELL','CXCR3','CCR6',\n",
    "           'CD26|DPP4', 'CCR7', 'CCL5', 'CD103|ITGAE']"
   ]
  },
  {
   "cell_type": "code",
   "execution_count": null,
   "metadata": {},
   "outputs": [],
   "source": [
    "fig, ax = plt.subplots(4,4,figsize=(25,24))\n",
    "for ax, f in zip(np.ravel(ax), features):\n",
    "    ax.set_facecolor('black')\n",
    "    sc.pl.umap(br_t, color=f, ax=ax,show=False, return_fig=False, size=5, use_raw=True)\n",
    "plt.tight_layout()"
   ]
  },
  {
   "cell_type": "code",
   "execution_count": null,
   "metadata": {},
   "outputs": [],
   "source": [
    "fig, ax = plt.subplots(1, 2, figsize=(20,10))\n",
    "for color, ax, palette in zip(['cond', 'leiden'], ax, [None, sc.pl.palettes.default_20]):\n",
    "    ax.set_facecolor('black')\n",
    "    sc.pl.umap(br_t,color=color, ax=ax, show=False, return_fig=False, size=10, palette=palette)"
   ]
  },
  {
   "cell_type": "code",
   "execution_count": null,
   "metadata": {},
   "outputs": [],
   "source": [
    "path = prefix + 'pkls/aggr/br_t/br_t.2.pkl'\n",
    "\n",
    "# with open(path,'wb') as file:\n",
    "#     pkl.dump(br_t, file, protocol=4)\n",
    "    \n",
    "with open(path,'rb') as file:\n",
    "    br_t = pkl.load(file)"
   ]
  },
  {
   "cell_type": "markdown",
   "metadata": {},
   "source": [
    "# Explore Differential Gene Expression"
   ]
  },
  {
   "cell_type": "markdown",
   "metadata": {},
   "source": [
    "## Rank Genes"
   ]
  },
  {
   "cell_type": "code",
   "execution_count": null,
   "metadata": {},
   "outputs": [],
   "source": [
    "sc.settings.verbosity = 0\n",
    "warnings.filterwarnings('ignore')\n",
    "sc.tl.rank_genes_groups(br_t, groupby='leiden', n_genes=100, use_raw=True)\n",
    "warnings.filterwarnings('default')\n",
    "sc.pl.rank_genes_groups(br_t, ncols=5, n_genes=20)\n",
    "sc.settings.verbosity = 4"
   ]
  },
  {
   "cell_type": "code",
   "execution_count": null,
   "metadata": {},
   "outputs": [],
   "source": [
    "sc.settings.verbosity = 0\n",
    "warnings.filterwarnings('ignore')\n",
    "sc.tl.rank_genes_groups(br_t, groupby='leiden', n_genes=100, groups=['14'], reference='5', use_raw=True)\n",
    "warnings.filterwarnings('default')\n",
    "sc.pl.rank_genes_groups(br_t, ncols=5, n_genes=20)\n",
    "sc.settings.verbosity = 4"
   ]
  },
  {
   "cell_type": "markdown",
   "metadata": {},
   "source": [
    "## Grouped Rank\n",
    "\n",
    "Here's a function to group different clusters together to observe their combined differential expression to other clusters."
   ]
  },
  {
   "cell_type": "code",
   "execution_count": null,
   "metadata": {},
   "outputs": [],
   "source": [
    "def grouped_rank(adata, groups, return_genes=True, size=5, n_genes=20, figsize=(5,5)):\n",
    "\n",
    "    assert len(groups) == 2\n",
    "    for i in range(2):\n",
    "        groups[i] = np.array(groups[i]).astype(str)\n",
    "        \n",
    "    grouped_clusts = [i for j in groups for i in j]\n",
    "    numclusts = np.unique(adata.obs['leiden'].values)\n",
    "    groups.append(np.setdiff1d(numclusts, grouped_clusts).astype('<U21'))\n",
    "    fig, axes = plt.subplots(1, 2, figsize=(9, 4))\n",
    "    for clusts, title, ax in zip(groups, ['0','1'], axes):\n",
    "        adata.obs['val'] = adata.obs['leiden'].isin(clusts).values\n",
    "        ax.set_facecolor('black')\n",
    "        sc.pl.umap(adata,color='val', ax=ax, size=size, show=False, return_fig=False, title=title)\n",
    "    adata.obs.drop(columns='val', inplace=True)\n",
    "\n",
    "    adata.obs['rank_compare'] = adata.obs['leiden'].copy()\n",
    "    groups_dict = dict(zip(range(3), groups))\n",
    "    for group in groups_dict:\n",
    "        for clust in groups_dict[group]:\n",
    "            adata.obs['rank_compare'].replace(clust, 'ct%s' % group, regex=True, inplace=True)\n",
    "    adata.obs['rank_compare'] = adata.obs['rank_compare'].str.replace('ct','').astype('category')\n",
    "    \n",
    "    fig, ax = plt.subplots(1, 1, figsize=figsize)\n",
    "    sc.settings.verbosity = 0\n",
    "    for ax in np.ravel(ax):\n",
    "        rank_adata = adata.copy()\n",
    "        sc.tl.rank_genes_groups(rank_adata, groupby='rank_compare', n_genes=n_genes, groups=['0'], reference='1', use_raw=True)\n",
    "        y = range(n_genes)[::-1]\n",
    "        x = [i[0] for i in rank_adata.uns['rank_genes_groups']['scores'].tolist()][:n_genes]\n",
    "        genes = [i[0] for i in rank_adata.uns['rank_genes_groups']['names'].tolist()]\n",
    "        txts = genes[:n_genes]\n",
    "        ax.scatter(x, y, s=0)\n",
    "        for i, txt in enumerate(txts):\n",
    "            ax.annotate(txt, (x[i], y[i]), rotation=0, size=10)\n",
    "        ax.set_yticklabels([])\n",
    "        ax.set_title('0 vs 1')\n",
    "    sc.settings.verbosity = 4\n",
    "    adata.obs.drop(columns='rank_compare', inplace=True)\n",
    "    if return_genes == True:\n",
    "        return genes\n",
    "    else:\n",
    "        return "
   ]
  },
  {
   "cell_type": "code",
   "execution_count": null,
   "metadata": {},
   "outputs": [],
   "source": [
    "g1 = [4]\n",
    "g2 = [i for i in range(20) if i not in g1]"
   ]
  },
  {
   "cell_type": "code",
   "execution_count": null,
   "metadata": {},
   "outputs": [],
   "source": [
    "g1 = [str(i) for i in g1]\n",
    "g2 = [str(i) for i in g2]"
   ]
  },
  {
   "cell_type": "code",
   "execution_count": null,
   "metadata": {},
   "outputs": [],
   "source": [
    "genes = grouped_rank(br_t,groups=[g1, g2], size=5, n_genes=20, figsize=(5,5))"
   ]
  },
  {
   "cell_type": "markdown",
   "metadata": {},
   "source": [
    "### Low-Count Differential Expression\n",
    "\n",
    "I've noticed the default `rank_genes_groups` seems to be biased to very high expressing genes, when sometimes the gene is very specifically expressed in one population but at very low counts. The score is supposed to be based on significance (which should account for the specificity), but a lot of the time its just genes that are expressed everywhere but slightly higher. Here, I write a function to generate a dataframe where at least _p_ percent of cells are expressing the genes (> 0 counts), and compare this percentage to all other clusters to see which genes are being expressed specifically, allbeit lowly, in a specific population."
   ]
  },
  {
   "cell_type": "code",
   "execution_count": null,
   "metadata": {},
   "outputs": [],
   "source": [
    "def low_de_make(adata, p=0.2, p_of='any'):\n",
    "    '''\n",
    "    adata = adata object with a raw attribute\n",
    "    p = percentage of cells that should be expressing a gene for it to be reported\n",
    "    p_of = when subsetting genes to report, at least p percent of cells in ANY cluster ('any') \\n\n",
    "    should be expressing the gene, or only in the provided cluster\n",
    "    '''\n",
    "    X = adata.raw.X.copy()\n",
    "    clusts = adata.obs['leiden'].dtype.categories\n",
    "    df = pd.DataFrame(0,index=clusts, columns=adata.raw.var_names.values,dtype=np.float16)\n",
    "    for clust in clusts:\n",
    "        clustbool = (adata.obs['leiden'] == clust).values\n",
    "        clustX = X[clustbool]\n",
    "        clustX = clustX.tocsc()\n",
    "        df.loc[clust] = clustX.getnnz(axis=0)/clustX.shape[0]\n",
    "    if p_of == 'any':\n",
    "        df = df.iloc[:,df.apply(lambda x: np.any(x > p), axis=0, raw=True).values]\n",
    "    else:\n",
    "        df = df.iloc[:,(df.loc[p_of] > p).values]\n",
    "    return df\n",
    "\n",
    "def low_de_compare(df, clust, compare=None):\n",
    "    if type(compare) == type(None): \n",
    "        return (df.loc[clust]/df[~(df.index == clust)].mean()).sort_values(ascending=False)\n",
    "    elif type(compare) == list:\n",
    "        return (df.loc[clust]/df[(df.index.isin(compare))].mean()).sort_values(ascending=False)"
   ]
  },
  {
   "cell_type": "code",
   "execution_count": null,
   "metadata": {},
   "outputs": [],
   "source": [
    "df = low_de_make(br_t, p=0.1, p_of=g1[0])"
   ]
  },
  {
   "cell_type": "code",
   "execution_count": null,
   "metadata": {},
   "outputs": [],
   "source": [
    "de_genes = low_de_compare(df, g1[0], compare=g2)"
   ]
  },
  {
   "cell_type": "code",
   "execution_count": null,
   "metadata": {},
   "outputs": [],
   "source": [
    "print(de_genes[:10])"
   ]
  },
  {
   "cell_type": "markdown",
   "metadata": {},
   "source": [
    "# Gene Visualization"
   ]
  },
  {
   "cell_type": "markdown",
   "metadata": {},
   "source": [
    "### Check Gene Names"
   ]
  },
  {
   "cell_type": "code",
   "execution_count": null,
   "metadata": {},
   "outputs": [],
   "source": [
    "raw_transcripts = br_t.raw.var_names\n",
    "transcripts = br_t.var_names\n",
    "proteins = [i for i in br_t.obs.columns if '|' in i]"
   ]
  },
  {
   "cell_type": "code",
   "execution_count": null,
   "metadata": {},
   "outputs": [],
   "source": [
    "name = 'CCL25'\n",
    "print([i for i in proteins if name in i])\n",
    "print([i for i in transcripts if name in i])\n",
    "print([i for i in raw_transcripts if name in i])"
   ]
  },
  {
   "cell_type": "code",
   "execution_count": null,
   "metadata": {},
   "outputs": [],
   "source": [
    "proteins.index('CD3|CD3E') \n",
    "# proteins.index('CD94|KLRD1')"
   ]
  },
  {
   "cell_type": "markdown",
   "metadata": {},
   "source": [
    "### Proteins"
   ]
  },
  {
   "cell_type": "code",
   "execution_count": null,
   "metadata": {},
   "outputs": [],
   "source": [
    "fig, ax = plt.subplots(12,8,figsize=(30,40))\n",
    "for p, ax in tqdm(zip(proteins, np.ravel(ax))):\n",
    "    ax.set_facecolor('black')\n",
    "    sc.pl.umap(br_t, color=p, size=8, ncols=8, ax=ax, show=False, return_fig=False)\n",
    "plt.tight_layout()"
   ]
  },
  {
   "cell_type": "code",
   "execution_count": null,
   "metadata": {},
   "outputs": [],
   "source": [
    "fig, ax = plt.subplots(1, 4, figsize=(20,4.25))\n",
    "for color, ax, palette in zip(['CD4|CD4', 'CD8|CD8A','CD3|CD3E', 'leiden'], ax, [None, None, None, sc.pl.palettes.default_20]):\n",
    "    ax.set_facecolor('black')\n",
    "    sc.pl.umap(br_t,color=color, ax=ax, show=False, return_fig=False, size=5, palette=palette)"
   ]
  },
  {
   "cell_type": "markdown",
   "metadata": {},
   "source": [
    "# Single Gene Plotter"
   ]
  },
  {
   "cell_type": "code",
   "execution_count": null,
   "metadata": {},
   "outputs": [],
   "source": [
    "f = ['CD45RO|PTPRC']"
   ]
  },
  {
   "cell_type": "code",
   "execution_count": null,
   "metadata": {},
   "outputs": [],
   "source": [
    "fig, ax = plt.subplots(1,1,figsize=(5,5))\n",
    "ax.set_facecolor('black')\n",
    "sc.pl.umap(br_t, color=f, ax=ax,show=False, return_fig=False, size=5, use_raw=True);"
   ]
  },
  {
   "cell_type": "code",
   "execution_count": null,
   "metadata": {},
   "outputs": [],
   "source": [
    "cts = pd.read_csv(prefix + 'ct.tsvs/acg.t.tsv', sep='\\t', dtype='|S').set_index('cluster')"
   ]
  },
  {
   "cell_type": "code",
   "execution_count": null,
   "metadata": {},
   "outputs": [],
   "source": [
    "s = pd.Series(acg_t.obs['leiden'].values)"
   ]
  },
  {
   "cell_type": "code",
   "execution_count": null,
   "metadata": {},
   "outputs": [],
   "source": [
    "for ct in cts.columns:\n",
    "    acg_t.obs[ct] = s.map(dict(cts[ct])).values"
   ]
  },
  {
   "cell_type": "code",
   "execution_count": null,
   "metadata": {},
   "outputs": [],
   "source": [
    "fig, ax = plt.subplots(1,1,figsize=(6, 5))\n",
    "for ax, f in zip(np.ravel(ax), ['ct2']):\n",
    "    ax.set_facecolor('whitesmoke')\n",
    "    sc.pl.umap(acg_t, color=f, ax=ax,show=False, return_fig=False, size=3)\n",
    "plt.tight_layout()"
   ]
  },
  {
   "cell_type": "code",
   "execution_count": null,
   "metadata": {},
   "outputs": [],
   "source": [
    "cts['ct2']"
   ]
  },
  {
   "cell_type": "code",
   "execution_count": null,
   "metadata": {},
   "outputs": [],
   "source": []
  }
 ],
 "metadata": {
  "kernelspec": {
   "display_name": "codec",
   "language": "python",
   "name": "codec"
  },
  "language_info": {
   "codemirror_mode": {
    "name": "ipython",
    "version": 3
   },
   "file_extension": ".py",
   "mimetype": "text/x-python",
   "name": "python",
   "nbconvert_exporter": "python",
   "pygments_lexer": "ipython3",
   "version": "3.6.7"
  }
 },
 "nbformat": 4,
 "nbformat_minor": 4
}
