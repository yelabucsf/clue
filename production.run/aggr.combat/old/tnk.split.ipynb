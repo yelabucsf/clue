{
 "cells": [
  {
   "cell_type": "code",
   "execution_count": null,
   "metadata": {},
   "outputs": [],
   "source": [
    "import scanpy as sc\n",
    "import pandas as pd \n",
    "import numpy as np\n",
    "import matplotlib.pyplot as plt\n",
    "from tqdm.notebook import tqdm\n",
    "import warnings\n",
    "import itertools as it\n",
    "import json\n",
    "import requests\n",
    "import seaborn as sns\n",
    "import pickle as pkl\n",
    "from functools import reduce\n",
    "\n",
    "import matplotlib as mpl\n",
    "import matplotlib.patches as patches\n",
    "from matplotlib.gridspec import GridSpec\n",
    "from shapely.geometry import Point\n",
    "from shapely.geometry.polygon import Polygon"
   ]
  },
  {
   "cell_type": "code",
   "execution_count": null,
   "metadata": {},
   "outputs": [],
   "source": [
    "sc.settings.verbosity = 4\n",
    "sc.settings.set_figure_params(dpi=80)\n",
    "print(sc.__version__)\n",
    "sc.settings.n_jobs=12"
   ]
  },
  {
   "cell_type": "code",
   "execution_count": null,
   "metadata": {},
   "outputs": [],
   "source": [
    "prefix = '/data/codec/production.run/mrna/'"
   ]
  },
  {
   "cell_type": "code",
   "execution_count": null,
   "metadata": {},
   "outputs": [],
   "source": [
    "path = prefix + 'pkls/aggr/tnk.2.pkl'\n",
    "\n",
    "# with open(path,'wb') as file:\n",
    "#     pkl.dump(tnk, file, protocol=4)\n",
    "\n",
    "with open(path,'rb') as file:\n",
    "    tnk = pkl.load(file)"
   ]
  },
  {
   "cell_type": "code",
   "execution_count": null,
   "metadata": {},
   "outputs": [],
   "source": [
    "fig, ax = plt.subplots(1, 2, figsize=(20,10))\n",
    "for color, ax, palette in zip(['cond', 'leiden'], ax, [None, sc.pl.palettes.default_20]):\n",
    "    sc.pl.umap(tnk,color=color, ax=ax, show=False, return_fig=False, size=2, palette=palette)"
   ]
  },
  {
   "cell_type": "code",
   "execution_count": null,
   "metadata": {},
   "outputs": [],
   "source": [
    "clusts = [6, 10]"
   ]
  },
  {
   "cell_type": "code",
   "execution_count": null,
   "metadata": {},
   "outputs": [],
   "source": [
    "sub_tnk = dict()\n",
    "for clust in clusts:\n",
    "    sub_tnk[str(clust)] = tnk[tnk.obs['leiden'] == str(clust)].copy()"
   ]
  },
  {
   "cell_type": "code",
   "execution_count": null,
   "metadata": {},
   "outputs": [],
   "source": [
    "sc.tl.leiden(sub_tnk['6'], resolution=0.1) # subcluster them using Leiden\n",
    "sc.pl.umap(sub_tnk['6'],color='leiden', size=0.6)"
   ]
  },
  {
   "cell_type": "code",
   "execution_count": null,
   "metadata": {},
   "outputs": [],
   "source": [
    "sc.tl.leiden(sub_tnk['10'], resolution=0.2) # subcluster them using Leiden\n",
    "sc.pl.umap(sub_tnk['10'],color='leiden', size=0.6)"
   ]
  },
  {
   "cell_type": "code",
   "execution_count": null,
   "metadata": {},
   "outputs": [],
   "source": [
    "groupings = [[0, 2],\n",
    "             ]\n",
    "grouped_clusts = [i for j in groupings for i in j]\n",
    "numclusts = np.unique(sub_tnk['10'].obs['leiden'].values.astype(int))\n",
    "for i in np.setdiff1d(numclusts, grouped_clusts):\n",
    "    groupings.append([i])"
   ]
  },
  {
   "cell_type": "code",
   "execution_count": null,
   "metadata": {},
   "outputs": [],
   "source": [
    "ctdict = dict()\n",
    "for i in range(len(groupings)):\n",
    "    ctdict['ct%s' % str(i)] = groupings[i]\n",
    "\n",
    "sub_tnk['10'].obs['celltype'] = sub_tnk['10'].obs['leiden']\n",
    "for ct in ctdict:\n",
    "    for clust in ctdict[ct]:\n",
    "        sub_tnk['10'].obs['celltype'].replace(str(clust), ct, regex=True, inplace=True)\n",
    "sub_tnk['10'].obs['leiden'] = [i.strip('ct') for i in sub_tnk['10'].obs['celltype'].astype('category')]"
   ]
  },
  {
   "cell_type": "code",
   "execution_count": null,
   "metadata": {},
   "outputs": [],
   "source": [
    "sc.pl.umap(sub_tnk['10'],color=['leiden'], size=3)"
   ]
  },
  {
   "cell_type": "code",
   "execution_count": null,
   "metadata": {},
   "outputs": [],
   "source": [
    "def sub_cluster_mapper(adata, sub_adatas):\n",
    "    '''\n",
    "    This takes in the adata object and inserts a new leiden column in the `.obs`. \n",
    "    \n",
    "    This function is really convoluted and there's probably a better, simpler way to do it,\n",
    "    but it should theoretically work for any number of subclusters\n",
    "    '''\n",
    "    # ideally you'd make a copy of the adata object here, so we don't have to change the original\n",
    "    # this would be in case we want to run it multiple times, perhaps the resolutions we put in didn't subset the clusters like we had hoped\n",
    "    # and we need to run multiple times to adjust the resolution slightly\n",
    "    \n",
    "    # this block is to figure out that there are two new subclusters and they should be named 8, 9\n",
    "    total_new_clusts = 0\n",
    "    old_clusts = sub_adatas.keys()\n",
    "    for sub_adata in sub_adatas:\n",
    "        total_new_clusts += sub_adatas[sub_adata].obs['leiden'].astype(int).unique().max() + 1\n",
    "    total_added_clusts = total_new_clusts - len(sub_adatas)\n",
    "    new_clust_names_start = max(adata.obs['leiden'].astype(int))+1\n",
    "    new_added_clust_names = [str(i) for i in range(new_clust_names_start,\n",
    "                                                   new_clust_names_start + total_added_clusts)]\n",
    "    \n",
    "    # this block is to build a new list of leiden clusters from the old one \n",
    "    new_leiden = list()\n",
    "    leiden_col = adata.obs['leiden'].copy()\n",
    "\n",
    "    # this builds the new leiden cluster list, now adding a .1, .2, etc. to each new cluster\n",
    "    for obs in leiden_col.index:\n",
    "        clust_name = leiden_col.loc[obs]\n",
    "        if clust_name not in old_clusts or sub_adatas[clust_name].obs.loc[obs, 'leiden'] == '0':\n",
    "            new_leiden.append(clust_name)\n",
    "        else:\n",
    "            new_leiden.append(clust_name + '.%s' % sub_adatas[clust_name].obs.loc[obs,'leiden'])\n",
    "\n",
    "    # this renames the .1, .2, etc clusters to the new, better names I came up with above (8 and 9)\n",
    "    new_leiden = pd.Series(new_leiden, index=adata.obs_names)\n",
    "    added_clusts = np.setdiff1d(new_leiden,adata.obs['leiden'])\n",
    "    new_leiden.replace(dict(zip(added_clusts, new_added_clust_names)), inplace=True)\n",
    "    \n",
    "    # replace the old leiden column, must do these steps sequentially \n",
    "    adata.obs['leiden'] = new_leiden.astype(int) # to order the clusters by number\n",
    "    adata.obs['leiden'] = new_leiden.astype(str) # to convert to string as normal\n",
    "#     adata.obs['leiden'] = new_leiden.astype('category') # don't do this, it messes things up, just let scanpy do it as it plots\n",
    "    return adata"
   ]
  },
  {
   "cell_type": "code",
   "execution_count": null,
   "metadata": {},
   "outputs": [],
   "source": [
    "tnk = sub_cluster_mapper(tnk, sub_tnk)"
   ]
  },
  {
   "cell_type": "code",
   "execution_count": null,
   "metadata": {},
   "outputs": [],
   "source": [
    "sc.pl.umap(tnk,color=['cond', 'leiden'], size=3)"
   ]
  },
  {
   "cell_type": "code",
   "execution_count": null,
   "metadata": {},
   "outputs": [],
   "source": [
    "groupings = [[1, 3, 4, 7, 8, 11],\n",
    "             [0, 5, 9],\n",
    "             [2, 10]\n",
    "             ]\n",
    "grouped_clusts = [i for j in groupings for i in j]\n",
    "numclusts = np.unique(tnk.obs['leiden'].values.astype(int))\n",
    "for i in np.setdiff1d(numclusts, grouped_clusts):\n",
    "    groupings.append([i])"
   ]
  },
  {
   "cell_type": "code",
   "execution_count": null,
   "metadata": {},
   "outputs": [],
   "source": [
    "ctdict = dict()\n",
    "for i in range(len(groupings)):\n",
    "    ctdict['ct%s' % str(i)] = groupings[i]\n",
    "\n",
    "tnk.obs['celltype'] = tnk.obs['leiden']\n",
    "for ct in ctdict:\n",
    "    for clust in ctdict[ct]:\n",
    "        tnk.obs['celltype'].replace(str(clust), ct, regex=True, inplace=True)\n",
    "tnk.obs['leiden'] = [i.strip('ct') for i in tnk.obs['celltype'].astype('category')]"
   ]
  },
  {
   "cell_type": "code",
   "execution_count": null,
   "metadata": {},
   "outputs": [],
   "source": [
    "sc.pl.umap(tnk, color=['leiden', 'CD3|CD3E','CD4|CD4','CD8|CD8A','CD56|NCAM1','CD16|FCGR3A'], size=3)"
   ]
  },
  {
   "cell_type": "code",
   "execution_count": null,
   "metadata": {},
   "outputs": [],
   "source": [
    "sc.settings.verbosity = 0 \n",
    "warnings.filterwarnings('ignore')\n",
    "sc.tl.rank_genes_groups(tnk, groupby='leiden', n_genes=20, groups=['4','5'])\n",
    "warnings.filterwarnings('default')\n",
    "sc.pl.rank_genes_groups(tnk, ncols=5, n_genes=20)\n",
    "sc.settings.verbosity = 4"
   ]
  },
  {
   "cell_type": "markdown",
   "metadata": {},
   "source": [
    "Cluster 4 is probably B/T multiplets and 5 is probably T/M multiplets."
   ]
  },
  {
   "cell_type": "code",
   "execution_count": null,
   "metadata": {},
   "outputs": [],
   "source": [
    "for ct, clust in zip(['acg.t','br.t','p.t','acg.nk','p.nk','br.nk'],\n",
    "                     [0, 1, 2, 3, 6, 7]\n",
    "                    ):\n",
    "    path = prefix + 'obs/cts/%s.txt' % ct\n",
    "\n",
    "    with open(path,'w') as file:\n",
    "        for bc in tnk.obs.index[tnk.obs['leiden'] == str(clust)]:\n",
    "            file.write(bc + '\\n')"
   ]
  },
  {
   "cell_type": "markdown",
   "metadata": {},
   "source": [
    "# DELETE THE REST AFTER I'VE CONFIRMED I DON'T NEED ANYTHING FROM IT"
   ]
  },
  {
   "cell_type": "code",
   "execution_count": null,
   "metadata": {},
   "outputs": [],
   "source": [
    "acg_t = tnk[tnk.obs['leiden'] == '0'].copy()\n",
    "# acg_nk = tnk[tnk.obs['leiden'] == '3'].copy()\n",
    "# br_t = tnk[tnk.obs['leiden'] == '1'].copy()\n",
    "# br_nk = tnk[tnk.obs['leiden'] == '7'].copy()\n",
    "# p_t = tnk[tnk.obs['leiden'] == '2'].copy()\n",
    "# p_nk = tnk[tnk.obs['leiden'] == '6'].copy()"
   ]
  },
  {
   "cell_type": "code",
   "execution_count": null,
   "metadata": {},
   "outputs": [],
   "source": []
  },
  {
   "cell_type": "markdown",
   "metadata": {},
   "source": [
    "# Cell Type Split"
   ]
  },
  {
   "cell_type": "code",
   "execution_count": null,
   "metadata": {},
   "outputs": [],
   "source": [
    "total_pcs = 75"
   ]
  },
  {
   "cell_type": "code",
   "execution_count": null,
   "metadata": {},
   "outputs": [],
   "source": [
    "warnings.filterwarnings('ignore')\n",
    "sc.settings.n_jobs = 12\n",
    "sc.pp.pca(acg_t,n_comps=total_pcs)\n",
    "warnings.filterwarnings('default')"
   ]
  },
  {
   "cell_type": "code",
   "execution_count": null,
   "metadata": {},
   "outputs": [],
   "source": [
    "sc.pl.pca_variance_ratio(acg_t,log=True, n_pcs=total_pcs)"
   ]
  },
  {
   "cell_type": "code",
   "execution_count": null,
   "metadata": {},
   "outputs": [],
   "source": [
    "df_loadings = pd.DataFrame(acg_t.varm['PCs'], index=acg_t.var_names)\n",
    "df_rankings = pd.DataFrame((-1 * df_loadings.values).argsort(0).argsort(0), index=df_loadings.index, columns=df_loadings.columns)"
   ]
  },
  {
   "cell_type": "code",
   "execution_count": null,
   "metadata": {},
   "outputs": [],
   "source": [
    "num = 50\n",
    "percent_ribos = list()\n",
    "for pc in range(total_pcs):\n",
    "    top_genes = df_loadings[pc].sort_values(ascending=True)[:num].index\n",
    "    percent_ribos.append(len([i for i in top_genes if i.startswith('RP')])/num)"
   ]
  },
  {
   "cell_type": "code",
   "execution_count": null,
   "metadata": {},
   "outputs": [],
   "source": [
    "plt.bar(range(len(percent_ribos)), percent_ribos);"
   ]
  },
  {
   "cell_type": "code",
   "execution_count": null,
   "metadata": {},
   "outputs": [],
   "source": [
    "acg_t.obs['ribo_pc'] = acg_t.obsm['X_pca'][:,0]"
   ]
  },
  {
   "cell_type": "code",
   "execution_count": null,
   "metadata": {},
   "outputs": [],
   "source": [
    "warnings.filterwarnings('ignore')\n",
    "sc.pp.regress_out(acg_t, 'ribo_pc', n_jobs=1)\n",
    "warnings.filterwarnings('default')"
   ]
  },
  {
   "cell_type": "code",
   "execution_count": null,
   "metadata": {},
   "outputs": [],
   "source": [
    "total_pcs = 75"
   ]
  },
  {
   "cell_type": "code",
   "execution_count": null,
   "metadata": {},
   "outputs": [],
   "source": [
    "warnings.filterwarnings('ignore')\n",
    "sc.settings.n_jobs = 12\n",
    "sc.pp.pca(acg_t,n_comps=total_pcs)\n",
    "warnings.filterwarnings('default')"
   ]
  },
  {
   "cell_type": "code",
   "execution_count": null,
   "metadata": {},
   "outputs": [],
   "source": [
    "sc.pl.pca_variance_ratio(acg_t,log=True, n_pcs=total_pcs)"
   ]
  },
  {
   "cell_type": "code",
   "execution_count": null,
   "metadata": {},
   "outputs": [],
   "source": [
    "df_loadings = pd.DataFrame(acg_t.varm['PCs'], index=acg_t.var_names)\n",
    "df_rankings = pd.DataFrame((-1 * df_loadings.values).argsort(0).argsort(0), index=df_loadings.index, columns=df_loadings.columns)"
   ]
  },
  {
   "cell_type": "code",
   "execution_count": null,
   "metadata": {},
   "outputs": [],
   "source": [
    "num = 50\n",
    "percent_ribos = list()\n",
    "for pc in range(total_pcs):\n",
    "    top_genes = df_loadings[pc].sort_values(ascending=True)[:num].index\n",
    "    percent_ribos.append(len([i for i in top_genes if i.startswith('RP')])/num)"
   ]
  },
  {
   "cell_type": "code",
   "execution_count": null,
   "metadata": {},
   "outputs": [],
   "source": [
    "plt.bar(range(len(percent_ribos)), percent_ribos);"
   ]
  },
  {
   "cell_type": "code",
   "execution_count": null,
   "metadata": {},
   "outputs": [],
   "source": [
    "warnings.filterwarnings('ignore')\n",
    "sc.pp.neighbors(acg_t, n_neighbors=15, n_pcs=40)\n",
    "warnings.filterwarnings('default')"
   ]
  },
  {
   "cell_type": "code",
   "execution_count": null,
   "metadata": {},
   "outputs": [],
   "source": [
    "sc.tl.umap(acg_t)"
   ]
  },
  {
   "cell_type": "code",
   "execution_count": null,
   "metadata": {},
   "outputs": [],
   "source": [
    "sc.tl.leiden(acg_t, resolution=0.5)"
   ]
  },
  {
   "cell_type": "code",
   "execution_count": null,
   "metadata": {},
   "outputs": [],
   "source": [
    "fig, ax = plt.subplots(1, 2, figsize=(20,10))\n",
    "for color, ax, palette in zip(['cond', 'leiden'], ax, [None, sc.pl.palettes.default_20]):\n",
    "    sc.pl.umap(acg_t,color=color, ax=ax, show=False, return_fig=False, size=4, palette=palette)"
   ]
  },
  {
   "cell_type": "code",
   "execution_count": null,
   "metadata": {},
   "outputs": [],
   "source": [
    "sc.settings.verbosity = 0\n",
    "warnings.filterwarnings('ignore')\n",
    "sc.tl.rank_genes_groups(acg_t, groupby='leiden', n_genes=20)\n",
    "warnings.filterwarnings('default')\n",
    "sc.pl.rank_genes_groups(acg_t, ncols=5, n_genes=20)\n",
    "sc.settings.verbosity = 4"
   ]
  },
  {
   "cell_type": "code",
   "execution_count": null,
   "metadata": {},
   "outputs": [],
   "source": [
    "fig, ax = plt.subplots(2,4, figsize=(30,15))\n",
    "for val, ax in tqdm(zip(acg_t.obs['leiden'].dtype.categories, np.ravel(ax))):\n",
    "    acg_t.obs['val'] = acg_t.obs['leiden'] == val\n",
    "    ax.set_facecolor('black')\n",
    "    sc.pl.umap(acg_t,color='val', ax=ax, show=False, return_fig=False, title=val)\n",
    "    acg_t.obs.drop(columns='val', inplace=True)\n",
    "plt.tight_layout()"
   ]
  },
  {
   "cell_type": "code",
   "execution_count": null,
   "metadata": {},
   "outputs": [],
   "source": [
    "clusts = [1, 2, 3, 4, 5, 6, 7]"
   ]
  },
  {
   "cell_type": "code",
   "execution_count": null,
   "metadata": {},
   "outputs": [],
   "source": [
    "sub_acgt = dict()\n",
    "for clust in clusts:\n",
    "    sub_acgt[str(clust)] = acg_t[acg_t.obs['leiden'] == str(clust)].copy()"
   ]
  },
  {
   "cell_type": "code",
   "execution_count": null,
   "metadata": {},
   "outputs": [],
   "source": [
    "sc.tl.leiden(sub_acgt['1'], resolution=0.7) # subcluster them using Leiden\n",
    "sc.pl.umap(sub_acgt['1'],color='leiden', size=3)"
   ]
  },
  {
   "cell_type": "code",
   "execution_count": null,
   "metadata": {},
   "outputs": [],
   "source": [
    "groupings = [[2, 4],\n",
    "            ]\n",
    "grouped_clusts = [i for j in groupings for i in j]\n",
    "numclusts = np.unique(sub_acgt['1'].obs['leiden'].values.astype(int))\n",
    "for i in np.setdiff1d(numclusts, grouped_clusts):\n",
    "    groupings.append([i])"
   ]
  },
  {
   "cell_type": "code",
   "execution_count": null,
   "metadata": {},
   "outputs": [],
   "source": [
    "ctdict = dict()\n",
    "for i in range(len(groupings)):\n",
    "    ctdict['ct%s' % str(i)] = groupings[i]\n",
    "\n",
    "sub_acgt['1'].obs['celltype'] = sub_acgt['1'].obs['leiden']\n",
    "for ct in ctdict:\n",
    "    for clust in ctdict[ct]:\n",
    "        sub_acgt['1'].obs['celltype'].replace(str(clust), ct, regex=True, inplace=True)\n",
    "sub_acgt['1'].obs['leiden'] = [i.strip('ct') for i in sub_acgt['1'].obs['celltype'].astype('category')]"
   ]
  },
  {
   "cell_type": "code",
   "execution_count": null,
   "metadata": {},
   "outputs": [],
   "source": [
    "sc.pl.umap(sub_acgt['1'],color='leiden', size=5)"
   ]
  },
  {
   "cell_type": "code",
   "execution_count": null,
   "metadata": {},
   "outputs": [],
   "source": [
    "sc.tl.leiden(sub_acgt['2'], resolution=0.2) # subcluster them using Leiden\n",
    "sc.pl.umap(sub_acgt['2'],color='leiden', size=5)"
   ]
  },
  {
   "cell_type": "code",
   "execution_count": null,
   "metadata": {},
   "outputs": [],
   "source": [
    "sc.tl.leiden(sub_acgt['3'], resolution=0.3) # subcluster them using Leiden\n",
    "sc.pl.umap(sub_acgt['3'],color='leiden', size=5)"
   ]
  },
  {
   "cell_type": "code",
   "execution_count": null,
   "metadata": {},
   "outputs": [],
   "source": [
    "sc.tl.leiden(sub_acgt['4'], resolution=0.3) # subcluster them using Leiden\n",
    "sc.pl.umap(sub_acgt['4'],color='leiden', size=5)"
   ]
  },
  {
   "cell_type": "code",
   "execution_count": null,
   "metadata": {},
   "outputs": [],
   "source": [
    "sc.tl.leiden(sub_acgt['5'], resolution=0.3) # subcluster them using Leiden\n",
    "sc.pl.umap(sub_acgt['5'],color='leiden', size=5)"
   ]
  },
  {
   "cell_type": "code",
   "execution_count": null,
   "metadata": {},
   "outputs": [],
   "source": [
    "sc.tl.leiden(sub_acgt['6'], resolution=0.3) # subcluster them using Leiden\n",
    "sc.pl.umap(sub_acgt['6'],color='leiden', size=5)"
   ]
  },
  {
   "cell_type": "code",
   "execution_count": null,
   "metadata": {},
   "outputs": [],
   "source": [
    "sc.tl.leiden(sub_acgt['7'], resolution=0.3) # subcluster them using Leiden\n",
    "sc.pl.umap(sub_acgt['7'],color='leiden', size=5)"
   ]
  },
  {
   "cell_type": "code",
   "execution_count": null,
   "metadata": {},
   "outputs": [],
   "source": [
    "def sub_cluster_mapper(adata, sub_adatas):\n",
    "    '''\n",
    "    This takes in the adata object and inserts a new leiden column in the `.obs`. \n",
    "    \n",
    "    This function is really convoluted and there's probably a better, simpler way to do it,\n",
    "    but it should theoretically work for any number of subclusters\n",
    "    '''\n",
    "    # ideally you'd make a copy of the adata object here, so we don't have to change the original\n",
    "    # this would be in case we want to run it multiple times, perhaps the resolutions we put in didn't subset the clusters like we had hoped\n",
    "    # and we need to run multiple times to adjust the resolution slightly\n",
    "    \n",
    "    # this block is to figure out that there are two new subclusters and they should be named 8, 9\n",
    "    total_new_clusts = 0\n",
    "    old_clusts = sub_adatas.keys()\n",
    "    for sub_adata in sub_adatas:\n",
    "        total_new_clusts += sub_adatas[sub_adata].obs['leiden'].astype(int).unique().max() + 1\n",
    "    total_added_clusts = total_new_clusts - len(sub_adatas)\n",
    "    new_clust_names_start = max(adata.obs['leiden'].astype(int))+1\n",
    "    new_added_clust_names = [str(i) for i in range(new_clust_names_start,\n",
    "                                                   new_clust_names_start + total_added_clusts)]\n",
    "    \n",
    "    # this block is to build a new list of leiden clusters from the old one \n",
    "    new_leiden = list()\n",
    "    leiden_col = adata.obs['leiden'].copy()\n",
    "\n",
    "    # this builds the new leiden cluster list, now adding a .1, .2, etc. to each new cluster\n",
    "    for obs in leiden_col.index:\n",
    "        clust_name = leiden_col.loc[obs]\n",
    "        if clust_name not in old_clusts or sub_adatas[clust_name].obs.loc[obs, 'leiden'] == '0':\n",
    "            new_leiden.append(clust_name)\n",
    "        else:\n",
    "            new_leiden.append(clust_name + '.%s' % sub_adatas[clust_name].obs.loc[obs,'leiden'])\n",
    "\n",
    "    # this renames the .1, .2, etc clusters to the new, better names I came up with above (8 and 9)\n",
    "    new_leiden = pd.Series(new_leiden, index=adata.obs_names)\n",
    "    added_clusts = np.setdiff1d(new_leiden,adata.obs['leiden'])\n",
    "    new_leiden.replace(dict(zip(added_clusts, new_added_clust_names)), inplace=True)\n",
    "    \n",
    "    # replace the old leiden column, must do these steps sequentially \n",
    "    adata.obs['leiden'] = new_leiden.astype(int) # to order the clusters by number\n",
    "    adata.obs['leiden'] = new_leiden.astype(str) # to convert to string as normal\n",
    "#     adata.obs['leiden'] = new_leiden.astype('category') # don't do this, it messes things up, just let scanpy do it as it plots\n",
    "    return adata"
   ]
  },
  {
   "cell_type": "code",
   "execution_count": null,
   "metadata": {},
   "outputs": [],
   "source": [
    "acg_t = sub_cluster_mapper(acg_t, sub_acgt)"
   ]
  },
  {
   "cell_type": "code",
   "execution_count": null,
   "metadata": {},
   "outputs": [],
   "source": [
    "fig, ax = plt.subplots(1, 2, figsize=(20,10))\n",
    "for color, ax, palette in zip(['cond', 'leiden'], ax, [None, sc.pl.palettes.default_20]):\n",
    "    sc.pl.umap(acg_t,color=color, ax=ax, show=False, return_fig=False, size=4, palette=palette)"
   ]
  },
  {
   "cell_type": "code",
   "execution_count": null,
   "metadata": {},
   "outputs": [],
   "source": [
    "sc.settings.verbosity = 0\n",
    "warnings.filterwarnings('ignore')\n",
    "sc.tl.rank_genes_groups(acg_t, groupby='leiden', n_genes=1000, use_raw=True)\n",
    "warnings.filterwarnings('default')\n",
    "sc.pl.rank_genes_groups(acg_t, ncols=5, n_genes=20)\n",
    "sc.settings.verbosity = 4"
   ]
  },
  {
   "cell_type": "code",
   "execution_count": null,
   "metadata": {},
   "outputs": [],
   "source": [
    "sc.pl.umap(acg_t, color=['CD4|CD4','CD8|CD8A'], size=2, ncols=5, use_raw=True) "
   ]
  },
  {
   "cell_type": "code",
   "execution_count": null,
   "metadata": {},
   "outputs": [],
   "source": [
    "sc.pl.umap(acg_t, color=['CCR7', 'CD45RA|PTPRC','CD8|CD8A','CD8A', 'CD8B'], size=2, ncols=5, use_raw=True) "
   ]
  },
  {
   "cell_type": "code",
   "execution_count": null,
   "metadata": {},
   "outputs": [],
   "source": [
    "fig, ax = plt.subplots(1,1,figsize=(8,8))\n",
    "ax.set_facecolor('black')\n",
    "sc.pl.umap(acg_t, color='leiden', size=10, ax=ax)"
   ]
  },
  {
   "cell_type": "code",
   "execution_count": null,
   "metadata": {},
   "outputs": [],
   "source": [
    "path = prefix + 'pkls/aggr/tnk.3.pkl'\n",
    "\n",
    "with open(path,'wb') as file:\n",
    "    pkl.dump(acg_t, file, protocol=4)\n",
    "\n",
    "# with open(path,'rb') as file:\n",
    "#     acg_t = pkl.load(file)"
   ]
  },
  {
   "cell_type": "code",
   "execution_count": null,
   "metadata": {},
   "outputs": [],
   "source": [
    "def add_raw(adata, transformed=True):\n",
    "    path = prefix + 'pkls/aggr/wells.sng.w_covars.pkl'\n",
    "    \n",
    "    with open(path,'rb') as file:\n",
    "        wells = pkl.load(file)\n",
    "    \n",
    "    for well in wells:\n",
    "        wells[well]['adata'].obs_names = [i[:16] + '-%s' % well for i in wells[well]['adata'].obs_names]\n",
    "    \n",
    "    raw = wells[0]['adata'].concatenate(*[wells[i]['adata'] for  i in range(1, 12)])[adata.obs_names,:]\n",
    "    \n",
    "    if transformed == True:\n",
    "        sc.pp.normalize_per_cell(raw,counts_per_cell_after=1e6)\n",
    "        sc.pp.log1p(raw)\n",
    "    \n",
    "    adata.raw = raw\n",
    "    return"
   ]
  },
  {
   "cell_type": "code",
   "execution_count": null,
   "metadata": {},
   "outputs": [],
   "source": [
    "add_raw(acg_t)"
   ]
  },
  {
   "cell_type": "code",
   "execution_count": null,
   "metadata": {},
   "outputs": [],
   "source": [
    "raw_transcripts = acg_t.raw.var_names\n",
    "transcripts = acg_t.var_names\n",
    "proteins = [i for i in acg_t.obs.columns if '|' in i]"
   ]
  },
  {
   "cell_type": "code",
   "execution_count": null,
   "metadata": {},
   "outputs": [],
   "source": [
    "name = 'CCR7'\n",
    "print([i for i in proteins if name in i])\n",
    "print([i for i in transcripts if name in i])\n",
    "print([i for i in raw_transcripts if name in i])"
   ]
  },
  {
   "cell_type": "code",
   "execution_count": null,
   "metadata": {},
   "outputs": [],
   "source": [
    "proteins.index('TCRgd|TRD_TRG') \n",
    "# proteins.index('CD94|KLRD1')"
   ]
  },
  {
   "cell_type": "code",
   "execution_count": null,
   "metadata": {},
   "outputs": [],
   "source": [
    "features = ['CD3|CD3E', 'CD4|CD4','CD8|CD8A', 'CD45RA|PTPRC','CD45RO|PTPRC',\n",
    "            'CD185|CXCR5', 'CD62L|SELL', 'CXCR3','CCR4', 'CCR6', \n",
    "            'LAT','RGS10','CD69|CD69', 'PITPNC1', 'SLC5A3',\n",
    "            'TRDC', 'TRDV2', 'IKZF2', 'FOXP3', 'CD94|KLRD1',\n",
    "            'CD26|DPP4', 'CD103|ITGAE', 'CCR7', 'NKG7','CCL5'\n",
    "           ]"
   ]
  },
  {
   "cell_type": "code",
   "execution_count": null,
   "metadata": {},
   "outputs": [],
   "source": [
    "fig, ax = plt.subplots(5,5,figsize=(30,27.5))\n",
    "for ax, f in zip(np.ravel(ax), features):\n",
    "    ax.set_facecolor('black')\n",
    "    sc.pl.umap(acg_t, color=f, ax=ax,show=False, return_fig=False, size=5, use_raw=True)"
   ]
  },
  {
   "cell_type": "code",
   "execution_count": null,
   "metadata": {},
   "outputs": [],
   "source": [
    "cts = [\"Naïve CD4\", \"Th2\", \"Early Activated CD4\", \"Naïve CD8\", \n",
    "       \"Effector Memory RA CD8\", \"Effector Memory CD8\", \"Resting Treg\", \"Mito\", \n",
    "       \"Th17\", \"Tfh\", \"Tfh/Proliferation\", \"Doublet? 1\", \n",
    "       \"R848 Contam 1\", \"Early Activated CD8\", \"Central Memory CD8\", \"Gamma Delta Treg?\", \n",
    "       \"Gamma Delta Type2\", \"R848 Contam? 2\", \"Activated Treg\", \"Doublet? 2\"]"
   ]
  },
  {
   "cell_type": "code",
   "execution_count": null,
   "metadata": {},
   "outputs": [],
   "source": [
    "ctdict = dict(zip(cts, [[i] for i in range(20)]))"
   ]
  },
  {
   "cell_type": "code",
   "execution_count": null,
   "metadata": {},
   "outputs": [],
   "source": [
    "acg_t.obs['ct1'] = acg_t.obs['leiden']\n",
    "for ct in ctdict:\n",
    "    for clust in ctdict[ct]:\n",
    "        acg_t.obs['ct1'].replace(str(clust), ct, regex=True, inplace=True)"
   ]
  },
  {
   "cell_type": "code",
   "execution_count": null,
   "metadata": {},
   "outputs": [],
   "source": [
    "fig, ax = plt.subplots(1,1,figsize=(10,10))\n",
    "ax.set_facecolor('whitesmoke')\n",
    "sc.pl.umap(acg_t, color='ct1', size=10, ax=ax, legend_loc='on data', legend_fontsize=10)"
   ]
  },
  {
   "cell_type": "code",
   "execution_count": null,
   "metadata": {},
   "outputs": [],
   "source": [
    "len(acg_t[(acg_t.obs['ct1'] == 'Gamma Delta Type2') & (acg_t.obs['cond'] == 'C')])/len(acg_t[acg_t.obs['cond'] == 'C'])"
   ]
  },
  {
   "cell_type": "code",
   "execution_count": null,
   "metadata": {},
   "outputs": [],
   "source": [
    "fig, ax = plt.subplots(1,1,figsize=(10,10))\n",
    "ax.set_facecolor('whitesmoke')\n",
    "sc.pl.umap(acg_t, color='ct1', size=10, ax=ax)"
   ]
  },
  {
   "cell_type": "code",
   "execution_count": null,
   "metadata": {},
   "outputs": [],
   "source": [
    "fig, ax = plt.subplots(1,7, figsize=(30,4))\n",
    "for val, ax in tqdm(zip(acg_t.obs['cond'].dtype.categories, np.ravel(ax))):\n",
    "    acg_t.obs['val'] = acg_t.obs['cond'] == val\n",
    "    ax.set_facecolor('black')\n",
    "    sc.pl.umap(acg_t,color='val', ax=ax, show=False, return_fig=False, title=val)\n",
    "    acg_t.obs.drop(columns='val', inplace=True)\n",
    "plt.tight_layout()"
   ]
  },
  {
   "cell_type": "code",
   "execution_count": null,
   "metadata": {},
   "outputs": [],
   "source": [
    "sc.settings.verbosity = 0\n",
    "warnings.filterwarnings('ignore')\n",
    "sc.tl.rank_genes_groups(acg_t_subs['Naive CD8'], groupby='cond', n_genes=100, groups=['A'], reference='C')\n",
    "warnings.filterwarnings('default')\n",
    "sc.pl.rank_genes_groups(acg_t_subs['Naive CD8'])\n",
    "sc.settings.verbosity = 4"
   ]
  },
  {
   "cell_type": "code",
   "execution_count": null,
   "metadata": {},
   "outputs": [],
   "source": [
    "good_cts = [\"Naïve CD4\", \"Th2\", \"Early Activated CD4\", \"Naïve CD8\", \n",
    "            \"Effector Memory RA CD8\", \"Effector Memory CD8\", \"Resting Treg\", \n",
    "            \"Th17\", \"Tfh\", \"Tfh/Proliferation\", \"Early Activated CD8\", \n",
    "            \"Central Memory CD8\", \"Gamma Delta Treg?\", \n",
    "            \"Gamma Delta Type2\", \"Activated Treg\"\n",
    "           ]"
   ]
  },
  {
   "cell_type": "code",
   "execution_count": null,
   "metadata": {},
   "outputs": [],
   "source": [
    "sc.settings.verbosity = 0\n",
    "warnings.filterwarnings('ignore')\n",
    "fig, ax = plt.subplots(3, 5, figsize=(30,18))\n",
    "for ct, ax in tqdm(zip(good_cts,np.ravel(ax))):\n",
    "    rank_adata = acg_t[acg_t.obs['ct1'] == ct].copy()\n",
    "    sc.tl.rank_genes_groups(rank_adata, groupby='cond', n_genes=20, groups=['A'], reference='C')\n",
    "    x = range(20)\n",
    "    y = [i[0] for i in rank_adata.uns['rank_genes_groups']['scores'].tolist()]\n",
    "    txts = [i[0] for i in rank_adata.uns['rank_genes_groups']['names'].tolist()]\n",
    "    ax.scatter(x, y, s=0)\n",
    "    for i, txt in enumerate(txts):\n",
    "        ax.annotate(txt, (x[i], y[i]), rotation=45, size=10)\n",
    "    ax.set_title(ct)"
   ]
  },
  {
   "cell_type": "code",
   "execution_count": null,
   "metadata": {},
   "outputs": [],
   "source": [
    "gene = 'CD137|TNFRSF9'\n",
    "fig, ax = plt.subplots(1,2,figsize=(12,5))\n",
    "for cond, ax in zip(['C','A'], ax):\n",
    "    ax.set_facecolor('black')\n",
    "    sc.pl.umap(acg_t[acg_t.obs['cond'] == cond], ax=ax, show=False, return_fig=False, color=gene, size=10, use_raw=True)"
   ]
  },
  {
   "cell_type": "code",
   "execution_count": null,
   "metadata": {},
   "outputs": [],
   "source": [
    "sc.settings.verbosity = 0\n",
    "warnings.filterwarnings('ignore')\n",
    "fig, ax = plt.subplots(3, 5, figsize=(30,18))\n",
    "for ct, ax in tqdm(zip(good_cts,np.ravel(ax))):\n",
    "    rank_adata = acg_t[acg_t.obs['ct1'] == ct].copy()\n",
    "    sc.tl.rank_genes_groups(rank_adata, groupby='cond', n_genes=20, groups=['G'], reference='C')\n",
    "    y = range(20)[::-1]\n",
    "    x = [i[0] for i in rank_adata.uns['rank_genes_groups']['scores'].tolist()]\n",
    "    txts = [i[0] for i in rank_adata.uns['rank_genes_groups']['names'].tolist()]\n",
    "    ax.scatter(x, y, s=0)\n",
    "    for i, txt in enumerate(txts):\n",
    "        ax.annotate(txt, (x[i], y[i]), rotation=0, size=10)\n",
    "    ax.set_title(ct)"
   ]
  },
  {
   "cell_type": "code",
   "execution_count": null,
   "metadata": {},
   "outputs": [],
   "source": [
    "gene = 'AHNAK'\n",
    "fig, ax = plt.subplots(1,2,figsize=(12,5))\n",
    "for cond, ax in zip(['C','G'], ax):\n",
    "    ax.set_facecolor('black')\n",
    "    sc.pl.umap(acg_t[acg_t.obs['cond'] == cond], ax=ax, show=False, return_fig=False, color=gene, size=10, use_raw=True)"
   ]
  },
  {
   "cell_type": "code",
   "execution_count": null,
   "metadata": {},
   "outputs": [],
   "source": []
  },
  {
   "cell_type": "code",
   "execution_count": null,
   "metadata": {},
   "outputs": [],
   "source": []
  },
  {
   "cell_type": "code",
   "execution_count": null,
   "metadata": {},
   "outputs": [],
   "source": []
  },
  {
   "cell_type": "code",
   "execution_count": null,
   "metadata": {},
   "outputs": [],
   "source": []
  },
  {
   "cell_type": "code",
   "execution_count": null,
   "metadata": {},
   "outputs": [],
   "source": []
  },
  {
   "cell_type": "code",
   "execution_count": null,
   "metadata": {},
   "outputs": [],
   "source": [
    "sc.pl.umap(acg_t, color=proteins, size=2, ncols=8)"
   ]
  },
  {
   "cell_type": "code",
   "execution_count": null,
   "metadata": {},
   "outputs": [],
   "source": [
    "sc.settings.verbosity = 0\n",
    "warnings.filterwarnings('ignore')\n",
    "sc.tl.rank_genes_groups(acg_t, groupby='leiden', n_genes=40, groups=['18'],reference='6')\n",
    "warnings.filterwarnings('default')\n",
    "sc.pl.rank_genes_groups(acg_t, ncols=5, n_genes=20)\n",
    "sc.settings.verbosity = 4"
   ]
  },
  {
   "cell_type": "code",
   "execution_count": null,
   "metadata": {},
   "outputs": [],
   "source": [
    "[i[0] for i in acg_t.uns['rank_genes_groups']['names']]"
   ]
  },
  {
   "cell_type": "code",
   "execution_count": null,
   "metadata": {},
   "outputs": [],
   "source": [
    "sc.pl.umap(acg_t, color=[i[0] for i in acg_t.uns['rank_genes_groups']['names'][:20]], size=2, ncols=5)"
   ]
  },
  {
   "cell_type": "code",
   "execution_count": null,
   "metadata": {},
   "outputs": [],
   "source": [
    "sc.pl.umap(acg_t, color=[i[0] for i in acg_t.uns['rank_genes_groups']['names'][20:]], size=2, ncols=5)"
   ]
  },
  {
   "cell_type": "code",
   "execution_count": null,
   "metadata": {},
   "outputs": [],
   "source": []
  }
 ],
 "metadata": {
  "kernelspec": {
   "display_name": "codec",
   "language": "python",
   "name": "codec"
  },
  "language_info": {
   "codemirror_mode": {
    "name": "ipython",
    "version": 3
   },
   "file_extension": ".py",
   "mimetype": "text/x-python",
   "name": "python",
   "nbconvert_exporter": "python",
   "pygments_lexer": "ipython3",
   "version": "3.6.7"
  }
 },
 "nbformat": 4,
 "nbformat_minor": 4
}
