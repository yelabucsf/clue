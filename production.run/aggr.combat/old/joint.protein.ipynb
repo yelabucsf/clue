{
 "cells": [
  {
   "cell_type": "markdown",
   "metadata": {},
   "source": [
    "# Here's the new plan:"
   ]
  },
  {
   "cell_type": "markdown",
   "metadata": {},
   "source": [
    "1. Rerun the adts.clr.ipynb to make a new adts with the correct features we want to keep (95 of them) and the correct `adts_n_counts` in the `.obs`.\n",
    "2. Load that in and perform the clr normalization, scaling, combat, scaling, neigbors, UMAP and leiden as below.\n",
    "3. Remove _only_ the cluster that shows the very high counts, should be around number 17 or so.\n",
    "4. Rerun the processing without those cells present. \n",
    "5. Run Leiden (and leiden with restrictions) to cluster the cells as best as possible without splitting hairs. Maybe make a lower limit of 0.5% of cells can be split further. It doesn't _exactly_ have to match the UMAP, and actually if a cluster is spread across multiple distinct locations across the UMAP, it probably means its a doublet or multiplet anyway.\n",
    "6. "
   ]
  },
  {
   "cell_type": "code",
   "execution_count": null,
   "metadata": {},
   "outputs": [],
   "source": [
    "import scanpy as sc\n",
    "import pandas as pd \n",
    "import numpy as np\n",
    "import matplotlib.pyplot as plt\n",
    "from tqdm.notebook import tqdm\n",
    "import warnings\n",
    "import itertools as it\n",
    "import json\n",
    "import requests\n",
    "import seaborn as sns\n",
    "import pickle as pkl\n",
    "from functools import reduce"
   ]
  },
  {
   "cell_type": "code",
   "execution_count": null,
   "metadata": {},
   "outputs": [],
   "source": [
    "sc.settings.verbosity = 4\n",
    "sc.settings.set_figure_params(dpi=80)\n",
    "print(sc.__version__)\n",
    "sc.settings.n_jobs=16"
   ]
  },
  {
   "cell_type": "code",
   "execution_count": null,
   "metadata": {},
   "outputs": [],
   "source": [
    "prefix = '/data/codec/production.run/'"
   ]
  },
  {
   "cell_type": "markdown",
   "metadata": {},
   "source": [
    "### Load in Data"
   ]
  },
  {
   "cell_type": "code",
   "execution_count": null,
   "metadata": {},
   "outputs": [],
   "source": [
    "path = prefix + 'mrna/pkls/aggr/wells.sng.w_covars.pkl'\n",
    "\n",
    "# with open(path,'wb') as file:\n",
    "#     pkl.dump(wells, file)\n",
    "    \n",
    "with open(path,'rb') as file:\n",
    "    wells = pkl.load(file)"
   ]
  },
  {
   "cell_type": "markdown",
   "metadata": {},
   "source": [
    "### Adjust Cell Barcodes, Filter\n",
    "\n",
    "I'm adjusting the cell barcodes to make them match their well number, which I also did with the ADTs."
   ]
  },
  {
   "cell_type": "code",
   "execution_count": null,
   "metadata": {},
   "outputs": [],
   "source": [
    "for well in wells:\n",
    "    wells[well]['adata'].obs_names = [i[:16] + '-%s' % well for i in wells[well]['adata'].obs_names]"
   ]
  },
  {
   "cell_type": "markdown",
   "metadata": {},
   "source": [
    "### Concatenate"
   ]
  },
  {
   "cell_type": "code",
   "execution_count": null,
   "metadata": {},
   "outputs": [],
   "source": [
    "concat = wells[0]['adata'].concatenate(*[wells[i]['adata'] for  i in range(1, 12)])"
   ]
  },
  {
   "cell_type": "code",
   "execution_count": null,
   "metadata": {},
   "outputs": [],
   "source": [
    "path = prefix + 'adts/pkls/concat.adts.pkl'\n",
    "\n",
    "# with open(path,'wb') as file:\n",
    "#     pkl.dump(wells, file)\n",
    "    \n",
    "with open(path,'rb') as file:\n",
    "    raw_adts = pkl.load(file)"
   ]
  },
  {
   "cell_type": "code",
   "execution_count": null,
   "metadata": {},
   "outputs": [],
   "source": [
    "adts = raw_adts.copy()"
   ]
  },
  {
   "cell_type": "code",
   "execution_count": null,
   "metadata": {},
   "outputs": [],
   "source": [
    "plt.figure(figsize=(20,4))\n",
    "plt.hist(adts.obs['adts_n_counts'].values, bins=np.logspace(np.log10(10),np.log10(1e6), 1000))\n",
    "plt.grid(False)\n",
    "plt.grid(True, 'both', 'both')\n",
    "plt.xscale('log')\n",
    "plt.yscale('log')"
   ]
  },
  {
   "cell_type": "code",
   "execution_count": null,
   "metadata": {},
   "outputs": [],
   "source": [
    "def clr_normalize_column(x):\n",
    "    normed_column = np.log1p((x) / (np.exp(sum(np.log1p((x)[x > 0 ])) / len(x + 1))))\n",
    "    return normed_column\n",
    "def clr_normalize(x):\n",
    "    normed_matrix = np.apply_along_axis(clr_normalize_column, 1, x)\n",
    "    return normed_matrix"
   ]
  },
  {
   "cell_type": "code",
   "execution_count": null,
   "metadata": {},
   "outputs": [],
   "source": [
    "sc.pp.normalize_per_cell(adts, counts_per_cell_after=1e6);"
   ]
  },
  {
   "cell_type": "code",
   "execution_count": null,
   "metadata": {},
   "outputs": [],
   "source": [
    "adts.X = clr_normalize(adts.X.toarray())"
   ]
  },
  {
   "cell_type": "code",
   "execution_count": null,
   "metadata": {},
   "outputs": [],
   "source": [
    "sc.pp.scale(adts)"
   ]
  },
  {
   "cell_type": "code",
   "execution_count": null,
   "metadata": {},
   "outputs": [],
   "source": [
    "adts.obs = adts.obs.join(concat.obs[['cond','free_id', 'percent_mito', 'viability_eq_ctrl', 'viability_sample']])"
   ]
  },
  {
   "cell_type": "code",
   "execution_count": null,
   "metadata": {},
   "outputs": [],
   "source": [
    "sc.pp.combat(adts, key='batch',covariates=['free_id'])\n",
    "sc.pp.combat(adts, key='cond',covariates=['free_id'])\n",
    "sc.pp.scale(adts)"
   ]
  },
  {
   "cell_type": "code",
   "execution_count": null,
   "metadata": {},
   "outputs": [],
   "source": [
    "warnings.filterwarnings('ignore')\n",
    "sc.pp.neighbors(adts, n_neighbors=15, n_pcs=0) # use .X because all the surface markers we're looking at are probably pretty important\n",
    "warnings.filterwarnings('default')"
   ]
  },
  {
   "cell_type": "code",
   "execution_count": null,
   "metadata": {},
   "outputs": [],
   "source": [
    "sc.tl.umap(adts)"
   ]
  },
  {
   "cell_type": "code",
   "execution_count": null,
   "metadata": {},
   "outputs": [],
   "source": [
    "sc.tl.leiden(adts, resolution=1)"
   ]
  },
  {
   "cell_type": "code",
   "execution_count": null,
   "metadata": {},
   "outputs": [],
   "source": [
    "fig, ax = plt.subplots(1, 2, figsize=(20,10))\n",
    "for color, ax, palette in zip(['cond', 'leiden'], ax, [None, sc.pl.palettes.default_20]):\n",
    "    ax.set_facecolor('whitesmoke')\n",
    "    sc.pl.umap(adts,color=color, ax=ax, show=False, return_fig=False, palette=palette)"
   ]
  },
  {
   "cell_type": "code",
   "execution_count": null,
   "metadata": {},
   "outputs": [],
   "source": [
    "fig, ax = plt.subplots(1,7, figsize=(30,4))\n",
    "for val, ax in tqdm(zip(adts.obs['cond'].dtype.categories, np.ravel(ax))):\n",
    "    adts.obs['val'] = adts.obs['cond'] == val\n",
    "    ax.set_facecolor('black')\n",
    "    sc.pl.umap(adts,color='val', ax=ax, show=False, return_fig=False, title=val)\n",
    "    adts.obs.drop(columns='val', inplace=True)\n",
    "plt.tight_layout()"
   ]
  },
  {
   "cell_type": "code",
   "execution_count": null,
   "metadata": {},
   "outputs": [],
   "source": [
    "fig, ax = plt.subplots(4,6,figsize=(20,12))\n",
    "for val, ax in tqdm(zip(adts.obs['leiden'].dtype.categories, np.ravel(ax))):\n",
    "    adts.obs['val'] = adts.obs['leiden'] == val\n",
    "    ax.set_facecolor('black')\n",
    "    sc.pl.umap(adts,color='val', ax=ax, show=False, return_fig=False, title=val)\n",
    "    adts.obs.drop(columns='val', inplace=True)\n",
    "plt.tight_layout()"
   ]
  },
  {
   "cell_type": "code",
   "execution_count": null,
   "metadata": {},
   "outputs": [],
   "source": [
    "fig, ax = plt.subplots(1, 1, figsize=(10,10))\n",
    "adts.obs['val'] = adts.obs['adts_n_counts'] < 1000\n",
    "ax.set_facecolor('black')\n",
    "sc.pl.umap(adts,color='val', ax=ax, show=False, return_fig=False, palette=palette, size=5);\n",
    "adts.obs.drop(columns='val', inplace=True)"
   ]
  },
  {
   "cell_type": "code",
   "execution_count": null,
   "metadata": {},
   "outputs": [],
   "source": [
    "path = prefix + 'adts/pkls/adts.clr.combat.dim.1.pkl'\n",
    "\n",
    "# with open(path,'wb') as file:\n",
    "#     pkl.dump(adts, file)\n",
    "    \n",
    "with open(path,'rb') as file:\n",
    "    adts = pkl.load(file)"
   ]
  },
  {
   "cell_type": "markdown",
   "metadata": {},
   "source": [
    "Remove Contamination"
   ]
  },
  {
   "cell_type": "code",
   "execution_count": null,
   "metadata": {},
   "outputs": [],
   "source": [
    "adts = adts[~adts.obs['leiden'].isin(['15']),:].copy()\n",
    "adts = adts[adts.obs['adts_n_counts'] > 1000].copy()"
   ]
  },
  {
   "cell_type": "code",
   "execution_count": null,
   "metadata": {},
   "outputs": [],
   "source": [
    "fig, ax = plt.subplots(1, 2, figsize=(20,10))\n",
    "for color, ax, palette in zip(['cond', 'leiden'], ax, [None, sc.pl.palettes.default_20]):\n",
    "    ax.set_facecolor('whitesmoke')\n",
    "    sc.pl.umap(adts,color=color, ax=ax, show=False, return_fig=False, palette=palette, size=5)"
   ]
  },
  {
   "cell_type": "raw",
   "metadata": {},
   "source": [
    "### Proteins"
   ]
  },
  {
   "cell_type": "code",
   "execution_count": null,
   "metadata": {},
   "outputs": [],
   "source": [
    "cond_leiden_df = cond_leiden_df.divide(cond_leiden_df.sum(0),1)"
   ]
  },
  {
   "cell_type": "code",
   "execution_count": null,
   "metadata": {},
   "outputs": [],
   "source": [
    "for i in adts.var_names:\n",
    "    print(i)"
   ]
  },
  {
   "cell_type": "code",
   "execution_count": null,
   "metadata": {},
   "outputs": [],
   "source": [
    "fig, ax = plt.subplots(12,8,figsize=(30,40))\n",
    "for p, ax in tqdm(zip(adts.var_names, np.ravel(ax))):\n",
    "    ax.set_facecolor('black')\n",
    "    sc.pl.umap(adts, color=p, size=3, ncols=8, ax=ax, show=False, return_fig=False, use_raw=False)\n",
    "plt.tight_layout()"
   ]
  },
  {
   "cell_type": "code",
   "execution_count": null,
   "metadata": {},
   "outputs": [],
   "source": [
    "conds = adts.obs['cond'].dtype.categories\n",
    "clusts = adts.obs['leiden'].dtype.categories"
   ]
  },
  {
   "cell_type": "code",
   "execution_count": null,
   "metadata": {},
   "outputs": [],
   "source": [
    "cond_leiden_df = pd.DataFrame(index=conds, columns=clusts, dtype=np.int)"
   ]
  },
  {
   "cell_type": "code",
   "execution_count": null,
   "metadata": {},
   "outputs": [],
   "source": [
    "for cond in tqdm(conds):\n",
    "    for clust in clusts:\n",
    "        cond_leiden_df.loc[cond, clust] = adts[(adts.obs['cond'] == cond) & (adts.obs['leiden'] == clust)].shape[0]"
   ]
  },
  {
   "cell_type": "code",
   "execution_count": null,
   "metadata": {},
   "outputs": [],
   "source": [
    "cond_leiden_df_div = cond_leiden_df.divide(cond_leiden_df.sum(0),1)"
   ]
  },
  {
   "cell_type": "code",
   "execution_count": null,
   "metadata": {},
   "outputs": [],
   "source": [
    "fig, ax = plt.subplots(1,2,figsize=(20,6))\n",
    "for ax, df, ylabel in zip(ax, [cond_leiden_df, cond_leiden_df_div], ['Number','Proportion']):\n",
    "    labels = clusts\n",
    "    props = dict()\n",
    "\n",
    "    for cond in conds:\n",
    "        props[cond] = df.loc[cond].values\n",
    "    lastpos = [0]*len(clusts)\n",
    "    for cond in props:\n",
    "        ax.bar(labels, props[cond], label=cond, bottom=lastpos)\n",
    "        lastpos = props[cond] + lastpos\n",
    "\n",
    "    ax.set_ylabel(ylabel)\n",
    "    ax.legend()"
   ]
  },
  {
   "cell_type": "code",
   "execution_count": null,
   "metadata": {},
   "outputs": [],
   "source": []
  },
  {
   "cell_type": "code",
   "execution_count": null,
   "metadata": {},
   "outputs": [],
   "source": [
    "labels = deconvolution.columns.values\n",
    "counts = dict()\n",
    "\n",
    "for cond in conds:\n",
    "    counts[cond] = deconvolution.values.T[(scheme==cond).values.T]\n",
    "\n",
    "fig, ax = plt.subplots(figsize=(30,5))\n",
    "lastpos = [0]*64\n",
    "for cond in counts:\n",
    "    ax.bar(labels, counts[cond], label=cond, bottom=lastpos)\n",
    "    lastpos = counts[cond] + lastpos\n",
    "\n",
    "ax.set_ylabel('Counts')\n",
    "ax.legend()\n",
    "\n",
    "plt.show()"
   ]
  },
  {
   "cell_type": "code",
   "execution_count": null,
   "metadata": {},
   "outputs": [],
   "source": []
  },
  {
   "cell_type": "code",
   "execution_count": null,
   "metadata": {},
   "outputs": [],
   "source": [
    "plt_contam_proteins = ['CD9|CD9', 'CD226|CD226', 'CD61|ITGB3', 'CD49b|ITGA2', 'CD29|ITGB1']"
   ]
  },
  {
   "cell_type": "code",
   "execution_count": null,
   "metadata": {},
   "outputs": [],
   "source": [
    "fig, ax = plt.subplots(1,5,figsize=(30,6))\n",
    "for p, ax in tqdm(zip(plt_contam_proteins, np.ravel(ax))):\n",
    "    ax.set_facecolor('black')\n",
    "    sc.pl.umap(adts, color=p, size=3, ncols=8, ax=ax, show=False, return_fig=False, use_raw=False)\n",
    "plt.tight_layout()"
   ]
  },
  {
   "cell_type": "code",
   "execution_count": null,
   "metadata": {},
   "outputs": [],
   "source": [
    "sc.tl.score_genes(adts, gene_list=plt_contam_proteins, use_raw=False)"
   ]
  },
  {
   "cell_type": "code",
   "execution_count": null,
   "metadata": {},
   "outputs": [],
   "source": [
    "fig, ax = plt.subplots(1, 2, figsize=(20,10))\n",
    "for color, ax, s, fcolor, palette in zip(['CD94|KLRD1', 'leiden'], ax, [5, 2], ['black', 'whitesmoke'], [None, sc.pl.palettes.default_102]):\n",
    "    ax.set_facecolor(fcolor)\n",
    "    sc.pl.umap(adts,color=color, ax=ax, show=False, return_fig=False, palette=palette, size=s)"
   ]
  },
  {
   "cell_type": "code",
   "execution_count": null,
   "metadata": {},
   "outputs": [],
   "source": [
    "fig, ax = plt.subplots(1, 1, figsize=(10,10))\n",
    "ax.set_facecolor('black')\n",
    "sc.pl.umap(adts,color='percent_mito', ax=ax, show=False, return_fig=False, palette=palette, size=5);"
   ]
  },
  {
   "cell_type": "code",
   "execution_count": null,
   "metadata": {},
   "outputs": [],
   "source": [
    "meds = list()\n",
    "for clust in adts.obs['leiden'].dtype.categories:\n",
    "    meds.append(np.median(adts.obs[adts.obs['leiden'] == clust]['score'].values))\n",
    "plt.figure(figsize=(20,5))\n",
    "sns.violinplot(data=adts.obs[['score', 'leiden']], y='score', x='leiden');\n",
    "plt.plot([0, 46],[1, 1], linestyle='--');"
   ]
  },
  {
   "cell_type": "code",
   "execution_count": null,
   "metadata": {},
   "outputs": [],
   "source": [
    "plt.hist(adts.obs['score'].values,bins=100);"
   ]
  },
  {
   "cell_type": "code",
   "execution_count": null,
   "metadata": {},
   "outputs": [],
   "source": [
    "plt.figure(figsize=(8,3))\n",
    "plt.hist(meds, bins=100);"
   ]
  },
  {
   "cell_type": "code",
   "execution_count": null,
   "metadata": {},
   "outputs": [],
   "source": []
  },
  {
   "cell_type": "code",
   "execution_count": null,
   "metadata": {},
   "outputs": [],
   "source": []
  },
  {
   "cell_type": "markdown",
   "metadata": {},
   "source": [
    "# Grouping and Subclustering\n",
    "Going to combine or break up those clusters further."
   ]
  },
  {
   "cell_type": "code",
   "execution_count": null,
   "metadata": {},
   "outputs": [],
   "source": [
    "exclude = [0, 4, 13, 17, 18, 19, 20, 21]\n",
    "clusts = [i for i in range(len(adts.obs['leiden'].dtype.categories)) if i not in exclude]"
   ]
  },
  {
   "cell_type": "code",
   "execution_count": null,
   "metadata": {},
   "outputs": [],
   "source": [
    "sub_adts = dict()\n",
    "for clust in adts.obs['leiden'].dtype.categories:\n",
    "    sub_adts[str(clust)] = adts[adts.obs['leiden'] == str(clust)].copy()"
   ]
  },
  {
   "cell_type": "code",
   "execution_count": null,
   "metadata": {},
   "outputs": [],
   "source": [
    "sc.tl.leiden(sub_adts['1'], resolution=0.25) # subcluster them using Leiden\n",
    "sc.tl.leiden(sub_adts['1'], resolution=0.5, restrict_to=('leiden',['0'])) # subcluster them using Leiden\n",
    "# sc.tl.leiden(sub_adts['1'], resolution=0.5, restrict_to=('leiden',['0'])) # subcluster them using Leiden\n",
    "# sc.tl.leiden(sub_adts['1'], resolution=0.3, restrict_to=('leiden',['0,4'])) # subcluster them using Leiden\n",
    "stupid_name_clusts = sub_adts['1'].obs['leiden'].dtype.categories\n",
    "for i, j in zip(stupid_name_clusts, range(len(stupid_name_clusts))):\n",
    "    sub_adts['1'].obs['leiden'].replace(i, j, inplace=True)\n",
    "sub_adts['1'].obs['leiden'] = sub_adts['1'].obs['leiden'].astype(int)\n",
    "sub_adts['1'].obs['leiden'] = sub_adts['1'].obs['leiden'].astype(str)"
   ]
  },
  {
   "cell_type": "code",
   "execution_count": null,
   "metadata": {},
   "outputs": [],
   "source": [
    "sc.pl.umap(sub_adts['1'], color='leiden')"
   ]
  },
  {
   "cell_type": "code",
   "execution_count": null,
   "metadata": {},
   "outputs": [],
   "source": [
    "fig, ax = plt.subplots(1,5,figsize=(20,4))\n",
    "for val, ax in tqdm(zip(sub_adts['1'].obs['leiden'].dtype.categories, np.ravel(ax))):\n",
    "    sub_adts['1'].obs['val'] = sub_adts['1'].obs['leiden'] == val\n",
    "    ax.set_facecolor('black')\n",
    "    sc.pl.umap(sub_adts['1'],color='val', ax=ax, show=False, return_fig=False, title=val)\n",
    "    sub_adts['1'].obs.drop(columns='val', inplace=True)\n",
    "plt.tight_layout()"
   ]
  },
  {
   "cell_type": "code",
   "execution_count": null,
   "metadata": {},
   "outputs": [],
   "source": [
    "groupings = [[0, 1, 3],\n",
    "            ]\n",
    "grouped_clusts = [i for j in groupings for i in j]\n",
    "numclusts = np.unique(sub_adts['1'].obs['leiden'].values.astype(int))\n",
    "for i in np.setdiff1d(numclusts, grouped_clusts):\n",
    "    groupings.append([i])"
   ]
  },
  {
   "cell_type": "code",
   "execution_count": null,
   "metadata": {},
   "outputs": [],
   "source": [
    "ctdict = dict()\n",
    "for i in range(len(groupings)):\n",
    "    ctdict['ct%s' % str(i)] = groupings[i]\n",
    "\n",
    "sub_adts['1'].obs['celltype'] = sub_adts['1'].obs['leiden']\n",
    "for ct in ctdict:\n",
    "    for clust in ctdict[ct]:\n",
    "        sub_adts['1'].obs['celltype'].replace(str(clust), ct, regex=True, inplace=True)\n",
    "sub_adts['1'].obs['leiden'] = [i.strip('ct') for i in sub_adts['1'].obs['celltype'].astype('category')]"
   ]
  },
  {
   "cell_type": "code",
   "execution_count": null,
   "metadata": {},
   "outputs": [],
   "source": [
    "fig, ax = plt.subplots(1,1,figsize=(5.25, 5))\n",
    "for ax, f in zip(np.ravel(ax), ['leiden']):\n",
    "    ax.set_facecolor('gray')\n",
    "    sc.pl.umap(sub_adts['1'], color=f, ax=ax,show=False, return_fig=False)\n",
    "plt.tight_layout()"
   ]
  },
  {
   "cell_type": "code",
   "execution_count": null,
   "metadata": {},
   "outputs": [],
   "source": [
    "sc.tl.leiden(sub_adts['2'], resolution=0.5) # subcluster them using Leiden\n",
    "fig, ax = plt.subplots(1,1,figsize=(5.25, 5))\n",
    "for ax, f in zip(np.ravel(ax), ['leiden']):\n",
    "    ax.set_facecolor('gray')\n",
    "    sc.pl.umap(sub_adts['2'], color=f, ax=ax, show=False, return_fig=False)\n",
    "plt.tight_layout()"
   ]
  },
  {
   "cell_type": "code",
   "execution_count": null,
   "metadata": {},
   "outputs": [],
   "source": [
    "groupings = [[0, 5],\n",
    "             [1, 2],\n",
    "            ]\n",
    "grouped_clusts = [i for j in groupings for i in j]\n",
    "numclusts = np.unique(sub_adts['2'].obs['leiden'].values.astype(int))\n",
    "for i in np.setdiff1d(numclusts, grouped_clusts):\n",
    "    groupings.append([i])"
   ]
  },
  {
   "cell_type": "code",
   "execution_count": null,
   "metadata": {},
   "outputs": [],
   "source": [
    "ctdict = dict()\n",
    "for i in range(len(groupings)):\n",
    "    ctdict['ct%s' % str(i)] = groupings[i]\n",
    "\n",
    "sub_adts['2'].obs['celltype'] = sub_adts['2'].obs['leiden']\n",
    "for ct in ctdict:\n",
    "    for clust in ctdict[ct]:\n",
    "        sub_adts['2'].obs['celltype'].replace(str(clust), ct, regex=True, inplace=True)\n",
    "sub_adts['2'].obs['leiden'] = [i.strip('ct') for i in sub_adts['2'].obs['celltype'].astype('category')]"
   ]
  },
  {
   "cell_type": "code",
   "execution_count": null,
   "metadata": {},
   "outputs": [],
   "source": [
    "fig, ax = plt.subplots(1,1,figsize=(5.25, 5))\n",
    "for ax, f in zip(np.ravel(ax), ['leiden']):\n",
    "    ax.set_facecolor('gray')\n",
    "    sc.pl.umap(sub_adts['2'], color=f, ax=ax,show=False, return_fig=False)\n",
    "plt.tight_layout()"
   ]
  },
  {
   "cell_type": "code",
   "execution_count": null,
   "metadata": {},
   "outputs": [],
   "source": [
    "sc.tl.leiden(sub_adts['3'], resolution=0.2) # subcluster them using Leiden\n",
    "sc.pl.umap(sub_adts['3'],color='leiden', size=5)"
   ]
  },
  {
   "cell_type": "code",
   "execution_count": null,
   "metadata": {},
   "outputs": [],
   "source": [
    "sc.tl.leiden(sub_adts['5'], resolution=0.5) # subcluster them using Leiden\n",
    "sc.pl.umap(sub_adts['5'],color='leiden', size=5)"
   ]
  },
  {
   "cell_type": "code",
   "execution_count": null,
   "metadata": {},
   "outputs": [],
   "source": [
    "sc.tl.leiden(sub_acg_t['5'], resolution=0.5) # subcluster them using Leiden\n",
    "sc.pl.umap(sub_acg_t['5'],color='leiden', size=5)"
   ]
  },
  {
   "cell_type": "code",
   "execution_count": null,
   "metadata": {},
   "outputs": [],
   "source": [
    "sc.tl.leiden(sub_acg_t['7'], resolution=0.2) # subcluster them using Leiden\n",
    "sc.pl.umap(sub_acg_t['7'],color='leiden', size=5)"
   ]
  },
  {
   "cell_type": "code",
   "execution_count": null,
   "metadata": {},
   "outputs": [],
   "source": [
    "sc.tl.leiden(sub_acg_t['10'], resolution=0.2) # subcluster them using Leiden\n",
    "sc.pl.umap(sub_acg_t['10'],color='leiden', size=5)"
   ]
  },
  {
   "cell_type": "code",
   "execution_count": null,
   "metadata": {},
   "outputs": [],
   "source": [
    "def sub_cluster_mapper(adata, sub_adatas):\n",
    "    '''\n",
    "    This takes in the adata object and inserts a new leiden column in the `.obs`. \n",
    "    \n",
    "    This function is really convoluted and there's probably a better, simpler way to do it,\n",
    "    but it should theoretically work for any number of subclusters\n",
    "    '''\n",
    "    # ideally you'd make a copy of the adata object here, so we don't have to change the original\n",
    "    # this would be in case we want to run it multiple times, perhaps the resolutions we put in didn't subset the clusters like we had hoped\n",
    "    # and we need to run multiple times to adjust the resolution slightly\n",
    "    \n",
    "    # this block is to figure out that there are two new subclusters and they should be named 8, 9\n",
    "    total_new_clusts = 0\n",
    "    old_clusts = sub_adatas.keys()\n",
    "    for sub_adata in sub_adatas:\n",
    "        total_new_clusts += sub_adatas[sub_adata].obs['leiden'].astype(int).unique().max() + 1\n",
    "    total_added_clusts = total_new_clusts - len(sub_adatas)\n",
    "    new_clust_names_start = max(adata.obs['leiden'].astype(int))+1\n",
    "    new_added_clust_names = [str(i) for i in range(new_clust_names_start,\n",
    "                                                   new_clust_names_start + total_added_clusts)]\n",
    "    \n",
    "    # this block is to build a new list of leiden clusters from the old one \n",
    "    new_leiden = list()\n",
    "    leiden_col = adata.obs['leiden'].copy()\n",
    "\n",
    "    # this builds the new leiden cluster list, now adding a .1, .2, etc. to each new cluster\n",
    "    for obs in leiden_col.index:\n",
    "        clust_name = leiden_col.loc[obs]\n",
    "        if clust_name not in old_clusts or sub_adatas[clust_name].obs.loc[obs, 'leiden'] == '0':\n",
    "            new_leiden.append(clust_name)\n",
    "        else:\n",
    "            new_leiden.append(clust_name + '.%s' % sub_adatas[clust_name].obs.loc[obs,'leiden'])\n",
    "\n",
    "    # this renames the .1, .2, etc clusters to the new, better names I came up with above (8 and 9)\n",
    "    new_leiden = pd.Series(new_leiden, index=adata.obs_names)\n",
    "    added_clusts = np.setdiff1d(new_leiden,adata.obs['leiden'])\n",
    "    new_leiden.replace(dict(zip(added_clusts, new_added_clust_names)), inplace=True)\n",
    "    \n",
    "    # replace the old leiden column, must do these steps sequentially \n",
    "    adata.obs['leiden'] = new_leiden.astype(int) # to order the clusters by number\n",
    "    adata.obs['leiden'] = new_leiden.astype(str) # to convert to string as normal\n",
    "#     adata.obs['leiden'] = new_leiden.astype('category') # don't do this, it messes things up, just let scanpy do it as it plots\n",
    "    return adata"
   ]
  },
  {
   "cell_type": "code",
   "execution_count": null,
   "metadata": {},
   "outputs": [],
   "source": [
    "acg_t = sub_cluster_mapper(acg_t, sub_acg_t)"
   ]
  },
  {
   "cell_type": "code",
   "execution_count": null,
   "metadata": {},
   "outputs": [],
   "source": [
    "fig, ax = plt.subplots(1, 2, figsize=(20,10))\n",
    "for color, ax, palette in zip(['cond', 'leiden'], ax, [None, sc.pl.palettes.default_20]):\n",
    "    ax.set_facecolor('black')\n",
    "    sc.pl.umap(acg_t,color=color, ax=ax, show=False, return_fig=False, size=10, palette=palette)"
   ]
  },
  {
   "cell_type": "markdown",
   "metadata": {},
   "source": [
    "# Single Gene Plotter"
   ]
  },
  {
   "cell_type": "code",
   "execution_count": null,
   "metadata": {},
   "outputs": [],
   "source": [
    "[i for i in adts.var_names if 'CD34' in i]"
   ]
  },
  {
   "cell_type": "code",
   "execution_count": null,
   "metadata": {},
   "outputs": [],
   "source": []
  },
  {
   "cell_type": "code",
   "execution_count": null,
   "metadata": {},
   "outputs": [],
   "source": [
    "f = ['CD16']"
   ]
  },
  {
   "cell_type": "code",
   "execution_count": null,
   "metadata": {},
   "outputs": [],
   "source": [
    "fig, ax = plt.subplots(1,1,figsize=(5,5))\n",
    "ax.set_facecolor('black')\n",
    "sc.pl.umap(adts, color=f, ax=ax,show=False, return_fig=False);"
   ]
  },
  {
   "cell_type": "code",
   "execution_count": null,
   "metadata": {},
   "outputs": [],
   "source": [
    "features = ['CD3|CD3E', 'CD20|MS4A1', 'IgD|IGHD', 'CD27|CD27', 'CD69|CD69', \n",
    "            'CD8|CD8A', 'CD4|CD4', 'CD45RO|PTPRC', 'CD45RA|PTPRC', 'CD185|CXCR5', \n",
    "            'CD62L|SELL', 'CD26|DPP4', 'CD103|ITGAE', 'CD56|NCAM1','CD16|FCGR3A',\n",
    "           'CD14|CD14', 'CD25|IL2RA', 'CD94|KLRD1', 'CD11c|ITGAX', 'CD197|CCR7',\n",
    "           'CD194|CCR4', 'TCRab|TRA_TRB', 'CD183|CXCR3', 'TCRgd|TRD_TRG', 'CD34|CD34']"
   ]
  },
  {
   "cell_type": "code",
   "execution_count": null,
   "metadata": {},
   "outputs": [],
   "source": [
    "fig, ax = plt.subplots(5,5,figsize=(25,24))\n",
    "for ax, f in tqdm(zip(np.ravel(ax), features)):\n",
    "    ax.set_facecolor('black')\n",
    "    sc.pl.umap(adts, color=f, ax=ax,show=False, return_fig=False, use_raw=False)\n",
    "plt.tight_layout()"
   ]
  },
  {
   "cell_type": "code",
   "execution_count": null,
   "metadata": {},
   "outputs": [],
   "source": [
    "fig, ax = plt.subplots(1,1,figsize=(5,5))\n",
    "ax.set_facecolor('black')\n",
    "sc.pl.umap(adts, color=f, ax=ax,show=False, return_fig=False);"
   ]
  },
  {
   "cell_type": "code",
   "execution_count": null,
   "metadata": {},
   "outputs": [],
   "source": [
    "adts = adts[~adts.obs['leiden'].isin(['17']),:].copy()"
   ]
  },
  {
   "cell_type": "code",
   "execution_count": null,
   "metadata": {},
   "outputs": [],
   "source": []
  }
 ],
 "metadata": {
  "kernelspec": {
   "display_name": "codec",
   "language": "python",
   "name": "codec"
  },
  "language_info": {
   "codemirror_mode": {
    "name": "ipython",
    "version": 3
   },
   "file_extension": ".py",
   "mimetype": "text/x-python",
   "name": "python",
   "nbconvert_exporter": "python",
   "pygments_lexer": "ipython3",
   "version": "3.6.7"
  }
 },
 "nbformat": 4,
 "nbformat_minor": 4
}
