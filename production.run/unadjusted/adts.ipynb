{
 "cells": [
  {
   "cell_type": "markdown",
   "metadata": {},
   "source": [
    "## ADT Processing\n",
    "\n",
    "Processing the ADTs."
   ]
  },
  {
   "cell_type": "code",
   "execution_count": 1,
   "metadata": {},
   "outputs": [],
   "source": [
    "import scanpy as sc \n",
    "import pandas as pd \n",
    "import numpy as np\n",
    "import matplotlib.pyplot as plt\n",
    "from tqdm.notebook import tqdm\n",
    "import warnings\n",
    "import itertools as it\n",
    "import json\n",
    "import requests\n",
    "import seaborn as sns\n",
    "import pickle as pkl\n",
    "from functools import reduce"
   ]
  },
  {
   "cell_type": "code",
   "execution_count": 2,
   "metadata": {},
   "outputs": [
    {
     "name": "stdout",
     "output_type": "stream",
     "text": [
      "1.4.5.post1\n"
     ]
    }
   ],
   "source": [
    "sc.settings.verbosity = 4\n",
    "sc.settings.set_figure_params(dpi=80)\n",
    "print(sc.__version__)\n",
    "sc.settings.n_jobs=12"
   ]
  },
  {
   "cell_type": "code",
   "execution_count": 3,
   "metadata": {},
   "outputs": [],
   "source": [
    "prefix = '/data/codec/production.run/adts/'"
   ]
  },
  {
   "cell_type": "markdown",
   "metadata": {},
   "source": [
    "### Load in the Data"
   ]
  },
  {
   "cell_type": "code",
   "execution_count": 4,
   "metadata": {},
   "outputs": [
    {
     "name": "stdout",
     "output_type": "stream",
     "text": [
      "reading /data/codec/production.run/adts/10x.h5s/well1/outs/raw_feature_bc_matrix.h5\n",
      " (0:00:06)\n",
      "reading /data/codec/production.run/adts/10x.h5s/well2/outs/raw_feature_bc_matrix.h5\n",
      " (0:00:06)\n",
      "reading /data/codec/production.run/adts/10x.h5s/well3/outs/raw_feature_bc_matrix.h5\n",
      " (0:00:06)\n",
      "reading /data/codec/production.run/adts/10x.h5s/well4/outs/raw_feature_bc_matrix.h5\n",
      " (0:00:06)\n",
      "reading /data/codec/production.run/adts/10x.h5s/well5/outs/raw_feature_bc_matrix.h5\n",
      " (0:00:06)\n",
      "reading /data/codec/production.run/adts/10x.h5s/well6/outs/raw_feature_bc_matrix.h5\n",
      " (0:00:06)\n",
      "reading /data/codec/production.run/adts/10x.h5s/well7/outs/raw_feature_bc_matrix.h5\n",
      " (0:00:06)\n",
      "reading /data/codec/production.run/adts/10x.h5s/well8/outs/raw_feature_bc_matrix.h5\n",
      " (0:00:06)\n",
      "reading /data/codec/production.run/adts/10x.h5s/well9/outs/raw_feature_bc_matrix.h5\n",
      " (0:00:06)\n",
      "reading /data/codec/production.run/adts/10x.h5s/well10/outs/raw_feature_bc_matrix.h5\n",
      " (0:00:06)\n",
      "reading /data/codec/production.run/adts/10x.h5s/well11/outs/raw_feature_bc_matrix.h5\n",
      " (0:00:06)\n",
      "reading /data/codec/production.run/adts/10x.h5s/well12/outs/raw_feature_bc_matrix.h5\n",
      " (0:00:06)\n"
     ]
    }
   ],
   "source": [
    "wells = dict()\n",
    "for well in range(12):\n",
    "    wells[well] = dict()\n",
    "    wells[well]['adata'] = sc.read_10x_h5(prefix + \"10x.h5s/well%d/outs/raw_feature_bc_matrix.h5\" % (well + 1))\n",
    "    wells[well]['adata'].var_names_make_unique()"
   ]
  },
  {
   "cell_type": "markdown",
   "metadata": {},
   "source": [
    "Also load in the barcodes from the mRNA, so I don't have these giant matrices in memory."
   ]
  },
  {
   "cell_type": "code",
   "execution_count": 6,
   "metadata": {},
   "outputs": [],
   "source": [
    "path = prefix + '../mrna/concat.bcs.txt'\n",
    "\n",
    "with open(path,'r') as file:\n",
    "    bcs = ['-'.join(i.strip().split('-')[:2]) for i in file.readlines()]"
   ]
  },
  {
   "cell_type": "markdown",
   "metadata": {},
   "source": [
    "### Adjust Cell Barcodes, Filter\n",
    "\n",
    "I'm adjusting the cell barcodes to make them match their well number, which I also did with the mRNA."
   ]
  },
  {
   "cell_type": "code",
   "execution_count": 5,
   "metadata": {},
   "outputs": [
    {
     "data": {
      "application/vnd.jupyter.widget-view+json": {
       "model_id": "0d22b41f8bc24e4ea91db8981b3cde79",
       "version_major": 2,
       "version_minor": 0
      },
      "text/plain": [
       "HBox(children=(IntProgress(value=0, max=12), HTML(value='')))"
      ]
     },
     "metadata": {},
     "output_type": "display_data"
    },
    {
     "name": "stdout",
     "output_type": "stream",
     "text": [
      "\n"
     ]
    }
   ],
   "source": [
    "for well in tqdm(wells):\n",
    "    wells[well]['adata'].obs_names = [i[:16] + '-%s' % well for i in wells[well]['adata'].obs_names]"
   ]
  },
  {
   "cell_type": "markdown",
   "metadata": {},
   "source": [
    "Subsetting based on the mRNA barcodes."
   ]
  },
  {
   "cell_type": "code",
   "execution_count": 7,
   "metadata": {},
   "outputs": [
    {
     "data": {
      "application/vnd.jupyter.widget-view+json": {
       "model_id": "591c1de4aa654c4c99c51b760a90f6de",
       "version_major": 2,
       "version_minor": 0
      },
      "text/plain": [
       "HBox(children=(IntProgress(value=0, max=12), HTML(value='')))"
      ]
     },
     "metadata": {},
     "output_type": "display_data"
    },
    {
     "name": "stdout",
     "output_type": "stream",
     "text": [
      "\n"
     ]
    }
   ],
   "source": [
    "for well in tqdm(wells):\n",
    "    wells[well]['adata'] = wells[well]['adata'][[i for i in bcs if int(i.split('-')[-1]) == well]]"
   ]
  },
  {
   "cell_type": "markdown",
   "metadata": {},
   "source": [
    "Going to use the `filter_cells` and `filter_genes` functions just to get the `n_counts` column in the `.obs` and `.var`. Not actually filtering, since I'm setting my thresholds to 0."
   ]
  },
  {
   "cell_type": "code",
   "execution_count": 8,
   "metadata": {},
   "outputs": [
    {
     "name": "stderr",
     "output_type": "stream",
     "text": [
      "Trying to set attribute `.obs` of view, copying.\n",
      "Trying to set attribute `.obs` of view, copying.\n",
      "Trying to set attribute `.obs` of view, copying.\n",
      "Trying to set attribute `.obs` of view, copying.\n",
      "Trying to set attribute `.obs` of view, copying.\n",
      "Trying to set attribute `.obs` of view, copying.\n",
      "Trying to set attribute `.obs` of view, copying.\n",
      "Trying to set attribute `.obs` of view, copying.\n",
      "Trying to set attribute `.obs` of view, copying.\n",
      "Trying to set attribute `.obs` of view, copying.\n",
      "Trying to set attribute `.obs` of view, copying.\n",
      "Trying to set attribute `.obs` of view, copying.\n"
     ]
    }
   ],
   "source": [
    "for well in wells:\n",
    "    sc.pp.filter_cells(wells[well]['adata'], min_counts=0)\n",
    "    sc.pp.filter_genes(wells[well]['adata'], min_counts=0)"
   ]
  },
  {
   "cell_type": "markdown",
   "metadata": {},
   "source": [
    "### Concatenate"
   ]
  },
  {
   "cell_type": "code",
   "execution_count": 57,
   "metadata": {},
   "outputs": [],
   "source": [
    "concat_adts = dict()"
   ]
  },
  {
   "cell_type": "code",
   "execution_count": 58,
   "metadata": {},
   "outputs": [],
   "source": [
    "concat_adts['adata'] = wells[0]['adata'].concatenate(*[wells[i]['adata'] for i in range(1,12)])# I really shouldn't do this, I should go back and run cellranger aggr, but for now just concatenate"
   ]
  },
  {
   "cell_type": "code",
   "execution_count": 59,
   "metadata": {},
   "outputs": [],
   "source": [
    "concat_adts['adata'].var['n_counts'] = concat_adts['adata'].var[[i for i in concat_adts['adata'].var.columns if i.startswith('n_counts')]].sum(axis=1)"
   ]
  },
  {
   "cell_type": "code",
   "execution_count": 60,
   "metadata": {},
   "outputs": [],
   "source": [
    "concat_adts['raw'] = concat_adts['adata'].copy()"
   ]
  },
  {
   "cell_type": "markdown",
   "metadata": {},
   "source": [
    "### Filter Proteins, Transform Data\n",
    "\n",
    "Trying to see if any proteins have much lower counts. We usually see even antibodies that weren't even added into the mix still showing some counts."
   ]
  },
  {
   "cell_type": "code",
   "execution_count": 61,
   "metadata": {},
   "outputs": [
    {
     "data": {
      "image/png": "[encoded data removed]",
      "text/plain": [
       "<Figure size 640x480 with 1 Axes>"
      ]
     },
     "metadata": {
      "image/png": {
       "height": 406,
       "width": 534
      },
      "needs_background": "light"
     },
     "output_type": "display_data"
    }
   ],
   "source": [
    "plt.figure(figsize=(8,6))\n",
    "plt.hist(concat_adts['adata'].var['n_counts'].values, color='k', bins=np.logspace(np.log10(1e2),np.log10(1e8), 100))\n",
    "plt.grid(False)\n",
    "plt.grid(True, 'both', 'both')\n",
    "plt.xscale('log')\n",
    "# plt.yscale('log')"
   ]
  },
  {
   "cell_type": "markdown",
   "metadata": {},
   "source": [
    "Going to only keep those proteins with counts > 100K, since they're probably not real."
   ]
  },
  {
   "cell_type": "code",
   "execution_count": 62,
   "metadata": {},
   "outputs": [],
   "source": [
    "concat_adts['adata'] = concat_adts['adata'][:,concat_adts['adata'].var['n_counts'] > 1e5].copy()"
   ]
  },
  {
   "cell_type": "markdown",
   "metadata": {},
   "source": [
    "Now normalize per cell and log the data."
   ]
  },
  {
   "cell_type": "code",
   "execution_count": 63,
   "metadata": {},
   "outputs": [
    {
     "name": "stdout",
     "output_type": "stream",
     "text": [
      "normalizing by total count per cell\n",
      "    finished (0:00:00): normalized adata.X and added    'n_counts', counts per cell before normalization (adata.obs)\n"
     ]
    }
   ],
   "source": [
    "sc.pp.normalize_per_cell(concat_adts['adata'], counts_per_cell_after=1e6)"
   ]
  },
  {
   "cell_type": "markdown",
   "metadata": {},
   "source": [
    "### Fix Distributions\n",
    "\n",
    "I noticed that some cells in the distributions stretch out the range more than needed. They seem to have zero counts, but are clearly not even the \"negative\" distribution. For whatever reason, they did not record any alignments to the protein. In order for these not to skew the distribution after scaling, I'm going to clip the counts to a lower threshold."
   ]
  },
  {
   "cell_type": "code",
   "execution_count": 65,
   "metadata": {},
   "outputs": [
    {
     "data": {
      "image/png": "[encoded data removed]",
      "text/plain": [
       "<Figure size 800x320 with 2 Axes>"
      ]
     },
     "metadata": {
      "image/png": {
       "height": 283,
       "width": 704
      },
      "needs_background": "light"
     },
     "output_type": "display_data"
    }
   ],
   "source": [
    "fig, ax = plt.subplots(1,2,figsize=(10,4))\n",
    "ax[0].hist(concat_adts['adata'].obs_vector('CD45RA|PTPRC'),bins=100);\n",
    "ax[1].hist(concat_adts['adata'].obs_vector('CD45RA|PTPRC'),bins=100);\n",
    "ax[1].set_yscale('log');"
   ]
  },
  {
   "cell_type": "markdown",
   "metadata": {},
   "source": [
    "See, there are a very small number of cells with counts of close to or at zero while the rest of the cells show counts in the 1000s or 10s of 1000s. This becomes a problem when I scale the data."
   ]
  },
  {
   "cell_type": "code",
   "execution_count": 66,
   "metadata": {},
   "outputs": [],
   "source": [
    "proteins = concat_adts['adata'].var_names"
   ]
  },
  {
   "cell_type": "markdown",
   "metadata": {},
   "source": [
    "To find the lower value to clip at, I'm just going to use the bins from the histogram itself, and find the first non-zero bin after the initial peak, if there _is_ an initial peak."
   ]
  },
  {
   "cell_type": "code",
   "execution_count": 67,
   "metadata": {},
   "outputs": [
    {
     "data": {
      "application/vnd.jupyter.widget-view+json": {
       "model_id": "4bad7c8e5c87495aac2ca5ed49e1be8d",
       "version_major": 2,
       "version_minor": 0
      },
      "text/plain": [
       "HBox(children=(IntProgress(value=0, max=96), HTML(value='')))"
      ]
     },
     "metadata": {},
     "output_type": "display_data"
    },
    {
     "name": "stdout",
     "output_type": "stream",
     "text": [
      "\n"
     ]
    }
   ],
   "source": [
    "shifts = list()\n",
    "for protein in tqdm(proteins):\n",
    "    n, bins, patches = plt.hist(concat_adts['adata'].obs_vector(protein),bins=100)\n",
    "    plt.close()\n",
    "    shifts.append(bins[n.argmin() + (n[n.argmin():] > 0).argmax()])"
   ]
  },
  {
   "cell_type": "code",
   "execution_count": 68,
   "metadata": {},
   "outputs": [
    {
     "data": {
      "application/vnd.jupyter.widget-view+json": {
       "model_id": "7f5378f85af64ab18af8fef284a37bba",
       "version_major": 2,
       "version_minor": 0
      },
      "text/plain": [
       "HBox(children=(IntProgress(value=0, max=96), HTML(value='')))"
      ]
     },
     "metadata": {},
     "output_type": "display_data"
    },
    {
     "name": "stdout",
     "output_type": "stream",
     "text": [
      "\n"
     ]
    }
   ],
   "source": [
    "new_X = concat_adts['adata'].X.toarray()\n",
    "for i in tqdm(range(len(proteins))):\n",
    "    new_X[:,i] = np.clip(new_X[:,i],shifts[i], np.inf)"
   ]
  },
  {
   "cell_type": "code",
   "execution_count": 69,
   "metadata": {},
   "outputs": [],
   "source": [
    "concat_adts['adata'].X = new_X"
   ]
  },
  {
   "cell_type": "code",
   "execution_count": 70,
   "metadata": {},
   "outputs": [],
   "source": [
    "concat_adts['unscaled'] = concat_adts['adata'].copy()"
   ]
  },
  {
   "cell_type": "code",
   "execution_count": 71,
   "metadata": {},
   "outputs": [
    {
     "name": "stdout",
     "output_type": "stream",
     "text": [
      "    ... clipping at max_value 10\n"
     ]
    }
   ],
   "source": [
    "sc.pp.scale(concat_adts['adata'], max_value=10)"
   ]
  },
  {
   "cell_type": "code",
   "execution_count": 72,
   "metadata": {},
   "outputs": [
    {
     "data": {
      "image/png": "[encoded data removed]",
      "text/plain": [
       "<Figure size 800x320 with 2 Axes>"
      ]
     },
     "metadata": {
      "image/png": {
       "height": 283,
       "width": 689
      },
      "needs_background": "light"
     },
     "output_type": "display_data"
    }
   ],
   "source": [
    "fig, ax = plt.subplots(1,2,figsize=(10,4))\n",
    "ax[0].hist(concat_adts['adata'].obs_vector('CD45RA|PTPRC'),bins=100);\n",
    "ax[1].hist(concat_adts['adata'].obs_vector('CD45RA|PTPRC'),bins=100);\n",
    "ax[1].set_yscale('log');"
   ]
  },
  {
   "cell_type": "markdown",
   "metadata": {},
   "source": [
    "Looks a bit better. I'll keep it like that."
   ]
  },
  {
   "cell_type": "code",
   "execution_count": 27,
   "metadata": {},
   "outputs": [],
   "source": [
    "path = prefix + 'pkls/concat.adts.norm.log.pkl'\n",
    "\n",
    "# with open(path,'wb') as file:\n",
    "#     pkl.dump(concat_adts, file)\n",
    "    \n",
    "with open(path,'rb') as file:\n",
    "    concat_adts = pkl.load(file)"
   ]
  }
 ],
 "metadata": {
  "kernelspec": {
   "display_name": "codec",
   "language": "python",
   "name": "codec"
  },
  "language_info": {
   "codemirror_mode": {
    "name": "ipython",
    "version": 3
   },
   "file_extension": ".py",
   "mimetype": "text/x-python",
   "name": "python",
   "nbconvert_exporter": "python",
   "pygments_lexer": "ipython3",
   "version": "3.6.7"
  }
 },
 "nbformat": 4,
 "nbformat_minor": 4
}
