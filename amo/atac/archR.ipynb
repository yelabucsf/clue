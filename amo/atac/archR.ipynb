{
 "cells": [
  {
   "cell_type": "markdown",
   "metadata": {},
   "source": [
    "# Introduction"
   ]
  },
  {
   "cell_type": "markdown",
   "metadata": {},
   "source": [
    "Here I run latent semantic indexing (LSI) on the ATAC data using archR. Before running it, I run the following script at the command line:"
   ]
  },
  {
   "cell_type": "markdown",
   "metadata": {},
   "source": [
    "```\n",
    "library(\"ArchR\")\n",
    "set.seed(1)\n",
    "rhdf5::h5disableFileLocking()\n",
    "addArchRThreads(threads = 14)\n",
    "inputFile <- '/data/clue/amo/atac/cr/aggr/outs/fragments.tsv.gz'\n",
    "addArchRGenome(\"hg38\")\n",
    "valid_barcodes <- readLines('/data/clue/amo/atac/vals/concat_1_bcs.txt')\n",
    "ArrowFiles <- createArrowFiles(\n",
    "    inputFiles = inputFile,\n",
    "    sampleNames = \"clue.aggr.concat_1_bcs\",\n",
    "    validBarcodes = valid_barcodes,\n",
    "#     filterTSS = 4, #Dont set this too high because you can always increase later\n",
    "#     filterFrags = 1000,\n",
    "    QCDir = '/data/clue/atac/archR/QualityControl',\n",
    "    logFile = createLogFile(name=\"createArrows\", logDir='/data/clue/atac/archR/ArchRLogs'),\n",
    "    addTileMat = TRUE,\n",
    "    addGeneScoreMat = TRUE\n",
    ")\n",
    "```"
   ]
  },
  {
   "cell_type": "markdown",
   "metadata": {},
   "source": [
    "Then, run the following cells using an R kernel."
   ]
  },
  {
   "cell_type": "markdown",
   "metadata": {},
   "source": [
    "# Setup"
   ]
  },
  {
   "cell_type": "code",
   "execution_count": 2,
   "metadata": {},
   "outputs": [],
   "source": [
    "suppressMessages(library(\"ArchR\"))"
   ]
  },
  {
   "cell_type": "code",
   "execution_count": 3,
   "metadata": {},
   "outputs": [],
   "source": [
    "set.seed(1)"
   ]
  },
  {
   "cell_type": "code",
   "execution_count": 4,
   "metadata": {},
   "outputs": [],
   "source": [
    "suppressMessages(addArchRGenome(\"hg38\"))"
   ]
  },
  {
   "cell_type": "code",
   "execution_count": 6,
   "metadata": {},
   "outputs": [],
   "source": [
    "ArrowFile <- '/data/clue/amo/atac/archR/clue.aggr.concat_2_bcs.arrow'"
   ]
  },
  {
   "cell_type": "code",
   "execution_count": 6,
   "metadata": {
    "collapsed": true,
    "jupyter": {
     "outputs_hidden": true
    }
   },
   "outputs": [
    {
     "name": "stderr",
     "output_type": "stream",
     "text": [
      "Using GeneAnnotation set by addArchRGenome(Hg38)!\n",
      "\n",
      "Using GeneAnnotation set by addArchRGenome(Hg38)!\n",
      "\n",
      "Validating Arrows...\n",
      "\n",
      "Getting SampleNames...\n",
      "\n",
      "1 \n",
      "\n",
      "\n",
      "Getting Cell Metadata...\n",
      "\n",
      "1 \n",
      "\n",
      "\n",
      "Merging Cell Metadata...\n",
      "\n",
      "Initializing ArchRProject...\n",
      "\n",
      "\n",
      "                                                   / |\n",
      "                                                 /    \\\n",
      "            .                                  /      |.\n",
      "            \\\\\\                              /        |.\n",
      "              \\\\\\                          /           `|.\n",
      "                \\\\\\                      /              |.\n",
      "                  \\                    /                |\\\n",
      "                  \\\\#####\\           /                  ||\n",
      "                ==###########>      /                   ||\n",
      "                 \\\\##==......\\    /                     ||\n",
      "            ______ =       =|__ /__                     ||      \\\\\\\n",
      "        ,--' ,----`-,__ ___/'  --,-`-===================##========>\n",
      "       \\               '        ##_______ _____ ,--,__,=##,__   ///\n",
      "        ,    __==    ___,-,__,--'#'  ==='      `-'    | ##,-/\n",
      "        -,____,---'       \\\\####\\\\________________,--\\\\_##,/\n",
      "           ___      .______        ______  __    __  .______      \n",
      "          /   \\     |   _  \\      /      ||  |  |  | |   _  \\     \n",
      "         /  ^  \\    |  |_)  |    |  ,----'|  |__|  | |  |_)  |    \n",
      "        /  /_\\  \\   |      /     |  |     |   __   | |      /     \n",
      "       /  _____  \\  |  |\\  \\\\___ |  `----.|  |  |  | |  |\\  \\\\___.\n",
      "      /__/     \\__\\ | _| `._____| \\______||__|  |__| | _| `._____|\n",
      "    \n",
      "\n"
     ]
    }
   ],
   "source": [
    "proj <- ArchRProject(\n",
    "    ArrowFiles = ArrowFile,\n",
    "    outputDirectory = '/data/clue/amo/atac/archR/',\n",
    "    copyArrows = FALSE # This is recommened so that you maintain an unaltered copy for later usage.\n",
    ")"
   ]
  },
  {
   "cell_type": "markdown",
   "metadata": {},
   "source": [
    "`archR` rearranged the order of the cells when it created the arrow file, so I need to re-export the cell names."
   ]
  },
  {
   "cell_type": "code",
   "execution_count": 58,
   "metadata": {},
   "outputs": [],
   "source": [
    "write.table(proj$cellNames, paste('/data/clue/amo/atac/archR/cell_labels.txt', sep=''), row.names = FALSE, sep='\\t', quote = FALSE)"
   ]
  },
  {
   "cell_type": "markdown",
   "metadata": {},
   "source": [
    "# Create LSI"
   ]
  },
  {
   "cell_type": "code",
   "execution_count": 8,
   "metadata": {},
   "outputs": [],
   "source": [
    "proj <- addIterativeLSI(ArchRProj = proj, useMatrix = \"TileMatrix\", name = \"IterativeLSI\")"
   ]
  },
  {
   "cell_type": "code",
   "execution_count": 8,
   "metadata": {},
   "outputs": [],
   "source": [
    "write.csv(getReducedDims(proj), '/data/clue/amo/atac/archR/vals/lsi.csv')"
   ]
  },
  {
   "cell_type": "markdown",
   "metadata": {},
   "source": [
    "# Create Genescore"
   ]
  },
  {
   "cell_type": "code",
   "execution_count": 8,
   "metadata": {},
   "outputs": [],
   "source": [
    "genescorematrix <- getMatrixFromProject(proj, useMatrix = \"GeneScoreMatrix\")"
   ]
  },
  {
   "cell_type": "code",
   "execution_count": 8,
   "metadata": {},
   "outputs": [],
   "source": [
    "length(assay(genescorematrix))"
   ]
  },
  {
   "cell_type": "code",
   "execution_count": 8,
   "metadata": {},
   "outputs": [],
   "source": [
    "length(rownames(colData(genescorematrix)))*length(rowData(genescorematrix)$name)"
   ]
  },
  {
   "cell_type": "code",
   "execution_count": 8,
   "metadata": {},
   "outputs": [],
   "source": [
    "dir.create('/data/clue/amo/atac/archR/aggr_genescore/aggr_genescore/')\n",
    "\n",
    "write(rownames(colData(genescorematrix)), '/data/clue/amo/atac/archR/aggr_genescore/barcodes.tsv')\n",
    "write(rowData(genescorematrix)$name, '/data/clue/amo/atac/archR/aggr_genescore/genes.tsv')\n",
    "writeMM(assay(genescorematrix), '/data/clue/amo/atac/archR/aggr_genescore/matrix.mtx')"
   ]
  }
 ],
 "metadata": {
  "kernelspec": {
   "display_name": "archR_R",
   "language": "R",
   "name": "archr_ir"
  },
  "language_info": {
   "codemirror_mode": "r",
   "file_extension": ".r",
   "mimetype": "text/x-r-source",
   "name": "R",
   "pygments_lexer": "r",
   "version": "3.6.1"
  }
 },
 "nbformat": 4,
 "nbformat_minor": 4
}
