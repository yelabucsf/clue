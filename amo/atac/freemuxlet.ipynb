{
 "cells": [
  {
   "cell_type": "markdown",
   "metadata": {},
   "source": [
    "# Introduction\n",
    "These are the instructions for running freemuxlet on the ATAC data."
   ]
  },
  {
   "cell_type": "markdown",
   "metadata": {},
   "source": [
    "# Setup"
   ]
  },
  {
   "cell_type": "code",
   "execution_count": 3,
   "metadata": {},
   "outputs": [],
   "source": [
    "import os\n",
    "import gzip"
   ]
  },
  {
   "cell_type": "code",
   "execution_count": 4,
   "metadata": {},
   "outputs": [],
   "source": [
    "mountpoint = '/data/clue_test/'\n",
    "prefix = mountpoint + 'amo/atac/'"
   ]
  },
  {
   "cell_type": "markdown",
   "metadata": {},
   "source": [
    "# Creating the VCF"
   ]
  },
  {
   "cell_type": "markdown",
   "metadata": {},
   "source": [
    "1. Download the 1000 genomes VCF."
   ]
  },
  {
   "cell_type": "markdown",
   "metadata": {},
   "source": [
    "```\n",
    "wget http://ftp.1000genomes.ebi.ac.uk/vol1/ftp/data_collections/1000_genomes_project/release/20181203_biallelic_SNV/ALL.wgs.shapeit2_integrated_v1a.GRCh38.20181129.sites.vcf.gz\n",
    "wget http://ftp.1000genomes.ebi.ac.uk/vol1/ftp/data_collections/1000_genomes_project/release/20181203_biallelic_SNV/ALL.wgs.shapeit2_integrated_v1a.GRCh38.20181129.sites.vcf.gz.tbi\n",
    "```"
   ]
  },
  {
   "cell_type": "markdown",
   "metadata": {},
   "source": [
    "2. Use a text editor to change the version from 4.3 to 4.2 in the header line so that `bcftools` can run on it. This should not affect functionality."
   ]
  },
  {
   "cell_type": "markdown",
   "metadata": {},
   "source": [
    "3. Run `bcftools` to filter to a minor allele frequency of 0.05."
   ]
  },
  {
   "cell_type": "markdown",
   "metadata": {},
   "source": [
    "4. Run `bedtools intersect` to filter the SNPs to only those found in the peak sets of every well."
   ]
  },
  {
   "cell_type": "markdown",
   "metadata": {},
   "source": [
    "5. Rename the contigs from 1 to chr1 and filter for only autosomes."
   ]
  },
  {
   "cell_type": "markdown",
   "metadata": {},
   "source": [
    "```\n",
    "<contig renaming code here>\n",
    "samtools view -b input.bam chr{1..22} > output.bam\n",
    "```"
   ]
  },
  {
   "cell_type": "markdown",
   "metadata": {},
   "source": [
    "This pipeline should result in a VCF with `184243` sites located at:"
   ]
  },
  {
   "cell_type": "code",
   "execution_count": 11,
   "metadata": {},
   "outputs": [
    {
     "data": {
      "text/plain": [
       "'/data/clue/amo/atac/vcfs/filtered.2.with_chr.autosomes.vcf.gz'"
      ]
     },
     "execution_count": 11,
     "metadata": {},
     "output_type": "execute_result"
    }
   ],
   "source": [
    "prefix + 'vcfs/filtered.2.with_chr.autosomes.vcf.gz'"
   ]
  },
  {
   "cell_type": "markdown",
   "metadata": {},
   "source": [
    "# Running Freemuxlet\n"
   ]
  },
  {
   "cell_type": "markdown",
   "metadata": {},
   "source": [
    "The freemuxlet pipeline is actually composed of 2 steps:\n",
    "\n",
    "1. Running a pileup using `popscle dsc-pileup`.\n",
    "2. Running the clustering and demultiplexing using `popscle freemuxlet`.\n",
    "\n",
    "The `dsc-pileup` command takes in the aligned reads (BAM), the VCF created above, and the filtered droplet barcodes:\n",
    "\n",
    "```\n",
    "cd /data/clue/amo/atac/demux/plp/\n",
    "popscle dsc-pileup --sam /data/clue/amo/atac/cr/well1/outs/possorted_genome_bam.bam --vcf /data/clue/amo/vcfs/filtered.2.with_chr.autosomes.vcf.gz --out plp1 --group-list /data/clue/amo/atac/bcs/well1_bcs.tsv --skip-umi\n",
    "```\n",
    "\n",
    "You repeat this command for each well of the 10x run. This creates several pileup files per well:\n",
    "\n",
    "```\n",
    "plp1.cel.gz\n",
    "plp1.plp.gz\n",
    "plp1.var.gz\n",
    "```\n",
    "\n",
    "You can then run `merge_pileups.py` to merge the pileup files across all wells. This is to leverage the data from all droplets across multiple wells for learning the genotypes. This automatically increments the cell barcode's GEM group so they remain between across wells.\n",
    "\n",
    "```\n",
    "python merge_pileups.py /data/clue/amo/atac/demux/plp/plp1 /data/clue/amo/atac/demux/plp/plp2 /data/clue/amo/atac/demux/plp/plp3 /data/clue/amo/atac/demux/plp/plp4 /data/clue/amo/atac/demux/plp/plp5\n",
    "```\n",
    "\n",
    "Finally, you can run `freemuxlet`:\n",
    "\n",
    "```\n",
    "cd /data/clue/amo/atac/freemux/\n",
    "popscle freemuxlet --plp /data/clue/amo/atac/demux/plp/merged --out freemux --nsample 5\n",
    "```\n",
    "\n",
    "_Note_: To generate the genotype distance matrix, you must run `freemuxlet-old` and include the `--aux-files` flag to generate the `ldist.gz` file. "
   ]
  },
  {
   "cell_type": "markdown",
   "metadata": {},
   "source": [
    "At the end, you should have several freemuxlet outputs:\n",
    "```\n",
    "freemux.clust1.samples.gz\n",
    "freemux.clust1.vcf.gz\n",
    "freemux.lmix\n",
    "```"
   ]
  },
  {
   "cell_type": "code",
   "execution_count": 5,
   "metadata": {},
   "outputs": [
    {
     "data": {
      "text/plain": [
       "'/data/clue/amo/atac/demux/freemux/freemux.clust1.samples.gz'"
      ]
     },
     "execution_count": 5,
     "metadata": {},
     "output_type": "execute_result"
    }
   ],
   "source": [
    "freemux_path = prefix + 'demux/freemux/freemux.clust1.samples.gz'\n",
    "freemux_path"
   ]
  },
  {
   "cell_type": "markdown",
   "metadata": {},
   "source": [
    "# Split by Well"
   ]
  },
  {
   "cell_type": "markdown",
   "metadata": {},
   "source": [
    "Even though we merged for the demultiplexing, we'll load in the freemuxlet outputs separately by well, so we split them now."
   ]
  },
  {
   "cell_type": "code",
   "execution_count": 6,
   "metadata": {},
   "outputs": [
    {
     "data": {
      "text/plain": [
       "'/data/clue/amo/atac/demux/freemux/freemux.clust1.samples.gz'"
      ]
     },
     "execution_count": 6,
     "metadata": {},
     "output_type": "execute_result"
    }
   ],
   "source": [
    "freemux_path"
   ]
  },
  {
   "cell_type": "code",
   "execution_count": 51,
   "metadata": {},
   "outputs": [],
   "source": [
    "try:\n",
    "    os.mkdir(prefix + 'demux/freemux/by_well/')\n",
    "except FileExistsError:\n",
    "    pass"
   ]
  },
  {
   "cell_type": "code",
   "execution_count": 58,
   "metadata": {},
   "outputs": [],
   "source": [
    "freemux_file = gzip.open(freemux_path, 'rt')"
   ]
  },
  {
   "cell_type": "code",
   "execution_count": 59,
   "metadata": {},
   "outputs": [],
   "source": [
    "header = freemux_file.readline()"
   ]
  },
  {
   "cell_type": "code",
   "execution_count": 60,
   "metadata": {},
   "outputs": [],
   "source": [
    "wells = dict()\n",
    "for well in range(1,6):\n",
    "    wells[well] = dict()\n",
    "    wells[well]['path'] = prefix + 'demux/freemux/by_well/freemux_well%d.clust1.samples' % well\n",
    "    wells[well]['file'] = open(wells[well]['path'], 'w')\n",
    "    wells[well]['file'].write(header)"
   ]
  },
  {
   "cell_type": "code",
   "execution_count": 61,
   "metadata": {},
   "outputs": [],
   "source": [
    "for line in freemux_file.readlines():\n",
    "    well = int(line.split('\\t')[1].split('-')[-1])\n",
    "    wells[well]['file'].write(line)"
   ]
  },
  {
   "cell_type": "code",
   "execution_count": 62,
   "metadata": {},
   "outputs": [],
   "source": [
    "for well in range(1, 6):\n",
    "    wells[well]['file'].close()"
   ]
  },
  {
   "cell_type": "code",
   "execution_count": 63,
   "metadata": {},
   "outputs": [],
   "source": [
    "freemux_file.close()"
   ]
  }
 ],
 "metadata": {
  "kernelspec": {
   "display_name": "clue_test",
   "language": "python",
   "name": "clue_test"
  },
  "language_info": {
   "codemirror_mode": {
    "name": "ipython",
    "version": 3
   },
   "file_extension": ".py",
   "mimetype": "text/x-python",
   "name": "python",
   "nbconvert_exporter": "python",
   "pygments_lexer": "ipython3",
   "version": "3.6.10"
  }
 },
 "nbformat": 4,
 "nbformat_minor": 4
}
