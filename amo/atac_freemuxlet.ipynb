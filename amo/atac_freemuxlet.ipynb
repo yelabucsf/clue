{
 "cells": [
  {
   "cell_type": "markdown",
   "metadata": {},
   "source": [
    "# Introduction\n",
    "This is the pipeline for running freemuxlet on the ATAC data, written in plain text. This will be updated at a later date to confirm that these commands run using the tools listed and will note the version numbers. Then I will assemble into a bash script."
   ]
  },
  {
   "cell_type": "markdown",
   "metadata": {},
   "source": [
    "# Setup"
   ]
  },
  {
   "cell_type": "code",
   "execution_count": 20,
   "metadata": {},
   "outputs": [],
   "source": [
    "import os\n",
    "import gzip"
   ]
  },
  {
   "cell_type": "code",
   "execution_count": 10,
   "metadata": {},
   "outputs": [],
   "source": [
    "mountpoint = '/data/clue/'\n",
    "prefix = mountpoint + 'amo/atac/'"
   ]
  },
  {
   "cell_type": "markdown",
   "metadata": {},
   "source": [
    "# Creating the VCF"
   ]
  },
  {
   "cell_type": "markdown",
   "metadata": {},
   "source": [
    "1. Download the 1000 genomes VCF."
   ]
  },
  {
   "cell_type": "markdown",
   "metadata": {},
   "source": [
    "```\n",
    "wget http://ftp.1000genomes.ebi.ac.uk/vol1/ftp/data_collections/1000_genomes_project/release/20181203_biallelic_SNV/ALL.wgs.shapeit2_integrated_v1a.GRCh38.20181129.sites.vcf.gz\n",
    "wget http://ftp.1000genomes.ebi.ac.uk/vol1/ftp/data_collections/1000_genomes_project/release/20181203_biallelic_SNV/ALL.wgs.shapeit2_integrated_v1a.GRCh38.20181129.sites.vcf.gz.tbi\n",
    "```"
   ]
  },
  {
   "cell_type": "markdown",
   "metadata": {},
   "source": [
    "2. Use a text editor to change the version from 4.3 to 4.2 in the header line so that `bcftools` can run on it. This should not affect functionality."
   ]
  },
  {
   "cell_type": "markdown",
   "metadata": {},
   "source": [
    "3. Run `bcftools` to filter to a minor allele frequency of 0.05."
   ]
  },
  {
   "cell_type": "markdown",
   "metadata": {},
   "source": [
    "4. Run `bedtools intersect` to filter the SNPs to only those found in the peak sets of every well."
   ]
  },
  {
   "cell_type": "markdown",
   "metadata": {},
   "source": [
    "5. Rename the contigs from 1 to chr1 and filter for only autosomes."
   ]
  },
  {
   "cell_type": "markdown",
   "metadata": {},
   "source": [
    "```\n",
    "<contig renaming code here>\n",
    "samtools view -b input.bam chr{1..22} > output.bam\n",
    "```"
   ]
  },
  {
   "cell_type": "markdown",
   "metadata": {},
   "source": [
    "This pipeline should result in a VCF with `184243` sites located at:"
   ]
  },
  {
   "cell_type": "code",
   "execution_count": 11,
   "metadata": {},
   "outputs": [
    {
     "data": {
      "text/plain": [
       "'/data/clue/amo/atac/vcfs/filtered.2.with_chr.autosomes.vcf.gz'"
      ]
     },
     "execution_count": 11,
     "metadata": {},
     "output_type": "execute_result"
    }
   ],
   "source": [
    "prefix + 'vcfs/filtered.2.with_chr.autosomes.vcf.gz'"
   ]
  },
  {
   "cell_type": "markdown",
   "metadata": {},
   "source": [
    "# Running Freemuxlet\n"
   ]
  },
  {
   "cell_type": "markdown",
   "metadata": {},
   "source": [
    "The freemuxlet pipeline is actually composed of 2 steps:\n",
    "\n",
    "1. Running a pileup using `popscle dsc-pileup`.\n",
    "2. Running the clustering and demultiplexing using `popscle freemuxlet`.\n",
    "\n",
    "The `dsc-pileup` command takes in the aligned reads (BAM), the VCF created above, and the filtered droplet barcodes and creates several intermediate files:\n",
    "\n",
    "1. "
   ]
  },
  {
   "cell_type": "markdown",
   "metadata": {},
   "source": [
    "# ..."
   ]
  },
  {
   "cell_type": "markdown",
   "metadata": {},
   "source": [
    "At the end, you should have a freemuxlet output file at:"
   ]
  },
  {
   "cell_type": "code",
   "execution_count": 14,
   "metadata": {},
   "outputs": [
    {
     "data": {
      "text/plain": [
       "'/data/clue/amo/atac/demuxing/freemux_outs/freemux.clust1.samples.gz'"
      ]
     },
     "execution_count": 14,
     "metadata": {},
     "output_type": "execute_result"
    }
   ],
   "source": [
    "freemux_path = prefix + 'demuxing/freemux_outs/freemux.clust1.samples.gz'\n",
    "freemux_path"
   ]
  },
  {
   "cell_type": "markdown",
   "metadata": {},
   "source": [
    "# Split by Well"
   ]
  },
  {
   "cell_type": "markdown",
   "metadata": {},
   "source": [
    "Even though we merged for the demultiplexing, we'll load in the freemuxlet outputs separately by well, so we split them now at the command line."
   ]
  },
  {
   "cell_type": "code",
   "execution_count": 15,
   "metadata": {},
   "outputs": [
    {
     "data": {
      "text/plain": [
       "'/data/clue/amo/atac/demuxing/freemux_outs/freemux.clust1.samples.gz'"
      ]
     },
     "execution_count": 15,
     "metadata": {},
     "output_type": "execute_result"
    }
   ],
   "source": [
    "freemux_path"
   ]
  },
  {
   "cell_type": "code",
   "execution_count": 51,
   "metadata": {},
   "outputs": [],
   "source": [
    "try:\n",
    "    os.mkdir(prefix + 'demuxing/freemux_outs/by_well/')\n",
    "except FileExistsError:\n",
    "    pass"
   ]
  },
  {
   "cell_type": "code",
   "execution_count": 58,
   "metadata": {},
   "outputs": [],
   "source": [
    "freemux_file = gzip.open(freemux_path, 'rt')"
   ]
  },
  {
   "cell_type": "code",
   "execution_count": 59,
   "metadata": {},
   "outputs": [],
   "source": [
    "header = freemux_file.readline()"
   ]
  },
  {
   "cell_type": "code",
   "execution_count": 60,
   "metadata": {},
   "outputs": [],
   "source": [
    "wells = dict()\n",
    "for well in range(1,6):\n",
    "    wells[well] = dict()\n",
    "    wells[well]['path'] = prefix + 'demuxing/freemux_outs/by_well/freemux_well%d.clust1.samples' % well\n",
    "    wells[well]['file'] = open(wells[well]['path'], 'w')\n",
    "    wells[well]['file'].write(header)"
   ]
  },
  {
   "cell_type": "code",
   "execution_count": 61,
   "metadata": {},
   "outputs": [],
   "source": [
    "for line in freemux_file.readlines():\n",
    "    well = int(line.split('\\t')[1].split('-')[-1])\n",
    "    wells[well]['file'].write(line)"
   ]
  },
  {
   "cell_type": "code",
   "execution_count": 62,
   "metadata": {},
   "outputs": [],
   "source": [
    "for well in range(1, 6):\n",
    "    wells[well]['file'].close()"
   ]
  },
  {
   "cell_type": "code",
   "execution_count": 63,
   "metadata": {},
   "outputs": [],
   "source": [
    "freemux_file.close()"
   ]
  },
  {
   "cell_type": "code",
   "execution_count": null,
   "metadata": {},
   "outputs": [],
   "source": []
  }
 ],
 "metadata": {
  "kernelspec": {
   "display_name": "clue",
   "language": "python",
   "name": "clue"
  },
  "language_info": {
   "codemirror_mode": {
    "name": "ipython",
    "version": 3
   },
   "file_extension": ".py",
   "mimetype": "text/x-python",
   "name": "python",
   "nbconvert_exporter": "python",
   "pygments_lexer": "ipython3",
   "version": "3.6.10"
  }
 },
 "nbformat": 4,
 "nbformat_minor": 4
}
